{
 "cells": [
  {
   "cell_type": "code",
   "execution_count": 57,
   "metadata": {},
   "outputs": [],
   "source": [
    "from sortedcontainers import SortedList\n",
    "\n",
    "class MyCalendar:\n",
    "\n",
    "    def __init__(self):\n",
    "        self.calendar = SortedList()\n",
    "\n",
    "    def book(self, start: int, end: int) -> bool:\n",
    "        idx = self.calendar.bisect_right((start, end))\n",
    "        if (idx > 0 and self.calendar[idx-1][1] > start) or (idx < len(self.calendar) and self.calendar[idx][0] < end):\n",
    "            return False\n",
    "        self.calendar.add((start, end))\n",
    "        return True"
   ]
  },
  {
   "cell_type": "code",
   "execution_count": 58,
   "metadata": {},
   "outputs": [
    {
     "data": {
      "text/plain": [
       "SortedList([(10, 20), (20, 30)])"
      ]
     },
     "execution_count": 58,
     "metadata": {},
     "output_type": "execute_result"
    }
   ],
   "source": [
    "# Your MyCalendar object will be instantiated and called as such:\n",
    "obj = MyCalendar()\n",
    "obj.book(10,20)\n",
    "#obj.book(15,25)\n",
    "obj.book(20,30)\n",
    "obj.calendar\n",
    "#[\"MyCalendar\", \"book\", \"book\", \"book\"]\n",
    "#[[], [10, 20], [15, 25], [20, 30]]"
   ]
  },
  {
   "cell_type": "code",
   "execution_count": null,
   "metadata": {},
   "outputs": [],
   "source": []
  },
  {
   "cell_type": "code",
   "execution_count": 41,
   "metadata": {},
   "outputs": [],
   "source": [
    "class BinarySearchTreeNode(object):\n",
    "    def __init__(self, val):\n",
    "        self.val = val\n",
    "        self.left = None\n",
    "        self.right = None\n",
    "        self.count = 1\n",
    "        self.leftTreeSize = 0\n",
    "\n",
    "\n",
    "class BinarySearchTree(object):\n",
    "    def __init__(self):\n",
    "        self.root = None\n",
    "\n",
    "    def insert(self, val, root):\n",
    "        if not root:\n",
    "            self.root = BinarySearchTreeNode(val)\n",
    "            return 0\n",
    "\n",
    "        if val == root.val:\n",
    "            root.count += 1\n",
    "            return root.leftTreeSize\n",
    "\n",
    "        if val < root.val:\n",
    "            root.leftTreeSize += 1\n",
    "\n",
    "            if not root.left:\n",
    "                root.left = BinarySearchTreeNode(val)\n",
    "                return 0\n",
    "            return self.insert(val, root.left)\n",
    "\n",
    "        if not root.right:\n",
    "            root.right = BinarySearchTreeNode(val)\n",
    "            return root.count + root.leftTreeSize\n",
    "\n",
    "        return root.count + root.leftTreeSize + self.insert(\n",
    "            val, root.right)\n",
    "\n",
    "\n",
    "class Solution(object):\n",
    "    def countSmaller(self, nums):\n",
    "        tree = BinarySearchTree()\n",
    "        return [\n",
    "            tree.insert(nums[i], tree.root)\n",
    "            for i in range(len(nums) - 1, -1, -1)\n",
    "        ][::-1]"
   ]
  },
  {
   "cell_type": "code",
   "execution_count": 51,
   "metadata": {},
   "outputs": [],
   "source": [
    "import bisect\n",
    "from typing import List\n",
    "\n",
    "class Solution:\n",
    "    def countSmaller(self, nums: List[int]) -> List[int]:\n",
    "        sorted_list, res = [], []\n",
    "        for num in reversed(nums):\n",
    "            res.append(bisect.bisect_left(sorted_list, num))\n",
    "            bisect.insort(sorted_list, num)\n",
    "        return res[::-1]"
   ]
  },
  {
   "cell_type": "code",
   "execution_count": 52,
   "metadata": {},
   "outputs": [
    {
     "data": {
      "text/plain": [
       "[2, 1, 1, 0]"
      ]
     },
     "execution_count": 52,
     "metadata": {},
     "output_type": "execute_result"
    }
   ],
   "source": [
    "nums = [5,2,6,1]\n",
    "#nums = [-1,-1]\n",
    "Solution().countSmaller(nums)"
   ]
  },
  {
   "cell_type": "code",
   "execution_count": 53,
   "metadata": {},
   "outputs": [],
   "source": [
    "from collections import defaultdict\n",
    "\n",
    "result = defaultdict(list)\n"
   ]
  },
  {
   "cell_type": "code",
   "execution_count": null,
   "metadata": {},
   "outputs": [],
   "source": []
  }
 ],
 "metadata": {
  "kernelspec": {
   "display_name": "Python 3.9.13 ('base')",
   "language": "python",
   "name": "python3"
  },
  "language_info": {
   "codemirror_mode": {
    "name": "ipython",
    "version": 3
   },
   "file_extension": ".py",
   "mimetype": "text/x-python",
   "name": "python",
   "nbconvert_exporter": "python",
   "pygments_lexer": "ipython3",
   "version": "3.9.13 (main, Aug 25 2022, 23:51:50) [MSC v.1916 64 bit (AMD64)]"
  },
  "orig_nbformat": 4,
  "vscode": {
   "interpreter": {
    "hash": "fecfa28de78ead09ec2989a580469213059448baba5e0b02aeeb7641afb84221"
   }
  }
 },
 "nbformat": 4,
 "nbformat_minor": 2
}
