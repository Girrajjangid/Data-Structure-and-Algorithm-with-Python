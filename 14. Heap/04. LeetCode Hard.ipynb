{
 "cells": [
  {
   "cell_type": "code",
   "execution_count": 5,
   "metadata": {},
   "outputs": [],
   "source": [
    "from typing import List\n",
    "import heapq\n",
    "import collections\n",
    "import itertools"
   ]
  },
  {
   "attachments": {},
   "cell_type": "markdown",
   "metadata": {},
   "source": [
    "#### 1. [1439]. Find the Kth Smallest Sum of a Matrix With Sorted Rows"
   ]
  },
  {
   "cell_type": "code",
   "execution_count": 45,
   "metadata": {},
   "outputs": [],
   "source": [
    "# Accepted \n",
    "class Solution:\n",
    "    def kthSmallest(self, mat: List[List[int]], k: int) -> int:\n",
    "        first_row = mat[0]\n",
    "        for rest_row in mat[1:]:\n",
    "            first_row = sorted([val_0 + val_n for val_n in rest_row for val_0 in first_row])[:k]\n",
    "        return first_row[-1]"
   ]
  },
  {
   "cell_type": "code",
   "execution_count": 46,
   "metadata": {},
   "outputs": [
    {
     "data": {
      "text/plain": [
       "9"
      ]
     },
     "execution_count": 46,
     "metadata": {},
     "output_type": "execute_result"
    }
   ],
   "source": [
    "mat = [[1,3,11],[2,4,6]]; k = 5\n",
    "mat = [[1,10,10],[1,4,5],[2,3,6]]; k = 7\n",
    "Solution().kthSmallest(mat,k)"
   ]
  },
  {
   "attachments": {},
   "cell_type": "markdown",
   "metadata": {},
   "source": [
    "#### 2. [1675]. Minimize Deviation in Array"
   ]
  },
  {
   "cell_type": "code",
   "execution_count": 142,
   "metadata": {},
   "outputs": [],
   "source": [
    "class Solution:\n",
    "    def minimumDeviation(self, A):\n",
    "        pq = []\n",
    "        for a in A:\n",
    "            heapq.heappush(pq, -a * 2 if a % 2 else -a)\n",
    "        res = float('inf')\n",
    "        mi = -max(pq)\n",
    "        while len(pq) == len(A):\n",
    "            a = -heapq.heappop(pq)\n",
    "            res = min(res, a - mi)\n",
    "            if a % 2 == 0:\n",
    "                mi = min(mi, a / 2)\n",
    "                heapq.heappush(pq, -a / 2)\n",
    "        return int(res)\n"
   ]
  },
  {
   "cell_type": "code",
   "execution_count": 143,
   "metadata": {},
   "outputs": [
    {
     "data": {
      "text/plain": [
       "0"
      ]
     },
     "execution_count": 143,
     "metadata": {},
     "output_type": "execute_result"
    }
   ],
   "source": [
    "nums = [1,2,3,4]\n",
    "nums = [4,1,5,20,3]\n",
    "nums = [2,10,8]\n",
    "nums = [3,5]\n",
    "nums = [4,2]\n",
    "nums = [1,1]\n",
    "Solution().minimumDeviation(nums)"
   ]
  },
  {
   "attachments": {},
   "cell_type": "markdown",
   "metadata": {},
   "source": [
    "#### 3. [632]. Smallest Range Covering Elements from K Lists"
   ]
  },
  {
   "cell_type": "code",
   "execution_count": 9,
   "metadata": {},
   "outputs": [],
   "source": [
    "class Solution:\n",
    "    def smallestRange(self, A):\n",
    "        pq = [(row[0], i, 0) for i, row in enumerate(A)]\n",
    "        heapq.heapify(pq)\n",
    "        \n",
    "        ans = -1e9, 1e9\n",
    "        right = max(row[0] for row in A)\n",
    "        while pq:\n",
    "            left, i, j = heapq.heappop(pq)\n",
    "            if right - left < ans[1] - ans[0]:\n",
    "                ans = left, right\n",
    "            if j + 1 == len(A[i]):\n",
    "                return ans\n",
    "            v = A[i][j+1]\n",
    "            right = max(right, v)\n",
    "            heapq.heappush(pq, (v, i, j+1))"
   ]
  },
  {
   "cell_type": "code",
   "execution_count": 18,
   "metadata": {},
   "outputs": [],
   "source": [
    "class Solution:\n",
    "    def smallestRange(self, nums: List[List[int]]) -> List[int]:\n",
    "        ans = float('-inf'), float('inf')\n",
    "        heap = [[val[0], idx, 0] for idx, val in enumerate(nums)]\n",
    "        heapq.heapify(heap)\n",
    "        right = max(val[0] for val in nums)\n",
    "        while heap:\n",
    "            left, row, col = heapq.heappop(heap)\n",
    "            if right - left < ans[1] - ans[0]:\n",
    "                ans = left, right\n",
    "            if col+1 == len(nums[row]): # we reached to last position\n",
    "                return ans\n",
    "            temp = nums[row][col+1]\n",
    "            right = max(right, temp)\n",
    "            heapq.heappush(heap, [temp, row, col+1])"
   ]
  },
  {
   "cell_type": "code",
   "execution_count": 19,
   "metadata": {},
   "outputs": [
    {
     "data": {
      "text/plain": [
       "(1, 1)"
      ]
     },
     "execution_count": 19,
     "metadata": {},
     "output_type": "execute_result"
    }
   ],
   "source": [
    "nums = [[4,10,15,24,26],[0,9,12,20],[5,18,22,30]]\n",
    "nums = [[1,2,3],[1,2,3],[1,2,3]]\n",
    "Solution().smallestRange(nums)"
   ]
  },
  {
   "attachments": {},
   "cell_type": "markdown",
   "metadata": {},
   "source": [
    "#### 4."
   ]
  },
  {
   "cell_type": "code",
   "execution_count": null,
   "metadata": {},
   "outputs": [],
   "source": []
  },
  {
   "cell_type": "code",
   "execution_count": null,
   "metadata": {},
   "outputs": [],
   "source": []
  },
  {
   "attachments": {},
   "cell_type": "markdown",
   "metadata": {},
   "source": [
    "#### 5. "
   ]
  },
  {
   "cell_type": "code",
   "execution_count": null,
   "metadata": {},
   "outputs": [],
   "source": []
  },
  {
   "cell_type": "code",
   "execution_count": null,
   "metadata": {},
   "outputs": [],
   "source": []
  },
  {
   "cell_type": "code",
   "execution_count": null,
   "metadata": {},
   "outputs": [],
   "source": []
  },
  {
   "cell_type": "code",
   "execution_count": null,
   "metadata": {},
   "outputs": [],
   "source": []
  },
  {
   "cell_type": "code",
   "execution_count": null,
   "metadata": {},
   "outputs": [],
   "source": []
  },
  {
   "cell_type": "code",
   "execution_count": null,
   "metadata": {},
   "outputs": [],
   "source": []
  },
  {
   "cell_type": "code",
   "execution_count": null,
   "metadata": {},
   "outputs": [],
   "source": []
  },
  {
   "cell_type": "code",
   "execution_count": null,
   "metadata": {},
   "outputs": [],
   "source": []
  }
 ],
 "metadata": {
  "kernelspec": {
   "display_name": "base",
   "language": "python",
   "name": "python3"
  },
  "language_info": {
   "codemirror_mode": {
    "name": "ipython",
    "version": 3
   },
   "file_extension": ".py",
   "mimetype": "text/x-python",
   "name": "python",
   "nbconvert_exporter": "python",
   "pygments_lexer": "ipython3",
   "version": "3.9.13"
  },
  "orig_nbformat": 4,
  "vscode": {
   "interpreter": {
    "hash": "fecfa28de78ead09ec2989a580469213059448baba5e0b02aeeb7641afb84221"
   }
  }
 },
 "nbformat": 4,
 "nbformat_minor": 2
}
