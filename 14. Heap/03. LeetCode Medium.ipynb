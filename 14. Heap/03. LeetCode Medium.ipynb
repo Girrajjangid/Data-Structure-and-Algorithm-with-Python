{
 "cells": [
  {
   "cell_type": "code",
   "execution_count": 1,
   "metadata": {},
   "outputs": [],
   "source": [
    "from typing import List\n",
    "import heapq\n",
    "import bisect"
   ]
  },
  {
   "attachments": {},
   "cell_type": "markdown",
   "metadata": {},
   "source": [
    "#### 1. [264]. Ugly Number II"
   ]
  },
  {
   "cell_type": "code",
   "execution_count": 72,
   "metadata": {},
   "outputs": [],
   "source": [
    "class Solution:\n",
    "    def nthUglyNumber(self, n):\n",
    "        ugly = [1]\n",
    "        i2, i3, i5 = 0, 0, 0\n",
    "        while n > 1:\n",
    "            u2, u3, u5 = 2 * ugly[i2], 3 * ugly[i3], 5 * ugly[i5]\n",
    "            umin = min((u2, u3, u5))\n",
    "            if umin == u2:\n",
    "                i2 += 1\n",
    "            if umin == u3:\n",
    "                i3 += 1\n",
    "            if umin == u5:\n",
    "                i5 += 1\n",
    "            ugly.append(umin)\n",
    "            n -= 1\n",
    "        return ugly[-1]"
   ]
  },
  {
   "cell_type": "code",
   "execution_count": 74,
   "metadata": {},
   "outputs": [
    {
     "data": {
      "text/plain": [
       "1536"
      ]
     },
     "execution_count": 74,
     "metadata": {},
     "output_type": "execute_result"
    }
   ],
   "source": [
    "n = 100\n",
    "Solution().nthUglyNumber(n)"
   ]
  },
  {
   "attachments": {},
   "cell_type": "markdown",
   "metadata": {},
   "source": [
    "#### 2 [347]. Top K Frequent Elements"
   ]
  },
  {
   "cell_type": "code",
   "execution_count": 119,
   "metadata": {},
   "outputs": [],
   "source": [
    "from collections import Counter, defaultdict\n",
    "import heapq\n",
    "class Solution:\n",
    "    def topKFrequent(self, nums: List[int], k: int) -> List[int]:\n",
    "        freq_cnt = Counter(nums)\n",
    "        d = defaultdict(list)\n",
    "        for key,val in freq_cnt.items():\n",
    "            d[val].append(key)\n",
    "        freq = [-i for i in list(d.keys())]\n",
    "        heapq.heapify(freq)\n",
    "        remain_element = k\n",
    "        res = []\n",
    "        while remain_element>0:\n",
    "            tmp = d[-heapq.heappop(freq)]\n",
    "            tmpL = len(tmp)\n",
    "            if tmpL>=remain_element:\n",
    "                res.extend(tmp[:remain_element])\n",
    "                break\n",
    "            else:\n",
    "                res.extend(tmp)\n",
    "                remain_element-=tmpL        \n",
    "        return res    "
   ]
  },
  {
   "cell_type": "code",
   "execution_count": 120,
   "metadata": {},
   "outputs": [],
   "source": [
    "from collections import Counter\n",
    "\n",
    "class Solution:\n",
    "    def topKFrequent(self, nums: List[int], k: int) -> List[int]:\n",
    "        k_most_common = Counter(nums).most_common(k)\n",
    "        return [num for num, count in k_most_common]"
   ]
  },
  {
   "cell_type": "code",
   "execution_count": 121,
   "metadata": {},
   "outputs": [
    {
     "data": {
      "text/plain": [
       "[1, 2]"
      ]
     },
     "execution_count": 121,
     "metadata": {},
     "output_type": "execute_result"
    }
   ],
   "source": [
    "nums = [1,1,1,2,2,3]; k = 2\n",
    "nums = [1]; k = 1\n",
    "nums = [1,2]; k = 2\n",
    "Solution().topKFrequent(nums, k)"
   ]
  },
  {
   "attachments": {},
   "cell_type": "markdown",
   "metadata": {},
   "source": [
    "#### 3. [373]. Find K Pairs with Smallest Sums"
   ]
  },
  {
   "cell_type": "code",
   "execution_count": 177,
   "metadata": {},
   "outputs": [],
   "source": [
    "\n",
    "class Solution:\n",
    "    def kSmallestPairs(self, nums1, nums2, k):\n",
    "        res = []\n",
    "        if not nums1 or not nums2 or not k: return res\n",
    "        heap = []\n",
    "        visited = set()\n",
    "        heapq.heappush(heap, (nums1[0] + nums2[0], 0, 0))\n",
    "        visited.add((0, 0))\n",
    "        counter = 0\n",
    "        while counter < k and heap:\n",
    "            print(heap)\n",
    "            _, i, j = heapq.heappop(heap)\n",
    "            res.append([nums1[i], nums2[j]])\n",
    "            counter+=1\n",
    "            \n",
    "            if i+1 < len(nums1) and (i+1, j) not in visited:\n",
    "                heapq.heappush(heap, (nums1[i+1] + nums2[j], i+1, j))\n",
    "                visited.add((i+1, j))\n",
    "            \n",
    "            if j+1 < len(nums2) and (i, j+1) not in visited:\n",
    "                heapq.heappush(heap, (nums1[i] + nums2[j+1], i, j+1))\n",
    "                visited.add((i, j+1))\n",
    "        return res"
   ]
  },
  {
   "cell_type": "code",
   "execution_count": 178,
   "metadata": {},
   "outputs": [
    {
     "name": "stdout",
     "output_type": "stream",
     "text": [
      "[(3, 0, 0)]\n",
      "[(5, 0, 1), (9, 1, 0)]\n",
      "[(7, 0, 2), (11, 1, 1), (9, 1, 0)]\n"
     ]
    },
    {
     "data": {
      "text/plain": [
       "[[1, 2], [1, 4], [1, 6]]"
      ]
     },
     "execution_count": 178,
     "metadata": {},
     "output_type": "execute_result"
    }
   ],
   "source": [
    "nums1 = [1,7,11]; nums2 = [2,4,6]; k = 3\n",
    "#nums1 = [1,1,2]; nums2 = [1,2,3]; k = 2\n",
    "#nums1 = [1,2]; nums2 = [3]; k = 3\n",
    "Solution().kSmallestPairs(nums1, nums2, k)"
   ]
  },
  {
   "cell_type": "code",
   "execution_count": null,
   "metadata": {},
   "outputs": [],
   "source": []
  },
  {
   "attachments": {},
   "cell_type": "markdown",
   "metadata": {},
   "source": [
    "#### 4. [378]. Kth Smallest Element in a Sorted Matrix"
   ]
  },
  {
   "cell_type": "code",
   "execution_count": 188,
   "metadata": {},
   "outputs": [],
   "source": [
    "class Solution:\n",
    "    def kthSmallest(self, matrix: List[List[int]], k: int) -> int:\n",
    "        temp = []\n",
    "        for i in matrix:\n",
    "            temp.extend(i)\n",
    "        heapq.heapify(temp)\n",
    "        while k!=1:\n",
    "            heapq.heappop(temp)\n",
    "            k-=1\n",
    "        return heapq.heappop(temp)\n",
    "        "
   ]
  },
  {
   "cell_type": "code",
   "execution_count": 189,
   "metadata": {},
   "outputs": [],
   "source": [
    "class Solution:\n",
    "    def kthSmallest(self, matrix: List[List[int]], k: int) -> int:\n",
    "        nRow, nCol = len(matrix), len(matrix[0])\n",
    "        visited = [[False for i in range(nCol)] for j in range(nRow)]\n",
    "        heap = []\n",
    "        heapq.heappush(heap, (matrix[0][0], 0, 0))\n",
    "        visited[0][0] = True\n",
    "        for _ in range(k-1):\n",
    "            val, i, j = heapq.heappop(heap)\n",
    "            if i + 1 < nRow and not visited[i+1][j]:\n",
    "                heapq.heappush(heap, (matrix[i+1][j], i+1, j))\n",
    "                visited[i+1][j] = True\n",
    "            if j + 1 < nCol and not visited[i][j+1]:\n",
    "                heapq.heappush(heap, (matrix[i][j+1], i, j+1))\n",
    "                visited[i][j+1] = True\n",
    "        val, i, j = heapq.heappop(heap)\n",
    "        return val"
   ]
  },
  {
   "cell_type": "code",
   "execution_count": 190,
   "metadata": {},
   "outputs": [
    {
     "data": {
      "text/plain": [
       "-5"
      ]
     },
     "execution_count": 190,
     "metadata": {},
     "output_type": "execute_result"
    }
   ],
   "source": [
    "matrix = [[1,5,9],[10,11,13],[12,13,15]]; k = 8\n",
    "matrix = [[-5]]; k = 1\n",
    "Solution().kthSmallest(matrix, k)"
   ]
  },
  {
   "attachments": {},
   "cell_type": "markdown",
   "metadata": {},
   "source": [
    "#### 5. [659]. Split Array into Consecutive Subsequences"
   ]
  },
  {
   "cell_type": "code",
   "execution_count": 194,
   "metadata": {},
   "outputs": [],
   "source": [
    "from collections import Counter, defaultdict\n",
    "\n",
    "class Solution:\n",
    "    def isPossible(self, nums: List[int]) -> bool:\n",
    "        counter = Counter(nums)\n",
    "        end = defaultdict(int)\n",
    "        for num in nums:\n",
    "            if counter[num]:\n",
    "                counter[num] -= 1\n",
    "\n",
    "                if end[num-1]:\n",
    "                    end[num]   += 1\n",
    "                    end[num-1] -= 1\n",
    "                elif counter[num+1] and counter[num+2]:\n",
    "                    counter[num+1] -= 1\n",
    "                    counter[num+2] -= 1\n",
    "                    end[num+2] += 1\n",
    "                else:\n",
    "                    return False\n",
    "        return True"
   ]
  },
  {
   "cell_type": "code",
   "execution_count": 195,
   "metadata": {},
   "outputs": [
    {
     "data": {
      "text/plain": [
       "False"
      ]
     },
     "execution_count": 195,
     "metadata": {},
     "output_type": "execute_result"
    }
   ],
   "source": [
    "nums = [1,2,3,3,4,5]\n",
    "nums = [1,2,3,4,4,5]\n",
    "Solution().isPossible(nums)"
   ]
  },
  {
   "attachments": {},
   "cell_type": "markdown",
   "metadata": {},
   "source": [
    "#### 6. [767]. Reorganize String"
   ]
  },
  {
   "cell_type": "code",
   "execution_count": 246,
   "metadata": {},
   "outputs": [],
   "source": [
    "class Solution:\n",
    "    def reorganizeString(self, S):\n",
    "        res, freq = [], Counter(S)\n",
    "        pq = [(-value,key) for key,value in freq.items()]\n",
    "        heapq.heapify(pq)\n",
    "        p_a, p_b = 0, ''\n",
    "        while pq:\n",
    "            a, b = heapq.heappop(pq)\n",
    "            res += [b]\n",
    "            if p_a < 0:\n",
    "                heapq.heappush(pq, (p_a, p_b))\n",
    "            a += 1\n",
    "            p_a, p_b = a, b\n",
    "        res = ''.join(res)\n",
    "        if len(res) != len(S): return \"\"\n",
    "        return res\n",
    "        "
   ]
  },
  {
   "cell_type": "code",
   "execution_count": 247,
   "metadata": {},
   "outputs": [
    {
     "data": {
      "text/plain": [
       "'aba'"
      ]
     },
     "execution_count": 247,
     "metadata": {},
     "output_type": "execute_result"
    }
   ],
   "source": [
    "s = \"aaab\"\n",
    "s = \"aab\"\n",
    "Solution().reorganizeString(s)"
   ]
  },
  {
   "attachments": {},
   "cell_type": "markdown",
   "metadata": {},
   "source": [
    "#### 7. [912]. Sort an Array"
   ]
  },
  {
   "cell_type": "code",
   "execution_count": 267,
   "metadata": {},
   "outputs": [],
   "source": [
    "class Solution:\n",
    "    def sortArray(self, nums: List[int]) -> List[int]:        \n",
    "        h = []\n",
    "        for value in nums: heapq.heappush(h, value)\n",
    "        return [heapq.heappop(h) for i in range(len(h))]"
   ]
  },
  {
   "cell_type": "code",
   "execution_count": 268,
   "metadata": {},
   "outputs": [
    {
     "data": {
      "text/plain": [
       "[0, 0, 1, 1, 2, 5]"
      ]
     },
     "execution_count": 268,
     "metadata": {},
     "output_type": "execute_result"
    }
   ],
   "source": [
    "nums = [5,2,3,1]\n",
    "nums = [5,1,1,2,0,0]\n",
    "Solution().sortArray(nums)"
   ]
  },
  {
   "attachments": {},
   "cell_type": "markdown",
   "metadata": {},
   "source": [
    "#### 8. [1338]. Reduce Array Size to The Half"
   ]
  },
  {
   "cell_type": "code",
   "execution_count": 279,
   "metadata": {},
   "outputs": [],
   "source": [
    "from collections import Counter\n",
    "class Solution:\n",
    "    def minSetSize(self, arr: List[int]) -> int:\n",
    "        length = len(arr)\n",
    "        freq = Counter(arr)\n",
    "        freq = [(-val,key) for key, val in freq.items()]\n",
    "        heapq.heapify(freq)\n",
    "        cnt, ans = 0, 0\n",
    "        while cnt < length//2:\n",
    "            val, key = heapq.heappop(freq)\n",
    "            cnt+=abs(val)\n",
    "            ans+=1\n",
    "        return ans"
   ]
  },
  {
   "cell_type": "code",
   "execution_count": 281,
   "metadata": {},
   "outputs": [
    {
     "data": {
      "text/plain": [
       "1"
      ]
     },
     "execution_count": 281,
     "metadata": {},
     "output_type": "execute_result"
    }
   ],
   "source": [
    "arr = [3,3,3,3,5,5,5,2,2,7]\n",
    "arr = [7,7,7,7,7,7]\n",
    "Solution().minSetSize(arr)"
   ]
  },
  {
   "cell_type": "code",
   "execution_count": 276,
   "metadata": {},
   "outputs": [
    {
     "data": {
      "text/plain": [
       "8"
      ]
     },
     "execution_count": 276,
     "metadata": {},
     "output_type": "execute_result"
    }
   ],
   "source": [
    "l = [10,9,8]\n",
    "heapq.heapify(l)\n",
    "heapq.heappop(l)"
   ]
  },
  {
   "attachments": {},
   "cell_type": "markdown",
   "metadata": {},
   "source": [
    "#### 8. [1438]. Longest Continuous Subarray With Absolute Diff Less Than or Equal to Limit"
   ]
  },
  {
   "cell_type": "code",
   "execution_count": 284,
   "metadata": {},
   "outputs": [],
   "source": [
    "from collections import deque\n",
    "class Solution:\n",
    "    def longestSubarray(self, A: List[int], limit: int) -> int:\n",
    "        maxd = deque()\n",
    "        mind = deque()\n",
    "        i = 0\n",
    "        for a in A:\n",
    "            while len(maxd) and a > maxd[-1]: maxd.pop()\n",
    "            while len(mind) and a < mind[-1]: mind.pop()\n",
    "            maxd.append(a)\n",
    "            mind.append(a)\n",
    "            if maxd[0] - mind[0] > limit:\n",
    "                if maxd[0] == A[i]: maxd.popleft()\n",
    "                if mind[0] == A[i]: mind.popleft()\n",
    "                i += 1\n",
    "        return len(A) - i"
   ]
  },
  {
   "cell_type": "code",
   "execution_count": 285,
   "metadata": {},
   "outputs": [
    {
     "data": {
      "text/plain": [
       "2"
      ]
     },
     "execution_count": 285,
     "metadata": {},
     "output_type": "execute_result"
    }
   ],
   "source": [
    "nums = [8,2,4,7]; limit = 4\n",
    "Solution().longestSubarray(nums, limit)"
   ]
  },
  {
   "attachments": {},
   "cell_type": "markdown",
   "metadata": {},
   "source": [
    "#### 9. [355]. Design Twitter"
   ]
  },
  {
   "cell_type": "code",
   "execution_count": 330,
   "metadata": {},
   "outputs": [],
   "source": [
    "from collections import OrderedDict\n",
    "\n",
    "class Twitter:\n",
    "\n",
    "    def __init__(self):\n",
    "        self.tweetDb = OrderedDict()\n",
    "        self.follows = defaultdict(set)\n",
    "\n",
    "    def postTweet(self, userId: int, tweetId: int) -> None:\n",
    "        self.tweetDb[tweetId] = userId\n",
    "\n",
    "    def getNewsFeed(self, userId: int) -> List[int]:\n",
    "        feed = list(self.tweetDb.keys())[::-1]\n",
    "        res = [val for val in feed if (self.tweetDb[val]==userId) or (self.tweetDb[val] in self.follows[userId])]\n",
    "        return res[:10]\n",
    "\n",
    "    def follow(self, followerId: int, followeeId: int) -> None:\n",
    "        self.follows[followerId].add(followeeId)        \n",
    "\n",
    "    def unfollow(self, followerId: int, followeeId: int) -> None:\n",
    "        self.follows[followerId].discard(followeeId)\n"
   ]
  },
  {
   "cell_type": "code",
   "execution_count": 331,
   "metadata": {},
   "outputs": [
    {
     "data": {
      "text/plain": [
       "[5]"
      ]
     },
     "execution_count": 331,
     "metadata": {},
     "output_type": "execute_result"
    }
   ],
   "source": [
    "obj = Twitter()\n",
    "obj.postTweet(1,5)\n",
    "obj.getNewsFeed(1)\n",
    "obj.follow(1,2)\n",
    "obj.postTweet(2,6)\n",
    "obj.getNewsFeed(1)\n",
    "obj.unfollow(1,2)\n",
    "obj.getNewsFeed(1)"
   ]
  },
  {
   "attachments": {},
   "cell_type": "markdown",
   "metadata": {},
   "source": [
    "#### 10. [786]. K-th Smallest Prime Fraction"
   ]
  },
  {
   "cell_type": "code",
   "execution_count": 358,
   "metadata": {},
   "outputs": [],
   "source": [
    "class Solution:\n",
    "    def kthSmallestPrimeFraction(self, arr: List[int], k: int) -> List[int]:\n",
    "        h = []\n",
    "        for i in range(len(arr)):\n",
    "            for j in range(i+1, len(arr)):\n",
    "                h.append((arr[i]/arr[j], (arr[i],arr[j])))\n",
    "        heapq.heapify(h)\n",
    "        for i in range(k-1):\n",
    "            heapq.heappop(h)\n",
    "        return  heapq.heappop(h)[1]"
   ]
  },
  {
   "cell_type": "code",
   "execution_count": 360,
   "metadata": {},
   "outputs": [
    {
     "data": {
      "text/plain": [
       "(1, 7)"
      ]
     },
     "execution_count": 360,
     "metadata": {},
     "output_type": "execute_result"
    }
   ],
   "source": [
    "arr = [1,2,3,5]; k = 3\n",
    "arr = [1,7]; k = 1\n",
    "Solution().kthSmallestPrimeFraction(arr,k)"
   ]
  },
  {
   "attachments": {},
   "cell_type": "markdown",
   "metadata": {},
   "source": [
    "#### 11. [1405]. Longest Happy String"
   ]
  },
  {
   "cell_type": "code",
   "execution_count": 375,
   "metadata": {},
   "outputs": [],
   "source": [
    "class Solution:\n",
    "    def longestDiverseString(self, a: int, b: int, c: int) -> str:\n",
    "        if a == 0 and b == 0 and c == 0: return ''\n",
    "        res = ''\n",
    "        heap = [(-a, 'a'), (-b, 'b'), (-c, 'c')]\n",
    "        heapq.heapify(heap)\n",
    "        prev_val, prev_char = 0, \"\"        \n",
    "        while heap:\n",
    "            val, char = heapq.heappop(heap)\n",
    "            if prev_val < 0:\n",
    "                heapq.heappush(heap, (prev_val, prev_char))\n",
    "            if abs(val) >= 2:\n",
    "                if abs(val) > abs(prev_val):\n",
    "                    res += char*2\n",
    "                    val += 2\n",
    "                else:\n",
    "                    res += char\n",
    "                    val += 1\n",
    "            elif abs(val) == 1:\n",
    "                res += char\n",
    "                val +=1\n",
    "            elif abs(val) == 0:\n",
    "                break\n",
    "                \n",
    "            prev_val, prev_char = val, char\n",
    "            \n",
    "        return res\n",
    "            "
   ]
  },
  {
   "cell_type": "code",
   "execution_count": 376,
   "metadata": {},
   "outputs": [
    {
     "data": {
      "text/plain": [
       "'ccaccbcc'"
      ]
     },
     "execution_count": 376,
     "metadata": {},
     "output_type": "execute_result"
    }
   ],
   "source": [
    "a = 1; b = 1; c = 7\n",
    "Solution().longestDiverseString(a,b,c)"
   ]
  },
  {
   "attachments": {},
   "cell_type": "markdown",
   "metadata": {},
   "source": [
    "#### 12."
   ]
  },
  {
   "cell_type": "code",
   "execution_count": null,
   "metadata": {},
   "outputs": [],
   "source": []
  },
  {
   "cell_type": "code",
   "execution_count": null,
   "metadata": {},
   "outputs": [],
   "source": []
  },
  {
   "attachments": {},
   "cell_type": "markdown",
   "metadata": {},
   "source": [
    "#### 13."
   ]
  },
  {
   "cell_type": "code",
   "execution_count": null,
   "metadata": {},
   "outputs": [],
   "source": []
  },
  {
   "cell_type": "code",
   "execution_count": null,
   "metadata": {},
   "outputs": [],
   "source": []
  },
  {
   "attachments": {},
   "cell_type": "markdown",
   "metadata": {},
   "source": [
    "#### 14."
   ]
  },
  {
   "cell_type": "code",
   "execution_count": null,
   "metadata": {},
   "outputs": [],
   "source": []
  },
  {
   "cell_type": "code",
   "execution_count": null,
   "metadata": {},
   "outputs": [],
   "source": []
  },
  {
   "cell_type": "code",
   "execution_count": null,
   "metadata": {},
   "outputs": [],
   "source": []
  },
  {
   "cell_type": "code",
   "execution_count": null,
   "metadata": {},
   "outputs": [],
   "source": []
  },
  {
   "cell_type": "code",
   "execution_count": null,
   "metadata": {},
   "outputs": [],
   "source": []
  },
  {
   "cell_type": "code",
   "execution_count": null,
   "metadata": {},
   "outputs": [],
   "source": []
  }
 ],
 "metadata": {
  "kernelspec": {
   "display_name": "base",
   "language": "python",
   "name": "python3"
  },
  "language_info": {
   "codemirror_mode": {
    "name": "ipython",
    "version": 3
   },
   "file_extension": ".py",
   "mimetype": "text/x-python",
   "name": "python",
   "nbconvert_exporter": "python",
   "pygments_lexer": "ipython3",
   "version": "3.9.13"
  },
  "orig_nbformat": 4,
  "vscode": {
   "interpreter": {
    "hash": "fecfa28de78ead09ec2989a580469213059448baba5e0b02aeeb7641afb84221"
   }
  }
 },
 "nbformat": 4,
 "nbformat_minor": 2
}
