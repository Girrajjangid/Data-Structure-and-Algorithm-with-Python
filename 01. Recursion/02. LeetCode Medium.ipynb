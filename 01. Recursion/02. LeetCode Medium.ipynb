{
 "cells": [
  {
   "cell_type": "markdown",
   "metadata": {},
   "source": [
    "#### 03. Find the winner of circular game"
   ]
  },
  {
   "cell_type": "code",
   "execution_count": 92,
   "metadata": {},
   "outputs": [],
   "source": [
    "# Approch 1: Iterative: \n",
    "# Space: O(n)\n",
    "# Time : O(n+n)= O(n)\n",
    "\n",
    "class Solution:\n",
    "    def findTheWinner(self, n: int, k: int) -> int:\n",
    "        a = [*range(1, n+1)]\n",
    "        i=0\n",
    "        remove_idx = k-1 # 1\n",
    "        a.pop(remove_idx)\n",
    "        n-=1 # 4\n",
    "        i+=1 # 1\n",
    "        if not n: return 1 \n",
    "        while n!=1:\n",
    "            remove_idx = remove_idx-1+k # 2, 3, 1\n",
    "            if remove_idx>=n:\n",
    "                remove_idx%=n\n",
    "            print(n,remove_idx,i)\n",
    "            a.pop(remove_idx) \n",
    "            n-=1 # 3, 2, 1\n",
    "            i+=1 # 2, 3, 4\n",
    "        return a[0]"
   ]
  },
  {
   "cell_type": "code",
   "execution_count": 93,
   "metadata": {},
   "outputs": [
    {
     "name": "stdout",
     "output_type": "stream",
     "text": [
      "4 2 1\n",
      "3 0 2\n",
      "2 1 3\n"
     ]
    },
    {
     "data": {
      "text/plain": [
       "3"
      ]
     },
     "execution_count": 93,
     "metadata": {},
     "output_type": "execute_result"
    }
   ],
   "source": [
    "Solution().findTheWinner(5,2)"
   ]
  },
  {
   "cell_type": "code",
   "execution_count": 101,
   "metadata": {},
   "outputs": [],
   "source": [
    "# Approach 2: Recursive\n",
    "# Time  : O(n)\n",
    "# Space : O(n)\n",
    "\n",
    "class Solution:\n",
    "    def findTheWinner(self, n: int, k: int) -> int:\n",
    "        if n==1:\n",
    "            return 1\n",
    "        else:\n",
    "            a = self.findTheWinner(n-1,k)\n",
    "            print(n,k,a)\n",
    "            return  (a+k-1)%n+1"
   ]
  },
  {
   "cell_type": "code",
   "execution_count": 102,
   "metadata": {},
   "outputs": [
    {
     "name": "stdout",
     "output_type": "stream",
     "text": [
      "2 2 1\n",
      "3 2 1\n",
      "4 2 3\n",
      "5 2 1\n"
     ]
    },
    {
     "data": {
      "text/plain": [
       "3"
      ]
     },
     "execution_count": 102,
     "metadata": {},
     "output_type": "execute_result"
    }
   ],
   "source": [
    "Solution().findTheWinner(5,2)"
   ]
  }
 ],
 "metadata": {
  "kernelspec": {
   "display_name": "Python 3.8.8 ('base')",
   "language": "python",
   "name": "python3"
  },
  "language_info": {
   "codemirror_mode": {
    "name": "ipython",
    "version": 3
   },
   "file_extension": ".py",
   "mimetype": "text/x-python",
   "name": "python",
   "nbconvert_exporter": "python",
   "pygments_lexer": "ipython3",
   "version": "3.8.8"
  },
  "orig_nbformat": 4,
  "vscode": {
   "interpreter": {
    "hash": "ad2bdc8ecc057115af97d19610ffacc2b4e99fae6737bb82f5d7fb13d2f2c186"
   }
  }
 },
 "nbformat": 4,
 "nbformat_minor": 2
}
