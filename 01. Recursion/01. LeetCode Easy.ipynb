{
 "cells": [
  {
   "cell_type": "markdown",
   "metadata": {},
   "source": [
    "#### 01. Factorial"
   ]
  },
  {
   "cell_type": "code",
   "execution_count": 2,
   "metadata": {},
   "outputs": [
    {
     "name": "stdout",
     "output_type": "stream",
     "text": [
      "6\n"
     ]
    }
   ],
   "source": [
    "def factorial(n):\n",
    "    return 1 if n<=0 else n*factorial(n-1)\n",
    "\n",
    "print(factorial(int(input(\"Enter positive no. between 1 to 10: \"))))"
   ]
  },
  {
   "cell_type": "markdown",
   "metadata": {},
   "source": [
    "#### 02. Reverse String"
   ]
  },
  {
   "cell_type": "code",
   "execution_count": 11,
   "metadata": {},
   "outputs": [],
   "source": [
    "def important():\n",
    "    if 2>1: return\n",
    "\n",
    "important()"
   ]
  },
  {
   "cell_type": "code",
   "execution_count": 28,
   "metadata": {},
   "outputs": [],
   "source": [
    "# Approach one using simple recurrsion\n",
    "class Solution:\n",
    "    def reverseStringHelper(self, l, r, s):\n",
    "        #1. Base condition\n",
    "        if l>=r: return \n",
    "        \n",
    "        #2. Do first iteration\n",
    "        temp = s[l]\n",
    "        s[l] = s[r]\n",
    "        s[r] = temp\n",
    "        \n",
    "        #3. Recursive calling \n",
    "        self.reverseStringHelper(l+1, r-1, s)\n",
    "        \n",
    "    def reverseString(self, s) -> None:\n",
    "        \"\"\"\n",
    "        Do not return anything, modify s in-place instead.\n",
    "        \"\"\"\n",
    "        self.reverseStringHelper(0, len(s)-1, s)\n",
    "        "
   ]
  },
  {
   "cell_type": "code",
   "execution_count": 29,
   "metadata": {},
   "outputs": [
    {
     "name": "stdout",
     "output_type": "stream",
     "text": [
      "Before:  ['a', 'b', 'c', 'e', 'd']\n",
      "After :  ['d', 'e', 'c', 'b', 'a']\n"
     ]
    }
   ],
   "source": [
    "a = ['a','b','c','e','d']\n",
    "print(\"Before: \", a)\n",
    "Solution().reverseString(a)\n",
    "print(\"After : \", a)"
   ]
  },
  {
   "cell_type": "code",
   "execution_count": 37,
   "metadata": {},
   "outputs": [],
   "source": [
    "# Approch 2 using merge algorithm\n",
    "class Solution(object):\n",
    "    def reverseString(self, s):\n",
    "        l = len(s)\n",
    "        if l < 2:\n",
    "            return s\n",
    "        return self.reverseString(s[int(l/2):]) + self.reverseString(s[:int(l/2)])"
   ]
  },
  {
   "cell_type": "code",
   "execution_count": 54,
   "metadata": {},
   "outputs": [],
   "source": [
    "# Approch 3 using slicing magic function\n",
    "class Solution(object):\n",
    "    def reverseString(self, s):\n",
    "        s[:] = s[::-1]\n",
    "        return s"
   ]
  },
  {
   "cell_type": "code",
   "execution_count": 55,
   "metadata": {},
   "outputs": [
    {
     "name": "stdout",
     "output_type": "stream",
     "text": [
      "Before:  ['a', 'b', 'c', 'e', 'd']\n",
      "After :  ['d', 'e', 'c', 'b', 'a']\n"
     ]
    },
    {
     "data": {
      "text/plain": [
       "True"
      ]
     },
     "execution_count": 55,
     "metadata": {},
     "output_type": "execute_result"
    }
   ],
   "source": [
    "a = ['a','b','c','e','d']\n",
    "print(\"Before: \", a)\n",
    "b = Solution().reverseString(a)\n",
    "print(\"After : \", b)\n",
    "id(a)==id(b)"
   ]
  },
  {
   "cell_type": "markdown",
   "metadata": {},
   "source": [
    "#### 03. Power of Four"
   ]
  },
  {
   "cell_type": "code",
   "execution_count": 83,
   "metadata": {},
   "outputs": [],
   "source": [
    "class Solution:\n",
    "    \n",
    "    def isPowerofFourRecursion(self, n):\n",
    "        # base condition\n",
    "        if n==1.0: return True\n",
    "        if n<1.0: return False\n",
    "        # recursion calling\n",
    "        return self.isPowerofFourRecursion(n/4)\n",
    "\n",
    "    def isPowerOfFour(self, n: int) -> bool:\n",
    "        return self.isPowerofFourRecursion(n)"
   ]
  },
  {
   "cell_type": "code",
   "execution_count": 86,
   "metadata": {},
   "outputs": [
    {
     "name": "stdout",
     "output_type": "stream",
     "text": [
      "False\n"
     ]
    }
   ],
   "source": [
    "a = Solution().isPowerOfFour(15)\n",
    "print(a)"
   ]
  },
  {
   "cell_type": "markdown",
   "metadata": {},
   "source": [
    "#### 04. Power of Two"
   ]
  },
  {
   "cell_type": "code",
   "execution_count": 87,
   "metadata": {},
   "outputs": [],
   "source": [
    "class Solution:\n",
    "    def isPowerOfTwo(self, n: int) -> bool:\n",
    "        if n==1.0: return True\n",
    "        if n<1.0: return False\n",
    "        return self.isPowerOfTwo(n/2)"
   ]
  },
  {
   "cell_type": "code",
   "execution_count": 88,
   "metadata": {},
   "outputs": [
    {
     "name": "stdout",
     "output_type": "stream",
     "text": [
      "False\n"
     ]
    }
   ],
   "source": [
    "a = Solution().isPowerOfTwo(15)\n",
    "print(a)"
   ]
  },
  {
   "cell_type": "code",
   "execution_count": 89,
   "metadata": {},
   "outputs": [],
   "source": [
    "class Solution:\n",
    "    def isPowerOfTwo(self, n: int) -> bool:\n",
    "        return n>0 and (n&(n-1))==0\n"
   ]
  },
  {
   "cell_type": "code",
   "execution_count": 139,
   "metadata": {},
   "outputs": [],
   "source": [
    "#  n      n    n-2   n&(n-1)\n",
    "# --   ----   ----   -------\n",
    "#  0   0000   0000    0000 *\n",
    "#  1   0001   0001    0000 *\n",
    "#  2   0010   0010    0000 *\n",
    "#  3   0011   0011    0010\n",
    "#  4   0100   0100    0000 *\n",
    "#  5   0101   0100    0100\n",
    "#  6   0110   0101    0100\n",
    "#  7   0111   0110    0110\n",
    "#  8   1000   0111    0000 *\n",
    "#  9   1001   1000    1000\n",
    "# 10   1010   1001    1000\n",
    "# 11   1011   1010    1010\n",
    "# 12   1100   1011    1000\n",
    "# 13   1101   1100    1100\n",
    "# 14   1110   1101    1100\n",
    "# 15   1111   1110    1110"
   ]
  },
  {
   "cell_type": "code",
   "execution_count": 90,
   "metadata": {},
   "outputs": [
    {
     "name": "stdout",
     "output_type": "stream",
     "text": [
      "False\n"
     ]
    }
   ],
   "source": [
    "a = Solution().isPowerOfTwo(15)\n",
    "print(a)"
   ]
  },
  {
   "cell_type": "markdown",
   "metadata": {},
   "source": [
    "#### 05. Power of Three"
   ]
  },
  {
   "cell_type": "code",
   "execution_count": 138,
   "metadata": {},
   "outputs": [],
   "source": [
    "class Solution:\n",
    "    def isPowerOfThree(self, n: int) -> bool:\n",
    "        return n>0 and (3**31)%n==0\n",
    "        "
   ]
  },
  {
   "cell_type": "code",
   "execution_count": 140,
   "metadata": {},
   "outputs": [
    {
     "name": "stdout",
     "output_type": "stream",
     "text": [
      "False\n"
     ]
    }
   ],
   "source": [
    "a = Solution().isPowerOfThree(15)\n",
    "print(a)"
   ]
  },
  {
   "cell_type": "markdown",
   "metadata": {},
   "source": [
    "#### 06. Pow of X\n",
    "Implement pow(x, n), which calculates x raised to the power n (i.e., xn)."
   ]
  },
  {
   "cell_type": "code",
   "execution_count": 173,
   "metadata": {},
   "outputs": [],
   "source": [
    "class Solution:\n",
    "    def myPowRecursion(self, x,n):\n",
    "        if n==0: return 1\n",
    "        if n%2:\n",
    "            return x * self.myPowRecursion(x, n-1)\n",
    "        return self.myPowRecursion(x*x, n/2)\n",
    "        \n",
    "    def myPow(self, x: float, n: int) -> float:\n",
    "        if n<0:\n",
    "            return 1/self.myPowRecursion(x, -n)\n",
    "        else:\n",
    "            return self.myPowRecursion(x, n)"
   ]
  },
  {
   "cell_type": "code",
   "execution_count": 174,
   "metadata": {},
   "outputs": [
    {
     "name": "stdout",
     "output_type": "stream",
     "text": [
      "1024.0\n",
      "9.261000000000001\n",
      "0.25\n"
     ]
    }
   ],
   "source": [
    "print(Solution().myPow(2.00000, 10))\n",
    "print(Solution().myPow(2.10000, 3))\n",
    "print(Solution().myPow(2.00000, -2))\n",
    "\n"
   ]
  },
  {
   "cell_type": "code",
   "execution_count": 172,
   "metadata": {},
   "outputs": [
    {
     "data": {
      "text/plain": [
       "1"
      ]
     },
     "execution_count": 172,
     "metadata": {},
     "output_type": "execute_result"
    }
   ],
   "source": [
    "a = 1024\n",
    "a>>=10\n",
    "a"
   ]
  },
  {
   "cell_type": "markdown",
   "metadata": {},
   "source": [
    "#### 07. Super Pow"
   ]
  },
  {
   "cell_type": "code",
   "execution_count": 198,
   "metadata": {},
   "outputs": [],
   "source": [
    "# This approch will through recursive overflow error.\n",
    "class Solution:\n",
    "    def superPowRecursion(self, a, b):\n",
    "        if not b: return 1\n",
    "        if b==1: return a\n",
    "        if b%2:\n",
    "            return a*self.superPowRecursion(a, b-1)\n",
    "        return self.superPowRecursion(a*a, b/2)\n",
    "\n",
    "    def superPow(self, a: int, b) -> int:\n",
    "        b = int(\"\".join(map(str,b)))\n",
    "        return self.superPowRecursion(a,b)%1337"
   ]
  },
  {
   "cell_type": "code",
   "execution_count": 202,
   "metadata": {},
   "outputs": [
    {
     "name": "stdout",
     "output_type": "stream",
     "text": [
      "8\n",
      "1024\n",
      "1\n"
     ]
    }
   ],
   "source": [
    "print(Solution().superPow(2, [3]))\n",
    "print(Solution().superPow(2, [1,0]))\n",
    "print(Solution().superPow(1, [4,3,3,8,5,2]))"
   ]
  },
  {
   "cell_type": "code",
   "execution_count": 219,
   "metadata": {},
   "outputs": [],
   "source": [
    "# Approch 2\n",
    "# \n",
    "class Solution:\n",
    "\n",
    "    def power_helper(self, a, b): \n",
    "        # Calculate power when b is in 0<b<10 \n",
    "        if not b: return 1\n",
    "        if b==1: return a\n",
    "        if b%2:\n",
    "            return a*self.power_helper(a, b-1)\n",
    "        return self.power_helper(a*a, b/2)\n",
    "\n",
    "    def superPow(self, a: int, b) -> int:\n",
    "        # length of b is 0\n",
    "        if not b: return 1\n",
    "        if len(b)==1: return self.power_helper(a, b[0]) % 1337\n",
    "        return self.superPow(self.superPow(a, b[:-1]), [10])  * self.superPow(a, b[-1:]) % 1337 \n",
    "        "
   ]
  },
  {
   "cell_type": "code",
   "execution_count": 220,
   "metadata": {},
   "outputs": [
    {
     "name": "stdout",
     "output_type": "stream",
     "text": [
      "8\n",
      "1024\n",
      "1\n"
     ]
    }
   ],
   "source": [
    "print(Solution().superPow(2, [3]))\n",
    "print(Solution().superPow(2, [1,0]))\n",
    "print(Solution().superPow(1, [4,3,3,8,5,2]))"
   ]
  }
 ],
 "metadata": {
  "kernelspec": {
   "display_name": "Python 3.8.8 ('base')",
   "language": "python",
   "name": "python3"
  },
  "language_info": {
   "codemirror_mode": {
    "name": "ipython",
    "version": 3
   },
   "file_extension": ".py",
   "mimetype": "text/x-python",
   "name": "python",
   "nbconvert_exporter": "python",
   "pygments_lexer": "ipython3",
   "version": "3.8.8"
  },
  "orig_nbformat": 4,
  "vscode": {
   "interpreter": {
    "hash": "ad2bdc8ecc057115af97d19610ffacc2b4e99fae6737bb82f5d7fb13d2f2c186"
   }
  }
 },
 "nbformat": 4,
 "nbformat_minor": 2
}
