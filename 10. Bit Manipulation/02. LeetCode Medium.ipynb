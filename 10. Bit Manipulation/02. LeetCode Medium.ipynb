{
 "cells": [
  {
   "cell_type": "code",
   "execution_count": 27,
   "metadata": {},
   "outputs": [],
   "source": [
    "from typing import List"
   ]
  },
  {
   "cell_type": "markdown",
   "metadata": {},
   "source": [
    "#### 1. Concatenation of Consecutive Binary Numbers\n"
   ]
  },
  {
   "cell_type": "code",
   "execution_count": null,
   "metadata": {},
   "outputs": [],
   "source": [
    "class Solution:\n",
    "    def concatenatedBinary(self, n: int) -> int:\n",
    "        s = 0\n",
    "        for i in range(1, n+1):\n",
    "            s = (s << i.bit_length() | i) % 1000000007\n",
    "        return s"
   ]
  },
  {
   "cell_type": "code",
   "execution_count": null,
   "metadata": {},
   "outputs": [],
   "source": [
    "Solution().concatenatedBinary(12)"
   ]
  },
  {
   "attachments": {},
   "cell_type": "markdown",
   "metadata": {},
   "source": [
    "#### 2. [2433]. Find The Original Array of Prefix Xor"
   ]
  },
  {
   "cell_type": "code",
   "execution_count": 66,
   "metadata": {},
   "outputs": [],
   "source": [
    "class Solution:\n",
    "    def findArray(self, pref: List[int]) -> List[int]:\n",
    "        res = []\n",
    "        x = 0\n",
    "        for val in pref:\n",
    "            new_x = x ^ val\n",
    "            x = x ^ new_x\n",
    "            res.append(new_x)    \n",
    "        return res"
   ]
  },
  {
   "cell_type": "code",
   "execution_count": 67,
   "metadata": {},
   "outputs": [],
   "source": [
    "from operator import xor\n",
    "class Solution:\n",
    "    def findArray(self, A):\n",
    "        return list(map(xor, A, [0] + A[:-1]))"
   ]
  },
  {
   "cell_type": "code",
   "execution_count": 68,
   "metadata": {},
   "outputs": [
    {
     "data": {
      "text/plain": [
       "[13]"
      ]
     },
     "execution_count": 68,
     "metadata": {},
     "output_type": "execute_result"
    }
   ],
   "source": [
    "pref = [5,2,0,3,1]\n",
    "pref = [13]\n",
    "Solution().findArray(pref)"
   ]
  },
  {
   "attachments": {},
   "cell_type": "markdown",
   "metadata": {},
   "source": [
    "#### 3. [1442]. Count Triplets That Can Form Two Arrays of Equal XOR"
   ]
  },
  {
   "cell_type": "code",
   "execution_count": 3,
   "metadata": {},
   "outputs": [],
   "source": [
    "class Solution:\n",
    "    def countTriplets(self, A):\n",
    "        res = cur = 0\n",
    "        count = {0: [1, 0]}\n",
    "        for i, a in enumerate(A):\n",
    "            cur ^= a\n",
    "            n, total = count.get(cur, [0, 0])\n",
    "            res += i * n - total\n",
    "            count[cur] = [n + 1, total + i + 1]\n",
    "        return res\n",
    "            "
   ]
  },
  {
   "cell_type": "code",
   "execution_count": 4,
   "metadata": {},
   "outputs": [
    {
     "data": {
      "text/plain": [
       "4"
      ]
     },
     "execution_count": 4,
     "metadata": {},
     "output_type": "execute_result"
    }
   ],
   "source": [
    "arr = [2,3,1,6,7]\n",
    "Solution().countTriplets(arr)"
   ]
  },
  {
   "attachments": {},
   "cell_type": "markdown",
   "metadata": {},
   "source": [
    "#### 4. Get Maximum XOR"
   ]
  },
  {
   "cell_type": "code",
   "execution_count": 42,
   "metadata": {},
   "outputs": [],
   "source": [
    "class Solution:\n",
    "    def getMaximumXor(self, nums: List[int], maximumBit: int) -> List[int]:\n",
    "        cond = 2**maximumBit-1\n",
    "        res = 0\n",
    "        ans = []\n",
    "        for val in nums:\n",
    "            res = res ^ val\n",
    "            ans.append(res^cond)\n",
    "        return ans[::-1]"
   ]
  },
  {
   "cell_type": "code",
   "execution_count": 43,
   "metadata": {},
   "outputs": [
    {
     "data": {
      "text/plain": [
       "[0, 3, 2, 3]"
      ]
     },
     "execution_count": 43,
     "metadata": {},
     "output_type": "execute_result"
    }
   ],
   "source": [
    "nums = [0,1,1,3]; maximumBit = 2\n",
    "#nums = [2,3,4,7]; maximumBit = 3\n",
    "Solution().getMaximumXor(nums, maximumBit)"
   ]
  },
  {
   "attachments": {},
   "cell_type": "markdown",
   "metadata": {},
   "source": [
    "#### 5. [287]. Find the Duplicate Number"
   ]
  },
  {
   "cell_type": "code",
   "execution_count": 74,
   "metadata": {},
   "outputs": [],
   "source": [
    "from collections import defaultdict\n",
    "\n",
    "class Solution:\n",
    "    def findDuplicate(self, nums: List[int]) -> int:\n",
    "        d = defaultdict(int)\n",
    "        for val in nums:\n",
    "            if d.get(val,-1)>0: return val\n",
    "            d[val] +=1\n",
    "        #print(d)"
   ]
  },
  {
   "cell_type": "code",
   "execution_count": 75,
   "metadata": {},
   "outputs": [],
   "source": [
    "class Solution:\n",
    "    def findDuplicate(self, nums):\n",
    "        slow, fast = nums[0], nums[0]\n",
    "        while True:\n",
    "            slow, fast = nums[slow], nums[nums[fast]]\n",
    "            if slow == fast: break\n",
    "        slow = nums[0]\n",
    "        while slow != fast:\n",
    "            slow, fast = nums[slow], nums[fast]\n",
    "        return slow"
   ]
  },
  {
   "cell_type": "code",
   "execution_count": 76,
   "metadata": {},
   "outputs": [
    {
     "data": {
      "text/plain": [
       "2"
      ]
     },
     "execution_count": 76,
     "metadata": {},
     "output_type": "execute_result"
    }
   ],
   "source": [
    "nums = [1,3,4,2,2]\n",
    "#nums = [3,1,3,4,2]\n",
    "Solution().findDuplicate(nums)"
   ]
  },
  {
   "attachments": {},
   "cell_type": "markdown",
   "metadata": {},
   "source": [
    "#### 6. Single Number II"
   ]
  },
  {
   "cell_type": "code",
   "execution_count": 180,
   "metadata": {},
   "outputs": [],
   "source": [
    "class Solution:\n",
    "    def singleNumber(self, nums: List[int]) -> int:\n",
    "        return (sum(list(set(nums))*3)-sum(nums))//2"
   ]
  },
  {
   "cell_type": "code",
   "execution_count": 181,
   "metadata": {},
   "outputs": [],
   "source": [
    "class Solution:\n",
    "    def singleNumber(self, nums):\n",
    "        res = 0\n",
    "        for i in range(32):\n",
    "            count = 0\n",
    "            for n in nums:\n",
    "                count += (n >> i) & 1 # Check whether one present or not at last bit.\n",
    "            rem = count % 3\n",
    "            if i == 31 and rem:  # must handle the negative case\n",
    "                res -= 1 << 31\n",
    "            else:\n",
    "                res |= rem << i\n",
    "        return res"
   ]
  },
  {
   "cell_type": "code",
   "execution_count": 182,
   "metadata": {},
   "outputs": [
    {
     "data": {
      "text/plain": [
       "3"
      ]
     },
     "execution_count": 182,
     "metadata": {},
     "output_type": "execute_result"
    }
   ],
   "source": [
    "nums = [2,2,3,2]\n",
    "Solution().singleNumber(nums)"
   ]
  },
  {
   "attachments": {},
   "cell_type": "markdown",
   "metadata": {},
   "source": [
    "#### 7. [1310]. XOR Queries of a Subarray"
   ]
  },
  {
   "cell_type": "code",
   "execution_count": 185,
   "metadata": {},
   "outputs": [],
   "source": [
    "# A Xor A = 0;\n",
    "# A Xor 0 = A;\n",
    "\n",
    "# Xor[0, i] ^ Xor [i, j] = Xor [0, j]\n",
    "# Xor[0, i] ^ Xor [i, j] ^ Xor[0, i] = Xor[0, j] ^ Xor[0, i];\n",
    "# Xor[i, j] = Xor[0, j] ^ Xor[0, i];\n",
    "\n",
    "class Solution:\n",
    "            \n",
    "    def xorQueries(self, arr: List[int], queries: List[List[int]]) -> List[int]:\n",
    "        for i in range(len(arr)-1):\n",
    "            arr[i+1] ^= arr[i]\n",
    "        return [arr[right] ^ arr[left-1] if left else arr[right] for left, right in queries]"
   ]
  },
  {
   "cell_type": "code",
   "execution_count": 186,
   "metadata": {},
   "outputs": [
    {
     "data": {
      "text/plain": [
       "[2, 7, 14, 8]"
      ]
     },
     "execution_count": 186,
     "metadata": {},
     "output_type": "execute_result"
    }
   ],
   "source": [
    "arr = [1,3,4,8]; queries = [[0,1],[1,2],[0,3],[3,3]]\n",
    "Solution().xorQueries(arr, queries)"
   ]
  },
  {
   "attachments": {},
   "cell_type": "markdown",
   "metadata": {},
   "source": [
    "#### 8. [1525]. Number of Good Ways to Split a String"
   ]
  },
  {
   "cell_type": "code",
   "execution_count": 187,
   "metadata": {},
   "outputs": [],
   "source": [
    "# TLE Error:\n",
    "class Solution:\n",
    "    def numSplits(self, s: str) -> int:\n",
    "        ans = 0\n",
    "        for i in range(len(s)-1):\n",
    "            if len(set(s[:i+1]))==len(set(s[i+1:])):\n",
    "                ans+=1\n",
    "        return ans"
   ]
  },
  {
   "cell_type": "code",
   "execution_count": 188,
   "metadata": {},
   "outputs": [],
   "source": [
    "from collections import defaultdict\n",
    "\n",
    "class Solution:\n",
    "    def numSplits(self, s: str) -> int:\n",
    "        leftD, rightD  = defaultdict(int), defaultdict(int)\n",
    "        ans = 0\n",
    "        for val in s: rightD[val]+=1\n",
    "        leftUnique, rightUnique = 0, len(rightD.keys())\n",
    "        for val in s:\n",
    "            if leftD.get(val, -1) < 0: \n",
    "                leftUnique+=1\n",
    "                leftD[val] = 1\n",
    "            else: \n",
    "                leftD[val] += 1 \n",
    "            rightD[val]-=1\n",
    "            if rightD[val]<=0: rightUnique-=1\n",
    "            if leftUnique==rightUnique: ans+=1\n",
    "        return ans"
   ]
  },
  {
   "cell_type": "code",
   "execution_count": 189,
   "metadata": {},
   "outputs": [
    {
     "data": {
      "text/plain": [
       "1"
      ]
     },
     "execution_count": 189,
     "metadata": {},
     "output_type": "execute_result"
    }
   ],
   "source": [
    "s = \"aacaba\"\n",
    "s = \"abcd\"\n",
    "Solution().numSplits(s)"
   ]
  },
  {
   "attachments": {},
   "cell_type": "markdown",
   "metadata": {},
   "source": [
    "#### 9. [260]. Single Number III"
   ]
  },
  {
   "cell_type": "code",
   "execution_count": 214,
   "metadata": {},
   "outputs": [],
   "source": [
    "from collections import Counter\n",
    "\n",
    "class Solution:\n",
    "    def singleNumber(self, nums: List[int]) -> List[int]:\n",
    "        target = sum(set(nums))*2 - sum(nums)\n",
    "        freq = Counter(nums)\n",
    "        seen = {}\n",
    "        for idx, val in enumerate(nums):\n",
    "            remaining = target - nums[idx]\n",
    "            if remaining in seen and freq[remaining]==1:\n",
    "                return [val, remaining]\n",
    "            else:\n",
    "                seen[val] = idx        "
   ]
  },
  {
   "cell_type": "code",
   "execution_count": 247,
   "metadata": {},
   "outputs": [],
   "source": [
    "from functools import reduce\n",
    "from operator import xor\n",
    "\n",
    "class Solution:\n",
    "    def singleNumber(self, nums):\n",
    "        s = reduce(xor, nums)\n",
    "        nz = s & (s-1) ^ s\n",
    "        num1 = reduce(xor, filter(lambda n: n & nz, nums))\n",
    "        return(num1, s ^ num1)"
   ]
  },
  {
   "cell_type": "code",
   "execution_count": 248,
   "metadata": {},
   "outputs": [
    {
     "data": {
      "text/plain": [
       "(3, 5)"
      ]
     },
     "execution_count": 248,
     "metadata": {},
     "output_type": "execute_result"
    }
   ],
   "source": [
    "nums = [1,2,1,3,2,5]\n",
    "#nums = [-1,0]\n",
    "#nums = [0,1]\n",
    "#nums = [0,1,1,2]\n",
    "Solution().singleNumber(nums)"
   ]
  },
  {
   "attachments": {},
   "cell_type": "markdown",
   "metadata": {},
   "source": [
    "#### 10."
   ]
  },
  {
   "cell_type": "code",
   "execution_count": null,
   "metadata": {},
   "outputs": [],
   "source": []
  },
  {
   "cell_type": "code",
   "execution_count": null,
   "metadata": {},
   "outputs": [],
   "source": []
  },
  {
   "cell_type": "code",
   "execution_count": null,
   "metadata": {},
   "outputs": [],
   "source": []
  },
  {
   "cell_type": "code",
   "execution_count": null,
   "metadata": {},
   "outputs": [],
   "source": []
  }
 ],
 "metadata": {
  "kernelspec": {
   "display_name": "base",
   "language": "python",
   "name": "python3"
  },
  "language_info": {
   "codemirror_mode": {
    "name": "ipython",
    "version": 3
   },
   "file_extension": ".py",
   "mimetype": "text/x-python",
   "name": "python",
   "nbconvert_exporter": "python",
   "pygments_lexer": "ipython3",
   "version": "3.9.13"
  },
  "orig_nbformat": 4,
  "vscode": {
   "interpreter": {
    "hash": "fecfa28de78ead09ec2989a580469213059448baba5e0b02aeeb7641afb84221"
   }
  }
 },
 "nbformat": 4,
 "nbformat_minor": 2
}
