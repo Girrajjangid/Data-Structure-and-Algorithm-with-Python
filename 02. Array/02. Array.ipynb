{
 "cells": [
  {
   "cell_type": "code",
   "execution_count": 10,
   "metadata": {},
   "outputs": [
    {
     "name": "stdout",
     "output_type": "stream",
     "text": [
      "Access element is:  1\n",
      "Access element is:  4\n",
      "Access element is:  3.2\n",
      "Access element is:  3.3\n"
     ]
    }
   ],
   "source": [
    "# importing array module\n",
    "import array as arr\n",
    " \n",
    "# array with int type\n",
    "# It is homogoenous; same type of elements can be stored\n",
    "a = arr.array('i', [1, 2, 3, 4, 5, 6]) # 'i' defining the array data type\n",
    " \n",
    "# accessing element of array\n",
    "print(\"Access element is: \", a[0])\n",
    " \n",
    "# accessing element of array\n",
    "print(\"Access element is: \", a[3])\n",
    " \n",
    "# array with float type\n",
    "b = arr.array('d', [2.5, 3.2, 3.3])\n",
    " \n",
    "# accessing element of array\n",
    "print(\"Access element is: \", b[1])\n",
    " \n",
    "# accessing element of array\n",
    "print(\"Access element is: \", b[2])"
   ]
  },
  {
   "cell_type": "code",
   "execution_count": 19,
   "metadata": {},
   "outputs": [],
   "source": [
    "# Almost same like list: same functions"
   ]
  },
  {
   "cell_type": "code",
   "execution_count": null,
   "metadata": {},
   "outputs": [],
   "source": []
  }
 ],
 "metadata": {
  "kernelspec": {
   "display_name": "Python 3.8.8 ('base')",
   "language": "python",
   "name": "python3"
  },
  "language_info": {
   "codemirror_mode": {
    "name": "ipython",
    "version": 3
   },
   "file_extension": ".py",
   "mimetype": "text/x-python",
   "name": "python",
   "nbconvert_exporter": "python",
   "pygments_lexer": "ipython3",
   "version": "3.8.8"
  },
  "orig_nbformat": 4,
  "vscode": {
   "interpreter": {
    "hash": "ad2bdc8ecc057115af97d19610ffacc2b4e99fae6737bb82f5d7fb13d2f2c186"
   }
  }
 },
 "nbformat": 4,
 "nbformat_minor": 2
}
