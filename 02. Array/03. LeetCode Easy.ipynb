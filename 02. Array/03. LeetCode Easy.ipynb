{
 "cells": [
  {
   "cell_type": "markdown",
   "metadata": {},
   "source": [
    "#### 1. Two sum"
   ]
  },
  {
   "cell_type": "code",
   "execution_count": 203,
   "metadata": {},
   "outputs": [],
   "source": [
    "from typing import List, Dict"
   ]
  },
  {
   "cell_type": "code",
   "execution_count": 31,
   "metadata": {},
   "outputs": [],
   "source": [
    "class Solution:\n",
    "    def twoSum(self, nums, target: int) :\n",
    "        def find_index(l,r,num2):\n",
    "            if nums[l]==num2: return l\n",
    "            if nums[r]==num2: return r\n",
    "            if l==r: return None\n",
    "            if l<r:\n",
    "                m = (l+r)//2\n",
    "            x = find_index(l,m,num2)\n",
    "            if x: return x\n",
    "            x = find_index(m+1,r,num2)\n",
    "            if x: return x\n",
    "\n",
    "        sums = 0\n",
    "        length = len(nums)\n",
    "        for idx, i in enumerate(nums):\n",
    "            num1 = i\n",
    "            num2 = target-num1\n",
    "            l,r = idx+1, length-1\n",
    "            x = find_index(l,r,num2)\n",
    "            if x:\n",
    "                return [idx,x]    "
   ]
  },
  {
   "cell_type": "code",
   "execution_count": 39,
   "metadata": {},
   "outputs": [
    {
     "data": {
      "text/plain": [
       "[0, 1]"
      ]
     },
     "execution_count": 39,
     "metadata": {},
     "output_type": "execute_result"
    }
   ],
   "source": [
    "Solution().twoSum([-12, -34, -123, 35, 65], -12-34)"
   ]
  },
  {
   "cell_type": "code",
   "execution_count": 47,
   "metadata": {},
   "outputs": [],
   "source": [
    "class Solution:\n",
    "    def twoSum(self, nums, target):\n",
    "        seen = {}\n",
    "        for i, value in enumerate(nums):\n",
    "            remaining = target - nums[i]\n",
    "            if remaining in seen:\n",
    "                return [i, seen[remaining]]\n",
    "            else:\n",
    "                seen[value] = i\n"
   ]
  },
  {
   "cell_type": "code",
   "execution_count": 48,
   "metadata": {},
   "outputs": [
    {
     "data": {
      "text/plain": [
       "[3, 0]"
      ]
     },
     "execution_count": 48,
     "metadata": {},
     "output_type": "execute_result"
    }
   ],
   "source": [
    "Solution().twoSum([2,1,5,2], 4)"
   ]
  },
  {
   "cell_type": "markdown",
   "metadata": {},
   "source": [
    "#### 2. Best time to sell and buy"
   ]
  },
  {
   "cell_type": "code",
   "execution_count": 65,
   "metadata": {},
   "outputs": [],
   "source": [
    "class Solution:\n",
    "    def maxProfit(self, prices):\n",
    "        max_pro = 0\n",
    "        for idx, i in enumerate(prices[:-1]):\n",
    "            max_ = [j-i for j in prices[idx:] if j>i]\n",
    "            max_ = max(max_) if max_ else 0  \n",
    "            max_pro = max_ if max_pro<max_ else max_pro\n",
    "        return max_pro"
   ]
  },
  {
   "cell_type": "code",
   "execution_count": 80,
   "metadata": {},
   "outputs": [],
   "source": [
    "class Solution:\n",
    "    def maxProfit(self, prices):\n",
    "        max_profit, min_price = 0, float('inf')\n",
    "        for price in prices:\n",
    "            min_price = min(min_price, price)\n",
    "            profit = price - min_price\n",
    "            max_profit = max(max_profit, profit)\n",
    "        return max_profit"
   ]
  },
  {
   "cell_type": "code",
   "execution_count": null,
   "metadata": {},
   "outputs": [],
   "source": [
    "class Solution:\n",
    "    def maxProfit(self, prices):    \n",
    "        minimum = prices[0]\n",
    "        maxProfit = 0        \n",
    "        for num in prices:\n",
    "            if num < minimum:\n",
    "                minimum = num\n",
    "                continue\n",
    "            profit = num - minimum\n",
    "            if profit > maxProfit:\n",
    "                maxProfit = profit\n",
    "        return maxProfit"
   ]
  },
  {
   "cell_type": "code",
   "execution_count": 81,
   "metadata": {},
   "outputs": [
    {
     "data": {
      "text/plain": [
       "5"
      ]
     },
     "execution_count": 81,
     "metadata": {},
     "output_type": "execute_result"
    }
   ],
   "source": [
    "Solution().maxProfit([7,1,5,3,6,4])"
   ]
  },
  {
   "cell_type": "code",
   "execution_count": null,
   "metadata": {},
   "outputs": [],
   "source": []
  },
  {
   "cell_type": "markdown",
   "metadata": {},
   "source": [
    "#### 3. Merge sort"
   ]
  },
  {
   "cell_type": "code",
   "execution_count": 106,
   "metadata": {},
   "outputs": [],
   "source": [
    "class Solution:\n",
    "\n",
    "    def quick_sort(self, array, left_idx, right_idx):\n",
    "        i_counter = left_idx-1\n",
    "        pivot_element = array[right_idx]\n",
    "        for j_counter in range(left_idx, right_idx):\n",
    "            if array[j_counter]<=pivot_element:\n",
    "                i_counter+=1\n",
    "                array[i_counter], array[j_counter] = array[j_counter], array[i_counter]\n",
    "        array[right_idx], array[i_counter+1] = array[i_counter+1], array[right_idx]\n",
    "        return i_counter+1\n",
    "\n",
    "    def divide_and_conquour(self, array, left_idx, right_idx):\n",
    "        if left_idx<right_idx:\n",
    "            middle_idx = self.quick_sort(array, left_idx, right_idx)\n",
    "            self.divide_and_conquour(array, left_idx, middle_idx-1)\n",
    "            self.divide_and_conquour(array, middle_idx+1, right_idx)\n",
    "        else:\n",
    "            return\n",
    "\n",
    "\n",
    "    def merge(self, nums1, m: int, nums2,  n) -> None:\n",
    "        \"\"\"\n",
    "        Do not return anything, modify nums1 in-place instead.\n",
    "        \"\"\"\n",
    "        nums1[m:m+n] = nums2[:n]\n",
    "        self.divide_and_conquour(nums1,0, len(nums1)-1)        \n"
   ]
  },
  {
   "cell_type": "code",
   "execution_count": 107,
   "metadata": {},
   "outputs": [
    {
     "name": "stdout",
     "output_type": "stream",
     "text": [
      "[1, 2, 2, 3, 5, 6]\n",
      "[1]\n",
      "[1]\n"
     ]
    }
   ],
   "source": [
    "num1 = [1,2,3,0,0,0]\n",
    "Solution().merge(num1, 3,[2,5,6],3)\n",
    "print(num1)\n",
    "num1 = [1]\n",
    "Solution().merge(num1, 1, [],0)\n",
    "print(num1)\n",
    "num1 = [0]\n",
    "Solution().merge(num1, 0, [1],1)\n",
    "print(num1)"
   ]
  },
  {
   "cell_type": "code",
   "execution_count": 108,
   "metadata": {},
   "outputs": [],
   "source": [
    "# Simple and clean\n",
    "class Solution:\n",
    "    def merge(self, nums1, m: int, nums2,  n) -> None:\n",
    "        nums1[m:m+n] = nums2[:n]\n",
    "        nums1.sort()"
   ]
  },
  {
   "cell_type": "code",
   "execution_count": 109,
   "metadata": {},
   "outputs": [
    {
     "name": "stdout",
     "output_type": "stream",
     "text": [
      "[1, 2, 2, 3, 5, 6]\n",
      "[1]\n",
      "[1]\n"
     ]
    }
   ],
   "source": [
    "num1 = [1,2,3,0,0,0]\n",
    "Solution().merge(num1, 3,[2,5,6],3)\n",
    "print(num1)\n",
    "num1 = [1]\n",
    "Solution().merge(num1, 1, [],0)\n",
    "print(num1)\n",
    "num1 = [0]\n",
    "Solution().merge(num1, 0, [1],1)\n",
    "print(num1)"
   ]
  },
  {
   "cell_type": "code",
   "execution_count": null,
   "metadata": {},
   "outputs": [],
   "source": []
  },
  {
   "cell_type": "markdown",
   "metadata": {},
   "source": [
    "#### 4. Move Zeroes"
   ]
  },
  {
   "cell_type": "code",
   "execution_count": 124,
   "metadata": {},
   "outputs": [],
   "source": [
    "class Solution:\n",
    "    def moveZeroes(self, nums) -> None:\n",
    "        \"\"\"\n",
    "        Do not return anything, modify nums in-place instead.\n",
    "        \"\"\"\n",
    "        from collections import deque\n",
    "        empty_space = deque()\n",
    "        counter = 0\n",
    "        for idx, i in enumerate(nums):\n",
    "            if i==0:\n",
    "                empty_space.append(idx)\n",
    "                counter+=1\n",
    "            else:\n",
    "                if counter>0:\n",
    "                    nums[empty_space.popleft()] = i\n",
    "                    empty_space.append(idx)\n",
    "        if counter>0:\n",
    "            x = empty_space.popleft()\n",
    "            nums[x:] = [0]*counter\n"
   ]
  },
  {
   "cell_type": "code",
   "execution_count": 127,
   "metadata": {},
   "outputs": [
    {
     "data": {
      "text/plain": [
       "[0]"
      ]
     },
     "execution_count": 127,
     "metadata": {},
     "output_type": "execute_result"
    }
   ],
   "source": [
    "nums = [0]\n",
    "Solution().moveZeroes(nums)\n",
    "nums"
   ]
  },
  {
   "cell_type": "markdown",
   "metadata": {},
   "source": [
    "#### 5. Running sum of 1D array"
   ]
  },
  {
   "cell_type": "code",
   "execution_count": 130,
   "metadata": {},
   "outputs": [],
   "source": [
    "class Solution:\n",
    "    def runningSum(self, nums):\n",
    "        sums = 0\n",
    "        for idx, i in enumerate(nums):\n",
    "            sums+=i\n",
    "            nums[idx] = sums\n",
    "        return nums"
   ]
  },
  {
   "cell_type": "code",
   "execution_count": 133,
   "metadata": {},
   "outputs": [
    {
     "data": {
      "text/plain": [
       "[3, 4, 6, 16, 17]"
      ]
     },
     "execution_count": 133,
     "metadata": {},
     "output_type": "execute_result"
    }
   ],
   "source": [
    "Solution().runningSum([3,1,2,10,1])"
   ]
  },
  {
   "cell_type": "markdown",
   "metadata": {},
   "source": [
    "#### 6. Find Pivot index"
   ]
  },
  {
   "cell_type": "code",
   "execution_count": 145,
   "metadata": {},
   "outputs": [],
   "source": [
    "class Solution:\n",
    "    def pivotIndex(self, nums) -> int:\n",
    "        from collections import deque\n",
    "        stack_f = deque()\n",
    "        stack_r = deque()\n",
    "        sums = 0\n",
    "        for i in nums:\n",
    "            sums+=i\n",
    "            stack_f.append(sums)\n",
    "        sums = 0\n",
    "        for i in nums[::-1]:\n",
    "            sums+=i\n",
    "            stack_r.appendleft(sums)\n",
    "        for idx, i in enumerate(stack_f):\n",
    "            if i==stack_r[idx]: return idx\n",
    "        return -1   "
   ]
  },
  {
   "cell_type": "code",
   "execution_count": 147,
   "metadata": {},
   "outputs": [
    {
     "name": "stdout",
     "output_type": "stream",
     "text": [
      "deque([2, 3, 2])\n",
      "deque([2, 0, -1])\n"
     ]
    },
    {
     "data": {
      "text/plain": [
       "0"
      ]
     },
     "execution_count": 147,
     "metadata": {},
     "output_type": "execute_result"
    }
   ],
   "source": [
    "nums = [2,1,-1]\n",
    "Solution().pivotIndex(nums)"
   ]
  },
  {
   "cell_type": "code",
   "execution_count": 149,
   "metadata": {},
   "outputs": [],
   "source": [
    "# Approach-2\n",
    "class Solution:\n",
    "    def pivotIndex(self, nums) -> int:\n",
    "        total_sum = sum(nums)\n",
    "        left_sum = 0\n",
    "\n",
    "        for i in range(len(nums)):\n",
    "            if left_sum == (total_sum - nums[i]):\n",
    "                return i\n",
    "            left_sum += nums[i]\n",
    "            total_sum -= nums[i]\n",
    "\n",
    "        return -1 \n",
    "        "
   ]
  },
  {
   "cell_type": "markdown",
   "metadata": {},
   "source": [
    "#### 7. Majority Elements"
   ]
  },
  {
   "cell_type": "code",
   "execution_count": 192,
   "metadata": {},
   "outputs": [],
   "source": [
    "class Solution:\n",
    "    def majorityElement(self, nums) -> int:\n",
    "        d = {}\n",
    "        max_ = n = 0\n",
    "        for i in nums:\n",
    "            t = d.get(i,0)+1\n",
    "            d[i] = t\n",
    "            if t>max_:\n",
    "                max_,n = t,i\n",
    "        return n\n",
    "        "
   ]
  },
  {
   "cell_type": "code",
   "execution_count": 196,
   "metadata": {},
   "outputs": [
    {
     "data": {
      "text/plain": [
       "3"
      ]
     },
     "execution_count": 196,
     "metadata": {},
     "output_type": "execute_result"
    }
   ],
   "source": [
    "nums = [3,3,4]\n",
    "Solution().majorityElement(nums)"
   ]
  },
  {
   "cell_type": "code",
   "execution_count": 195,
   "metadata": {},
   "outputs": [],
   "source": [
    "class Solution:\n",
    "    def majorityElement(self, nums) -> int:\n",
    "        from collections import Counter\n",
    "        return Counter(nums).most_common(1)[0][0]"
   ]
  },
  {
   "cell_type": "markdown",
   "metadata": {},
   "source": [
    "#### 9.  Squares of a sorted array"
   ]
  },
  {
   "cell_type": "code",
   "execution_count": 204,
   "metadata": {},
   "outputs": [],
   "source": [
    "class Solution:\n",
    "    def sortedSquares(self, nums: List[int]) -> List[int]:\n",
    "        nums = [val**2 for val in nums]\n",
    "        return sorted(nums)\n"
   ]
  },
  {
   "cell_type": "code",
   "execution_count": 206,
   "metadata": {},
   "outputs": [
    {
     "data": {
      "text/plain": [
       "[4, 9, 9, 49, 121]"
      ]
     },
     "execution_count": 206,
     "metadata": {},
     "output_type": "execute_result"
    }
   ],
   "source": [
    "nums = [-7,-3,2,3,11]\n",
    "Solution().sortedSquares(nums)"
   ]
  },
  {
   "cell_type": "code",
   "execution_count": null,
   "metadata": {},
   "outputs": [],
   "source": [
    "from collections import deque\n",
    "\n",
    "# Approach-2: performing at O(n)\n",
    "class Solution:\n",
    "    def sortedSquares(self, A):\n",
    "        answer = deque()\n",
    "        l, r = 0, len(A) - 1\n",
    "        while l <= r:\n",
    "            left, right = abs(A[l]), abs(A[r])\n",
    "            if left > right:\n",
    "                answer.appendleft(left * left)\n",
    "                l += 1\n",
    "            else:\n",
    "                answer.appendleft(right * right)\n",
    "                r -= 1\n",
    "        return list(answer)"
   ]
  },
  {
   "cell_type": "code",
   "execution_count": 221,
   "metadata": {},
   "outputs": [
    {
     "data": {
      "text/plain": [
       "[1, 1]"
      ]
     },
     "execution_count": 221,
     "metadata": {},
     "output_type": "execute_result"
    }
   ],
   "source": []
  },
  {
   "cell_type": "code",
   "execution_count": 264,
   "metadata": {},
   "outputs": [],
   "source": [
    "class Solution:\n",
    "    def generate(self, numRows: int) -> List[List[int]]:\n",
    "        pivot_  = []\n",
    "        for idx in range(1, numRows+1):\n",
    "            if idx==1:    \n",
    "                pivot_list_ = [1]\n",
    "                pivot_.append(pivot_list_)\n",
    "            else:\n",
    "                pivot_list_ = list(map(lambda x,y:x+y, pivot_list_+[0], [0]+pivot_list_[::-1]))\n",
    "                pivot_.append(pivot_list_)\n",
    "        return pivot_"
   ]
  },
  {
   "cell_type": "code",
   "execution_count": 267,
   "metadata": {},
   "outputs": [
    {
     "data": {
      "text/plain": [
       "[[1], [1, 1], [1, 2, 1], [1, 3, 3, 1], [1, 4, 6, 4, 1], [1, 5, 10, 10, 5, 1]]"
      ]
     },
     "execution_count": 267,
     "metadata": {},
     "output_type": "execute_result"
    }
   ],
   "source": [
    "Solution().generate(6)"
   ]
  },
  {
   "cell_type": "code",
   "execution_count": 266,
   "metadata": {},
   "outputs": [],
   "source": [
    "class Solution:\n",
    "    def generate(self, numRows: int) -> List[List[int]]:\n",
    "        res = [[1]]\n",
    "        for i in range(1, numRows):\n",
    "            res += [map(lambda x, y: x+y, res[-1] + [0], [0] + res[-1])]\n",
    "        return res[:numRows]"
   ]
  },
  {
   "cell_type": "markdown",
   "metadata": {},
   "source": [
    "#### 10. Contains Duplicates"
   ]
  },
  {
   "cell_type": "code",
   "execution_count": 272,
   "metadata": {},
   "outputs": [],
   "source": [
    "class Solution:\n",
    "    def containsDuplicate(self, nums: List[int]) -> bool:\n",
    "        return len(set(nums))!=len(nums)"
   ]
  },
  {
   "cell_type": "code",
   "execution_count": 275,
   "metadata": {},
   "outputs": [
    {
     "data": {
      "text/plain": [
       "True"
      ]
     },
     "execution_count": 275,
     "metadata": {},
     "output_type": "execute_result"
    }
   ],
   "source": [
    "num = [1,1,1,3,3,4,3,2,4,2]\n",
    "Solution().containsDuplicate(num)"
   ]
  },
  {
   "cell_type": "markdown",
   "metadata": {},
   "source": [
    "#### 11. Remove duplicates from array"
   ]
  },
  {
   "cell_type": "code",
   "execution_count": 307,
   "metadata": {},
   "outputs": [],
   "source": [
    "class Solution:\n",
    "    def removeDuplicates(self, nums: List[int]) -> int:\n",
    "        \"\"\"\n",
    "        Do not return anything, modify nums in-place instead.\n",
    "        \"\"\"\n",
    "        from collections import deque\n",
    "        empty_space = deque()\n",
    "        counter = 0\n",
    "        d = {}\n",
    "        for idx, val in enumerate(nums):\n",
    "            if not d.get(val,0):\n",
    "                d[val] = 1\n",
    "                if counter>0:\n",
    "                    nums[empty_space.popleft()] = val\n",
    "                    empty_space.append(idx)    \n",
    "            else:\n",
    "                counter+=1\n",
    "                empty_space.append(idx)\n",
    "        x = 0\n",
    "        if counter>0:\n",
    "            x = empty_space.popleft()\n",
    "            nums[x:] = ['_']*counter\n",
    "        return x\n"
   ]
  },
  {
   "cell_type": "code",
   "execution_count": 308,
   "metadata": {},
   "outputs": [
    {
     "data": {
      "text/plain": [
       "0"
      ]
     },
     "execution_count": 308,
     "metadata": {},
     "output_type": "execute_result"
    }
   ],
   "source": [
    "nums = [1]\n",
    "Solution().removeDuplicates(nums)"
   ]
  },
  {
   "cell_type": "code",
   "execution_count": 316,
   "metadata": {},
   "outputs": [],
   "source": [
    "class Solution:\n",
    "\tdef removeDuplicates(self, nums: List[int]) -> int:\n",
    "\t\tx = 1\n",
    "\t\tfor i in range(len(nums)-1):\n",
    "\t\t\tif(nums[i]!=nums[i+1]):\n",
    "\t\t\t\tnums[x] = nums[i+1]\n",
    "\t\t\t\tx+=1\n",
    "\t\treturn x,nums"
   ]
  },
  {
   "cell_type": "code",
   "execution_count": 317,
   "metadata": {},
   "outputs": [],
   "source": [
    "class Solution:\n",
    "\tdef removeDuplicates(self, nums: List[int]) -> int:\n",
    "\t\treturn len(set(nums))"
   ]
  },
  {
   "cell_type": "code",
   "execution_count": 319,
   "metadata": {},
   "outputs": [
    {
     "data": {
      "text/plain": [
       "1"
      ]
     },
     "execution_count": 319,
     "metadata": {},
     "output_type": "execute_result"
    }
   ],
   "source": [
    "nums = [1,]\n",
    "Solution().removeDuplicates(nums)"
   ]
  },
  {
   "cell_type": "markdown",
   "metadata": {},
   "source": [
    "#### 12. Count Odd Numbers in an Interval Range\n"
   ]
  },
  {
   "cell_type": "code",
   "execution_count": 329,
   "metadata": {},
   "outputs": [],
   "source": [
    "class Solution:\n",
    "    def countOdds(self, low: int, high: int) -> int:\n",
    "        total_num = (high-low)+1\n",
    "        if total_num%2:\n",
    "            if high%2 or low%2:\n",
    "                total_num+=1\n",
    "        return int(total_num/2)"
   ]
  },
  {
   "cell_type": "code",
   "execution_count": 330,
   "metadata": {},
   "outputs": [
    {
     "data": {
      "text/plain": [
       "1"
      ]
     },
     "execution_count": 330,
     "metadata": {},
     "output_type": "execute_result"
    }
   ],
   "source": [
    "Solution().countOdds(8,10)"
   ]
  },
  {
   "cell_type": "markdown",
   "metadata": {},
   "source": [
    "#### 13.Average Salary Excluding the Minimum and Maximum Salary"
   ]
  },
  {
   "cell_type": "code",
   "execution_count": 341,
   "metadata": {},
   "outputs": [],
   "source": [
    "class Solution:\n",
    "    def average(self, salary: List[int]) -> float:\n",
    "        salary.sort()\n",
    "        return sum(salary[1:-1])/(len(salary)-2)"
   ]
  },
  {
   "cell_type": "code",
   "execution_count": 343,
   "metadata": {},
   "outputs": [
    {
     "data": {
      "text/plain": [
       "2000.0"
      ]
     },
     "execution_count": 343,
     "metadata": {},
     "output_type": "execute_result"
    }
   ],
   "source": [
    "salary = [1000,2000,3000]\n",
    "Solution().average(salary)"
   ]
  },
  {
   "cell_type": "markdown",
   "metadata": {},
   "source": [
    "#### 14. Number of 1 bits"
   ]
  },
  {
   "cell_type": "code",
   "execution_count": 11,
   "metadata": {},
   "outputs": [],
   "source": [
    "class Solution:\n",
    "    def hammingWeight(self, n: int) -> int: \n",
    "        return bin(n).count(\"1\") "
   ]
  },
  {
   "cell_type": "code",
   "execution_count": 12,
   "metadata": {},
   "outputs": [],
   "source": [
    "n = 0"
   ]
  },
  {
   "cell_type": "markdown",
   "metadata": {},
   "source": [
    "#### 15. Subtract the product and sum of digits of integer"
   ]
  },
  {
   "cell_type": "code",
   "execution_count": 23,
   "metadata": {},
   "outputs": [],
   "source": [
    "class Solution:\n",
    "    def subtractProductAndSum(self, n: int) -> int:\n",
    "        from functools import reduce\n",
    "        a = list(map(int, iter(str(n))))\n",
    "        return reduce(lambda x,y: x*y, a) - reduce(lambda x,y: x+y, a)        "
   ]
  },
  {
   "cell_type": "code",
   "execution_count": 24,
   "metadata": {},
   "outputs": [
    {
     "data": {
      "text/plain": [
       "21"
      ]
     },
     "execution_count": 24,
     "metadata": {},
     "output_type": "execute_result"
    }
   ],
   "source": [
    "Solution().subtractProductAndSum(4421)"
   ]
  },
  {
   "cell_type": "markdown",
   "metadata": {},
   "source": [
    "#### 16. Intersection of two array II"
   ]
  },
  {
   "cell_type": "code",
   "execution_count": 4,
   "metadata": {},
   "outputs": [],
   "source": [
    "from typing import List"
   ]
  },
  {
   "cell_type": "code",
   "execution_count": 25,
   "metadata": {},
   "outputs": [],
   "source": [
    "# Approach-1\n",
    "class Solution:\n",
    "    def intersect(self, nums1: List[int], nums2: List[int]) -> List[int]:\n",
    "        from collections import Counter\n",
    "        if len(nums1) > len(nums2): return self.intersect(nums2, nums1) # Swapping \n",
    "            \n",
    "        cnt = Counter(nums1) # Frequency counter  O(N,M)\n",
    "        ans = []\n",
    "        for x in nums2:\n",
    "            if cnt[x] > 0:\n",
    "                ans.append(x)\n",
    "                cnt[x] -= 1\n",
    "        return ans"
   ]
  },
  {
   "cell_type": "code",
   "execution_count": 26,
   "metadata": {},
   "outputs": [],
   "source": [
    "class Solution:\n",
    "    def intersect(self, nums1: List[int], nums2: List[int]) -> List[int]:\n",
    "        nums1.sort()\n",
    "        nums2.sort()\n",
    "        ans = []\n",
    "        i = j = 0\n",
    "        l1,l2 = len(nums1), len(nums2)\n",
    "        while i < l1 and j < l2:\n",
    "            if nums1[i] < nums2[j]:\n",
    "                i += 1\n",
    "            elif nums1[i] > nums2[j]:\n",
    "                j += 1\n",
    "            else:\n",
    "                ans.append(nums1[i])\n",
    "                i += 1\n",
    "                j += 1\n",
    "        return ans"
   ]
  },
  {
   "cell_type": "code",
   "execution_count": 24,
   "metadata": {},
   "outputs": [
    {
     "data": {
      "text/plain": [
       "[2, 2]"
      ]
     },
     "execution_count": 24,
     "metadata": {},
     "output_type": "execute_result"
    }
   ],
   "source": [
    "nums1 = [1,1,2,2,3]\n",
    "nums2 = [2,2]\n",
    "\n",
    "Solution().intersect(nums1, nums2)"
   ]
  },
  {
   "cell_type": "code",
   "execution_count": null,
   "metadata": {},
   "outputs": [],
   "source": [
    "[1,2]\n"
   ]
  },
  {
   "cell_type": "markdown",
   "metadata": {},
   "source": [
    "#### 17. Largest Perimeter"
   ]
  },
  {
   "cell_type": "code",
   "execution_count": 84,
   "metadata": {},
   "outputs": [],
   "source": [
    "class Solution:\n",
    "    def largestPerimeter(self, nums: List[int]) -> int:\n",
    "        nums.sort()\n",
    "        return ([0] + [a + b + c for a, b, c in zip(nums, nums[1:], nums[2:]) if c < a + b])[-1]"
   ]
  },
  {
   "cell_type": "code",
   "execution_count": 85,
   "metadata": {},
   "outputs": [
    {
     "data": {
      "text/plain": [
       "8"
      ]
     },
     "execution_count": 85,
     "metadata": {},
     "output_type": "execute_result"
    }
   ],
   "source": [
    "Solution().largestPerimeter([3,6,2,3])"
   ]
  },
  {
   "cell_type": "code",
   "execution_count": null,
   "metadata": {},
   "outputs": [],
   "source": []
  },
  {
   "cell_type": "markdown",
   "metadata": {},
   "source": [
    "#### 18. Find Nearest Point That Has the Same X or Y Coordinate"
   ]
  },
  {
   "cell_type": "code",
   "execution_count": null,
   "metadata": {},
   "outputs": [],
   "source": []
  },
  {
   "cell_type": "code",
   "execution_count": 110,
   "metadata": {},
   "outputs": [],
   "source": [
    "class Solution:\n",
    "    def nearestValidPoint(self, x: int, y: int, points: List[List[int]]) -> int:\n",
    "        manhat_dist = lambda x1,y1,x2,y2: abs(x1-x2) + abs(y1-y2)\n",
    "        small_manhat_dist = float('inf')\n",
    "        small_idx = -1\n",
    "        for idx, (x2,y2) in enumerate(points):\n",
    "            if x==x2 or y==y2:\n",
    "                dist = manhat_dist(x,y,x2,y2)\n",
    "                if small_manhat_dist>dist:\n",
    "                    small_manhat_dist = dist\n",
    "                    small_idx = idx\n",
    "        if small_idx<0: return small_idx\n",
    "        return small_idx"
   ]
  },
  {
   "cell_type": "code",
   "execution_count": 111,
   "metadata": {},
   "outputs": [
    {
     "data": {
      "text/plain": [
       "0"
      ]
     },
     "execution_count": 111,
     "metadata": {},
     "output_type": "execute_result"
    }
   ],
   "source": [
    "x = 3\n",
    "y = 4\n",
    "points = [[1,2],[3,1],[2,4],[2,3],[4,4]]\n",
    "points = [[2,4]]\n",
    "Solution().nearestValidPoint(x,y,points)"
   ]
  },
  {
   "cell_type": "code",
   "execution_count": 99,
   "metadata": {},
   "outputs": [
    {
     "data": {
      "text/plain": [
       "True"
      ]
     },
     "execution_count": 99,
     "metadata": {},
     "output_type": "execute_result"
    }
   ],
   "source": [
    "float('inf') > 1"
   ]
  },
  {
   "cell_type": "markdown",
   "metadata": {},
   "source": [
    "#### 19. Reshape the Matrix"
   ]
  },
  {
   "cell_type": "code",
   "execution_count": 172,
   "metadata": {},
   "outputs": [],
   "source": [
    "class Solution:\n",
    "    def matrixReshape(self, mat: List[List[int]], r: int, c: int) -> List[List[int]]:        \n",
    "        m,n = len(mat), len(mat[0])\n",
    "        total_elements = m*n\n",
    "        if not total_elements: return mat\n",
    "        if total_elements != r*c: return mat\n",
    "        if m==r and n==c: return mat\n",
    "        result_mat = []\n",
    "        row_list = []\n",
    "        col_counter = 0\n",
    "        row_counter = 0\n",
    "        for idx_r, val_r in enumerate(mat):\n",
    "            for idx_c, val_c in enumerate(val_r): \n",
    "                if col_counter>c-1:\n",
    "                    row_counter+=1\n",
    "                    col_counter=0\n",
    "                    result_mat.append(row_list.copy())\n",
    "                    row_list = []\n",
    "                row_list.append(val_c)\n",
    "                col_counter+=1\n",
    "                #print(col_counter,c, val_c, result_mat, row_list)\n",
    "        result_mat.append(row_list.copy())\n",
    "        return result_mat"
   ]
  },
  {
   "cell_type": "code",
   "execution_count": 174,
   "metadata": {},
   "outputs": [
    {
     "data": {
      "text/plain": [
       "[[1, 1, 1, 1], [2, 2, 2, 2], [3, 3, 3, 3], [4, 4, 4, 4]]"
      ]
     },
     "execution_count": 174,
     "metadata": {},
     "output_type": "execute_result"
    }
   ],
   "source": [
    "mat = [[1,1,1,1],[2,2,2,2], [3,3,3,3], [4,4,4,4]]\n",
    "Solution().matrixReshape(mat, 4,4)"
   ]
  },
  {
   "cell_type": "markdown",
   "metadata": {},
   "source": [
    "#### 20. Check if One String Swap Can Make Strings Equal"
   ]
  },
  {
   "cell_type": "code",
   "execution_count": null,
   "metadata": {},
   "outputs": [],
   "source": [
    "s1 = \"bank\", s2 = \"kanb\""
   ]
  },
  {
   "cell_type": "code",
   "execution_count": 176,
   "metadata": {},
   "outputs": [
    {
     "data": {
      "text/plain": [
       "False"
      ]
     },
     "execution_count": 176,
     "metadata": {},
     "output_type": "execute_result"
    }
   ],
   "source": [
    "['b','a','c','k'] == ['b','a','q','k']"
   ]
  },
  {
   "cell_type": "code",
   "execution_count": 206,
   "metadata": {},
   "outputs": [],
   "source": [
    "class Solution:\n",
    "    def areAlmostEqual(self, s1: str, s2: str) -> bool:\n",
    "        if s1==s2: return True\n",
    "        length = len(s1)\n",
    "        s1_, s2_ = list(s1), list(s2)\n",
    "        for idx in range(length):\n",
    "            z = \"\"\n",
    "            for idx_ in range(idx, length-1): \n",
    "                s1_[idx],s1_[idx_+1] = s1_[idx_+1], s1_[idx]\n",
    "                if s1_==s2_: return True\n",
    "                s1_[idx],s1_[idx_+1] = s1_[idx_+1], s1_[idx]\n",
    "        return False"
   ]
  },
  {
   "cell_type": "code",
   "execution_count": 209,
   "metadata": {},
   "outputs": [],
   "source": [
    "class Solution:\n",
    "    def areAlmostEqual(self, s, t):\n",
    "        diffs = [(c, d) for c, d in zip(s, t) if c != d]\n",
    "        return (not diffs) or (len(diffs) == 2) and (diffs[0][::-1] == diffs[1])"
   ]
  },
  {
   "cell_type": "code",
   "execution_count": 210,
   "metadata": {},
   "outputs": [
    {
     "data": {
      "text/plain": [
       "True"
      ]
     },
     "execution_count": 210,
     "metadata": {},
     "output_type": "execute_result"
    }
   ],
   "source": [
    "s1 = \"bank\"; s2 = \"kanb\"\n",
    "#s1 = \"attack\"; s2 = \"defend\"\n",
    "#s1 = \"kelb\"; s2 = \"kelb\"\n",
    "Solution().areAlmostEqual(s1,s2)"
   ]
  },
  {
   "cell_type": "markdown",
   "metadata": {},
   "source": [
    "#### 21.Sign of the Product of an Array"
   ]
  },
  {
   "cell_type": "code",
   "execution_count": 211,
   "metadata": {},
   "outputs": [],
   "source": [
    "class Solution:\n",
    "    def arraySign(self, nums: List[int]) -> int:\n",
    "        from functools import reduce\n",
    "        prod = reduce(lambda a,b: a*b, nums)\n",
    "        if prod==0: return 0\n",
    "        if prod<0: return -1\n",
    "        else: return 1"
   ]
  },
  {
   "cell_type": "code",
   "execution_count": 214,
   "metadata": {},
   "outputs": [
    {
     "data": {
      "text/plain": [
       "-1"
      ]
     },
     "execution_count": 214,
     "metadata": {},
     "output_type": "execute_result"
    }
   ],
   "source": [
    "nums = [-1,-2,-3,-4,3,2,1]\n",
    "nums = [1,5,0,2,-3]\n",
    "nums = [-1,1,-1,1,-1]\n",
    "Solution().arraySign(nums)"
   ]
  },
  {
   "cell_type": "markdown",
   "metadata": {},
   "source": [
    "#### 22. Can Make Arithmetic Progression From Sequence"
   ]
  },
  {
   "cell_type": "code",
   "execution_count": 216,
   "metadata": {},
   "outputs": [],
   "source": [
    "class Solution:\n",
    "    def canMakeArithmeticProgression(self, arr: List[int]) -> bool:\n",
    "        length = len(arr)\n",
    "        if length==2: return True\n",
    "        arr.sort()\n",
    "        diff = arr[1] - arr[0]\n",
    "        for idx in range(length-1):\n",
    "            if arr[idx+1]-arr[idx]!=diff:\n",
    "                return False\n",
    "        return True "
   ]
  },
  {
   "cell_type": "code",
   "execution_count": 218,
   "metadata": {},
   "outputs": [
    {
     "data": {
      "text/plain": [
       "False"
      ]
     },
     "execution_count": 218,
     "metadata": {},
     "output_type": "execute_result"
    }
   ],
   "source": [
    "arr = [3,5,1]\n",
    "arr = [1,2,4]\n",
    "Solution().canMakeArithmeticProgression(arr)"
   ]
  },
  {
   "cell_type": "markdown",
   "metadata": {},
   "source": [
    "#### 23. Happy Number"
   ]
  },
  {
   "cell_type": "code",
   "execution_count": 256,
   "metadata": {},
   "outputs": [],
   "source": [
    "class Solution:\n",
    "    def isHappy(self, n):\n",
    "        seen = set()\n",
    "        while n not in seen:\n",
    "            seen.add(n)\n",
    "            n = sum((int(x) **2 for x in str(n)))\n",
    "            print(seen, n)\n",
    "        return n == 1"
   ]
  },
  {
   "cell_type": "code",
   "execution_count": 257,
   "metadata": {},
   "outputs": [
    {
     "name": "stdout",
     "output_type": "stream",
     "text": [
      "{19} 82\n",
      "{82, 19} 68\n",
      "{82, 19, 68} 100\n",
      "{100, 82, 19, 68} 1\n",
      "{1, 100, 68, 82, 19} 1\n"
     ]
    },
    {
     "data": {
      "text/plain": [
       "True"
      ]
     },
     "execution_count": 257,
     "metadata": {},
     "output_type": "execute_result"
    }
   ],
   "source": [
    "Solution().isHappy(19)"
   ]
  },
  {
   "cell_type": "code",
   "execution_count": 255,
   "metadata": {},
   "outputs": [
    {
     "data": {
      "text/plain": [
       "True"
      ]
     },
     "execution_count": 255,
     "metadata": {},
     "output_type": "execute_result"
    }
   ],
   "source": [
    "1 not in set([19,82,68,100])"
   ]
  },
  {
   "cell_type": "markdown",
   "metadata": {},
   "source": [
    "#### 24. Counting bits"
   ]
  },
  {
   "cell_type": "code",
   "execution_count": 276,
   "metadata": {},
   "outputs": [],
   "source": [
    "# This is not the solution that interviewer wants\n",
    "class Solution:\n",
    "    def countBits(self, n: int) -> List[int]:\n",
    "        return [bin(i).count('1') for i in range(n+1)]"
   ]
  },
  {
   "cell_type": "code",
   "execution_count": 281,
   "metadata": {},
   "outputs": [
    {
     "data": {
      "text/plain": [
       "[0]"
      ]
     },
     "execution_count": 281,
     "metadata": {},
     "output_type": "execute_result"
    }
   ],
   "source": [
    "Solution().countBits(0)"
   ]
  },
  {
   "cell_type": "code",
   "execution_count": 284,
   "metadata": {},
   "outputs": [],
   "source": [
    "from typing import List, Dict, Tuple\n",
    "class Solution:\n",
    "    def countBits(self, n: int) -> List[int]:\n",
    "        dp = [0] * (n+1)\n",
    "        offset = 1\n",
    "        for i in range(1, n+1):\n",
    "            if offset*2 == i:\n",
    "                offset=i\n",
    "            dp[i] = 1 + dp[i - offset]\n",
    "        return dp"
   ]
  },
  {
   "cell_type": "code",
   "execution_count": 285,
   "metadata": {},
   "outputs": [
    {
     "data": {
      "text/plain": [
       "[0, 1, 1, 2, 1, 2]"
      ]
     },
     "execution_count": 285,
     "metadata": {},
     "output_type": "execute_result"
    }
   ],
   "source": [
    "Solution().countBits(5)"
   ]
  },
  {
   "cell_type": "code",
   "execution_count": null,
   "metadata": {},
   "outputs": [],
   "source": []
  },
  {
   "cell_type": "code",
   "execution_count": null,
   "metadata": {},
   "outputs": [],
   "source": []
  },
  {
   "cell_type": "markdown",
   "metadata": {},
   "source": [
    "#### 25. Check If It Is a Straight Line"
   ]
  },
  {
   "cell_type": "code",
   "execution_count": 286,
   "metadata": {},
   "outputs": [],
   "source": [
    "from typing import List, Tuple, Dict"
   ]
  },
  {
   "cell_type": "code",
   "execution_count": 301,
   "metadata": {},
   "outputs": [],
   "source": [
    "class Solution:\n",
    "    def checkStraightLine(self, coordinates: List[List[int]]) -> bool:\n",
    "        x_diff = coordinates[1][0] - coordinates[0][0]\n",
    "        y_diff = coordinates[1][1] - coordinates[0][1]\n",
    "        length = len(coordinates)-1\n",
    "        for i in range(length):\n",
    "            if (coordinates[i+1][0] - coordinates[i][0])*y_diff != (coordinates[i+1][1] - coordinates[i][1])*x_diff:\n",
    "                return False\n",
    "        return True"
   ]
  },
  {
   "cell_type": "code",
   "execution_count": 304,
   "metadata": {},
   "outputs": [
    {
     "data": {
      "text/plain": [
       "True"
      ]
     },
     "execution_count": 304,
     "metadata": {},
     "output_type": "execute_result"
    }
   ],
   "source": [
    "coordinates = [[1,2],[2,3],[3,4],[4,5],[5,6],[6,7]]\n",
    "coordinates = [[1,1],[2,2],[3,4],[4,5],[5,6],[7,7]]\n",
    "coordinates = [[0,0],[0,1],[0,-1]]\n",
    "Solution().checkStraightLine(coordinates)"
   ]
  },
  {
   "cell_type": "code",
   "execution_count": null,
   "metadata": {},
   "outputs": [],
   "source": []
  },
  {
   "cell_type": "code",
   "execution_count": null,
   "metadata": {},
   "outputs": [],
   "source": []
  },
  {
   "cell_type": "code",
   "execution_count": null,
   "metadata": {},
   "outputs": [],
   "source": []
  },
  {
   "cell_type": "code",
   "execution_count": null,
   "metadata": {},
   "outputs": [],
   "source": []
  },
  {
   "cell_type": "code",
   "execution_count": null,
   "metadata": {},
   "outputs": [],
   "source": []
  },
  {
   "cell_type": "code",
   "execution_count": null,
   "metadata": {},
   "outputs": [],
   "source": []
  },
  {
   "cell_type": "code",
   "execution_count": null,
   "metadata": {},
   "outputs": [],
   "source": []
  },
  {
   "cell_type": "code",
   "execution_count": null,
   "metadata": {},
   "outputs": [],
   "source": []
  },
  {
   "cell_type": "code",
   "execution_count": null,
   "metadata": {},
   "outputs": [],
   "source": []
  },
  {
   "cell_type": "code",
   "execution_count": null,
   "metadata": {},
   "outputs": [],
   "source": []
  },
  {
   "cell_type": "code",
   "execution_count": null,
   "metadata": {},
   "outputs": [],
   "source": []
  }
 ],
 "metadata": {
  "kernelspec": {
   "display_name": "Python 3.8.8 ('base')",
   "language": "python",
   "name": "python3"
  },
  "language_info": {
   "codemirror_mode": {
    "name": "ipython",
    "version": 3
   },
   "file_extension": ".py",
   "mimetype": "text/x-python",
   "name": "python",
   "nbconvert_exporter": "python",
   "pygments_lexer": "ipython3",
   "version": "3.8.8"
  },
  "orig_nbformat": 4,
  "vscode": {
   "interpreter": {
    "hash": "ad2bdc8ecc057115af97d19610ffacc2b4e99fae6737bb82f5d7fb13d2f2c186"
   }
  }
 },
 "nbformat": 4,
 "nbformat_minor": 2
}
