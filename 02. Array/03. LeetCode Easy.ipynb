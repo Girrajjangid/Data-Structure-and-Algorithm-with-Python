{
 "cells": [
  {
   "cell_type": "markdown",
   "metadata": {},
   "source": [
    "#### 1. Two sum"
   ]
  },
  {
   "cell_type": "code",
   "execution_count": 203,
   "metadata": {},
   "outputs": [],
   "source": [
    "from typing import List, Dict"
   ]
  },
  {
   "cell_type": "code",
   "execution_count": 31,
   "metadata": {},
   "outputs": [],
   "source": [
    "class Solution:\n",
    "    def twoSum(self, nums, target: int) :\n",
    "        def find_index(l,r,num2):\n",
    "            if nums[l]==num2: return l\n",
    "            if nums[r]==num2: return r\n",
    "            if l==r: return None\n",
    "            if l<r:\n",
    "                m = (l+r)//2\n",
    "            x = find_index(l,m,num2)\n",
    "            if x: return x\n",
    "            x = find_index(m+1,r,num2)\n",
    "            if x: return x\n",
    "\n",
    "        sums = 0\n",
    "        length = len(nums)\n",
    "        for idx, i in enumerate(nums):\n",
    "            num1 = i\n",
    "            num2 = target-num1\n",
    "            l,r = idx+1, length-1\n",
    "            x = find_index(l,r,num2)\n",
    "            if x:\n",
    "                return [idx,x]    "
   ]
  },
  {
   "cell_type": "code",
   "execution_count": 39,
   "metadata": {},
   "outputs": [
    {
     "data": {
      "text/plain": [
       "[0, 1]"
      ]
     },
     "execution_count": 39,
     "metadata": {},
     "output_type": "execute_result"
    }
   ],
   "source": [
    "Solution().twoSum([-12, -34, -123, 35, 65], -12-34)"
   ]
  },
  {
   "cell_type": "code",
   "execution_count": 47,
   "metadata": {},
   "outputs": [],
   "source": [
    "class Solution:\n",
    "    def twoSum(self, nums, target):\n",
    "        seen = {}\n",
    "        for i, value in enumerate(nums):\n",
    "            remaining = target - nums[i]\n",
    "            if remaining in seen:\n",
    "                return [i, seen[remaining]]\n",
    "            else:\n",
    "                seen[value] = i\n"
   ]
  },
  {
   "cell_type": "code",
   "execution_count": 48,
   "metadata": {},
   "outputs": [
    {
     "data": {
      "text/plain": [
       "[3, 0]"
      ]
     },
     "execution_count": 48,
     "metadata": {},
     "output_type": "execute_result"
    }
   ],
   "source": [
    "Solution().twoSum([2,1,5,2], 4)"
   ]
  },
  {
   "cell_type": "markdown",
   "metadata": {},
   "source": [
    "#### 2. Best time to sell and buy"
   ]
  },
  {
   "cell_type": "code",
   "execution_count": 65,
   "metadata": {},
   "outputs": [],
   "source": [
    "class Solution:\n",
    "    def maxProfit(self, prices):\n",
    "        max_pro = 0\n",
    "        for idx, i in enumerate(prices[:-1]):\n",
    "            max_ = [j-i for j in prices[idx:] if j>i]\n",
    "            max_ = max(max_) if max_ else 0  \n",
    "            max_pro = max_ if max_pro<max_ else max_pro\n",
    "        return max_pro"
   ]
  },
  {
   "cell_type": "code",
   "execution_count": 80,
   "metadata": {},
   "outputs": [],
   "source": [
    "class Solution:\n",
    "    def maxProfit(self, prices):\n",
    "        max_profit, min_price = 0, float('inf')\n",
    "        for price in prices:\n",
    "            min_price = min(min_price, price)\n",
    "            profit = price - min_price\n",
    "            max_profit = max(max_profit, profit)\n",
    "        return max_profit"
   ]
  },
  {
   "cell_type": "code",
   "execution_count": null,
   "metadata": {},
   "outputs": [],
   "source": [
    "class Solution:\n",
    "    def maxProfit(self, prices):    \n",
    "        minimum = prices[0]\n",
    "        maxProfit = 0        \n",
    "        for num in prices:\n",
    "            if num < minimum:\n",
    "                minimum = num\n",
    "                continue\n",
    "            profit = num - minimum\n",
    "            if profit > maxProfit:\n",
    "                maxProfit = profit\n",
    "        return maxProfit"
   ]
  },
  {
   "cell_type": "code",
   "execution_count": 81,
   "metadata": {},
   "outputs": [
    {
     "data": {
      "text/plain": [
       "5"
      ]
     },
     "execution_count": 81,
     "metadata": {},
     "output_type": "execute_result"
    }
   ],
   "source": [
    "Solution().maxProfit([7,1,5,3,6,4])"
   ]
  },
  {
   "cell_type": "code",
   "execution_count": null,
   "metadata": {},
   "outputs": [],
   "source": []
  },
  {
   "cell_type": "markdown",
   "metadata": {},
   "source": [
    "#### 3. Merge sort"
   ]
  },
  {
   "cell_type": "code",
   "execution_count": 106,
   "metadata": {},
   "outputs": [],
   "source": [
    "class Solution:\n",
    "\n",
    "    def quick_sort(self, array, left_idx, right_idx):\n",
    "        i_counter = left_idx-1\n",
    "        pivot_element = array[right_idx]\n",
    "        for j_counter in range(left_idx, right_idx):\n",
    "            if array[j_counter]<=pivot_element:\n",
    "                i_counter+=1\n",
    "                array[i_counter], array[j_counter] = array[j_counter], array[i_counter]\n",
    "        array[right_idx], array[i_counter+1] = array[i_counter+1], array[right_idx]\n",
    "        return i_counter+1\n",
    "\n",
    "    def divide_and_conquour(self, array, left_idx, right_idx):\n",
    "        if left_idx<right_idx:\n",
    "            middle_idx = self.quick_sort(array, left_idx, right_idx)\n",
    "            self.divide_and_conquour(array, left_idx, middle_idx-1)\n",
    "            self.divide_and_conquour(array, middle_idx+1, right_idx)\n",
    "        else:\n",
    "            return\n",
    "\n",
    "\n",
    "    def merge(self, nums1, m: int, nums2,  n) -> None:\n",
    "        \"\"\"\n",
    "        Do not return anything, modify nums1 in-place instead.\n",
    "        \"\"\"\n",
    "        nums1[m:m+n] = nums2[:n]\n",
    "        self.divide_and_conquour(nums1,0, len(nums1)-1)        \n"
   ]
  },
  {
   "cell_type": "code",
   "execution_count": 107,
   "metadata": {},
   "outputs": [
    {
     "name": "stdout",
     "output_type": "stream",
     "text": [
      "[1, 2, 2, 3, 5, 6]\n",
      "[1]\n",
      "[1]\n"
     ]
    }
   ],
   "source": [
    "num1 = [1,2,3,0,0,0]\n",
    "Solution().merge(num1, 3,[2,5,6],3)\n",
    "print(num1)\n",
    "num1 = [1]\n",
    "Solution().merge(num1, 1, [],0)\n",
    "print(num1)\n",
    "num1 = [0]\n",
    "Solution().merge(num1, 0, [1],1)\n",
    "print(num1)"
   ]
  },
  {
   "cell_type": "code",
   "execution_count": 108,
   "metadata": {},
   "outputs": [],
   "source": [
    "# Simple and clean\n",
    "class Solution:\n",
    "    def merge(self, nums1, m: int, nums2,  n) -> None:\n",
    "        nums1[m:m+n] = nums2[:n]\n",
    "        nums1.sort()"
   ]
  },
  {
   "cell_type": "code",
   "execution_count": 109,
   "metadata": {},
   "outputs": [
    {
     "name": "stdout",
     "output_type": "stream",
     "text": [
      "[1, 2, 2, 3, 5, 6]\n",
      "[1]\n",
      "[1]\n"
     ]
    }
   ],
   "source": [
    "num1 = [1,2,3,0,0,0]\n",
    "Solution().merge(num1, 3,[2,5,6],3)\n",
    "print(num1)\n",
    "num1 = [1]\n",
    "Solution().merge(num1, 1, [],0)\n",
    "print(num1)\n",
    "num1 = [0]\n",
    "Solution().merge(num1, 0, [1],1)\n",
    "print(num1)"
   ]
  },
  {
   "cell_type": "code",
   "execution_count": null,
   "metadata": {},
   "outputs": [],
   "source": []
  },
  {
   "cell_type": "markdown",
   "metadata": {},
   "source": [
    "#### 4. Move Zeroes"
   ]
  },
  {
   "cell_type": "code",
   "execution_count": 124,
   "metadata": {},
   "outputs": [],
   "source": [
    "class Solution:\n",
    "    def moveZeroes(self, nums) -> None:\n",
    "        \"\"\"\n",
    "        Do not return anything, modify nums in-place instead.\n",
    "        \"\"\"\n",
    "        from collections import deque\n",
    "        empty_space = deque()\n",
    "        counter = 0\n",
    "        for idx, i in enumerate(nums):\n",
    "            if i==0:\n",
    "                empty_space.append(idx)\n",
    "                counter+=1\n",
    "            else:\n",
    "                if counter>0:\n",
    "                    nums[empty_space.popleft()] = i\n",
    "                    empty_space.append(idx)\n",
    "        if counter>0:\n",
    "            x = empty_space.popleft()\n",
    "            nums[x:] = [0]*counter\n"
   ]
  },
  {
   "cell_type": "code",
   "execution_count": 127,
   "metadata": {},
   "outputs": [
    {
     "data": {
      "text/plain": [
       "[0]"
      ]
     },
     "execution_count": 127,
     "metadata": {},
     "output_type": "execute_result"
    }
   ],
   "source": [
    "nums = [0]\n",
    "Solution().moveZeroes(nums)\n",
    "nums"
   ]
  },
  {
   "cell_type": "markdown",
   "metadata": {},
   "source": [
    "#### 5. Running sum of 1D array"
   ]
  },
  {
   "cell_type": "code",
   "execution_count": 130,
   "metadata": {},
   "outputs": [],
   "source": [
    "class Solution:\n",
    "    def runningSum(self, nums):\n",
    "        sums = 0\n",
    "        for idx, i in enumerate(nums):\n",
    "            sums+=i\n",
    "            nums[idx] = sums\n",
    "        return nums"
   ]
  },
  {
   "cell_type": "code",
   "execution_count": 133,
   "metadata": {},
   "outputs": [
    {
     "data": {
      "text/plain": [
       "[3, 4, 6, 16, 17]"
      ]
     },
     "execution_count": 133,
     "metadata": {},
     "output_type": "execute_result"
    }
   ],
   "source": [
    "Solution().runningSum([3,1,2,10,1])"
   ]
  },
  {
   "cell_type": "markdown",
   "metadata": {},
   "source": [
    "#### 6. Find Pivot index"
   ]
  },
  {
   "cell_type": "code",
   "execution_count": 145,
   "metadata": {},
   "outputs": [],
   "source": [
    "class Solution:\n",
    "    def pivotIndex(self, nums) -> int:\n",
    "        from collections import deque\n",
    "        stack_f = deque()\n",
    "        stack_r = deque()\n",
    "        sums = 0\n",
    "        for i in nums:\n",
    "            sums+=i\n",
    "            stack_f.append(sums)\n",
    "        sums = 0\n",
    "        for i in nums[::-1]:\n",
    "            sums+=i\n",
    "            stack_r.appendleft(sums)\n",
    "        for idx, i in enumerate(stack_f):\n",
    "            if i==stack_r[idx]: return idx\n",
    "        return -1   "
   ]
  },
  {
   "cell_type": "code",
   "execution_count": 147,
   "metadata": {},
   "outputs": [
    {
     "name": "stdout",
     "output_type": "stream",
     "text": [
      "deque([2, 3, 2])\n",
      "deque([2, 0, -1])\n"
     ]
    },
    {
     "data": {
      "text/plain": [
       "0"
      ]
     },
     "execution_count": 147,
     "metadata": {},
     "output_type": "execute_result"
    }
   ],
   "source": [
    "nums = [2,1,-1]\n",
    "Solution().pivotIndex(nums)"
   ]
  },
  {
   "cell_type": "code",
   "execution_count": 149,
   "metadata": {},
   "outputs": [],
   "source": [
    "# Approach-2\n",
    "class Solution:\n",
    "    def pivotIndex(self, nums) -> int:\n",
    "        total_sum = sum(nums)\n",
    "        left_sum = 0\n",
    "\n",
    "        for i in range(len(nums)):\n",
    "            if left_sum == (total_sum - nums[i]):\n",
    "                return i\n",
    "            left_sum += nums[i]\n",
    "            total_sum -= nums[i]\n",
    "\n",
    "        return -1 \n",
    "        "
   ]
  },
  {
   "cell_type": "markdown",
   "metadata": {},
   "source": [
    "#### 7. Majority Elements"
   ]
  },
  {
   "cell_type": "code",
   "execution_count": 192,
   "metadata": {},
   "outputs": [],
   "source": [
    "class Solution:\n",
    "    def majorityElement(self, nums) -> int:\n",
    "        d = {}\n",
    "        max_ = n = 0\n",
    "        for i in nums:\n",
    "            t = d.get(i,0)+1\n",
    "            d[i] = t\n",
    "            if t>max_:\n",
    "                max_,n = t,i\n",
    "        return n\n",
    "        "
   ]
  },
  {
   "cell_type": "code",
   "execution_count": 196,
   "metadata": {},
   "outputs": [
    {
     "data": {
      "text/plain": [
       "3"
      ]
     },
     "execution_count": 196,
     "metadata": {},
     "output_type": "execute_result"
    }
   ],
   "source": [
    "nums = [3,3,4]\n",
    "Solution().majorityElement(nums)"
   ]
  },
  {
   "cell_type": "code",
   "execution_count": 195,
   "metadata": {},
   "outputs": [],
   "source": [
    "class Solution:\n",
    "    def majorityElement(self, nums) -> int:\n",
    "        from collections import Counter\n",
    "        return Counter(nums).most_common(1)[0][0]"
   ]
  },
  {
   "cell_type": "markdown",
   "metadata": {},
   "source": [
    "#### 9.  Squares of a sorted array"
   ]
  },
  {
   "cell_type": "code",
   "execution_count": 204,
   "metadata": {},
   "outputs": [],
   "source": [
    "class Solution:\n",
    "    def sortedSquares(self, nums: List[int]) -> List[int]:\n",
    "        nums = [val**2 for val in nums]\n",
    "        return sorted(nums)\n"
   ]
  },
  {
   "cell_type": "code",
   "execution_count": 206,
   "metadata": {},
   "outputs": [
    {
     "data": {
      "text/plain": [
       "[4, 9, 9, 49, 121]"
      ]
     },
     "execution_count": 206,
     "metadata": {},
     "output_type": "execute_result"
    }
   ],
   "source": [
    "nums = [-7,-3,2,3,11]\n",
    "Solution().sortedSquares(nums)"
   ]
  },
  {
   "cell_type": "code",
   "execution_count": null,
   "metadata": {},
   "outputs": [],
   "source": [
    "from collections import deque\n",
    "\n",
    "# Approach-2: performing at O(n)\n",
    "class Solution:\n",
    "    def sortedSquares(self, A):\n",
    "        answer = deque()\n",
    "        l, r = 0, len(A) - 1\n",
    "        while l <= r:\n",
    "            left, right = abs(A[l]), abs(A[r])\n",
    "            if left > right:\n",
    "                answer.appendleft(left * left)\n",
    "                l += 1\n",
    "            else:\n",
    "                answer.appendleft(right * right)\n",
    "                r -= 1\n",
    "        return list(answer)"
   ]
  },
  {
   "cell_type": "code",
   "execution_count": 221,
   "metadata": {},
   "outputs": [
    {
     "data": {
      "text/plain": [
       "[1, 1]"
      ]
     },
     "execution_count": 221,
     "metadata": {},
     "output_type": "execute_result"
    }
   ],
   "source": []
  },
  {
   "cell_type": "code",
   "execution_count": 264,
   "metadata": {},
   "outputs": [],
   "source": [
    "class Solution:\n",
    "    def generate(self, numRows: int) -> List[List[int]]:\n",
    "        pivot_  = []\n",
    "        for idx in range(1, numRows+1):\n",
    "            if idx==1:    \n",
    "                pivot_list_ = [1]\n",
    "                pivot_.append(pivot_list_)\n",
    "            else:\n",
    "                pivot_list_ = list(map(lambda x,y:x+y, pivot_list_+[0], [0]+pivot_list_[::-1]))\n",
    "                pivot_.append(pivot_list_)\n",
    "        return pivot_"
   ]
  },
  {
   "cell_type": "code",
   "execution_count": 267,
   "metadata": {},
   "outputs": [
    {
     "data": {
      "text/plain": [
       "[[1], [1, 1], [1, 2, 1], [1, 3, 3, 1], [1, 4, 6, 4, 1], [1, 5, 10, 10, 5, 1]]"
      ]
     },
     "execution_count": 267,
     "metadata": {},
     "output_type": "execute_result"
    }
   ],
   "source": [
    "Solution().generate(6)"
   ]
  },
  {
   "cell_type": "code",
   "execution_count": 266,
   "metadata": {},
   "outputs": [],
   "source": [
    "class Solution:\n",
    "    def generate(self, numRows: int) -> List[List[int]]:\n",
    "        res = [[1]]\n",
    "        for i in range(1, numRows):\n",
    "            res += [map(lambda x, y: x+y, res[-1] + [0], [0] + res[-1])]\n",
    "        return res[:numRows]"
   ]
  },
  {
   "cell_type": "markdown",
   "metadata": {},
   "source": [
    "#### 10. Contains Duplicates"
   ]
  },
  {
   "cell_type": "code",
   "execution_count": 272,
   "metadata": {},
   "outputs": [],
   "source": [
    "class Solution:\n",
    "    def containsDuplicate(self, nums: List[int]) -> bool:\n",
    "        return len(set(nums))!=len(nums)"
   ]
  },
  {
   "cell_type": "code",
   "execution_count": 275,
   "metadata": {},
   "outputs": [
    {
     "data": {
      "text/plain": [
       "True"
      ]
     },
     "execution_count": 275,
     "metadata": {},
     "output_type": "execute_result"
    }
   ],
   "source": [
    "num = [1,1,1,3,3,4,3,2,4,2]\n",
    "Solution().containsDuplicate(num)"
   ]
  },
  {
   "cell_type": "markdown",
   "metadata": {},
   "source": [
    "#### 11. Remove duplicates from array"
   ]
  },
  {
   "cell_type": "code",
   "execution_count": 307,
   "metadata": {},
   "outputs": [],
   "source": [
    "class Solution:\n",
    "    def removeDuplicates(self, nums: List[int]) -> int:\n",
    "        \"\"\"\n",
    "        Do not return anything, modify nums in-place instead.\n",
    "        \"\"\"\n",
    "        from collections import deque\n",
    "        empty_space = deque()\n",
    "        counter = 0\n",
    "        d = {}\n",
    "        for idx, val in enumerate(nums):\n",
    "            if not d.get(val,0):\n",
    "                d[val] = 1\n",
    "                if counter>0:\n",
    "                    nums[empty_space.popleft()] = val\n",
    "                    empty_space.append(idx)    \n",
    "            else:\n",
    "                counter+=1\n",
    "                empty_space.append(idx)\n",
    "        x = 0\n",
    "        if counter>0:\n",
    "            x = empty_space.popleft()\n",
    "            nums[x:] = ['_']*counter\n",
    "        return x\n"
   ]
  },
  {
   "cell_type": "code",
   "execution_count": 308,
   "metadata": {},
   "outputs": [
    {
     "data": {
      "text/plain": [
       "0"
      ]
     },
     "execution_count": 308,
     "metadata": {},
     "output_type": "execute_result"
    }
   ],
   "source": [
    "nums = [1]\n",
    "Solution().removeDuplicates(nums)"
   ]
  },
  {
   "cell_type": "code",
   "execution_count": 316,
   "metadata": {},
   "outputs": [],
   "source": [
    "class Solution:\n",
    "\tdef removeDuplicates(self, nums: List[int]) -> int:\n",
    "\t\tx = 1\n",
    "\t\tfor i in range(len(nums)-1):\n",
    "\t\t\tif(nums[i]!=nums[i+1]):\n",
    "\t\t\t\tnums[x] = nums[i+1]\n",
    "\t\t\t\tx+=1\n",
    "\t\treturn x,nums"
   ]
  },
  {
   "cell_type": "code",
   "execution_count": 317,
   "metadata": {},
   "outputs": [],
   "source": [
    "class Solution:\n",
    "\tdef removeDuplicates(self, nums: List[int]) -> int:\n",
    "\t\treturn len(set(nums))"
   ]
  },
  {
   "cell_type": "code",
   "execution_count": 319,
   "metadata": {},
   "outputs": [
    {
     "data": {
      "text/plain": [
       "1"
      ]
     },
     "execution_count": 319,
     "metadata": {},
     "output_type": "execute_result"
    }
   ],
   "source": [
    "nums = [1,]\n",
    "Solution().removeDuplicates(nums)"
   ]
  },
  {
   "cell_type": "markdown",
   "metadata": {},
   "source": [
    "#### 12. Count Odd Numbers in an Interval Range\n"
   ]
  },
  {
   "cell_type": "code",
   "execution_count": 329,
   "metadata": {},
   "outputs": [],
   "source": [
    "class Solution:\n",
    "    def countOdds(self, low: int, high: int) -> int:\n",
    "        total_num = (high-low)+1\n",
    "        if total_num%2:\n",
    "            if high%2 or low%2:\n",
    "                total_num+=1\n",
    "        return int(total_num/2)"
   ]
  },
  {
   "cell_type": "code",
   "execution_count": 330,
   "metadata": {},
   "outputs": [
    {
     "data": {
      "text/plain": [
       "1"
      ]
     },
     "execution_count": 330,
     "metadata": {},
     "output_type": "execute_result"
    }
   ],
   "source": [
    "Solution().countOdds(8,10)"
   ]
  },
  {
   "cell_type": "markdown",
   "metadata": {},
   "source": [
    "#### 13.Average Salary Excluding the Minimum and Maximum Salary"
   ]
  },
  {
   "cell_type": "code",
   "execution_count": 341,
   "metadata": {},
   "outputs": [],
   "source": [
    "class Solution:\n",
    "    def average(self, salary: List[int]) -> float:\n",
    "        salary.sort()\n",
    "        return sum(salary[1:-1])/(len(salary)-2)"
   ]
  },
  {
   "cell_type": "code",
   "execution_count": 343,
   "metadata": {},
   "outputs": [
    {
     "data": {
      "text/plain": [
       "2000.0"
      ]
     },
     "execution_count": 343,
     "metadata": {},
     "output_type": "execute_result"
    }
   ],
   "source": [
    "salary = [1000,2000,3000]\n",
    "Solution().average(salary)"
   ]
  }
 ],
 "metadata": {
  "kernelspec": {
   "display_name": "Python 3.8.8 ('base')",
   "language": "python",
   "name": "python3"
  },
  "language_info": {
   "codemirror_mode": {
    "name": "ipython",
    "version": 3
   },
   "file_extension": ".py",
   "mimetype": "text/x-python",
   "name": "python",
   "nbconvert_exporter": "python",
   "pygments_lexer": "ipython3",
   "version": "3.8.8"
  },
  "orig_nbformat": 4,
  "vscode": {
   "interpreter": {
    "hash": "ad2bdc8ecc057115af97d19610ffacc2b4e99fae6737bb82f5d7fb13d2f2c186"
   }
  }
 },
 "nbformat": 4,
 "nbformat_minor": 2
}
