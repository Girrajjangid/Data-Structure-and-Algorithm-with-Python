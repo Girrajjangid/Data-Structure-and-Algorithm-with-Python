{
 "cells": [
  {
   "cell_type": "code",
   "execution_count": 1,
   "metadata": {},
   "outputs": [],
   "source": [
    "from typing import List, Dict"
   ]
  },
  {
   "cell_type": "markdown",
   "metadata": {},
   "source": [
    "#### 1. Best time to buy stock"
   ]
  },
  {
   "cell_type": "code",
   "execution_count": 19,
   "metadata": {},
   "outputs": [],
   "source": [
    "class Solution:\n",
    "    def maxProfit(self, prices: List[int]) -> int:\n",
    "        # It is impossible to sell stock on first day, set -infinity as initial value for cur_hold\n",
    "        cur_hold, cur_not_hold = -float('inf'), 0\n",
    "        for stock_price in prices:\n",
    "            prev_hold, prev_not_hold = cur_hold, cur_not_hold\n",
    "\t\t\t# either keep hold, or buy in stock today at stock price\n",
    "            cur_hold = max( prev_hold, prev_not_hold - stock_price )\n",
    "\t\t\t# either keep not-hold, or sell out stock today at stock price\n",
    "            cur_not_hold = max( prev_not_hold, prev_hold + stock_price )\n",
    "            print(cur_hold, cur_not_hold)\n",
    "        # maximum profit must be in not-hold state\n",
    "        return cur_not_hold if prices else 0"
   ]
  },
  {
   "cell_type": "code",
   "execution_count": 23,
   "metadata": {},
   "outputs": [],
   "source": [
    "class Solution:\n",
    "    def maxProfit(self, prices: List[int]) -> int:\n",
    "        max_profit = 0\n",
    "        for idx, val in enumerate(prices[:-1]):\n",
    "            if prices[idx] < prices[idx+1]:\n",
    "                max_profit = max_profit + (prices[idx+1]-prices[idx])\n",
    "        return max_profit"
   ]
  },
  {
   "cell_type": "code",
   "execution_count": 27,
   "metadata": {},
   "outputs": [
    {
     "data": {
      "text/plain": [
       "0"
      ]
     },
     "execution_count": 27,
     "metadata": {},
     "output_type": "execute_result"
    }
   ],
   "source": [
    "prices = [7,6,4,3,1]\n",
    "Solution().maxProfit(prices)"
   ]
  },
  {
   "cell_type": "markdown",
   "metadata": {},
   "source": [
    "#### 2. Maximum subarray"
   ]
  },
  {
   "cell_type": "code",
   "execution_count": 32,
   "metadata": {},
   "outputs": [],
   "source": [
    "class Solution:\n",
    "    def maxSubArray(self, nums: List[int]) -> int:\n",
    "        max_sum = nums[0]\n",
    "        curt_sum = 0\n",
    "        for i in nums:\n",
    "            if curt_sum < 0:\n",
    "                curt_sum = 0\n",
    "            curt_sum+=i\n",
    "            max_sum = max(max_sum, curt_sum)\n",
    "            print(curt_sum, max_sum)\n",
    "        return max_sum"
   ]
  },
  {
   "cell_type": "code",
   "execution_count": 34,
   "metadata": {},
   "outputs": [],
   "source": [
    "# Same question using the divide and conquer\n",
    "\n",
    "class Solution:\n",
    "    def maxSubArray(self, nums):\n",
    "        \"\"\"\n",
    "        :type nums: List[int]\n",
    "        :rtype: int\n",
    "        \"\"\"\n",
    "        def divide_and_conquer(nums, i, j):\n",
    "            if i == j-1:\n",
    "                return nums[i],nums[i],nums[i],nums[i]\n",
    "            \n",
    "            # we will compute :\n",
    "            # a which is max contiguous sum in nums[i:j] including the first value\n",
    "            # m which is max contiguous sum in nums[i:j] anywhere \n",
    "            # b which is max contiguous sum in nums[i:j] including the last value\n",
    "            # s which is the sum of all values in nums[i:j]\n",
    "                \n",
    "            # compute middle index to divide array in two halves\n",
    "            i_mid = i+(j-i)//2\n",
    "            \n",
    "            # compute a, m, b, s for left half\n",
    "            a1, m1, b1, s1 = divide_and_conquer(nums, i, i_mid)\n",
    "            \n",
    "            # compute a, m, b, s for right half\n",
    "            a2, m2, b2, s2 = divide_and_conquer(nums, i_mid, j)\n",
    "            \n",
    "            # combine a, m, b, s values from left and right halves to form a, m, b, s for whole array (bottom up)\n",
    "            a = max(a1, s1+a2)\n",
    "            b = max(b2, s2+b1)\n",
    "            m = max(m1,m2,b1+a2)\n",
    "            s = s1+s2\n",
    "            return a,m,b,s\n",
    "                  \n",
    "        _,m,_,_ = divide_and_conquer(nums, 0, len(nums))\n",
    "        return m"
   ]
  },
  {
   "cell_type": "code",
   "execution_count": 35,
   "metadata": {},
   "outputs": [
    {
     "data": {
      "text/plain": [
       "6"
      ]
     },
     "execution_count": 35,
     "metadata": {},
     "output_type": "execute_result"
    }
   ],
   "source": [
    "nums = [-2,1,-3,4,-1,2,1,-5,4]\n",
    "Solution().maxSubArray(nums)"
   ]
  },
  {
   "cell_type": "markdown",
   "metadata": {},
   "source": [
    "#### 3. Sort the Matrix Diagonally"
   ]
  },
  {
   "cell_type": "code",
   "execution_count": 17,
   "metadata": {},
   "outputs": [],
   "source": [
    "from typing import List"
   ]
  },
  {
   "cell_type": "code",
   "execution_count": 32,
   "metadata": {},
   "outputs": [],
   "source": [
    "class Solution:\n",
    "    def diagonalSort(self, mat: List[List[int]]) -> List[List[int]]:\n",
    "        d = {}\n",
    "        rows = len(mat)\n",
    "        cols = len(mat[0])\n",
    "        for i in range(rows):\n",
    "            for j in range(cols):\n",
    "                if i-j in d:\n",
    "                    d[i-j].append(mat[i][j])\n",
    "                else:\n",
    "                    d[i-j] = [mat[i][j]]\n",
    "                    \n",
    "        for k in d.keys():\n",
    "            d[k].sort()\n",
    "            \n",
    "        for i in range(rows):\n",
    "            for j in range(cols):\n",
    "                mat[i][j] = d[i-j].pop(0)\n",
    "                \n",
    "        return mat"
   ]
  },
  {
   "cell_type": "code",
   "execution_count": null,
   "metadata": {},
   "outputs": [],
   "source": []
  },
  {
   "cell_type": "code",
   "execution_count": 33,
   "metadata": {},
   "outputs": [
    {
     "name": "stdout",
     "output_type": "stream",
     "text": [
      "[[0, 0], [1, 1], [2, 2], [3, 3]]\n",
      "[[0, 1], [1, 2], [2, 3]]\n",
      "[[0, 2], [1, 3]]\n"
     ]
    }
   ],
   "source": [
    "mat = [[3,3,1,1],\n",
    "       [2,2,1,2],\n",
    "       [1,1,1,2]]\n",
    "Solution().diagonalSort(mat)"
   ]
  },
  {
   "cell_type": "code",
   "execution_count": 34,
   "metadata": {},
   "outputs": [],
   "source": [
    "d = {}"
   ]
  },
  {
   "cell_type": "code",
   "execution_count": 37,
   "metadata": {},
   "outputs": [
    {
     "ename": "KeyError",
     "evalue": "0",
     "output_type": "error",
     "traceback": [
      "\u001b[1;31m---------------------------------------------------------------------------\u001b[0m",
      "\u001b[1;31mKeyError\u001b[0m                                  Traceback (most recent call last)",
      "\u001b[1;32m<ipython-input-37-f149f7205ac5>\u001b[0m in \u001b[0;36m<module>\u001b[1;34m\u001b[0m\n\u001b[1;32m----> 1\u001b[1;33m \u001b[0md\u001b[0m\u001b[1;33m[\u001b[0m\u001b[0md\u001b[0m\u001b[1;33m.\u001b[0m\u001b[0mget\u001b[0m\u001b[1;33m(\u001b[0m\u001b[1;36m2\u001b[0m\u001b[1;33m,\u001b[0m\u001b[1;36m0\u001b[0m\u001b[1;33m)\u001b[0m\u001b[1;33m]\u001b[0m\u001b[1;33m.\u001b[0m\u001b[0mappend\u001b[0m\u001b[1;33m(\u001b[0m\u001b[1;36m2\u001b[0m\u001b[1;33m)\u001b[0m\u001b[1;33m\u001b[0m\u001b[1;33m\u001b[0m\u001b[0m\n\u001b[0m",
      "\u001b[1;31mKeyError\u001b[0m: 0"
     ]
    }
   ],
   "source": []
  },
  {
   "cell_type": "markdown",
   "metadata": {},
   "source": [
    "#### 4. Number of Islands"
   ]
  },
  {
   "cell_type": "code",
   "execution_count": null,
   "metadata": {},
   "outputs": [],
   "source": []
  },
  {
   "cell_type": "code",
   "execution_count": 1,
   "metadata": {},
   "outputs": [
    {
     "ename": "NameError",
     "evalue": "name 'List' is not defined",
     "output_type": "error",
     "traceback": [
      "\u001b[1;31m---------------------------------------------------------------------------\u001b[0m",
      "\u001b[1;31mNameError\u001b[0m                                 Traceback (most recent call last)",
      "\u001b[1;32m<ipython-input-1-8feb499840fe>\u001b[0m in \u001b[0;36m<module>\u001b[1;34m\u001b[0m\n\u001b[1;32m----> 1\u001b[1;33m \u001b[1;32mclass\u001b[0m \u001b[0mSolution\u001b[0m\u001b[1;33m:\u001b[0m\u001b[1;33m\u001b[0m\u001b[1;33m\u001b[0m\u001b[0m\n\u001b[0m\u001b[0;32m      2\u001b[0m     \u001b[1;32mdef\u001b[0m \u001b[0mnumIslands\u001b[0m\u001b[1;33m(\u001b[0m\u001b[0mself\u001b[0m\u001b[1;33m,\u001b[0m \u001b[0mgrid\u001b[0m\u001b[1;33m:\u001b[0m \u001b[0mList\u001b[0m\u001b[1;33m[\u001b[0m\u001b[0mList\u001b[0m\u001b[1;33m[\u001b[0m\u001b[0mstr\u001b[0m\u001b[1;33m]\u001b[0m\u001b[1;33m]\u001b[0m\u001b[1;33m)\u001b[0m \u001b[1;33m->\u001b[0m \u001b[0mint\u001b[0m\u001b[1;33m:\u001b[0m\u001b[1;33m\u001b[0m\u001b[1;33m\u001b[0m\u001b[0m\n\u001b[0;32m      3\u001b[0m         \u001b[1;32mif\u001b[0m \u001b[1;32mnot\u001b[0m \u001b[0mgrid\u001b[0m\u001b[1;33m:\u001b[0m\u001b[1;33m\u001b[0m\u001b[1;33m\u001b[0m\u001b[0m\n\u001b[0;32m      4\u001b[0m             \u001b[1;32mreturn\u001b[0m \u001b[1;36m0\u001b[0m\u001b[1;33m\u001b[0m\u001b[1;33m\u001b[0m\u001b[0m\n\u001b[0;32m      5\u001b[0m \u001b[1;33m\u001b[0m\u001b[0m\n",
      "\u001b[1;32m<ipython-input-1-8feb499840fe>\u001b[0m in \u001b[0;36mSolution\u001b[1;34m()\u001b[0m\n\u001b[0;32m      1\u001b[0m \u001b[1;32mclass\u001b[0m \u001b[0mSolution\u001b[0m\u001b[1;33m:\u001b[0m\u001b[1;33m\u001b[0m\u001b[1;33m\u001b[0m\u001b[0m\n\u001b[1;32m----> 2\u001b[1;33m     \u001b[1;32mdef\u001b[0m \u001b[0mnumIslands\u001b[0m\u001b[1;33m(\u001b[0m\u001b[0mself\u001b[0m\u001b[1;33m,\u001b[0m \u001b[0mgrid\u001b[0m\u001b[1;33m:\u001b[0m \u001b[0mList\u001b[0m\u001b[1;33m[\u001b[0m\u001b[0mList\u001b[0m\u001b[1;33m[\u001b[0m\u001b[0mstr\u001b[0m\u001b[1;33m]\u001b[0m\u001b[1;33m]\u001b[0m\u001b[1;33m)\u001b[0m \u001b[1;33m->\u001b[0m \u001b[0mint\u001b[0m\u001b[1;33m:\u001b[0m\u001b[1;33m\u001b[0m\u001b[1;33m\u001b[0m\u001b[0m\n\u001b[0m\u001b[0;32m      3\u001b[0m         \u001b[1;32mif\u001b[0m \u001b[1;32mnot\u001b[0m \u001b[0mgrid\u001b[0m\u001b[1;33m:\u001b[0m\u001b[1;33m\u001b[0m\u001b[1;33m\u001b[0m\u001b[0m\n\u001b[0;32m      4\u001b[0m             \u001b[1;32mreturn\u001b[0m \u001b[1;36m0\u001b[0m\u001b[1;33m\u001b[0m\u001b[1;33m\u001b[0m\u001b[0m\n\u001b[0;32m      5\u001b[0m \u001b[1;33m\u001b[0m\u001b[0m\n",
      "\u001b[1;31mNameError\u001b[0m: name 'List' is not defined"
     ]
    }
   ],
   "source": [
    "class Solution:\n",
    "    def numIslands(self, grid: List[List[str]]) -> int:        \n",
    "        if not grid:\n",
    "            return 0\n",
    "\n",
    "        count = 0\n",
    "        for i in range(len(grid)):\n",
    "            for j in range(len(grid[0])):\n",
    "                if grid[i][j] == '1':\n",
    "                    self.dfs(grid, i, j)\n",
    "                    count += 1\n",
    "        return count\n",
    "\n",
    "    def dfs(self, grid, i, j):\n",
    "        if i<0 or j<0 or i>=len(grid) or j>=len(grid[0]) or grid[i][j] != '1':\n",
    "            return\n",
    "        grid[i][j] = '#'\n",
    "        self.dfs(grid, i+1, j)\n",
    "        self.dfs(grid, i-1, j)\n",
    "        self.dfs(grid, i, j+1)\n",
    "        self.dfs(grid, i, j-1)"
   ]
  },
  {
   "cell_type": "markdown",
   "metadata": {},
   "source": [
    "#### 5. Sum of Two Integers"
   ]
  },
  {
   "cell_type": "code",
   "execution_count": 3,
   "metadata": {},
   "outputs": [],
   "source": [
    "class Solution:\n",
    "    def getSum(self, a: int, b: int) -> int:\n",
    "        return a+b"
   ]
  },
  {
   "cell_type": "markdown",
   "metadata": {},
   "source": [
    "#### 6. Find First and Last Position of Element in Sorted Array"
   ]
  },
  {
   "cell_type": "code",
   "execution_count": 7,
   "metadata": {},
   "outputs": [],
   "source": [
    "from typing import List, Optional"
   ]
  },
  {
   "cell_type": "code",
   "execution_count": 36,
   "metadata": {},
   "outputs": [],
   "source": [
    "class Solution:\n",
    "    def searchRange(self, nums: List[int], target: int) -> List[int]:\n",
    "        if not nums: return [-1,-1]\n",
    "        if len(nums)==1 and nums[0]==target: return [0,0]\n",
    "        if len(nums)==1 and nums[0]!=target: return [-1,-1]\n",
    "        l,r = 0, len(nums)-1\n",
    "        while l<=r:\n",
    "            mid = (l+r)//2\n",
    "            if nums[l]==target and nums[r]==target: return [l,r]\n",
    "            if nums[mid]<target:\n",
    "                l = mid+1\n",
    "            elif nums[mid]>target:\n",
    "                r = mid-1\n",
    "            elif nums[l]!=target:\n",
    "                l+=1\n",
    "            elif nums[r]!=target:\n",
    "                r-=1\n",
    "        return [-1,-1]"
   ]
  },
  {
   "cell_type": "code",
   "execution_count": 37,
   "metadata": {},
   "outputs": [
    {
     "data": {
      "text/plain": [
       "[-1, -1]"
      ]
     },
     "execution_count": 37,
     "metadata": {},
     "output_type": "execute_result"
    }
   ],
   "source": [
    "nums = [5,7,7,8,8,10]; target = 8\n",
    "nums = [5,7,7,8,8,10]; target = 6\n",
    "#nums = []; target = 0\n",
    "Solution().searchRange(nums, target)"
   ]
  },
  {
   "cell_type": "code",
   "execution_count": null,
   "metadata": {},
   "outputs": [],
   "source": []
  },
  {
   "cell_type": "markdown",
   "metadata": {},
   "source": [
    "#### 7.Search in Rotated Sorted Array"
   ]
  },
  {
   "cell_type": "code",
   "execution_count": 54,
   "metadata": {},
   "outputs": [],
   "source": [
    "class Solution:\n",
    "    def search(self, nums: List[int], target: int) -> int:\n",
    "        length = len(nums)\n",
    "        if not nums: return -1\n",
    "        if length==1 and nums[0]==target: return 0\n",
    "        if length==1 and nums[0]!=target: return -1\n",
    "        l,r = 0, length-1\n",
    "        while l<=r:\n",
    "            mid = (l+r)//2\n",
    "            if target==nums[mid]: return mid\n",
    "            if nums[l] <= nums[mid]:\n",
    "                if target > nums[mid] or target < nums[l]:\n",
    "                    l = mid+1\n",
    "                else:\n",
    "                    r = mid-1\n",
    "            else:\n",
    "                if target < nums[mid] or target > nums[r]:\n",
    "                    r = mid-1\n",
    "                else:\n",
    "                    l = mid+1\n",
    "        return -1"
   ]
  },
  {
   "cell_type": "code",
   "execution_count": 55,
   "metadata": {},
   "outputs": [
    {
     "data": {
      "text/plain": [
       "4"
      ]
     },
     "execution_count": 55,
     "metadata": {},
     "output_type": "execute_result"
    }
   ],
   "source": [
    "nums = [4,5,6,7,0,1,2]; target = 0\n",
    "nums = [4,5,6,7,0,1,2]; target = 3\n",
    "nums = [1]; target = 0\n",
    "nums= [4,5,6,7,8,1,2,3]; target=8\n",
    "Solution().search(nums, target)"
   ]
  },
  {
   "cell_type": "markdown",
   "metadata": {},
   "source": [
    "#### 8. Find Original Array From Doubled Array"
   ]
  },
  {
   "cell_type": "code",
   "execution_count": null,
   "metadata": {},
   "outputs": [],
   "source": [
    "class Solution:\n",
    "    def findOriginalArray(self, changed: List[int]) -> List[int]:\n",
    "        temp = changed\n",
    "        \n",
    "        "
   ]
  },
  {
   "cell_type": "code",
   "execution_count": null,
   "metadata": {},
   "outputs": [],
   "source": [
    "changed = [1,3,4,2,6,8]\n"
   ]
  },
  {
   "cell_type": "code",
   "execution_count": 3,
   "metadata": {},
   "outputs": [
    {
     "data": {
      "text/plain": [
       "1"
      ]
     },
     "execution_count": 3,
     "metadata": {},
     "output_type": "execute_result"
    }
   ],
   "source": [
    "d = {2:1}\n",
    "d[4/2]"
   ]
  },
  {
   "cell_type": "markdown",
   "metadata": {},
   "source": [
    "#### 9. Find Length"
   ]
  },
  {
   "cell_type": "code",
   "execution_count": 2,
   "metadata": {},
   "outputs": [],
   "source": [
    "class Solution(object):\n",
    "    def findLength(self, A, B):\n",
    "        memo = [[0] * (len(B) + 1) for _ in range(len(A) + 1)]\n",
    "        for i in range(len(A) - 1, -1, -1):\n",
    "            for j in range(len(B) - 1, -1, -1):\n",
    "                if A[i] == B[j]:\n",
    "                    memo[i][j] = memo[i + 1][j + 1] + 1\n",
    "        return max(max(row) for row in memo)"
   ]
  },
  {
   "cell_type": "code",
   "execution_count": 3,
   "metadata": {},
   "outputs": [
    {
     "data": {
      "text/plain": [
       "3"
      ]
     },
     "execution_count": 3,
     "metadata": {},
     "output_type": "execute_result"
    }
   ],
   "source": [
    "nums1 = [1,2,3,2,1]; nums2 = [3,2,1,4,7]\n",
    "Solution().findLength(nums1, nums2)"
   ]
  },
  {
   "cell_type": "markdown",
   "metadata": {},
   "source": [
    "#### 10. Sum of Even Numbers After Queries "
   ]
  },
  {
   "cell_type": "code",
   "execution_count": 1,
   "metadata": {},
   "outputs": [],
   "source": [
    "class Solution(object):\n",
    "    def sumEvenAfterQueries(self, A, queries):\n",
    "        S = sum(x for x in A if x % 2 == 0)\n",
    "        ans = []\n",
    "\n",
    "        for x, k in queries:\n",
    "            if A[k] % 2 == 0: S -= A[k]\n",
    "            A[k] += x\n",
    "            if A[k] % 2 == 0: S += A[k]\n",
    "            ans.append(S)\n",
    "\n",
    "        return ans"
   ]
  },
  {
   "cell_type": "code",
   "execution_count": 2,
   "metadata": {},
   "outputs": [
    {
     "data": {
      "text/plain": [
       "[8, 6, 2, 4]"
      ]
     },
     "execution_count": 2,
     "metadata": {},
     "output_type": "execute_result"
    }
   ],
   "source": [
    "nums = [1,2,3,4]; queries = [[1,0],[-3,1],[-4,0],[2,3]]\n",
    "Solution().sumEvenAfterQueries(nums, queries)"
   ]
  },
  {
   "cell_type": "code",
   "execution_count": 1,
   "metadata": {},
   "outputs": [],
   "source": [
    "class Solution:\n",
    "    def reverseWords(self, s: str) -> str:\n",
    "        return \" \".join([i[::-1] for i in s.split()])"
   ]
  },
  {
   "cell_type": "code",
   "execution_count": 15,
   "metadata": {},
   "outputs": [],
   "source": [
    "# Using array\n",
    "class Solution:\n",
    "    def findClosestElements(self, arr: List[int], k: int, x: int) -> List[int]:\n",
    "        itr = ((abs(x-val),val) for val in arr)\n",
    "        return sorted((val2 for val1, val2 in sorted(itr)[:k]))"
   ]
  },
  {
   "cell_type": "code",
   "execution_count": 16,
   "metadata": {},
   "outputs": [],
   "source": [
    "# Using BInary-search\n",
    "class Solution:\n",
    "    def findClosestElements(self, arr: List[int], k: int, x: int) -> List[int]:\n",
    "        if arr[0] >= x:\n",
    "            return arr[: k]\n",
    "        if arr[-1] <= x:\n",
    "            return arr[-k : ]\n",
    "        left = 0\n",
    "        right = len(arr) - k\n",
    "        while left < right:\n",
    "            mid = (left + right) // 2\n",
    "            if x - arr[mid] > arr[mid + k] - x:\n",
    "                left = mid + 1\n",
    "            else:\n",
    "                right = mid\n",
    "        return arr[left : left + k]"
   ]
  },
  {
   "cell_type": "code",
   "execution_count": 18,
   "metadata": {},
   "outputs": [],
   "source": [
    "# Two pointer approach\n",
    "\n",
    "class Solution:\n",
    "    def findClosestElements(self, arr: List[int], k: int, x: int) -> List[int]:        \n",
    "        i = 0\n",
    "        j = len(arr)-1\n",
    "        while j-i >= k:\n",
    "            if abs(arr[i]- x) >  abs(arr[j]-x):\n",
    "                i+= 1\n",
    "            else: j-=1\n",
    "    \n",
    "        return arr[i:j+1]"
   ]
  },
  {
   "cell_type": "code",
   "execution_count": 19,
   "metadata": {},
   "outputs": [
    {
     "data": {
      "text/plain": [
       "[1, 2, 3, 4]"
      ]
     },
     "execution_count": 19,
     "metadata": {},
     "output_type": "execute_result"
    }
   ],
   "source": [
    "arr = [1,2,3,4,5]; k = 4; x = 3\n",
    "arr = [1,2,3,4,5]; k = 4; x = -1\n",
    "Solution().findClosestElements(arr,k,x)"
   ]
  },
  {
   "cell_type": "code",
   "execution_count": 29,
   "metadata": {},
   "outputs": [],
   "source": [
    "class Solution:\n",
    "    def increasingTriplet(self, nums):\n",
    "        first = second = float('inf')\n",
    "        for n in nums:\n",
    "            if n <= first:\n",
    "                first = n\n",
    "            elif n <= second:\n",
    "                second = n\n",
    "            else:\n",
    "                return True\n",
    "        return False"
   ]
  },
  {
   "cell_type": "code",
   "execution_count": 30,
   "metadata": {},
   "outputs": [
    {
     "data": {
      "text/plain": [
       "True"
      ]
     },
     "execution_count": 30,
     "metadata": {},
     "output_type": "execute_result"
    }
   ],
   "source": [
    "nums = [1,2,3,4,5]\n",
    "#nums = [5,4,3,2,1]\n",
    "nums = [2,1,5,0,4,6]\n",
    "#nums=[20,100,10,12,5,13]\n",
    "Solution().increasingTriplet(nums)"
   ]
  },
  {
   "cell_type": "code",
   "execution_count": null,
   "metadata": {},
   "outputs": [],
   "source": []
  }
 ],
 "metadata": {
  "kernelspec": {
   "display_name": "Python 3.8.8 ('base')",
   "language": "python",
   "name": "python3"
  },
  "language_info": {
   "codemirror_mode": {
    "name": "ipython",
    "version": 3
   },
   "file_extension": ".py",
   "mimetype": "text/x-python",
   "name": "python",
   "nbconvert_exporter": "python",
   "pygments_lexer": "ipython3",
   "version": "3.8.8"
  },
  "orig_nbformat": 4,
  "vscode": {
   "interpreter": {
    "hash": "ad2bdc8ecc057115af97d19610ffacc2b4e99fae6737bb82f5d7fb13d2f2c186"
   }
  }
 },
 "nbformat": 4,
 "nbformat_minor": 2
}
