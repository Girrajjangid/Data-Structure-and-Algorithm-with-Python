{
 "cells": [
  {
   "cell_type": "code",
   "execution_count": 16,
   "metadata": {},
   "outputs": [],
   "source": [
    "from typing import List, Dict"
   ]
  },
  {
   "cell_type": "markdown",
   "metadata": {},
   "source": [
    "#### 1. Best time to buy stock"
   ]
  },
  {
   "cell_type": "code",
   "execution_count": 19,
   "metadata": {},
   "outputs": [],
   "source": [
    "class Solution:\n",
    "    def maxProfit(self, prices: List[int]) -> int:\n",
    "        # It is impossible to sell stock on first day, set -infinity as initial value for cur_hold\n",
    "        cur_hold, cur_not_hold = -float('inf'), 0\n",
    "        for stock_price in prices:\n",
    "            prev_hold, prev_not_hold = cur_hold, cur_not_hold\n",
    "\t\t\t# either keep hold, or buy in stock today at stock price\n",
    "            cur_hold = max( prev_hold, prev_not_hold - stock_price )\n",
    "\t\t\t# either keep not-hold, or sell out stock today at stock price\n",
    "            cur_not_hold = max( prev_not_hold, prev_hold + stock_price )\n",
    "            print(cur_hold, cur_not_hold)\n",
    "        # maximum profit must be in not-hold state\n",
    "        return cur_not_hold if prices else 0"
   ]
  },
  {
   "cell_type": "code",
   "execution_count": 23,
   "metadata": {},
   "outputs": [],
   "source": [
    "class Solution:\n",
    "    def maxProfit(self, prices: List[int]) -> int:\n",
    "        max_profit = 0\n",
    "        for idx, val in enumerate(prices[:-1]):\n",
    "            if prices[idx] < prices[idx+1]:\n",
    "                max_profit = max_profit + (prices[idx+1]-prices[idx])\n",
    "        return max_profit"
   ]
  },
  {
   "cell_type": "code",
   "execution_count": 27,
   "metadata": {},
   "outputs": [
    {
     "data": {
      "text/plain": [
       "0"
      ]
     },
     "execution_count": 27,
     "metadata": {},
     "output_type": "execute_result"
    }
   ],
   "source": [
    "prices = [7,6,4,3,1]\n",
    "Solution().maxProfit(prices)"
   ]
  },
  {
   "cell_type": "markdown",
   "metadata": {},
   "source": [
    "#### 2. Maximum subarray"
   ]
  },
  {
   "cell_type": "code",
   "execution_count": 32,
   "metadata": {},
   "outputs": [],
   "source": [
    "class Solution:\n",
    "    def maxSubArray(self, nums: List[int]) -> int:\n",
    "        max_sum = nums[0]\n",
    "        curt_sum = 0\n",
    "        for i in nums:\n",
    "            if curt_sum < 0:\n",
    "                curt_sum = 0\n",
    "            curt_sum+=i\n",
    "            max_sum = max(max_sum, curt_sum)\n",
    "            print(curt_sum, max_sum)\n",
    "        return max_sum"
   ]
  },
  {
   "cell_type": "code",
   "execution_count": 34,
   "metadata": {},
   "outputs": [],
   "source": [
    "# Same question using the divide and conquer\n",
    "\n",
    "class Solution:\n",
    "    def maxSubArray(self, nums):\n",
    "        \"\"\"\n",
    "        :type nums: List[int]\n",
    "        :rtype: int\n",
    "        \"\"\"\n",
    "        def divide_and_conquer(nums, i, j):\n",
    "            if i == j-1:\n",
    "                return nums[i],nums[i],nums[i],nums[i]\n",
    "            \n",
    "            # we will compute :\n",
    "            # a which is max contiguous sum in nums[i:j] including the first value\n",
    "            # m which is max contiguous sum in nums[i:j] anywhere \n",
    "            # b which is max contiguous sum in nums[i:j] including the last value\n",
    "            # s which is the sum of all values in nums[i:j]\n",
    "                \n",
    "            # compute middle index to divide array in two halves\n",
    "            i_mid = i+(j-i)//2\n",
    "            \n",
    "            # compute a, m, b, s for left half\n",
    "            a1, m1, b1, s1 = divide_and_conquer(nums, i, i_mid)\n",
    "            \n",
    "            # compute a, m, b, s for right half\n",
    "            a2, m2, b2, s2 = divide_and_conquer(nums, i_mid, j)\n",
    "            \n",
    "            # combine a, m, b, s values from left and right halves to form a, m, b, s for whole array (bottom up)\n",
    "            a = max(a1, s1+a2)\n",
    "            b = max(b2, s2+b1)\n",
    "            m = max(m1,m2,b1+a2)\n",
    "            s = s1+s2\n",
    "            return a,m,b,s\n",
    "                  \n",
    "        _,m,_,_ = divide_and_conquer(nums, 0, len(nums))\n",
    "        return m"
   ]
  },
  {
   "cell_type": "code",
   "execution_count": 35,
   "metadata": {},
   "outputs": [
    {
     "data": {
      "text/plain": [
       "6"
      ]
     },
     "execution_count": 35,
     "metadata": {},
     "output_type": "execute_result"
    }
   ],
   "source": [
    "nums = [-2,1,-3,4,-1,2,1,-5,4]\n",
    "Solution().maxSubArray(nums)"
   ]
  },
  {
   "cell_type": "code",
   "execution_count": null,
   "metadata": {},
   "outputs": [],
   "source": []
  },
  {
   "cell_type": "code",
   "execution_count": null,
   "metadata": {},
   "outputs": [],
   "source": []
  }
 ],
 "metadata": {
  "kernelspec": {
   "display_name": "Python 3.8.8 ('base')",
   "language": "python",
   "name": "python3"
  },
  "language_info": {
   "codemirror_mode": {
    "name": "ipython",
    "version": 3
   },
   "file_extension": ".py",
   "mimetype": "text/x-python",
   "name": "python",
   "nbconvert_exporter": "python",
   "pygments_lexer": "ipython3",
   "version": "3.8.8"
  },
  "orig_nbformat": 4,
  "vscode": {
   "interpreter": {
    "hash": "ad2bdc8ecc057115af97d19610ffacc2b4e99fae6737bb82f5d7fb13d2f2c186"
   }
  }
 },
 "nbformat": 4,
 "nbformat_minor": 2
}
