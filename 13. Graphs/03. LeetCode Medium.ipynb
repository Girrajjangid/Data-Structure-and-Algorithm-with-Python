{
 "cells": [
  {
   "cell_type": "code",
   "execution_count": 1,
   "metadata": {},
   "outputs": [],
   "source": [
    "from typing import List, Dict"
   ]
  },
  {
   "cell_type": "markdown",
   "metadata": {},
   "source": [
    "#### 1. All Path Source Target"
   ]
  },
  {
   "cell_type": "code",
   "execution_count": 6,
   "metadata": {},
   "outputs": [],
   "source": [
    "class Solution:\n",
    "\n",
    "    def allPathsSourceTarget(self, graph):\n",
    "        def dfs(cur, path):\n",
    "            if cur == len(graph) - 1:\n",
    "                res.append(path)\n",
    "            else:\n",
    "                for i in graph[cur]: \n",
    "                    dfs(i, path + [i])\n",
    "        res = []\n",
    "        dfs(0, [0])\n",
    "        return res"
   ]
  },
  {
   "cell_type": "code",
   "execution_count": 7,
   "metadata": {},
   "outputs": [
    {
     "data": {
      "text/plain": [
       "[[0, 4], [0, 3, 4], [0, 1, 3, 4], [0, 1, 4]]"
      ]
     },
     "execution_count": 7,
     "metadata": {},
     "output_type": "execute_result"
    }
   ],
   "source": [
    "graph = [[1,2],[3],[3],[]]\n",
    "graph = [[4,3,1],[3,2,4],[3],[4],[]]\n",
    "graph = [[4,3,1],[3,2,4],[],[4],[]]\n",
    "Solution().allPathsSourceTarget(graph)"
   ]
  },
  {
   "cell_type": "markdown",
   "metadata": {},
   "source": [
    "#### 2. Minimum Number of Vertices to Reach All Nodes"
   ]
  },
  {
   "cell_type": "code",
   "execution_count": 24,
   "metadata": {},
   "outputs": [],
   "source": [
    "class Solution:\n",
    "    def findSmallestSetOfVertices(self, n: int, edges: List[List[int]]) -> List[int]:\n",
    "        d = {}\n",
    "        for f,t in edges:\n",
    "            d[t] = d.get(t,0)+1\n",
    "        return [i for i in range(n) if not d.get(i,None)]\n",
    "        "
   ]
  },
  {
   "cell_type": "code",
   "execution_count": 25,
   "metadata": {},
   "outputs": [],
   "source": [
    "class Solution:\n",
    "    def findSmallestSetOfVertices(self, n, edges):\n",
    "        return list(set(range(n)) - set(j for i, j in edges))"
   ]
  },
  {
   "cell_type": "code",
   "execution_count": 26,
   "metadata": {},
   "outputs": [
    {
     "data": {
      "text/plain": [
       "[0, 2, 3]"
      ]
     },
     "execution_count": 26,
     "metadata": {},
     "output_type": "execute_result"
    }
   ],
   "source": [
    "n = 6; edges = [[0,1],[0,2],[2,5],[3,4],[4,2]]\n",
    "n = 5; edges = [[0,1],[2,1],[3,1],[1,4],[2,4]]\n",
    "Solution().findSmallestSetOfVertices(n, edges)"
   ]
  },
  {
   "cell_type": "markdown",
   "metadata": {},
   "source": [
    "#### 3. Valid path"
   ]
  },
  {
   "cell_type": "code",
   "execution_count": 72,
   "metadata": {},
   "outputs": [],
   "source": [
    "from collections import defaultdict\n",
    "\n",
    "class Solution:\n",
    "    def validPath(self, n: int, edges: List[List[int]], start: int, end: int) -> bool:\n",
    "        adj_list = defaultdict(list)\n",
    "        if start == end: return True\n",
    "        for k, v in edges:\n",
    "            adj_list[k].append(v)\n",
    "            adj_list[v].append(k)\n",
    "        visited = set()\n",
    "        def dfs(node):\n",
    "            if node == end: return True\n",
    "            if node not in visited:\n",
    "                visited.add(node)\n",
    "                for edge in adj_list[node]:\n",
    "                    res = dfs(edge)\n",
    "                    if res: return True\n",
    "        return dfs(start)"
   ]
  },
  {
   "cell_type": "code",
   "execution_count": 73,
   "metadata": {},
   "outputs": [
    {
     "data": {
      "text/plain": [
       "True"
      ]
     },
     "execution_count": 73,
     "metadata": {},
     "output_type": "execute_result"
    }
   ],
   "source": [
    "n = 3; edges = [[0,1],[1,2],[2,0]]; source = 0; destination = 2\n",
    "n = 6; edges = [[0,1],[0,2],[3,5],[5,4],[4,3]]; source = 0; destination = 5\n",
    "n=1; edges=[]; source=0; destination=0\n",
    "n=10; edges=[[0,7],[0,8],[6,1],[2,0],[0,4],[5,8],[4,7],[1,3],[3,5],[6,5]]; source=7; destination=5\n",
    "Solution().validPath(n, edges, source, destination)"
   ]
  },
  {
   "cell_type": "code",
   "execution_count": 10,
   "metadata": {},
   "outputs": [],
   "source": [
    "from typing import List"
   ]
  },
  {
   "cell_type": "markdown",
   "metadata": {},
   "source": [
    "#### 4. Get Importance"
   ]
  },
  {
   "cell_type": "code",
   "execution_count": 30,
   "metadata": {},
   "outputs": [],
   "source": [
    "# Definition for Employee.\n",
    "class Employee:\n",
    "    def __init__(self, id: int, importance: int, subordinates: List[int]):\n",
    "        self.id = id\n",
    "        self.importance = importance\n",
    "        self.subordinates = subordinates\n",
    "\n",
    "class Solution:\n",
    "    def getImportance(self, employees: List['Employee'], id: int) -> int:\n",
    "        importance = 0\n",
    "        d = {}\n",
    "        im= {} \n",
    "        for i in employees:\n",
    "            d[i.id]  = i.subordinates\n",
    "            im[i.id] = i.importance \n",
    "        queue = [id]\n",
    "        while queue:\n",
    "            ida = queue.pop(0)\n",
    "            importance+=im[ida]\n",
    "            if d[ida]: queue.extend(d[ida])\n",
    "        return importance        "
   ]
  },
  {
   "cell_type": "code",
   "execution_count": 36,
   "metadata": {},
   "outputs": [],
   "source": [
    "# Approach-2: Using DFS\n",
    "class Solution(object):\n",
    "    def getImportance(self, employees, query_id):\n",
    "        emap = {e.id: e for e in employees}\n",
    "        def dfs(eid):\n",
    "            employee = emap[eid]\n",
    "            return (employee.importance + sum(dfs(eid) for eid in employee.subordinates))\n",
    "        return dfs(query_id)"
   ]
  },
  {
   "cell_type": "code",
   "execution_count": 37,
   "metadata": {},
   "outputs": [
    {
     "data": {
      "text/plain": [
       "-3"
      ]
     },
     "execution_count": 37,
     "metadata": {},
     "output_type": "execute_result"
    }
   ],
   "source": [
    "employees = [[1,5,[2,3]],[2,3,[]],[3,3,[]]]; id = 1\n",
    "employees = [[1,2,[5]],[5,-3,[]]]; id = 5\n",
    "employees = [Employee(*i) for i in employees]\n",
    "Solution().getImportance(employees, id)"
   ]
  },
  {
   "cell_type": "markdown",
   "metadata": {},
   "source": [
    "#### 5. Time Needed to Inform All Employees"
   ]
  },
  {
   "cell_type": "code",
   "execution_count": 117,
   "metadata": {},
   "outputs": [],
   "source": [
    "class Solution:\n",
    "    def numOfMinutes(self, n: int, headID: int, manager: List[int], informTime: List[int]) -> int:\n",
    "        from collections import defaultdict\n",
    "        d = defaultdict(list)\n",
    "        \n",
    "        for idx, (val,price) in enumerate(zip(manager,informTime)):\n",
    "            d[val].append((idx,price))\n",
    "        \n",
    "        def dfs(root):\n",
    "            if d.get(root,None) is None: return 0\n",
    "            else: return max(max([dfs(val)+price]) for val, price in d[root])\n",
    "        \n",
    "        return dfs(-1)\n",
    "            "
   ]
  },
  {
   "cell_type": "code",
   "execution_count": 118,
   "metadata": {},
   "outputs": [
    {
     "data": {
      "text/plain": [
       "3"
      ]
     },
     "execution_count": 118,
     "metadata": {},
     "output_type": "execute_result"
    }
   ],
   "source": [
    "#n = 6; headID = 2; manager = [2,2,-1,2,2,2]; informTime = [0,0,1,0,0,0]\n",
    "#n = 1; headID = 0; manager = [-1]; informTime = [0]\n",
    "n=15; headID=0; manager=[-1,0,0,1,1,2,2,3,3,4,4,5,5,6,6]; informTime=[1,1,1,1,1,1,1,0,0,0,0,0,0,0,0]\n",
    "Solution().numOfMinutes(n,headID,manager,informTime)"
   ]
  },
  {
   "cell_type": "markdown",
   "metadata": {},
   "source": [
    "#### 6. Find the City With the Smallest Number of Neighbors at a Threshold Distance"
   ]
  },
  {
   "cell_type": "code",
   "execution_count": 244,
   "metadata": {},
   "outputs": [],
   "source": [
    "from typing import List, Dict\n",
    "class Solution:\n",
    "    def findTheCity(self, n: int, edges: List[List[int]], distanceThreshold: int) -> int:\n",
    "        from collections import defaultdict\n",
    "        p = defaultdict(list)\n",
    "        w = defaultdict(list)\n",
    "        for f,t,w_ in edges:\n",
    "            p[f].append(t)\n",
    "            w[f].append(w_)\n",
    "            p[t].append(f)\n",
    "            w[t].append(w_)\n",
    "        main_res = []\n",
    "        for edge in p.keys():\n",
    "            visited = []\n",
    "            stack = [(edge,0)]\n",
    "            path_weight = 0\n",
    "            res = set()\n",
    "            while stack:\n",
    "                edge,path = stack.pop(0)\n",
    "                if edge in visited: continue\n",
    "                visited.append(edge)\n",
    "                for idx, temp in enumerate(p[edge]):\n",
    "                    if temp in visited: continue\n",
    "                    if path + w[edge][idx] <= distanceThreshold:\n",
    "                        stack.append((temp,path + w[edge][idx]))\n",
    "                        res.add(temp)\n",
    "            main_res.append(list(res))\n",
    "        all_node = set()\n",
    "        for i in main_res:\n",
    "            for j in i:\n",
    "                all_node.add(j)\n",
    "        no_visited_edge = []\n",
    "        for i in range(n):\n",
    "            if i not in all_node:\n",
    "                no_visited_edge.append(i)\n",
    "        if no_visited_edge:\n",
    "            return max(no_visited_edge)\n",
    "        return sorted([(v, i) for (i, v) in enumerate(main_res)], key=lambda x: (len(x[0]),-x[1]))[0][-1]"
   ]
  },
  {
   "cell_type": "code",
   "execution_count": 245,
   "metadata": {},
   "outputs": [
    {
     "data": {
      "text/plain": [
       "5"
      ]
     },
     "execution_count": 245,
     "metadata": {},
     "output_type": "execute_result"
    }
   ],
   "source": [
    "n = 4; edges = [[0,1,3],[1,2,1],[1,3,4],[2,3,1]]; distanceThreshold = 4\n",
    "n = 5; edges = [[0,1,2],[0,4,8],[1,2,3],[1,4,2],[2,3,1],[3,4,1]]; distanceThreshold = 2\n",
    "n = 6; edges  = [[0,3,7],[2,4,1],[0,1,5],[2,3,10],[1,3,6],[1,2,1]]; distanceThreshold=417\n",
    "Solution().findTheCity(n,edges,distanceThreshold)"
   ]
  },
  {
   "cell_type": "code",
   "execution_count": null,
   "metadata": {},
   "outputs": [],
   "source": []
  },
  {
   "cell_type": "markdown",
   "metadata": {},
   "source": [
    "#### 7. Find Eventual Safe States"
   ]
  },
  {
   "cell_type": "code",
   "execution_count": 23,
   "metadata": {},
   "outputs": [],
   "source": [
    "class Solution:\n",
    "    def eventualSafeNodes(self, graph: List[List[int]]) -> List[int]:\n",
    "        safe = {}\n",
    "        def dfs(i):\n",
    "            if i in safe:\n",
    "                return safe[i]\n",
    "            safe[i] = False # visited\n",
    "            for val in graph[i]:\n",
    "                if not dfs(val):\n",
    "                    return False\n",
    "            safe[i] = True # Safe\n",
    "            return True                    \n",
    "        \n",
    "        length = len(graph)\n",
    "        res = []\n",
    "        for i in range(length):\n",
    "            if dfs(i):\n",
    "                res.append(i)\n",
    "        return res\n",
    "                "
   ]
  },
  {
   "cell_type": "code",
   "execution_count": 24,
   "metadata": {},
   "outputs": [
    {
     "data": {
      "text/plain": [
       "[4]"
      ]
     },
     "execution_count": 24,
     "metadata": {},
     "output_type": "execute_result"
    }
   ],
   "source": [
    "graph = [[1,2],[2,3],[5],[0],[5],[],[]]\n",
    "graph = [[1,2,3,4],[1,2],[3,4],[0,4],[]]\n",
    "Solution().eventualSafeNodes(graph)"
   ]
  },
  {
   "cell_type": "markdown",
   "metadata": {},
   "source": [
    "#### 8. Possible Bipartition"
   ]
  },
  {
   "cell_type": "code",
   "execution_count": 71,
   "metadata": {},
   "outputs": [],
   "source": [
    "class Solution:\n",
    "    def possibleBipartition(self, N, dislikes):\n",
    "        \"\"\"\n",
    "        :type N: int\n",
    "        :type dislikes: List[List[int]]\n",
    "        :rtype: bool\n",
    "        \"\"\"\n",
    "        bag = [[] for i in range(N+1)]\n",
    "        visited = [-1] * (N+1)\n",
    "        count = 0\n",
    "        for dislike in dislikes:\n",
    "            bag[dislike[0]].append(dislike[1])\n",
    "            bag[dislike[1]].append(dislike[0])\n",
    "        \n",
    "        for i in range(1, N+1):\n",
    "            if visited[i] == -1 and  len(bag[i]) > 0:\n",
    "                if not self.visit(0, i, bag, visited):\n",
    "                    return False\n",
    "                \n",
    "        return True\n",
    "      \n",
    "    def visit(self, curLevel, i, bag, visited):     \n",
    "        if visited[i] >= 0:\n",
    "            return (curLevel - visited[i]) % 2 == 0\n",
    "                \n",
    "        visited[i] = curLevel\n",
    "        for des in bag[i]:\n",
    "            if not self.visit(curLevel + 1, des, bag, visited):\n",
    "                return False\n",
    "        return True"
   ]
  },
  {
   "cell_type": "code",
   "execution_count": 72,
   "metadata": {},
   "outputs": [
    {
     "data": {
      "text/plain": [
       "True"
      ]
     },
     "execution_count": 72,
     "metadata": {},
     "output_type": "execute_result"
    }
   ],
   "source": [
    "n = 4; dislikes = [[1,2],[1,3],[2,4]]\n",
    "n = 3; dislikes = [[1,2],[1,3],[2,3]]\n",
    "n = 10; dislikes= [[1,2],[3,4],[5,6],[6,7],[8,9],[7,8]]\n",
    "Solution().possibleBipartition(n,dislikes)"
   ]
  },
  {
   "cell_type": "code",
   "execution_count": 36,
   "metadata": {},
   "outputs": [],
   "source": [
    "if None and None:\n",
    "    print(\"asdf\")"
   ]
  },
  {
   "attachments": {},
   "cell_type": "markdown",
   "metadata": {},
   "source": [
    "#### 9. 1584. Min Cost to Connect All Points"
   ]
  },
  {
   "cell_type": "code",
   "execution_count": 63,
   "metadata": {},
   "outputs": [],
   "source": [
    "class Solution:\n",
    "    def minCostConnectPoints(self, points: List[List[int]]) -> int:\n",
    "        d, res = {(x, y): float('inf') if i else 0 for i, (x, y) in enumerate(points)}, 0\n",
    "        #print(d)\n",
    "        #print()\n",
    "        while d:\n",
    "            x, y = min(d, key=d.get)  # obtain the current minimum edge\n",
    "            res += d.pop((x, y))      # and remove the corresponding point\n",
    "            for x1, y1 in d:          # for the rest of the points, update the minimum manhattan distance\n",
    "                d[(x1, y1)] = min(d[(x1, y1)], abs(x-x1)+abs(y-y1))\n",
    "            #print(x,y,d,res)\n",
    "            #rint()\n",
    "        return res"
   ]
  },
  {
   "cell_type": "code",
   "execution_count": 64,
   "metadata": {},
   "outputs": [
    {
     "data": {
      "text/plain": [
       "20"
      ]
     },
     "execution_count": 64,
     "metadata": {},
     "output_type": "execute_result"
    }
   ],
   "source": [
    "points = [[0,0],[2,2],[3,10],[5,2],[7,0]]\n",
    "#points = [[3,12],[-2,5],[-4,1]]\n",
    "Solution().minCostConnectPoints(points)"
   ]
  },
  {
   "attachments": {},
   "cell_type": "markdown",
   "metadata": {},
   "source": [
    "#### 10. [547]. Number of Provinces"
   ]
  },
  {
   "cell_type": "code",
   "execution_count": 135,
   "metadata": {},
   "outputs": [],
   "source": [
    "class Solution:\n",
    "    def findCircleNum(self, isConnected: List[List[int]]) -> int:\n",
    "        N = len(isConnected)\n",
    "        seen = set()\n",
    "        def dfs(node):\n",
    "            for nei, adj in enumerate(isConnected[node]):\n",
    "                if adj and nei not in seen:\n",
    "                    seen.add(nei)\n",
    "                    dfs(nei)\n",
    "        \n",
    "        ans = 0\n",
    "        for i in range(N):\n",
    "            if i not in seen:\n",
    "                dfs(i)\n",
    "                ans += 1\n",
    "        return ans"
   ]
  },
  {
   "cell_type": "code",
   "execution_count": 136,
   "metadata": {},
   "outputs": [
    {
     "data": {
      "text/plain": [
       "1"
      ]
     },
     "execution_count": 136,
     "metadata": {},
     "output_type": "execute_result"
    }
   ],
   "source": [
    "isConnected = [[1,1,0],[1,1,0],[0,0,1]]\n",
    "isConnected = [[1,0,0],[0,1,0],[0,0,1]]\n",
    "isConnected = [[1,1,1],[1,1,1],[1,1,1]]\n",
    "Solution().findCircleNum(isConnected)"
   ]
  },
  {
   "attachments": {},
   "cell_type": "markdown",
   "metadata": {},
   "source": [
    "#### 11. 684. Redundant Connection UF"
   ]
  },
  {
   "cell_type": "code",
   "execution_count": 168,
   "metadata": {},
   "outputs": [],
   "source": [
    "class Solution:\n",
    "    def findRedundantConnection(self, edges: List[List[int]]) -> List[int]:\n",
    "        par = [*range(len(edges)+1)]\n",
    "        rank = [1]*(len(edges)+1)\n",
    "        def find(n):\n",
    "            p = par[n] # Parent of n\n",
    "            while p != par[p]: # loop until p parent of itself\n",
    "                par[p] = par[par[p]] # Reduce the hierachy chain\n",
    "                p = par[p]\n",
    "            return p\n",
    "        \n",
    "        def union(n1, n2):\n",
    "            p1,p2 = find(n1), find(n2)\n",
    "            if p1==p2: \n",
    "                return False\n",
    "            if rank[p1] > rank[p2]:\n",
    "                par[p2] = p1\n",
    "                rank[p1] += rank[p2]\n",
    "            else:\n",
    "                par[p1] = p2\n",
    "                rank[p2] += rank[p1]\n",
    "            return True\n",
    "        \n",
    "        res = []\n",
    "        for n1, n2 in edges:\n",
    "            if not union(n1, n2):\n",
    "                res.append((n1,n2))\n",
    "        return res[-1]"
   ]
  },
  {
   "cell_type": "code",
   "execution_count": 166,
   "metadata": {},
   "outputs": [],
   "source": [
    "# Alternate\n",
    "\n",
    "class DSU(object):\n",
    "    def __init__(self):\n",
    "        self.par = range(1001)\n",
    "        self.rnk = [0] * 1001\n",
    "\n",
    "    def find(self, x):\n",
    "        if self.par[x] != x:\n",
    "            self.par[x] = self.find(self.par[x])\n",
    "        return self.par[x]\n",
    "\n",
    "    def union(self, x, y):\n",
    "        xr, yr = self.find(x), self.find(y)\n",
    "        if xr == yr:\n",
    "            return False\n",
    "        elif self.rnk[xr] < self.rnk[yr]:\n",
    "            self.par[xr] = yr\n",
    "        elif self.rnk[xr] > self.rnk[yr]:\n",
    "            self.par[yr] = xr\n",
    "        else:\n",
    "            self.par[yr] = xr\n",
    "            self.rnk[xr] += 1\n",
    "        return True\n",
    "\n",
    "class Solution(object):\n",
    "    def findRedundantConnection(self, edges):\n",
    "        dsu = DSU()\n",
    "        for edge in edges:\n",
    "            if not dsu.union(*edge):\n",
    "                return edge"
   ]
  },
  {
   "cell_type": "code",
   "execution_count": 169,
   "metadata": {},
   "outputs": [
    {
     "data": {
      "text/plain": [
       "(2, 3)"
      ]
     },
     "execution_count": 169,
     "metadata": {},
     "output_type": "execute_result"
    }
   ],
   "source": [
    "edges = [[1,2],[1,3],[2,3]]\n",
    "#edges = [[1,2],[2,3],[3,4],[1,4],[1,5]]\n",
    "#edges = [[9,10],[5,8],[2,6],[1,5],[3,8],[4,9],[8,10],[4,10],[6,8],[7,9]]\n",
    "Solution().findRedundantConnection(edges)"
   ]
  },
  {
   "attachments": {},
   "cell_type": "markdown",
   "metadata": {},
   "source": [
    "#### 12. [1466]. Reorder Routes to Make All Paths Lead to the City Zero"
   ]
  },
  {
   "cell_type": "code",
   "execution_count": 220,
   "metadata": {},
   "outputs": [],
   "source": [
    "# Using DFS\n",
    "import collections \n",
    "class Solution:\n",
    "    def minReorder(self, n: int, connections: List[List[int]]) -> int:\n",
    "        inDegree = collections.defaultdict(list)\n",
    "        adj_list = collections.defaultdict(list)\n",
    "        for a,b in connections:\n",
    "            inDegree[b].append(a)\n",
    "            adj_list[a].append(b)\n",
    "            adj_list[b].append(a)\n",
    "        res = 0\n",
    "        stack = []\n",
    "        visit = {}\n",
    "        key = 0\n",
    "        visit[key] = 1\n",
    "        stack.append(key)\n",
    "        while stack:\n",
    "            last_key = stack.pop()\n",
    "            for key in adj_list[last_key]:\n",
    "                if visit.get(key, None) is None:\n",
    "                    stack.append(key)\n",
    "                    visit[key] = 1\n",
    "                    if last_key in inDegree.get(key,[-1]):\n",
    "                        res+=1\n",
    "        return res"
   ]
  },
  {
   "cell_type": "code",
   "execution_count": 221,
   "metadata": {},
   "outputs": [],
   "source": [
    "# Solution 2: BFS\n",
    "\n",
    "from collections import defaultdict\n",
    "from collections import deque\n",
    "\n",
    "class Solution:\n",
    "    def minReorder(self, n: int, connections: List[List[int]]) -> int:\n",
    "        graph = defaultdict(list)\n",
    "        for u, v in connections:\n",
    "            graph[u].append((v, 1))\n",
    "            graph[v].append((u, 0))\n",
    "        q = deque([0])\n",
    "        visited = {0}\n",
    "        res = 0\n",
    "        while q:\n",
    "            city = q.popleft()\n",
    "            for neighbor, cost in graph[city]:\n",
    "                if neighbor not in visited:\n",
    "                    visited.add(neighbor)\n",
    "                    q.append(neighbor)\n",
    "                    res += cost\n",
    "        return res\n"
   ]
  },
  {
   "cell_type": "code",
   "execution_count": 222,
   "metadata": {},
   "outputs": [
    {
     "data": {
      "text/plain": [
       "0"
      ]
     },
     "execution_count": 222,
     "metadata": {},
     "output_type": "execute_result"
    }
   ],
   "source": [
    "n = 6; connections = [[0,1],[1,3],[2,3],[4,0],[4,5]]\n",
    "n = 5; connections = [[1,0],[1,2],[3,2],[3,4]]\n",
    "n = 3; connections = [[1,0],[2,0]]\n",
    "Solution().minReorder(n, connections)"
   ]
  },
  {
   "attachments": {},
   "cell_type": "markdown",
   "metadata": {},
   "source": [
    "#### 13. [1319]. Number of Operations to Make Network Connected UF"
   ]
  },
  {
   "cell_type": "code",
   "execution_count": 282,
   "metadata": {},
   "outputs": [],
   "source": [
    "class Solution:\n",
    "    def makeConnected(self, n: int, connections: List[List[int]]) -> int:\n",
    "        if len(connections)<n-1: return -1\n",
    "        par = [*range(n+1)]\n",
    "        rank = [1]*(n+1)\n",
    "        \n",
    "        def find(n):\n",
    "            p = par[n]\n",
    "            while p!=par[p]:\n",
    "                par[p] = par[par[p]]\n",
    "                p = par[p]\n",
    "            return p\n",
    "        \n",
    "        def union(n1, n2):\n",
    "            p1,p2 = find(n1), find(n2)\n",
    "            if p1 == p2: return 0\n",
    "            if rank[p1] > rank[p2]:\n",
    "                par[p2] = p1\n",
    "                rank[p1] += rank[p2]\n",
    "            else:\n",
    "                par[p1] = p2\n",
    "                rank[p2] += rank[p1]\n",
    "            return 1\n",
    "        \n",
    "        for a,b in connections:\n",
    "            if union(a,b): \n",
    "                n-=1\n",
    "        return n-1"
   ]
  },
  {
   "cell_type": "code",
   "execution_count": 283,
   "metadata": {},
   "outputs": [
    {
     "data": {
      "text/plain": [
       "1"
      ]
     },
     "execution_count": 283,
     "metadata": {},
     "output_type": "execute_result"
    }
   ],
   "source": [
    "n = 4; connections = [[0,1],[0,2],[1,2]]\n",
    "#n = 6; connections = [[0,1],[0,2],[0,3],[1,2],[2,3]]\n",
    "# n = 100; connections = [[17,51],[33,83],[53,62],[25,34],[35,90],[29,41],[14,53],[40,84],[41,64],[13,68],[44,85],[57,58],[50,74],[20,69],[15,62],\n",
    "#                         [25,88],[4,56],[37,39],[30,62],[69,79],[33,85],[24,83],[35,77],[2,73],[6,28],[46,98],[11,82],[29,72],[67,71],[12,49],[42,56],\n",
    "#                         [56,65],[40,70],[24,64],[29,51],[20,27],[45,88],[58,92],[60,99],[33,46],[19,69],[33,89],[54,82],[16,50],[35,73],[19,45],[19,72],\n",
    "#                         [1,79],[27,80],[22,41],[52,61],[50,85],[27,45],[4,84],[11,96],[0,99],[29,94],[9,19],[66,99],[20,39],[16,85],[12,27],[16,67],\n",
    "#                         [61,80],[67,83],[16,17],[24,27],[16,25],[41,79],[51,95],[46,47],[27,51],[31,44],[0,69],[61,63],[33,95],[17,88],[70,87],[40,42],\n",
    "#                         [21,42],[67,77],[33,65],[3,25],[39,83],[34,40],[15,79],[30,90],[58,95],[45,56],[37,48],[24,91],[31,93],[83,90],[17,86],[61,65],\n",
    "#                         [15,48],[34,56],[12,26],[39,98],[1,48],[21,76],[72,96],[30,69],[46,80],[6,29],[29,81],[22,77],[85,90],[79,83],[6,26],[33,57],\n",
    "#                         [3,65],[63,84],[77,94],[26,90],[64,77],[0,3],[27,97],[66,89],[18,77],[27,43]]\n",
    "Solution().makeConnected(n, connections)"
   ]
  },
  {
   "attachments": {},
   "cell_type": "markdown",
   "metadata": {},
   "source": [
    "#### 14. [1615]. Maximal Network Rank"
   ]
  },
  {
   "cell_type": "code",
   "execution_count": 333,
   "metadata": {},
   "outputs": [],
   "source": [
    "class Solution:\n",
    "    def maximalNetworkRank(self, n: int, roads: List[List[int]]) -> int:\n",
    "        if not roads: return 0\n",
    "        adj_list = collections.defaultdict(set)\n",
    "        for a,b in roads:\n",
    "            adj_list[a].add(b)\n",
    "            adj_list[b].add(a)\n",
    "        res = float('-inf')\n",
    "        for city1 in range(n):\n",
    "            for city2 in range(city1+1, n):            \n",
    "                if (city1 in adj_list[city2]) or (city2 in adj_list[city1]):\n",
    "                    res = max(res, len(adj_list[city1]) + len(adj_list[city2]) - 1)\n",
    "                else:\n",
    "                    res = max(res, len(adj_list[city1]) + len(adj_list[city2]))\n",
    "        return res"
   ]
  },
  {
   "cell_type": "code",
   "execution_count": 338,
   "metadata": {},
   "outputs": [
    {
     "data": {
      "text/plain": [
       "4"
      ]
     },
     "execution_count": 338,
     "metadata": {},
     "output_type": "execute_result"
    }
   ],
   "source": [
    "n = 4; roads = [[0,1],[0,3],[1,2],[1,3]]\n",
    "#n = 5; roads = [[0,1],[0,3],[1,2],[1,3],[2,3],[2,4]]\n",
    "#n = 8; roads = [[0,1],[1,2],[2,3],[2,4],[5,6],[5,7]]\n",
    "#n = 2; roads = []\n",
    "#n = 33; roads = [[7,3],[31,21],[2,18],[32,0],[21,28],[29,16],[32,3],[0,2],[2,3],[25,12],[7,26],[5,29],[18,6],[3,10],[16,6],[27,31],[27,24],[21,15],[9,32],[2,24],[14,7],[19,0],[20,21],[5,27],[12,28],[28,11],[6,7],[4,11],[4,30],[18,13],[5,20],[29,19],[3,0],[30,21],[15,3],[9,15],[1,16],[27,4],[21,19],[8,24],[16,20],[14,16],[0,9],[24,32],[19,13],[23,4],[32,22],[4,28],[27,13],[22,2],[22,25],[30,19],[32,20],[26,18],[21,32],[13,32],[1,25],[29,2],[24,26],[12,29],[4,13],[8,11],[26,13],[6,17],[10,13],[1,12],[10,24],[29,20],[3,4],[11,12],[13,22],[7,30],[6,19],[14,30],[28,14],[28,2],[14,2],[5,25],[31,3],[12,10],[16,10],[31,6],[15,16],[21,25],[27,30],[15,17],[25,14],[6,22],[22,3],[14,18],[5,6],[32,14],[17,21],[29,18],[19,15],[16,22],[7,9],[19,10],[20,6],[13,5],[27,9],[22,30],[19,3],[19,2],[2,27],[2,12],[30,15],[24,31],[9,17],[23,14],[6,23],[5,10],[16,26],[19,31],[16,27],[27,11],[4,9],[1,20],[29,11],[23,30],[0,7],[30,0],[18,4],[0,23],[5,1],[8,31],[8,7],[31,1],[1,7],[17,30],[2,23],[9,30],[24,1],[31,10],[14,10],[5,19],[4,6],[16,25],[23,27],[30,13],[8,1],[8,21],[27,14],[10,18],[24,30],[26,3],[27,10],[9,19],[3,6],[1,23],[25,26],[26,17],[20,11],[16,19],[27,21],[31,5],[25,13],[16,21],[2,30],[11,7],[3,20],[3,14],[26,8],[14,21],[15,6],[6,10],[16,0],[25,23],[25,8],[16,30],[27,7],[25,20],[27,22],[13,24],[25,6],[28,19],[15,13],[31,20],[24,9],[16,12],[26,2],[14,13],[3,11],[10,25],[29,7],[21,10],[15,27],[12,7],[4,1],[32,16],[12,20],[3,1],[15,0],[5,18],[5,15],[3,5],[9,1],[11,18],[11,31],[13,28],[10,8],[1,15],[19,17],[14,19],[11,22],[2,13],[5,8],[14,26],[25,7],[7,18],[17,16],[13,20],[31,0],[0,12],[12,24],[8,2],[13,31],[1,18],[9,31],[32,18],[31,30],[16,4],[30,1],[21,18],[24,16],[15,14],[31,28],[4,17],[21,6],[7,10],[4,32],[5,24],[21,22],[6,30],[7,15],[9,12],[24,18],[4,2],[0,18],[27,26],[1,6],[3,8],[12,14],[18,28],[30,26],[6,13],[7,4],[30,8],[16,13],[31,23],[21,5],[29,21],[32,25],[0,21],[30,5],[1,11],[12,17],[15,11],[22,20],[19,11],[32,26],[5,11],[17,7],[24,28],[25,9],[28,9],[13,3],[28,5],[32,27],[20,27],[24,23],[2,32],[20,15],[10,1],[24,29],[5,14],[28,23],[17,31],[27,3],[29,32],[25,4],[1,13],[26,1],[11,17],[0,28],[8,19],[13,0],[19,23],[15,28],[6,29],[31,29],[0,11],[25,2],[18,12],[7,28],[2,21],[3,25],[4,8],[32,6],[11,2],[9,2],[0,26],[8,13],[31,16],[26,22],[17,2],[16,18],[28,10],[23,18],[4,10],[8,18],[28,3],[17,25],[28,6],[27,18],[15,2],[15,12],[18,25],[11,10],[9,3],[18,15],[23,9],[26,12],[16,9],[26,9],[21,3],[24,15],[14,31],[12,31],[27,19],[19,25],[16,7],[4,21],[8,29],[4,24],[10,29],[11,9],[21,7],[7,22],[7,32],[3,23],[14,6],[17,23],[29,1],[5,12],[2,1],[19,26],[16,5],[5,32],[12,30],[28,32],[32,17],[22,15],[25,27],[23,29],[24,0],[32,10],[0,27],[1,0],[0,20],[13,17],[6,12],[24,14],[7,31],[23,26],[29,30],[14,20],[23,15],[29,15],[20,9],[32,8],[6,8],[20,19],[2,7],[23,7],[32,30],[5,23],[16,11],[3,18],[22,0],[32,15],[9,22],[13,11],[14,9],[31,4],[15,25],[3,29]]\n",
    "Solution().maximalNetworkRank(n, roads)"
   ]
  },
  {
   "attachments": {},
   "cell_type": "markdown",
   "metadata": {},
   "source": [
    "#### 15. 2192. All Ancestors of a Node in a Directed Acyclic Graph"
   ]
  },
  {
   "cell_type": "code",
   "execution_count": 360,
   "metadata": {},
   "outputs": [],
   "source": [
    "from functools import cache\n",
    "\n",
    "class Solution:\n",
    "    def getAncestors(self, n: int, edges: List[List[int]]) -> List[List[int]]:\n",
    "        indegree = {i:set() for i in range(n)}\n",
    "        for a,b in edges: indegree[b].add(a)\n",
    "        \n",
    "        @cache\n",
    "        def dfs(n):\n",
    "            if not indegree[n]: return []\n",
    "            res = []\n",
    "            for i in indegree[n]:\n",
    "                res.extend(dfs(i) + [i])\n",
    "            return sorted(set(res))\n",
    "\n",
    "        return [dfs(i) for i in range(n)]"
   ]
  },
  {
   "cell_type": "code",
   "execution_count": 361,
   "metadata": {},
   "outputs": [
    {
     "data": {
      "text/plain": [
       "[[], [0], [0, 1], [0, 1, 2], [0, 1, 2, 3]]"
      ]
     },
     "execution_count": 361,
     "metadata": {},
     "output_type": "execute_result"
    }
   ],
   "source": [
    "n = 8; edgeList = [[0,3],[0,4],[1,3],[2,4],[2,7],[3,5],[3,6],[3,7],[4,6]]\n",
    "n = 5; edgeList = [[0,1],[0,2],[0,3],[0,4],[1,2],[1,3],[1,4],[2,3],[2,4],[3,4]]\n",
    "Solution().getAncestors(n, edgeList)"
   ]
  },
  {
   "attachments": {},
   "cell_type": "markdown",
   "metadata": {},
   "source": [
    "#### 16. [2285]. Maximum Total Importance of Roads"
   ]
  },
  {
   "cell_type": "code",
   "execution_count": 387,
   "metadata": {},
   "outputs": [],
   "source": [
    "import collections\n",
    "\n",
    "class Solution:\n",
    "    def maximumImportance(self, n: int, roads: List[List[int]]) -> int:\n",
    "        indegree = collections.defaultdict(int)\n",
    "        for a,b in roads:\n",
    "            indegree[b]+=1\n",
    "            indegree[a]+=1\n",
    "        return sum(map(lambda x:x[0]*x[1] , zip(sorted(indegree.values(), reverse=True), list(range(n,0,-1)))))"
   ]
  },
  {
   "cell_type": "code",
   "execution_count": 388,
   "metadata": {},
   "outputs": [
    {
     "data": {
      "text/plain": [
       "20"
      ]
     },
     "execution_count": 388,
     "metadata": {},
     "output_type": "execute_result"
    }
   ],
   "source": [
    "n = 5; roads = [[0,1],[1,2],[2,3],[0,2],[1,3],[2,4]]\n",
    "n = 5; roads = [[0,3],[2,4],[1,3]]\n",
    "Solution().maximumImportance(n, roads)"
   ]
  },
  {
   "attachments": {},
   "cell_type": "markdown",
   "metadata": {},
   "source": [
    "#### 17. 2368. Reachable Nodes With Restrictions"
   ]
  },
  {
   "cell_type": "code",
   "execution_count": 415,
   "metadata": {},
   "outputs": [],
   "source": [
    "class Solution:\n",
    "    def reachableNodes(self, n: int, edges: List[List[int]], restricted: List[int]) -> int:\n",
    "        graph = {i:set() for i in range(n)}\n",
    "        d = {i:1 for i in restricted}\n",
    "        for a,b in edges:\n",
    "            graph[a].add(b)\n",
    "            graph[b].add(a)\n",
    "        stack = collections.deque()\n",
    "        stack.append(0)\n",
    "        visited = {0:1}\n",
    "        res = 1\n",
    "        while stack:\n",
    "            node = stack.popleft()\n",
    "            for keys in graph[node]:\n",
    "                if d.get(keys, None) is None:\n",
    "                    if visited.get(keys,None) is None:\n",
    "                        stack.append(keys)\n",
    "                        res += 1\n",
    "                        visited[keys] = 1        \n",
    "        return res\n",
    "                        "
   ]
  },
  {
   "cell_type": "code",
   "execution_count": null,
   "metadata": {},
   "outputs": [],
   "source": [
    "class Solution:\n",
    "    def reachableNodes(self, n: int, edges: List[List[int]], restricted: List[int]) -> int:\n",
    "        neighbors = collections.defaultdict(list)\n",
    "        for node_a, node_b in edges:\n",
    "            neighbors[node_a].append(node_b)\n",
    "            neighbors[node_b].append(node_a)\n",
    "        seen = [False] * n\n",
    "        for node in restricted:\n",
    "            seen[node] = True\n",
    "        \n",
    "        ans = 0\n",
    "        queue = collections.queue([0])\n",
    "        seen[0] = True\n",
    "        while queue:\n",
    "            curr_node = queue.popleft()\n",
    "            ans += 1\n",
    "            for next_node in neighbors[curr_node]:\n",
    "                if not seen[next_node]:\n",
    "                    seen[next_node] = True\n",
    "                    queue.append(next_node)\n",
    "        return ans "
   ]
  },
  {
   "cell_type": "code",
   "execution_count": 416,
   "metadata": {},
   "outputs": [
    {
     "data": {
      "text/plain": [
       "3"
      ]
     },
     "execution_count": 416,
     "metadata": {},
     "output_type": "execute_result"
    }
   ],
   "source": [
    "n = 7; edges = [[0,1],[1,2],[3,1],[4,0],[0,5],[5,6]]; restricted = [4,5]\n",
    "n = 7; edges = [[0,1],[0,2],[0,5],[0,4],[3,2],[6,5]]; restricted = [4,2,1]\n",
    "Solution().reachableNodes(n, edges, restricted)"
   ]
  },
  {
   "attachments": {},
   "cell_type": "markdown",
   "metadata": {},
   "source": [
    "#### 18. 1334. Find the City With the Smallest Number of Neighbors at a Threshold Distance"
   ]
  },
  {
   "cell_type": "code",
   "execution_count": 447,
   "metadata": {},
   "outputs": [],
   "source": [
    "class Solution:\n",
    "    def findTheCity(self, n, edges, maxd):\n",
    "        dis = [[float('inf')] * n for _ in range(n)]\n",
    "        for i, j, w in edges:\n",
    "            dis[i][j] = dis[j][i] = w\n",
    "        for i in range(n):\n",
    "            dis[i][i] = 0\n",
    "        for k in range(n):\n",
    "            for i in range(n):\n",
    "                for j in range(n):\n",
    "                    dis[i][j] = min(dis[i][j], dis[i][k] + dis[k][j])\n",
    "        res = {sum(d <= maxd for d in dis[i]): i for i in range(n)}\n",
    "        return res[min(res)]                                      "
   ]
  },
  {
   "cell_type": "code",
   "execution_count": 448,
   "metadata": {},
   "outputs": [
    {
     "data": {
      "text/plain": [
       "3"
      ]
     },
     "execution_count": 448,
     "metadata": {},
     "output_type": "execute_result"
    }
   ],
   "source": [
    "n = 4; edges = [[0,1,3],[1,2,1],[1,3,4],[2,3,1]]; distanceThreshold = 4\n",
    "Solution().findTheCity(n, edges, distanceThreshold)"
   ]
  },
  {
   "attachments": {},
   "cell_type": "markdown",
   "metadata": {},
   "source": [
    "#### 19."
   ]
  },
  {
   "cell_type": "code",
   "execution_count": null,
   "metadata": {},
   "outputs": [],
   "source": []
  },
  {
   "cell_type": "code",
   "execution_count": null,
   "metadata": {},
   "outputs": [],
   "source": []
  },
  {
   "attachments": {},
   "cell_type": "markdown",
   "metadata": {},
   "source": [
    "#### 20."
   ]
  },
  {
   "cell_type": "code",
   "execution_count": null,
   "metadata": {},
   "outputs": [],
   "source": []
  },
  {
   "cell_type": "code",
   "execution_count": null,
   "metadata": {},
   "outputs": [],
   "source": []
  },
  {
   "attachments": {},
   "cell_type": "markdown",
   "metadata": {},
   "source": [
    "#### 21."
   ]
  },
  {
   "cell_type": "code",
   "execution_count": null,
   "metadata": {},
   "outputs": [],
   "source": []
  },
  {
   "cell_type": "code",
   "execution_count": null,
   "metadata": {},
   "outputs": [],
   "source": []
  },
  {
   "attachments": {},
   "cell_type": "markdown",
   "metadata": {},
   "source": [
    "#### 22."
   ]
  },
  {
   "cell_type": "code",
   "execution_count": null,
   "metadata": {},
   "outputs": [],
   "source": []
  },
  {
   "cell_type": "code",
   "execution_count": null,
   "metadata": {},
   "outputs": [],
   "source": []
  },
  {
   "attachments": {},
   "cell_type": "markdown",
   "metadata": {},
   "source": [
    "#### 23."
   ]
  },
  {
   "cell_type": "code",
   "execution_count": null,
   "metadata": {},
   "outputs": [],
   "source": []
  },
  {
   "cell_type": "code",
   "execution_count": null,
   "metadata": {},
   "outputs": [],
   "source": []
  },
  {
   "attachments": {},
   "cell_type": "markdown",
   "metadata": {},
   "source": [
    "#### 24."
   ]
  },
  {
   "cell_type": "code",
   "execution_count": null,
   "metadata": {},
   "outputs": [],
   "source": []
  },
  {
   "cell_type": "code",
   "execution_count": null,
   "metadata": {},
   "outputs": [],
   "source": []
  },
  {
   "attachments": {},
   "cell_type": "markdown",
   "metadata": {},
   "source": [
    "#### 25."
   ]
  },
  {
   "cell_type": "code",
   "execution_count": null,
   "metadata": {},
   "outputs": [],
   "source": []
  },
  {
   "cell_type": "code",
   "execution_count": null,
   "metadata": {},
   "outputs": [],
   "source": []
  },
  {
   "cell_type": "code",
   "execution_count": null,
   "metadata": {},
   "outputs": [],
   "source": []
  }
 ],
 "metadata": {
  "kernelspec": {
   "display_name": "base",
   "language": "python",
   "name": "python3"
  },
  "language_info": {
   "codemirror_mode": {
    "name": "ipython",
    "version": 3
   },
   "file_extension": ".py",
   "mimetype": "text/x-python",
   "name": "python",
   "nbconvert_exporter": "python",
   "pygments_lexer": "ipython3",
   "version": "3.9.13"
  },
  "orig_nbformat": 4,
  "vscode": {
   "interpreter": {
    "hash": "fecfa28de78ead09ec2989a580469213059448baba5e0b02aeeb7641afb84221"
   }
  }
 },
 "nbformat": 4,
 "nbformat_minor": 2
}
