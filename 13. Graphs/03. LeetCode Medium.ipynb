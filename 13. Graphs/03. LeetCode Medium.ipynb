{
 "cells": [
  {
   "cell_type": "code",
   "execution_count": 1,
   "metadata": {},
   "outputs": [],
   "source": [
    "from typing import List, Dict"
   ]
  },
  {
   "cell_type": "markdown",
   "metadata": {},
   "source": [
    "#### 1. All Path Source Target"
   ]
  },
  {
   "cell_type": "code",
   "execution_count": 6,
   "metadata": {},
   "outputs": [],
   "source": [
    "class Solution:\n",
    "\n",
    "    def allPathsSourceTarget(self, graph):\n",
    "        def dfs(cur, path):\n",
    "            if cur == len(graph) - 1:\n",
    "                res.append(path)\n",
    "            else:\n",
    "                for i in graph[cur]: \n",
    "                    dfs(i, path + [i])\n",
    "        res = []\n",
    "        dfs(0, [0])\n",
    "        return res"
   ]
  },
  {
   "cell_type": "code",
   "execution_count": 7,
   "metadata": {},
   "outputs": [
    {
     "data": {
      "text/plain": [
       "[[0, 4], [0, 3, 4], [0, 1, 3, 4], [0, 1, 4]]"
      ]
     },
     "execution_count": 7,
     "metadata": {},
     "output_type": "execute_result"
    }
   ],
   "source": [
    "graph = [[1,2],[3],[3],[]]\n",
    "graph = [[4,3,1],[3,2,4],[3],[4],[]]\n",
    "graph = [[4,3,1],[3,2,4],[],[4],[]]\n",
    "Solution().allPathsSourceTarget(graph)"
   ]
  },
  {
   "cell_type": "markdown",
   "metadata": {},
   "source": [
    "#### 2. Minimum Number of Vertices to Reach All Nodes"
   ]
  },
  {
   "cell_type": "code",
   "execution_count": 24,
   "metadata": {},
   "outputs": [],
   "source": [
    "class Solution:\n",
    "    def findSmallestSetOfVertices(self, n: int, edges: List[List[int]]) -> List[int]:\n",
    "        d = {}\n",
    "        for f,t in edges:\n",
    "            d[t] = d.get(t,0)+1\n",
    "        return [i for i in range(n) if not d.get(i,None)]\n",
    "        "
   ]
  },
  {
   "cell_type": "code",
   "execution_count": 25,
   "metadata": {},
   "outputs": [],
   "source": [
    "class Solution:\n",
    "    def findSmallestSetOfVertices(self, n, edges):\n",
    "        return list(set(range(n)) - set(j for i, j in edges))"
   ]
  },
  {
   "cell_type": "code",
   "execution_count": 26,
   "metadata": {},
   "outputs": [
    {
     "data": {
      "text/plain": [
       "[0, 2, 3]"
      ]
     },
     "execution_count": 26,
     "metadata": {},
     "output_type": "execute_result"
    }
   ],
   "source": [
    "n = 6; edges = [[0,1],[0,2],[2,5],[3,4],[4,2]]\n",
    "n = 5; edges = [[0,1],[2,1],[3,1],[1,4],[2,4]]\n",
    "Solution().findSmallestSetOfVertices(n, edges)"
   ]
  },
  {
   "cell_type": "markdown",
   "metadata": {},
   "source": [
    "#### 3. Valid path"
   ]
  },
  {
   "cell_type": "code",
   "execution_count": 72,
   "metadata": {},
   "outputs": [],
   "source": [
    "from collections import defaultdict\n",
    "\n",
    "class Solution:\n",
    "    def validPath(self, n: int, edges: List[List[int]], start: int, end: int) -> bool:\n",
    "        adj_list = defaultdict(list)\n",
    "        if start == end: return True\n",
    "        for k, v in edges:\n",
    "            adj_list[k].append(v)\n",
    "            adj_list[v].append(k)\n",
    "        visited = set()\n",
    "        def dfs(node):\n",
    "            if node == end: return True\n",
    "            if node not in visited:\n",
    "                visited.add(node)\n",
    "                for edge in adj_list[node]:\n",
    "                    res = dfs(edge)\n",
    "                    if res: return True\n",
    "        return dfs(start)"
   ]
  },
  {
   "cell_type": "code",
   "execution_count": 73,
   "metadata": {},
   "outputs": [
    {
     "data": {
      "text/plain": [
       "True"
      ]
     },
     "execution_count": 73,
     "metadata": {},
     "output_type": "execute_result"
    }
   ],
   "source": [
    "n = 3; edges = [[0,1],[1,2],[2,0]]; source = 0; destination = 2\n",
    "n = 6; edges = [[0,1],[0,2],[3,5],[5,4],[4,3]]; source = 0; destination = 5\n",
    "n=1; edges=[]; source=0; destination=0\n",
    "n=10; edges=[[0,7],[0,8],[6,1],[2,0],[0,4],[5,8],[4,7],[1,3],[3,5],[6,5]]; source=7; destination=5\n",
    "Solution().validPath(n, edges, source, destination)"
   ]
  },
  {
   "cell_type": "code",
   "execution_count": 10,
   "metadata": {},
   "outputs": [],
   "source": [
    "from typing import List"
   ]
  },
  {
   "cell_type": "markdown",
   "metadata": {},
   "source": [
    "#### 4. Get Importance"
   ]
  },
  {
   "cell_type": "code",
   "execution_count": 30,
   "metadata": {},
   "outputs": [],
   "source": [
    "# Definition for Employee.\n",
    "class Employee:\n",
    "    def __init__(self, id: int, importance: int, subordinates: List[int]):\n",
    "        self.id = id\n",
    "        self.importance = importance\n",
    "        self.subordinates = subordinates\n",
    "\n",
    "class Solution:\n",
    "    def getImportance(self, employees: List['Employee'], id: int) -> int:\n",
    "        importance = 0\n",
    "        d = {}\n",
    "        im= {} \n",
    "        for i in employees:\n",
    "            d[i.id]  = i.subordinates\n",
    "            im[i.id] = i.importance \n",
    "        queue = [id]\n",
    "        while queue:\n",
    "            ida = queue.pop(0)\n",
    "            importance+=im[ida]\n",
    "            if d[ida]: queue.extend(d[ida])\n",
    "        return importance        "
   ]
  },
  {
   "cell_type": "code",
   "execution_count": 36,
   "metadata": {},
   "outputs": [],
   "source": [
    "# Approach-2: Using DFS\n",
    "class Solution(object):\n",
    "    def getImportance(self, employees, query_id):\n",
    "        emap = {e.id: e for e in employees}\n",
    "        def dfs(eid):\n",
    "            employee = emap[eid]\n",
    "            return (employee.importance + sum(dfs(eid) for eid in employee.subordinates))\n",
    "        return dfs(query_id)"
   ]
  },
  {
   "cell_type": "code",
   "execution_count": 37,
   "metadata": {},
   "outputs": [
    {
     "data": {
      "text/plain": [
       "-3"
      ]
     },
     "execution_count": 37,
     "metadata": {},
     "output_type": "execute_result"
    }
   ],
   "source": [
    "employees = [[1,5,[2,3]],[2,3,[]],[3,3,[]]]; id = 1\n",
    "employees = [[1,2,[5]],[5,-3,[]]]; id = 5\n",
    "employees = [Employee(*i) for i in employees]\n",
    "Solution().getImportance(employees, id)"
   ]
  },
  {
   "cell_type": "markdown",
   "metadata": {},
   "source": [
    "#### 5. Time Needed to Inform All Employees"
   ]
  },
  {
   "cell_type": "code",
   "execution_count": 117,
   "metadata": {},
   "outputs": [],
   "source": [
    "class Solution:\n",
    "    def numOfMinutes(self, n: int, headID: int, manager: List[int], informTime: List[int]) -> int:\n",
    "        from collections import defaultdict\n",
    "        d = defaultdict(list)\n",
    "        \n",
    "        for idx, (val,price) in enumerate(zip(manager,informTime)):\n",
    "            d[val].append((idx,price))\n",
    "        \n",
    "        def dfs(root):\n",
    "            if d.get(root,None) is None: return 0\n",
    "            else: return max(max([dfs(val)+price]) for val, price in d[root])\n",
    "        \n",
    "        return dfs(-1)\n",
    "            "
   ]
  },
  {
   "cell_type": "code",
   "execution_count": 118,
   "metadata": {},
   "outputs": [
    {
     "data": {
      "text/plain": [
       "3"
      ]
     },
     "execution_count": 118,
     "metadata": {},
     "output_type": "execute_result"
    }
   ],
   "source": [
    "#n = 6; headID = 2; manager = [2,2,-1,2,2,2]; informTime = [0,0,1,0,0,0]\n",
    "#n = 1; headID = 0; manager = [-1]; informTime = [0]\n",
    "n=15; headID=0; manager=[-1,0,0,1,1,2,2,3,3,4,4,5,5,6,6]; informTime=[1,1,1,1,1,1,1,0,0,0,0,0,0,0,0]\n",
    "Solution().numOfMinutes(n,headID,manager,informTime)"
   ]
  },
  {
   "cell_type": "markdown",
   "metadata": {},
   "source": [
    "#### 6. Find the City With the Smallest Number of Neighbors at a Threshold Distance"
   ]
  },
  {
   "cell_type": "code",
   "execution_count": 244,
   "metadata": {},
   "outputs": [],
   "source": [
    "from typing import List, Dict\n",
    "class Solution:\n",
    "    def findTheCity(self, n: int, edges: List[List[int]], distanceThreshold: int) -> int:\n",
    "        from collections import defaultdict\n",
    "        p = defaultdict(list)\n",
    "        w = defaultdict(list)\n",
    "        for f,t,w_ in edges:\n",
    "            p[f].append(t)\n",
    "            w[f].append(w_)\n",
    "            p[t].append(f)\n",
    "            w[t].append(w_)\n",
    "        main_res = []\n",
    "        for edge in p.keys():\n",
    "            visited = []\n",
    "            stack = [(edge,0)]\n",
    "            path_weight = 0\n",
    "            res = set()\n",
    "            while stack:\n",
    "                edge,path = stack.pop(0)\n",
    "                if edge in visited: continue\n",
    "                visited.append(edge)\n",
    "                for idx, temp in enumerate(p[edge]):\n",
    "                    if temp in visited: continue\n",
    "                    if path + w[edge][idx] <= distanceThreshold:\n",
    "                        stack.append((temp,path + w[edge][idx]))\n",
    "                        res.add(temp)\n",
    "            main_res.append(list(res))\n",
    "        all_node = set()\n",
    "        for i in main_res:\n",
    "            for j in i:\n",
    "                all_node.add(j)\n",
    "        no_visited_edge = []\n",
    "        for i in range(n):\n",
    "            if i not in all_node:\n",
    "                no_visited_edge.append(i)\n",
    "        if no_visited_edge:\n",
    "            return max(no_visited_edge)\n",
    "        return sorted([(v, i) for (i, v) in enumerate(main_res)], key=lambda x: (len(x[0]),-x[1]))[0][-1]"
   ]
  },
  {
   "cell_type": "code",
   "execution_count": 245,
   "metadata": {},
   "outputs": [
    {
     "data": {
      "text/plain": [
       "5"
      ]
     },
     "execution_count": 245,
     "metadata": {},
     "output_type": "execute_result"
    }
   ],
   "source": [
    "n = 4; edges = [[0,1,3],[1,2,1],[1,3,4],[2,3,1]]; distanceThreshold = 4\n",
    "n = 5; edges = [[0,1,2],[0,4,8],[1,2,3],[1,4,2],[2,3,1],[3,4,1]]; distanceThreshold = 2\n",
    "n = 6; edges  = [[0,3,7],[2,4,1],[0,1,5],[2,3,10],[1,3,6],[1,2,1]]; distanceThreshold=417\n",
    "Solution().findTheCity(n,edges,distanceThreshold)"
   ]
  },
  {
   "cell_type": "code",
   "execution_count": null,
   "metadata": {},
   "outputs": [],
   "source": []
  },
  {
   "cell_type": "markdown",
   "metadata": {},
   "source": [
    "#### 7. Find Eventual Safe States"
   ]
  },
  {
   "cell_type": "code",
   "execution_count": 23,
   "metadata": {},
   "outputs": [],
   "source": [
    "class Solution:\n",
    "    def eventualSafeNodes(self, graph: List[List[int]]) -> List[int]:\n",
    "        safe = {}\n",
    "        def dfs(i):\n",
    "            if i in safe:\n",
    "                return safe[i]\n",
    "            safe[i] = False # visited\n",
    "            for val in graph[i]:\n",
    "                if not dfs(val):\n",
    "                    return False\n",
    "            safe[i] = True # Safe\n",
    "            return True                    \n",
    "        \n",
    "        length = len(graph)\n",
    "        res = []\n",
    "        for i in range(length):\n",
    "            if dfs(i):\n",
    "                res.append(i)\n",
    "        return res\n",
    "                "
   ]
  },
  {
   "cell_type": "code",
   "execution_count": 24,
   "metadata": {},
   "outputs": [
    {
     "data": {
      "text/plain": [
       "[4]"
      ]
     },
     "execution_count": 24,
     "metadata": {},
     "output_type": "execute_result"
    }
   ],
   "source": [
    "graph = [[1,2],[2,3],[5],[0],[5],[],[]]\n",
    "graph = [[1,2,3,4],[1,2],[3,4],[0,4],[]]\n",
    "Solution().eventualSafeNodes(graph)"
   ]
  },
  {
   "cell_type": "markdown",
   "metadata": {},
   "source": [
    "#### 8. Possible Bipartition"
   ]
  },
  {
   "cell_type": "code",
   "execution_count": 71,
   "metadata": {},
   "outputs": [],
   "source": [
    "class Solution:\n",
    "    def possibleBipartition(self, N, dislikes):\n",
    "        \"\"\"\n",
    "        :type N: int\n",
    "        :type dislikes: List[List[int]]\n",
    "        :rtype: bool\n",
    "        \"\"\"\n",
    "        bag = [[] for i in range(N+1)]\n",
    "        visited = [-1] * (N+1)\n",
    "        count = 0\n",
    "        for dislike in dislikes:\n",
    "            bag[dislike[0]].append(dislike[1])\n",
    "            bag[dislike[1]].append(dislike[0])\n",
    "        \n",
    "        for i in range(1, N+1):\n",
    "            if visited[i] == -1 and  len(bag[i]) > 0:\n",
    "                if not self.visit(0, i, bag, visited):\n",
    "                    return False\n",
    "                \n",
    "        return True\n",
    "      \n",
    "    def visit(self, curLevel, i, bag, visited):     \n",
    "        if visited[i] >= 0:\n",
    "            return (curLevel - visited[i]) % 2 == 0\n",
    "                \n",
    "        visited[i] = curLevel\n",
    "        for des in bag[i]:\n",
    "            if not self.visit(curLevel + 1, des, bag, visited):\n",
    "                return False\n",
    "        return True"
   ]
  },
  {
   "cell_type": "code",
   "execution_count": 72,
   "metadata": {},
   "outputs": [
    {
     "data": {
      "text/plain": [
       "True"
      ]
     },
     "execution_count": 72,
     "metadata": {},
     "output_type": "execute_result"
    }
   ],
   "source": [
    "n = 4; dislikes = [[1,2],[1,3],[2,4]]\n",
    "n = 3; dislikes = [[1,2],[1,3],[2,3]]\n",
    "n = 10; dislikes= [[1,2],[3,4],[5,6],[6,7],[8,9],[7,8]]\n",
    "Solution().possibleBipartition(n,dislikes)"
   ]
  },
  {
   "cell_type": "code",
   "execution_count": 36,
   "metadata": {},
   "outputs": [],
   "source": [
    "if None and None:\n",
    "    print(\"asdf\")"
   ]
  },
  {
   "attachments": {},
   "cell_type": "markdown",
   "metadata": {},
   "source": [
    "#### 9. 1584. Min Cost to Connect All Points"
   ]
  },
  {
   "cell_type": "code",
   "execution_count": 63,
   "metadata": {},
   "outputs": [],
   "source": [
    "class Solution:\n",
    "    def minCostConnectPoints(self, points: List[List[int]]) -> int:\n",
    "        d, res = {(x, y): float('inf') if i else 0 for i, (x, y) in enumerate(points)}, 0\n",
    "        #print(d)\n",
    "        #print()\n",
    "        while d:\n",
    "            x, y = min(d, key=d.get)  # obtain the current minimum edge\n",
    "            res += d.pop((x, y))      # and remove the corresponding point\n",
    "            for x1, y1 in d:          # for the rest of the points, update the minimum manhattan distance\n",
    "                d[(x1, y1)] = min(d[(x1, y1)], abs(x-x1)+abs(y-y1))\n",
    "            #print(x,y,d,res)\n",
    "            #rint()\n",
    "        return res"
   ]
  },
  {
   "cell_type": "code",
   "execution_count": 64,
   "metadata": {},
   "outputs": [
    {
     "data": {
      "text/plain": [
       "20"
      ]
     },
     "execution_count": 64,
     "metadata": {},
     "output_type": "execute_result"
    }
   ],
   "source": [
    "points = [[0,0],[2,2],[3,10],[5,2],[7,0]]\n",
    "#points = [[3,12],[-2,5],[-4,1]]\n",
    "Solution().minCostConnectPoints(points)"
   ]
  },
  {
   "attachments": {},
   "cell_type": "markdown",
   "metadata": {},
   "source": [
    "#### 10. [547]. Number of Provinces"
   ]
  },
  {
   "cell_type": "code",
   "execution_count": 135,
   "metadata": {},
   "outputs": [],
   "source": [
    "class Solution:\n",
    "    def findCircleNum(self, isConnected: List[List[int]]) -> int:\n",
    "        N = len(isConnected)\n",
    "        seen = set()\n",
    "        def dfs(node):\n",
    "            for nei, adj in enumerate(isConnected[node]):\n",
    "                if adj and nei not in seen:\n",
    "                    seen.add(nei)\n",
    "                    dfs(nei)\n",
    "        \n",
    "        ans = 0\n",
    "        for i in range(N):\n",
    "            if i not in seen:\n",
    "                dfs(i)\n",
    "                ans += 1\n",
    "        return ans"
   ]
  },
  {
   "cell_type": "code",
   "execution_count": 136,
   "metadata": {},
   "outputs": [
    {
     "data": {
      "text/plain": [
       "1"
      ]
     },
     "execution_count": 136,
     "metadata": {},
     "output_type": "execute_result"
    }
   ],
   "source": [
    "isConnected = [[1,1,0],[1,1,0],[0,0,1]]\n",
    "isConnected = [[1,0,0],[0,1,0],[0,0,1]]\n",
    "isConnected = [[1,1,1],[1,1,1],[1,1,1]]\n",
    "Solution().findCircleNum(isConnected)"
   ]
  },
  {
   "attachments": {},
   "cell_type": "markdown",
   "metadata": {},
   "source": [
    "#### 11."
   ]
  },
  {
   "cell_type": "code",
   "execution_count": null,
   "metadata": {},
   "outputs": [],
   "source": []
  },
  {
   "cell_type": "code",
   "execution_count": null,
   "metadata": {},
   "outputs": [],
   "source": []
  },
  {
   "attachments": {},
   "cell_type": "markdown",
   "metadata": {},
   "source": [
    "#### 12."
   ]
  },
  {
   "cell_type": "code",
   "execution_count": null,
   "metadata": {},
   "outputs": [],
   "source": []
  },
  {
   "cell_type": "code",
   "execution_count": null,
   "metadata": {},
   "outputs": [],
   "source": []
  },
  {
   "attachments": {},
   "cell_type": "markdown",
   "metadata": {},
   "source": [
    "#### 13."
   ]
  },
  {
   "cell_type": "code",
   "execution_count": null,
   "metadata": {},
   "outputs": [],
   "source": []
  },
  {
   "cell_type": "code",
   "execution_count": null,
   "metadata": {},
   "outputs": [],
   "source": []
  },
  {
   "cell_type": "code",
   "execution_count": null,
   "metadata": {},
   "outputs": [],
   "source": []
  },
  {
   "cell_type": "code",
   "execution_count": null,
   "metadata": {},
   "outputs": [],
   "source": []
  },
  {
   "cell_type": "code",
   "execution_count": null,
   "metadata": {},
   "outputs": [],
   "source": []
  },
  {
   "cell_type": "code",
   "execution_count": null,
   "metadata": {},
   "outputs": [],
   "source": []
  },
  {
   "cell_type": "code",
   "execution_count": null,
   "metadata": {},
   "outputs": [],
   "source": []
  },
  {
   "cell_type": "code",
   "execution_count": null,
   "metadata": {},
   "outputs": [],
   "source": []
  },
  {
   "cell_type": "code",
   "execution_count": null,
   "metadata": {},
   "outputs": [],
   "source": []
  },
  {
   "cell_type": "code",
   "execution_count": null,
   "metadata": {},
   "outputs": [],
   "source": []
  },
  {
   "cell_type": "code",
   "execution_count": null,
   "metadata": {},
   "outputs": [],
   "source": []
  },
  {
   "cell_type": "code",
   "execution_count": null,
   "metadata": {},
   "outputs": [],
   "source": []
  },
  {
   "cell_type": "code",
   "execution_count": null,
   "metadata": {},
   "outputs": [],
   "source": []
  },
  {
   "cell_type": "code",
   "execution_count": null,
   "metadata": {},
   "outputs": [],
   "source": []
  },
  {
   "cell_type": "code",
   "execution_count": null,
   "metadata": {},
   "outputs": [],
   "source": []
  },
  {
   "cell_type": "code",
   "execution_count": null,
   "metadata": {},
   "outputs": [],
   "source": []
  },
  {
   "cell_type": "code",
   "execution_count": null,
   "metadata": {},
   "outputs": [],
   "source": []
  },
  {
   "cell_type": "code",
   "execution_count": null,
   "metadata": {},
   "outputs": [],
   "source": []
  },
  {
   "cell_type": "code",
   "execution_count": null,
   "metadata": {},
   "outputs": [],
   "source": []
  },
  {
   "cell_type": "code",
   "execution_count": null,
   "metadata": {},
   "outputs": [],
   "source": []
  },
  {
   "cell_type": "code",
   "execution_count": null,
   "metadata": {},
   "outputs": [],
   "source": []
  }
 ],
 "metadata": {
  "kernelspec": {
   "display_name": "base",
   "language": "python",
   "name": "python3"
  },
  "language_info": {
   "codemirror_mode": {
    "name": "ipython",
    "version": 3
   },
   "file_extension": ".py",
   "mimetype": "text/x-python",
   "name": "python",
   "nbconvert_exporter": "python",
   "pygments_lexer": "ipython3",
   "version": "3.9.13"
  },
  "orig_nbformat": 4,
  "vscode": {
   "interpreter": {
    "hash": "fecfa28de78ead09ec2989a580469213059448baba5e0b02aeeb7641afb84221"
   }
  }
 },
 "nbformat": 4,
 "nbformat_minor": 2
}
