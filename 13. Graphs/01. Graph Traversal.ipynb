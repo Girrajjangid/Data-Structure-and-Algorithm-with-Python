{
 "cells": [
  {
   "cell_type": "markdown",
   "metadata": {},
   "source": [
    "#### We can represent the Graph vertices and edges by three method-\n",
    "- Adjacency Matrix\n",
    "- Adjacency List\n",
    "- Compact List"
   ]
  },
  {
   "cell_type": "markdown",
   "metadata": {},
   "source": [
    "<img src='1.png'>"
   ]
  },
  {
   "cell_type": "code",
   "execution_count": 50,
   "metadata": {},
   "outputs": [],
   "source": [
    "# Assuming our graph is strongly connected.\n",
    "\n",
    "# Adjacency metrix\n",
    "adj_mat = [[0,1,0,0,1],\n",
    "           [1,0,1,1,1],\n",
    "           [0,1,0,1,0],\n",
    "           [0,1,1,0,1],\n",
    "           [1,1,0,1,0]]"
   ]
  },
  {
   "cell_type": "code",
   "execution_count": 51,
   "metadata": {},
   "outputs": [],
   "source": [
    "# Use use dictionary | You can also use linkedlist as you want\n",
    "adj_list = {0:[1,4],\n",
    "            1:[0,2,3,4],\n",
    "            2:[1,3],\n",
    "            3:[2,1,4],\n",
    "            4:[0,1,3],\n",
    "}"
   ]
  },
  {
   "cell_type": "markdown",
   "metadata": {},
   "source": [
    "##### 1. Breadth First Search\n",
    "- Time complexity using Adjacency list or Dict: O(N)\n",
    "- Time complexity using Adjacency Matrix      : O(N^2)"
   ]
  },
  {
   "cell_type": "code",
   "execution_count": 52,
   "metadata": {},
   "outputs": [],
   "source": [
    "from typing  import List, Dict\n",
    "\n",
    "class BFS:\n",
    "    def __init__(self):\n",
    "        pass\n",
    "    \n",
    "    def traverse_list(self, arr:Dict) -> List:\n",
    "        bfs   = []\n",
    "        visit = {}\n",
    "        queue = []\n",
    "        key = list(adj_list.keys())[0]\n",
    "        visit[key] = 1\n",
    "        queue.append(key)\n",
    "        while queue:\n",
    "            key = queue.pop(0)\n",
    "            bfs.append(key)\n",
    "            for vert in arr[key]:\n",
    "                if visit.get(vert, None) is None:\n",
    "                    queue.append(vert)\n",
    "                    visit[vert] = 1\n",
    "        return bfs\n",
    "    \n",
    "    \n",
    "    def traverse_mat(self, arr:List[List]) -> List:\n",
    "        bfs   = []\n",
    "        queue = []\n",
    "        visit = {}\n",
    "        key = 0 # As graph is strongly connected. i.e. 0 vertices must be accessible by all vertices\n",
    "        visit[key] = 1\n",
    "        queue.append(key)\n",
    "        while queue:\n",
    "            key = queue.pop(0)\n",
    "            bfs.append(key)\n",
    "            for vert,val in enumerate(arr[key]):\n",
    "                if val==1 and visit.get(vert, None) is None:\n",
    "                    queue.append(vert)\n",
    "                    visit[vert] = 1\n",
    "        return bfs                "
   ]
  },
  {
   "cell_type": "code",
   "execution_count": 53,
   "metadata": {},
   "outputs": [
    {
     "data": {
      "text/plain": [
       "[0, 1, 4, 2, 3]"
      ]
     },
     "execution_count": 53,
     "metadata": {},
     "output_type": "execute_result"
    }
   ],
   "source": [
    "BFS().traverse_list(adj_list)"
   ]
  },
  {
   "cell_type": "code",
   "execution_count": 54,
   "metadata": {},
   "outputs": [
    {
     "data": {
      "text/plain": [
       "[0, 1, 4, 2, 3]"
      ]
     },
     "execution_count": 54,
     "metadata": {},
     "output_type": "execute_result"
    }
   ],
   "source": [
    "BFS().traverse_mat(adj_mat)"
   ]
  },
  {
   "cell_type": "markdown",
   "metadata": {},
   "source": [
    "#### 2. Depth First Search"
   ]
  },
  {
   "cell_type": "code",
   "execution_count": 71,
   "metadata": {},
   "outputs": [],
   "source": [
    "class DFS:\n",
    "    \n",
    "    def __init__(self):\n",
    "        pass\n",
    "    \n",
    "    def traverse_list(self, arr:Dict) -> List:\n",
    "        bfs   = []\n",
    "        stack = []\n",
    "        visit = {}\n",
    "        key = list(arr.keys())[0]\n",
    "        visit[key] = 1\n",
    "        stack.append(key)\n",
    "        while stack:\n",
    "            key = stack.pop()\n",
    "            bfs.append(key)\n",
    "            for key in arr[key]:\n",
    "                if visit.get(key, None) is None:\n",
    "                    stack.append(key)\n",
    "                    visit[key]=1\n",
    "                    break\n",
    "        return bfs\n",
    "    \n",
    "    \n",
    "    def traverse_mat(self, arr:List[List]) -> List:\n",
    "        bfs   = []\n",
    "        stack = []\n",
    "        visit = {}\n",
    "        key = 0\n",
    "        visit[key] = 1\n",
    "        stack.append(key)\n",
    "        while stack:\n",
    "            key = stack.pop()\n",
    "            bfs.append(key)\n",
    "            for key,val in enumerate(arr[key]):\n",
    "                if val==1 and visit.get(key, None) is None:\n",
    "                    stack.append(key)\n",
    "                    visit[key]=1\n",
    "                    break\n",
    "        return bfs"
   ]
  },
  {
   "cell_type": "code",
   "execution_count": 72,
   "metadata": {},
   "outputs": [
    {
     "data": {
      "text/plain": [
       "[0, 1, 2, 3, 4]"
      ]
     },
     "execution_count": 72,
     "metadata": {},
     "output_type": "execute_result"
    }
   ],
   "source": [
    "DFS().traverse_list(adj_list)"
   ]
  },
  {
   "cell_type": "code",
   "execution_count": 73,
   "metadata": {},
   "outputs": [
    {
     "data": {
      "text/plain": [
       "[0, 1, 2, 3, 4]"
      ]
     },
     "execution_count": 73,
     "metadata": {},
     "output_type": "execute_result"
    }
   ],
   "source": [
    "DFS().traverse_mat(adj_mat)"
   ]
  },
  {
   "cell_type": "code",
   "execution_count": null,
   "metadata": {},
   "outputs": [],
   "source": []
  },
  {
   "cell_type": "code",
   "execution_count": null,
   "metadata": {},
   "outputs": [],
   "source": []
  }
 ],
 "metadata": {
  "kernelspec": {
   "display_name": "Python 3.8.8 ('base')",
   "language": "python",
   "name": "python3"
  },
  "language_info": {
   "codemirror_mode": {
    "name": "ipython",
    "version": 3
   },
   "file_extension": ".py",
   "mimetype": "text/x-python",
   "name": "python",
   "nbconvert_exporter": "python",
   "pygments_lexer": "ipython3",
   "version": "3.8.8"
  },
  "orig_nbformat": 4,
  "vscode": {
   "interpreter": {
    "hash": "ad2bdc8ecc057115af97d19610ffacc2b4e99fae6737bb82f5d7fb13d2f2c186"
   }
  }
 },
 "nbformat": 4,
 "nbformat_minor": 2
}
