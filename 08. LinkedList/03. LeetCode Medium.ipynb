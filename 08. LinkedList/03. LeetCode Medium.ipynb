{
 "cells": [
  {
   "cell_type": "code",
   "execution_count": 1,
   "metadata": {},
   "outputs": [],
   "source": [
    "from typing import List, Tuple, Dict, Optional\n",
    "\n",
    "class ListNode:\n",
    "    def __init__(self, val=0, next=None):\n",
    "        self.val = val\n",
    "        self.next = next\n",
    "\n",
    "class Helper:    \n",
    "    def __init__(self):\n",
    "        self.head = None\n",
    "    def append(self, value):\n",
    "        if self.head is None:\n",
    "            self.head = ListNode(value, None)\n",
    "            return\n",
    "        itr = self.head\n",
    "        while itr.next:\n",
    "            itr = itr.next\n",
    "        itr.next = ListNode(value, None)\n",
    "        return self\n",
    "    def extend(self, values):\n",
    "        for val in values:\n",
    "            self.append(val)\n",
    "        return self\n",
    "    def tolist(self, new_head=None):\n",
    "        l = []\n",
    "        itr = new_head if new_head else self.head\n",
    "        while itr:\n",
    "            l.append(itr.val)\n",
    "            itr = itr.next\n",
    "        return l\n",
    "    "
   ]
  },
  {
   "cell_type": "markdown",
   "metadata": {},
   "source": [
    "#### 1. Merge Nodes in Between Zeros"
   ]
  },
  {
   "cell_type": "code",
   "execution_count": 18,
   "metadata": {},
   "outputs": [],
   "source": [
    "class ListNode:\n",
    "    def __init__(self, val=0, next=None):\n",
    "        self.val = val\n",
    "        self.next = next\n",
    "\n",
    "class Solution:\n",
    "    def mergeNodes(self, head: Optional[ListNode]) -> Optional[ListNode]:\n",
    "        result = ListNode()\n",
    "        dummy = result\n",
    "        sum_ = 0\n",
    "        while head:\n",
    "            if not head.val:\n",
    "                dummy.val = sum_\n",
    "                dummy.next = ListNode()\n",
    "                dummy = dummy.next\n",
    "                sum_ = 0\n",
    "                head = head.next\n",
    "                continue\n",
    "            sum_ = head.val+sum_\n",
    "            head = head.next\n",
    "        dummy = result\n",
    "        while dummy.next.next:\n",
    "            dummy = dummy.next\n",
    "        dummy.next = None            \n",
    "        return result.next"
   ]
  },
  {
   "cell_type": "code",
   "execution_count": 22,
   "metadata": {},
   "outputs": [
    {
     "data": {
      "text/plain": [
       "[1]"
      ]
     },
     "execution_count": 22,
     "metadata": {},
     "output_type": "execute_result"
    }
   ],
   "source": [
    "head = [0,1,0]\n",
    "l = Helper().extend(head)\n",
    "l2 = Solution().mergeNodes(l.head)\n",
    "Helper().tolist(l2)"
   ]
  },
  {
   "cell_type": "markdown",
   "metadata": {},
   "source": [
    "#### 2. Pair Sums"
   ]
  },
  {
   "cell_type": "code",
   "execution_count": 90,
   "metadata": {},
   "outputs": [],
   "source": [
    "class Solution:\n",
    "    def pairSum(self, head: Optional[ListNode]) -> int:\n",
    "        dummy = head\n",
    "        # Getting Middle Element\n",
    "        first, second = dummy, dummy\n",
    "        while second.next.next:\n",
    "            first, second = first.next, second.next.next\n",
    "        second_half = first.next\n",
    "        # Reversing second half\n",
    "        first, second, third = None, None, second_half\n",
    "        while third:\n",
    "            first, second, third = second, third, third.next\n",
    "            second.next = first\n",
    "        second_half = second\n",
    "        # Traversing over first and second half\n",
    "        max_sum = float('-inf')\n",
    "        while second_half and head:\n",
    "            max_sum = max(max_sum, second_half.val + head.val)\n",
    "            head, second_half = head.next, second_half.next\n",
    "        return max_sum\n",
    "        "
   ]
  },
  {
   "cell_type": "code",
   "execution_count": 92,
   "metadata": {},
   "outputs": [
    {
     "data": {
      "text/plain": [
       "100001"
      ]
     },
     "execution_count": 92,
     "metadata": {},
     "output_type": "execute_result"
    }
   ],
   "source": [
    "head = [0,1,2,3,4,5,6,7]\n",
    "head = [5,4,2,1]\n",
    "head = [4,2,2,3]\n",
    "head = [1,100000]\n",
    "l = Helper().extend(head)\n",
    "l2 = Solution().pairSum(l.head)\n",
    "l2\n",
    "#Helper().tolist(l2)"
   ]
  },
  {
   "cell_type": "markdown",
   "metadata": {},
   "source": [
    "#### 3. Merge In between"
   ]
  },
  {
   "cell_type": "code",
   "execution_count": 125,
   "metadata": {},
   "outputs": [],
   "source": [
    "from copy import copy\n",
    "class Solution:\n",
    "    def mergeInBetween(self, list1: ListNode, a: int, b: int, list2: ListNode) -> ListNode:\n",
    "        node_a = list1        \n",
    "        for i in range(a - 1):\n",
    "            node_a = node_a.next\n",
    "            \n",
    "        node_b = copy(node_a)\n",
    "        node_a.next = list2\n",
    "        \n",
    "        while node_a.next:\n",
    "            node_a = node_a.next\n",
    "        \n",
    "        for i in range((b-a) + 2):\n",
    "            node_b = node_b.next\n",
    "\n",
    "        node_a.next = node_b\n",
    "        \n",
    "        return list1"
   ]
  },
  {
   "cell_type": "code",
   "execution_count": 126,
   "metadata": {},
   "outputs": [
    {
     "data": {
      "text/plain": [
       "[0, 1, 2, 1000000, 1000001, 1000002, 5]"
      ]
     },
     "execution_count": 126,
     "metadata": {},
     "output_type": "execute_result"
    }
   ],
   "source": [
    "list1 = [0,1,2,3,4,5]; a = 3; b = 4; list2 = [1000000,1000001,1000002]\n",
    "#list1 = [0,1,2,3,4,5,6]; a = 2; b = 5; list2 = [1000000,1000001,1000002,1000003,1000004]\n",
    "l1 = Helper().extend(list1)\n",
    "l2 = Helper().extend(list2)\n",
    "l2 = Solution().mergeInBetween(l1.head, a,b, l2.head)\n",
    "Helper().tolist(l2)"
   ]
  },
  {
   "cell_type": "markdown",
   "metadata": {},
   "source": [
    "#### 4. Design Browser History"
   ]
  },
  {
   "cell_type": "code",
   "execution_count": 127,
   "metadata": {},
   "outputs": [],
   "source": [
    "# Doubly Linked List"
   ]
  },
  {
   "cell_type": "code",
   "execution_count": 128,
   "metadata": {},
   "outputs": [],
   "source": []
  },
  {
   "cell_type": "code",
   "execution_count": 162,
   "metadata": {},
   "outputs": [],
   "source": [
    "# Built using Doubly LinkedList\n",
    "\n",
    "class ListNode:\n",
    "    def __init__(self, prev=None, val=0, next=None):\n",
    "        self.prev = prev\n",
    "        self.val = val\n",
    "        self.next = next\n",
    "        \n",
    "class BrowserHistory:\n",
    "\n",
    "    def __init__(self, homepage: str):\n",
    "        self.homepage = homepage\n",
    "        self.root = ListNode(None, self.homepage, None)\n",
    "        self.current_page = self.root\n",
    "        \n",
    "    def visit(self, url: str) -> None:\n",
    "        self.current_page.next = ListNode(self.current_page, url, None)\n",
    "        self.current_page = self.current_page.next\n",
    "        \n",
    "    def back(self, steps: int) -> str:\n",
    "        counter = 0\n",
    "        while counter<steps:\n",
    "            if self.current_page.prev is None: return self.homepage\n",
    "            self.current_page = self.current_page.prev\n",
    "            counter+=1\n",
    "        return self.current_page.val\n",
    "\n",
    "    def forward(self, steps: int) -> str:\n",
    "        counter = 0\n",
    "        while counter<steps:\n",
    "            if self.current_page.next is None: return self.current_page.val\n",
    "            self.current_page = self.current_page.next\n",
    "            counter+=1\n",
    "        return self.current_page.val"
   ]
  },
  {
   "cell_type": "code",
   "execution_count": 163,
   "metadata": {},
   "outputs": [],
   "source": [
    "# [\"BrowserHistory\",\"visit\",\"visit\",\"visit\",\"back\",\"back\",\"forward\",\"visit\",\"forward\",\"back\",\"back\"]\n",
    "# [[\"leetcode.com\"],[\"google.com\"],[\"facebook.com\"],[\"youtube.com\"],[1],[1],[1],[\"linkedin.com\"],[2],[2],[7]]"
   ]
  },
  {
   "cell_type": "code",
   "execution_count": 164,
   "metadata": {},
   "outputs": [
    {
     "name": "stdout",
     "output_type": "stream",
     "text": [
      "None leetcode.com  0x000001BBDA8D2EB0>  0x000001BBDA8D2CA0>\n",
      " 0x000001BBDA8D2CA0> google.com  0x000001BBD98DF460>  0x000001BBDA8D2EB0>\n",
      " 0x000001BBDA8D2EB0> facebook.com  0x000001BBD98D3C40>  0x000001BBD98DF460>\n",
      " 0x000001BBD98DF460> linkedlin.com None  0x000001BBD98D3C40>\n"
     ]
    }
   ],
   "source": [
    "temp = obj.root\n",
    "while temp:\n",
    "    print(str(temp.prev)[-20:], temp.val, str(temp.next)[-20:], str(temp)[-20:])\n",
    "    temp = temp.next"
   ]
  },
  {
   "cell_type": "code",
   "execution_count": 165,
   "metadata": {},
   "outputs": [
    {
     "name": "stdout",
     "output_type": "stream",
     "text": [
      "None\n",
      "None\n",
      "None\n",
      "facebook.com\n",
      "google.com\n",
      "facebook.com\n",
      "None\n",
      "linkedlin.com\n",
      "google.com\n",
      "leetcode.com\n"
     ]
    }
   ],
   "source": [
    "obj = BrowserHistory(\"leetcode.com\")\n",
    "print(obj.visit(\"google.com\"))\n",
    "print(obj.visit(\"facebook.com\"))\n",
    "print(obj.visit(\"youtube.com\"))\n",
    "print(obj.back(1))\n",
    "print(obj.back(1))\n",
    "print(obj.forward(1))\n",
    "print(obj.visit(\"linkedlin.com\"))\n",
    "print(obj.forward(20))\n",
    "print(obj.back(2))\n",
    "print(obj.back(70))"
   ]
  },
  {
   "cell_type": "markdown",
   "metadata": {},
   "source": [
    "#### 5. Delete Node in a Linked List"
   ]
  },
  {
   "cell_type": "code",
   "execution_count": 203,
   "metadata": {},
   "outputs": [],
   "source": [
    "class ListNode:\n",
    "    def __init__(self, x):\n",
    "        self.val = x\n",
    "        self.next = None\n",
    "\n",
    "class Solution:\n",
    "    def deleteNode(self, node):\n",
    "        node.val = node.next.val\n",
    "        node.next = node.next.next\n",
    "        "
   ]
  },
  {
   "cell_type": "code",
   "execution_count": 208,
   "metadata": {},
   "outputs": [
    {
     "data": {
      "text/plain": [
       "[4, 1, 9]"
      ]
     },
     "execution_count": 208,
     "metadata": {},
     "output_type": "execute_result"
    }
   ],
   "source": [
    "data = [4,5,1,9]\n",
    "l1 = Helper().extend(data)\n",
    "Solution().deleteNode(l1.head.next)\n",
    "Helper().tolist(l1.head)"
   ]
  },
  {
   "cell_type": "markdown",
   "metadata": {},
   "source": [
    "#### 6. Swapping Nodes in a Linked List"
   ]
  },
  {
   "cell_type": "code",
   "execution_count": 278,
   "metadata": {},
   "outputs": [],
   "source": [
    "# Approach-1:\n",
    "class Solution:\n",
    "    def swapNodes(self, head: Optional[ListNode], k: int) -> Optional[ListNode]:\n",
    "        if head is None: return head\n",
    "        iter = head\n",
    "        counter=0\n",
    "        while iter:\n",
    "            iter = iter.next\n",
    "            counter+=1\n",
    "        iter = head\n",
    "        for _ in range(k-1):\n",
    "            iter = iter.next\n",
    "        iter_1 = head\n",
    "        for _ in range(counter-k):\n",
    "            iter_1  = iter_1.next\n",
    "        iter.val, iter_1.val = iter_1.val, iter.val\n",
    "        return head"
   ]
  },
  {
   "cell_type": "code",
   "execution_count": 284,
   "metadata": {},
   "outputs": [],
   "source": [
    "# Approach-2:\n",
    "class Solution:\n",
    "    def swapNodes(self, head: Optional[ListNode], k: int) -> Optional[ListNode]:\n",
    "        fast, slow = head, head\n",
    "        for _ in range(k - 1):\n",
    "            fast = fast.next\n",
    "        first = fast\n",
    "        \n",
    "        while fast.next:\n",
    "            slow = slow.next\n",
    "            fast = fast.next\n",
    "            \n",
    "        first.val, slow.val = slow.val, first.val\n",
    "        \n",
    "        return head"
   ]
  },
  {
   "cell_type": "code",
   "execution_count": 285,
   "metadata": {},
   "outputs": [
    {
     "data": {
      "text/plain": [
       "[1, 4, 3, 2, 5]"
      ]
     },
     "execution_count": 285,
     "metadata": {},
     "output_type": "execute_result"
    }
   ],
   "source": [
    "data = [1,2,3,4,5]; k = 2\n",
    "#data = [7,9,6,6,7,8,3,0,9,5]; k = 5\n",
    "l1 = Helper().extend(data)\n",
    "l2 = Solution().swapNodes(l1.head, k)\n",
    "Helper().tolist(l2)"
   ]
  },
  {
   "cell_type": "markdown",
   "metadata": {},
   "source": [
    "#### 7. Spiral Matrix IV"
   ]
  },
  {
   "cell_type": "code",
   "execution_count": 63,
   "metadata": {},
   "outputs": [],
   "source": [
    "class Solution:\n",
    "    def spiralMatrix(self, m: int, n: int, head: Optional[ListNode]) -> List[List[int]]:\n",
    "        matrix = [[-1]*n for _ in range(m)]\n",
    "        data = []\n",
    "        direct = \"r\" # r,b,l,u\n",
    "        cl,cr,rt,rb = 0,n-1,0,m-1\n",
    "        while head:\n",
    "            data.append(head.val)\n",
    "            head = head.next\n",
    "        counter = 0\n",
    "        length = len(data)\n",
    "        while length>counter:\n",
    "            if direct == 'r':\n",
    "                for idx in range(cl,cr+1):\n",
    "                    if matrix[rt][idx]<0 and length>counter:\n",
    "                        matrix[rt][idx] = data[counter]\n",
    "                    else:\n",
    "                        break\n",
    "                    counter+=1\n",
    "                direct = 'b'\n",
    "                rt += 1\n",
    "                continue\n",
    "            if direct == 'b':\n",
    "                for idx in range(rt, rb+1):\n",
    "                    if matrix[idx][cr] < 0 and length>counter:\n",
    "                        matrix[idx][cr] = data[counter]\n",
    "                    else:\n",
    "                        break\n",
    "                    counter+=1\n",
    "                direct = 'l'\n",
    "                cr -= 1\n",
    "                continue\n",
    "            if direct == 'l':\n",
    "                for idx in range(cr,cl-1,-1):\n",
    "                    if matrix[rb][idx] < 0 and length>counter:\n",
    "                        matrix[rb][idx] = data[counter]\n",
    "                    else:\n",
    "                        break\n",
    "                    counter+=1\n",
    "                direct = 'u'\n",
    "                rb -=1\n",
    "                continue\n",
    "            if direct == 'u':\n",
    "                for idx in range(rb, rt-1, -1):\n",
    "                    if matrix[idx][cl] < 0 and length>counter :\n",
    "                        matrix[idx][cl] = data[counter]\n",
    "                    else:\n",
    "                        break\n",
    "                    counter+=1\n",
    "                direct = 'r'\n",
    "                cl +=1\n",
    "                continue\n",
    "        return matrix        "
   ]
  },
  {
   "cell_type": "code",
   "execution_count": 65,
   "metadata": {},
   "outputs": [
    {
     "data": {
      "text/plain": [
       "[[0, 1, 2, -1]]"
      ]
     },
     "execution_count": 65,
     "metadata": {},
     "output_type": "execute_result"
    }
   ],
   "source": [
    "m = 3; n = 5; head = [3,0,2,6,8,1,7,9,4,2,5,5,0]\n",
    "m = 1; n = 4; head = [0,1,2]\n",
    "l1 = Helper().extend(head)\n",
    "Solution().spiralMatrix(m,n, l1.head)"
   ]
  },
  {
   "cell_type": "markdown",
   "metadata": {},
   "source": [
    "#### 8. Linked List Cycle II"
   ]
  },
  {
   "cell_type": "code",
   "execution_count": 7,
   "metadata": {},
   "outputs": [],
   "source": [
    "class Solution:\n",
    "    def detectCycle(self, head: Optional[ListNode]) -> Optional[ListNode]:\n",
    "        slow, fast = head, head\n",
    "        while fast and fast.next:\n",
    "            slow, fast = slow.next, fast.next.next\n",
    "            if slow == fast:\n",
    "                slow2 = head\n",
    "                while slow2 != fast:\n",
    "                    slow2, fast = slow2.next, fast.next\n",
    "                return fast\n",
    "        return None"
   ]
  },
  {
   "cell_type": "code",
   "execution_count": 8,
   "metadata": {},
   "outputs": [],
   "source": [
    "head = [3,2,0,-4]\n",
    "l = Helper().extend(head)\n",
    "Solution().detectCycle(l.head)"
   ]
  },
  {
   "cell_type": "markdown",
   "metadata": {},
   "source": [
    "#### 9. LRU Cache"
   ]
  },
  {
   "cell_type": "code",
   "execution_count": 12,
   "metadata": {},
   "outputs": [],
   "source": [
    "# Approach-1: using Doubly-LinkedList\n",
    "class Node:\n",
    "    def __init__(self, k, v):\n",
    "        self.key = k\n",
    "        self.val = v\n",
    "        self.prev = None\n",
    "        self.next = None\n",
    "\n",
    "class LRUCache:\n",
    "    def __init__(self, capacity):\n",
    "        self.capacity = capacity\n",
    "        self.dic = dict()\n",
    "        self.head = Node(0, 0)\n",
    "        self.tail = Node(0, 0)\n",
    "        self.head.next = self.tail\n",
    "        self.tail.prev = self.head\n",
    "\n",
    "    def get(self, key):\n",
    "        if key in self.dic:\n",
    "            n = self.dic[key]\n",
    "            self._remove(n)\n",
    "            self._add(n)\n",
    "            return n.val\n",
    "        return -1\n",
    "\n",
    "    def set(self, key, value):\n",
    "        if key in self.dic:\n",
    "            self._remove(self.dic[key])\n",
    "        n = Node(key, value)\n",
    "        self._add(n)\n",
    "        self.dic[key] = n\n",
    "        if len(self.dic) > self.capacity:\n",
    "            n = self.head.next\n",
    "            self._remove(n)\n",
    "            del self.dic[n.key]\n",
    "\n",
    "    def _remove(self, node):\n",
    "        p = node.prev\n",
    "        n = node.next\n",
    "        p.next = n\n",
    "        n.prev = p\n",
    "\n",
    "    def _add(self, node):\n",
    "        p = self.tail.prev\n",
    "        p.next = node\n",
    "        self.tail.prev = node\n",
    "        node.prev = p\n",
    "        node.next = self.tail"
   ]
  },
  {
   "cell_type": "code",
   "execution_count": 13,
   "metadata": {},
   "outputs": [],
   "source": [
    "from collections import OrderedDict\n",
    "\n",
    "class LRUCache:\n",
    "\n",
    "    def __init__(self, capacity: int):\n",
    "        self.capacity = capacity\n",
    "        self.cache = OrderedDict()\n",
    "\n",
    "    def get(self, key: int) -> int:\n",
    "        if key in self.cache:\n",
    "            self.cache[key] = self.cache.pop(key)\n",
    "            return self.cache[key]\n",
    "        else: return -1\n",
    "\n",
    "    def put(self, key: int, value: int) -> None:\n",
    "        if not self.cache: self.cache[key] = value\n",
    "        elif key in self.cache:\n",
    "            self.cache.pop(key)\n",
    "            self.cache[key] = value\n",
    "        else:\n",
    "            self.cache[key] = value\n",
    "            if len(self.cache) > self.capacity: \n",
    "                self.cache.popitem(last=False)"
   ]
  },
  {
   "cell_type": "markdown",
   "metadata": {},
   "source": [
    "#### 10. Copy List with Random Pointer"
   ]
  },
  {
   "cell_type": "code",
   "execution_count": 19,
   "metadata": {},
   "outputs": [],
   "source": [
    "# Approach-1:\n",
    "\n",
    "from copy import deepcopy\n",
    "\n",
    "class Solution:\n",
    "    def copyRandomList(self, head: 'Optional[Node]') -> 'Optional[Node]':\n",
    "        newlist = deepcopy(head)\n",
    "        return newlist"
   ]
  },
  {
   "cell_type": "code",
   "execution_count": 22,
   "metadata": {},
   "outputs": [],
   "source": [
    "# Approach-2:\n",
    "class Node:\n",
    "    def __init__(self, x: int, next: 'Node' = None, random: 'Node' = None):\n",
    "        self.val = int(x)\n",
    "        self.next = next\n",
    "        self.random = random\n",
    "        \n",
    "class Solution:\n",
    "    def copyRandomList(self, head: 'Optional[Node]') -> 'Optional[Node]':\n",
    "        oldToCopy = {None : None}\n",
    "        iter = head\n",
    "        while iter: # Create an empty lists\n",
    "            oldToCopy[iter] = Node(iter.val) # Creating new node\n",
    "            iter = iter.next\n",
    "        \n",
    "        iter = head\n",
    "        while iter:\n",
    "            new_node = oldToCopy[iter]\n",
    "            new_node.next = oldToCopy[iter.next]\n",
    "            new_node.random = oldToCopy[iter.random]\n",
    "            iter = iter.next\n",
    "            \n",
    "        return oldToCopy[head]        "
   ]
  },
  {
   "cell_type": "code",
   "execution_count": null,
   "metadata": {},
   "outputs": [],
   "source": []
  },
  {
   "cell_type": "code",
   "execution_count": null,
   "metadata": {},
   "outputs": [],
   "source": [
    "head = [3,2,0,-4]\n",
    "l = Helper().extend(head)\n",
    "Solution().detectCycle(l.head)"
   ]
  },
  {
   "cell_type": "markdown",
   "metadata": {},
   "source": [
    "#### 11. Maximum Score from Performing Multiplication Operations"
   ]
  },
  {
   "cell_type": "code",
   "execution_count": 28,
   "metadata": {},
   "outputs": [],
   "source": [
    "class Solution:\n",
    "    def maximumScore(self, nums: List[int], multipliers: List[int]) -> int:    \n",
    "        # Number of Operations\n",
    "        m = len(multipliers)\n",
    "        # For Right Pointer\n",
    "        n = len(nums)\n",
    "        memo = {}\n",
    "        \n",
    "\n",
    "        def get_result(op, left):\n",
    "            if op == m: return 0\n",
    "            # If already computed, return\n",
    "            if (op, left) in memo:\n",
    "                return memo[(op, left)]\n",
    "            res1 = nums[left]  * multipliers[op] + get_result(left+1, right, op+1)\n",
    "            res2 = nums[right] * multipliers[op] + get_result(left, right-1, op+1)\n",
    "            return max(res1, res2)\n",
    "        \n",
    "        return get_result(0, len(nums)-1, 0)"
   ]
  },
  {
   "cell_type": "code",
   "execution_count": null,
   "metadata": {},
   "outputs": [],
   "source": [
    "\n",
    "        def dp(op, left):\n",
    "            if op == m:\n",
    "                return 0\n",
    "\n",
    "            # If already computed, return\n",
    "            if (op, left) in memo:\n",
    "                return memo[(op, left)]\n",
    "\n",
    "            l = nums[left] * multipliers[op] + dp(op+1, left+1)\n",
    "            r = nums[(n-1)-(op-left)] * multipliers[op] + dp(op+1, left)\n",
    "\n",
    "            memo[(op, left)] = max(l, r)\n",
    "\n",
    "            return memo[(op, left)]\n",
    "\n",
    "        # Zero operation done in the beginning\n",
    "        return dp(0, 0)"
   ]
  },
  {
   "cell_type": "code",
   "execution_count": 29,
   "metadata": {},
   "outputs": [
    {
     "data": {
      "text/plain": [
       "14"
      ]
     },
     "execution_count": 29,
     "metadata": {},
     "output_type": "execute_result"
    }
   ],
   "source": [
    "nums = [1,2,3]; multipliers = [3,2,1]\n",
    "Solution().maximumScore(nums, multipliers)"
   ]
  },
  {
   "cell_type": "markdown",
   "metadata": {},
   "source": [
    "#### 12. Flatten Binary Tree to Linked List"
   ]
  },
  {
   "cell_type": "code",
   "execution_count": 69,
   "metadata": {},
   "outputs": [],
   "source": [
    "# Definition for a binary tree node.\n",
    "# Approach 1\n",
    "\n",
    "class TreeNode:\n",
    "    def __init__(self, val=0, left=None, right=None):\n",
    "        self.val = val\n",
    "        self.left = left\n",
    "        self.right = right\n",
    "\n",
    "class Solution:\n",
    "    def flatten(self, root: Optional[TreeNode]) -> None:\n",
    "        \"\"\"\n",
    "        Do not return anything, modify root in-place instead.\n",
    "        \"\"\"\n",
    "        def dfs(root):\n",
    "            if root is None: return\n",
    "            leftTail  = dfs(root.left)\n",
    "            rightTail = dfs(root.right)\n",
    "            \n",
    "            if root.left:\n",
    "                leftTail.right = root.right\n",
    "                root.right = root.left\n",
    "                root.left = None\n",
    "                \n",
    "            last = rightTail or leftTail or root\n",
    "            return last\n",
    "        \n",
    "        dfs(root)\n",
    "        "
   ]
  },
  {
   "cell_type": "code",
   "execution_count": null,
   "metadata": {},
   "outputs": [],
   "source": []
  },
  {
   "cell_type": "markdown",
   "metadata": {},
   "source": [
    "#### 13. Odd Even Linked List"
   ]
  },
  {
   "cell_type": "code",
   "execution_count": 81,
   "metadata": {},
   "outputs": [],
   "source": [
    "# Definition for singly-linked list.\n",
    "# class ListNode:\n",
    "#     def __init__(self, val=0, next=None):\n",
    "#         self.val = val\n",
    "#         self.next = next\n",
    "#___________\n",
    "#|    _____|______\n",
    "#|    |    |     |\n",
    "#1--->2--->3--->4--->5\n",
    "#\n",
    "class Solution:\n",
    "    def oddEvenList(self, head: Optional[ListNode]) -> Optional[ListNode]:\n",
    "        if head is None: return None\n",
    "        # Taking dummy to remember initial reference\n",
    "        dummy1, dummy2 = head, head.next\n",
    "        first, second = head, head.next\n",
    "        while second and second.next:\n",
    "            first.next = first.next.next\n",
    "            second.next = second.next.next\n",
    "            first = first.next\n",
    "            second = second.next\n",
    "        first.next = dummy2\n",
    "        return dummy1 "
   ]
  },
  {
   "cell_type": "code",
   "execution_count": 86,
   "metadata": {},
   "outputs": [
    {
     "data": {
      "text/plain": [
       "[1, 3, 5, 2, 4]"
      ]
     },
     "execution_count": 86,
     "metadata": {},
     "output_type": "execute_result"
    }
   ],
   "source": [
    "head = [1,2,3,4,5]\n",
    "l = Helper().extend(head)\n",
    "l2 = Solution().oddEvenList(l.head)\n",
    "Helper().tolist(l2)"
   ]
  },
  {
   "cell_type": "markdown",
   "metadata": {},
   "source": [
    "#### 14. Swap Nodes in Pairs"
   ]
  },
  {
   "cell_type": "code",
   "execution_count": 96,
   "metadata": {},
   "outputs": [],
   "source": [
    "# Definition for singly-linked list.\n",
    "# class ListNode:\n",
    "#     def __init__(self, val=0, next=None):\n",
    "#         self.val = val\n",
    "#         self.next = next\n",
    "class Solution:\n",
    "    def swapPairs(self, head: Optional[ListNode]) -> Optional[ListNode]:\n",
    "        dummy = ListNode(0, head)\n",
    "        prev, curr = dummy, dummy.next\n",
    "        while curr and curr.next:\n",
    "            third  = curr.next.next\n",
    "            second = curr.next\n",
    "             \n",
    "            #reverse the pair\n",
    "            second.next = curr\n",
    "            curr.next   = third\n",
    "            prev.next   = second\n",
    "            \n",
    "            # update the pair\n",
    "            prev, curr = curr, third\n",
    "        return dummy.next            \n",
    "        \n",
    "        "
   ]
  },
  {
   "cell_type": "code",
   "execution_count": null,
   "metadata": {},
   "outputs": [],
   "source": [
    "# Approach-2:\n",
    "class Solution:\n",
    "    def swapPairs(self, head: Optional[ListNode]) -> Optional[ListNode]:\n",
    "        if not head: return head\n",
    "\n",
    "        prev, cur, ans = None, head, head.next\n",
    "        while cur and cur.next:\n",
    "            adj = cur.next\n",
    "            if prev: prev.next = adj\n",
    "            cur.next, adj.next = adj.next, cur\n",
    "            prev, cur = cur, cur.next\n",
    "\n",
    "        return ans or head"
   ]
  },
  {
   "cell_type": "code",
   "execution_count": 103,
   "metadata": {},
   "outputs": [
    {
     "data": {
      "text/plain": [
       "[2, 1, 4, 3, 5]"
      ]
     },
     "execution_count": 103,
     "metadata": {},
     "output_type": "execute_result"
    }
   ],
   "source": [
    "head = [1,2,3,4,5]\n",
    "l = Helper().extend(head)\n",
    "l2 = Solution().swapPairs(l.head)\n",
    "Helper().tolist(l2)"
   ]
  },
  {
   "cell_type": "markdown",
   "metadata": {},
   "source": [
    "#### 15. Next Greater Node In Linked List"
   ]
  },
  {
   "cell_type": "code",
   "execution_count": 149,
   "metadata": {},
   "outputs": [],
   "source": [
    "# Definition for singly-linked list.\n",
    "# class ListNode:\n",
    "#     def __init__(self, val=0, next=None):\n",
    "#         self.val = val\n",
    "#         self.next = next\n",
    "class Solution:\n",
    "    def nextLargerNodes(self, head: Optional[ListNode]) -> List[int]:\n",
    "        res, stack = [], []\n",
    "        while head:\n",
    "            while stack and stack[-1][1] < head.val:\n",
    "                res[stack.pop()[0]] = head.val\n",
    "            stack.append([len(res), head.val])\n",
    "            res.append(0)\n",
    "            head = head.next\n",
    "        return res"
   ]
  },
  {
   "cell_type": "code",
   "execution_count": 150,
   "metadata": {},
   "outputs": [
    {
     "data": {
      "text/plain": [
       "[0, 5, 0]"
      ]
     },
     "execution_count": 150,
     "metadata": {},
     "output_type": "execute_result"
    }
   ],
   "source": [
    "head = [2,1,5]\n",
    "head = [3,3]\n",
    "head = [2,7,4,3,5]\n",
    "head = [1,7,5,1,9,2,5,1]\n",
    "#[7,9,9,9,0,5,0,0]\n",
    "head = [5,2,5]\n",
    "l = Helper().extend(head)\n",
    "Solution().nextLargerNodes(l.head)"
   ]
  },
  {
   "cell_type": "markdown",
   "metadata": {},
   "source": [
    "#### 16. Add Two Numbers II"
   ]
  },
  {
   "cell_type": "code",
   "execution_count": 38,
   "metadata": {},
   "outputs": [],
   "source": [
    "# Definition for singly-linked list.\n",
    "# class ListNode:\n",
    "#     def __init__(self, val=0, next=None):\n",
    "#         self.val = val\n",
    "#         self.next = next\n",
    "class Solution:\n",
    "    def addTwoNumbers(self, l1: Optional[ListNode], l2: Optional[ListNode]) -> Optional[ListNode]:\n",
    "        from collections import deque\n",
    "        one, two = deque(), deque()\n",
    "        while l1:\n",
    "            one.append(l1.val)\n",
    "            l1 = l1.next\n",
    "        while l2:\n",
    "            two.append(l2.val)\n",
    "            l2 = l2.next\n",
    "        tail = None\n",
    "        carry = 0\n",
    "        while one or two:\n",
    "            try:\n",
    "                ones = one.pop()\n",
    "            except:\n",
    "                ones = 0\n",
    "            try:\n",
    "                twos = two.pop()\n",
    "            except:\n",
    "                twos = 0\n",
    "            val = ones+twos+carry\n",
    "            if val<10:\n",
    "                carry = 0\n",
    "                if tail is None:\n",
    "                    tail = ListNode(val,None)\n",
    "                else:\n",
    "                    tail = ListNode(val, tail)\n",
    "            elif val==10:\n",
    "                carry = 1\n",
    "                if tail is None:\n",
    "                    tail = ListNode(0, None)\n",
    "                else:\n",
    "                    tail = ListNode(0, tail)\n",
    "            else:\n",
    "                carry = 1\n",
    "                if tail is None:\n",
    "                    tail = ListNode(val%10, None)\n",
    "                else:\n",
    "                    tail = ListNode(val%10, tail)\n",
    "        if carry:\n",
    "            if tail is None:\n",
    "                tail = ListNode(1, None)\n",
    "            else:\n",
    "                tail = ListNode(1, tail)\n",
    "        return tail\n",
    "\n"
   ]
  },
  {
   "cell_type": "code",
   "execution_count": null,
   "metadata": {},
   "outputs": [],
   "source": [
    "class Solution:\n",
    "    def addTwoNumbers(self, l1: Optional[ListNode], l2: Optional[ListNode]) -> Optional[ListNode]:\n",
    "        # measure the lengths of linked lists\n",
    "        \n",
    "        num1, num2 = 0, 0\n",
    "        while l1:\n",
    "            num1 = num1 * 10 + l1.val\n",
    "            l1 = l1.next\n",
    "            \n",
    "        while l2:\n",
    "            num2 = num2 * 10 + l2.val\n",
    "            l2 = l2.next\n",
    "          \n",
    "        dummy = curr = ListNode(None)\n",
    "        for i in str(num1 + num2):\n",
    "            curr.next = ListNode(i)\n",
    "            curr = curr.next\n",
    "            \n",
    "        return dummy.next"
   ]
  },
  {
   "cell_type": "code",
   "execution_count": 50,
   "metadata": {},
   "outputs": [
    {
     "data": {
      "text/plain": [
       "[1, 1, 0]"
      ]
     },
     "execution_count": 50,
     "metadata": {},
     "output_type": "execute_result"
    }
   ],
   "source": [
    "l1 = [9,9]\n",
    "l2 = [1,1]\n",
    "#l1 = [2,4,3]; l2 = [5,6,4]\n",
    "#l1 = [0]; l2 = [0]\n",
    "l1 = Helper().extend(l1).head\n",
    "l2 = Helper().extend(l2).head\n",
    "l3 = Solution().addTwoNumbers(l1,l2)\n",
    "Helper().tolist(l3)"
   ]
  },
  {
   "cell_type": "markdown",
   "metadata": {},
   "source": [
    "#### 17.Linked List Random Node "
   ]
  },
  {
   "cell_type": "code",
   "execution_count": 2,
   "metadata": {},
   "outputs": [],
   "source": [
    "import random"
   ]
  },
  {
   "cell_type": "code",
   "execution_count": 12,
   "metadata": {},
   "outputs": [
    {
     "data": {
      "text/plain": [
       "5"
      ]
     },
     "execution_count": 12,
     "metadata": {},
     "output_type": "execute_result"
    }
   ],
   "source": [
    "random.randrange(1,10)"
   ]
  },
  {
   "cell_type": "code",
   "execution_count": 84,
   "metadata": {},
   "outputs": [],
   "source": [
    "class Solution:\n",
    "    def __init__(self, head: ListNode):\n",
    "        self.head = head\n",
    "\n",
    "    def getRandom(self) -> int:\n",
    "        scope = 1\n",
    "        chosen_value = 0\n",
    "        curr = self.head\n",
    "        while curr:\n",
    "            # decide whether to include the element in reservoir\n",
    "            temp_val = random.random()\n",
    "            if temp_val < 1 / scope:\n",
    "                chosen_value = curr.val\n",
    "            # move on to the next node\n",
    "            #print(chosen_value, temp_val, 1 / scope)\n",
    "            curr = curr.next\n",
    "            scope += 1\n",
    "        return chosen_value"
   ]
  },
  {
   "cell_type": "code",
   "execution_count": 83,
   "metadata": {},
   "outputs": [
    {
     "name": "stdout",
     "output_type": "stream",
     "text": [
      "1 0.666767867804772 1.0\n",
      "1 0.9428093933760076 0.5\n",
      "3 0.32649936202998686 0.3333333333333333\n",
      "3 0.5390102115994497 0.25\n",
      "3 0.6345654327465088 0.2\n",
      "3 0.3144410638463504 0.16666666666666666\n",
      "7 0.13334995379435866 0.14285714285714285\n",
      "8 0.0854484065430069 0.125\n",
      "8 0.17377949637477808 0.1111111111111111\n",
      "8 0.11721298870172459 0.1\n"
     ]
    },
    {
     "data": {
      "text/plain": [
       "8"
      ]
     },
     "execution_count": 83,
     "metadata": {},
     "output_type": "execute_result"
    }
   ],
   "source": [
    "l1 = [1,2,3,4,5,6,7,8,9,10]\n",
    "l1 = Helper().extend(l1).head\n",
    "Solution(l1).getRandom()"
   ]
  },
  {
   "cell_type": "markdown",
   "metadata": {},
   "source": [
    "#### 18. Linked List Components"
   ]
  },
  {
   "cell_type": "code",
   "execution_count": 103,
   "metadata": {},
   "outputs": [],
   "source": [
    "class Solution:\n",
    "    def numComponents(self, head: Optional[ListNode], nums: List[int]) -> int:\n",
    "        nums = set(nums)\n",
    "        components = 0\n",
    "        in_component = False\n",
    "        while head:\n",
    "            if head.val in nums:\n",
    "                if not in_component:\n",
    "                    components += 1\n",
    "                    in_component = True\n",
    "            else:\n",
    "                in_component = False\n",
    "            head = head.next\n",
    "        return components"
   ]
  },
  {
   "cell_type": "code",
   "execution_count": 104,
   "metadata": {},
   "outputs": [
    {
     "data": {
      "text/plain": [
       "2"
      ]
     },
     "execution_count": 104,
     "metadata": {},
     "output_type": "execute_result"
    }
   ],
   "source": [
    "head = [0,1,2,3]; nums = [0,1,3]\n",
    "head = [0,1,2,3,4]; nums = [0,3,1,4]\n",
    "head = [0,1,2,3,4,5,6,7,8]; nums = [0,1,3,4,5,6]\n",
    "l1 = Helper().extend(head).head\n",
    "Solution().numComponents(l1, nums)"
   ]
  },
  {
   "cell_type": "markdown",
   "metadata": {},
   "source": [
    "#### 19.  Design a circular Queue"
   ]
  },
  {
   "cell_type": "code",
   "execution_count": 132,
   "metadata": {},
   "outputs": [],
   "source": [
    "# Using LInkedLIst\n",
    "\n",
    "class ListNode:\n",
    "    def __init__(self, val=0, next=None):\n",
    "        self.val  = val\n",
    "        self.next = next\n",
    "        \n",
    "\n",
    "class MyCircularQueue:\n",
    "\n",
    "    def __init__(self, k: int):\n",
    "        self.k = k\n",
    "        self.head = None\n",
    "        self.counter = 0\n",
    "        self.pointer = None\n",
    "\n",
    "    def append(self, val):\n",
    "        if self.head is None:\n",
    "            self.head = ListNode(val)\n",
    "            self.head.next = self.head\n",
    "            self.pointer = self.head\n",
    "        else:\n",
    "            self.pointer.next = ListNode(val, self.head)\n",
    "            self.pointer = self.pointer.next\n",
    "        self.counter+=1\n",
    "        return True\n",
    "        \n",
    "    def remove(self):\n",
    "        if self.head is None:\n",
    "            return False\n",
    "        if self.counter == 1:\n",
    "            self.head = None\n",
    "            self.pointer = None\n",
    "            self.counter-=1\n",
    "            return True\n",
    "        self.head = self.head.next\n",
    "        self.pointer.next = self.head\n",
    "        self.counter-=1\n",
    "        return True\n",
    "    \n",
    "    def enQueue(self, value: int) -> bool:\n",
    "        return self.append(value) if self.counter < self.k else False\n",
    "\n",
    "    def deQueue(self) -> bool:\n",
    "        return self.remove() if self.counter > 0 else False\n",
    "        \n",
    "    def Front(self) -> int:\n",
    "        if self.head is None:\n",
    "            return -1\n",
    "        return self.head.val\n",
    "\n",
    "    def Rear(self) -> int:\n",
    "        if self.head is None:\n",
    "            return -1\n",
    "        return self.pointer.val\n",
    "\n",
    "    def isEmpty(self) -> bool:\n",
    "        return self.counter==0\n",
    "\n",
    "    def isFull(self) -> bool:\n",
    "        return self.counter==self.k"
   ]
  },
  {
   "cell_type": "code",
   "execution_count": 133,
   "metadata": {},
   "outputs": [],
   "source": [
    "class MyCircularQueue:\n",
    "\n",
    "    def __init__(self, k: int):\n",
    "        self.queue=[]\n",
    "        self.size=k\n",
    "\n",
    "    def enQueue(self, value: int) -> bool:\n",
    "        if self.isFull(): return False\n",
    "        self.queue.append(value)\n",
    "        return True        \n",
    "\n",
    "    def deQueue(self) -> bool:\n",
    "        if self.isEmpty(): return False\n",
    "        self.queue.pop(0)\n",
    "        return True\n",
    "\n",
    "    def Front(self) -> int:\n",
    "        return -1 if len(self.queue)==0 else self.queue[0]\n",
    "\n",
    "    def Rear(self) -> int:\n",
    "        return -1 if len(self.queue)==0 else self.queue[-1]        \n",
    "\n",
    "    def isEmpty(self) -> bool:\n",
    "        return True if len(self.queue)==0 else False        \n",
    "\n",
    "    def isFull(self) -> bool:\n",
    "        return True if len(self.queue)==self.size else False"
   ]
  },
  {
   "cell_type": "code",
   "execution_count": 131,
   "metadata": {},
   "outputs": [
    {
     "name": "stdout",
     "output_type": "stream",
     "text": [
      "True\n",
      "1\n",
      "True\n",
      "True\n",
      "-1\n",
      "-1\n",
      "True\n",
      "4\n",
      "4\n",
      "True\n",
      "False\n",
      "-1\n",
      "-1\n"
     ]
    },
    {
     "data": {
      "text/plain": [
       "0"
      ]
     },
     "execution_count": 131,
     "metadata": {},
     "output_type": "execute_result"
    }
   ],
   "source": [
    "#Your MyCircularQueue object will be instantiated and called as such:\n",
    "k = 1\n",
    "obj = MyCircularQueue(k)\n",
    "print(obj.enQueue(1))\n",
    "print(obj.Rear())\n",
    "print(obj.isFull())\n",
    "print(obj.deQueue())\n",
    "print(obj.Rear())\n",
    "print(obj.Front())\n",
    "print(obj.enQueue(4))\n",
    "print(obj.Rear())\n",
    "print(obj.Front())\n",
    "print(obj.deQueue())\n",
    "print(obj.deQueue())\n",
    "print(obj.Rear())\n",
    "print(obj.Front())\n",
    "\n",
    "obj.counter"
   ]
  },
  {
   "cell_type": "code",
   "execution_count": null,
   "metadata": {},
   "outputs": [],
   "source": [
    "# [\"MyCircularQueue\", \"enQueue\", \"enQueue\", \"enQueue\", \"enQueue\", \"Rear\", \"isFull\", \"deQueue\", \"enQueue\", \"Rear\"]\n",
    "# [[3], [1], [2], [3], [4], [], [], [], [4], []]\n",
    "# [true, true, true, false, 3, true, true, true, 4]"
   ]
  },
  {
   "cell_type": "markdown",
   "metadata": {},
   "source": [
    "#### 20. Delete the Middle Node of a Linked List"
   ]
  },
  {
   "cell_type": "code",
   "execution_count": 167,
   "metadata": {},
   "outputs": [],
   "source": [
    "# Definition for singly-linked list.\n",
    "class ListNode:\n",
    "    def __init__(self, val=0, next=None):\n",
    "        self.val = val\n",
    "        self.next = next\n",
    "\n",
    "class Solution:\n",
    "    def deleteMiddle(self, head: Optional[ListNode]) -> Optional[ListNode]:\n",
    "        dummy = ListNode(0,head)\n",
    "        slow, fast = dummy, dummy\n",
    "        while fast.next and fast.next.next:\n",
    "            slow, fast = slow.next, fast.next.next\n",
    "        slow.next = slow.next.next\n",
    "        return dummy.next"
   ]
  },
  {
   "cell_type": "code",
   "execution_count": 175,
   "metadata": {},
   "outputs": [
    {
     "data": {
      "text/plain": [
       "[2]"
      ]
     },
     "execution_count": 175,
     "metadata": {},
     "output_type": "execute_result"
    }
   ],
   "source": [
    "head = [1,3,4,7,1,2,6]\n",
    "head = [1,2,3,4]\n",
    "head = [2,1]\n",
    "#head = [1]\n",
    "l1 = Helper().extend(head).head\n",
    "l2 = Solution().deleteMiddle(l1)\n",
    "Helper().tolist(l2)"
   ]
  }
 ],
 "metadata": {
  "kernelspec": {
   "display_name": "Python 3.8.8 ('base')",
   "language": "python",
   "name": "python3"
  },
  "language_info": {
   "codemirror_mode": {
    "name": "ipython",
    "version": 3
   },
   "file_extension": ".py",
   "mimetype": "text/x-python",
   "name": "python",
   "nbconvert_exporter": "python",
   "pygments_lexer": "ipython3",
   "version": "3.8.8"
  },
  "orig_nbformat": 4,
  "vscode": {
   "interpreter": {
    "hash": "ad2bdc8ecc057115af97d19610ffacc2b4e99fae6737bb82f5d7fb13d2f2c186"
   }
  }
 },
 "nbformat": 4,
 "nbformat_minor": 2
}
