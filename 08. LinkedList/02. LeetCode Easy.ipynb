{
 "cells": [
  {
   "cell_type": "code",
   "execution_count": 2,
   "metadata": {},
   "outputs": [],
   "source": [
    "from typing import List, Tuple, Dict, Optional"
   ]
  },
  {
   "cell_type": "code",
   "execution_count": null,
   "metadata": {},
   "outputs": [],
   "source": []
  },
  {
   "cell_type": "code",
   "execution_count": 63,
   "metadata": {},
   "outputs": [],
   "source": [
    "class ListNode:\n",
    "    def __init__(self, val=0, next=None):\n",
    "        self.val = val\n",
    "        self.next = next\n",
    "\n",
    "class Solution:\n",
    "    \n",
    "    def __init__(self):\n",
    "        self.head = None\n",
    "    def append(self, value):\n",
    "        if self.head is None:\n",
    "            self.head = ListNode(value, None)\n",
    "            return\n",
    "        itr = self.head\n",
    "        while itr.next:\n",
    "            itr = itr.next\n",
    "        itr.next = ListNode(value, None)\n",
    "    def tolist(self):\n",
    "        l = []\n",
    "        itr = self.head\n",
    "        while itr:\n",
    "            l.append(itr.val)\n",
    "            itr = itr.next\n",
    "        return l\n",
    "    \n",
    "    def removeElements(self, val):\n",
    "        if self.head is None or (self.head.val==val): return self.head\n",
    "        itr = self.head\n",
    "        while itr.next:\n",
    "            if itr.next.val == val:\n",
    "                itr.next = itr.next.next\n",
    "            itr = itr.next\n",
    "        return self.head"
   ]
  },
  {
   "cell_type": "code",
   "execution_count": 64,
   "metadata": {},
   "outputs": [
    {
     "name": "stdout",
     "output_type": "stream",
     "text": [
      "[7, 7, 7, 7]\n",
      "[7, 7, 7, 7]\n"
     ]
    }
   ],
   "source": [
    "head = [1,2,6,3,4,5,6]; val = 6\n",
    "head = []; val = 1\n",
    "head = [7,7,7,7]; val = 7\n",
    "\n",
    "obj = Solution()\n",
    "for i in head:\n",
    "    obj.append(i)\n",
    "\n",
    "print(obj.tolist())\n",
    "obj.removeElements(val)\n",
    "print(obj.tolist())"
   ]
  },
  {
   "cell_type": "code",
   "execution_count": null,
   "metadata": {},
   "outputs": [],
   "source": []
  }
 ],
 "metadata": {
  "kernelspec": {
   "display_name": "Python 3.8.8 ('base')",
   "language": "python",
   "name": "python3"
  },
  "language_info": {
   "codemirror_mode": {
    "name": "ipython",
    "version": 3
   },
   "file_extension": ".py",
   "mimetype": "text/x-python",
   "name": "python",
   "nbconvert_exporter": "python",
   "pygments_lexer": "ipython3",
   "version": "3.8.8"
  },
  "orig_nbformat": 4,
  "vscode": {
   "interpreter": {
    "hash": "ad2bdc8ecc057115af97d19610ffacc2b4e99fae6737bb82f5d7fb13d2f2c186"
   }
  }
 },
 "nbformat": 4,
 "nbformat_minor": 2
}
