{
 "cells": [
  {
   "cell_type": "code",
   "execution_count": 1,
   "metadata": {},
   "outputs": [],
   "source": [
    "# Let create some basic operations\n",
    "# 1. Insertion at beginning\n",
    "# 2. Insertion at middle\n",
    "# 3. Insertion at end\n",
    "# 4. Deletion at beginning\n",
    "# 5. Deletion at middle\n",
    "# 6. Deletion at end\n",
    "# 7. Reverse a LinkedList"
   ]
  },
  {
   "cell_type": "code",
   "execution_count": 48,
   "metadata": {},
   "outputs": [],
   "source": [
    "class Node:\n",
    "    def __init__(self, value=None, next=None):\n",
    "        self.value = value\n",
    "        self.next = next\n",
    "\n",
    "\n",
    "class LinkedList:\n",
    "    def __init__(self):\n",
    "        self.head = None\n",
    "        \n",
    "    def insert_at_begin(self, value):\n",
    "        '''\n",
    "        It will insert the element at the beginning\n",
    "        '''\n",
    "        # To insert some element we need a node\n",
    "        self.head = Node(value, self.head)\n",
    "        \n",
    "    def insert_at_end(self, value):\n",
    "        '''\n",
    "        Insert at the end\n",
    "        '''\n",
    "        if self.head is None:\n",
    "            self.head = Node(value, None)\n",
    "            return \n",
    "        itr = self.head\n",
    "        while itr.next:\n",
    "            itr = itr.next\n",
    "        itr.next = Node(value, None)\n",
    "        \n",
    "        \n",
    "    def create_new_ll(self, values):\n",
    "        '''\n",
    "        Create new linked list\n",
    "        '''\n",
    "        self.head = None\n",
    "        for val in values:\n",
    "            self.insert_at_end(val)\n",
    "            \n",
    "    \n",
    "    def size(self):\n",
    "        counter=0\n",
    "        itr = self.head\n",
    "        while itr:\n",
    "            counter+=1\n",
    "            itr = itr.next\n",
    "        return counter\n",
    "    \n",
    "    def remove(self, index):\n",
    "        if index<0 or index>=self.size():\n",
    "            raise Exception(\"Index out of Bound.\")\n",
    "        if index==0:\n",
    "            self.head = self.head.next # pointing to the next\n",
    "        itr = self.head\n",
    "        counter=0\n",
    "        while itr:\n",
    "            if counter == index-1:\n",
    "                itr.next = itr.next.next\n",
    "                break\n",
    "            itr = itr.next\n",
    "            counter+=1\n",
    "            \n",
    "    def insert(self, index, value):\n",
    "        # Check valid index condition\n",
    "        if index<0 or index>= self.size():\n",
    "            raise Exception('Index out of Bound')\n",
    "        if index==0:\n",
    "            self.insert_at_begin(value)\n",
    "        itr = self.head\n",
    "        counter = 0\n",
    "        while itr:\n",
    "            if counter == index-1:\n",
    "                itr.next = Node(value, itr.next)\n",
    "                break\n",
    "            itr = itr.next\n",
    "            counter+=1\n",
    "                \n",
    "    def print(self):\n",
    "        if self.head is None:\n",
    "            print(\"LinkedList is Empty\")\n",
    "            return\n",
    "        # iterate over linked list\n",
    "        itr = self.head\n",
    "        counter = 0\n",
    "        while itr:\n",
    "            print(f\"{counter}.  Value : {itr.value}, Next address: {itr.next}\")\n",
    "            itr = itr.next\n",
    "            counter+=1\n",
    "        "
   ]
  },
  {
   "cell_type": "code",
   "execution_count": 49,
   "metadata": {},
   "outputs": [
    {
     "name": "stdout",
     "output_type": "stream",
     "text": [
      "0.  Value : 40, Next address: <__main__.Node object at 0x000001E0B64BD9A0>\n",
      "1.  Value : 30, Next address: <__main__.Node object at 0x000001E0B64BD100>\n",
      "2.  Value : 20, Next address: <__main__.Node object at 0x000001E0B64BD2B0>\n",
      "3.  Value : 10, Next address: <__main__.Node object at 0x000001E0B64BD490>\n",
      "4.  Value : 10, Next address: <__main__.Node object at 0x000001E0B64BD1C0>\n",
      "5.  Value : 20, Next address: <__main__.Node object at 0x000001E0B64BD250>\n",
      "6.  Value : 30, Next address: <__main__.Node object at 0x000001E0B64BD940>\n",
      "7.  Value : 40, Next address: None\n",
      "0.  Value : A, Next address: <__main__.Node object at 0x000001E0B64BDB20>\n",
      "1.  Value : B, Next address: <__main__.Node object at 0x000001E0B64BD0A0>\n",
      "2.  Value : C, Next address: <__main__.Node object at 0x000001E0B64BD670>\n",
      "3.  Value : D, Next address: None\n",
      "\n",
      "Size of LL:  4\n"
     ]
    }
   ],
   "source": [
    "ll = LinkedList()\n",
    "ll.insert_at_begin(10)\n",
    "ll.insert_at_begin(20)\n",
    "ll.insert_at_begin(30)\n",
    "ll.insert_at_begin(40)\n",
    "ll.insert_at_end(10)\n",
    "ll.insert_at_end(20)\n",
    "ll.insert_at_end(30)\n",
    "ll.insert_at_end(40)\n",
    "ll.print()\n",
    "ll.create_new_ll(['A','B','C','D'])\n",
    "ll.print()\n",
    "print()\n",
    "print(\"Size of LL: \", ll.size())"
   ]
  },
  {
   "cell_type": "code",
   "execution_count": 51,
   "metadata": {},
   "outputs": [
    {
     "name": "stdout",
     "output_type": "stream",
     "text": [
      "0.  Value : A, Next address: <__main__.Node object at 0x000001E0B64BDE50>\n",
      "1.  Value : B, Next address: <__main__.Node object at 0x000001E0B64BDB20>\n",
      "2.  Value : C, Next address: <__main__.Node object at 0x000001E0B64BD0A0>\n",
      "3.  Value : D, Next address: None\n",
      "0.  Value : B, Next address: <__main__.Node object at 0x000001E0B64BDB20>\n",
      "1.  Value : C, Next address: <__main__.Node object at 0x000001E0B64BD0A0>\n",
      "2.  Value : D, Next address: None\n"
     ]
    }
   ],
   "source": [
    "ll = LinkedList()\n",
    "ll.create_new_ll(['A','B','C','D'])\n",
    "ll.print()\n",
    "print()\n",
    "ll.remove(0)\n",
    "ll.print()"
   ]
  },
  {
   "cell_type": "code",
   "execution_count": 56,
   "metadata": {},
   "outputs": [
    {
     "name": "stdout",
     "output_type": "stream",
     "text": [
      "0.  Value : A, Next address: <__main__.Node object at 0x000001E0B64BDD60>\n",
      "1.  Value : B, Next address: <__main__.Node object at 0x000001E0B64BD3A0>\n",
      "2.  Value : C, Next address: <__main__.Node object at 0x000001E0B64BD1C0>\n",
      "3.  Value : D, Next address: None\n",
      "\n",
      "0.  Value : A, Next address: <__main__.Node object at 0x000001E0B64BDCA0>\n",
      "1.  Value : XXXX, Next address: <__main__.Node object at 0x000001E0B64BDD60>\n",
      "2.  Value : B, Next address: <__main__.Node object at 0x000001E0B64BD3A0>\n",
      "3.  Value : C, Next address: <__main__.Node object at 0x000001E0B64BD1C0>\n",
      "4.  Value : D, Next address: None\n",
      "\n",
      "0.  Value : ZZZZ, Next address: <__main__.Node object at 0x000001E0B61F9D00>\n",
      "1.  Value : A, Next address: <__main__.Node object at 0x000001E0B64BDCA0>\n",
      "2.  Value : XXXX, Next address: <__main__.Node object at 0x000001E0B64BDD60>\n",
      "3.  Value : B, Next address: <__main__.Node object at 0x000001E0B64BD3A0>\n",
      "4.  Value : C, Next address: <__main__.Node object at 0x000001E0B64BD1C0>\n",
      "5.  Value : D, Next address: None\n"
     ]
    }
   ],
   "source": [
    "ll = LinkedList()\n",
    "ll.create_new_ll(['A','B','C','D'])\n",
    "ll.print()\n",
    "print()\n",
    "ll.insert(1,'XXXX')\n",
    "ll.print()\n",
    "print()\n",
    "ll.insert(0,'ZZZZ')\n",
    "ll.print()\n"
   ]
  },
  {
   "cell_type": "code",
   "execution_count": 63,
   "metadata": {},
   "outputs": [
    {
     "name": "stdout",
     "output_type": "stream",
     "text": [
      "['append', 'appendleft', 'clear', 'copy', 'count', 'extend', 'extendleft', 'index', 'insert', 'maxlen', 'pop', 'popleft', 'remove', 'reverse', 'rotate']\n"
     ]
    }
   ],
   "source": [
    "from collections import deque\n",
    "\n",
    "print([i for i in dir(deque()) if i[0]!='_'])"
   ]
  },
  {
   "cell_type": "markdown",
   "metadata": {},
   "source": [
    "# Lets try to build all List/Stack/Queue operation in linkedList"
   ]
  },
  {
   "cell_type": "code",
   "execution_count": 263,
   "metadata": {},
   "outputs": [],
   "source": [
    "class Node:\n",
    "    def __init__(self, value, next):\n",
    "        self.value = value\n",
    "        self.next = next"
   ]
  },
  {
   "cell_type": "code",
   "execution_count": 264,
   "metadata": {},
   "outputs": [],
   "source": [
    "class LinkedList:\n",
    "    def __init__(self):\n",
    "        self.head = None\n",
    "        \n",
    "    def append(self, value):\n",
    "        if self.head is None:\n",
    "            self.head = Node(value, None)\n",
    "            return\n",
    "        itr = self.head\n",
    "        while itr.next:\n",
    "            itr = itr.next\n",
    "        itr.next = Node(value, None)\n",
    "        \n",
    "    def appendleft(self, value):\n",
    "        self.head = Node(value, self.head)\n",
    "\n",
    "    def count(self, value):\n",
    "        counter = 0\n",
    "        if self.head is None: \n",
    "            return counter\n",
    "        itr = self.head\n",
    "        while itr:\n",
    "            if itr.value==value:\n",
    "                counter+=1\n",
    "            itr = itr.next\n",
    "        return counter\n",
    "        \n",
    "    def clear(self):\n",
    "        self.head = None\n",
    "    \n",
    "    def extend(self, values):\n",
    "        for val in values:\n",
    "            self.append(val)\n",
    "    \n",
    "    def extendleft(self, values):\n",
    "        for val in values:\n",
    "            self.appendleft(val)  \n",
    "    \n",
    "    def index(self, value):\n",
    "        counter=0\n",
    "        if self.head is None:\n",
    "            return -1\n",
    "        itr = self.head\n",
    "        while itr:\n",
    "            if itr.value==value:\n",
    "                return counter\n",
    "            counter+=1\n",
    "            itr = itr.next\n",
    "        return -1\n",
    "        \n",
    "    def insert(self, index, value):\n",
    "        if index<0 or index>=self.size():\n",
    "            raise Exception(\"Index out of Bound\")\n",
    "        if index==0:\n",
    "            return self.appendleft(value)\n",
    "        itr = self.head\n",
    "        counter = 0\n",
    "        while itr:\n",
    "            if counter == index-1:\n",
    "                itr.next = Node(value, itr.next)\n",
    "                break\n",
    "            counter+=1\n",
    "            itr = itr.next\n",
    "    \n",
    "    def pop(self):\n",
    "        if self.head is None:\n",
    "            raise Exception(\"LinkedList is Empty.\")\n",
    "        if self.size()==1:\n",
    "            value = self.head.value\n",
    "            self.head = None\n",
    "            return value\n",
    "        itr = self.head\n",
    "        while itr.next.next:\n",
    "            itr = itr.next\n",
    "        value = itr.next.value\n",
    "        itr.next = None\n",
    "        return value\n",
    "    \n",
    "    def popleft(self):\n",
    "        if self.head is None:\n",
    "            raise Exception(\"LinkedList is Empty.\")\n",
    "        value = self.head.value\n",
    "        self.head = self.head.next\n",
    "        return value    \n",
    "                \n",
    "    def remove(self, index):\n",
    "        if index<0 or index>=self.size():\n",
    "            raise Exception(\"Index out of Bound.\")\n",
    "        if index==0:\n",
    "            self.head = self.head.next\n",
    "            return\n",
    "        itr = self.head\n",
    "        counter=0\n",
    "        while itr:\n",
    "            if counter == index-1:\n",
    "                itr.next = itr.next.next\n",
    "                break\n",
    "            itr = itr.next\n",
    "            counter+=1\n",
    "        \n",
    "    def rotate(self, count):\n",
    "        if count==0: return\n",
    "        if count<0:\n",
    "            for idx in range(abs(count)):\n",
    "                self.append(self.popleft())\n",
    "        else:\n",
    "            for idx in range(count):\n",
    "                self.appendleft(self.pop())\n",
    "            \n",
    "\n",
    "    def reverse(self):\n",
    "        pass\n",
    "        \n",
    "    def size(self):\n",
    "        counter = 0\n",
    "        itr = self.head\n",
    "        while itr:\n",
    "            itr = itr.next\n",
    "            counter+=1\n",
    "        return counter        \n",
    "        \n",
    "    def tolist(self):\n",
    "        l = []\n",
    "        itr = self.head\n",
    "        while itr:\n",
    "            l.append(itr.value)\n",
    "            itr = itr.next\n",
    "        return l        "
   ]
  },
  {
   "cell_type": "code",
   "execution_count": 265,
   "metadata": {},
   "outputs": [
    {
     "name": "stdout",
     "output_type": "stream",
     "text": [
      "LL       :  [[15, 16], 12, [13, 14]]\n",
      "Count 12 :  1\n",
      "Size     :  3\n",
      "After Clear\n",
      "LL       :  []\n",
      "After extend\n",
      "LL       :  [-30, -20, -10, 10, 20, 30]\n",
      "Idx of -20 : 1\n",
      "LL       :  [-30, 'New Value', -20, -10, 10, 20, 30]\n"
     ]
    }
   ],
   "source": [
    "ll = LinkedList()\n",
    "ll.append(12)\n",
    "ll.append([13,14])\n",
    "ll.appendleft([15,16])\n",
    "print(\"LL       : \",ll.tolist())\n",
    "print(\"Count 12 : \",ll.count(12))\n",
    "print(\"Size     : \",ll.size())\n",
    "\n",
    "ll.clear()\n",
    "print(\"After Clear\")\n",
    "print(\"LL       : \",ll.tolist())\n",
    "\n",
    "print('After extend')\n",
    "ll.extend([10,20,30])\n",
    "ll.extendleft([-10,-20,-30])\n",
    "print(\"LL       : \",ll.tolist())\n",
    "\n",
    "print(\"Idx of -20 :\", ll.index(-20))\n",
    "\n",
    "ll.insert(1,'New Value')\n",
    "print(\"LL       : \",ll.tolist())"
   ]
  },
  {
   "cell_type": "code",
   "execution_count": 266,
   "metadata": {},
   "outputs": [
    {
     "name": "stdout",
     "output_type": "stream",
     "text": [
      "LL       :  [1, 2]\n",
      "LL       :  [1]\n",
      "LL       :  []\n",
      "3 2 1\n"
     ]
    }
   ],
   "source": [
    "ll = LinkedList()\n",
    "ll.extend([1,2,3])\n",
    "v1 = ll.pop()\n",
    "print(\"LL       : \",ll.tolist())\n",
    "v2 = ll.pop()\n",
    "print(\"LL       : \",ll.tolist())\n",
    "v3 = ll.pop()\n",
    "print(\"LL       : \",ll.tolist())\n",
    "print(v1,v2,v3)"
   ]
  },
  {
   "cell_type": "code",
   "execution_count": 267,
   "metadata": {},
   "outputs": [
    {
     "name": "stdout",
     "output_type": "stream",
     "text": [
      "LL       :  [2, 3]\n",
      "LL       :  [3]\n",
      "LL       :  []\n",
      "1 2 3\n"
     ]
    }
   ],
   "source": [
    "ll = LinkedList()\n",
    "ll.extend([1,2,3])\n",
    "v1 = ll.popleft()\n",
    "print(\"LL       : \",ll.tolist())\n",
    "v2 = ll.popleft()\n",
    "print(\"LL       : \",ll.tolist())\n",
    "v3 = ll.popleft()\n",
    "print(\"LL       : \",ll.tolist())\n",
    "print(v1,v2,v3)"
   ]
  },
  {
   "cell_type": "code",
   "execution_count": 268,
   "metadata": {},
   "outputs": [
    {
     "name": "stdout",
     "output_type": "stream",
     "text": [
      "LL       :  [1, 2, 3, 4, 5, 6, 7, 8, 9]\n",
      "LL       :  [8, 9, 1, 2, 3, 4, 5, 6, 7]\n",
      "LL       :  [1, 2, 3, 4, 5, 6, 7, 8, 9]\n"
     ]
    }
   ],
   "source": [
    "ll = LinkedList()\n",
    "ll.extend([1,2,3,4,5,6,7,8,9])\n",
    "print(\"LL       : \",ll.tolist())\n",
    "ll.rotate(2)\n",
    "print(\"LL       : \",ll.tolist())\n",
    "ll.rotate(-2)\n",
    "print(\"LL       : \",ll.tolist())"
   ]
  },
  {
   "cell_type": "code",
   "execution_count": 269,
   "metadata": {},
   "outputs": [
    {
     "name": "stdout",
     "output_type": "stream",
     "text": [
      "deque([1, 2, 3, 4, 5, 6, 7, 8, 9])\n",
      "deque([8, 9, 1, 2, 3, 4, 5, 6, 7])\n",
      "deque([1, 2, 3, 4, 5, 6, 7, 8, 9])\n"
     ]
    }
   ],
   "source": [
    "d = deque()\n",
    "d.extend([1,2,3,4,5,6,7,8,9])\n",
    "print(d)\n",
    "d.rotate(2)\n",
    "print(d)\n",
    "d.rotate(-2)\n",
    "print(d)"
   ]
  },
  {
   "cell_type": "code",
   "execution_count": null,
   "metadata": {},
   "outputs": [],
   "source": []
  }
 ],
 "metadata": {
  "kernelspec": {
   "display_name": "Python 3.8.8 ('base')",
   "language": "python",
   "name": "python3"
  },
  "language_info": {
   "codemirror_mode": {
    "name": "ipython",
    "version": 3
   },
   "file_extension": ".py",
   "mimetype": "text/x-python",
   "name": "python",
   "nbconvert_exporter": "python",
   "pygments_lexer": "ipython3",
   "version": "3.8.8"
  },
  "orig_nbformat": 4,
  "vscode": {
   "interpreter": {
    "hash": "ad2bdc8ecc057115af97d19610ffacc2b4e99fae6737bb82f5d7fb13d2f2c186"
   }
  }
 },
 "nbformat": 4,
 "nbformat_minor": 2
}
