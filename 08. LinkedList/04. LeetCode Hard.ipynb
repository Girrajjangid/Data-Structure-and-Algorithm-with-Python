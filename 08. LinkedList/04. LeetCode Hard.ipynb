{
 "cells": [
  {
   "cell_type": "code",
   "execution_count": 1,
   "metadata": {},
   "outputs": [],
   "source": [
    "from typing import List, Tuple, Dict, Optional\n",
    "\n",
    "class ListNode:\n",
    "    def __init__(self, val=0, next=None):\n",
    "        self.val = val\n",
    "        self.next = next\n",
    "\n",
    "class Helper:    \n",
    "    def __init__(self):\n",
    "        self.head = None\n",
    "    def append(self, value):\n",
    "        if self.head is None:\n",
    "            self.head = ListNode(value, None)\n",
    "            return\n",
    "        itr = self.head\n",
    "        while itr.next:\n",
    "            itr = itr.next\n",
    "        itr.next = ListNode(value, None)\n",
    "        return self\n",
    "    def extend(self, values):\n",
    "        for val in values:\n",
    "            self.append(val)\n",
    "        return self\n",
    "    def tolist(self, new_head=None):\n",
    "        l = []\n",
    "        itr = new_head if new_head else self.head\n",
    "        while itr:\n",
    "            l.append(itr.val)\n",
    "            itr = itr.next\n",
    "        return l\n",
    "    "
   ]
  },
  {
   "cell_type": "markdown",
   "metadata": {},
   "source": [
    "#### 1. Merge k Sorted Lists"
   ]
  },
  {
   "cell_type": "code",
   "execution_count": 127,
   "metadata": {},
   "outputs": [],
   "source": [
    "# Definition for singly-linked list.\n",
    "# TLE Error thrown-\n",
    "\n",
    "class ListNode:\n",
    "    def __init__(self, val=0, next=None):\n",
    "        self.val = val\n",
    "        self.next = next\n",
    "\n",
    "class Solution:\n",
    "    def merge(self, list1, list2):\n",
    "        dummy = ListNode()\n",
    "        tail  = dummy       \n",
    "        while list1 and list2:\n",
    "            if list1.val<list2.val:\n",
    "                tail.next = list1\n",
    "                list1 = list1.next\n",
    "            else:\n",
    "                tail.next = list2\n",
    "                list2 = list2.next\n",
    "            tail = tail.next\n",
    "        if list1:\n",
    "            tail.next = list1\n",
    "        elif list2:\n",
    "            tail.next = list2\n",
    "        return dummy.next\n",
    "    \n",
    "    def get_sorted_len(self, list_of_nodes):\n",
    "        sorted_d = []\n",
    "        for idx, list in enumerate(list_of_nodes):\n",
    "            counter = 0\n",
    "            while list:\n",
    "                list = list.next\n",
    "                counter +=1\n",
    "            if counter:\n",
    "                sorted_d.append((idx, counter))\n",
    "        return sorted_d\n",
    "    \n",
    "    def mergeKLists(self, lists: List[Optional[ListNode]]) -> Optional[ListNode]:\n",
    "        from collections import deque\n",
    "        if not lists: return None\n",
    "        sorted_data = {idx:val for idx, val in enumerate(lists)}\n",
    "        sorted_len = self.get_sorted_len(lists)\n",
    "        sorted_len = deque(sorted(sorted_len, key = lambda x: x[1]))\n",
    "        total_length = len(sorted_len)\n",
    "        if not total_length: return None\n",
    "        while total_length >= 2:\n",
    "            idx_l1, idx_l2 = sorted_len.popleft(), sorted_len.popleft()\n",
    "            sorted_ll = self.merge(sorted_data[idx_l1[0]], sorted_data[idx_l2[0]])\n",
    "            sorted_data[idx_l1[0]] = []\n",
    "            sorted_data[idx_l2[0]] = sorted_ll\n",
    "            sorted_len.append((idx_l2[0], idx_l1[1]+idx_l2[1]))\n",
    "            sorted_len = deque(sorted(sorted_len, key = lambda x: x[1]))\n",
    "            total_length -=1            \n",
    "        \n",
    "        return sorted_data[sorted_len.popleft()[0]]\n",
    "        "
   ]
  },
  {
   "cell_type": "code",
   "execution_count": 129,
   "metadata": {},
   "outputs": [],
   "source": [
    "# Definition for singly-linked list.\n",
    "# Brute force approach\n",
    "\n",
    "class ListNode:\n",
    "    def __init__(self, val=0, next=None):\n",
    "        self.val = val\n",
    "        self.next = next\n",
    "\n",
    "class Solution:\n",
    "    \n",
    "    def mergeKLists(self, lists):\n",
    "        self.nodes = []\n",
    "        head = point = ListNode(0)\n",
    "        for l in lists:\n",
    "            while l:\n",
    "                self.nodes.append(l.val)\n",
    "                l = l.next\n",
    "        for x in sorted(self.nodes):\n",
    "            point.next = ListNode(x)\n",
    "            point = point.next\n",
    "        return head.next"
   ]
  },
  {
   "cell_type": "code",
   "execution_count": 130,
   "metadata": {},
   "outputs": [
    {
     "data": {
      "text/plain": [
       "[]"
      ]
     },
     "execution_count": 130,
     "metadata": {},
     "output_type": "execute_result"
    }
   ],
   "source": [
    "lists = [[1,2,3,5], [1,3,4,5], [1,2,3,9,19,45]]\n",
    "#lists = [[], [], [9,19,45]]\n",
    "#lists = []\n",
    "lists = [[]]\n",
    "l = [Helper().extend(i).head for i in lists]\n",
    "l2 = Solution().mergeKLists(l)\n",
    "#l2\n",
    "Helper().tolist(l2)"
   ]
  },
  {
   "cell_type": "markdown",
   "metadata": {},
   "source": [
    "#### 2. Reverse Nodes in k-Group"
   ]
  },
  {
   "cell_type": "code",
   "execution_count": 158,
   "metadata": {},
   "outputs": [],
   "source": [
    "class ListNode:\n",
    "    def __init__(self, val=0, next=None):\n",
    "        self.val = val\n",
    "        self.next = next\n",
    "        \n",
    "\n",
    "class Solution:\n",
    "    def getKth(self, curr, k):\n",
    "        while curr and k>0:\n",
    "            curr = curr.next\n",
    "            k -=1\n",
    "        return curr\n",
    "    \n",
    "    def reverseKGroup(self, head: Optional[ListNode], k: int) -> Optional[ListNode]:\n",
    "        dummy = ListNode(0, head)\n",
    "        groupPrev = dummy\n",
    "        while True:\n",
    "            kth = self.getKth(groupPrev,k)\n",
    "            if kth is None: break\n",
    "            groupNext = kth.next\n",
    "            \n",
    "            # reverse group\n",
    "            prev, curr = kth.next, groupPrev.next\n",
    "            while curr != groupNext:\n",
    "                temp = curr.next\n",
    "                curr.next = prev\n",
    "                prev = curr\n",
    "                curr = temp\n",
    "                \n",
    "            temp = groupPrev.next\n",
    "            groupPrev.next = kth\n",
    "            groupPrev = temp\n",
    "        \n",
    "        return dummy.next\n",
    "        \n"
   ]
  },
  {
   "cell_type": "code",
   "execution_count": 159,
   "metadata": {},
   "outputs": [
    {
     "data": {
      "text/plain": [
       "[1]"
      ]
     },
     "execution_count": 159,
     "metadata": {},
     "output_type": "execute_result"
    }
   ],
   "source": [
    "head = [1,2,3,4,5]; k = 3\n",
    "l = Helper().extend(head).head\n",
    "l2 = Solution().reverseKGroup(l, k)\n",
    "Helper().tolist(l2)"
   ]
  },
  {
   "cell_type": "code",
   "execution_count": null,
   "metadata": {},
   "outputs": [],
   "source": []
  }
 ],
 "metadata": {
  "kernelspec": {
   "display_name": "Python 3.8.8 ('base')",
   "language": "python",
   "name": "python3"
  },
  "language_info": {
   "codemirror_mode": {
    "name": "ipython",
    "version": 3
   },
   "file_extension": ".py",
   "mimetype": "text/x-python",
   "name": "python",
   "nbconvert_exporter": "python",
   "pygments_lexer": "ipython3",
   "version": "3.8.8"
  },
  "orig_nbformat": 4,
  "vscode": {
   "interpreter": {
    "hash": "ad2bdc8ecc057115af97d19610ffacc2b4e99fae6737bb82f5d7fb13d2f2c186"
   }
  }
 },
 "nbformat": 4,
 "nbformat_minor": 2
}
