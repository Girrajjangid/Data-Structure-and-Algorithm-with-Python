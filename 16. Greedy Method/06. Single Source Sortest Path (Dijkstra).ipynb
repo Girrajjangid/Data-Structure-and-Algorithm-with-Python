{
 "cells": [
  {
   "cell_type": "markdown",
   "metadata": {},
   "source": [
    "<img src=\"assests/2.png\">"
   ]
  },
  {
   "cell_type": "markdown",
   "metadata": {},
   "source": [
    "Given a graph and a source vertex in the graph, find the shortest paths from source to all vertices in the given graph."
   ]
  },
  {
   "cell_type": "markdown",
   "metadata": {},
   "source": [
    "Let source vertex would be 1 and we need to find sortest distance from 1 to all other vertexes\n",
    "\n",
    "Steps:\n",
    "\n",
    "While all vertexes not visited:\n",
    "1. Select the minimum distance Vertex\n",
    "2. Find the minimum distance of all other vertex from selected one."
   ]
  },
  {
   "cell_type": "code",
   "execution_count": 12,
   "metadata": {},
   "outputs": [],
   "source": [
    "class Graph:\n",
    " \n",
    "    def __init__(self):\n",
    "        self.V     = None\n",
    "        self.graph = None\n",
    " \n",
    "    def printSolution(self, dist):\n",
    "        print(\"Vertex \\t Distance from Source\")\n",
    "        for node in range(self.V):\n",
    "            print(node+1, \"\\t\\t\", dist[node])\n",
    " \n",
    " \n",
    "    def minDistance(self, dist, visited):\n",
    "        min = float('inf')\n",
    "        for v in range(self.V):\n",
    "            if dist[v] < min and visited[v] == False:\n",
    "                min = dist[v]\n",
    "                min_index = v\n",
    "        return min_index # Next vertex\n",
    "    \n",
    "\n",
    "    def dijkstra(self, graph, src):\n",
    "        self.graph = graph\n",
    "        self.V = len(graph)\n",
    "        dist = [float('inf')] * self.V\n",
    "        dist[src] = 0\n",
    "        visited = [False] * self.V\n",
    "        for idx in range(self.V):\n",
    "            u = self.minDistance(dist, visited)\n",
    "            visited[u] = True\n",
    "            for v in range(self.V):\n",
    "                # Relaxation\n",
    "                if (dist[u] + self.graph[u][v] < dist[v] and 0 < self.graph[u][v] and visited[v] == False):\n",
    "                    dist[v] = dist[u] + self.graph[u][v]\n",
    "\n",
    "        self.printSolution(dist)"
   ]
  },
  {
   "cell_type": "code",
   "execution_count": 13,
   "metadata": {},
   "outputs": [
    {
     "name": "stdout",
     "output_type": "stream",
     "text": [
      "Vertex \t Distance from Source\n",
      "1 \t\t 0\n",
      "2 \t\t 2\n",
      "3 \t\t 3\n",
      "4 \t\t 9\n",
      "5 \t\t 6\n",
      "6 \t\t 10\n"
     ]
    }
   ],
   "source": [
    "adj_mat = [[0,2,4,0,0,0],\n",
    "           [0,0,1,7,0,0],\n",
    "           [0,0,0,0,3,0],\n",
    "           [0,0,0,0,2,1],\n",
    "           [0,0,0,0,0,5],\n",
    "           [0,0,0,0,0,0]]\n",
    "source = 0\n",
    "\n",
    "Graph().dijkstra(adj_mat,source)"
   ]
  },
  {
   "cell_type": "code",
   "execution_count": 2,
   "metadata": {},
   "outputs": [],
   "source": [
    "class Solution:\n",
    "    def findTheCity(self, n, edges, maxd):\n",
    "        dis = [[float('inf')] * n for _ in range(n)]\n",
    "        for i, j, w in edges:\n",
    "            dis[i][j] = dis[j][i] = w\n",
    "        for i in range(n):\n",
    "            dis[i][i] = 0\n",
    "        for k in range(n):\n",
    "            for i in range(n):\n",
    "                for j in range(n):\n",
    "                    dis[i][j] = min(dis[i][j], dis[i][k] + dis[k][j])\n",
    "        res = {sum(d <= maxd for d in dis[i]): i for i in range(n)}\n",
    "        return res[min(res)]                                      "
   ]
  },
  {
   "cell_type": "code",
   "execution_count": 11,
   "metadata": {},
   "outputs": [
    {
     "name": "stdout",
     "output_type": "stream",
     "text": [
      "Vertex \t Distance from Source\n",
      "1 \t\t 0\n",
      "2 \t\t 4\n",
      "3 \t\t 12\n",
      "4 \t\t 19\n",
      "5 \t\t 21\n",
      "6 \t\t 11\n",
      "7 \t\t 9\n",
      "8 \t\t 8\n",
      "9 \t\t 14\n"
     ]
    }
   ],
   "source": [
    "adj_mat = [[0, 4, 0, 0, 0, 0, 0, 8, 0],\n",
    "           [4, 0, 8, 0, 0, 0, 0, 11, 0],\n",
    "           [0, 8, 0, 7, 0, 4, 0, 0, 2],\n",
    "           [0, 0, 7, 0, 9, 14, 0, 0, 0],\n",
    "           [0, 0, 0, 9, 0, 10, 0, 0, 0],\n",
    "           [0, 0, 4, 14, 10, 0, 2, 0, 0],\n",
    "           [0, 0, 0, 0, 0, 2, 0, 1, 6],\n",
    "           [8, 11, 0, 0, 0, 0, 1, 0, 7],\n",
    "           [0, 0, 2, 0, 0, 0, 6, 7, 0]\n",
    "           ]\n",
    "source = 0\n",
    "\n",
    "Graph().dijkstra(adj_mat,source)"
   ]
  },
  {
   "cell_type": "code",
   "execution_count": null,
   "metadata": {},
   "outputs": [],
   "source": []
  },
  {
   "cell_type": "code",
   "execution_count": null,
   "metadata": {},
   "outputs": [],
   "source": []
  },
  {
   "cell_type": "code",
   "execution_count": null,
   "metadata": {},
   "outputs": [],
   "source": []
  }
 ],
 "metadata": {
  "kernelspec": {
   "display_name": "base",
   "language": "python",
   "name": "python3"
  },
  "language_info": {
   "codemirror_mode": {
    "name": "ipython",
    "version": 3
   },
   "file_extension": ".py",
   "mimetype": "text/x-python",
   "name": "python",
   "nbconvert_exporter": "python",
   "pygments_lexer": "ipython3",
   "version": "3.9.13"
  },
  "orig_nbformat": 4,
  "vscode": {
   "interpreter": {
    "hash": "fecfa28de78ead09ec2989a580469213059448baba5e0b02aeeb7641afb84221"
   }
  }
 },
 "nbformat": 4,
 "nbformat_minor": 2
}
