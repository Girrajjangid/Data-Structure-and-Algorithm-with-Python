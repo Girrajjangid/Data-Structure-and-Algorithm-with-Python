{
 "cells": [
  {
   "cell_type": "code",
   "execution_count": 1,
   "metadata": {},
   "outputs": [],
   "source": [
    "# T: O(N*K*log(N*K))\n",
    "# S: O(N*K)\n",
    "\n",
    "class Merge:\n",
    "    \n",
    "    def kSorted(self, arr):\n",
    "        temp = []\n",
    "        for sub_arr in arr:\n",
    "            temp.extend(sub_arr)\n",
    "        return sorted(temp)        "
   ]
  },
  {
   "cell_type": "code",
   "execution_count": 2,
   "metadata": {},
   "outputs": [],
   "source": [
    "from bisect import bisect_left\n",
    "\n",
    "\n",
    "class Merge:\n",
    "    \n",
    "    def kSorted(self, arr):\n",
    "        t = [(len(a),i) for i,a in enumerate(arr)] # N*K\n",
    "        t.sort()                                   # K*logN\n",
    "        last_idx = len(arr)-1                      # K\n",
    "        length = len(t)                            # K\n",
    "        while length>1:\n",
    "            l1,idx1 = t.pop(0)\n",
    "            l2,idx2 = t.pop(0)\n",
    "            t1 = arr[idx1]\n",
    "            t1.extend(arr[idx2])\n",
    "            t1.sort()                              # K*logK \n",
    "            arr.append(t1)\n",
    "            last_idx +=1\n",
    "            idx = bisect_left(t,(l1+l2, last_idx))\n",
    "            t.insert(idx,(l1+l2, last_idx))       \n",
    "            length-=1\n",
    "        return arr[t[0][1]]"
   ]
  },
  {
   "cell_type": "code",
   "execution_count": 3,
   "metadata": {},
   "outputs": [
    {
     "data": {
      "text/plain": [
       "[1, 1, 2, 2, 2, 3, 3, 3, 4, 4, 4, 4, 5, 5, 5, 6, 6, 6, 7, 7, 8]"
      ]
     },
     "execution_count": 3,
     "metadata": {},
     "output_type": "execute_result"
    }
   ],
   "source": [
    "arr = [[1,2,3,4],[1,2,3,4,5,6],[4,5,6,7,8],[2,3,4,5,6,7]]\n",
    "Merge().kSorted(arr)"
   ]
  },
  {
   "cell_type": "code",
   "execution_count": null,
   "metadata": {},
   "outputs": [],
   "source": []
  },
  {
   "cell_type": "code",
   "execution_count": null,
   "metadata": {},
   "outputs": [],
   "source": []
  }
 ],
 "metadata": {
  "kernelspec": {
   "display_name": "Python 3.8.8 ('base')",
   "language": "python",
   "name": "python3"
  },
  "language_info": {
   "codemirror_mode": {
    "name": "ipython",
    "version": 3
   },
   "file_extension": ".py",
   "mimetype": "text/x-python",
   "name": "python",
   "nbconvert_exporter": "python",
   "pygments_lexer": "ipython3",
   "version": "3.8.8"
  },
  "orig_nbformat": 4,
  "vscode": {
   "interpreter": {
    "hash": "ad2bdc8ecc057115af97d19610ffacc2b4e99fae6737bb82f5d7fb13d2f2c186"
   }
  }
 },
 "nbformat": 4,
 "nbformat_minor": 2
}
