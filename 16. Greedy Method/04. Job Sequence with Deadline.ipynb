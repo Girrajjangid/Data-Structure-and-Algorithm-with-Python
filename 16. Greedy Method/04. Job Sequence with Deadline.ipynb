{
 "cells": [
  {
   "cell_type": "code",
   "execution_count": 32,
   "metadata": {},
   "outputs": [],
   "source": [
    "class JobSequence:\n",
    "    \n",
    "    def max_profit(self, jobs, profit, deadline, n_slots):\n",
    "        arr = list(zip(jobs,profit,deadline))\n",
    "        arr.sort(key=lambda x: -x[1])\n",
    "        seq = []\n",
    "        max_profit = 0\n",
    "        slots    = [False]*n_slots \n",
    "        solution = [None] *n_slots\n",
    "        for j,p,d in arr:\n",
    "            if d>n_slots:continue\n",
    "            for idx in range(d-1,-1,-1):\n",
    "                if slots[idx] is False:\n",
    "                    slots[idx]    = True\n",
    "                    solution[idx] = j\n",
    "                    max_profit   += p\n",
    "                    break\n",
    "        print(\"Job Sequence : \",solution)\n",
    "        print(\"Max Profit   : \",max_profit)"
   ]
  },
  {
   "cell_type": "code",
   "execution_count": 33,
   "metadata": {},
   "outputs": [
    {
     "name": "stdout",
     "output_type": "stream",
     "text": [
      "Job Sequence :  [5, 4, 1, None]\n",
      "Max Profit   :  70\n"
     ]
    }
   ],
   "source": [
    "jobs = [1,2,3,4,5,6,7]\n",
    "profit = [35,30,25,20,15,12,5]\n",
    "deadline = [3,5,5,2,3,1,2]\n",
    "n_slots = 4\n",
    "JobSequence().max_profit(jobs,profit,deadline,n_slots)"
   ]
  },
  {
   "cell_type": "code",
   "execution_count": null,
   "metadata": {},
   "outputs": [],
   "source": []
  }
 ],
 "metadata": {
  "kernelspec": {
   "display_name": "Python 3.8.8 ('base')",
   "language": "python",
   "name": "python3"
  },
  "language_info": {
   "codemirror_mode": {
    "name": "ipython",
    "version": 3
   },
   "file_extension": ".py",
   "mimetype": "text/x-python",
   "name": "python",
   "nbconvert_exporter": "python",
   "pygments_lexer": "ipython3",
   "version": "3.8.8"
  },
  "orig_nbformat": 4,
  "vscode": {
   "interpreter": {
    "hash": "ad2bdc8ecc057115af97d19610ffacc2b4e99fae6737bb82f5d7fb13d2f2c186"
   }
  }
 },
 "nbformat": 4,
 "nbformat_minor": 2
}
