{
 "cells": [
  {
   "cell_type": "code",
   "execution_count": 1,
   "metadata": {},
   "outputs": [],
   "source": [
    "from typing import List, Optional"
   ]
  },
  {
   "attachments": {},
   "cell_type": "markdown",
   "metadata": {},
   "source": [
    "#### 1. 214. Shortest Palindrome"
   ]
  },
  {
   "cell_type": "code",
   "execution_count": 80,
   "metadata": {},
   "outputs": [],
   "source": [
    "class Solution:\n",
    "    def shortestPalindrome(self, s):\n",
    "        r = s[::-1]\n",
    "        for i in range(len(s) + 1):\n",
    "            if s.startswith(r[i:]):\n",
    "                return r[:i] + s"
   ]
  },
  {
   "cell_type": "code",
   "execution_count": 81,
   "metadata": {},
   "outputs": [],
   "source": [
    "'''\n",
    "    Time Complexity: O(n)\n",
    "    Space Complexity: O(n)\n",
    "'''\n",
    "class Solution:\n",
    "    def shortestPalindrome(self, s: str) -> str:\n",
    "        prevLPS, i, n = 0, 1, len(s)\n",
    "        if n == 0: return s\n",
    "        s1, lps = s + '#' + s[::-1], [0] * (2 * n)\n",
    "        while i < 2 * n:\n",
    "            if s1[prevLPS] == s1[i]:\n",
    "                lps[i] = prevLPS + 1\n",
    "                prevLPS += 1\n",
    "                i += 1\n",
    "            elif prevLPS > 0:\n",
    "                prevLPS = lps[prevLPS - 1]\n",
    "            else:\n",
    "                i += 1\n",
    "        return s[-1:lps[(2 * n) - 1]:-1] + s"
   ]
  },
  {
   "cell_type": "code",
   "execution_count": 82,
   "metadata": {},
   "outputs": [
    {
     "data": {
      "text/plain": [
       "'babbab'"
      ]
     },
     "execution_count": 82,
     "metadata": {},
     "output_type": "execute_result"
    }
   ],
   "source": [
    "s1 = \"aacecaaa\"\n",
    "s1 = 'abb'\n",
    "s1 = 'abcd'\n",
    "s1 = \"abbab\"\n",
    "Solution().shortestPalindrome(s1)"
   ]
  },
  {
   "attachments": {},
   "cell_type": "markdown",
   "metadata": {},
   "source": [
    "#### 2. 459. Repeated Substring Pattern"
   ]
  },
  {
   "cell_type": "code",
   "execution_count": 91,
   "metadata": {},
   "outputs": [],
   "source": [
    "class Solution:\n",
    "    def repeatedSubstringPattern(self, str):\n",
    "        return str in (2 * str)[1:-1]"
   ]
  },
  {
   "cell_type": "code",
   "execution_count": 92,
   "metadata": {},
   "outputs": [
    {
     "data": {
      "text/plain": [
       "False"
      ]
     },
     "execution_count": 92,
     "metadata": {},
     "output_type": "execute_result"
    }
   ],
   "source": [
    "s = \"abcabcabcabc\"\n",
    "s = 'aba'\n",
    "Solution().repeatedSubstringPattern(s)"
   ]
  },
  {
   "attachments": {},
   "cell_type": "markdown",
   "metadata": {},
   "source": [
    "#### 3. Word Pattern"
   ]
  },
  {
   "cell_type": "code",
   "execution_count": 20,
   "metadata": {},
   "outputs": [],
   "source": [
    "class Solution:\n",
    "    def wordPattern(self, pattern: str, s: str) -> bool:\n",
    "        d1,d2={},{}\n",
    "        ans1,ans2=\"\",\"\"\n",
    "        counter=0\n",
    "        for c in pattern:\n",
    "            if d1.get(c, None) is None:\n",
    "                d1[c] = counter\n",
    "                counter+=1\n",
    "        counter=0\n",
    "        for word in s.split(' '):\n",
    "            if d2.get(word, None) is None:\n",
    "                d2[word] = counter\n",
    "                counter+=1\n",
    "        return \"\".join(str(d1[c]) for c in pattern) == \"\".join(str(d2[c]) for c in s.split(' ')) \n",
    "                 "
   ]
  },
  {
   "cell_type": "code",
   "execution_count": 21,
   "metadata": {},
   "outputs": [],
   "source": [
    "class Solution:\n",
    "    def wordPattern(self, pattern, str):\n",
    "        f = lambda s: map({}.setdefault, s, range(len(s)))\n",
    "        return f(pattern) == f(str.split())"
   ]
  },
  {
   "cell_type": "code",
   "execution_count": 22,
   "metadata": {},
   "outputs": [
    {
     "data": {
      "text/plain": [
       "False"
      ]
     },
     "execution_count": 22,
     "metadata": {},
     "output_type": "execute_result"
    }
   ],
   "source": [
    "pattern = \"abba\"; s = \"dog cat cat dog\"\n",
    "pattern = \"abba\"; s = \"dog cat cat fish\"\n",
    "pattern = \"aaaa\"; s = \"dog cat cat dog\"\n",
    "Solution().wordPattern(pattern, s)"
   ]
  },
  {
   "cell_type": "code",
   "execution_count": null,
   "metadata": {},
   "outputs": [],
   "source": []
  },
  {
   "cell_type": "code",
   "execution_count": null,
   "metadata": {},
   "outputs": [],
   "source": []
  },
  {
   "cell_type": "code",
   "execution_count": null,
   "metadata": {},
   "outputs": [],
   "source": []
  },
  {
   "cell_type": "code",
   "execution_count": null,
   "metadata": {},
   "outputs": [],
   "source": []
  },
  {
   "cell_type": "code",
   "execution_count": null,
   "metadata": {},
   "outputs": [],
   "source": []
  },
  {
   "cell_type": "code",
   "execution_count": null,
   "metadata": {},
   "outputs": [],
   "source": []
  }
 ],
 "metadata": {
  "kernelspec": {
   "display_name": "base",
   "language": "python",
   "name": "python3"
  },
  "language_info": {
   "codemirror_mode": {
    "name": "ipython",
    "version": 3
   },
   "file_extension": ".py",
   "mimetype": "text/x-python",
   "name": "python",
   "nbconvert_exporter": "python",
   "pygments_lexer": "ipython3",
   "version": "3.9.13"
  },
  "orig_nbformat": 4,
  "vscode": {
   "interpreter": {
    "hash": "fecfa28de78ead09ec2989a580469213059448baba5e0b02aeeb7641afb84221"
   }
  }
 },
 "nbformat": 4,
 "nbformat_minor": 2
}
