{
 "cells": [
  {
   "cell_type": "code",
   "execution_count": 1,
   "metadata": {},
   "outputs": [],
   "source": [
    "from typing import List, Optional"
   ]
  },
  {
   "attachments": {},
   "cell_type": "markdown",
   "metadata": {},
   "source": [
    "#### 1. 214. Shortest Palindrome"
   ]
  },
  {
   "cell_type": "code",
   "execution_count": 80,
   "metadata": {},
   "outputs": [],
   "source": [
    "class Solution:\n",
    "    def shortestPalindrome(self, s):\n",
    "        r = s[::-1]\n",
    "        for i in range(len(s) + 1):\n",
    "            if s.startswith(r[i:]):\n",
    "                return r[:i] + s"
   ]
  },
  {
   "cell_type": "code",
   "execution_count": 81,
   "metadata": {},
   "outputs": [],
   "source": [
    "'''\n",
    "    Time Complexity: O(n)\n",
    "    Space Complexity: O(n)\n",
    "'''\n",
    "class Solution:\n",
    "    def shortestPalindrome(self, s: str) -> str:\n",
    "        prevLPS, i, n = 0, 1, len(s)\n",
    "        if n == 0: return s\n",
    "        s1, lps = s + '#' + s[::-1], [0] * (2 * n)\n",
    "        while i < 2 * n:\n",
    "            if s1[prevLPS] == s1[i]:\n",
    "                lps[i] = prevLPS + 1\n",
    "                prevLPS += 1\n",
    "                i += 1\n",
    "            elif prevLPS > 0:\n",
    "                prevLPS = lps[prevLPS - 1]\n",
    "            else:\n",
    "                i += 1\n",
    "        return s[-1:lps[(2 * n) - 1]:-1] + s"
   ]
  },
  {
   "cell_type": "code",
   "execution_count": 82,
   "metadata": {},
   "outputs": [
    {
     "data": {
      "text/plain": [
       "'babbab'"
      ]
     },
     "execution_count": 82,
     "metadata": {},
     "output_type": "execute_result"
    }
   ],
   "source": [
    "s1 = \"aacecaaa\"\n",
    "s1 = 'abb'\n",
    "s1 = 'abcd'\n",
    "s1 = \"abbab\"\n",
    "Solution().shortestPalindrome(s1)"
   ]
  },
  {
   "attachments": {},
   "cell_type": "markdown",
   "metadata": {},
   "source": [
    "#### 2. 459. Repeated Substring Pattern"
   ]
  },
  {
   "cell_type": "code",
   "execution_count": 91,
   "metadata": {},
   "outputs": [],
   "source": [
    "class Solution:\n",
    "    def repeatedSubstringPattern(self, str):\n",
    "        return str in (2 * str)[1:-1]"
   ]
  },
  {
   "cell_type": "code",
   "execution_count": 92,
   "metadata": {},
   "outputs": [
    {
     "data": {
      "text/plain": [
       "False"
      ]
     },
     "execution_count": 92,
     "metadata": {},
     "output_type": "execute_result"
    }
   ],
   "source": [
    "s = \"abcabcabcabc\"\n",
    "s = 'aba'\n",
    "Solution().repeatedSubstringPattern(s)"
   ]
  },
  {
   "attachments": {},
   "cell_type": "markdown",
   "metadata": {},
   "source": [
    "#### 3. Word Pattern"
   ]
  },
  {
   "cell_type": "code",
   "execution_count": 20,
   "metadata": {},
   "outputs": [],
   "source": [
    "class Solution:\n",
    "    def wordPattern(self, pattern: str, s: str) -> bool:\n",
    "        d1,d2={},{}\n",
    "        ans1,ans2=\"\",\"\"\n",
    "        counter=0\n",
    "        for c in pattern:\n",
    "            if d1.get(c, None) is None:\n",
    "                d1[c] = counter\n",
    "                counter+=1\n",
    "        counter=0\n",
    "        for word in s.split(' '):\n",
    "            if d2.get(word, None) is None:\n",
    "                d2[word] = counter\n",
    "                counter+=1\n",
    "        return \"\".join(str(d1[c]) for c in pattern) == \"\".join(str(d2[c]) for c in s.split(' ')) \n",
    "                 "
   ]
  },
  {
   "cell_type": "code",
   "execution_count": 21,
   "metadata": {},
   "outputs": [],
   "source": [
    "class Solution:\n",
    "    def wordPattern(self, pattern, str):\n",
    "        f = lambda s: map({}.setdefault, s, range(len(s)))\n",
    "        return f(pattern) == f(str.split())"
   ]
  },
  {
   "cell_type": "code",
   "execution_count": 22,
   "metadata": {},
   "outputs": [
    {
     "data": {
      "text/plain": [
       "False"
      ]
     },
     "execution_count": 22,
     "metadata": {},
     "output_type": "execute_result"
    }
   ],
   "source": [
    "pattern = \"abba\"; s = \"dog cat cat dog\"\n",
    "pattern = \"abba\"; s = \"dog cat cat fish\"\n",
    "pattern = \"aaaa\"; s = \"dog cat cat dog\"\n",
    "Solution().wordPattern(pattern, s)"
   ]
  },
  {
   "attachments": {},
   "cell_type": "markdown",
   "metadata": {},
   "source": [
    "#### 4. [1833]. Maximum Ice Cream Bars [Not String matching problems. It is array problem]"
   ]
  },
  {
   "cell_type": "code",
   "execution_count": 2,
   "metadata": {},
   "outputs": [],
   "source": [
    "class Solution:\n",
    "    def maxIceCream(self, costs: List[int], coins: int) -> int:\n",
    "        costs.sort()\n",
    "        cnt=0\n",
    "        for val in costs:\n",
    "            if coins>=val:\n",
    "                coins-=val\n",
    "                cnt+=1\n",
    "            else: return cnt\n",
    "        return cnt"
   ]
  },
  {
   "cell_type": "code",
   "execution_count": 5,
   "metadata": {},
   "outputs": [
    {
     "data": {
      "text/plain": [
       "6"
      ]
     },
     "execution_count": 5,
     "metadata": {},
     "output_type": "execute_result"
    }
   ],
   "source": [
    "costs = [1,3,2,4,1]; coins = 7\n",
    "costs = [10,6,8,7,7,8]; coins = 5\n",
    "costs = [1,6,3,1,2,5]; coins = 20\n",
    "Solution().maxIceCream(costs, coins)"
   ]
  },
  {
   "attachments": {},
   "cell_type": "markdown",
   "metadata": {},
   "source": [
    "#### 5. [686]. Repeated String Match"
   ]
  },
  {
   "cell_type": "code",
   "execution_count": 55,
   "metadata": {},
   "outputs": [],
   "source": [
    "class Solution:\n",
    "    def repeatedStringMatch(self, a: str, b: str) -> int:\n",
    "        len_a, len_b = len(a), len(b)\n",
    "        temp_len_a = len_a\n",
    "        ptr = 1\n",
    "        temp_a = \"\"\n",
    "        while temp_len_a<=(len_b+len_a):\n",
    "            #print(temp_len_a, len_b+len_a, temp_a,b)\n",
    "            temp_len_a = len_a*ptr\n",
    "            temp_a = a * ptr\n",
    "            if b in temp_a: return ptr\n",
    "            ptr+=1\n",
    "        return -1"
   ]
  },
  {
   "cell_type": "code",
   "execution_count": 61,
   "metadata": {},
   "outputs": [
    {
     "name": "stdout",
     "output_type": "stream",
     "text": [
      "3 7  qewt\n",
      "3 7 adf qewt\n",
      "6 7 adfadf qewt\n"
     ]
    },
    {
     "data": {
      "text/plain": [
       "-1"
      ]
     },
     "execution_count": 61,
     "metadata": {},
     "output_type": "execute_result"
    }
   ],
   "source": [
    "a = \"abcd\"; b = \"cdabcdab\"\n",
    "#a = 'a';b='aa'\n",
    "#a = 'bcd'; b='bcdbcd'\n",
    "#a = 'a'; b = 'a'\n",
    "#a = \"abc\"; b = \"cabcabca\"\n",
    "a = 'adf';b='qewt'\n",
    "Solution().repeatedStringMatch(a,b)"
   ]
  },
  {
   "attachments": {},
   "cell_type": "markdown",
   "metadata": {},
   "source": [
    "#### 6. [1408]. String Matching in an Array"
   ]
  },
  {
   "cell_type": "code",
   "execution_count": 75,
   "metadata": {},
   "outputs": [],
   "source": [
    "class Solution:\n",
    "    def stringMatching(self, words: List[str]) -> List[str]:\n",
    "        words.sort(key=len)\n",
    "        ans = []\n",
    "        length = len(words)\n",
    "        for i in range(length):\n",
    "            for idx in range(i+1,length):\n",
    "                if words[i] in words[idx] or words[idx] in words[i]:\n",
    "                    ans.append(words[i])\n",
    "                    break\n",
    "        return ans"
   ]
  },
  {
   "cell_type": "code",
   "execution_count": 80,
   "metadata": {},
   "outputs": [
    {
     "data": {
      "text/plain": [
       "['od', 'am', 'leetcode']"
      ]
     },
     "execution_count": 80,
     "metadata": {},
     "output_type": "execute_result"
    }
   ],
   "source": [
    "words = [\"mass\",\"as\",\"hero\",\"superhero\"]\n",
    "words = [\"leetcode\",\"et\",\"code\"]\n",
    "words = [\"blue\",\"green\",\"bu\"]\n",
    "words = [\"leetcoder\",\"leetcode\",\"od\",\"hamlet\",\"am\"]\n",
    "Solution().stringMatching(words)"
   ]
  },
  {
   "attachments": {},
   "cell_type": "markdown",
   "metadata": {},
   "source": [
    "#### 7. [134]. Gas Station"
   ]
  },
  {
   "cell_type": "code",
   "execution_count": 98,
   "metadata": {},
   "outputs": [],
   "source": [
    "# Give TLE Eror:\n",
    "# Note: You just follow give problem statement. In general it will not give you any hint to code\n",
    "# smartly. So always try to come up with another approach\n",
    "class Solution:\n",
    "    def canCompleteCircuit(self, gas: List[int], cost: List[int]) -> int:\n",
    "        length = len(gas)\n",
    "        for start_station in range(length):\n",
    "            if gas[start_station] >= cost[start_station]:\n",
    "                tank = gas[start_station] - cost[start_station]\n",
    "                for next_station in range(start_station+1, length+start_station+1):\n",
    "                    tank = tank + gas[next_station%length] - cost[next_station%length]\n",
    "                    if tank<0: break\n",
    "                    if next_station%length == start_station: return start_station\n",
    "        return -1"
   ]
  },
  {
   "cell_type": "code",
   "execution_count": 99,
   "metadata": {},
   "outputs": [],
   "source": [
    "class Solution:\n",
    "    def canCompleteCircuit(self, gas: List[int], cost: List[int]) -> int:\n",
    "        if (sum(gas) - sum(cost)) < 0: return -1\n",
    "        start_index, tank = 0,0\n",
    "        for i in range(len(gas)):\n",
    "            tank += gas[i] - cost[i]\n",
    "            if tank<0:\n",
    "                start_index = i+1\n",
    "                tank = 0\n",
    "        return start_index "
   ]
  },
  {
   "cell_type": "code",
   "execution_count": 102,
   "metadata": {},
   "outputs": [
    {
     "data": {
      "text/plain": [
       "3"
      ]
     },
     "execution_count": 102,
     "metadata": {},
     "output_type": "execute_result"
    }
   ],
   "source": [
    "gas = [1,2,3,4,5]; cost = [3,4,5,1,2]\n",
    "#gas = [2,3,4]; cost = [3,4,3]\n",
    "#gas = [2]; cost = [2]\n",
    "\n",
    "Solution().canCompleteCircuit(gas, cost)"
   ]
  },
  {
   "attachments": {},
   "cell_type": "markdown",
   "metadata": {},
   "source": [
    "#### 8."
   ]
  },
  {
   "cell_type": "code",
   "execution_count": 106,
   "metadata": {},
   "outputs": [],
   "source": [
    "# Definition for a binary tree node.\n",
    "class TreeNode:\n",
    "    def __init__(self, val=0, left=None, right=None):\n",
    "        self.val = val\n",
    "        self.left = left\n",
    "        self.right = right\n",
    "\n",
    "class Solution:\n",
    "    def isSubtree(self, root: Optional[TreeNode], subRoot: Optional[TreeNode]) -> bool:\n",
    "\n",
    "        def dfs(node):\n",
    "            if node is None: return False\n",
    "            elif is_identical(node, subRoot): return True\n",
    "            return dfs(node.left) or dfs(node.right)\n",
    "\n",
    "        def is_identical(node1, node2):\n",
    "            if node1 is None or node2 is None: return node1 is None and node2 is None\n",
    "            return (node1.val == node2.val and\n",
    "                    is_identical(node1.left, node2.left) and\n",
    "                    is_identical(node1.right, node2.right))\n",
    "\n",
    "        return dfs(root)"
   ]
  },
  {
   "cell_type": "code",
   "execution_count": null,
   "metadata": {},
   "outputs": [],
   "source": []
  },
  {
   "attachments": {},
   "cell_type": "markdown",
   "metadata": {},
   "source": [
    "#### 9. 2301. Match Substring After Replacement"
   ]
  },
  {
   "cell_type": "code",
   "execution_count": 114,
   "metadata": {},
   "outputs": [],
   "source": [
    "from collections import defaultdict\n",
    "class Solution:\n",
    "    def matchReplacement(self, s: str, sub: str, mappings: List[List[str]]) -> bool:\n",
    "        # Key as new, Value as Old mapping\n",
    "        maps = defaultdict(list)\n",
    "        for old,new in mappings:\n",
    "            maps[new].append(old)\n",
    "            \n",
    "        len_s, len_sub = len(s), len(sub)\n",
    "        \n",
    "        # We will check for all substring whether it is similar or not\n",
    "        for i in range(len_s-len_sub+1):\n",
    "            temp = s[i:i+len_sub] # Temperary string\n",
    "            did_complete = True   # Indicator whether we found match or not\n",
    "            for j in range(len_sub):\n",
    "                if temp[j] != sub[j]:\n",
    "                    if maps.get(temp[j],None) is None: \n",
    "                        did_complete = False\n",
    "                        break\n",
    "                    elif sub[j] not in maps[temp[j]]: \n",
    "                        did_complete = False\n",
    "                        break\n",
    "            if did_complete: return True \n",
    "        return False                    "
   ]
  },
  {
   "cell_type": "code",
   "execution_count": 117,
   "metadata": {},
   "outputs": [
    {
     "data": {
      "text/plain": [
       "True"
      ]
     },
     "execution_count": 117,
     "metadata": {},
     "output_type": "execute_result"
    }
   ],
   "source": [
    "s = \"Fool33tbaR\"; sub = \"leetd\"; mappings = [[\"e\",\"3\"],[\"t\",\"7\"],[\"t\",\"8\"],[\"d\",\"b\"],[\"p\",\"b\"]]\n",
    "s = \"fooleetbar\"; sub = \"f00l\"; mappings = [[\"o\",\"0\"]]\n",
    "s = \"fool3e7bar\"; sub = \"leet\"; mappings = [[\"e\",\"3\"],[\"t\",\"7\"],[\"t\",\"8\"]]\n",
    "Solution().matchReplacement(s, sub, mappings)"
   ]
  },
  {
   "attachments": {},
   "cell_type": "markdown",
   "metadata": {},
   "source": [
    "#### 10."
   ]
  },
  {
   "cell_type": "code",
   "execution_count": null,
   "metadata": {},
   "outputs": [],
   "source": []
  },
  {
   "cell_type": "code",
   "execution_count": null,
   "metadata": {},
   "outputs": [],
   "source": []
  },
  {
   "attachments": {},
   "cell_type": "markdown",
   "metadata": {},
   "source": [
    "#### 11."
   ]
  },
  {
   "cell_type": "code",
   "execution_count": null,
   "metadata": {},
   "outputs": [],
   "source": []
  },
  {
   "cell_type": "code",
   "execution_count": null,
   "metadata": {},
   "outputs": [],
   "source": []
  },
  {
   "attachments": {},
   "cell_type": "markdown",
   "metadata": {},
   "source": [
    "#### 12. "
   ]
  },
  {
   "cell_type": "code",
   "execution_count": null,
   "metadata": {},
   "outputs": [],
   "source": []
  },
  {
   "cell_type": "code",
   "execution_count": null,
   "metadata": {},
   "outputs": [],
   "source": []
  },
  {
   "attachments": {},
   "cell_type": "markdown",
   "metadata": {},
   "source": [
    "#### 13."
   ]
  },
  {
   "cell_type": "code",
   "execution_count": null,
   "metadata": {},
   "outputs": [],
   "source": []
  },
  {
   "cell_type": "code",
   "execution_count": null,
   "metadata": {},
   "outputs": [],
   "source": []
  },
  {
   "attachments": {},
   "cell_type": "markdown",
   "metadata": {},
   "source": [
    "#### 14."
   ]
  },
  {
   "cell_type": "code",
   "execution_count": null,
   "metadata": {},
   "outputs": [],
   "source": []
  },
  {
   "cell_type": "code",
   "execution_count": null,
   "metadata": {},
   "outputs": [],
   "source": []
  },
  {
   "attachments": {},
   "cell_type": "markdown",
   "metadata": {},
   "source": [
    "#### 15."
   ]
  },
  {
   "cell_type": "code",
   "execution_count": null,
   "metadata": {},
   "outputs": [],
   "source": []
  },
  {
   "cell_type": "code",
   "execution_count": null,
   "metadata": {},
   "outputs": [],
   "source": []
  },
  {
   "attachments": {},
   "cell_type": "markdown",
   "metadata": {},
   "source": [
    "#### 16."
   ]
  },
  {
   "cell_type": "code",
   "execution_count": null,
   "metadata": {},
   "outputs": [],
   "source": []
  },
  {
   "cell_type": "code",
   "execution_count": null,
   "metadata": {},
   "outputs": [],
   "source": []
  },
  {
   "attachments": {},
   "cell_type": "markdown",
   "metadata": {},
   "source": [
    "#### 17."
   ]
  },
  {
   "cell_type": "code",
   "execution_count": null,
   "metadata": {},
   "outputs": [],
   "source": []
  },
  {
   "cell_type": "code",
   "execution_count": null,
   "metadata": {},
   "outputs": [],
   "source": []
  },
  {
   "attachments": {},
   "cell_type": "markdown",
   "metadata": {},
   "source": [
    "#### 18."
   ]
  },
  {
   "cell_type": "code",
   "execution_count": null,
   "metadata": {},
   "outputs": [],
   "source": []
  },
  {
   "cell_type": "code",
   "execution_count": null,
   "metadata": {},
   "outputs": [],
   "source": []
  },
  {
   "attachments": {},
   "cell_type": "markdown",
   "metadata": {},
   "source": [
    "#### 19."
   ]
  },
  {
   "cell_type": "code",
   "execution_count": null,
   "metadata": {},
   "outputs": [],
   "source": []
  },
  {
   "cell_type": "code",
   "execution_count": null,
   "metadata": {},
   "outputs": [],
   "source": []
  },
  {
   "cell_type": "code",
   "execution_count": null,
   "metadata": {},
   "outputs": [],
   "source": []
  },
  {
   "cell_type": "code",
   "execution_count": null,
   "metadata": {},
   "outputs": [],
   "source": []
  },
  {
   "cell_type": "code",
   "execution_count": null,
   "metadata": {},
   "outputs": [],
   "source": []
  },
  {
   "cell_type": "code",
   "execution_count": null,
   "metadata": {},
   "outputs": [],
   "source": []
  },
  {
   "cell_type": "code",
   "execution_count": null,
   "metadata": {},
   "outputs": [],
   "source": []
  },
  {
   "cell_type": "code",
   "execution_count": null,
   "metadata": {},
   "outputs": [],
   "source": []
  }
 ],
 "metadata": {
  "kernelspec": {
   "display_name": "base",
   "language": "python",
   "name": "python3"
  },
  "language_info": {
   "codemirror_mode": {
    "name": "ipython",
    "version": 3
   },
   "file_extension": ".py",
   "mimetype": "text/x-python",
   "name": "python",
   "nbconvert_exporter": "python",
   "pygments_lexer": "ipython3",
   "version": "3.9.13"
  },
  "orig_nbformat": 4,
  "vscode": {
   "interpreter": {
    "hash": "fecfa28de78ead09ec2989a580469213059448baba5e0b02aeeb7641afb84221"
   }
  }
 },
 "nbformat": 4,
 "nbformat_minor": 2
}
