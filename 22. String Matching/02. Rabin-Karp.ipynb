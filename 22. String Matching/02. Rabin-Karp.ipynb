{
 "cells": [
  {
   "cell_type": "code",
   "execution_count": 21,
   "metadata": {},
   "outputs": [],
   "source": [
    "# d is the number of characters in the input alphabet\n",
    "d = 256\n",
    "def search(pat, txt, q):\n",
    "\tM = len(pat)\n",
    "\tN = len(txt)\n",
    "\ti = 0\n",
    "\tj = 0\n",
    "\tp = 0 # hash value for pattern\n",
    "\tt = 0 # hash value for txt\n",
    "\th = 1\n",
    "\n",
    "\t# The value of h would be \"pow(d, M-1)% q\"\n",
    "\tfor i in range(M-1):\n",
    "\t\th = (h * d)% q\n",
    "\n",
    "\t# Calculate the hash value of pattern and first window\n",
    "\t# of text\n",
    "\tfor i in range(M):\n",
    "\t\tp = (d * p + ord(pat[i]))% q\n",
    "\t\tt = (d * t + ord(txt[i]))% q\n",
    "\n",
    "\t# Slide the pattern over text one by one\n",
    "\tfor i in range(N-M + 1):\n",
    "\t\t# Check the hash values of current window of text and\n",
    "\t\t# pattern if the hash values match then only check\n",
    "\t\t# for characters on by one\n",
    "\t\tif p == t:\n",
    "\t\t\t# Check for characters one by one\n",
    "\t\t\tfor j in range(M):\n",
    "\t\t\t\tif txt[i + j] != pat[j]:\n",
    "\t\t\t\t\tbreak\n",
    "\t\t\tj+= 1\n",
    "\t\t\t# if p == t and pat[0...M-1] = txt[i, i + 1, ...i + M-1]\n",
    "\t\t\tif j == M:\n",
    "\t\t\t\tprint(\"Pattern found at index \" + str(i))\n",
    "\n",
    "\t\t# Calculate hash value for next window of text: Remove\n",
    "\t\t# leading digit, add trailing digit\n",
    "\t\tif i < N-M:\n",
    "\t\t\tt = (d*(t-ord(txt[i])*h) + ord(txt[i + M]))% q\n",
    "\n",
    "\t\t\t# We might get negative values of t, converting it to\n",
    "\t\t\t# positive\n",
    "\t\t\tif t < 0:\n",
    "\t\t\t\tt = t + q"
   ]
  },
  {
   "cell_type": "code",
   "execution_count": 22,
   "metadata": {},
   "outputs": [
    {
     "name": "stdout",
     "output_type": "stream",
     "text": [
      "Pattern found at index 0\n",
      "Pattern found at index 10\n"
     ]
    }
   ],
   "source": [
    "# Driver program to test the above function\n",
    "txt = \"GEEKS FOR GEEKS\"\n",
    "pat = \"GEEK\"\n",
    "q = 101 # A prime number\n",
    "search(pat, txt, q)"
   ]
  },
  {
   "cell_type": "code",
   "execution_count": null,
   "metadata": {},
   "outputs": [],
   "source": []
  }
 ],
 "metadata": {
  "kernelspec": {
   "display_name": "base",
   "language": "python",
   "name": "python3"
  },
  "language_info": {
   "codemirror_mode": {
    "name": "ipython",
    "version": 3
   },
   "file_extension": ".py",
   "mimetype": "text/x-python",
   "name": "python",
   "nbconvert_exporter": "python",
   "pygments_lexer": "ipython3",
   "version": "3.9.13 (main, Aug 25 2022, 23:51:50) [MSC v.1916 64 bit (AMD64)]"
  },
  "orig_nbformat": 4,
  "vscode": {
   "interpreter": {
    "hash": "fecfa28de78ead09ec2989a580469213059448baba5e0b02aeeb7641afb84221"
   }
  }
 },
 "nbformat": 4,
 "nbformat_minor": 2
}
