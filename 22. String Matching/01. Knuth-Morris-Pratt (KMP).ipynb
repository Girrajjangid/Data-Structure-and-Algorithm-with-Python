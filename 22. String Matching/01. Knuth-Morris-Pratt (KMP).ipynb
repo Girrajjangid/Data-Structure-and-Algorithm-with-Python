{
 "cells": [
  {
   "cell_type": "code",
   "execution_count": 58,
   "metadata": {},
   "outputs": [],
   "source": [
    "class KMP:\n",
    "\n",
    "    def getLPS(self): # Return the longest prefix suffix\n",
    "        lps = [0] * self.len_pat\n",
    "        prevLPS, i = 0,1\n",
    "        while i < self.len_pat:\n",
    "            if self.pattern[prevLPS] == self.pattern[i]:\n",
    "                lps[i] = prevLPS + 1\n",
    "                prevLPS += 1\n",
    "                i += 1\n",
    "            elif prevLPS == 0:\n",
    "                lps[i] = 0\n",
    "                i += 1\n",
    "            else:\n",
    "                prevLPS = lps[prevLPS-1]\n",
    "        return lps\n",
    "\n",
    "\n",
    "    def search(self, text, pattern):\n",
    "        self.text     = text\n",
    "        self.pattern  = pattern\n",
    "        self.len_txt = len(text)\n",
    "        self.len_pat = len(pattern)\n",
    "\n",
    "        lps = self.getLPS()\n",
    "        initial_point = []\n",
    "\n",
    "        ptr_txt, ptr_pat = 0,0 # Pointers to text and pattern respectively.\n",
    "        while ptr_txt < self.len_txt:\n",
    "            if self.text[ptr_txt] == self.pattern[ptr_pat]:\n",
    "                ptr_txt, ptr_pat = ptr_txt+1, ptr_pat+1\n",
    "            elif ptr_pat == 0:\n",
    "                ptr_txt += 1\n",
    "            else:\n",
    "                ptr_pat = lps[ptr_pat-1]\n",
    "            \n",
    "            if ptr_pat == self.len_pat:\n",
    "                initial_point.append(ptr_txt - ptr_pat)\n",
    "                ptr_pat = lps[ptr_pat-1]\n",
    "            elif ptr_pat == 0:\n",
    "                ptr_txt += 1\n",
    "                \n",
    "        return lps, initial_point"
   ]
  },
  {
   "cell_type": "code",
   "execution_count": 59,
   "metadata": {},
   "outputs": [
    {
     "data": {
      "text/plain": [
       "([0, 0, 1, 2, 0, 1, 2], [2])"
      ]
     },
     "execution_count": 59,
     "metadata": {},
     "output_type": "execute_result"
    }
   ],
   "source": [
    "string = \"ABABDABACDABABCABABCABAB\"\n",
    "pat = \"ABABCABAB\"\n",
    "\n",
    "string = \"CDABABCAB\"\n",
    "pat = \"ABABCAB\"\n",
    "\n",
    "KMP().search(string, pat)"
   ]
  },
  {
   "cell_type": "code",
   "execution_count": null,
   "metadata": {},
   "outputs": [],
   "source": []
  },
  {
   "cell_type": "code",
   "execution_count": null,
   "metadata": {},
   "outputs": [],
   "source": []
  }
 ],
 "metadata": {
  "kernelspec": {
   "display_name": "base",
   "language": "python",
   "name": "python3"
  },
  "language_info": {
   "codemirror_mode": {
    "name": "ipython",
    "version": 3
   },
   "file_extension": ".py",
   "mimetype": "text/x-python",
   "name": "python",
   "nbconvert_exporter": "python",
   "pygments_lexer": "ipython3",
   "version": "3.9.13"
  },
  "orig_nbformat": 4,
  "vscode": {
   "interpreter": {
    "hash": "fecfa28de78ead09ec2989a580469213059448baba5e0b02aeeb7641afb84221"
   }
  }
 },
 "nbformat": 4,
 "nbformat_minor": 2
}
