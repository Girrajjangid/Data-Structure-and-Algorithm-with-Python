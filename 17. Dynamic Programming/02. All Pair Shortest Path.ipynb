{
 "cells": [
  {
   "cell_type": "markdown",
   "metadata": {},
   "source": [
    "#### Task is to find the sortest path between all pairs."
   ]
  },
  {
   "cell_type": "markdown",
   "metadata": {},
   "source": [
    "<img src=\"assets/2.png\">"
   ]
  },
  {
   "cell_type": "code",
   "execution_count": 1,
   "metadata": {},
   "outputs": [],
   "source": [
    "class Graph:\n",
    "    def shortestPath(self, adj_mat):\n",
    "        V = len(adj_mat)\n",
    "        for i in range(V):\n",
    "            for j in range(V): # To build matrix\n",
    "                for k in range(V):\n",
    "                    adj_mat[j][k] = min(adj_mat[j][k], adj_mat[j][i] + adj_mat[i][k])\n",
    "        return adj_mat"
   ]
  },
  {
   "cell_type": "code",
   "execution_count": 2,
   "metadata": {},
   "outputs": [
    {
     "data": {
      "text/plain": [
       "[[0, 3, 5, 6], [5, 0, 2, 3], [3, 6, 0, 1], [2, 5, 7, 0]]"
      ]
     },
     "execution_count": 2,
     "metadata": {},
     "output_type": "execute_result"
    }
   ],
   "source": [
    "inf     = float('inf')\n",
    "adj_mat = [[0,  3,inf,  7],\n",
    "           [8,  0,  2,inf],\n",
    "           [5,inf,  0,  1],\n",
    "           [2,inf,inf,  0]]\n",
    "Graph().shortestPath(adj_mat)"
   ]
  },
  {
   "cell_type": "code",
   "execution_count": 3,
   "metadata": {},
   "outputs": [],
   "source": [
    "# Sortest path-->\n",
    "# 0 -> 0 = 0\n",
    "# 0 -> 1 = 3\n",
    "# 0 -> 2 = 5\n",
    "# 0 -> 3 = 6 "
   ]
  },
  {
   "cell_type": "code",
   "execution_count": null,
   "metadata": {},
   "outputs": [],
   "source": []
  }
 ],
 "metadata": {
  "kernelspec": {
   "display_name": "Python 3.8.8 ('base')",
   "language": "python",
   "name": "python3"
  },
  "language_info": {
   "codemirror_mode": {
    "name": "ipython",
    "version": 3
   },
   "file_extension": ".py",
   "mimetype": "text/x-python",
   "name": "python",
   "nbconvert_exporter": "python",
   "pygments_lexer": "ipython3",
   "version": "3.8.8"
  },
  "orig_nbformat": 4,
  "vscode": {
   "interpreter": {
    "hash": "ad2bdc8ecc057115af97d19610ffacc2b4e99fae6737bb82f5d7fb13d2f2c186"
   }
  }
 },
 "nbformat": 4,
 "nbformat_minor": 2
}
