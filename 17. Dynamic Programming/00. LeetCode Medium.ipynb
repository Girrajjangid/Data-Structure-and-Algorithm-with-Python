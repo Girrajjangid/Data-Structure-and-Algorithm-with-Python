{
 "cells": [
  {
   "cell_type": "markdown",
   "metadata": {},
   "source": [
    "#### 1. Maximum Length of a Concatenated String with Unique Characters"
   ]
  },
  {
   "cell_type": "code",
   "execution_count": 4,
   "metadata": {},
   "outputs": [],
   "source": [
    "class Solution:\n",
    "    def maxLength(self, A):\n",
    "        dp = [set()]\n",
    "        for a in A:\n",
    "            if len(set(a)) < len(a): continue\n",
    "            a = set(a)\n",
    "            for c in dp[:]:\n",
    "                if a & c: continue\n",
    "                dp.append(a | c)\n",
    "        return max(len(a) for a in dp)"
   ]
  },
  {
   "cell_type": "code",
   "execution_count": 5,
   "metadata": {},
   "outputs": [
    {
     "data": {
      "text/plain": [
       "4"
      ]
     },
     "execution_count": 5,
     "metadata": {},
     "output_type": "execute_result"
    }
   ],
   "source": [
    "arr = [\"un\",\"iq\",\"ue\"]\n",
    "Solution().maxLength(arr)"
   ]
  },
  {
   "cell_type": "markdown",
   "metadata": {},
   "source": [
    "#### 2. Longest common subsequence"
   ]
  },
  {
   "cell_type": "code",
   "execution_count": 1,
   "metadata": {},
   "outputs": [],
   "source": [
    "class Solution:\n",
    "    def longestCommonSubsequence(self, text1: str, text2: str) -> int:\n",
    "        dp = [[0 for i in range(len(text2)+1)] for j in range(len(text1)+1)]\n",
    "        \n",
    "        for i in range(1,len(text1)+1):\n",
    "            for j in range(1,len(text2)+1):\n",
    "                if text1[i-1]==text2[j-1]:\n",
    "                    dp[i][j]=dp[i-1][j-1]+1\n",
    "                else:\n",
    "                    dp[i][j]=max(dp[i-1][j],dp[i][j-1])\n",
    "                    \n",
    "        return dp[-1][-1]\n"
   ]
  },
  {
   "cell_type": "code",
   "execution_count": 2,
   "metadata": {},
   "outputs": [
    {
     "data": {
      "text/plain": [
       "3"
      ]
     },
     "execution_count": 2,
     "metadata": {},
     "output_type": "execute_result"
    }
   ],
   "source": [
    "Solution().longestCommonSubsequence(\"abcde\", \"ace\")"
   ]
  },
  {
   "cell_type": "code",
   "execution_count": null,
   "metadata": {},
   "outputs": [],
   "source": []
  },
  {
   "cell_type": "markdown",
   "metadata": {},
   "source": [
    "#### 3. Longest Substring Without Repeating Characters"
   ]
  },
  {
   "cell_type": "code",
   "execution_count": 23,
   "metadata": {},
   "outputs": [],
   "source": [
    "class Solution:\n",
    "    def lengthOfLongestSubstring(self, s: str) -> int:\n",
    "        sets = set()\n",
    "        deleted= 0\n",
    "        max_counter = 0\n",
    "        for idx,val in enumerate(s):\n",
    "            while val in sets:\n",
    "                sets.remove(s[deleted])\n",
    "                deleted+=1\n",
    "            sets.add(val)\n",
    "            max_counter = max(max_counter, idx+1-deleted)\n",
    "        return max_counter"
   ]
  },
  {
   "cell_type": "code",
   "execution_count": 24,
   "metadata": {},
   "outputs": [
    {
     "data": {
      "text/plain": [
       "3"
      ]
     },
     "execution_count": 24,
     "metadata": {},
     "output_type": "execute_result"
    }
   ],
   "source": [
    "s = \"abcabcbb\"\n",
    "s = \"bbbbb\"\n",
    "s = \"pwwkew\"\n",
    "s = \"dvdf\"\n",
    "Solution().lengthOfLongestSubstring(s)"
   ]
  },
  {
   "cell_type": "code",
   "execution_count": null,
   "metadata": {},
   "outputs": [],
   "source": []
  },
  {
   "cell_type": "markdown",
   "metadata": {},
   "source": [
    "#### 4. [1044.] Longest Duplicate Substring"
   ]
  },
  {
   "cell_type": "code",
   "execution_count": 96,
   "metadata": {},
   "outputs": [],
   "source": [
    "class Solution:\n",
    "    def longestDupSubstring(self, s: str) -> str:\n",
    "        length = len(s)\n",
    "        l,r = 0, length-1        \n",
    "        result = \"\"\n",
    "        while l<r:\n",
    "            mid = (l+r)//2\n",
    "            d = {}\n",
    "            max_string = \"\"\n",
    "            for i in range(length-mid):\n",
    "                    if d.get(s[i:i+mid+1],0):\n",
    "                        max_string = s[i:i+mid+1]\n",
    "                        break\n",
    "                    d[s[i:i+mid+1]] = 1\n",
    "            if max_string:\n",
    "                l = mid+1\n",
    "                result = max_string\n",
    "            else:\n",
    "                r = mid\n",
    "        return result"
   ]
  },
  {
   "cell_type": "code",
   "execution_count": null,
   "metadata": {},
   "outputs": [],
   "source": [
    "class Solution:\n",
    "\tdef longestDupSubstring(self, s: str) -> str:\n",
    "\n",
    "\t\tdef checkDuplicate(window):\n",
    "\t\t\tvisit = set()\n",
    "\t\t\tfor i in range(0, len(s) - window):\n",
    "\t\t\t\tsubstring = s[i : i + window + 1]\n",
    "\t\t\t\tif substring in visit:\n",
    "\t\t\t\t\treturn substring\n",
    "\t\t\t\tvisit.add(substring)\n",
    "\t\t\treturn None\n",
    "\n",
    "\t\tl, r = 0, len(s) - 1\n",
    "\t\tres = \"\"\n",
    "\t\twhile l < r:\n",
    "\t\t\tmid = l + (r - l) // 2\n",
    "\t\t\tduplicate = checkDuplicate(mid)\n",
    "   \n",
    "\t\t\tif duplicate:\n",
    "\t\t\t\tres = duplicate\n",
    "\t\t\t\tl = mid + 1\n",
    "\t\t\telse:\n",
    "\t\t\t\tr = mid\n",
    "\t\treturn res"
   ]
  },
  {
   "cell_type": "code",
   "execution_count": 97,
   "metadata": {},
   "outputs": [
    {
     "data": {
      "text/plain": [
       "'ana'"
      ]
     },
     "execution_count": 97,
     "metadata": {},
     "output_type": "execute_result"
    }
   ],
   "source": [
    "s = \"banana\"\n",
    "Solution().longestDupSubstring(s)"
   ]
  },
  {
   "cell_type": "code",
   "execution_count": 7,
   "metadata": {},
   "outputs": [],
   "source": [
    "from typing import List, Dict"
   ]
  },
  {
   "cell_type": "markdown",
   "metadata": {},
   "source": [
    "#### 5. [312.] Burst Balloons [MCM]"
   ]
  },
  {
   "cell_type": "code",
   "execution_count": 18,
   "metadata": {},
   "outputs": [],
   "source": [
    "from functools import cache\n",
    "\n",
    "class Solution:\n",
    "    def maxCoins(self, nums: List[int]) -> int:\n",
    "        nums = [1] + nums + [1]\n",
    "        length = len(nums)\n",
    "        dp = [[None]*(length+1) for i in range(length+1)]\n",
    "        \n",
    "        @cache\n",
    "        def dfs(l,r):\n",
    "            if l>r: return 0\n",
    "            if dp[l][r] is not None: return dp[l][r]\n",
    "            dp[l][r] = 0\n",
    "            for i in range(l,r+1):\n",
    "                coins = dfs(l, i-1) + dfs(i+1, r) + nums[l-1]*nums[i]*nums[r+1]\n",
    "                dp[l][r] = max(dp[l][r], coins)\n",
    "            return dp[l][r]\n",
    "        return dfs(1, length-2)"
   ]
  },
  {
   "cell_type": "code",
   "execution_count": 19,
   "metadata": {},
   "outputs": [
    {
     "data": {
      "text/plain": [
       "167"
      ]
     },
     "execution_count": 19,
     "metadata": {},
     "output_type": "execute_result"
    }
   ],
   "source": [
    "nums = [3,1,5,8]\n",
    "Solution().maxCoins(nums)"
   ]
  },
  {
   "cell_type": "markdown",
   "metadata": {},
   "source": [
    "#### 6. Super Egg Drop [MCM]"
   ]
  },
  {
   "cell_type": "code",
   "execution_count": 92,
   "metadata": {},
   "outputs": [],
   "source": [
    "class Solution:\n",
    "    def superEggDrop(self, e: int, f: int) -> int:\n",
    "        dp = {}\n",
    "        def bfs(k,n):\n",
    "            if k==1: \n",
    "                dp[(k,n)] = n\n",
    "                return n\n",
    "            if n==0: \n",
    "                dp[(k,n)] = 0\n",
    "                return 0\n",
    "            if dp.get((k,n), None) is not None: return dp[(k,n)]\n",
    "            min_ = float('inf')\n",
    "            l, r = 1,n\n",
    "            while l<=r:\n",
    "                mid = (l+r)//2\n",
    "                if dp.get((k,n-mid),None) is not None:\n",
    "                    upper = dp[(k,n-mid)]\n",
    "                else:\n",
    "                    upper = bfs(k, n-mid)\n",
    "                if dp.get((k-1,mid-1),None) is not None:\n",
    "                    lower = dp[(k-1,mid-1)]\n",
    "                else:\n",
    "                    lower = bfs(k-1, mid-1)\n",
    "                temp = 1 + max(upper, lower)\n",
    "                if lower<upper:\n",
    "                    l=mid+1\n",
    "                else:\n",
    "                    r=mid-1\n",
    "                min_ = min(temp, min_)\n",
    "            dp[(k,n)] = min_\n",
    "            return dp[(k,n)]\n",
    "        \n",
    "        return bfs(e,f)"
   ]
  },
  {
   "cell_type": "code",
   "execution_count": 93,
   "metadata": {},
   "outputs": [
    {
     "data": {
      "text/plain": [
       "3"
      ]
     },
     "execution_count": 93,
     "metadata": {},
     "output_type": "execute_result"
    }
   ],
   "source": [
    "k = 1; n = 2 # k is egg and n is floor\n",
    "k = 2; n = 6\n",
    "Solution().superEggDrop(k,n)"
   ]
  },
  {
   "cell_type": "markdown",
   "metadata": {},
   "source": [
    "#### 7. [1641]. Count Sorted Vowel Strings"
   ]
  },
  {
   "cell_type": "code",
   "execution_count": 15,
   "metadata": {},
   "outputs": [],
   "source": [
    "class Solution:\n",
    "    def countVowelStrings(self, n: int) -> int:\n",
    "        res = [1,1,1,1,1]\n",
    "        for _ in range(n-1):\n",
    "            for i in range(5):\n",
    "                res[i] = sum(res[i:])\n",
    "        return sum(res)"
   ]
  },
  {
   "cell_type": "code",
   "execution_count": 16,
   "metadata": {},
   "outputs": [],
   "source": [
    "from functools import cache\n",
    "class Solution:\n",
    "    \n",
    "    def countVowelStrings(self, n: int) -> int:\n",
    "        @cache\n",
    "        def dfs(n,i):\n",
    "            if n==0: return 1\n",
    "            return sum(dfs(n-1, j) for j in range(i, 5))\n",
    "        return dfs(n,0)\n",
    "        "
   ]
  },
  {
   "cell_type": "code",
   "execution_count": 17,
   "metadata": {},
   "outputs": [],
   "source": [
    "def countVowelStrings(self, n):\n",
    "    return (n + 1) * (n + 2) * (n + 3) * (n + 4) / 24"
   ]
  },
  {
   "cell_type": "code",
   "execution_count": 18,
   "metadata": {},
   "outputs": [
    {
     "data": {
      "text/plain": [
       "126"
      ]
     },
     "execution_count": 18,
     "metadata": {},
     "output_type": "execute_result"
    }
   ],
   "source": [
    "n = 5\n",
    "Solution().countVowelStrings(n)"
   ]
  },
  {
   "cell_type": "markdown",
   "metadata": {},
   "source": [
    "#### 8. [1277]. Count Square Submatrices with All Ones"
   ]
  },
  {
   "cell_type": "code",
   "execution_count": 21,
   "metadata": {},
   "outputs": [],
   "source": [
    "from typing import List, Dict, Optional"
   ]
  },
  {
   "cell_type": "code",
   "execution_count": 54,
   "metadata": {},
   "outputs": [],
   "source": [
    "class Solution:\n",
    "    def countSquares(self, matrix: List[List[int]]) -> int:\n",
    "        m,n = len(matrix), len(matrix[0])\n",
    "        dp = [[None]*n for i in range(m)]\n",
    "        for i in range(m):\n",
    "            for j in range(n):\n",
    "                if i==0 or j==0:\n",
    "                    dp[i][j] = matrix[i][j]\n",
    "                else:\n",
    "                    dp[i][j] = 1 + min(dp[i-1][j], dp[i][j-1], dp[i-1][j-1]) if matrix[i][j] else 0\n",
    "        return sum(sum(i) for i in dp)"
   ]
  },
  {
   "cell_type": "code",
   "execution_count": 57,
   "metadata": {},
   "outputs": [],
   "source": [
    "# Another approach\n",
    "\n",
    "class Solution:\n",
    "    def countSquares(self, A: List[List[int]]) -> int:\n",
    "        for i in range(1, len(A)):\n",
    "            for j in range(1, len(A[0])):\n",
    "                A[i][j] *= min(A[i - 1][j], A[i][j - 1], A[i - 1][j - 1]) + 1\n",
    "        return sum(map(sum, A))"
   ]
  },
  {
   "cell_type": "code",
   "execution_count": 56,
   "metadata": {},
   "outputs": [
    {
     "data": {
      "text/plain": [
       "7"
      ]
     },
     "execution_count": 56,
     "metadata": {},
     "output_type": "execute_result"
    }
   ],
   "source": [
    "matrix = [[0,1,1,1],\n",
    "  [1,1,1,1],\n",
    "  [0,1,1,1]\n",
    "]\n",
    "\n",
    "matrix = [\n",
    "  [1,0,1],\n",
    "  [1,1,0],\n",
    "  [1,1,0]\n",
    "]\n",
    "Solution().countSquares(matrix)"
   ]
  },
  {
   "cell_type": "code",
   "execution_count": null,
   "metadata": {},
   "outputs": [],
   "source": []
  },
  {
   "cell_type": "code",
   "execution_count": null,
   "metadata": {},
   "outputs": [],
   "source": []
  },
  {
   "cell_type": "code",
   "execution_count": null,
   "metadata": {},
   "outputs": [],
   "source": []
  },
  {
   "cell_type": "code",
   "execution_count": null,
   "metadata": {},
   "outputs": [],
   "source": []
  },
  {
   "cell_type": "code",
   "execution_count": null,
   "metadata": {},
   "outputs": [],
   "source": []
  },
  {
   "cell_type": "code",
   "execution_count": null,
   "metadata": {},
   "outputs": [],
   "source": []
  },
  {
   "cell_type": "code",
   "execution_count": null,
   "metadata": {},
   "outputs": [],
   "source": []
  },
  {
   "cell_type": "code",
   "execution_count": null,
   "metadata": {},
   "outputs": [],
   "source": []
  },
  {
   "cell_type": "code",
   "execution_count": null,
   "metadata": {},
   "outputs": [],
   "source": []
  }
 ],
 "metadata": {
  "kernelspec": {
   "display_name": "Python 3.9.13 ('base')",
   "language": "python",
   "name": "python3"
  },
  "language_info": {
   "codemirror_mode": {
    "name": "ipython",
    "version": 3
   },
   "file_extension": ".py",
   "mimetype": "text/x-python",
   "name": "python",
   "nbconvert_exporter": "python",
   "pygments_lexer": "ipython3",
   "version": "3.9.13"
  },
  "orig_nbformat": 4,
  "vscode": {
   "interpreter": {
    "hash": "fecfa28de78ead09ec2989a580469213059448baba5e0b02aeeb7641afb84221"
   }
  }
 },
 "nbformat": 4,
 "nbformat_minor": 2
}
