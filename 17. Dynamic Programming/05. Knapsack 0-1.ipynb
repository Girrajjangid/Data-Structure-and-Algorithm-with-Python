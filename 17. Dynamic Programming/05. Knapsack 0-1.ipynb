{
 "cells": [
  {
   "cell_type": "markdown",
   "metadata": {},
   "source": [
    "#### 0/1 Knapsack using DP\n",
    "\n",
    "DP stats that you can solve a problem by taking sequence of decisions."
   ]
  },
  {
   "cell_type": "code",
   "execution_count": 1,
   "metadata": {},
   "outputs": [],
   "source": [
    "from typing import List, Optional"
   ]
  },
  {
   "cell_type": "code",
   "execution_count": null,
   "metadata": {},
   "outputs": [],
   "source": []
  },
  {
   "cell_type": "code",
   "execution_count": 52,
   "metadata": {},
   "outputs": [],
   "source": [
    "####################\n",
    "# Iterative method #\n",
    "####################\n",
    "\n",
    "\n",
    "# T: O(N^2)\n",
    "# S: O(M*N) where, M is capacity, N is no. of objects\n",
    "\n",
    "class Knapsack:        \n",
    "    \n",
    "    def maxProfit_(self):\n",
    "        max_pro = self.res[-1][-1]\n",
    "        selected_obj = []\n",
    "        selected_pro = []\n",
    "        while max_pro>0:\n",
    "            selected_pro.append(self.profit[self.dp[max_pro]-1])\n",
    "            selected_obj.append(self.dp[max_pro])\n",
    "            max_pro -= self.profit[self.dp[max_pro]-1]\n",
    "        print(\"Selected Objects: \", selected_obj[::-1])\n",
    "        print(\"Selected Profits: \", selected_pro[::-1])\n",
    "        print(\"Total Profit    : \", sum(selected_pro))\n",
    "        \n",
    "    def maxProfit(self, profit, weight, capacity):\n",
    "        self.profit   = profit\n",
    "        self.weight   = weight\n",
    "        self.capacity = capacity\n",
    "        self.objects = len(profit)\n",
    "        self.dp = {0:0}\n",
    "        self.res = [[0]*(self.capacity+1) for i in range(self.objects+1)]\n",
    "        for obj in range(1, self.objects+1):\n",
    "            for wgt in range(self.capacity+1):\n",
    "                t = wgt - self.weight[obj-1]\n",
    "                if t < 0:\n",
    "                    x = self.res[obj-1][wgt]\n",
    "                else:\n",
    "                    x = max(self.res[obj-1][wgt], self.res[obj-1][t] + self.profit[obj-1])\n",
    "                if self.dp.get(x,None) is None:\n",
    "                   self.dp[x] = obj\n",
    "                self.res[obj][wgt] = x\n",
    "    \n",
    "        return self.maxProfit_()"
   ]
  },
  {
   "cell_type": "code",
   "execution_count": 53,
   "metadata": {},
   "outputs": [
    {
     "name": "stdout",
     "output_type": "stream",
     "text": [
      "Selected Objects:  [2, 4]\n",
      "Selected Profits:  [2, 6]\n",
      "Total Profit    :  8\n"
     ]
    },
    {
     "data": {
      "text/plain": [
       "[[0, 0, 0, 0, 0, 0, 0, 0, 0],\n",
       " [0, 0, 1, 1, 1, 1, 1, 1, 1],\n",
       " [0, 0, 1, 2, 2, 3, 3, 3, 3],\n",
       " [0, 0, 1, 2, 5, 5, 6, 7, 7],\n",
       " [0, 0, 1, 2, 5, 6, 6, 7, 8]]"
      ]
     },
     "execution_count": 53,
     "metadata": {},
     "output_type": "execute_result"
    }
   ],
   "source": [
    "# We have 4 objects, There profit, weights and bag capacity are given.\n",
    "# Task is to find maximum profit we can achieve on constraint bag capacity. \n",
    "\n",
    "#obj     [1,2,3,4]\n",
    "profit = [1,2,5,6]\n",
    "weight = [2,3,4,5]\n",
    "capacity = 8\n",
    "obj = Knapsack()\n",
    "obj.maxProfit(profit, weight, capacity)\n",
    "obj.res"
   ]
  },
  {
   "cell_type": "code",
   "execution_count": 54,
   "metadata": {},
   "outputs": [],
   "source": [
    "####################\n",
    "# Recursive method #\n",
    "####################\n",
    "\n",
    "class Knapsack:\n",
    "\n",
    "    def __init__(self):\n",
    "        self.t = None\n",
    "    \n",
    "    def recursive(self, profit, weight, capacity, objects):\n",
    "        if objects==0 or capacity==0: return 0\n",
    "        if self.t[objects][capacity] is not None: return self.t[objects][capacity]\n",
    "        if weight[objects-1] <= capacity:\n",
    "            self.t[objects][capacity] = max(profit[objects-1] + self.recursive(profit, weight, capacity - weight[objects-1], objects-1),\n",
    "                                            self.recursive(profit, weight, capacity, objects-1))\n",
    "            return self.t[objects][capacity]\n",
    "        elif weight[objects-1] > capacity:\n",
    "            self.t[objects][capacity] = self.recursive(profit, weight, capacity, objects-1)\n",
    "            return self.t[objects][capacity]\n",
    "            \n",
    "        \n",
    "    def maxProfit(self, profit, weight, capacity):\n",
    "        self.objects = len(profit)\n",
    "        self.t = [[None]*(capacity+1) for i in range(len(weight)+1)]\n",
    "        self.recursive(profit, weight, capacity, self.objects)\n",
    "        return self.t[-1][-1]"
   ]
  },
  {
   "cell_type": "code",
   "execution_count": 55,
   "metadata": {},
   "outputs": [
    {
     "name": "stdout",
     "output_type": "stream",
     "text": [
      "Max profit:  8\n"
     ]
    },
    {
     "data": {
      "text/plain": [
       "[[None, None, None, None, None, None, None, None, None],\n",
       " [None, 0, None, 1, 1, 1, None, None, 1],\n",
       " [None, None, None, 2, 2, None, None, None, 3],\n",
       " [None, None, None, 2, None, None, None, None, 7],\n",
       " [None, None, None, None, None, None, None, None, 8]]"
      ]
     },
     "execution_count": 55,
     "metadata": {},
     "output_type": "execute_result"
    }
   ],
   "source": [
    "# We have 4 objects, There profit, weights and bag capacity are given.\n",
    "# Task is to find maximum profit we can achieve on constraint bag capacity. \n",
    "\n",
    "#obj     [1,2,3,4]\n",
    "profit = [1,2,5,6]\n",
    "weight = [2,3,4,5]\n",
    "capacity = 8\n",
    "obj = Knapsack()\n",
    "print(\"Max profit: \", obj.maxProfit(profit, weight, capacity))\n",
    "obj.t"
   ]
  },
  {
   "cell_type": "markdown",
   "metadata": {},
   "source": [
    "# Similar approach problems:"
   ]
  },
  {
   "cell_type": "markdown",
   "metadata": {},
   "source": [
    "#### 1. Subset Problem\n",
    "Given an array and sum value. we need to find out whether there is subset available in an array whose sum is equal to given sum."
   ]
  },
  {
   "cell_type": "code",
   "execution_count": 56,
   "metadata": {},
   "outputs": [],
   "source": [
    "######################\n",
    "# Recursive approach #\n",
    "######################\n",
    "\n",
    "class Solution:\n",
    "    def subsetSum(self, arr, n, sum_):    \n",
    "        if sum_ == 0: return True\n",
    "        if n == 0: return False\n",
    "        if self.dp[n][sum_] is not None: return self.dp[n][sum_]\n",
    "        if arr[n-1] <= sum_:\n",
    "            self.dp[n][sum_] = self.subsetSum(arr, n-1, sum_-arr[n-1]) or self.subsetSum(arr, n-1, sum_)\n",
    "        else:\n",
    "            self.dp[n][sum_] = self.subsetSum(arr, n-1, sum_)\n",
    "        return self.dp[n][sum_]            \n",
    "            \n",
    "    def subset(self, arr, sum_):\n",
    "        self.dp = [[None]*(sum_+1) for i in range(len(arr)+1)]\n",
    "        return self.subsetSum(arr, len(arr), sum_)"
   ]
  },
  {
   "cell_type": "code",
   "execution_count": 57,
   "metadata": {},
   "outputs": [
    {
     "data": {
      "text/plain": [
       "True"
      ]
     },
     "execution_count": 57,
     "metadata": {},
     "output_type": "execute_result"
    }
   ],
   "source": [
    "arr = [1,5,5,11]; sum_ = 6\n",
    "obj = Solution()\n",
    "obj.subset(arr, sum_)"
   ]
  },
  {
   "cell_type": "code",
   "execution_count": 58,
   "metadata": {},
   "outputs": [],
   "source": [
    "######################\n",
    "# Iterative approach #\n",
    "######################\n",
    "\n",
    "class Solution:\n",
    "            \n",
    "    def subset(self, arr, sum_):\n",
    "        n = len(arr)\n",
    "        self.dp = [[None]*(sum_+1) for i in range(n+1)]\n",
    "        # If sum=0 then ans is True\n",
    "        for i in range(n+1):\n",
    "            self.dp[i][0] = True\n",
    "        # if o objects selected then ans is False except 0 sum\n",
    "        for j in range(1, sum_+1):\n",
    "            self.dp[0][j] = False\n",
    "        \n",
    "        for i in range(1, n+1):\n",
    "            for j in range(1, sum_+1):\n",
    "                if arr[i-1] <= j:\n",
    "                    self.dp[i][j] = self.dp[i-1][j-arr[i-1]] or self.dp[i-1][j]\n",
    "                else:\n",
    "                    self.dp[i][j] = self.dp[i-1][j]\n",
    "        \n",
    "        return self.dp[-1][-1]                            "
   ]
  },
  {
   "cell_type": "code",
   "execution_count": 59,
   "metadata": {},
   "outputs": [
    {
     "data": {
      "text/plain": [
       "True"
      ]
     },
     "execution_count": 59,
     "metadata": {},
     "output_type": "execute_result"
    }
   ],
   "source": [
    "arr = [1,5,5,11]; sum_ = 6\n",
    "obj = Solution()\n",
    "obj.subset(arr, sum_)"
   ]
  },
  {
   "cell_type": "markdown",
   "metadata": {},
   "source": [
    "#### 2. 416. Partition Equal Subset Sum (LeetCode)"
   ]
  },
  {
   "cell_type": "code",
   "execution_count": 60,
   "metadata": {},
   "outputs": [],
   "source": [
    "##############################\n",
    "# Using Two Pointer Approach #\n",
    "##############################\n",
    "class Solution:\n",
    "    def canPartition(self, nums: List[int]) -> bool:\n",
    "        nums.sort()\n",
    "        length = len(nums)\n",
    "        l,r = 0, length-1\n",
    "        l_sum, r_sum = nums[l],nums[r]\n",
    "        while l<r:\n",
    "            if l_sum < r_sum:\n",
    "                l+=1\n",
    "                l_sum += nums[l]\n",
    "                continue\n",
    "            if r_sum < l_sum:\n",
    "                r-=1\n",
    "                r_sum += nums[r]\n",
    "                continue\n",
    "            if l_sum == r_sum and r-l==1:\n",
    "                return True\n",
    "            else:\n",
    "                l+=1\n",
    "                r-=1\n",
    "        return False"
   ]
  },
  {
   "cell_type": "code",
   "execution_count": 61,
   "metadata": {},
   "outputs": [
    {
     "data": {
      "text/plain": [
       "True"
      ]
     },
     "execution_count": 61,
     "metadata": {},
     "output_type": "execute_result"
    }
   ],
   "source": [
    "nums = [1,5,11,5]\n",
    "Solution().canPartition(nums)"
   ]
  },
  {
   "cell_type": "code",
   "execution_count": 64,
   "metadata": {},
   "outputs": [],
   "source": [
    "##########################\n",
    "# Using Iterative method #\n",
    "##########################\n",
    "\n",
    "# It is through ETL error Try to use recursive approach with memoization\n",
    "\n",
    "# You can try recursive method as well by just changing subset() function\n",
    "class Solution:\n",
    "    \n",
    "    # Taking same function from above problem\n",
    "    def subset(self, arr, sum_):\n",
    "        n = len(arr)\n",
    "        self.dp = [[None]*(sum_+1) for i in range(n+1)]\n",
    "        for i in range(n+1):\n",
    "            self.dp[i][0] = True\n",
    "        for j in range(1, sum_+1):\n",
    "            self.dp[0][j] = False\n",
    "        for i in range(1, n+1):\n",
    "            for j in range(1, sum_+1):\n",
    "                if arr[i-1] <= j:\n",
    "                    self.dp[i][j] = self.dp[i-1][j-arr[i-1]] or self.dp[i-1][j]\n",
    "                else:\n",
    "                    self.dp[i][j] = self.dp[i-1][j]\n",
    "        return self.dp[-1][-1] \n",
    "    \n",
    "    \n",
    "    def canPartition(self, nums: List[int]) -> bool:\n",
    "        # If it is odd then not possible to divide into two partitions\n",
    "        sum_ = sum(nums)\n",
    "        if sum_%2: return False\n",
    "        else: return self.subset(nums, sum_//2)\n",
    "            "
   ]
  },
  {
   "cell_type": "code",
   "execution_count": 65,
   "metadata": {},
   "outputs": [
    {
     "data": {
      "text/plain": [
       "False"
      ]
     },
     "execution_count": 65,
     "metadata": {},
     "output_type": "execute_result"
    }
   ],
   "source": [
    "nums = [1,5,11,5]\n",
    "nums = [1,2,3,5]\n",
    "nums = [1,2,5]\n",
    "Solution().canPartition(nums)"
   ]
  },
  {
   "cell_type": "markdown",
   "metadata": {},
   "source": [
    "#### 3. Count of Subset sum:\n"
   ]
  },
  {
   "cell_type": "code",
   "execution_count": 134,
   "metadata": {},
   "outputs": [],
   "source": [
    "class Solution:\n",
    "\n",
    "    def countSubsetSum(self, arr, sum_):\n",
    "        n = len(arr)\n",
    "        self.dp = [[None]*(sum_+1) for i in range(n+1)]\n",
    "        for i in range(n+1):\n",
    "            self.dp[i][0] = 1\n",
    "        for j in range(1, sum_+1):\n",
    "            self.dp[0][j] = 0\n",
    "        for i in range(1, n+1):\n",
    "            for j in range(1, sum_+1):\n",
    "                if arr[i-1] <= j:\n",
    "                    self.dp[i][j] = self.dp[i-1][j] + self.dp[i-1][j-arr[i-1]]\n",
    "                else:\n",
    "                    self.dp[i][j] = self.dp[i-1][j]\n",
    "        return self.dp[-1][-1]"
   ]
  },
  {
   "cell_type": "code",
   "execution_count": 135,
   "metadata": {},
   "outputs": [
    {
     "name": "stdout",
     "output_type": "stream",
     "text": [
      "2\n"
     ]
    },
    {
     "data": {
      "text/plain": [
       "[[1, 0], [1, 1], [1, 2], [1, 2], [1, 2]]"
      ]
     },
     "execution_count": 135,
     "metadata": {},
     "output_type": "execute_result"
    }
   ],
   "source": [
    "arr = [2,3,5,8,10]; sum_ = 10\n",
    "obj = Solution()\n",
    "print(obj.countSubsetSum(arr, sum_))\n",
    "obj.dp"
   ]
  },
  {
   "cell_type": "markdown",
   "metadata": {},
   "source": [
    "#### 4. Minimum subset sum difference:"
   ]
  },
  {
   "cell_type": "code",
   "execution_count": 94,
   "metadata": {},
   "outputs": [],
   "source": [
    "class Solution:\n",
    "    def __init__(self):\n",
    "        pass\n",
    "    \n",
    "    def minSubsetSum(self, arr):\n",
    "        sum_ = sum(arr)\n",
    "        n    = len(arr)\n",
    "        self.dp = [[0]*(sum_+1) for i in range(n+1)]\n",
    "    \n",
    "        for i in range(n + 1):\n",
    "            self.dp[i][0] = True\n",
    "    \n",
    "        for j in range(1, sum_ + 1):\n",
    "            self.dp[0][j] = False\n",
    "    \n",
    "        for i in range(1, n + 1):\n",
    "            for j in range(1, sum_ + 1):\n",
    "                if arr[i-1] <= j:\n",
    "                    self.dp[i][j] = self.dp[i-1][j] or self.dp[i-1][j-arr[i-1]]\n",
    "                else:\n",
    "                    self.dp[i][j] = self.dp[i-1][j]\n",
    "                    \n",
    "                \n",
    "        # Initialize difference of two sums.\n",
    "        diff = float('inf')    \n",
    "        # Find the largest j such that dp[n][j]\n",
    "        # is true where j loops from sum/2 t0 0\n",
    "        for j in range(sum_ // 2, -1, -1):\n",
    "            if self.dp[n][j] == True:\n",
    "                diff = sum_ - (2 * j)\n",
    "                break\n",
    "    \n",
    "        return diff"
   ]
  },
  {
   "cell_type": "code",
   "execution_count": 95,
   "metadata": {},
   "outputs": [
    {
     "name": "stdout",
     "output_type": "stream",
     "text": [
      "The minimum difference between two subset is:  1\n"
     ]
    },
    {
     "data": {
      "text/plain": [
       "[[True, False, False, False, False, False, False, False, False, False],\n",
       " [True, False, False, True, False, False, False, False, False, False],\n",
       " [True, True, False, True, True, False, False, False, False, False],\n",
       " [True, True, False, True, True, True, False, True, True, False],\n",
       " [True, True, True, True, True, True, True, True, True, True]]"
      ]
     },
     "execution_count": 95,
     "metadata": {},
     "output_type": "execute_result"
    }
   ],
   "source": [
    "arr = [3, 1, 4, 1]\n",
    "obj = Solution()\n",
    "print(\"The minimum difference between two subset is: \", obj.minSubsetSum(arr))\n",
    "obj.dp"
   ]
  },
  {
   "cell_type": "code",
   "execution_count": null,
   "metadata": {},
   "outputs": [],
   "source": []
  },
  {
   "cell_type": "markdown",
   "metadata": {},
   "source": [
    "#### 5. Count the number of subset with given difference"
   ]
  },
  {
   "cell_type": "code",
   "execution_count": 136,
   "metadata": {},
   "outputs": [],
   "source": [
    "class Solution:\n",
    "    \n",
    "    def __init__(self):\n",
    "        self.dp = None\n",
    "        \n",
    "    def NumberOfSubset(self, arr, diff):\n",
    "        sum_ = (sum(arr) + diff)//2\n",
    "        n = len(arr)\n",
    "        self.dp = [[None]*(sum_+1) for i in range(n+1)]\n",
    "        for i in range(n+1):\n",
    "            self.dp[i][0] = 1\n",
    "        for j in range(1, sum_+1):\n",
    "            self.dp[0][j] = 0\n",
    "        for i in range(1, n+1):\n",
    "            for j in range(1, sum_+1):\n",
    "                if arr[i-1] <= j:\n",
    "                    self.dp[i][j] = self.dp[i-1][j] + self.dp[i-1][j-arr[i-1]]\n",
    "                else:\n",
    "                    self.dp[i][j] = self.dp[i-1][j]\n",
    "        return self.dp[-1][-1]"
   ]
  },
  {
   "cell_type": "code",
   "execution_count": 140,
   "metadata": {},
   "outputs": [
    {
     "data": {
      "text/plain": [
       "1"
      ]
     },
     "execution_count": 140,
     "metadata": {},
     "output_type": "execute_result"
    }
   ],
   "source": [
    "arr = [1,1,2,3]; diff = 1\n",
    "arr = [1]; diff = 2\n",
    "obj = Solution()\n",
    "obj.NumberOfSubset(arr, diff)"
   ]
  },
  {
   "cell_type": "markdown",
   "metadata": {},
   "source": [
    "#### 6. Target Sum"
   ]
  },
  {
   "cell_type": "code",
   "execution_count": 141,
   "metadata": {},
   "outputs": [],
   "source": [
    "######################\n",
    "# Recursive approach #\n",
    "######################\n",
    "class Solution:\n",
    "    \n",
    "    def __init__(self):\n",
    "        self.dp = {}\n",
    "    \n",
    "    def backTrack(self, idx, total):\n",
    "        if idx == self.length: return 1 if total == self.target else 0 \n",
    "        if (idx, total) in self.dp: return self.dp[(idx, total)]\n",
    "        \n",
    "        self.dp[(idx, total)] = self.backTrack(idx+1, total-self.arr[idx]) + self.backTrack(idx+1, total+self.arr[idx])\n",
    "        return self.dp[(idx, total)]        \n",
    "    \n",
    "    def findTargetSumWays(self, arr, sum_):\n",
    "        self.arr = arr\n",
    "        self.length = len(arr)\n",
    "        self.target = sum_\n",
    "        return self.backTrack(0, 0)\n",
    "        "
   ]
  },
  {
   "cell_type": "code",
   "execution_count": 153,
   "metadata": {},
   "outputs": [],
   "source": [
    "######################\n",
    "# iterative approach #\n",
    "######################\n",
    "class Solution:\n",
    "    def findTargetSumWays(self, nums: List[int], target: int):\n",
    "        tot = sum(nums)+target\n",
    "        if abs(target)>sum(nums) or tot%2!=0: return 0\n",
    "        s1 = int((sum(nums)+target)/2)\n",
    "        dp = [[1 for i in range(s1+1)] for j in range(len(nums)+1)]\n",
    "        for i in range(1,s1+1):\n",
    "            dp[0][i]=0\n",
    "        for i in range(1,len(nums)+1):\n",
    "            for j in range(0, s1+1):\n",
    "                if nums[i-1]>j:\n",
    "                    dp[i][j] = dp[i-1][j]\n",
    "                else:\n",
    "                    dp[i][j] = dp[i-1][j-nums[i-1]]+dp[i-1][j]\n",
    "        return dp[-1][-1]"
   ]
  },
  {
   "cell_type": "code",
   "execution_count": 154,
   "metadata": {},
   "outputs": [
    {
     "data": {
      "text/plain": [
       "0"
      ]
     },
     "execution_count": 154,
     "metadata": {},
     "output_type": "execute_result"
    }
   ],
   "source": [
    "arr = [1,1,2,3]; diff = 1\n",
    "arr = [1]; diff = 2\n",
    "obj = Solution()\n",
    "obj.findTargetSumWays(arr, diff)"
   ]
  },
  {
   "cell_type": "code",
   "execution_count": 21,
   "metadata": {},
   "outputs": [],
   "source": [
    "from typing import List, Optional, Dict"
   ]
  },
  {
   "cell_type": "markdown",
   "metadata": {},
   "source": [
    "#### 7. [474]. Ones and Zeroes"
   ]
  },
  {
   "cell_type": "code",
   "execution_count": 139,
   "metadata": {},
   "outputs": [],
   "source": [
    "from functools import cache\n",
    "\n",
    "class Solution:\n",
    "    def findMaxForm(self, strs: List[str], m_: int, n_: int) -> int:\n",
    "        \n",
    "        @cache\n",
    "        def dfs(m, n, item):\n",
    "            if m<0 or n<0: return float('-inf')\n",
    "            if item<0: return 0\n",
    "            one_count, zero_count = strs[item].count('1'), strs[item].count('0')\n",
    "            return max(1 + dfs(m-zero_count, n-one_count, item-1), dfs(m, n, item-1))\n",
    "\n",
    "        return dfs(m_, n_, len(strs)-1)\n",
    "            "
   ]
  },
  {
   "cell_type": "code",
   "execution_count": 140,
   "metadata": {},
   "outputs": [
    {
     "data": {
      "text/plain": [
       "4"
      ]
     },
     "execution_count": 140,
     "metadata": {},
     "output_type": "execute_result"
    }
   ],
   "source": [
    "strs = [\"10\",\"0001\",\"111001\",\"1\",\"0\"]; m = 5; n = 3\n",
    "#strs = [\"10\",\"0001\",\"111001\",\"1\",\"0\"];m=4;n=3\n",
    "#strs = [\"10\",\"0\",\"1\"]; m = 1; n = 1\n",
    "Solution().findMaxForm(strs,m,n)"
   ]
  },
  {
   "cell_type": "markdown",
   "metadata": {},
   "source": [
    "#### 8. [1235]. Maximum Profit in Job Scheduling "
   ]
  },
  {
   "cell_type": "code",
   "execution_count": 8,
   "metadata": {},
   "outputs": [],
   "source": [
    "import bisect\n",
    "\n",
    "class Solution:\n",
    "    def jobScheduling(self, startTime, endTime, profit):\n",
    "        jobs = sorted(zip(startTime, endTime, profit), key=lambda v: v[1])\n",
    "        print(jobs)\n",
    "        dp = [[0, 0]]\n",
    "        for s, e, p in jobs:\n",
    "            i = bisect.bisect(dp, [s + 1]) - 1\n",
    "            if dp[i][1] + p > dp[-1][1]:\n",
    "                dp.append([e, dp[i][1] + p])\n",
    "            print(i, dp)\n",
    "        return dp[-1][1]"
   ]
  },
  {
   "cell_type": "code",
   "execution_count": null,
   "metadata": {},
   "outputs": [],
   "source": []
  },
  {
   "cell_type": "code",
   "execution_count": 9,
   "metadata": {},
   "outputs": [
    {
     "name": "stdout",
     "output_type": "stream",
     "text": [
      "[(1, 3, 50), (2, 4, 10), (3, 5, 40), (3, 6, 70)]\n",
      "0 [[0, 0], [3, 50]]\n",
      "0 [[0, 0], [3, 50]]\n",
      "1 [[0, 0], [3, 50], [5, 90]]\n",
      "1 [[0, 0], [3, 50], [5, 90], [6, 120]]\n"
     ]
    },
    {
     "data": {
      "text/plain": [
       "120"
      ]
     },
     "execution_count": 9,
     "metadata": {},
     "output_type": "execute_result"
    }
   ],
   "source": [
    "startTime = [1,2,3,3]; endTime = [3,4,5,6]; profit = [50,10,40,70]\n",
    "Solution().jobScheduling(startTime, endTime, profit)"
   ]
  },
  {
   "cell_type": "markdown",
   "metadata": {},
   "source": [
    "#### 9. "
   ]
  },
  {
   "cell_type": "code",
   "execution_count": null,
   "metadata": {},
   "outputs": [],
   "source": []
  },
  {
   "cell_type": "markdown",
   "metadata": {},
   "source": [
    "#### 10."
   ]
  },
  {
   "cell_type": "code",
   "execution_count": null,
   "metadata": {},
   "outputs": [],
   "source": []
  },
  {
   "cell_type": "markdown",
   "metadata": {},
   "source": [
    "#### 11."
   ]
  },
  {
   "cell_type": "code",
   "execution_count": null,
   "metadata": {},
   "outputs": [],
   "source": []
  },
  {
   "cell_type": "markdown",
   "metadata": {},
   "source": [
    "#### 12."
   ]
  },
  {
   "cell_type": "code",
   "execution_count": null,
   "metadata": {},
   "outputs": [],
   "source": []
  },
  {
   "cell_type": "markdown",
   "metadata": {},
   "source": [
    "#### 13."
   ]
  },
  {
   "cell_type": "code",
   "execution_count": null,
   "metadata": {},
   "outputs": [],
   "source": []
  },
  {
   "cell_type": "markdown",
   "metadata": {},
   "source": []
  }
 ],
 "metadata": {
  "kernelspec": {
   "display_name": "Python 3.9.13 ('base')",
   "language": "python",
   "name": "python3"
  },
  "language_info": {
   "codemirror_mode": {
    "name": "ipython",
    "version": 3
   },
   "file_extension": ".py",
   "mimetype": "text/x-python",
   "name": "python",
   "nbconvert_exporter": "python",
   "pygments_lexer": "ipython3",
   "version": "3.9.13"
  },
  "orig_nbformat": 4,
  "vscode": {
   "interpreter": {
    "hash": "fecfa28de78ead09ec2989a580469213059448baba5e0b02aeeb7641afb84221"
   }
  }
 },
 "nbformat": 4,
 "nbformat_minor": 2
}
