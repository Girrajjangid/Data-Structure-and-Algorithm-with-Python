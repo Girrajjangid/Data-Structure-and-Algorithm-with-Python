{
 "cells": [
  {
   "cell_type": "markdown",
   "metadata": {},
   "source": [
    "#### 0/1 Knapsack using DP\n",
    "\n",
    "DP stats that you can solve a problem by taking sequence of decisions."
   ]
  },
  {
   "cell_type": "code",
   "execution_count": 63,
   "metadata": {},
   "outputs": [],
   "source": [
    "# T: O(N^2)\n",
    "# S: O(M*N) where, M is capacity, N is no. of objects\n",
    "\n",
    "class Knapsack:        \n",
    "    \n",
    "    def maxProfit_(self):\n",
    "        max_pro = self.res[-1][-1]\n",
    "        selected_obj = []\n",
    "        selected_pro = []\n",
    "        while max_pro>0:\n",
    "            selected_pro.append(self.profit[self.dp[max_pro]-1])\n",
    "            selected_obj.append(self.dp[max_pro])\n",
    "            max_pro -= self.profit[self.dp[max_pro]-1]\n",
    "        print(\"Selected Objects: \", selected_obj[::-1])\n",
    "        print(\"Selected Profits: \", selected_pro[::-1])\n",
    "        print(\"Total Profit    : \", sum(selected_pro))\n",
    "        \n",
    "    def maxProfit(self, profit, weight, capacity):\n",
    "        self.profit   = profit\n",
    "        self.weight   = weight\n",
    "        self.capacity = capacity\n",
    "        self.objects = len(profit)\n",
    "        self.dp = {0:0}\n",
    "        self.res = [[0]*(self.capacity+1) for i in range(self.objects+1)]\n",
    "        for obj in range(1, self.objects+1):\n",
    "            for wgt in range(self.capacity+1):\n",
    "                t = wgt - self.weight[obj-1]\n",
    "                if t < 0:\n",
    "                    x = self.res[obj-1][wgt]\n",
    "                else:\n",
    "                    x = max(self.res[obj-1][wgt], self.res[obj-1][t] + self.profit[obj-1])\n",
    "                if self.dp.get(x,None) is None:\n",
    "                   self.dp[x] = obj\n",
    "                self.res[obj][wgt] = x\n",
    "    \n",
    "        return self.maxProfit_()"
   ]
  },
  {
   "cell_type": "code",
   "execution_count": 64,
   "metadata": {},
   "outputs": [
    {
     "name": "stdout",
     "output_type": "stream",
     "text": [
      "Selected Objects:  [2, 4]\n",
      "Selected Profits:  [2, 6]\n",
      "Total Profit    :  8\n"
     ]
    }
   ],
   "source": [
    "# We have 4 objects, There profit, weights and bag capacity are given.\n",
    "# Task is to find maximum profit we can achieve on constraint bag capacity. \n",
    "\n",
    "#obj     [1,2,3,4]\n",
    "profit = [1,2,5,6]\n",
    "weight = [2,3,4,5]\n",
    "capacity = 8\n",
    "obj = Knapsack()\n",
    "obj.maxProfit(profit, weight, capacity)\n"
   ]
  },
  {
   "cell_type": "code",
   "execution_count": null,
   "metadata": {},
   "outputs": [],
   "source": []
  }
 ],
 "metadata": {
  "kernelspec": {
   "display_name": "Python 3.8.8 ('base')",
   "language": "python",
   "name": "python3"
  },
  "language_info": {
   "codemirror_mode": {
    "name": "ipython",
    "version": 3
   },
   "file_extension": ".py",
   "mimetype": "text/x-python",
   "name": "python",
   "nbconvert_exporter": "python",
   "pygments_lexer": "ipython3",
   "version": "3.8.8"
  },
  "orig_nbformat": 4,
  "vscode": {
   "interpreter": {
    "hash": "ad2bdc8ecc057115af97d19610ffacc2b4e99fae6737bb82f5d7fb13d2f2c186"
   }
  }
 },
 "nbformat": 4,
 "nbformat_minor": 2
}
