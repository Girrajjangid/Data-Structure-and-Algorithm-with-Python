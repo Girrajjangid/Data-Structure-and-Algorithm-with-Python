{
 "cells": [
  {
   "cell_type": "code",
   "execution_count": 114,
   "metadata": {},
   "outputs": [],
   "source": [
    "from typing import List, Optional"
   ]
  },
  {
   "cell_type": "markdown",
   "metadata": {},
   "source": [
    "#### 1. Rood Cutting Problem:\n",
    "\n",
    "Given a rod of length n inches and an array of prices that includes prices of all pieces of size smaller than n. Determine the maximum value obtainable by cutting up the rod and selling the pieces. For example, if the length of the rod is 8 and the values of different pieces are given as the following, then the maximum obtainable value is 22 (by cutting in two pieces of lengths 2 and 6) \n",
    "\n",
    "`length   | 1   2   3   4   5   6   7   8`\n",
    "\n",
    "`price    | 1   5   8   9  10  17  17  20`  "
   ]
  },
  {
   "cell_type": "code",
   "execution_count": 109,
   "metadata": {},
   "outputs": [],
   "source": [
    "#################################################\n",
    "# Recursive + Memoization [Bottom Up approch]   #\n",
    "#################################################\n",
    "\n",
    "class Solution:\n",
    "    \n",
    "    def __init__(self):\n",
    "        self.dp = {}\n",
    "        \n",
    "    def recursive(self, profit, weight, max_weight, n_items):\n",
    "        if max_weight==0 or n_items==0: return 0\n",
    "        if (max_weight, n_items) in self.dp: return self.dp[(max_weight, n_items)]\n",
    "        if weight[n_items-1] <= max_weight:\n",
    "            self.dp[(max_weight, n_items)] = max(profit[n_items-1] + self.recursive(profit, weight, max_weight-weight[n_items-1], n_items), \n",
    "                                                 self.recursive(profit, weight, max_weight, n_items-1))\n",
    "        else:\n",
    "            self.dp[(max_weight, n_items)] = self.recursive(profit, weight, max_weight, n_items-1)\n",
    "        return self.dp[(max_weight, n_items)]            \n",
    "    \n",
    "    \n",
    "    def maxProfit(self, profit, weight):\n",
    "        return self.recursive(profit, weight, len(weight), len(weight))    "
   ]
  },
  {
   "cell_type": "code",
   "execution_count": 110,
   "metadata": {},
   "outputs": [
    {
     "data": {
      "text/plain": [
       "22"
      ]
     },
     "execution_count": 110,
     "metadata": {},
     "output_type": "execute_result"
    }
   ],
   "source": [
    "weight = [1,2,3,4, 5, 6, 7, 8]\n",
    "profit = [1,5,8,9,10,17,17,20]\n",
    "obj = Solution()\n",
    "obj.maxProfit(profit, weight)"
   ]
  },
  {
   "cell_type": "code",
   "execution_count": 111,
   "metadata": {},
   "outputs": [],
   "source": [
    "#################################\n",
    "# Iterative [Top Down Approach] #\n",
    "#################################\n",
    "\n",
    "class Solution:\n",
    "    \n",
    "    def __init__(self):\n",
    "        self.dp = []\n",
    "        \n",
    "    def maxProfit(self, profit, weight):\n",
    "        n = len(profit)\n",
    "        self.dp = [[0]*(n+1) for i in range(n+1)]\n",
    "        for i in range(1, n+1):\n",
    "            for j in range(1, n+1):\n",
    "                if weight[i-1] <= j:\n",
    "                    self.dp[i][j] = max(self.dp[i-1][j],  profit[i-1] + self.dp[i][j - weight[i-1]])\n",
    "                else:\n",
    "                    self.dp[i][j] = self.dp[i-1][j]\n",
    "        return self.dp[-1][-1]"
   ]
  },
  {
   "cell_type": "code",
   "execution_count": 112,
   "metadata": {},
   "outputs": [
    {
     "data": {
      "text/plain": [
       "22"
      ]
     },
     "execution_count": 112,
     "metadata": {},
     "output_type": "execute_result"
    }
   ],
   "source": [
    "weight = [1,2,3,4, 5, 6, 7, 8]\n",
    "profit = [1,5,8,9,10,17,17,20]\n",
    "obj = Solution()\n",
    "obj.maxProfit(profit, weight)"
   ]
  },
  {
   "cell_type": "markdown",
   "metadata": {},
   "source": [
    "#### 322. Coin Change"
   ]
  },
  {
   "cell_type": "code",
   "execution_count": 2,
   "metadata": {},
   "outputs": [],
   "source": [
    "from typing import List, Optional, Dict"
   ]
  },
  {
   "cell_type": "code",
   "execution_count": 83,
   "metadata": {},
   "outputs": [],
   "source": [
    "class Solution:\n",
    "    \n",
    "    def coinChange(self, coins: List[int], amount: int) -> int:\n",
    "        \n",
    "        dp = {}\n",
    "        \n",
    "        def bfs(amount, item):\n",
    "            if item==0 and amount>=0: return float('inf')-1\n",
    "            if item>0  and amount==0: return 0\n",
    "            if item==1 and amount>0: return amount//coins[item-1] if amount%coins[item-1]==0 else float('inf')-1\n",
    "            if dp.get((item, amount),None) is not None: return dp[(item, amount)]                \n",
    "            if coins[item-1] <= amount:\n",
    "                dp[(item, amount)] =  min(bfs(amount, item-1),  1 + bfs(amount-coins[item-1], item))\n",
    "            else:\n",
    "                dp[(item, amount)] =  bfs(amount, item-1)\n",
    "            return dp[(item, amount)] \n",
    "            \n",
    "        res = bfs(amount, len(coins))\n",
    "        return -1 if res == float('inf') else res "
   ]
  },
  {
   "cell_type": "code",
   "execution_count": 84,
   "metadata": {},
   "outputs": [],
   "source": [
    "######################\n",
    "# Alternate approach #\n",
    "######################\n",
    "\n",
    "class Solution:\n",
    "    def coinChange(self, coins: List[int], amount: int) -> int:\n",
    "        \n",
    "        def dfs(n):\n",
    "            if n == 0: return 0\n",
    "            if n < 0: return float('inf')\n",
    "            return min([1 + dfs(n - c) for c in coins])\n",
    "        \n",
    "        result = dfs(amount)\n",
    "            \n",
    "        return result if result < float('inf') else -1"
   ]
  },
  {
   "cell_type": "code",
   "execution_count": 85,
   "metadata": {},
   "outputs": [
    {
     "data": {
      "text/plain": [
       "4"
      ]
     },
     "execution_count": 85,
     "metadata": {},
     "output_type": "execute_result"
    }
   ],
   "source": [
    "coins = [1,2,5]; amount = 11\n",
    "coins = [2]; amount = 3\n",
    "coins = [1]; amount = 0\n",
    "coins = [2,5,10,1]; amount = 27\n",
    "Solution().coinChange(coins, amount)"
   ]
  },
  {
   "cell_type": "code",
   "execution_count": 86,
   "metadata": {},
   "outputs": [],
   "source": [
    "class Solution():\n",
    "    \n",
    "    def coinChange(self, coins: List[int], amount: int) -> int:\n",
    "        n = len(coins)\n",
    "        dp = [[None]*(amount+1) for i in range(n+1)]\n",
    "        for i in range(amount+1):\n",
    "            dp[0][i] = float('inf')-1\n",
    "            if i%coins[0]==0:\n",
    "                dp[1][i] = i//coins[0]\n",
    "            else:\n",
    "                dp[1][i] = float('inf')-1\n",
    "        for i in range(1, n+1):\n",
    "            dp[i][0] = 0\n",
    "            \n",
    "        for i in range(2,n+1):\n",
    "            for j in range(1, amount+1):\n",
    "                if coins[i-1] <= j:\n",
    "                    dp[i][j] = min(dp[i-1][j], 1 + dp[i][j - coins[i-1]])\n",
    "                else:\n",
    "                    dp[i][j] = dp[i-1][j]\n",
    "        return -1 if dp[-1][-1] == float('inf') else dp[-1][-1]\n",
    "        "
   ]
  },
  {
   "cell_type": "code",
   "execution_count": 87,
   "metadata": {},
   "outputs": [
    {
     "data": {
      "text/plain": [
       "4"
      ]
     },
     "execution_count": 87,
     "metadata": {},
     "output_type": "execute_result"
    }
   ],
   "source": [
    "coins = [1,2,5]; amount = 11\n",
    "coins = [2]; amount = 3\n",
    "coins = [1]; amount = 0\n",
    "coins = [2,5,10,1]; amount = 27\n",
    "Solution().coinChange(coins, amount)"
   ]
  },
  {
   "cell_type": "markdown",
   "metadata": {},
   "source": [
    "#### 518. Coin Change II"
   ]
  },
  {
   "cell_type": "code",
   "execution_count": 103,
   "metadata": {},
   "outputs": [],
   "source": [
    "class Solution:\n",
    "    \n",
    "    def change(self, amount: int, coins: List[int]) -> int:\n",
    "        dp = {}\n",
    "        \n",
    "        def bfs(item, amount):\n",
    "            if item==0 and amount>0: return 0\n",
    "            if item>=0 and amount==0: return 1\n",
    "            if dp.get((item, amount), None) is not None: return dp[(item, amount)]\n",
    "            if coins[item - 1] <= amount:\n",
    "                dp[(item, amount)] = bfs(item-1, amount) + bfs(item, amount - coins[item-1])\n",
    "            else:\n",
    "                dp[(item, amount)]  = bfs(item-1, amount)\n",
    "            return dp[(item, amount)]\n",
    "        \n",
    "        return bfs(len(coins), amount), dp\n",
    "        "
   ]
  },
  {
   "cell_type": "code",
   "execution_count": 107,
   "metadata": {},
   "outputs": [],
   "source": [
    "######################\n",
    "# Alternate approach #\n",
    "######################\n",
    "\n",
    "class Solution:\n",
    "    def change(self, amount, coins):        \n",
    "        dp = [1] + [0] * amount        \n",
    "        for i in coins:\n",
    "            for j in range(i, amount + 1):\n",
    "                dp[j] += dp[j - i]\n",
    "        return dp[amount]  "
   ]
  },
  {
   "cell_type": "code",
   "execution_count": 108,
   "metadata": {},
   "outputs": [
    {
     "data": {
      "text/plain": [
       "4"
      ]
     },
     "execution_count": 108,
     "metadata": {},
     "output_type": "execute_result"
    }
   ],
   "source": [
    "amount = 5; coins = [1,2,5]\n",
    "#amount = 3; coins = [2]\n",
    "#amount = 10; coins = [10]\n",
    "Solution().change(amount, coins)"
   ]
  },
  {
   "cell_type": "code",
   "execution_count": null,
   "metadata": {},
   "outputs": [],
   "source": []
  },
  {
   "cell_type": "code",
   "execution_count": null,
   "metadata": {},
   "outputs": [],
   "source": []
  }
 ],
 "metadata": {
  "kernelspec": {
   "display_name": "Python 3.8.8 ('base')",
   "language": "python",
   "name": "python3"
  },
  "language_info": {
   "codemirror_mode": {
    "name": "ipython",
    "version": 3
   },
   "file_extension": ".py",
   "mimetype": "text/x-python",
   "name": "python",
   "nbconvert_exporter": "python",
   "pygments_lexer": "ipython3",
   "version": "3.8.8"
  },
  "orig_nbformat": 4,
  "vscode": {
   "interpreter": {
    "hash": "ad2bdc8ecc057115af97d19610ffacc2b4e99fae6737bb82f5d7fb13d2f2c186"
   }
  }
 },
 "nbformat": 4,
 "nbformat_minor": 2
}
