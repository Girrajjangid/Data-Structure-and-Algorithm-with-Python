{
 "cells": [
  {
   "cell_type": "markdown",
   "metadata": {},
   "source": [
    "#### Travelling Salesman Problem:\n",
    "\n",
    "We have given directed weighted graph. We have to traverse through all vertices and return back to\n",
    "source vertex at minimum cost.\n",
    "\n",
    "<img src=\"assets/4.png\">"
   ]
  },
  {
   "cell_type": "code",
   "execution_count": 113,
   "metadata": {},
   "outputs": [],
   "source": [
    "class TSP:\n",
    "    \n",
    "    def __init__(self):\n",
    "        self.adj_mat = None    \n",
    "        self.d = {}\n",
    "        \n",
    "    def recursion(self, visited, remain):\n",
    "        if not remain: return self.adj_mat[visited][0]\n",
    "        min_ = float('inf')\n",
    "            \n",
    "        for idx, r in enumerate(remain):\n",
    "            if self.d.get((r,  remain[:idx]+remain[idx+1:]), None) is not None:\n",
    "                temp = self.d[(r,  remain[:idx]+remain[idx+1:])]\n",
    "            else:\n",
    "                temp = self.recursion(r,  remain[:idx]+remain[idx+1:])\n",
    "                self.d[(r, (remain[:idx] + remain[idx+1:]))] = temp\n",
    "            x  = self.adj_mat[visited][r] + temp\n",
    "            if x < min_: \n",
    "                min_ = x\n",
    "        return min_\n",
    "    \n",
    "    def minCost(self, adj_mat):\n",
    "        self.V  = len(adj_mat)\n",
    "        self.adj_mat = adj_mat\n",
    "        \n",
    "        return self.recursion(0, (1,2,3))    "
   ]
  },
  {
   "cell_type": "code",
   "execution_count": 116,
   "metadata": {},
   "outputs": [
    {
     "name": "stdout",
     "output_type": "stream",
     "text": [
      "Minimum cost:  35\n"
     ]
    },
    {
     "data": {
      "text/plain": [
       "{(3, ()): 8,\n",
       " (2, (3,)): 20,\n",
       " (2, ()): 6,\n",
       " (3, (2,)): 15,\n",
       " (1, (2, 3)): 25,\n",
       " (1, (3,)): 18,\n",
       " (1, ()): 5,\n",
       " (3, (1,)): 13,\n",
       " (2, (1, 3)): 25,\n",
       " (1, (2,)): 15,\n",
       " (2, (1,)): 18,\n",
       " (3, (1, 2)): 23}"
      ]
     },
     "execution_count": 116,
     "metadata": {},
     "output_type": "execute_result"
    }
   ],
   "source": [
    "adj_mat = [[0,10,15,20],\n",
    "           [5, 0, 9,10],\n",
    "           [6,13, 0,12],\n",
    "           [8, 8, 9, 0]]\n",
    "obj = TSP()\n",
    "print(\"Minimum cost: \", obj.minCost(adj_mat))\n",
    "obj.d"
   ]
  },
  {
   "cell_type": "code",
   "execution_count": 118,
   "metadata": {},
   "outputs": [
    {
     "name": "stdout",
     "output_type": "stream",
     "text": [
      "Minimum cost:  80\n"
     ]
    },
    {
     "data": {
      "text/plain": [
       "{(3, ()): 20,\n",
       " (2, (3,)): 50,\n",
       " (2, ()): 15,\n",
       " (3, (2,)): 45,\n",
       " (1, (2, 3)): 70,\n",
       " (1, (3,)): 45,\n",
       " (1, ()): 10,\n",
       " (3, (1,)): 35,\n",
       " (2, (1, 3)): 65,\n",
       " (1, (2,)): 40,\n",
       " (2, (1,)): 35,\n",
       " (3, (1, 2)): 65}"
      ]
     },
     "execution_count": 118,
     "metadata": {},
     "output_type": "execute_result"
    }
   ],
   "source": [
    "adj_mat = [[0, 10, 15, 20], \n",
    "           [10, 0, 25, 25], \n",
    "           [15, 25, 0, 30], \n",
    "           [20, 25, 30, 0]]\n",
    "obj = TSP()\n",
    "print(\"Minimum cost: \", obj.minCost(adj_mat))\n",
    "obj.d"
   ]
  },
  {
   "cell_type": "code",
   "execution_count": null,
   "metadata": {},
   "outputs": [],
   "source": [
    "# As you can overlapping happening only when set is null. In that case our baseline condition will \n",
    "# execute.\n",
    "\n",
    "# Clear code:\n",
    "\n",
    "class TSP:\n",
    "    \n",
    "    def __init__(self):\n",
    "        self.cost = None\n",
    "        \n",
    "    def recursion(self, visited, remain):\n",
    "        if not remain: return self.cost[visited][0]    \n",
    "        return min(self.cost[visited][r] + self.recursion(r,  remain[:idx]+remain[idx+1:]) for idx, r in enumerate(remain))\n",
    "    \n",
    "    def minCost(self, adj_mat):\n",
    "        self.cost = adj_mat\n",
    "        return self.recursion(0, [*range(1, len(adj_mat))])"
   ]
  },
  {
   "cell_type": "code",
   "execution_count": null,
   "metadata": {},
   "outputs": [
    {
     "data": {
      "text/plain": [
       "35"
      ]
     },
     "execution_count": 120,
     "metadata": {},
     "output_type": "execute_result"
    }
   ],
   "source": [
    "adj_mat = [[0,10,15,20],\n",
    "           [5, 0, 9,10],\n",
    "           [6,13, 0,12],\n",
    "           [8, 8, 9, 0]]\n",
    "obj = TSP()\n",
    "obj.minCost(adj_mat)"
   ]
  },
  {
   "cell_type": "code",
   "execution_count": null,
   "metadata": {},
   "outputs": [],
   "source": []
  }
 ],
 "metadata": {
  "kernelspec": {
   "display_name": "Python 3.8.8 ('base')",
   "language": "python",
   "name": "python3"
  },
  "language_info": {
   "codemirror_mode": {
    "name": "ipython",
    "version": 3
   },
   "file_extension": ".py",
   "mimetype": "text/x-python",
   "name": "python",
   "nbconvert_exporter": "python",
   "pygments_lexer": "ipython3",
   "version": "3.8.8"
  },
  "orig_nbformat": 4,
  "vscode": {
   "interpreter": {
    "hash": "ad2bdc8ecc057115af97d19610ffacc2b4e99fae6737bb82f5d7fb13d2f2c186"
   }
  }
 },
 "nbformat": 4,
 "nbformat_minor": 2
}
