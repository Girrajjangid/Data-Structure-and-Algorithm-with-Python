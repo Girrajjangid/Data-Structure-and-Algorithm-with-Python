{
 "cells": [
  {
   "cell_type": "code",
   "execution_count": 2,
   "metadata": {},
   "outputs": [],
   "source": [
    "from typing import List, Optional, Dict"
   ]
  },
  {
   "cell_type": "markdown",
   "metadata": {},
   "source": [
    "#### 1. [600.] Non-negative Integers without Consecutive Ones"
   ]
  },
  {
   "cell_type": "code",
   "execution_count": 11,
   "metadata": {},
   "outputs": [],
   "source": [
    "class Solution:\n",
    "    def findIntegers(self, n: int) -> int:\n",
    "        dpZero, dpOne, dp = [0] * 32, [0] * 32, [0] * 32\n",
    "        dpZero[0] = dp[0] = 1\n",
    "        for i in range(1, 32):\n",
    "            dpOne[i] = dpZero[i-1]\n",
    "            dpZero[i] = dpZero[i-1] + dpOne[i-1]\n",
    "            dp[i] = dpZero[i] + dpOne[i]\n",
    "        \n",
    "        ans, lastBit = 0, -1\n",
    "        for k in range(30, -1, -1):\n",
    "            bit = (n >> k) & 1\n",
    "            if bit == 1:\n",
    "                ans += dp[k]\n",
    "                if lastBit == 1: return ans  # Met consecutive ones in the binary representation!\n",
    "            lastBit = bit\n",
    "            \n",
    "        return ans + 1  # Plus with n itself!"
   ]
  },
  {
   "cell_type": "code",
   "execution_count": 12,
   "metadata": {},
   "outputs": [
    {
     "data": {
      "text/plain": [
       "5"
      ]
     },
     "execution_count": 12,
     "metadata": {},
     "output_type": "execute_result"
    }
   ],
   "source": [
    "n = 5\n",
    "Solution().findIntegers(n)"
   ]
  },
  {
   "cell_type": "code",
   "execution_count": null,
   "metadata": {},
   "outputs": [],
   "source": []
  }
 ],
 "metadata": {
  "kernelspec": {
   "display_name": "Python 3.9.13 ('base')",
   "language": "python",
   "name": "python3"
  },
  "language_info": {
   "codemirror_mode": {
    "name": "ipython",
    "version": 3
   },
   "file_extension": ".py",
   "mimetype": "text/x-python",
   "name": "python",
   "nbconvert_exporter": "python",
   "pygments_lexer": "ipython3",
   "version": "3.9.13"
  },
  "orig_nbformat": 4,
  "vscode": {
   "interpreter": {
    "hash": "fecfa28de78ead09ec2989a580469213059448baba5e0b02aeeb7641afb84221"
   }
  }
 },
 "nbformat": 4,
 "nbformat_minor": 2
}
