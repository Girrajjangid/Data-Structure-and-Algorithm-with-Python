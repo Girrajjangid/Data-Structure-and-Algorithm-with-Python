{
 "cells": [
  {
   "cell_type": "code",
   "execution_count": null,
   "metadata": {},
   "outputs": [],
   "source": [
    "from typing import List, Optional, Dict"
   ]
  },
  {
   "cell_type": "markdown",
   "metadata": {},
   "source": [
    "#### 1. [746.] Min Cost Climbing Stairs"
   ]
  },
  {
   "cell_type": "code",
   "execution_count": null,
   "metadata": {},
   "outputs": [],
   "source": [
    "class Solution:\n",
    "    def minCostClimbingStairs(self, cost: List[int]) -> int:\n",
    "        cost = [0] + cost + [0]\n",
    "        dp = {}\n",
    "        def dfs(idx):\n",
    "            if idx<1: return 0\n",
    "            if dp.get(idx,None) is not None: return dp[idx]\n",
    "            dp[idx] = min( cost[idx] + dfs(idx-1), cost[idx] + dfs(idx-2))\n",
    "            return dp[idx]\n",
    "        return dfs(len(cost)-1)"
   ]
  },
  {
   "cell_type": "code",
   "execution_count": null,
   "metadata": {},
   "outputs": [],
   "source": [
    "cost = [10,15,20]\n",
    "cost = [1,100,1,1,1,100,1,1,100,1]\n",
    "Solution().minCostClimbingStairs(cost)"
   ]
  },
  {
   "cell_type": "markdown",
   "metadata": {},
   "source": [
    "#### 2. [119.] Pascal's Triangle II"
   ]
  },
  {
   "cell_type": "code",
   "execution_count": null,
   "metadata": {},
   "outputs": [],
   "source": [
    "class Solution(object):\n",
    "    def getRow(self, rowIndex):\n",
    "        row = [1]\n",
    "        for _ in range(rowIndex):\n",
    "            row = [x + y for x, y in zip([0]+row, row+[0])]\n",
    "        return row"
   ]
  },
  {
   "cell_type": "code",
   "execution_count": null,
   "metadata": {},
   "outputs": [],
   "source": [
    "rowIndex = 5\n",
    "Solution().getRow(rowIndex)"
   ]
  },
  {
   "cell_type": "markdown",
   "metadata": {},
   "source": [
    "#### 3. [1646.] Get Maximum in Generated Array"
   ]
  },
  {
   "cell_type": "code",
   "execution_count": null,
   "metadata": {},
   "outputs": [],
   "source": [
    "class Solution:\n",
    "    def getMaximumGenerated(self, n: int) -> int:\n",
    "        if not n: return 0\n",
    "        nums = [0,1]\n",
    "        for i in range(2,n+1):\n",
    "            if i%2==0:\n",
    "                nums.append(nums[i//2])\n",
    "            else:\n",
    "                nums.append(nums[i//2] + nums[i//2 + 1])\n",
    "        return max(nums)"
   ]
  },
  {
   "cell_type": "code",
   "execution_count": null,
   "metadata": {},
   "outputs": [],
   "source": [
    "class Solution:\n",
    "    def getMaximumGenerated(self, n):\n",
    "        nums = [0]*(n+2)\n",
    "        nums[1] = 1\n",
    "        for i in range(2, n+1):\n",
    "            nums[i] = nums[i//2] + nums[(i//2)+1] * (i%2)\n",
    "        return max(nums[:n+1])"
   ]
  },
  {
   "cell_type": "code",
   "execution_count": null,
   "metadata": {},
   "outputs": [],
   "source": [
    "n = 5\n",
    "Solution().getMaximumGenerated(n)"
   ]
  },
  {
   "cell_type": "code",
   "execution_count": null,
   "metadata": {},
   "outputs": [],
   "source": []
  },
  {
   "cell_type": "code",
   "execution_count": null,
   "metadata": {},
   "outputs": [],
   "source": [
    "import os\n",
    "os.getcwd()"
   ]
  },
  {
   "cell_type": "code",
   "execution_count": null,
   "metadata": {},
   "outputs": [],
   "source": [
    "import csv\n",
    "import PyPDF2\n",
    "\n",
    "# Open the PDF file\n"
   ]
  },
  {
   "cell_type": "code",
   "execution_count": null,
   "metadata": {},
   "outputs": [],
   "source": [
    "pdf_file = open(\"RNW 3Q'23 Earnings_vF.pdf\", 'rb')\n",
    "\n",
    "\n",
    "\"RNW 3Q'23 Earnings_vF.pdf\"\n",
    "\n",
    "\n",
    "\"Rehire-Policy-_-Final-draft\""
   ]
  },
  {
   "cell_type": "code",
   "execution_count": null,
   "metadata": {},
   "outputs": [],
   "source": [
    "import csv\n",
    "from pdfminer.high_level import extract_text\n",
    "\n",
    "# Extract the text from the PDF file\n",
    "text = extract_text('Rehire-Policy-_-Final-draft.pdf')\n",
    "\n",
    "# Create a CSV file to write the extracted text\n",
    "csv_file = open('example.csv', 'w', newline='')\n",
    "csv_writer = csv.writer(csv_file)\n",
    "\n",
    "# Write the text to the CSV file\n",
    "csv_writer.writerow([text])\n",
    "\n",
    "# Close the CSV file\n",
    "csv_file.close()\n"
   ]
  },
  {
   "cell_type": "code",
   "execution_count": null,
   "metadata": {},
   "outputs": [],
   "source": [
    "print(text)"
   ]
  },
  {
   "cell_type": "code",
   "execution_count": null,
   "metadata": {},
   "outputs": [],
   "source": [
    "import openpyxl\n",
    "from pdfminer.high_level import extract_pages, extract_text\n",
    "\n",
    "# Create an Excel workbook\n",
    "workbook = openpyxl.Workbook()\n",
    "\n",
    "# Extract the pages from the PDF file and save each page into a separate sheet in the workbook\n",
    "for page_num, page_layout in enumerate(extract_pages(\"RNW 3Q'23 Earnings_vF.pdf\"), start=1):\n",
    "    # Create a new sheet in the workbook\n",
    "    sheet_name = f'Page {page_num}'\n",
    "    worksheet = workbook.create_sheet(sheet_name)\n",
    "\n",
    "    # Extract the text from the page layout\n",
    "    text = extract_text(page_layout)\n",
    "\n",
    "    # Split the text into lines and write each line to a row in the sheet\n",
    "    lines = text.split('\\n')\n",
    "    for row_num, line in enumerate(lines, start=1):\n",
    "        worksheet.cell(row=row_num, column=1, value=line)\n",
    "\n",
    "# Save the workbook\n",
    "workbook.save('Renew-Power-Prospectus.xlsx')\n"
   ]
  },
  {
   "cell_type": "code",
   "execution_count": null,
   "metadata": {},
   "outputs": [],
   "source": [
    "text = extract_text(page_layout)"
   ]
  },
  {
   "cell_type": "code",
   "execution_count": null,
   "metadata": {},
   "outputs": [],
   "source": [
    "page_layout"
   ]
  },
  {
   "cell_type": "code",
   "execution_count": null,
   "metadata": {},
   "outputs": [],
   "source": [
    "\n",
    "\n",
    "\n",
    "# Create a CSV file to write the extracted text\n",
    "csv_file = open('example.csv', 'w', newline='')\n",
    "csv_writer = csv.writer(csv_file)\n",
    "\n",
    "# Loop through each page in the PDF file\n",
    "for page_num in range(num_pages):\n",
    "    # Get the page object\n",
    "    page = pdf_reader.getPage(page_num)\n",
    "\n",
    "    # Extract the text from the page\n",
    "    text = page.extractText()\n",
    "\n",
    "    # Write the text to the CSV file\n",
    "    csv_writer.writerow([text])\n",
    "\n",
    "# Close the CSV file and PDF file\n",
    "csv_file.close()\n",
    "pdf_file.close()"
   ]
  },
  {
   "cell_type": "code",
   "execution_count": null,
   "metadata": {},
   "outputs": [],
   "source": []
  },
  {
   "cell_type": "code",
   "execution_count": null,
   "metadata": {},
   "outputs": [],
   "source": []
  }
 ],
 "metadata": {
  "kernelspec": {
   "display_name": "Python 3.9.13 ('base')",
   "language": "python",
   "name": "python3"
  },
  "language_info": {
   "codemirror_mode": {
    "name": "ipython",
    "version": 3
   },
   "file_extension": ".py",
   "mimetype": "text/x-python",
   "name": "python",
   "nbconvert_exporter": "python",
   "pygments_lexer": "ipython3",
   "version": "3.9.13"
  },
  "orig_nbformat": 4,
  "vscode": {
   "interpreter": {
    "hash": "fecfa28de78ead09ec2989a580469213059448baba5e0b02aeeb7641afb84221"
   }
  }
 },
 "nbformat": 4,
 "nbformat_minor": 2
}
