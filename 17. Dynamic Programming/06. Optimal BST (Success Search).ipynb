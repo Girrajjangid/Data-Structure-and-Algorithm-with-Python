{
 "cells": [
  {
   "cell_type": "markdown",
   "metadata": {},
   "source": [
    "#### Optimal BST:\n",
    "Problem Statement: Find the best optimal BST when we have given the frequencey of search."
   ]
  },
  {
   "cell_type": "code",
   "execution_count": 1,
   "metadata": {},
   "outputs": [],
   "source": [
    "class TreeNode:\n",
    "    \n",
    "    def __init__(self, val=0, left=None, right=None):\n",
    "        self.val = val\n",
    "        self.left = left\n",
    "        self.right = right\n",
    "        \n",
    "    \n",
    "    \n",
    "class OptimalBST:\n",
    "    \n",
    "    def __init__(self):\n",
    "        self.root = None\n",
    "    \n",
    "    def buildCostMetrix(self, arr, freq):\n",
    "        self.arr  = arr\n",
    "        self.keys = len(self.arr)+1\n",
    "        self.freq = freq\n",
    "        self.cost = [[0]*(self.keys) for i in range(self.keys)]\n",
    "        self.rootarr = [[0]*(self.keys) for i in range(self.keys)]\n",
    "        \n",
    "        for i in range(1, self.keys):\n",
    "            for j in range(self.keys-i):\n",
    "                min_ = float('inf')\n",
    "                for k in range(j, i+j):\n",
    "                    if (self.cost[j][k] + self.cost[k+1][i+j]) < min_:\n",
    "                        min_ = self.cost[j][k] + self.cost[k+1][i+j]\n",
    "                        self.rootarr[j][i+j] = k+1\n",
    "                self.cost[j][i+j] = min_ + sum(self.freq[j:i+j])\n",
    "        \n",
    "        # Building and printing tree\n",
    "        self.root = self.buildTree(self.root, 0, self.keys-1)\n",
    "        print(\"Inorder: \", self.levelOrder(self.root))\n",
    "              \n",
    "              \n",
    "    def buildTree(self, root, i, j):\n",
    "        if i==j: return None\n",
    "        idx = self.rootarr[i][j]\n",
    "        if root is None:\n",
    "            root  = TreeNode(self.arr[idx-1])\n",
    "        root.left  = self.buildTree(root.left, i, idx-1) \n",
    "        root.right = self.buildTree(root.right, idx, j)\n",
    "        return root\n",
    "        \n",
    "    def levelOrder(self, root=None):\n",
    "        root = self.root if root is None else root\n",
    "        stack = [root]\n",
    "        res = []\n",
    "        while root or stack:\n",
    "            root = stack.pop(0)\n",
    "            if root is None:\n",
    "                res.append(None)\n",
    "                continue\n",
    "            res.append(root.val)\n",
    "            if root.left:\n",
    "                stack.append(root.left)\n",
    "            else:\n",
    "                stack.append(None)\n",
    "            if root.right:\n",
    "                stack.append(root.right)\n",
    "            else:\n",
    "                stack.append(None)\n",
    "        return res"
   ]
  },
  {
   "cell_type": "code",
   "execution_count": 2,
   "metadata": {},
   "outputs": [
    {
     "name": "stdout",
     "output_type": "stream",
     "text": [
      "Inorder:  [30, 10, 40, None, 20, None, None, None, None]\n"
     ]
    }
   ],
   "source": [
    "arr  = [10,20,30,40]\n",
    "freq = [4,2,6,3]\n",
    "obj = OptimalBST()\n",
    "obj.buildCostMetrix(arr, freq)"
   ]
  },
  {
   "cell_type": "code",
   "execution_count": null,
   "metadata": {},
   "outputs": [],
   "source": []
  },
  {
   "cell_type": "code",
   "execution_count": null,
   "metadata": {},
   "outputs": [],
   "source": []
  }
 ],
 "metadata": {
  "kernelspec": {
   "display_name": "Python 3.8.8 ('base')",
   "language": "python",
   "name": "python3"
  },
  "language_info": {
   "codemirror_mode": {
    "name": "ipython",
    "version": 3
   },
   "file_extension": ".py",
   "mimetype": "text/x-python",
   "name": "python",
   "nbconvert_exporter": "python",
   "pygments_lexer": "ipython3",
   "version": "3.8.8"
  },
  "orig_nbformat": 4,
  "vscode": {
   "interpreter": {
    "hash": "ad2bdc8ecc057115af97d19610ffacc2b4e99fae6737bb82f5d7fb13d2f2c186"
   }
  }
 },
 "nbformat": 4,
 "nbformat_minor": 2
}
