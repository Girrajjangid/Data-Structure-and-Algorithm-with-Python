{
 "cells": [
  {
   "cell_type": "markdown",
   "metadata": {},
   "source": [
    "<img src=\"assets/3.png\">"
   ]
  },
  {
   "cell_type": "markdown",
   "metadata": {},
   "source": [
    "#### BellMan-Ford:\n",
    "Used to find `Single Source Sortest path` distance to all vertexs.\n",
    "\n",
    "- Problem Statement: Find the sortest path from source to sink. Similar to dijkstra but dijkstra will not work when\n",
    "weights are negative. It will work\n",
    "\n",
    "- If there is cycle in graph and its cummulative sum is `negative,` then it will not work.\n",
    "\n",
    "- Steps:\n",
    "1. Traverse on all edges to N-1 times.\n",
    "2. At each time perform vertex relaxation."
   ]
  },
  {
   "cell_type": "code",
   "execution_count": 4,
   "metadata": {},
   "outputs": [],
   "source": [
    "class BellMan:\n",
    "    \n",
    "    def printSolution(self):\n",
    "        print(\"Vertex \\t Distance from Source\")\n",
    "        for node in range(self.V):\n",
    "            print(node+1, \"\\t\\t\", self.dist[node])\n",
    "            \n",
    "    def sortestPath(self, adj_mat, edges, source):\n",
    "        self.V     = len(adj_mat)\n",
    "        self.edges = edges\n",
    "        self.dist  = [float('inf')]*self.V\n",
    "        self.dist[source] = 0\n",
    "        self.adj_mat      = adj_mat\n",
    "        for i in range(self.V-1):\n",
    "            for f,t in self.edges:\n",
    "                if self.dist[f-1] + self.adj_mat[f-1][t-1] < self.dist[t-1]:\n",
    "                    self.dist[t-1] = self.dist[f-1] + self.adj_mat[f-1][t-1]\n",
    "        self.printSolution()\n",
    "         "
   ]
  },
  {
   "cell_type": "code",
   "execution_count": 5,
   "metadata": {},
   "outputs": [
    {
     "name": "stdout",
     "output_type": "stream",
     "text": [
      "Vertex \t Distance from Source\n",
      "1 \t\t 0\n",
      "2 \t\t 2\n",
      "3 \t\t 3\n",
      "4 \t\t 9\n",
      "5 \t\t 6\n",
      "6 \t\t 10\n"
     ]
    }
   ],
   "source": [
    "adj_mat = [[0,2,4,0,0,0],\n",
    "           [0,0,1,7,0,0],\n",
    "           [0,0,0,0,3,0],\n",
    "           [0,0,0,0,2,1],\n",
    "           [0,0,0,0,0,5],\n",
    "           [0,0,0,0,0,0]]\n",
    "edges = [(1,2),(1,3),(2,4),(2,3),(3,5),(4,5),(4,6),(5,6)]\n",
    "source = 0\n",
    "BellMan().sortestPath(adj_mat, edges, source)"
   ]
  },
  {
   "cell_type": "code",
   "execution_count": null,
   "metadata": {},
   "outputs": [],
   "source": []
  }
 ],
 "metadata": {
  "kernelspec": {
   "display_name": "Python 3.8.8 ('base')",
   "language": "python",
   "name": "python3"
  },
  "language_info": {
   "codemirror_mode": {
    "name": "ipython",
    "version": 3
   },
   "file_extension": ".py",
   "mimetype": "text/x-python",
   "name": "python",
   "nbconvert_exporter": "python",
   "pygments_lexer": "ipython3",
   "version": "3.8.8"
  },
  "orig_nbformat": 4,
  "vscode": {
   "interpreter": {
    "hash": "ad2bdc8ecc057115af97d19610ffacc2b4e99fae6737bb82f5d7fb13d2f2c186"
   }
  }
 },
 "nbformat": 4,
 "nbformat_minor": 2
}
