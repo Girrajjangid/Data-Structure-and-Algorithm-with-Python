{
 "cells": [
  {
   "cell_type": "markdown",
   "metadata": {},
   "source": [
    "#### MultiStage Graph:\n",
    "A multistage graph is a directed and weighted graph where vertices are divided into stages such that edges are connected from one stage to next stage only."
   ]
  },
  {
   "cell_type": "markdown",
   "metadata": {},
   "source": [
    "<img src=\"assets/1.png\">"
   ]
  },
  {
   "cell_type": "code",
   "execution_count": 107,
   "metadata": {},
   "outputs": [],
   "source": [
    "class Graph:\n",
    "    \n",
    "    def shortestPathSourceToSink(self, adj_mat):\n",
    "        self.adj_mat = adj_mat\n",
    "        self.V = len(adj_mat)\n",
    "        self.cost = [float('inf')]*self.V\n",
    "        self.cost[-1] = 0\n",
    "        self.path = [None]*self.V\n",
    "        self.path[-1] = self.V\n",
    "        \n",
    "        for i in range(self.V-2,-1,-1):\n",
    "            min_ = float('inf')\n",
    "            for j in range(i, self.V):\n",
    "                if (self.adj_mat[i][j]!=0) and  (self.adj_mat[i][j] + self.cost[j] < min_):\n",
    "                    min_ = self.adj_mat[i][j] + self.cost[j]\n",
    "                    self.path[i] = j+1\n",
    "            self.cost[i] = min_\n",
    "        return self.cost[0]\n",
    "    \n",
    "    \n",
    "    def printPath(self):\n",
    "        i = 0\n",
    "        print(i+1,end=' -> ')\n",
    "        while True:\n",
    "            temp = self.path[i]\n",
    "            print(temp,end=' -> ')\n",
    "            if temp == self.V: break\n",
    "            i = temp\n",
    "            "
   ]
  },
  {
   "cell_type": "code",
   "execution_count": 108,
   "metadata": {},
   "outputs": [
    {
     "data": {
      "text/plain": [
       "16"
      ]
     },
     "execution_count": 108,
     "metadata": {},
     "output_type": "execute_result"
    }
   ],
   "source": [
    "adj_mat = [[0,9,7,3,2,0,0, 0,0,0,0,0],\n",
    "           [0,0,0,0,0,4,2, 1,0,0,0,0],\n",
    "           [0,0,0,0,0,2,7, 0,0,0,0,0],\n",
    "           [0,0,0,0,0,0,0,11,0,0,0,0],\n",
    "           [0,0,0,0,0,0,11,8,0,0,0,0],\n",
    "           [0,0,0,0,0,0,0,0, 6,5,0,0],\n",
    "           [0,0,0,0,0,0,0,0, 4,3,0,0],\n",
    "           [0,0,0,0,0,0,0,0, 0,5,6,0],\n",
    "           [0,0,0,0,0,0,0,0,0,0,0,4],\n",
    "           [0,0,0,0,0,0,0,0,0,0,0,2],\n",
    "           [0,0,0,0,0,0,0,0,0,0,0,5],\n",
    "           [0,0,0,0,0,0,0,0,0,0,0,0]]\n",
    "obj = Graph()\n",
    "obj.shortestPathSourceToSink(adj_mat)"
   ]
  },
  {
   "cell_type": "code",
   "execution_count": 109,
   "metadata": {},
   "outputs": [
    {
     "name": "stdout",
     "output_type": "stream",
     "text": [
      "1 -> 2 -> 6 -> 10 -> 12 -> "
     ]
    }
   ],
   "source": [
    "obj.printPath()"
   ]
  },
  {
   "cell_type": "code",
   "execution_count": null,
   "metadata": {},
   "outputs": [],
   "source": []
  }
 ],
 "metadata": {
  "kernelspec": {
   "display_name": "Python 3.8.8 ('base')",
   "language": "python",
   "name": "python3"
  },
  "language_info": {
   "codemirror_mode": {
    "name": "ipython",
    "version": 3
   },
   "file_extension": ".py",
   "mimetype": "text/x-python",
   "name": "python",
   "nbconvert_exporter": "python",
   "pygments_lexer": "ipython3",
   "version": "3.8.8"
  },
  "orig_nbformat": 4,
  "vscode": {
   "interpreter": {
    "hash": "ad2bdc8ecc057115af97d19610ffacc2b4e99fae6737bb82f5d7fb13d2f2c186"
   }
  }
 },
 "nbformat": 4,
 "nbformat_minor": 2
}
