{
 "cells": [
  {
   "cell_type": "markdown",
   "metadata": {},
   "source": [
    "#### Matrix-Chain multiplication\n",
    "\n",
    "Task is to How to multiply chain of matrixes so that we need to perform minimum multiplications."
   ]
  },
  {
   "cell_type": "code",
   "execution_count": 160,
   "metadata": {},
   "outputs": [],
   "source": [
    "# Using Recursive\n",
    "# T(N): O(N^3)\n",
    "# S(N) :O(N^2)\n",
    "\n",
    "class Matrix:\n",
    "    \n",
    "    def __init__(self):\n",
    "        self.cost = None\n",
    "        self.dim = None\n",
    "    \n",
    "    def recursiveCost(self, i,j):\n",
    "        if i==j: return 0\n",
    "        if self.dp[i][j]: return self.dp[i][j]\n",
    "        min_ = float('inf')\n",
    "        for k in range(i,j):\n",
    "            x = self.recursiveCost(i,k) + self.recursiveCost(k+1,j) + self.dim[i-1] * self.dim[k] * self.dim[j]\n",
    "            if x < min_:\n",
    "                min_ = x\n",
    "        self.dp[i][j] = min_\n",
    "        return self.dp[i][j]\n",
    "    \n",
    "    def minCostOrder(self, dim):\n",
    "        mat_count = len(dim)-1\n",
    "        self.dim = dim\n",
    "        self.cost  = [[None]*(mat_count+1) for i in range(mat_count+1)]\n",
    "        self.dp    = [[None]*(mat_count+1) for i in range(mat_count+1)]\n",
    "        return self.recursiveCost(1, mat_count)"
   ]
  },
  {
   "cell_type": "code",
   "execution_count": 161,
   "metadata": {},
   "outputs": [
    {
     "data": {
      "text/plain": [
       "158"
      ]
     },
     "execution_count": 161,
     "metadata": {},
     "output_type": "execute_result"
    }
   ],
   "source": [
    "# Let dimension of matrix present in this manner\n",
    "# There are three matrixes available\n",
    "#   A1   A2    A3\n",
    "# 10x20 20x30 30x40\n",
    "dimension = [10,20,30,40]\n",
    "dimension = [5,4,6,2,7]\n",
    "Matrix().minCostOrder(dimension)"
   ]
  },
  {
   "cell_type": "code",
   "execution_count": 165,
   "metadata": {},
   "outputs": [],
   "source": [
    "# Using Recursive\n",
    "# T(N): O(N^3)\n",
    "# S(N) :O(N^2)\n",
    "\n",
    "class Matrix:\n",
    "    \n",
    "    def __init__(self):\n",
    "        self.cost  = None\n",
    "        self.dim   = None\n",
    "        self.track = None\n",
    "\n",
    "    def minCostOrder(self, dim):\n",
    "        mat_count  = len(dim)-1\n",
    "        self.dim   = dim\n",
    "        self.cost  = [[None]*(mat_count) for i in range(mat_count)]\n",
    "        self.track = [[None]*(mat_count) for i in range(mat_count)]\n",
    "        for i in range(mat_count):\n",
    "            for j in range(mat_count-i):\n",
    "                min_ = float('inf')\n",
    "                if j == i+j:\n",
    "                    self.cost[j][i+j] = 0\n",
    "                    continue\n",
    "                else:\n",
    "                    for k in range(j, i+j):\n",
    "                        x = self.cost[j][k] + self.cost[k+1][i+j] + (self.dim[j]*self.dim[k+1]*self.dim[i+j+1])\n",
    "                        if x < min_:\n",
    "                            min_ = x\n",
    "                            self.track[j][i+j] = k\n",
    "                self.cost[j][i+j] = min_\n",
    "        return self.cost[0][mat_count-1]"
   ]
  },
  {
   "cell_type": "code",
   "execution_count": 166,
   "metadata": {},
   "outputs": [
    {
     "data": {
      "text/plain": [
       "158"
      ]
     },
     "execution_count": 166,
     "metadata": {},
     "output_type": "execute_result"
    }
   ],
   "source": [
    "# Let dimension of matrix present in this manner\n",
    "# There are three matrixes available\n",
    "#   A0   A1    A2\n",
    "# 10x20 20x30 30x40\n",
    "dimension = [10,20,30,40]\n",
    "dimension = [5,4,6,2,7]\n",
    "#dimension = [1,2,3]\n",
    "obj = Matrix()\n",
    "obj.minCostOrder(dimension)"
   ]
  },
  {
   "cell_type": "code",
   "execution_count": 171,
   "metadata": {},
   "outputs": [
    {
     "data": {
      "text/plain": [
       "[[0, 120, 88, 158],\n",
       " [None, 0, 48, 104],\n",
       " [None, None, 0, 84],\n",
       " [None, None, None, 0]]"
      ]
     },
     "execution_count": 171,
     "metadata": {},
     "output_type": "execute_result"
    }
   ],
   "source": [
    "obj.cost"
   ]
  },
  {
   "cell_type": "code",
   "execution_count": 172,
   "metadata": {},
   "outputs": [
    {
     "data": {
      "text/plain": [
       "[[None, 0, 0, 2],\n",
       " [None, None, 1, 2],\n",
       " [None, None, None, 2],\n",
       " [None, None, None, None]]"
      ]
     },
     "execution_count": 172,
     "metadata": {},
     "output_type": "execute_result"
    }
   ],
   "source": [
    "obj.track"
   ]
  },
  {
   "cell_type": "code",
   "execution_count": null,
   "metadata": {},
   "outputs": [],
   "source": []
  }
 ],
 "metadata": {
  "kernelspec": {
   "display_name": "Python 3.8.8 ('base')",
   "language": "python",
   "name": "python3"
  },
  "language_info": {
   "codemirror_mode": {
    "name": "ipython",
    "version": 3
   },
   "file_extension": ".py",
   "mimetype": "text/x-python",
   "name": "python",
   "nbconvert_exporter": "python",
   "pygments_lexer": "ipython3",
   "version": "3.8.8"
  },
  "orig_nbformat": 4,
  "vscode": {
   "interpreter": {
    "hash": "ad2bdc8ecc057115af97d19610ffacc2b4e99fae6737bb82f5d7fb13d2f2c186"
   }
  }
 },
 "nbformat": 4,
 "nbformat_minor": 2
}
