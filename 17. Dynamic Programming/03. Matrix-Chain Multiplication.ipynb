{
 "cells": [
  {
   "cell_type": "markdown",
   "metadata": {},
   "source": [
    "#### Matrix-Chain multiplication\n",
    "\n",
    "Task is to How to multiply chain of matrixes so that we need to perform minimum multiplications."
   ]
  },
  {
   "cell_type": "code",
   "execution_count": 1,
   "metadata": {},
   "outputs": [],
   "source": [
    "# Using Recursive\n",
    "# T(N): O(N^3)\n",
    "# S(N) :O(N^2)\n",
    "\n",
    "class Matrix:\n",
    "        \n",
    "    def recursiveCost(self, i,j):\n",
    "        if i==j: return 0\n",
    "        if self.dp[i][j]: return self.dp[i][j]\n",
    "        min_ = float('inf')\n",
    "        for k in range(i,j):\n",
    "            x = self.recursiveCost(i,k) + self.recursiveCost(k+1,j) + self.dim[i-1] * self.dim[k] * self.dim[j]\n",
    "            if x < min_:\n",
    "                min_ = x\n",
    "        self.dp[i][j] = min_\n",
    "        return self.dp[i][j]\n",
    "    \n",
    "    def minCostOrder(self, dim):\n",
    "        mat_count = len(dim)-1\n",
    "        self.dim = dim\n",
    "        self.dp    = [[None]*(mat_count+1) for i in range(mat_count+1)]\n",
    "        return self.recursiveCost(1, mat_count)"
   ]
  },
  {
   "cell_type": "code",
   "execution_count": 3,
   "metadata": {},
   "outputs": [
    {
     "data": {
      "text/plain": [
       "158"
      ]
     },
     "execution_count": 3,
     "metadata": {},
     "output_type": "execute_result"
    }
   ],
   "source": [
    "# Let dimension of matrix present in this manner\n",
    "# There are three matrixes available\n",
    "#   A1   A2    A3\n",
    "# 10x20 20x30 30x40\n",
    "dimension = [10,20,30,40]\n",
    "dimension = [5,4,6,2,7]\n",
    "Matrix().minCostOrder(dimension)"
   ]
  },
  {
   "cell_type": "code",
   "execution_count": 4,
   "metadata": {},
   "outputs": [],
   "source": [
    "# Using Iterative\n",
    "# T(N): O(N^3)\n",
    "# S(N) :O(N^2)\n",
    "\n",
    "class Matrix:\n",
    "    \n",
    "    def __init__(self):\n",
    "        self.cost  = None\n",
    "        self.dim   = None\n",
    "        self.track = None\n",
    "\n",
    "    def minCostOrder(self, dim):\n",
    "        mat_count  = len(dim)-1\n",
    "        self.dim   = dim\n",
    "        self.cost  = [[None]*(mat_count) for i in range(mat_count)]\n",
    "        self.track = [[None]*(mat_count) for i in range(mat_count)]\n",
    "        for i in range(mat_count):\n",
    "            for j in range(mat_count-i):\n",
    "                min_ = float('inf')\n",
    "                if j == i+j:\n",
    "                    self.cost[j][i+j] = 0\n",
    "                    continue\n",
    "                else:\n",
    "                    for k in range(j, i+j):\n",
    "                        x = self.cost[j][k] + self.cost[k+1][i+j] + (self.dim[j]*self.dim[k+1]*self.dim[i+j+1])\n",
    "                        if x < min_:\n",
    "                            min_ = x\n",
    "                            self.track[j][i+j] = k\n",
    "                self.cost[j][i+j] = min_\n",
    "        return self.cost[0][mat_count-1]"
   ]
  },
  {
   "cell_type": "code",
   "execution_count": 5,
   "metadata": {},
   "outputs": [
    {
     "data": {
      "text/plain": [
       "158"
      ]
     },
     "execution_count": 5,
     "metadata": {},
     "output_type": "execute_result"
    }
   ],
   "source": [
    "# Let dimension of matrix present in this manner\n",
    "# There are three matrixes available\n",
    "#   A0   A1    A2\n",
    "# 10x20 20x30 30x40\n",
    "dimension = [10,20,30,40]\n",
    "dimension = [5,4,6,2,7]\n",
    "#dimension = [1,2,3]\n",
    "obj = Matrix()\n",
    "obj.minCostOrder(dimension)"
   ]
  },
  {
   "cell_type": "code",
   "execution_count": 6,
   "metadata": {},
   "outputs": [
    {
     "data": {
      "text/plain": [
       "[[0, 120, 88, 158],\n",
       " [None, 0, 48, 104],\n",
       " [None, None, 0, 84],\n",
       " [None, None, None, 0]]"
      ]
     },
     "execution_count": 6,
     "metadata": {},
     "output_type": "execute_result"
    }
   ],
   "source": [
    "obj.cost"
   ]
  },
  {
   "cell_type": "code",
   "execution_count": 7,
   "metadata": {},
   "outputs": [
    {
     "data": {
      "text/plain": [
       "[[None, 0, 0, 2],\n",
       " [None, None, 1, 2],\n",
       " [None, None, None, 2],\n",
       " [None, None, None, None]]"
      ]
     },
     "execution_count": 7,
     "metadata": {},
     "output_type": "execute_result"
    }
   ],
   "source": [
    "obj.track"
   ]
  },
  {
   "cell_type": "code",
   "execution_count": null,
   "metadata": {},
   "outputs": [],
   "source": []
  },
  {
   "cell_type": "markdown",
   "metadata": {},
   "source": [
    "#### 2. 131. Palindrome Partitioning\n",
    "Given a string `s`, partition `s` such that every substring of the partition is a palindrome. Return all possible palindrome partitioning of s."
   ]
  },
  {
   "cell_type": "code",
   "execution_count": 8,
   "metadata": {},
   "outputs": [],
   "source": [
    "from typing import List, Tuple, Dict, Optional"
   ]
  },
  {
   "cell_type": "code",
   "execution_count": 129,
   "metadata": {},
   "outputs": [],
   "source": [
    "from functools import lru_cache\n",
    "\n",
    "class Solution(object):\n",
    "    \n",
    "    @lru_cache\n",
    "    def partition(self, s):\n",
    "        if not s: return [[]]\n",
    "        ans = []\n",
    "        for i in range(1, len(s) + 1):\n",
    "            if s[:i] == s[:i][::-1]:  # prefix is a palindrome\n",
    "                for suf in self.partition(s[i:]):  # process suffix recursively\n",
    "                    ans.append([s[:i]] + suf)\n",
    "        return ans"
   ]
  },
  {
   "cell_type": "code",
   "execution_count": 130,
   "metadata": {},
   "outputs": [
    {
     "data": {
      "text/plain": [
       "[['a', 'a', 'b'], ['aa', 'b']]"
      ]
     },
     "execution_count": 130,
     "metadata": {},
     "output_type": "execute_result"
    }
   ],
   "source": [
    "s = \"aab\"\n",
    "Solution().partition(s)"
   ]
  },
  {
   "cell_type": "code",
   "execution_count": null,
   "metadata": {},
   "outputs": [],
   "source": []
  },
  {
   "cell_type": "markdown",
   "metadata": {},
   "source": [
    "#### 3. Boolean Parenthesization Problem\n",
    "\n",
    "We have given a string. Return the number of ways by which we can make it True.\n"
   ]
  },
  {
   "cell_type": "code",
   "execution_count": 164,
   "metadata": {},
   "outputs": [],
   "source": [
    "from functools import lru_cache\n",
    "\n",
    "class Solution:\n",
    "    \n",
    "    def boolParenthesis(self, s:str) -> int:\n",
    "        \n",
    "        @lru_cache\n",
    "        def dp(i, j, isTrue):\n",
    "            if i>j: return 0\n",
    "            if i==j: \n",
    "                if isTrue==1:\n",
    "                    return 1 if s[i]=='T' else 0\n",
    "                else:\n",
    "                    return 1 if s[i]=='F' else 0                \n",
    "            \n",
    "            total_operation = 0\n",
    "            for k in range(i+1, j, 2): # K is operator here so passing k-1 as second index\n",
    "                leftTrue  = dp(i, k-1, 1)\n",
    "                leftFalse = dp(i, k-1, 0)\n",
    "                rightTrue = dp(k+1, j, 1)\n",
    "                rightFalse= dp(k+1, j, 0)\n",
    "                \n",
    "                if s[k]=='&':\n",
    "                    if isTrue:\n",
    "                        total_operation += leftTrue * rightTrue\n",
    "                    else:\n",
    "                        total_operation += leftTrue * rightFalse + leftFalse * rightTrue + leftFalse * rightFalse\n",
    "                elif s[k]=='|':\n",
    "                    if isTrue:\n",
    "                        total_operation += leftTrue * rightFalse + leftFalse * rightTrue + leftTrue * rightTrue\n",
    "                    else:\n",
    "                        total_operation += leftFalse * rightFalse\n",
    "                elif s[k]=='^':\n",
    "                    if isTrue:\n",
    "                        total_operation += leftTrue * rightFalse + leftFalse * rightTrue\n",
    "                    else:\n",
    "                        total_operation += leftTrue * rightTrue + leftFalse * rightFalse\n",
    "            return total_operation\n",
    "    \n",
    "        return dp(0, len(s)-1, 1)"
   ]
  },
  {
   "cell_type": "code",
   "execution_count": 165,
   "metadata": {},
   "outputs": [
    {
     "data": {
      "text/plain": [
       "4"
      ]
     },
     "execution_count": 165,
     "metadata": {},
     "output_type": "execute_result"
    }
   ],
   "source": [
    "s = \"T^F&T\"\n",
    "s = \"T|T&F^T\"\n",
    "Solution().boolParenthesis(s)"
   ]
  },
  {
   "cell_type": "code",
   "execution_count": null,
   "metadata": {},
   "outputs": [],
   "source": []
  },
  {
   "cell_type": "markdown",
   "metadata": {},
   "source": [
    "#### 4. Word Scramble"
   ]
  },
  {
   "cell_type": "code",
   "execution_count": null,
   "metadata": {},
   "outputs": [],
   "source": [
    "from functools import lru_cache\n",
    "\n",
    "class Solution:\n",
    "    \n",
    "    def __init__(self):\n",
    "        self.d = {}\n",
    "    \n",
    "    \n",
    "    def isScramble(self, s1: str, s2: str) -> bool:\n",
    "        if s1==s2: return True\n",
    "        if len(s1)<=1: return False\n",
    "        if len(s2)<=1: return False\n",
    "        if self.d.get((s1,s2),None) is not None: return self.d[(s1,s2)]\n",
    "        \n",
    "        length = len(s1)\n",
    "        for i in range(1, length):\n",
    "            # when swapping happened\n",
    "            if self.d.get((s1[:i], s2[-i:]),None) is not None:\n",
    "                a1 = self.d[(s1[:i], s2[-i:])]\n",
    "            else:\n",
    "                a1 = self.isScramble(s1[:i], s2[-i:])\n",
    "                self.d[(s1[:i], s2[-i:])] = a1\n",
    "                \n",
    "            if self.d.get((s1[i:], s2[:-i]),None) is not None:\n",
    "                a2 = self.d[(s1[i:], s2[:-i])]\n",
    "            else:\n",
    "                a2 = self.isScramble(s1[i:], s2[:-i])\n",
    "                self.d[(s1[i:], s2[:-i])] = a2\n",
    "            a = a1 & a2\n",
    "            # when swapping dont happened\n",
    "            if self.d.get((s1[:i], s2[:i]),None) is not None:\n",
    "                a1 = self.d[(s1[:i], s2[:i])]\n",
    "            else:\n",
    "                a1 = self.isScramble(s1[:i], s2[:i])\n",
    "                self.d[(s1[:i], s2[:i])] = a1 \n",
    "            if self.d.get((s1[i:], s2[i:]),None) is not None:\n",
    "                a2 = self.d[(s1[i:], s2[i:])]\n",
    "            else:\n",
    "                a2 = self.isScramble(s1[i:], s2[i:])\n",
    "                self.d[(s1[i:], s2[i:])] = a2\n",
    "            b = a1 & a2\n",
    "            if a | b: return True\n",
    "        return False"
   ]
  },
  {
   "cell_type": "code",
   "execution_count": 36,
   "metadata": {},
   "outputs": [],
   "source": [
    "from functools import  cache\n",
    "\n",
    "class Solution:\n",
    "    \n",
    "    @cache\n",
    "    def isScramble(self, s1: str, s2: str) -> bool:\n",
    "        if s1==s2: return True\n",
    "        if len(s1)<=1: return False\n",
    "        if len(s2)<=1: return False\n",
    "        length = len(s1)\n",
    "        for i in range(1, length):\n",
    "            # when swapping happened\n",
    "            a = self.isScramble(s1[:i], s2[-i:]) & self.isScramble(s1[i:], s2[:-i])\n",
    "            # when swapping dont happend\n",
    "            b = self.isScramble(s1[:i], s2[:i]) & self.isScramble(s1[i:], s2[i:])\n",
    "            if a | b: return True\n",
    "        return False"
   ]
  },
  {
   "cell_type": "code",
   "execution_count": 37,
   "metadata": {},
   "outputs": [
    {
     "data": {
      "text/plain": [
       "False"
      ]
     },
     "execution_count": 37,
     "metadata": {},
     "output_type": "execute_result"
    }
   ],
   "source": [
    "s1 = \"great\"; s2 = \"rgeat\"\n",
    "s1 = \"abcde\"; s2 = \"caebd\"\n",
    "#s1 = \"a\"; s2 = \"a\"\n",
    "s1 = \"abcdefghijklmn\"; s2 = \"efghijklmncadb\"\n",
    "Solution().isScramble(s1,s2)"
   ]
  },
  {
   "cell_type": "code",
   "execution_count": null,
   "metadata": {},
   "outputs": [],
   "source": []
  },
  {
   "cell_type": "markdown",
   "metadata": {},
   "source": [
    "#### 5. [241]. Different Ways to Add Parentheses"
   ]
  },
  {
   "cell_type": "code",
   "execution_count": 2,
   "metadata": {},
   "outputs": [],
   "source": [
    "from typing import List"
   ]
  },
  {
   "cell_type": "code",
   "execution_count": 94,
   "metadata": {},
   "outputs": [],
   "source": [
    "from functools import cache\n",
    "\n",
    "class Solution:\n",
    "    def diffWaysToCompute(self, expression: str) -> List[int]:\n",
    "        @cache\n",
    "        def solve(start, end):\n",
    "            out = []\n",
    "            for k in range(start, end+1):\n",
    "                c = expression[k]\n",
    "                if c in \"-+*\":\n",
    "                    left  = solve(start, k - 1)\n",
    "                    right = solve(k + 1, end)\n",
    "                    for l in left:\n",
    "                        for r in right:\n",
    "                            if   c == \"+\": out.append(l + r)\n",
    "                            elif c == \"-\": out.append(l - r)\n",
    "                            elif c == '*': out.append(l * r)\n",
    "            return [int(expression[start:end+1])] if not out else out\n",
    "\n",
    "        return solve(0, len(expression)- 1)"
   ]
  },
  {
   "cell_type": "code",
   "execution_count": 95,
   "metadata": {},
   "outputs": [
    {
     "data": {
      "text/plain": [
       "[15]"
      ]
     },
     "execution_count": 95,
     "metadata": {},
     "output_type": "execute_result"
    }
   ],
   "source": [
    "expression = \"2-1-1\"\n",
    "expression = \"2*3-4*5\"\n",
    "expression = '11'\n",
    "expression = '10+5'\n",
    "Solution().diffWaysToCompute(expression)"
   ]
  },
  {
   "cell_type": "markdown",
   "metadata": {},
   "source": [
    "#### 6. [1043]. Partition Array for Maximum Sum"
   ]
  },
  {
   "cell_type": "code",
   "execution_count": 29,
   "metadata": {},
   "outputs": [],
   "source": [
    "from typing import List"
   ]
  },
  {
   "cell_type": "code",
   "execution_count": 33,
   "metadata": {},
   "outputs": [],
   "source": [
    "######################\n",
    "# Recursive Approach #\n",
    "######################\n",
    "\n",
    "class Solution:\n",
    "    def maxSumAfterPartitioning(self, arr: List[int], K: int) -> int:\n",
    "        length = len(arr)\n",
    "        \n",
    "        @cache\n",
    "        def recurse(i):\n",
    "            if i >= length: return 0\n",
    "            res = 0\n",
    "            for count, k in enumerate(range(i, min(i+K, length)),1):\n",
    "                temp = max(arr[i:k+1])*(count) + recurse(k+1)\n",
    "                res = max(res, temp)\n",
    "            return res\n",
    "        \n",
    "        return recurse(0)"
   ]
  },
  {
   "cell_type": "code",
   "execution_count": 40,
   "metadata": {},
   "outputs": [],
   "source": [
    "######################\n",
    "# Iterative Approach #\n",
    "######################\n",
    "\n",
    "class Solution:\n",
    "    def maxSumAfterPartitioning(self, arr: List[int], k: int) -> int:\n",
    "        n = len(arr)\n",
    "        dp = [0 for i in range(n+1)]\n",
    "        for i in range(1, n + 1):\n",
    "            current_max = 0\n",
    "            for j in range(1, min(i, k) + 1):\n",
    "                current_max = max(current_max, arr[i - j])\n",
    "                dp[i] = max(dp[i], dp[i - j] + current_max * j)\n",
    "        return dp[n]"
   ]
  },
  {
   "cell_type": "code",
   "execution_count": 41,
   "metadata": {},
   "outputs": [
    {
     "data": {
      "text/plain": [
       "84"
      ]
     },
     "execution_count": 41,
     "metadata": {},
     "output_type": "execute_result"
    }
   ],
   "source": [
    "arr = [1,15,7,9,2,5,10]; k = 3\n",
    "Solution().maxSumAfterPartitioning(arr, k)\n"
   ]
  },
  {
   "cell_type": "markdown",
   "metadata": {},
   "source": [
    "#### 7. [1547]. Minimum Cost to Cut a Stick"
   ]
  },
  {
   "cell_type": "code",
   "execution_count": 57,
   "metadata": {},
   "outputs": [],
   "source": [
    "from functools import cache\n",
    "\n",
    "class Solution:\n",
    "    def minCost(self, n: int, cuts) -> int:\n",
    "        \n",
    "        @cache\n",
    "        def dp(l, r):\n",
    "            min_cost = float('inf')\n",
    "            for cut in cuts:\n",
    "                if l < cut < r:\n",
    "                    cost = dp(l, cut) + dp(cut, r) + (r - l)\n",
    "                    min_cost = min(min_cost, cost)\n",
    "            return 0 if min_cost==float('inf') else min_cost\n",
    "        \n",
    "        return dp(0, n)"
   ]
  },
  {
   "cell_type": "code",
   "execution_count": 58,
   "metadata": {},
   "outputs": [],
   "source": [
    "class Solution:\n",
    "    def minCost(self, n: int, cuts) -> int:\n",
    "            \n",
    "            @cache\n",
    "            def dp(l, r):\n",
    "                return min([dp(l, cut) + dp(cut, r) + (r - l) for cut in cuts if l < cut < r] or [0])\n",
    "                \n",
    "            return dp(0, n)"
   ]
  },
  {
   "cell_type": "code",
   "execution_count": 59,
   "metadata": {},
   "outputs": [
    {
     "data": {
      "text/plain": [
       "16"
      ]
     },
     "execution_count": 59,
     "metadata": {},
     "output_type": "execute_result"
    }
   ],
   "source": [
    "n = 7; cuts = [1,3,4,5]\n",
    "Solution().minCost(n, cuts)"
   ]
  },
  {
   "cell_type": "markdown",
   "metadata": {},
   "source": [
    "#### 8. [1000]. Minimum Cost to Merge Stones"
   ]
  },
  {
   "cell_type": "code",
   "execution_count": 96,
   "metadata": {},
   "outputs": [],
   "source": [
    "from functools import cache\n",
    "\n",
    "class Solution:\n",
    "    def mergeStones(self, stones, K):\n",
    "        n = len(stones)\n",
    "        if (n - 1) % (K - 1): return -1\n",
    "        prefix = [0] * (n + 1)\n",
    "        for i in range(n):\n",
    "            prefix[i + 1] = prefix[i] + stones[i]\n",
    "        \n",
    "        @cache\n",
    "        def dp(i, j):\n",
    "            if j - i + 1 < K: return 0\n",
    "            res = min(dp(i, mid) + dp(mid + 1, j) for mid in range(i, j, K - 1))\n",
    "            if (j - i) % (K - 1) == 0:\n",
    "                res += prefix[j + 1] - prefix[i]\n",
    "            return res\n",
    "        return dp(0, n - 1)\n",
    "    "
   ]
  },
  {
   "cell_type": "code",
   "execution_count": 100,
   "metadata": {},
   "outputs": [
    {
     "name": "stdout",
     "output_type": "stream",
     "text": [
      "[0, 3, 5, 9, 10]\n"
     ]
    },
    {
     "data": {
      "text/plain": [
       "20"
      ]
     },
     "execution_count": 100,
     "metadata": {},
     "output_type": "execute_result"
    }
   ],
   "source": [
    "stones = [3,2,4,1]; k = 2\n",
    "#stones = [3,5,1,2,6]; k = 3\n",
    "Solution().mergeStones(stones, k)"
   ]
  },
  {
   "cell_type": "markdown",
   "metadata": {},
   "source": [
    "#### 9. [1130]. Minimum Cost Tree From Leaf Values"
   ]
  },
  {
   "cell_type": "code",
   "execution_count": 177,
   "metadata": {},
   "outputs": [],
   "source": [
    "from functools import cache\n",
    "\n",
    "class Solution:\n",
    "    def mctFromLeafValues(self, arr) -> int:\n",
    "        \n",
    "        @cache\n",
    "        def dfs(i,j):\n",
    "            if i>=j: return 0\n",
    "            min_cost = float('inf')\n",
    "            for k in range(i+1, j):\n",
    "                cost = max([0] + arr[i:k])*max([0] + arr[k:j]) + dfs(i,k) + dfs(k,j)\n",
    "                min_cost = min(cost, min_cost)\n",
    "            return 0 if min_cost==float('inf') else min_cost\n",
    "            \n",
    "        return dfs(0, len(arr))"
   ]
  },
  {
   "cell_type": "code",
   "execution_count": 178,
   "metadata": {},
   "outputs": [],
   "source": [
    "class Solution:\n",
    "    def mctFromLeafValues(self, A):\n",
    "        res = 0\n",
    "        while len(A) > 1:\n",
    "            i = A.index(min(A))\n",
    "            res += min(A[i - 1:i] + A[i + 1:i + 2]) * A.pop(i)\n",
    "        return res"
   ]
  },
  {
   "cell_type": "code",
   "execution_count": 179,
   "metadata": {},
   "outputs": [
    {
     "data": {
      "text/plain": [
       "121"
      ]
     },
     "execution_count": 179,
     "metadata": {},
     "output_type": "execute_result"
    }
   ],
   "source": [
    "arr = [6,2,4,5,7,3]\n",
    "#arr = [4,11]\n",
    "Solution().mctFromLeafValues(arr)"
   ]
  },
  {
   "cell_type": "markdown",
   "metadata": {},
   "source": [
    "#### 10. "
   ]
  },
  {
   "cell_type": "code",
   "execution_count": null,
   "metadata": {},
   "outputs": [],
   "source": []
  },
  {
   "cell_type": "code",
   "execution_count": null,
   "metadata": {},
   "outputs": [],
   "source": []
  }
 ],
 "metadata": {
  "kernelspec": {
   "display_name": "Python 3.9.13 ('base')",
   "language": "python",
   "name": "python3"
  },
  "language_info": {
   "codemirror_mode": {
    "name": "ipython",
    "version": 3
   },
   "file_extension": ".py",
   "mimetype": "text/x-python",
   "name": "python",
   "nbconvert_exporter": "python",
   "pygments_lexer": "ipython3",
   "version": "3.9.13"
  },
  "orig_nbformat": 4,
  "vscode": {
   "interpreter": {
    "hash": "fecfa28de78ead09ec2989a580469213059448baba5e0b02aeeb7641afb84221"
   }
  }
 },
 "nbformat": 4,
 "nbformat_minor": 2
}
