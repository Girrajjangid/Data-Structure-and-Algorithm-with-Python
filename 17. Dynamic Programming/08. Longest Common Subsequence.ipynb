{
 "cells": [
  {
   "cell_type": "markdown",
   "metadata": {},
   "source": [
    "#### Longest Common Subsequence\n",
    "\n",
    "Problem statement: We have given two string. Task is to find longest common subsequence length.\n"
   ]
  },
  {
   "cell_type": "code",
   "execution_count": 1,
   "metadata": {},
   "outputs": [],
   "source": [
    "#############\n",
    "# Recursion #\n",
    "#############\n",
    "\n",
    "class LCS:\n",
    "    \n",
    "    def __init__(self):\n",
    "        self.s1 = None\n",
    "        self.s2 = None\n",
    "        self.l1 = None\n",
    "        self.l2 = None\n",
    "        self.d = {}\n",
    "\n",
    "    def recursion(self, idx1, idx2):\n",
    "        if self.d.get((idx1,idx2), None) is not None:\n",
    "            return self.d[(idx1,idx2)]\n",
    "        if self.l1==idx1 or self.l2==idx2: \n",
    "            return 0\n",
    "        elif self.s1[idx1] == self.s2[idx2]:\n",
    "            self.d[(idx1+1, idx2+1)] = self.recursion(idx1+1, idx2+1)\n",
    "            return 1 + self.d[(idx1+1, idx2+1)]\n",
    "        else:\n",
    "            self.d[(idx1+1, idx2)] = self.recursion(idx1+1, idx2)\n",
    "            self.d[(idx1, idx2+1)] = self.recursion(idx1, idx2+1)\n",
    "            return max(self.d[(idx1+1, idx2)], self.d[(idx1, idx2+1)])\n",
    "            \n",
    "    def maxLength(self, s1, s2):\n",
    "        self.s1 = s1\n",
    "        self.s2 = s2\n",
    "        self.l1 = len(s1)\n",
    "        self.l2 = len(s2)\n",
    "        self.d = {}\n",
    "        return self.recursion(0, 0)"
   ]
  },
  {
   "cell_type": "code",
   "execution_count": 2,
   "metadata": {},
   "outputs": [
    {
     "data": {
      "text/plain": [
       "3"
      ]
     },
     "execution_count": 2,
     "metadata": {},
     "output_type": "execute_result"
    }
   ],
   "source": [
    "s1 = 'abcde'\n",
    "s2 = 'ace'\n",
    "s1 = \"ylqpejqbalahwr\"\n",
    "s2 = \"yrkzavgdmdgtqpg\"\n",
    "obj = LCS()\n",
    "obj.maxLength(s1,s2)"
   ]
  },
  {
   "cell_type": "code",
   "execution_count": 3,
   "metadata": {},
   "outputs": [],
   "source": [
    "class LCS:\n",
    "    def maxLength(self, text1, text2):\n",
    "        dp = [[0 for i in range(len(text2)+1)] for j in range(len(text1)+1)]\n",
    "        \n",
    "        for i in range(1,len(text1)+1):\n",
    "            for j in range(1,len(text2)+1):\n",
    "                if text1[i-1]==text2[j-1]:\n",
    "                    dp[i][j] = 1 + dp[i-1][j-1]\n",
    "                else:\n",
    "                    dp[i][j] = max(dp[i-1][j], dp[i][j-1])\n",
    "                    \n",
    "        return dp[-1][-1]"
   ]
  },
  {
   "cell_type": "code",
   "execution_count": 4,
   "metadata": {},
   "outputs": [
    {
     "data": {
      "text/plain": [
       "3"
      ]
     },
     "execution_count": 4,
     "metadata": {},
     "output_type": "execute_result"
    }
   ],
   "source": [
    "s1 = 'abcde'\n",
    "s2 = 'ace'\n",
    "s1 = \"ylqpejqbalahwr\"\n",
    "s2 = \"yrkzavgdmdgtqpg\"\n",
    "obj = LCS()\n",
    "obj.maxLength(s1,s2)"
   ]
  },
  {
   "cell_type": "code",
   "execution_count": null,
   "metadata": {},
   "outputs": [],
   "source": []
  },
  {
   "cell_type": "markdown",
   "metadata": {},
   "source": [
    "#### 1143. Longest Common Subsequence"
   ]
  },
  {
   "cell_type": "code",
   "execution_count": 72,
   "metadata": {},
   "outputs": [],
   "source": [
    "###########################\n",
    "# Recursive + Memoization #\n",
    "###########################\n",
    "\n",
    "class Solution:\n",
    "    def longestCommonSubsequence(self, s1, s2):\n",
    "        \n",
    "        dp = {}\n",
    "        def bfs(l1, l2):\n",
    "            if l1==0 or l2==0: return 0\n",
    "            if dp.get((l1, l2), None) is not None: return dp[(l1,l2)]\n",
    "            if s1[l1-1] == s2[l2-1]:\n",
    "                dp[(l1,l2)] = 1 + bfs(l1-1, l2-1)\n",
    "            else:\n",
    "                dp[(l1,l2)] = max(bfs(l1,l2-1), bfs(l1-1, l2))\n",
    "            return dp[(l1,l2)]\n",
    "        \n",
    "        return bfs(len(s1), len(s2))"
   ]
  },
  {
   "cell_type": "code",
   "execution_count": 73,
   "metadata": {},
   "outputs": [],
   "source": [
    "######################\n",
    "# Iterative approach #\n",
    "######################\n",
    "\n",
    "class Solution:\n",
    "    def longestCommonSubsequence(self, s1, s2):\n",
    "        dp = [[0]*(len(s2)+1) for i in range(len(s1)+1)]\n",
    "        for i in range(1, len(s1)+1):\n",
    "            for j in range(1, len(s2)+1):\n",
    "                if s1[i-1] == s2[j-1]:\n",
    "                    dp[i][j] = 1 + dp[i-1][j-1]\n",
    "                else:\n",
    "                    dp[i][j] = max(dp[i][j-1], dp[i-1][j])\n",
    "        return dp[-1][-1]        "
   ]
  },
  {
   "cell_type": "code",
   "execution_count": 74,
   "metadata": {},
   "outputs": [
    {
     "data": {
      "text/plain": [
       "4"
      ]
     },
     "execution_count": 74,
     "metadata": {},
     "output_type": "execute_result"
    }
   ],
   "source": [
    "text1 = \"abcde\"; text2 = \"ace\"\n",
    "text1='abcd'; text2='abecfd'\n",
    "#text1 = \"abc\"; text2 = \"abc\"\n",
    "#text1 = \"abc\"; text2 = \"def\"\n",
    "Solution().longestCommonSubsequence(text1, text2) "
   ]
  },
  {
   "cell_type": "markdown",
   "metadata": {},
   "source": [
    "#### 2. Longest common substring\n",
    "\n",
    "We have given two string. Find the length of longest common substring.\n",
    "Substring are continous."
   ]
  },
  {
   "cell_type": "code",
   "execution_count": 75,
   "metadata": {},
   "outputs": [],
   "source": [
    "class Solution:\n",
    "    \n",
    "    def longestCommonSubstring(self, text1, text2):\n",
    "        \n",
    "        dp = [[0]*(len(text2)+1) for i in range(len(text1)+1)]\n",
    "        max_count = float('-inf')\n",
    "        \n",
    "        for i in range(1, len(text1)+1):\n",
    "            for j in range(1, len(text2)+1):\n",
    "                if text1[i-1] == text2[j-1]:\n",
    "                    dp[i][j] = 1 + dp[i-1][j-1]\n",
    "                    max_count = max(dp[i][j], max_count)\n",
    "                else:\n",
    "                    dp[i][j] = 0\n",
    "        return max_count"
   ]
  },
  {
   "cell_type": "code",
   "execution_count": 76,
   "metadata": {},
   "outputs": [
    {
     "data": {
      "text/plain": [
       "2"
      ]
     },
     "execution_count": 76,
     "metadata": {},
     "output_type": "execute_result"
    }
   ],
   "source": [
    "text1='abcd'; text2='abecfd'\n",
    "Solution().longestCommonSubstring(text1, text2)"
   ]
  },
  {
   "cell_type": "markdown",
   "metadata": {},
   "source": [
    "#### 3. Printing Longest Common Subsequence:\n",
    "\n",
    "Instead of returning length of LCS print the LCS"
   ]
  },
  {
   "cell_type": "code",
   "execution_count": 77,
   "metadata": {},
   "outputs": [],
   "source": [
    "class Solution:\n",
    "    \n",
    "    def printLongestCommonSequence(self, s1, s2):\n",
    "        dp = [[0]*(len(s2)+1) for i in range(len(s1)+1)]\n",
    "        for i in range(1, len(s1)+1):\n",
    "            for j in range(1, len(s2)+1):\n",
    "                if s1[i-1] == s2[j-1]:\n",
    "                    dp[i][j] = 1 + dp[i-1][j-1]\n",
    "                else:\n",
    "                    dp[i][j] = max(dp[i][j-1], dp[i-1][j])\n",
    "        \n",
    "        i,j=len(s1),len(s2)\n",
    "        res = \"\"\n",
    "        while i>0 and j>0:\n",
    "            if s1[i-1] == s2[j-1]:\n",
    "                res+=s1[i-1]\n",
    "                i-=1\n",
    "                j-=1\n",
    "            else:\n",
    "                if dp[i][j-1] > dp[i-1][j]:\n",
    "                    j-=1\n",
    "                else:\n",
    "                    i-=1\n",
    "        return res[::-1]\n",
    "    "
   ]
  },
  {
   "cell_type": "code",
   "execution_count": 80,
   "metadata": {},
   "outputs": [
    {
     "data": {
      "text/plain": [
       "'abcd'"
      ]
     },
     "execution_count": 80,
     "metadata": {},
     "output_type": "execute_result"
    }
   ],
   "source": [
    "text1='abcd'; text2='abecfd'\n",
    "#text1 = \"abcde\"; text2 = \"ace\"\n",
    "Solution().printLongestCommonSequence(text1, text2)"
   ]
  },
  {
   "cell_type": "markdown",
   "metadata": {},
   "source": [
    "#### 4. Printing Longest common substring\n",
    "Instead of return length of longest common substring print the longest common substring.\n",
    "Substring is a continuous string"
   ]
  },
  {
   "cell_type": "code",
   "execution_count": 3,
   "metadata": {},
   "outputs": [],
   "source": [
    "class Solution:\n",
    "    \n",
    "    def printLongestCommonSubstring(self, s1, s2):\n",
    "        dp = [[0]*(len(s2)+1) for i in range(len(s1)+1)]\n",
    "        for i in range(1, len(s1)+1):\n",
    "            for j in range(1, len(s2)+1):\n",
    "                if s1[i-1] == s2[j-1]:\n",
    "                    dp[i][j] = 1 + dp[i-1][j-1]\n",
    "                else:\n",
    "                    dp[i][j] = max(dp[i][j-1], dp[i-1][j])\n",
    "        \n",
    "        i,j=len(s1),len(s2)\n",
    "        res = \"\"\n",
    "        while i>0 and j>0:\n",
    "            if s1[i-1] == s2[j-1]:\n",
    "                res+=s1[i-1]\n",
    "                i-=1\n",
    "                j-=1\n",
    "            else:\n",
    "                if dp[i][j-1] > dp[i-1][j]:\n",
    "                    j-=1\n",
    "                else:\n",
    "                    i-=1\n",
    "                res = \"\"\n",
    "        return res[::-1]"
   ]
  },
  {
   "cell_type": "code",
   "execution_count": 5,
   "metadata": {},
   "outputs": [
    {
     "data": {
      "text/plain": [
       "'bab'"
      ]
     },
     "execution_count": 5,
     "metadata": {},
     "output_type": "execute_result"
    }
   ],
   "source": [
    "text1='abcd'; text2='abecfd'\n",
    "text1 = \"abcde\"; text2 = \"ace\"\n",
    "text1 = \"babad\"; text2 = \"dabab\"\n",
    "Solution().printLongestCommonSubstring(text1, text2)"
   ]
  },
  {
   "cell_type": "markdown",
   "metadata": {},
   "source": [
    "#### 5. Shorest Common SuperSequence\n",
    "\n",
    "We have given two string. find the shorest common supersequence that we can form from both strings"
   ]
  },
  {
   "cell_type": "code",
   "execution_count": 104,
   "metadata": {},
   "outputs": [],
   "source": [
    "class Solution:\n",
    "        \n",
    "    def shorestCommonSupersequence(self, s1, s2):\n",
    "        \n",
    "        # LCS find\n",
    "        dp = [[0]*(len(s2)+1) for i in range(len(s1)+1)]\n",
    "        for i in range(1, len(s1)+1):\n",
    "            for j in range(1, len(s2)+1):\n",
    "                if s1[i-1] == s2[j-1]:\n",
    "                    dp[i][j] = 1 + dp[i-1][j-1]\n",
    "                else:\n",
    "                    dp[i][j] = max(dp[i][j-1], dp[i-1][j])\n",
    "        \n",
    "        return len(s1) + len(s2) - dp[-1][-1]\n",
    "        "
   ]
  },
  {
   "cell_type": "code",
   "execution_count": 106,
   "metadata": {},
   "outputs": [
    {
     "data": {
      "text/plain": [
       "6"
      ]
     },
     "execution_count": 106,
     "metadata": {},
     "output_type": "execute_result"
    }
   ],
   "source": [
    "s1='abcd'; s2='efbc'\n",
    "Solution().shorestCommonSupersequence(s1, s2)"
   ]
  },
  {
   "cell_type": "markdown",
   "metadata": {},
   "source": [
    "#### 6. Print the shorest common supersequence"
   ]
  },
  {
   "cell_type": "code",
   "execution_count": 114,
   "metadata": {},
   "outputs": [],
   "source": [
    "class Solution:\n",
    "        \n",
    "    def printShorestCommonSupersequence(self, s1, s2):\n",
    "                \n",
    "        # LCS find\n",
    "        dp = [[0]*(len(s2)+1) for i in range(len(s1)+1)]\n",
    "        for i in range(1, len(s1)+1):\n",
    "            for j in range(1, len(s2)+1):\n",
    "                if s1[i-1] == s2[j-1]:\n",
    "                    dp[i][j] = 1 + dp[i-1][j-1]\n",
    "                else:\n",
    "                    dp[i][j] = max(dp[i][j-1], dp[i-1][j])\n",
    "        \n",
    "        i,j=len(s1),len(s2)\n",
    "        res = \"\"\n",
    "        while i>0 and j>0:\n",
    "            if s1[i-1] == s2[j-1]:\n",
    "                res+=s1[i-1]\n",
    "                i-=1\n",
    "                j-=1\n",
    "            else:\n",
    "                if dp[i][j-1] > dp[i-1][j]:\n",
    "                    res+=s2[j-1]\n",
    "                    j-=1\n",
    "                else:\n",
    "                    res+=s1[i-1]\n",
    "                    i-=1\n",
    "        while i>0:\n",
    "            res+=s1[i-1]\n",
    "            i-=1\n",
    "        while j>0:\n",
    "            res+=s2[j-1]\n",
    "            j-=1\n",
    "        return res[::-1]"
   ]
  },
  {
   "cell_type": "code",
   "execution_count": 116,
   "metadata": {},
   "outputs": [
    {
     "data": {
      "text/plain": [
       "'efabcd'"
      ]
     },
     "execution_count": 116,
     "metadata": {},
     "output_type": "execute_result"
    }
   ],
   "source": [
    "s1='abcd'; s2='efbc'\n",
    "Solution().printShorestCommonSupersequence(s1, s2)"
   ]
  },
  {
   "cell_type": "markdown",
   "metadata": {},
   "source": [
    "#### 7. Minimum no. of Insertion / Deletion to convert string A to B\n",
    "\n",
    "We have given two string. Count the number of minimum insert and delete operation required to convert A string to B string"
   ]
  },
  {
   "cell_type": "code",
   "execution_count": 121,
   "metadata": {},
   "outputs": [],
   "source": [
    "class Solution:\n",
    "        \n",
    "    def minInsertDelete(self, s1, s2):                \n",
    "        # LCS find\n",
    "        dp = [[0]*(len(s2)+1) for i in range(len(s1)+1)]\n",
    "        for i in range(1, len(s1)+1):\n",
    "            for j in range(1, len(s2)+1):\n",
    "                if s1[i-1] == s2[j-1]:\n",
    "                    dp[i][j] = 1 + dp[i-1][j-1]\n",
    "                else:\n",
    "                    dp[i][j] = max(dp[i][j-1], dp[i-1][j])\n",
    "                    \n",
    "        return (len(s1)-dp[-1][-1]) + (len(s2)-dp[-1][-1])\n",
    "        "
   ]
  },
  {
   "cell_type": "code",
   "execution_count": 122,
   "metadata": {},
   "outputs": [
    {
     "data": {
      "text/plain": [
       "3"
      ]
     },
     "execution_count": 122,
     "metadata": {},
     "output_type": "execute_result"
    }
   ],
   "source": [
    "s1='abcd'; s2='efbc'\n",
    "s1='heap'; s2='pea'\n",
    "Solution().minInsertDelete(s1, s2)"
   ]
  },
  {
   "cell_type": "markdown",
   "metadata": {},
   "source": [
    "#### 8. Longest Palindrome Subsequence"
   ]
  },
  {
   "cell_type": "code",
   "execution_count": 128,
   "metadata": {},
   "outputs": [],
   "source": [
    "class Solution:\n",
    "    def longestPalindromeSubseq(self, s: str) -> int:\n",
    "        \n",
    "        s1,s2 = s, s[::-1]\n",
    "        \n",
    "        dp = [[0]*(len(s2)+1) for i in range(len(s1)+1)]\n",
    "        for i in range(1, len(s1)+1):\n",
    "            for j in range(1, len(s2)+1):\n",
    "                if s1[i-1] == s2[j-1]:\n",
    "                    dp[i][j] = 1 + dp[i-1][j-1]\n",
    "                else:\n",
    "                    dp[i][j] = max(dp[i][j-1], dp[i-1][j])\n",
    "                    \n",
    "        return dp[-1][-1]"
   ]
  },
  {
   "cell_type": "code",
   "execution_count": 129,
   "metadata": {},
   "outputs": [
    {
     "data": {
      "text/plain": [
       "2"
      ]
     },
     "execution_count": 129,
     "metadata": {},
     "output_type": "execute_result"
    }
   ],
   "source": [
    "s = \"bbbab\"\n",
    "s = \"cbbd\"\n",
    "Solution().longestPalindromeSubseq(s)"
   ]
  },
  {
   "cell_type": "markdown",
   "metadata": {},
   "source": [
    "#### 9. Minimum no. of Deletion in a string to make it palindrome\n",
    "We have given a string. Return the minium no. of deletion required to make it a palindrome"
   ]
  },
  {
   "cell_type": "code",
   "execution_count": 132,
   "metadata": {},
   "outputs": [],
   "source": [
    "class Solution:\n",
    "    def minDeletion(self, s: str) -> int:\n",
    "        \n",
    "        s1,s2 = s, s[::-1]\n",
    "        \n",
    "        dp = [[0]*(len(s2)+1) for i in range(len(s1)+1)]\n",
    "        for i in range(1, len(s1)+1):\n",
    "            for j in range(1, len(s2)+1):\n",
    "                if s1[i-1] == s2[j-1]:\n",
    "                    dp[i][j] = 1 + dp[i-1][j-1]\n",
    "                else:\n",
    "                    dp[i][j] = max(dp[i][j-1], dp[i-1][j])\n",
    "                    \n",
    "        return len(s) - dp[-1][-1]"
   ]
  },
  {
   "cell_type": "code",
   "execution_count": 136,
   "metadata": {},
   "outputs": [
    {
     "data": {
      "text/plain": [
       "2"
      ]
     },
     "execution_count": 136,
     "metadata": {},
     "output_type": "execute_result"
    }
   ],
   "source": [
    "s = \"bbbab\"\n",
    "s = \"cbbd\"\n",
    "Solution().minDeletion(s)"
   ]
  },
  {
   "cell_type": "markdown",
   "metadata": {},
   "source": [
    "#### 10. Minimum no. of insertion in a string to make it a palindrome [1312]"
   ]
  },
  {
   "cell_type": "code",
   "execution_count": 145,
   "metadata": {},
   "outputs": [],
   "source": [
    "class Solution:\n",
    "    def minInsertions(self, s: str) -> int:\n",
    "        \n",
    "        s1,s2 = s, s[::-1]\n",
    "        \n",
    "        dp = [[0]*(len(s2)+1) for i in range(len(s1)+1)]\n",
    "        for i in range(1, len(s1)+1):\n",
    "            for j in range(1, len(s2)+1):\n",
    "                if s1[i-1] == s2[j-1]:\n",
    "                    dp[i][j] = 1 + dp[i-1][j-1]\n",
    "                else:\n",
    "                    dp[i][j] = max(dp[i][j-1], dp[i-1][j])\n",
    "                    \n",
    "        return len(s) - dp[-1][-1]"
   ]
  },
  {
   "cell_type": "code",
   "execution_count": 146,
   "metadata": {},
   "outputs": [
    {
     "data": {
      "text/plain": [
       "5"
      ]
     },
     "execution_count": 146,
     "metadata": {},
     "output_type": "execute_result"
    }
   ],
   "source": [
    "s = \"bbbab\"\n",
    "s = \"cbbd\"\n",
    "s = \"zzazz\"\n",
    "s = \"mbadm\"\n",
    "s = \"leetcode\"\n",
    "Solution().minInsertions(s)"
   ]
  },
  {
   "cell_type": "markdown",
   "metadata": {},
   "source": [
    "#### 11. Is subsequence\n",
    "\n",
    "Given two strings s and t, return true if s is a subsequence of t, or false otherwise."
   ]
  },
  {
   "cell_type": "code",
   "execution_count": 167,
   "metadata": {},
   "outputs": [],
   "source": [
    "class Solution:\n",
    "    def isSubsequence(self, s1: str, s2: str) -> bool:\n",
    "        \n",
    "        dp = [[0]*(len(s2)+1) for i in range(len(s1)+1)]\n",
    "        for i in range(1, len(s1)+1):\n",
    "            for j in range(1, len(s2)+1):\n",
    "                if s1[i-1] == s2[j-1]:\n",
    "                    dp[i][j] = 1 + dp[i-1][j-1]\n",
    "                else:\n",
    "                    dp[i][j] = max(dp[i][j-1], dp[i-1][j])\n",
    "        return len(s1) == dp[-1][-1]"
   ]
  },
  {
   "cell_type": "code",
   "execution_count": 171,
   "metadata": {},
   "outputs": [],
   "source": [
    "######################\n",
    "# Alternate solution #\n",
    "######################\n",
    "\n",
    "class Solution:\n",
    "    def isSubsequence(self, s: str, t: str) -> bool:\n",
    "        t=iter(t)\n",
    "        return  all(c in t for c in s)\n",
    "    \n",
    "    \n",
    "class Solution:\n",
    "    def isSubsequence(self, s: str, t: str) -> bool:\n",
    "        i, j = 0, 0\n",
    "        \n",
    "        while i < len(s) and j < len(t):\n",
    "            if s[i] == t[j]:\n",
    "                i += 1\n",
    "            j += 1\n",
    "        return True if i == len(s) else False"
   ]
  },
  {
   "cell_type": "code",
   "execution_count": 172,
   "metadata": {},
   "outputs": [
    {
     "data": {
      "text/plain": [
       "True"
      ]
     },
     "execution_count": 172,
     "metadata": {},
     "output_type": "execute_result"
    }
   ],
   "source": [
    "s = \"abc\"; t = \"ahbgdc\"\n",
    "#s = \"axc\"; t = \"ahbgdc\"\n",
    "Solution().isSubsequence(s,t)"
   ]
  },
  {
   "cell_type": "markdown",
   "metadata": {},
   "source": [
    "#### 12. Longest Repeating Subsequence\n",
    "\n",
    "Given a string. Return the length of longest repeating subsequence\n"
   ]
  },
  {
   "cell_type": "code",
   "execution_count": 182,
   "metadata": {},
   "outputs": [],
   "source": [
    "class Solution:\n",
    "    def longestRepeatingSubsequence(self, s1: str) -> int:\n",
    "        s2 = s1\n",
    "        dp = [[0]*(len(s2)+1) for i in range(len(s1)+1)]\n",
    "        \n",
    "        for i in range(1, len(s1)+1):\n",
    "            for j in range(1, len(s2)+1):\n",
    "                if (s1[i-1] == s2[j-1]) and i!=j:\n",
    "                    dp[i][j] = 1 + dp[i-1][j-1]\n",
    "                else:\n",
    "                    dp[i][j] = max(dp[i][j-1], dp[i-1][j])\n",
    "        return dp[-1][-1]"
   ]
  },
  {
   "cell_type": "code",
   "execution_count": 183,
   "metadata": {},
   "outputs": [
    {
     "data": {
      "text/plain": [
       "3"
      ]
     },
     "execution_count": 183,
     "metadata": {},
     "output_type": "execute_result"
    }
   ],
   "source": [
    "s1 = \"AABEBCDD\"\n",
    "Solution().longestRepeatingSubsequence(s1)"
   ]
  },
  {
   "cell_type": "markdown",
   "metadata": {},
   "source": [
    "#### 13. Longest Palindromic Substring"
   ]
  },
  {
   "cell_type": "code",
   "execution_count": 66,
   "metadata": {},
   "outputs": [],
   "source": [
    "class Solution:\n",
    "    def longestPalindrome(self, s: str) -> str:\n",
    "        res = \"\"\n",
    "        length = len(s)\n",
    "        def helper(left: int, right: int):\n",
    "            while left >= 0 and right < length and s[left] == s[right]:\n",
    "                left -= 1\n",
    "                right += 1\t\t\n",
    "            return s[left + 1 : right]\n",
    "        for index in range(len(s)):\n",
    "            a = helper(index, index)\n",
    "            b = helper(index, index + 1)\n",
    "            print(f\"idx: {index},  a:{a}, b:{b}, res:{res}\")\n",
    "            res = max(a, b, res, key = len)\n",
    "\n",
    "        return res"
   ]
  },
  {
   "cell_type": "code",
   "execution_count": 67,
   "metadata": {},
   "outputs": [
    {
     "name": "stdout",
     "output_type": "stream",
     "text": [
      "babad\n",
      "idx: 0,  a:b, b:, res:\n",
      "idx: 1,  a:bab, b:, res:b\n",
      "idx: 2,  a:aba, b:, res:bab\n",
      "idx: 3,  a:a, b:, res:aba\n",
      "idx: 4,  a:d, b:, res:aba\n"
     ]
    },
    {
     "data": {
      "text/plain": [
       "'aba'"
      ]
     },
     "execution_count": 67,
     "metadata": {},
     "output_type": "execute_result"
    }
   ],
   "source": [
    "s = \"babad\"\n",
    "#s = \"abacdgfdcaba\"\n",
    "print(s)\n",
    "Solution().longestPalindrome(s)"
   ]
  },
  {
   "cell_type": "markdown",
   "metadata": {},
   "source": [
    "#### 14. Longest Substring Without Repeating Characters"
   ]
  },
  {
   "cell_type": "code",
   "execution_count": null,
   "metadata": {},
   "outputs": [],
   "source": [
    "class Solution:\n",
    "    def lengthOfLongestSubstring(self, s: str) -> int:\n",
    "        "
   ]
  },
  {
   "cell_type": "markdown",
   "metadata": {},
   "source": [
    "#### 15. Delete Operation for Two Strings [583]"
   ]
  },
  {
   "cell_type": "code",
   "execution_count": 85,
   "metadata": {},
   "outputs": [],
   "source": [
    "class Solution:\n",
    "    def minDistance(self, s1: str, s2: str) -> int:\n",
    "        \n",
    "        l1,l2 = len(s1), len(s2)\n",
    "        dp = [[0]*(l2+1) for i in range(l1+1)]\n",
    "        for i in range(1, l1+1):\n",
    "            for j in range(1, l2+1):\n",
    "                if s1[i-1] == s2[j-1]:\n",
    "                    dp[i][j] = 1 + dp[i-1][j-1]\n",
    "                else:\n",
    "                    dp[i][j] = max(dp[i][j-1], dp[i-1][j])\n",
    "        \n",
    "        return l1+l2-(2*dp[-1][-1])"
   ]
  },
  {
   "cell_type": "code",
   "execution_count": 86,
   "metadata": {},
   "outputs": [
    {
     "data": {
      "text/plain": [
       "4"
      ]
     },
     "execution_count": 86,
     "metadata": {},
     "output_type": "execute_result"
    }
   ],
   "source": [
    "word1 = \"sea\"; word2 = \"eat\"\n",
    "word1 = \"leetcode\"; word2 = \"etco\"\n",
    "Solution().minDistance(word1, word2)"
   ]
  },
  {
   "cell_type": "markdown",
   "metadata": {},
   "source": [
    "#### 16. Minimum Deletions to Make String Balanced [1653]"
   ]
  },
  {
   "cell_type": "code",
   "execution_count": 124,
   "metadata": {},
   "outputs": [],
   "source": [
    "class Solution:\n",
    "    def minimumDeletions(self, s: str) -> int:\n",
    "        \n",
    "        cnt_b = 0\n",
    "        dp = [0]\n",
    "        for c in s:\n",
    "            if c == 'b':\n",
    "                cnt_b+=1\n",
    "                dp.append(dp[-1])\n",
    "            else:\n",
    "                dp.append(min(cnt_b ,dp[-1]+1))\n",
    "        return dp[-1]"
   ]
  },
  {
   "cell_type": "code",
   "execution_count": 125,
   "metadata": {},
   "outputs": [],
   "source": [
    "class Solution:\n",
    "    def minimumDeletions(self, s: str) -> int:\n",
    "        enda = endb = 0\n",
    "        for c in s:\n",
    "            if c == 'a':\n",
    "                endb += 1\n",
    "            else:\n",
    "                endb = min(enda, endb)\n",
    "                enda += 1\n",
    "        return min(enda, endb)"
   ]
  },
  {
   "cell_type": "code",
   "execution_count": 126,
   "metadata": {},
   "outputs": [
    {
     "data": {
      "text/plain": [
       "52"
      ]
     },
     "execution_count": 126,
     "metadata": {},
     "output_type": "execute_result"
    }
   ],
   "source": [
    "s = \"aababbab\"\n",
    "s = \"bbaaaaabb\"\n",
    "s = \"abab\"\n",
    "s = \"aabbbbaabababbbbaaaaaabbababaaabaabaabbbabbbbabbabbababaabaababbbbaaaaabbabbabaaaabbbabaaaabbaaabbbaabbaaaaabaa\"\n",
    "#s = 'a'\n",
    "Solution().minimumDeletions(s)\n",
    " "
   ]
  },
  {
   "cell_type": "code",
   "execution_count": 135,
   "metadata": {},
   "outputs": [],
   "source": [
    "class Solution:\n",
    "    def reverseVowels(self, s: str) -> str:\n",
    "        vowels = []\n",
    "        res = []\n",
    "        for val in s:\n",
    "            if val.lower() in ['a','e','i','o','u']:\n",
    "                vowels.append(val)\n",
    "                res.append(None)\n",
    "            else:\n",
    "                res.append(val)\n",
    "        vowels = vowels[::-1]\n",
    "        res2 = []\n",
    "        i=0\n",
    "        for val in res:\n",
    "            if val == None:\n",
    "                res2.append(vowels[i])\n",
    "                i+=1\n",
    "            else:\n",
    "                res2.append(val)\n",
    "        return \"\".join(res2)"
   ]
  },
  {
   "cell_type": "code",
   "execution_count": 137,
   "metadata": {},
   "outputs": [
    {
     "data": {
      "text/plain": [
       "'leotcede'"
      ]
     },
     "execution_count": 137,
     "metadata": {},
     "output_type": "execute_result"
    }
   ],
   "source": [
    "s = \"hello\"\n",
    "s = \"leetcode\"\n",
    "Solution().reverseVowels(s)"
   ]
  }
 ],
 "metadata": {
  "kernelspec": {
   "display_name": "Python 3.8.8 ('base')",
   "language": "python",
   "name": "python3"
  },
  "language_info": {
   "codemirror_mode": {
    "name": "ipython",
    "version": 3
   },
   "file_extension": ".py",
   "mimetype": "text/x-python",
   "name": "python",
   "nbconvert_exporter": "python",
   "pygments_lexer": "ipython3",
   "version": "3.8.8"
  },
  "orig_nbformat": 4,
  "vscode": {
   "interpreter": {
    "hash": "ad2bdc8ecc057115af97d19610ffacc2b4e99fae6737bb82f5d7fb13d2f2c186"
   }
  }
 },
 "nbformat": 4,
 "nbformat_minor": 2
}
