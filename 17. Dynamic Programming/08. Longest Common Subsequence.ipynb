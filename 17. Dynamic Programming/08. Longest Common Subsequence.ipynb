{
 "cells": [
  {
   "cell_type": "markdown",
   "metadata": {},
   "source": [
    "#### Longest Common Subsequence\n",
    "\n",
    "Problem statement: We have given two string. Task is to find longest common subsequence length.\n"
   ]
  },
  {
   "cell_type": "code",
   "execution_count": 50,
   "metadata": {},
   "outputs": [],
   "source": [
    "# using Recursion\n",
    "\n",
    "class LCS:\n",
    "    \n",
    "    def __init__(self):\n",
    "        self.s1 = None\n",
    "        self.s2 = None\n",
    "        self.l1 = None\n",
    "        self.l2 = None\n",
    "        self.d = {}\n",
    "\n",
    "    def recursion(self, idx1, idx2):\n",
    "        if self.d.get((idx1,idx2), None) is not None:\n",
    "            return self.d[(idx1,idx2)]\n",
    "        if self.l1==idx1 or self.l2==idx2: \n",
    "            return 0\n",
    "        elif self.s1[idx1] == self.s2[idx2]:\n",
    "            self.d[(idx1+1, idx2+1)] = self.recursion(idx1+1, idx2+1)\n",
    "            return 1 + self.d[(idx1+1, idx2+1)]\n",
    "        else:\n",
    "            self.d[(idx1+1, idx2)] = self.recursion(idx1+1, idx2)\n",
    "            self.d[(idx1, idx2+1)] = self.recursion(idx1, idx2+1)\n",
    "            return max(self.d[(idx1+1, idx2)], self.d[(idx1, idx2+1)])\n",
    "            \n",
    "    def maxLength(self, s1, s2):\n",
    "        self.s1 = s1\n",
    "        self.s2 = s2\n",
    "        self.l1 = len(s1)\n",
    "        self.l2 = len(s2)\n",
    "        self.d = {}\n",
    "        return self.recursion(0, 0)"
   ]
  },
  {
   "cell_type": "code",
   "execution_count": 51,
   "metadata": {},
   "outputs": [
    {
     "data": {
      "text/plain": [
       "3"
      ]
     },
     "execution_count": 51,
     "metadata": {},
     "output_type": "execute_result"
    }
   ],
   "source": [
    "s1 = 'abcde'\n",
    "s2 = 'ace'\n",
    "s1 = \"ylqpejqbalahwr\"\n",
    "s2 = \"yrkzavgdmdgtqpg\"\n",
    "obj = LCS()\n",
    "obj.maxLength(s1,s2)"
   ]
  },
  {
   "cell_type": "code",
   "execution_count": 52,
   "metadata": {},
   "outputs": [],
   "source": [
    "class LCS:\n",
    "    def maxLength(self, text1, text2):\n",
    "        dp = [[0 for i in range(len(text2)+1)] for j in range(len(text1)+1)]\n",
    "        \n",
    "        for i in range(1,len(text1)+1):\n",
    "            for j in range(1,len(text2)+1):\n",
    "                if text1[i-1]==text2[j-1]:\n",
    "                    dp[i][j] = 1 + dp[i-1][j-1]\n",
    "                else:\n",
    "                    dp[i][j] = max(dp[i-1][j], dp[i][j-1])\n",
    "                    \n",
    "        return dp[-1][-1]"
   ]
  },
  {
   "cell_type": "code",
   "execution_count": 53,
   "metadata": {},
   "outputs": [
    {
     "data": {
      "text/plain": [
       "3"
      ]
     },
     "execution_count": 53,
     "metadata": {},
     "output_type": "execute_result"
    }
   ],
   "source": [
    "s1 = 'abcde'\n",
    "s2 = 'ace'\n",
    "s1 = \"ylqpejqbalahwr\"\n",
    "s2 = \"yrkzavgdmdgtqpg\"\n",
    "obj = LCS()\n",
    "obj.maxLength(s1,s2)"
   ]
  }
 ],
 "metadata": {
  "kernelspec": {
   "display_name": "Python 3.8.8 ('base')",
   "language": "python",
   "name": "python3"
  },
  "language_info": {
   "codemirror_mode": {
    "name": "ipython",
    "version": 3
   },
   "file_extension": ".py",
   "mimetype": "text/x-python",
   "name": "python",
   "nbconvert_exporter": "python",
   "pygments_lexer": "ipython3",
   "version": "3.8.8"
  },
  "orig_nbformat": 4,
  "vscode": {
   "interpreter": {
    "hash": "ad2bdc8ecc057115af97d19610ffacc2b4e99fae6737bb82f5d7fb13d2f2c186"
   }
  }
 },
 "nbformat": 4,
 "nbformat_minor": 2
}
