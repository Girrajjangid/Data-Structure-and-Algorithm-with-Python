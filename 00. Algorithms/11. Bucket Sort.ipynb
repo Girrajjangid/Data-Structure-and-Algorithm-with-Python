{
 "cells": [
  {
   "cell_type": "markdown",
   "metadata": {},
   "source": [
    "- Time: O(N)\n",
    "- Space: O(N + X)\n",
    "- where X is the maximum value in N array"
   ]
  },
  {
   "cell_type": "code",
   "execution_count": 1,
   "metadata": {},
   "outputs": [],
   "source": [
    "class Bucket:\n",
    "\n",
    "    def _sort(self, arr):\n",
    "        new_array = [None]*(max(arr)+1)\n",
    "        for val in arr:\n",
    "            new_array[val] = [val] if new_array[val] is None else new_array[val]+[val]\n",
    "        result = []\n",
    "        for val in new_array:\n",
    "            if val is not None:\n",
    "                result.extend(val)\n",
    "        return result\n",
    "    \n",
    "    def sort(self, arr, ascending=False):\n",
    "        return self._sort(arr) if ascending else self._sort(arr)[::-1]"
   ]
  },
  {
   "cell_type": "code",
   "execution_count": 2,
   "metadata": {},
   "outputs": [
    {
     "name": "stdout",
     "output_type": "stream",
     "text": [
      "[3, 4, 5, 5, 6, 6, 7, 8, 9, 10]\n",
      "[10, 9, 8, 7, 6, 6, 5, 5, 4, 3]\n"
     ]
    }
   ],
   "source": [
    "arr = [10,9,8,7,6,5,4,3,6,5]\n",
    "print(Bucket().sort(arr, True))\n",
    "print(Bucket().sort(arr, False))"
   ]
  },
  {
   "cell_type": "code",
   "execution_count": null,
   "metadata": {},
   "outputs": [],
   "source": []
  }
 ],
 "metadata": {
  "kernelspec": {
   "display_name": "Python 3.8.8 ('base')",
   "language": "python",
   "name": "python3"
  },
  "language_info": {
   "codemirror_mode": {
    "name": "ipython",
    "version": 3
   },
   "file_extension": ".py",
   "mimetype": "text/x-python",
   "name": "python",
   "nbconvert_exporter": "python",
   "pygments_lexer": "ipython3",
   "version": "3.8.8"
  },
  "orig_nbformat": 4,
  "vscode": {
   "interpreter": {
    "hash": "ad2bdc8ecc057115af97d19610ffacc2b4e99fae6737bb82f5d7fb13d2f2c186"
   }
  }
 },
 "nbformat": 4,
 "nbformat_minor": 2
}
