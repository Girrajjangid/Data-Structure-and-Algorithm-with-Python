{
 "cells": [
  {
   "cell_type": "code",
   "execution_count": 99,
   "metadata": {},
   "outputs": [],
   "source": [
    "# Sorting an array using Merge Sort\n",
    "\n",
    "# Merge sort algorithm based on divide and conquer technique\n",
    "# divide the array until it reached to single element"
   ]
  },
  {
   "cell_type": "code",
   "execution_count": 100,
   "metadata": {},
   "outputs": [],
   "source": [
    "class MergeSort:\n",
    "    def merge_sort(self, a, p, q, r):\n",
    "        print(\"Merge : \", a,p,q,r)\n",
    "        len_L = q-p+1\n",
    "        len_R = r-q\n",
    "        L = [a[p+i]   for i in range(len_L)]\n",
    "        R = [a[q+i+1] for i in range(len_R)]\n",
    "        # Now we traverse over L and R \n",
    "        # so required two pointers\n",
    "        i,j,k = 0,0,p # i,j,k are counters for L, R, and 'a' respectively.\n",
    "        # We will only traverse till L & R contains same length.\n",
    "        while i<len_L and j<len_R:\n",
    "            if L[i] <= R[j]:\n",
    "                a[k] = L[i]\n",
    "                i+=1\n",
    "                k+=1\n",
    "            else:\n",
    "                a[k] = R[j]\n",
    "                j+=1\n",
    "                k+=1\n",
    "        # adding remaining elements into array\n",
    "        while i<len_L:\n",
    "            a[k] = L[i]\n",
    "            i+=1\n",
    "            k+=1\n",
    "        while j<len_R:\n",
    "            a[k] = R[j]\n",
    "            j+=1\n",
    "            k+=1\n",
    "\n",
    "    def divide_and_conquer(self, a:list, l:int, r:int): # l=0, r=2\n",
    "        # you are playing with indexes\n",
    "        '''\n",
    "        a: Array\n",
    "        l: 0th index\n",
    "        r: last index\n",
    "        '''\n",
    "        # base condition\n",
    "        print(\"Divide and conquer: \", a,l,r)\n",
    "        if l < r:# array contains more than 1 element 0 < 2\n",
    "            m = (l+r)//2  # 1\n",
    "            # recursion calling\n",
    "            self.divide_and_conquer(a, l,   m) # 0 to 1 index\n",
    "            self.divide_and_conquer(a, m+1, r) # 2 to 2 index\n",
    "            self.merge_sort(a,l,m,r)\n"
   ]
  },
  {
   "cell_type": "code",
   "execution_count": 101,
   "metadata": {},
   "outputs": [
    {
     "name": "stdout",
     "output_type": "stream",
     "text": [
      "Divide and conquer:  [12, 11, 13] 0 2\n",
      "Divide and conquer:  [12, 11, 13] 0 1\n",
      "Divide and conquer:  [12, 11, 13] 0 0\n",
      "Divide and conquer:  [12, 11, 13] 1 1\n",
      "Merge :  [12, 11, 13] 0 0 1\n",
      "Divide and conquer:  [11, 12, 13] 2 2\n",
      "Merge :  [11, 12, 13] 0 1 2\n"
     ]
    },
    {
     "data": {
      "text/plain": [
       "[11, 12, 13]"
      ]
     },
     "execution_count": 101,
     "metadata": {},
     "output_type": "execute_result"
    }
   ],
   "source": [
    "a = [12, 11, 13]\n",
    "MergeSort().divide_and_conquer(a, 0, len(a)-1)\n",
    "a"
   ]
  },
  {
   "cell_type": "code",
   "execution_count": 1,
   "metadata": {},
   "outputs": [],
   "source": [
    "def merge_sort(array, left_idx, middle_idx, right_idx):\n",
    "    length_L = middle_idx-left_idx+1\n",
    "    length_R = right_idx-middle_idx\n",
    "    L = [array[left_idx+i] for i in range(length_L)]\n",
    "    R = [array[middle_idx+i+1] for i in range(length_R)] # exclude middle_idx from right node so add +1\n",
    "    i,j,k=0,0,left_idx\n",
    "    while (i<length_L) & (j<length_R):\n",
    "        if L[i]<=R[j]:\n",
    "            array[k] = L[i]\n",
    "            i+=1\n",
    "            k+=1\n",
    "        else:\n",
    "            array[k] = R[j]\n",
    "            j+=1\n",
    "            k+=1\n",
    "    while i<length_L:\n",
    "        array[k] = L[i]\n",
    "        i+=1\n",
    "        k+=1\n",
    "    while j<length_R:\n",
    "        array[k] = R[j]\n",
    "        j+=1\n",
    "        k+=1\n",
    "\n",
    "def divide_and_conquer(array, left_idx, right_idx):\n",
    "    # base condition\n",
    "    # just dividing the list if its length is more than one\n",
    "    if left_idx<right_idx:\n",
    "        middle_idx = (left_idx+right_idx)//2\n",
    "        # recursion calling\n",
    "        divide_and_conquer(array, left_idx    , middle_idx) # Taking middle_idx in left node\n",
    "        divide_and_conquer(array, middle_idx+1, right_idx)\n",
    "        merge_sort(array, left_idx, middle_idx, right_idx)\n",
    "    else: # you can also drop this else nothing happen\n",
    "        return"
   ]
  },
  {
   "cell_type": "code",
   "execution_count": 7,
   "metadata": {},
   "outputs": [
    {
     "name": "stdout",
     "output_type": "stream",
     "text": [
      "Before :  [9, 8, 7, 6, 5, 0, -9, 0.9]\n",
      "After  :  [-9, 0, 0.9, 5, 6, 7, 8, 9]\n"
     ]
    }
   ],
   "source": [
    "arr = [9,8,7,6,5,0,-9,0.9]\n",
    "print(\"Before : \", arr)\n",
    "divide_and_conquer(arr,0,len(arr)-1)\n",
    "print(\"After  : \", arr)"
   ]
  },
  {
   "cell_type": "code",
   "execution_count": null,
   "metadata": {},
   "outputs": [],
   "source": []
  }
 ],
 "metadata": {
  "kernelspec": {
   "display_name": "Python 3.8.8 ('base')",
   "language": "python",
   "name": "python3"
  },
  "language_info": {
   "codemirror_mode": {
    "name": "ipython",
    "version": 3
   },
   "file_extension": ".py",
   "mimetype": "text/x-python",
   "name": "python",
   "nbconvert_exporter": "python",
   "pygments_lexer": "ipython3",
   "version": "3.8.8"
  },
  "orig_nbformat": 4,
  "vscode": {
   "interpreter": {
    "hash": "ad2bdc8ecc057115af97d19610ffacc2b4e99fae6737bb82f5d7fb13d2f2c186"
   }
  }
 },
 "nbformat": 4,
 "nbformat_minor": 2
}
