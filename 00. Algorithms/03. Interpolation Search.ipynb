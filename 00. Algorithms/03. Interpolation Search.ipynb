{
 "cells": [
  {
   "cell_type": "code",
   "execution_count": 58,
   "metadata": {},
   "outputs": [],
   "source": [
    "def interpolation_search(arr, x):\n",
    "    l,r = 0, len(arr)-1\n",
    "    if not arr: return -1\n",
    "    if r==0 and arr[r]==x: return 0\n",
    "    if r==0 and arr[r]!=x: return -1\n",
    "    while True:\n",
    "        if (l <= r and x >= arr[l] and x <= arr[r]):\n",
    "            new_idx = l + ((x-arr[l])//(arr[r]-arr[l])) * (r-l) # kind of mid of BS\n",
    "            if x==arr[new_idx]: return new_idx\n",
    "            if x < arr[new_idx]:\n",
    "                r = new_idx-1\n",
    "            else:\n",
    "                l = new_idx+1\n",
    "        else:\n",
    "            break\n",
    "    return -1"
   ]
  },
  {
   "cell_type": "code",
   "execution_count": 57,
   "metadata": {},
   "outputs": [
    {
     "data": {
      "text/plain": [
       "1"
      ]
     },
     "execution_count": 57,
     "metadata": {},
     "output_type": "execute_result"
    }
   ],
   "source": [
    "arr = [1,4,8] # uniformly distributed\n",
    "x = 4\n",
    "interpolation_search(arr, x)"
   ]
  }
 ],
 "metadata": {
  "kernelspec": {
   "display_name": "Python 3.8.8 ('base')",
   "language": "python",
   "name": "python3"
  },
  "language_info": {
   "codemirror_mode": {
    "name": "ipython",
    "version": 3
   },
   "file_extension": ".py",
   "mimetype": "text/x-python",
   "name": "python",
   "nbconvert_exporter": "python",
   "pygments_lexer": "ipython3",
   "version": "3.8.8"
  },
  "orig_nbformat": 4,
  "vscode": {
   "interpreter": {
    "hash": "ad2bdc8ecc057115af97d19610ffacc2b4e99fae6737bb82f5d7fb13d2f2c186"
   }
  }
 },
 "nbformat": 4,
 "nbformat_minor": 2
}
