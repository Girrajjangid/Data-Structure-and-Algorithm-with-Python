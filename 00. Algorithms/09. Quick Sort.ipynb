{
 "cells": [
  {
   "cell_type": "code",
   "execution_count": 92,
   "metadata": {},
   "outputs": [],
   "source": [
    "# Quick sort is a partion based algorithm or divide and conquer approach"
   ]
  },
  {
   "cell_type": "code",
   "execution_count": 93,
   "metadata": {},
   "outputs": [],
   "source": [
    "def quick_sort(array, left_idx, right_idx):\n",
    "    # Using this your pivot will gets its original postion\n",
    "    # now we need to perform this recursively\n",
    "    # after getting the original position of pivot\n",
    "    # we need to sort its left all element and right all elements\n",
    "    i_counter = left_idx-1\n",
    "    pivot_element = array[right_idx]\n",
    "    \n",
    "    for j_counter in range(left_idx, right_idx):\n",
    "        if array[j_counter]<=pivot_element:\n",
    "            i_counter+=1\n",
    "            temp = array[j_counter]\n",
    "            array[j_counter] = array[i_counter]\n",
    "            array[i_counter] = temp\n",
    "    \n",
    "    temp = array[right_idx]\n",
    "    array[right_idx] = array[i_counter+1]\n",
    "    array[i_counter+1] = temp\n",
    "    return i_counter+1 # new pivot\n",
    "\n",
    "\n",
    "def divide_and_conquer(array, left_idx, right_idx):\n",
    "    # base condition\n",
    "    if left_idx<right_idx:\n",
    "        # Recursion calling\n",
    "        middle_idx = quick_sort(array, left_idx, right_idx)\n",
    "        print(f\"After {array} L:{left_idx}  R:{right_idx}  P:{middle_idx}\")\n",
    "        divide_and_conquer(array, left_idx, middle_idx-1)\n",
    "        divide_and_conquer(array, middle_idx+1, right_idx)\n",
    "    else:\n",
    "        return"
   ]
  },
  {
   "cell_type": "code",
   "execution_count": 94,
   "metadata": {},
   "outputs": [
    {
     "name": "stdout",
     "output_type": "stream",
     "text": [
      "After [1, 1, 1, 1, 5, 4, 32, 9, 8, 7, 6] L:0  R:10  P:3\n",
      "After [1, 1, 1, 1, 5, 4, 32, 9, 8, 7, 6] L:0  R:2  P:2\n",
      "After [1, 1, 1, 1, 5, 4, 32, 9, 8, 7, 6] L:0  R:1  P:1\n",
      "After [1, 1, 1, 1, 5, 4, 6, 9, 8, 7, 32] L:4  R:10  P:6\n",
      "After [1, 1, 1, 1, 4, 5, 6, 9, 8, 7, 32] L:4  R:5  P:4\n",
      "After [1, 1, 1, 1, 4, 5, 6, 9, 8, 7, 32] L:7  R:10  P:10\n",
      "After [1, 1, 1, 1, 4, 5, 6, 7, 8, 9, 32] L:7  R:9  P:7\n",
      "After [1, 1, 1, 1, 4, 5, 6, 7, 8, 9, 32] L:8  R:9  P:9\n"
     ]
    },
    {
     "data": {
      "text/plain": [
       "[1, 1, 1, 1, 4, 5, 6, 7, 8, 9, 32]"
      ]
     },
     "execution_count": 94,
     "metadata": {},
     "output_type": "execute_result"
    }
   ],
   "source": [
    "a = [9,8,7,6,5,4,32,1,1,1,1]\n",
    "divide_and_conquer(a,0,len(a)-1)\n",
    "a"
   ]
  },
  {
   "cell_type": "markdown",
   "metadata": {},
   "source": [
    "#### Using Object class"
   ]
  },
  {
   "cell_type": "code",
   "execution_count": 120,
   "metadata": {},
   "outputs": [],
   "source": [
    "class QuickSort:\n",
    "\n",
    "    def quick_sort(self, array, left_idx, right_idx):\n",
    "        i_counter = left_idx-1\n",
    "        pivot_element = array[right_idx]\n",
    "        for j_counter in range(left_idx, right_idx):\n",
    "            if array[j_counter]<=pivot_element:\n",
    "                i_counter+=1\n",
    "                array[i_counter], array[j_counter] = array[j_counter], array[i_counter]\n",
    "        array[right_idx], array[i_counter+1] = array[i_counter+1], array[right_idx]\n",
    "        return i_counter+1\n",
    "\n",
    "    def divide_and_conquour(self, array, left_idx, right_idx):\n",
    "        if left_idx<right_idx:\n",
    "            middle_idx = self.quick_sort(array, left_idx, right_idx)\n",
    "            print(f\"After {array} L:{left_idx}  R:{right_idx}  P:{middle_idx}\")\n",
    "            self.divide_and_conquour(array, left_idx, middle_idx-1)\n",
    "            self.divide_and_conquour(array, middle_idx+1, right_idx)\n",
    "        else:\n",
    "            return"
   ]
  },
  {
   "cell_type": "code",
   "execution_count": 121,
   "metadata": {},
   "outputs": [
    {
     "name": "stdout",
     "output_type": "stream",
     "text": [
      "After [-10, 2, 4, 53, 12, 14] L:0  R:5  P:2\n",
      "After [-10, 2, 4, 53, 12, 14] L:0  R:1  P:1\n",
      "After [-10, 2, 4, 12, 14, 53] L:3  R:5  P:4\n"
     ]
    },
    {
     "data": {
      "text/plain": [
       "[-10, 2, 4, 12, 14, 53]"
      ]
     },
     "execution_count": 121,
     "metadata": {},
     "output_type": "execute_result"
    }
   ],
   "source": [
    "arr = [-10,12,14,53,2,4]\n",
    "QuickSort().divide_and_conquour(arr,0,len(arr)-1)\n",
    "arr"
   ]
  },
  {
   "cell_type": "code",
   "execution_count": null,
   "metadata": {},
   "outputs": [],
   "source": []
  }
 ],
 "metadata": {
  "kernelspec": {
   "display_name": "Python 3.8.8 ('base')",
   "language": "python",
   "name": "python3"
  },
  "language_info": {
   "codemirror_mode": {
    "name": "ipython",
    "version": 3
   },
   "file_extension": ".py",
   "mimetype": "text/x-python",
   "name": "python",
   "nbconvert_exporter": "python",
   "pygments_lexer": "ipython3",
   "version": "3.8.8"
  },
  "orig_nbformat": 4,
  "vscode": {
   "interpreter": {
    "hash": "ad2bdc8ecc057115af97d19610ffacc2b4e99fae6737bb82f5d7fb13d2f2c186"
   }
  }
 },
 "nbformat": 4,
 "nbformat_minor": 2
}
