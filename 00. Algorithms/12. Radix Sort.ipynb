{
 "cells": [
  {
   "cell_type": "markdown",
   "metadata": {},
   "source": [
    "- Time: O(NX)\n",
    "- Space: O(N)\n",
    "- where X is the number of digit of max value"
   ]
  },
  {
   "cell_type": "code",
   "execution_count": 61,
   "metadata": {},
   "outputs": [],
   "source": [
    "class Radix:\n",
    "    \n",
    "    def sortA(self, arr):\n",
    "        bucket = [[] for i in range(10)]\n",
    "        count = 0\n",
    "        for val in arr:  # T:O(N), S:O(N)\n",
    "            bucket[(val//(10**count))%10].append(val)\n",
    "        count+=1\n",
    "        \n",
    "        new_bucket = []\n",
    "        while count < len(str(max(arr))):\n",
    "            new_bucket = [[] for i in range(10)]\n",
    "            for sub_bucket in bucket:\n",
    "                for val in sub_bucket:\n",
    "                    new_bucket[(val//(10**count))%10].append(val)\n",
    "            count+=1\n",
    "        if new_bucket:\n",
    "            res = []\n",
    "            for sub_bucket in new_bucket:\n",
    "                res.extend(sub_bucket)\n",
    "            return res\n",
    "        else:\n",
    "            res = []\n",
    "            for sub_bucket in bucket:\n",
    "                res.extend(sub_bucket)\n",
    "            return res\n",
    "            \n",
    "        \n",
    "    def sort(self, arr, ascending=False):\n",
    "        return self.sortA(arr) if ascending else self.sortA(arr)[::-1]"
   ]
  },
  {
   "cell_type": "code",
   "execution_count": 62,
   "metadata": {},
   "outputs": [
    {
     "name": "stdout",
     "output_type": "stream",
     "text": [
      "[3, 4, 5, 5, 6, 6, 7, 8, 9, 10]\n",
      "[10, 9, 8, 7, 6, 6, 5, 5, 4, 3]\n"
     ]
    }
   ],
   "source": [
    "arr = [10,9,8,7,6,5,4,3,6,5]\n",
    "print(Radix().sort(arr, True))\n",
    "print(Radix().sort(arr, False))"
   ]
  },
  {
   "cell_type": "code",
   "execution_count": null,
   "metadata": {},
   "outputs": [],
   "source": []
  }
 ],
 "metadata": {
  "kernelspec": {
   "display_name": "Python 3.8.8 ('base')",
   "language": "python",
   "name": "python3"
  },
  "language_info": {
   "codemirror_mode": {
    "name": "ipython",
    "version": 3
   },
   "file_extension": ".py",
   "mimetype": "text/x-python",
   "name": "python",
   "nbconvert_exporter": "python",
   "pygments_lexer": "ipython3",
   "version": "3.8.8"
  },
  "orig_nbformat": 4,
  "vscode": {
   "interpreter": {
    "hash": "ad2bdc8ecc057115af97d19610ffacc2b4e99fae6737bb82f5d7fb13d2f2c186"
   }
  }
 },
 "nbformat": 4,
 "nbformat_minor": 2
}
