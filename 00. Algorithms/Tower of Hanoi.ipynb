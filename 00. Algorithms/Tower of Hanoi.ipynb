{
 "cells": [
  {
   "cell_type": "code",
   "execution_count": 38,
   "metadata": {},
   "outputs": [],
   "source": [
    "# Lets make a tower of hanoi having\n",
    "# only 3 pols or tower.\n",
    "\n",
    "#     |       |       |\n",
    "#     |       |       |\n",
    "#     |       |       |\n",
    "#   __|__     |       |\n",
    "# __|_|_|_ ___|___ ___|___\n",
    "#     A       B       C\n",
    "\n",
    "# task is to move n disk from A to C using B only.\n"
   ]
  },
  {
   "cell_type": "code",
   "execution_count": 39,
   "metadata": {},
   "outputs": [],
   "source": [
    "# Actually nothing is happening\n",
    "# We are just want to calculate no. of operation performed\n",
    "# using recursion method.\n",
    "\n",
    "class Tower:\n",
    "    def __init__(self):\n",
    "        self.counter = 0\n",
    "    \n",
    "    def hanoi(self, n, a:str='A', b:str='B', c:str='C') -> None:\n",
    "        '''\n",
    "        n = number of slides.\n",
    "        a = it just representation of 1st tower. Source [we will print it as source]\n",
    "        b = same as above. auxilary or temp\n",
    "        c = same same. destination. [will print it in destination manner]\n",
    "        '''\n",
    "        # Base condition\n",
    "        if n==1:\n",
    "            self.counter+=1\n",
    "            print(f\"{self.counter}: Move {n} no. disk: {a} --> {c}\")\n",
    "            return \n",
    "        # recursive calling\n",
    "        self.hanoi(n-1, a, c, b) # your destination is b with help of c\n",
    "        self.counter+=1\n",
    "        print(f\"{self.counter}: Move {n} no. disk: {a} --> {c}\")\n",
    "        self.hanoi(n-1, b, a, c) # your destination is c with the help of a "
   ]
  },
  {
   "cell_type": "code",
   "execution_count": 40,
   "metadata": {},
   "outputs": [
    {
     "name": "stdout",
     "output_type": "stream",
     "text": [
      "1: Move 1 no. disk: A --> C\n",
      "2: Move 2 no. disk: A --> B\n",
      "3: Move 1 no. disk: C --> B\n",
      "4: Move 3 no. disk: A --> C\n",
      "5: Move 1 no. disk: B --> A\n",
      "6: Move 2 no. disk: B --> C\n",
      "7: Move 1 no. disk: A --> C\n"
     ]
    }
   ],
   "source": [
    "Tower().hanoi(3)"
   ]
  },
  {
   "cell_type": "code",
   "execution_count": null,
   "metadata": {},
   "outputs": [],
   "source": []
  }
 ],
 "metadata": {
  "kernelspec": {
   "display_name": "Python 3.8.8 ('base')",
   "language": "python",
   "name": "python3"
  },
  "language_info": {
   "codemirror_mode": {
    "name": "ipython",
    "version": 3
   },
   "file_extension": ".py",
   "mimetype": "text/x-python",
   "name": "python",
   "nbconvert_exporter": "python",
   "pygments_lexer": "ipython3",
   "version": "3.8.8"
  },
  "orig_nbformat": 4,
  "vscode": {
   "interpreter": {
    "hash": "ad2bdc8ecc057115af97d19610ffacc2b4e99fae6737bb82f5d7fb13d2f2c186"
   }
  }
 },
 "nbformat": 4,
 "nbformat_minor": 2
}
