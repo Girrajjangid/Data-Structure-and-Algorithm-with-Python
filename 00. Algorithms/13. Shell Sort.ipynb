{
 "cells": [
  {
   "cell_type": "markdown",
   "metadata": {},
   "source": [
    "- This is the extension version of Insertion Sort:\n",
    "- T:O(NlogN)\n",
    "- S:O(1)"
   ]
  },
  {
   "cell_type": "code",
   "execution_count": 40,
   "metadata": {},
   "outputs": [],
   "source": [
    "class Shell:\n",
    "    \n",
    "    def _sort(self, arr):\n",
    "        length = len(arr)\n",
    "        gap = (length-1)//2\n",
    "        while gap>0: # LogN\n",
    "            for i in range(gap): # LogN\n",
    "                list_of_idx = [j for j in range(i,length,gap)] # LogN\n",
    "                for idx, val in enumerate(list_of_idx[:-1]): # LogN*LogN\n",
    "                    while idx>=0 and arr[list_of_idx[idx+1]] < arr[list_of_idx[idx]]:\n",
    "                        arr[list_of_idx[idx+1]], arr[list_of_idx[idx]] = arr[list_of_idx[idx]], arr[list_of_idx[idx+1]]\n",
    "                        idx-=1\n",
    "            gap = gap//2\n",
    "        return arr\n",
    "        \n",
    "    def sort(self, arr, ascending=False):\n",
    "        return self._sort(arr) if ascending else self._sort(arr)[::-1]"
   ]
  },
  {
   "cell_type": "code",
   "execution_count": 41,
   "metadata": {},
   "outputs": [
    {
     "name": "stdout",
     "output_type": "stream",
     "text": [
      "[3, 4, 5, 5, 6, 6, 7, 8, 9, 10]\n",
      "[10, 9, 8, 7, 6, 6, 5, 5, 4, 3]\n"
     ]
    }
   ],
   "source": [
    "arr = [10,9,8,7,6,5,4,3,6,5]\n",
    "print(Shell().sort(arr, True))\n",
    "print(Shell().sort(arr, False))"
   ]
  },
  {
   "cell_type": "code",
   "execution_count": null,
   "metadata": {},
   "outputs": [],
   "source": []
  }
 ],
 "metadata": {
  "kernelspec": {
   "display_name": "Python 3.8.8 ('base')",
   "language": "python",
   "name": "python3"
  },
  "language_info": {
   "codemirror_mode": {
    "name": "ipython",
    "version": 3
   },
   "file_extension": ".py",
   "mimetype": "text/x-python",
   "name": "python",
   "nbconvert_exporter": "python",
   "pygments_lexer": "ipython3",
   "version": "3.8.8"
  },
  "orig_nbformat": 4,
  "vscode": {
   "interpreter": {
    "hash": "ad2bdc8ecc057115af97d19610ffacc2b4e99fae6737bb82f5d7fb13d2f2c186"
   }
  }
 },
 "nbformat": 4,
 "nbformat_minor": 2
}
