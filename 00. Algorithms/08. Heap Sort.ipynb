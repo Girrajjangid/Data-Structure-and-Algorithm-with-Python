{
 "cells": [
  {
   "cell_type": "code",
   "execution_count": 71,
   "metadata": {},
   "outputs": [],
   "source": [
    "# Lets create a Min Heap"
   ]
  },
  {
   "cell_type": "code",
   "execution_count": 72,
   "metadata": {},
   "outputs": [],
   "source": [
    "class Heap:\n",
    "    '''\n",
    "    Total Complexity would be:\n",
    "        nlogn (min or max heap) + nlogn (sorting) => 2nlogn\n",
    "    '''\n",
    "    def minHeap(self, arr=None): # n*logn\n",
    "        for idx, val in enumerate(arr):\n",
    "            while idx >= 1 and val < arr[idx//2]:\n",
    "                arr[idx] = arr[idx//2]\n",
    "                idx = idx//2\n",
    "            arr[idx] = val\n",
    "        return arr\n",
    "        \n",
    "    def maxHeap(self, arr=None): # n*logn\n",
    "        for idx, val in enumerate(arr):\n",
    "            while idx>=1 and val > arr[idx//2]:\n",
    "                arr[idx] = arr[idx//2]\n",
    "                idx = idx//2\n",
    "            arr[idx] = val\n",
    "        return arr\n",
    "        \n",
    "    def _sortA(self, arr): # n*logn\n",
    "        l,r = 0, len(arr)-1\n",
    "        while l<r:\n",
    "            arr[l], arr[r] = arr[r], arr[l]\n",
    "            r-=1\n",
    "            j = 1\n",
    "            while j < r:\n",
    "                if arr[j+1] > arr[j]:\n",
    "                    j = j+1\n",
    "                if arr[j] > arr[l]:\n",
    "                    arr[l], arr[j] = arr[j], arr[l]\n",
    "                    l = j\n",
    "                    j = j*2\n",
    "                else: break\n",
    "            l = 0\n",
    "        if arr[1] < arr[0]:\n",
    "           arr[0], arr[1] = arr[1], arr[0]\n",
    "        return arr\n",
    "            \n",
    "            \n",
    "    def _sortD(self, arr):\n",
    "        l,r = 0, len(arr)-1\n",
    "        while l<r:\n",
    "            arr[l], arr[r] = arr[r], arr[l]\n",
    "            r-=1\n",
    "            j = 1\n",
    "            while j < r:\n",
    "                if arr[j+1] < arr[j]:\n",
    "                    j = j+1\n",
    "                if arr[j] < arr[l]:\n",
    "                    arr[l], arr[j] = arr[j], arr[l]\n",
    "                    l = j\n",
    "                    j = j*2\n",
    "                else: break\n",
    "            l = 0\n",
    "        if arr[1] > arr[0]:\n",
    "           arr[0], arr[1] = arr[1], arr[0]\n",
    "        return arr\n",
    "    \n",
    "    def sort(self, arr, ascending=True):\n",
    "        return self._sortA(self.maxHeap(arr)) if ascending else self._sortD(self.minHeap(arr))\n",
    "            "
   ]
  },
  {
   "cell_type": "code",
   "execution_count": 70,
   "metadata": {},
   "outputs": [
    {
     "name": "stdout",
     "output_type": "stream",
     "text": [
      "[1, 2, 3, 5, 7, 9, 10]\n",
      "[10, 9, 7, 5, 3, 2, 1]\n"
     ]
    }
   ],
   "source": [
    "arr = [9,10,2,3,5,7,1]\n",
    "\n",
    "print(Heap().sort(arr,ascending=True))\n",
    "print(Heap().sort(arr,ascending=False))"
   ]
  },
  {
   "cell_type": "markdown",
   "metadata": {},
   "source": [
    "#### Lets optimize this with Algorithm Heapify"
   ]
  },
  {
   "cell_type": "code",
   "execution_count": null,
   "metadata": {},
   "outputs": [],
   "source": [
    "class Heap:\n",
    "    \n",
    "    def heapify(self):\n",
    "        \n",
    "        "
   ]
  }
 ],
 "metadata": {
  "kernelspec": {
   "display_name": "Python 3.8.8 ('base')",
   "language": "python",
   "name": "python3"
  },
  "language_info": {
   "codemirror_mode": {
    "name": "ipython",
    "version": 3
   },
   "file_extension": ".py",
   "mimetype": "text/x-python",
   "name": "python",
   "nbconvert_exporter": "python",
   "pygments_lexer": "ipython3",
   "version": "3.8.8"
  },
  "orig_nbformat": 4,
  "vscode": {
   "interpreter": {
    "hash": "ad2bdc8ecc057115af97d19610ffacc2b4e99fae6737bb82f5d7fb13d2f2c186"
   }
  }
 },
 "nbformat": 4,
 "nbformat_minor": 2
}
