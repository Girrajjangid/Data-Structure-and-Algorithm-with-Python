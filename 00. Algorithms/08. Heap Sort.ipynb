{
 "cells": [
  {
   "cell_type": "code",
   "execution_count": 71,
   "metadata": {},
   "outputs": [],
   "source": [
    "# Lets create a Min Heap"
   ]
  },
  {
   "cell_type": "code",
   "execution_count": 113,
   "metadata": {},
   "outputs": [],
   "source": [
    "class Heap:\n",
    "    '''\n",
    "    Total Complexity would be:\n",
    "        nlogn (min or max heap) + nlogn (sorting) => 2nlogn\n",
    "    '''\n",
    "    def minHeap(self, arr=None): # n*logn\n",
    "        for idx, val in enumerate(arr):\n",
    "            while idx >= 1 and val < arr[idx//2]:\n",
    "                arr[idx] = arr[idx//2]\n",
    "                idx = idx//2\n",
    "            arr[idx] = val\n",
    "        return arr\n",
    "        \n",
    "    def maxHeap(self, arr=None): # n*logn\n",
    "        for idx, val in enumerate(arr):\n",
    "            while idx>=1 and val > arr[idx//2]:\n",
    "                arr[idx] = arr[idx//2]\n",
    "                idx = idx//2\n",
    "            arr[idx] = val\n",
    "        return arr\n",
    "        \n",
    "    def _sortA(self, arr): # n*logn\n",
    "        l,r = 0, len(arr)-1\n",
    "        while l<r:\n",
    "            arr[l], arr[r] = arr[r], arr[l]\n",
    "            r-=1\n",
    "            j = 1\n",
    "            while j < r:\n",
    "                if arr[j+1] > arr[j]:\n",
    "                    j = j+1\n",
    "                if arr[j] > arr[l]:\n",
    "                    arr[l], arr[j] = arr[j], arr[l]\n",
    "                    l = j\n",
    "                    j = j*2\n",
    "                else: break\n",
    "            l = 0\n",
    "        if arr[1] < arr[0]:\n",
    "           arr[0], arr[1] = arr[1], arr[0]\n",
    "        return arr\n",
    "            \n",
    "            \n",
    "    def _sortD(self, arr):\n",
    "        l,r = 0, len(arr)-1\n",
    "        while l<r:\n",
    "            arr[l], arr[r] = arr[r], arr[l]\n",
    "            r-=1\n",
    "            j = 1\n",
    "            while j < r:\n",
    "                if arr[j+1] < arr[j]:\n",
    "                    j = j+1\n",
    "                if arr[j] < arr[l]:\n",
    "                    arr[l], arr[j] = arr[j], arr[l]\n",
    "                    l = j\n",
    "                    j = j*2\n",
    "                else: break\n",
    "            l = 0\n",
    "        if arr[1] > arr[0]:\n",
    "           arr[0], arr[1] = arr[1], arr[0]\n",
    "        return arr\n",
    "    \n",
    "    def sort(self, arr, ascending=True):\n",
    "        return self._sortA(self.maxHeap(arr)) if ascending else self._sortD(self.minHeap(arr))\n",
    "            "
   ]
  },
  {
   "cell_type": "code",
   "execution_count": 114,
   "metadata": {},
   "outputs": [
    {
     "name": "stdout",
     "output_type": "stream",
     "text": [
      "[1, 2, 3, 5, 7, 9, 10]\n",
      "[10, 9, 7, 5, 3, 2, 1]\n"
     ]
    }
   ],
   "source": [
    "arr = [9,10,2,3,5,7,1]\n",
    "\n",
    "print(Heap().sort(arr,ascending=True))\n",
    "print(Heap().sort(arr,ascending=False))"
   ]
  },
  {
   "cell_type": "markdown",
   "metadata": {},
   "source": [
    "#### Lets optimize this with Algorithm Heapify"
   ]
  },
  {
   "cell_type": "code",
   "execution_count": 119,
   "metadata": {},
   "outputs": [],
   "source": [
    "class Heap:\n",
    "    \n",
    "    def minHeapify(self, arr):\n",
    "        length = len(arr)\n",
    "        for idx in range(length//2+1, 0, -1): # Reverse order traversal\n",
    "            child = idx*2\n",
    "            while child <= length:\n",
    "                if (child != length) and (arr[child] < arr[child-1]):\n",
    "                    child += 1\n",
    "                if arr[child-1] < arr[idx-1]:\n",
    "                    arr[idx-1], arr[child-1] = arr[child-1], arr[idx-1]\n",
    "                    idx = child\n",
    "                    child = child*2\n",
    "                else: break\n",
    "        return arr\n",
    "    \n",
    "    def maxHeapify(self, arr):\n",
    "        length = len(arr)\n",
    "        for idx in range(length//2+1, 0, -1): # Reverse order traversal\n",
    "            child = idx*2\n",
    "            while child <= length:\n",
    "                if (child != length) and (arr[child] > arr[child-1]):\n",
    "                    child += 1\n",
    "                if arr[child-1] > arr[idx-1]:\n",
    "                    arr[idx-1], arr[child-1] = arr[child-1], arr[idx-1]\n",
    "                    idx = child\n",
    "                    child = child*2\n",
    "                else: break\n",
    "        return arr\n",
    "    \n",
    "    def _sortA(self, arr): # n*logn\n",
    "        l,r = 0, len(arr)-1\n",
    "        while l<r:\n",
    "            arr[l], arr[r] = arr[r], arr[l]\n",
    "            r-=1\n",
    "            j = 1\n",
    "            while j < r:\n",
    "                if arr[j+1] > arr[j]:\n",
    "                    j = j+1\n",
    "                if arr[j] > arr[l]:\n",
    "                    arr[l], arr[j] = arr[j], arr[l]\n",
    "                    l = j\n",
    "                    j = j*2\n",
    "                else: break\n",
    "            l = 0\n",
    "        if arr[1] < arr[0]:\n",
    "           arr[0], arr[1] = arr[1], arr[0]\n",
    "        return arr\n",
    "            \n",
    "            \n",
    "    def _sortD(self, arr):\n",
    "        l,r = 0, len(arr)-1\n",
    "        while l<r:\n",
    "            arr[l], arr[r] = arr[r], arr[l]\n",
    "            r-=1\n",
    "            j = 1\n",
    "            while j < r:\n",
    "                if arr[j+1] < arr[j]:\n",
    "                    j = j+1\n",
    "                if arr[j] < arr[l]:\n",
    "                    arr[l], arr[j] = arr[j], arr[l]\n",
    "                    l = j\n",
    "                    j = j*2\n",
    "                else: break\n",
    "            l = 0\n",
    "        if arr[1] > arr[0]:\n",
    "           arr[0], arr[1] = arr[1], arr[0]\n",
    "        return arr\n",
    "    \n",
    "    def sort(self, arr, ascending=True):\n",
    "        return self._sortA(self.maxHeapify(arr)) if ascending else self._sortD(self.minHeapify(arr))\n",
    "            "
   ]
  },
  {
   "cell_type": "code",
   "execution_count": 120,
   "metadata": {},
   "outputs": [
    {
     "name": "stdout",
     "output_type": "stream",
     "text": [
      "[1, 2, 3, 5, 7, 9, 10]\n",
      "[10, 9, 7, 5, 3, 2, 1]\n"
     ]
    }
   ],
   "source": [
    "arr = [9,10,2,3,5,7,1]\n",
    "\n",
    "print(Heap().sort(arr,ascending=True))\n",
    "print(Heap().sort(arr,ascending=False))"
   ]
  },
  {
   "cell_type": "code",
   "execution_count": null,
   "metadata": {},
   "outputs": [],
   "source": []
  },
  {
   "cell_type": "code",
   "execution_count": 122,
   "metadata": {},
   "outputs": [],
   "source": [
    "# Using recursively\n",
    "\n",
    "class Heap:\n",
    "\n",
    "    def heapify(self, arr, n, i):\n",
    "        largest = i  # Initialize largest as root\n",
    "        l = 2 * i + 1  # left = 2*i + 1\n",
    "        r = 2 * i + 2  # right = 2*i + 2\n",
    "        \n",
    "        if l < n and arr[largest] < arr[l]:\n",
    "            largest = l\n",
    "    \n",
    "        if r < n and arr[largest] < arr[r]:\n",
    "            largest = r\n",
    "    \n",
    "        if largest != i:\n",
    "            (arr[i], arr[largest]) = (arr[largest], arr[i])  # swap\n",
    "            self.heapify(arr, n, largest)\n",
    "    \n",
    "    \n",
    "    # The main function to sort an array of given size    \n",
    "    def heapSort(self, arr):\n",
    "        n = len(arr)    \n",
    "        for i in range(n // 2 - 1, -1, -1):\n",
    "            self.heapify(arr, n, i)\n",
    "            \n",
    "        for i in range(n - 1, 0, -1):\n",
    "            (arr[i], arr[0]) = (arr[0], arr[i])  # swap\n",
    "            self.heapify(arr, i, 0)"
   ]
  },
  {
   "cell_type": "code",
   "execution_count": null,
   "metadata": {},
   "outputs": [],
   "source": []
  }
 ],
 "metadata": {
  "kernelspec": {
   "display_name": "Python 3.8.8 ('base')",
   "language": "python",
   "name": "python3"
  },
  "language_info": {
   "codemirror_mode": {
    "name": "ipython",
    "version": 3
   },
   "file_extension": ".py",
   "mimetype": "text/x-python",
   "name": "python",
   "nbconvert_exporter": "python",
   "pygments_lexer": "ipython3",
   "version": "3.8.8"
  },
  "orig_nbformat": 4,
  "vscode": {
   "interpreter": {
    "hash": "ad2bdc8ecc057115af97d19610ffacc2b4e99fae6737bb82f5d7fb13d2f2c186"
   }
  }
 },
 "nbformat": 4,
 "nbformat_minor": 2
}
