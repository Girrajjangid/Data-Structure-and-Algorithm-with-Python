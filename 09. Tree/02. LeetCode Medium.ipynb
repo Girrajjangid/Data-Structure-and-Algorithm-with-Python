{
 "cells": [
  {
   "cell_type": "code",
   "execution_count": 1,
   "metadata": {},
   "outputs": [],
   "source": [
    "from typing import List, Tuple, Dict, Optional\n",
    "from collections import deque"
   ]
  },
  {
   "cell_type": "code",
   "execution_count": 2,
   "metadata": {},
   "outputs": [],
   "source": [
    "class TreeNode:\n",
    "    def __init__(self, val=0, left=None, right=None):\n",
    "        self.val = val\n",
    "        self.left = left\n",
    "        self.right = right\n",
    "\n",
    "class BinaryTree:\n",
    "    def __init__(self,root=None):\n",
    "        self.root = None\n",
    "        self.level_insert_q = []\n",
    "        \n",
    "    def preOrderRecursive(self, node):\n",
    "        if node:\n",
    "            print(node.val, end=' ')\n",
    "            self.preOrderRecursive(node.left)\n",
    "            self.preOrderRecursive(node.right)\n",
    "\n",
    "    def inOrderRecursive(self, node):\n",
    "        if node:\n",
    "            self.inOrderRecursive(node.left)\n",
    "            print(node.val, end=' ')\n",
    "            self.inOrderRecursive(node.right)\n",
    "    \n",
    "    def postOrderRecursive(self, node):\n",
    "        if node:\n",
    "            self.postOrderRecursive(node.left)\n",
    "            self.postOrderRecursive(node.right)\n",
    "            print(node.val, end=' ')\n",
    "            \n",
    "    def levelOrderIterative(self, node):\n",
    "        if node is None: return\n",
    "        q = deque()\n",
    "        q.append(node)\n",
    "        while q:\n",
    "            node = q.popleft()\n",
    "            if node is None: continue\n",
    "            print(node.val, end=' ')\n",
    "            q.append(node.left)\n",
    "            q.append(node.right)                \n",
    "    \n",
    "    def append(self, data, types):\n",
    "        if self.root is None:\n",
    "            self.root = TreeNode(data)\n",
    "        else:\n",
    "            self._appendBinary(self.root, data)\n",
    "        return self\n",
    "                    \n",
    "    def _appendBinary(self, node, data):\n",
    "        if data < node.val:\n",
    "            if node.left is None:\n",
    "                node.left = TreeNode(data)\n",
    "            else:\n",
    "                self._appendBinary(node.left, data)\n",
    "        else:\n",
    "            if node.right is None:\n",
    "                node.right = TreeNode(data)\n",
    "            else:\n",
    "                self._appendBinary(node.right, data)\n",
    "            \n",
    "    def extend(self, data_list, types = \"binary\"):\n",
    "        for data in data_list:\n",
    "            self.append(data, types)\n",
    "        return self\n",
    "            \n",
    "    def height(self):\n",
    "        if self.root is None:\n",
    "            return 0\n",
    "        else:\n",
    "            return self._height(self.root, 0)\n",
    "    \n",
    "    def _height(self, node, height):\n",
    "        if node is None: return height\n",
    "        left_height = self._height(node.left, height+1)\n",
    "        right_height = self._height(node.right, height+1)\n",
    "        return max(left_height, right_height)"
   ]
  },
  {
   "cell_type": "code",
   "execution_count": 3,
   "metadata": {},
   "outputs": [],
   "source": [
    "class TreeNode:\n",
    "    def __init__(self, val=0, left=None, right=None):\n",
    "        self.val = val\n",
    "        self.left = left\n",
    "        self.right = right\n",
    "        \n",
    "class Node:\n",
    "    def __init__(self, val=0, left=None, right=None):\n",
    "        self.val = val\n",
    "        self.left = left\n",
    "        self.right = right\n",
    "\n",
    "class BinaryTree:\n",
    "\n",
    "    def __init__(self, root=None):\n",
    "        self.root = root\n",
    "        \n",
    "    def preOrder(self, root=None):\n",
    "        root = self.root if root is None else root\n",
    "        res = []\n",
    "        stack = []\n",
    "        while root or stack:\n",
    "            if root:\n",
    "                res.append(root.val)\n",
    "                stack.append(root)\n",
    "                root = root.left\n",
    "            else:\n",
    "                root = stack.pop()\n",
    "                root = root.right\n",
    "        return res\n",
    "    \n",
    "    def inOrder(self, root=None):\n",
    "        root = self.root if root is None else root\n",
    "        res = []\n",
    "        stack = []\n",
    "        while root or stack:\n",
    "            if root:\n",
    "                stack.append(root)\n",
    "                root = root.left\n",
    "            else:\n",
    "                root = stack.pop()\n",
    "                res.append(root.val)\n",
    "                root = root.right\n",
    "        return res\n",
    "                \n",
    "    def postOrder(self, root=None):\n",
    "        root = self.root if root is None else root\n",
    "        res = []\n",
    "        stack = []\n",
    "        while root or stack:\n",
    "            if root:\n",
    "                stack.append((root,1))\n",
    "                root = root.left\n",
    "            else:\n",
    "                root, indicator = stack.pop()\n",
    "                if indicator:\n",
    "                    stack.append((root, 0))\n",
    "                    root = root.right\n",
    "                else:\n",
    "                    res.append(root.val)\n",
    "                    root = None\n",
    "        return res\n",
    "                    \n",
    "    def levelOrder(self, root=None):\n",
    "        root = self.root if root is None else root\n",
    "        stack = [root]\n",
    "        res = []\n",
    "        while root or stack:\n",
    "            root = stack.pop(0)\n",
    "            if root is None:\n",
    "                res.append(None)\n",
    "                continue\n",
    "            res.append(root.val)\n",
    "            if root.left:\n",
    "                stack.append(root.left)\n",
    "            else:\n",
    "                stack.append(None)\n",
    "            if root.right:\n",
    "                stack.append(root.right)\n",
    "            else:\n",
    "                stack.append(None)\n",
    "        return res\n",
    "    \n",
    "        \n",
    "    def extend(self, data:List[int], type='bst') -> None:\n",
    "        ''' type: bst, level\n",
    "        '''\n",
    "        if type=='bst':\n",
    "            data = [val for val in data if val is not None]\n",
    "            for val in data:\n",
    "                if self.root is None:\n",
    "                    self.root = Node(val)\n",
    "                else:\n",
    "                    self._extend_bst(self.root, val)\n",
    "        else:\n",
    "            self._extend_level(data)\n",
    "        return self.root\n",
    "\n",
    " \n",
    "    def _extend_level(self, data):\n",
    "        root = Node(data[0])\n",
    "        self.root = root\n",
    "        stack = []\n",
    "        for val in data[1:]:\n",
    "            if root.left is None: \n",
    "                root.left = Node(val)\n",
    "                stack.append(root.left)  \n",
    "                continue\n",
    "            if root.right is None: \n",
    "                root.right = Node(val)  \n",
    "                stack.append(root.right)  \n",
    "                continue\n",
    "            root = stack.pop(0)\n",
    "            root.left = Node(val)\n",
    "            stack.append(root.left)\n",
    "            \n",
    "    def _extend_bst(self, root, data):\n",
    "        if data < root.val:\n",
    "            if root.left is None:\n",
    "                root.left = Node(data)\n",
    "            else:\n",
    "                self._extend_bst(root.left, data)\n",
    "        else:\n",
    "            if root.right is None:\n",
    "                root.right = Node(data)\n",
    "            else:\n",
    "                self._extend_bst(root.right, data)\n",
    "                \n",
    "    \n",
    "    def height(self, root=None):\n",
    "        root = self.root if root is None else root\n",
    "        if root is None: return 0\n",
    "        else: return self._height(root, 0) - 1\n",
    "    \n",
    "    def _height(self, root, height):\n",
    "        if root is None: return height\n",
    "        return max(self._height(root.left, height+1), self._height(root.right, height+1))\n",
    "    \n",
    "\n",
    "    def find(self, val):\n",
    "        return self._find(self.root, val)\n",
    "    \n",
    "    def _find(self, root, val):\n",
    "        if root is None: return False\n",
    "        if root.val == val: return True\n",
    "        if val < root.val:\n",
    "            return self._find(root.left, val)\n",
    "        else:\n",
    "            return self._find(root.right, val)\n",
    "        \n",
    "    def delete(self, val):\n",
    "        return self._delete(self.root, val)\n",
    "    \n",
    "    def _delete(self, root, val):\n",
    "        if root is None: return root\n",
    "        if val < root.val:\n",
    "            root.left = self._delete(root.left, val)\n",
    "        elif val > root.val:\n",
    "            root.right = self._delete(root.right, val)\n",
    "        else: # Node with one child or no child\n",
    "            if root.left is None and root.right is None: \n",
    "                root = None\n",
    "                return root\n",
    "            elif root.left is None:\n",
    "                temp = root.right\n",
    "                root = None\n",
    "                return temp\n",
    "            elif root.right is None:\n",
    "                temp = root.left\n",
    "                root = None\n",
    "                return temp\n",
    "            # Node with two child get the inorder successor\n",
    "            if self.height(root.left) <= self.height(root.right):\n",
    "                new_value = self.inOrder(root.left)[-1]\n",
    "                root.val = new_value\n",
    "                root.left = self._delete(root.left, new_value)\n",
    "            else:\n",
    "                new_value = self.inOrder(root.right)[0]\n",
    "                root.val = new_value\n",
    "                root.right = self._delete(root.right, new_value)\n",
    "        return root        "
   ]
  },
  {
   "cell_type": "markdown",
   "metadata": {},
   "source": [
    "#### 1. Count Good Nodes in Binary Tree"
   ]
  },
  {
   "cell_type": "code",
   "execution_count": null,
   "metadata": {},
   "outputs": [],
   "source": [
    "# Definition for a binary tree node.\n",
    "# class TreeNode:\n",
    "#     def __init__(self, val=0, left=None, right=None):\n",
    "#         self.val = val\n",
    "#         self.left = left\n",
    "#         self.right = right\n",
    "class Solution:\n",
    "    def goodNodes(self, root: TreeNode) -> int:\n",
    "        \n",
    "        # Lets define another recursion function\n",
    "        def dfs(node, maxValue):\n",
    "            if not node: return 0\n",
    "            res = 1 if node.val >= maxValue else 0\n",
    "            maxValue = max(maxValue, node.val)\n",
    "            res += dfs(node.left, maxValue)\n",
    "            res += dfs(node.right, maxValue)\n",
    "            return res\n",
    "        \n",
    "        return dfs(root, root.val)\n"
   ]
  },
  {
   "cell_type": "markdown",
   "metadata": {},
   "source": [
    "#### 2. Is Valid BST"
   ]
  },
  {
   "cell_type": "code",
   "execution_count": 16,
   "metadata": {},
   "outputs": [],
   "source": [
    "class Solution:\n",
    "    def isValidBST(self, root: Optional[TreeNode]) -> bool:\n",
    "        \n",
    "        def valid(node, left, right):\n",
    "            if node is None: return True\n",
    "            if not (left < node.val < right): return False\n",
    "            return valid(node.left, left, node.val) and valid(node.right, node.val, right)\n",
    "        \n",
    "        return valid(root, float('-inf'), float('inf'))            "
   ]
  },
  {
   "cell_type": "code",
   "execution_count": 17,
   "metadata": {},
   "outputs": [
    {
     "name": "stdout",
     "output_type": "stream",
     "text": [
      "2 1 3 None\n"
     ]
    },
    {
     "data": {
      "text/plain": [
       "True"
      ]
     },
     "execution_count": 17,
     "metadata": {},
     "output_type": "execute_result"
    }
   ],
   "source": [
    "root = [2,1,3]\n",
    "tree = BinaryTree(TreeNode(None)).extend(root)\n",
    "print(tree.levelOrderIterative(tree.root))\n",
    "Solution().isValidBST(tree.root)"
   ]
  },
  {
   "cell_type": "markdown",
   "metadata": {},
   "source": [
    "#### 3. Lowest Common Ancestor"
   ]
  },
  {
   "cell_type": "code",
   "execution_count": 19,
   "metadata": {},
   "outputs": [],
   "source": [
    "class Solution:\n",
    "    def lowestCommonAncestor(self, root: 'TreeNode', p: 'TreeNode', q: 'TreeNode') -> 'TreeNode':\n",
    "        cur = root\n",
    "        while cur:\n",
    "            if p.val > cur.val and q.val > cur.val:\n",
    "                cur = cur.right\n",
    "            elif p.val < cur.val and p.val < cur.val:\n",
    "                cur = cur.left\n",
    "            else:\n",
    "                return cur"
   ]
  },
  {
   "cell_type": "code",
   "execution_count": null,
   "metadata": {},
   "outputs": [],
   "source": [
    "Solution().lowestCommonAncestor()"
   ]
  },
  {
   "cell_type": "code",
   "execution_count": null,
   "metadata": {},
   "outputs": [],
   "source": []
  },
  {
   "cell_type": "markdown",
   "metadata": {},
   "source": [
    "#### 4. Path Sum II"
   ]
  },
  {
   "cell_type": "code",
   "execution_count": 7,
   "metadata": {},
   "outputs": [],
   "source": [
    "class Solution:        \n",
    "    def pathSum(self, root: Optional[TreeNode], targetSum: int) -> List[List[int]]:\n",
    "        if root is None:\n",
    "            return []\n",
    "        q, paths = deque([(root, targetSum, [])]), []\n",
    "        \n",
    "        while q:\n",
    "            cur, target, path = q.pop()  \n",
    "            if not (cur.left or cur.right) and cur.val == target:\n",
    "                paths.append(path + [cur.val])\n",
    "            else:\n",
    "                if cur.left:\n",
    "                    q.appendleft((cur.left, target - cur.val, path + [cur.val]))\n",
    "                if cur.right:\n",
    "                    q.appendleft((cur.right, target - cur.val, path + [cur.val]))\n",
    "                                 \n",
    "        return paths"
   ]
  },
  {
   "cell_type": "markdown",
   "metadata": {},
   "source": [
    "#### 5. Sorted Array to BST"
   ]
  },
  {
   "cell_type": "code",
   "execution_count": 15,
   "metadata": {},
   "outputs": [],
   "source": [
    "class TreeNode:\n",
    "    def __init__(self, val=0, left=None, right=None):\n",
    "        self.val = val\n",
    "        self.left = left\n",
    "        self.right = right\n",
    "        \n",
    "class Solution:\n",
    "           \n",
    "    def sortedArrayToBST(self, nums: List[int]) -> Optional[TreeNode]:\n",
    "        \n",
    "        def helper(l, r):\n",
    "            if l>r: return None\n",
    "            mid = (l+r)//2\n",
    "            return TreeNode(nums[mid], helper(l,mid-1), helper(mid+1, r))\n",
    "        \n",
    "        return helper(0, len(nums)-1)"
   ]
  },
  {
   "cell_type": "code",
   "execution_count": 16,
   "metadata": {},
   "outputs": [
    {
     "data": {
      "text/plain": [
       "<__main__.TreeNode at 0x275bf674ca0>"
      ]
     },
     "execution_count": 16,
     "metadata": {},
     "output_type": "execute_result"
    }
   ],
   "source": [
    "root = [-10]\n",
    "t2 = Solution().sortedArrayToBST(root)\n",
    "t2"
   ]
  },
  {
   "cell_type": "markdown",
   "metadata": {},
   "source": [
    "#### 6. Construct Binary Search Tree from Preorder Traversal"
   ]
  },
  {
   "cell_type": "code",
   "execution_count": 9,
   "metadata": {},
   "outputs": [],
   "source": [
    "# Definition for a binary tree node.\n",
    "class TreeNode:\n",
    "    def __init__(self, val=0, left=None, right=None):\n",
    "        self.val = val\n",
    "        self.left = left\n",
    "        self.right = right\n",
    "        \n",
    "class Solution:\n",
    "    def bstFromPreorder(self, preorder: List[int]) -> Optional[TreeNode]:\n",
    "        if not preorder: return None\n",
    "        root = TreeNode(preorder[0])\n",
    "        i = 1\n",
    "        while i<len(preorder) and  preorder[i] < root.val:\n",
    "            i+=1\n",
    "        root.left = self.bstFromPreorder(preorder[1:i])\n",
    "        root.right = self.bstFromPreorder(preorder[i:])\n",
    "        return root"
   ]
  },
  {
   "cell_type": "code",
   "execution_count": 10,
   "metadata": {},
   "outputs": [
    {
     "name": "stdout",
     "output_type": "stream",
     "text": [
      "[8, 5, 1, 7, 10, 12]\n",
      "[1, 5, 7, 8, 10, 12]\n",
      "[8, 5, 10, 1, 7, None, 12, None, None, None, None, None, None]\n"
     ]
    }
   ],
   "source": [
    "preorder = [8,5,1,7,10, 12]\n",
    "root = Solution().bstFromPreorder(preorder)\n",
    "print(BinaryTree().preOrder(root))\n",
    "print(BinaryTree().inOrder(root))\n",
    "print(BinaryTree().levelOrder(root))"
   ]
  },
  {
   "cell_type": "markdown",
   "metadata": {},
   "source": [
    "#### 7. Balance a Binary Search Tree"
   ]
  },
  {
   "cell_type": "code",
   "execution_count": 22,
   "metadata": {},
   "outputs": [],
   "source": [
    "# Definition for a binary tree node.\n",
    "class TreeNode:\n",
    "    def __init__(self, val=0, left=None, right=None):\n",
    "        self.val = val\n",
    "        self.left = left\n",
    "        self.right = right\n",
    "\n",
    "class Solution:\n",
    "    def balanceBST(self, root: TreeNode) -> TreeNode:\n",
    "        \n",
    "        def inorder(root):\n",
    "            if root is None: return []\n",
    "            return inorder(root.left) + [root.val] + inorder(root.right)\n",
    "        \n",
    "        nums = inorder(root)\n",
    "        \n",
    "        def bst(l,r):\n",
    "            if l>r: return None\n",
    "            mid = (l+r)//2\n",
    "            return TreeNode(nums[mid], bst(l,mid-1), bst(mid+1,r))\n",
    "            \n",
    "        return bst(0, len(nums)-1)"
   ]
  },
  {
   "cell_type": "code",
   "execution_count": 24,
   "metadata": {},
   "outputs": [
    {
     "name": "stdout",
     "output_type": "stream",
     "text": [
      "[1, None, 2, None, 3, None, 4, None, None]\n",
      "[2, 1, 3, None, None, None, 4, None, None]\n"
     ]
    }
   ],
   "source": [
    "root = [1,None,2,None,3,None,4,None,None]\n",
    "root = BinaryTree().extend(root)\n",
    "print(BinaryTree().levelOrder(root))\n",
    "root = Solution().balanceBST(root)\n",
    "#print(BinaryTree().preOrder(root))\n",
    "#print(BinaryTree().inOrder(root))\n",
    "print(BinaryTree().levelOrder(root))"
   ]
  },
  {
   "cell_type": "markdown",
   "metadata": {},
   "source": [
    "#### 8. All Elements in Two Binary Search Trees"
   ]
  },
  {
   "cell_type": "code",
   "execution_count": 5,
   "metadata": {},
   "outputs": [],
   "source": [
    "# Definition for a binary tree node.\n",
    "# class TreeNode:\n",
    "#     def __init__(self, val=0, left=None, right=None):\n",
    "#         self.val = val\n",
    "#         self.left = left\n",
    "#         self.right = right\n",
    "class Solution:\n",
    "    def getAllElements(self, root1: TreeNode, root2: TreeNode) -> List[int]:\n",
    "        \n",
    "        def helper(root):\n",
    "            if root is None: return []\n",
    "            return helper(root.left) + [root.val] + helper(root.right)\n",
    "        \n",
    "        return sorted(helper(root1) + helper(root2))"
   ]
  },
  {
   "cell_type": "code",
   "execution_count": 6,
   "metadata": {},
   "outputs": [
    {
     "data": {
      "text/plain": [
       "[0, 1, 1, 2, 3, 4]"
      ]
     },
     "execution_count": 6,
     "metadata": {},
     "output_type": "execute_result"
    }
   ],
   "source": [
    "root1 = [2,1,4]; root2 = [1,0,3]\n",
    "root1 = BinaryTree().extend(root1)\n",
    "root2 = BinaryTree().extend(root2)\n",
    "root = Solution().getAllElements(root1, root2)\n",
    "root"
   ]
  },
  {
   "cell_type": "code",
   "execution_count": null,
   "metadata": {},
   "outputs": [],
   "source": []
  },
  {
   "cell_type": "markdown",
   "metadata": {},
   "source": [
    "#### 9. Binary Search Tree to Greater Sum Tree"
   ]
  },
  {
   "cell_type": "code",
   "execution_count": 20,
   "metadata": {},
   "outputs": [],
   "source": [
    "# Definition for a binary tree node.\n",
    "# class TreeNode:\n",
    "#     def __init__(self, val=0, left=None, right=None):\n",
    "#         self.val = val\n",
    "#         self.left = left\n",
    "#         self.right = right\n",
    "class Solution:\n",
    "    def bstToGst(self, root: TreeNode) -> TreeNode:\n",
    "        \n",
    "        def helper(root):\n",
    "            if root is None: return []\n",
    "            return helper(root.left) + [root.val] + helper(root.right)\n",
    "            \n",
    "        arr = helper(root)\n",
    "        map = {}\n",
    "        sum_ = 0\n",
    "        for val in arr[::-1]:\n",
    "            sum_ +=val\n",
    "            map[val] = sum_\n",
    "        \n",
    "        def helper2(root):\n",
    "            if root is None: return None\n",
    "            helper2(root.left)\n",
    "            root.val = map.get(root.val)\n",
    "            #print(root.val)\n",
    "            helper2(root.right)    \n",
    "        \n",
    "        helper2(root)\n",
    "        return root"
   ]
  },
  {
   "cell_type": "code",
   "execution_count": 50,
   "metadata": {},
   "outputs": [],
   "source": [
    "class Solution:\n",
    "    def bstToGst(self, root: TreeNode) -> TreeNode:\n",
    "        Sum = 0\n",
    "        def traverse(root):\n",
    "            nonlocal Sum\n",
    "            if root is None: return\n",
    "            traverse(root.right)\n",
    "            Sum += root.val\n",
    "            root.val = Sum\n",
    "            traverse(root.left)\n",
    "        traverse(root)\n",
    "        return root"
   ]
  },
  {
   "cell_type": "code",
   "execution_count": 51,
   "metadata": {},
   "outputs": [
    {
     "name": "stdout",
     "output_type": "stream",
     "text": [
      "[30, 36, 21, 36, 35, 26, 15, None, None, None, 33, None, None, None, 8, None, None, None, None]\n"
     ]
    }
   ],
   "source": [
    "root = [4,1,6,0,2,5,7,3,8]\n",
    "root = BinaryTree().extend(root)\n",
    "root = Solution().bstToGst(root)\n",
    "print(BinaryTree().levelOrder(root))\n"
   ]
  },
  {
   "cell_type": "markdown",
   "metadata": {},
   "source": [
    "#### 10. Binary Search Tree Iterator"
   ]
  },
  {
   "cell_type": "code",
   "execution_count": 72,
   "metadata": {},
   "outputs": [],
   "source": [
    "# Definition for a binary tree node.\n",
    "# class TreeNode:\n",
    "#     def __init__(self, val=0, left=None, right=None):\n",
    "#         self.val = val\n",
    "#         self.left = left\n",
    "#         self.right = right\n",
    "class BSTIterator:\n",
    "\n",
    "    def __init__(self, root: Optional[TreeNode]):\n",
    "        self.stack = []\n",
    "        while root:\n",
    "            self.stack.append(root)\n",
    "            root = root.left\n",
    "\n",
    "    def next(self) -> int:\n",
    "        res = self.stack.pop()\n",
    "        cur = res.right\n",
    "        while cur:\n",
    "            self.stack.append(cur)\n",
    "            cur = cur.left        \n",
    "        return res.val\n",
    "                \n",
    "    def hasNext(self) -> bool:\n",
    "        return self.stack != []"
   ]
  },
  {
   "cell_type": "code",
   "execution_count": 74,
   "metadata": {},
   "outputs": [
    {
     "name": "stdout",
     "output_type": "stream",
     "text": [
      "3\n",
      "7\n",
      "True\n",
      "9\n",
      "True\n",
      "15\n",
      "True\n",
      "20\n",
      "False\n"
     ]
    }
   ],
   "source": [
    "# Input\n",
    "# [\"BSTIterator\", \"next\", \"next\", \"hasNext\", \"next\", \"hasNext\", \"next\", \"hasNext\", \"next\", \"hasNext\"]\n",
    "# [[[7, 3, 15, null, null, 9, 20]], [], [], [], [], [], [], [], [], []]\n",
    "# Output\n",
    "# [null, 3, 7, true, 9, true, 15, true, 20, false]\n",
    "\n",
    "root = [7, 3, 15, None, None, 9, 20]\n",
    "root = BinaryTree().extend(root)\n",
    "obj = BSTIterator(root)\n",
    "print(obj.next())\n",
    "print(obj.next())\n",
    "print(obj.hasNext())\n",
    "print(obj.next())\n",
    "print(obj.hasNext())\n",
    "print(obj.next())\n",
    "print(obj.hasNext())\n",
    "print(obj.next())\n",
    "print(obj.hasNext())"
   ]
  },
  {
   "cell_type": "markdown",
   "metadata": {},
   "source": [
    "#### 11. Trim BST"
   ]
  },
  {
   "cell_type": "code",
   "execution_count": 108,
   "metadata": {},
   "outputs": [],
   "source": [
    "class TreeNode:\n",
    "    def __init__(self, val=0, left=None, right=None):\n",
    "        self.val = val\n",
    "        self.left = left\n",
    "        self.right = right\n",
    "\n",
    "class Solution:\n",
    "    def trimBST(self, root: Optional[TreeNode], low: int, high: int) -> Optional[TreeNode]:\n",
    "        \n",
    "        dummy = root\n",
    "        \n",
    "        def preOrder(root):\n",
    "            if root is None: return []\n",
    "            if root.val >= low and root.val <= high:\n",
    "                return [root.val] + preOrder(root.left) + preOrder(root.right)\n",
    "            else: return preOrder(root.left) + preOrder(root.right)\n",
    "            \n",
    "        def preOrderGenerate(preorder):\n",
    "            if not preorder: return None\n",
    "            dummy = TreeNode(preorder[0])\n",
    "            i = 1\n",
    "            while i<len(preorder) and  preorder[i] < dummy.val:\n",
    "                i+=1\n",
    "            dummy.left = preOrderGenerate(preorder[1:i])\n",
    "            dummy.right = preOrderGenerate(preorder[i:])\n",
    "            return dummy\n",
    "            \n",
    "        preorder = preOrder(root)\n",
    "        return preOrderGenerate(preorder)"
   ]
  },
  {
   "cell_type": "code",
   "execution_count": 111,
   "metadata": {},
   "outputs": [],
   "source": [
    "# Approach-2:\n",
    "\n",
    "class Solution(object):\n",
    "    def trimBST(self, root, L, R):\n",
    "        if root is None: return None\n",
    "        if L > root.val:\n",
    "            return self.trimBST(root.right, L, R)\n",
    "        elif R < root.val:\n",
    "            return self.trimBST(root.left, L, R)\n",
    "        root.left = self.trimBST(root.left, L, R)\n",
    "        root.right = self.trimBST(root.right, L, R)\n",
    "        return root"
   ]
  },
  {
   "cell_type": "code",
   "execution_count": 112,
   "metadata": {},
   "outputs": [
    {
     "data": {
      "text/plain": [
       "[3, 2, None, 1, None, None, None]"
      ]
     },
     "execution_count": 112,
     "metadata": {},
     "output_type": "execute_result"
    }
   ],
   "source": [
    "root = [3,0,4,2,1]; low = 1; high = 3\n",
    "root = BinaryTree().extend(root)\n",
    "root = Solution().trimBST(root, low, high)\n",
    "BinaryTree().levelOrder(root)"
   ]
  },
  {
   "cell_type": "code",
   "execution_count": null,
   "metadata": {},
   "outputs": [],
   "source": []
  },
  {
   "cell_type": "markdown",
   "metadata": {},
   "source": [
    "#### 12. Binary Tree Right Side View"
   ]
  },
  {
   "cell_type": "code",
   "execution_count": 125,
   "metadata": {},
   "outputs": [],
   "source": [
    "# Definition for a binary tree node.\n",
    "# class TreeNode:\n",
    "#     def __init__(self, val=0, left=None, right=None):\n",
    "#         self.val = val\n",
    "#         self.left = left\n",
    "#         self.right = right\n",
    "class Solution:\n",
    "    def rightSideView(self, root: Optional[TreeNode]) -> List[int]:\n",
    "        q = [root]\n",
    "        res = []\n",
    "        while q:\n",
    "            rightSide = None\n",
    "            for i in range(len(q)):\n",
    "                node = q.pop(0)\n",
    "                if node:\n",
    "                    rightSide = node\n",
    "                    q.append(node.left)\n",
    "                    q.append(node.right)\n",
    "            if rightSide:\n",
    "                res.append(rightSide.val)\n",
    "        return res        "
   ]
  },
  {
   "cell_type": "code",
   "execution_count": 127,
   "metadata": {},
   "outputs": [
    {
     "data": {
      "text/plain": [
       "[1, 2, 3, 5, 4]"
      ]
     },
     "execution_count": 127,
     "metadata": {},
     "output_type": "execute_result"
    }
   ],
   "source": [
    "root = [1,2,3,5,4]\n",
    "root = BinaryTree().extend(root)\n",
    "Solution().rightSideView(root)"
   ]
  },
  {
   "cell_type": "markdown",
   "metadata": {},
   "source": [
    "#### 13. Sum Root to Leaf Numbers"
   ]
  },
  {
   "cell_type": "code",
   "execution_count": 177,
   "metadata": {},
   "outputs": [],
   "source": [
    "class Solution:\n",
    "    def sumNumbers(self, root: Optional[TreeNode]) -> int:\n",
    "        \n",
    "        def dfs(root, num):\n",
    "            if root is None: return 0 \n",
    "            num = num * 10 + root.val\n",
    "            if root.left is None and root.right is None:\n",
    "                return num\n",
    "            return dfs(root.left, num) + dfs(root.right, num)\n",
    "            \n",
    "        return dfs(root, 0)"
   ]
  },
  {
   "cell_type": "code",
   "execution_count": 178,
   "metadata": {},
   "outputs": [
    {
     "data": {
      "text/plain": [
       "40"
      ]
     },
     "execution_count": 178,
     "metadata": {},
     "output_type": "execute_result"
    }
   ],
   "source": [
    "root = [2,0,0]\n",
    "root = BinaryTree().extend(root,'level')\n",
    "Solution().sumNumbers(root)"
   ]
  },
  {
   "cell_type": "markdown",
   "metadata": {},
   "source": [
    "#### 14. Diameter of Binary Tree"
   ]
  },
  {
   "cell_type": "code",
   "execution_count": 254,
   "metadata": {},
   "outputs": [],
   "source": [
    "# Definition for a binary tree node.\n",
    "# class TreeNode:\n",
    "#     def __init__(self, val=0, left=None, right=None):\n",
    "#         self.val = val\n",
    "#         self.left = left\n",
    "#         self.right = right\n",
    "class Solution:\n",
    "    def diameterOfBinaryTree(self, root: Optional[TreeNode]) -> int:\n",
    "        max_ = float('-inf')\n",
    "        def dfs(root):\n",
    "            nonlocal max_\n",
    "            if root is None: return -1\n",
    "            lh = dfs(root.left)\n",
    "            rh = dfs(root.right)\n",
    "            max_ = max((2 + lh + rh), max_)\n",
    "            return 1 + max(lh,rh)\n",
    "        dfs(root)\n",
    "        return max_ "
   ]
  },
  {
   "cell_type": "code",
   "execution_count": 256,
   "metadata": {},
   "outputs": [
    {
     "data": {
      "text/plain": [
       "1"
      ]
     },
     "execution_count": 256,
     "metadata": {},
     "output_type": "execute_result"
    }
   ],
   "source": [
    "root = [1,2]\n",
    "root = BinaryTree().extend(root,'level')\n",
    "Solution().diameterOfBinaryTree(root)"
   ]
  },
  {
   "cell_type": "code",
   "execution_count": null,
   "metadata": {},
   "outputs": [],
   "source": []
  }
 ],
 "metadata": {
  "kernelspec": {
   "display_name": "Python 3.8.8 ('base')",
   "language": "python",
   "name": "python3"
  },
  "language_info": {
   "codemirror_mode": {
    "name": "ipython",
    "version": 3
   },
   "file_extension": ".py",
   "mimetype": "text/x-python",
   "name": "python",
   "nbconvert_exporter": "python",
   "pygments_lexer": "ipython3",
   "version": "3.8.8"
  },
  "orig_nbformat": 4,
  "vscode": {
   "interpreter": {
    "hash": "ad2bdc8ecc057115af97d19610ffacc2b4e99fae6737bb82f5d7fb13d2f2c186"
   }
  }
 },
 "nbformat": 4,
 "nbformat_minor": 2
}
