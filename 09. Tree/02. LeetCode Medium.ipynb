{
 "cells": [
  {
   "cell_type": "code",
   "execution_count": 3,
   "metadata": {},
   "outputs": [],
   "source": [
    "from typing import List, Tuple, Dict, Optional\n",
    "from collections import deque"
   ]
  },
  {
   "cell_type": "code",
   "execution_count": 4,
   "metadata": {},
   "outputs": [],
   "source": [
    "class TreeNode:\n",
    "    def __init__(self, val=0, left=None, right=None):\n",
    "        self.val = val\n",
    "        self.left = left\n",
    "        self.right = right\n",
    "\n",
    "class BinaryTree:\n",
    "    def __init__(self,root=None):\n",
    "        self.root = None\n",
    "        self.level_insert_q = []\n",
    "        \n",
    "    def preOrderRecursive(self, node):\n",
    "        if node:\n",
    "            print(node.val, end=' ')\n",
    "            self.preOrderRecursive(node.left)\n",
    "            self.preOrderRecursive(node.right)\n",
    "\n",
    "    def inOrderRecursive(self, node):\n",
    "        if node:\n",
    "            self.inOrderRecursive(node.left)\n",
    "            print(node.val, end=' ')\n",
    "            self.inOrderRecursive(node.right)\n",
    "    \n",
    "    def postOrderRecursive(self, node):\n",
    "        if node:\n",
    "            self.postOrderRecursive(node.left)\n",
    "            self.postOrderRecursive(node.right)\n",
    "            print(node.val, end=' ')\n",
    "            \n",
    "    def levelOrderIterative(self, node):\n",
    "        if node is None: return\n",
    "        q = deque()\n",
    "        q.append(node)\n",
    "        while q:\n",
    "            node = q.popleft()\n",
    "            if node is None: continue\n",
    "            print(node.val, end=' ')\n",
    "            q.append(node.left)\n",
    "            q.append(node.right)                \n",
    "    \n",
    "    def append(self, data, types):\n",
    "        if self.root is None:\n",
    "            self.root = TreeNode(data)\n",
    "        else:\n",
    "            self._appendBinary(self.root, data)\n",
    "        return self\n",
    "                    \n",
    "    def _appendBinary(self, node, data):\n",
    "        if data < node.val:\n",
    "            if node.left is None:\n",
    "                node.left = TreeNode(data)\n",
    "            else:\n",
    "                self._appendBinary(node.left, data)\n",
    "        else:\n",
    "            if node.right is None:\n",
    "                node.right = TreeNode(data)\n",
    "            else:\n",
    "                self._appendBinary(node.right, data)\n",
    "            \n",
    "    def extend(self, data_list, types = \"binary\"):\n",
    "        for data in data_list:\n",
    "            self.append(data, types)\n",
    "        return self\n",
    "            \n",
    "    def height(self):\n",
    "        if self.root is None:\n",
    "            return 0\n",
    "        else:\n",
    "            return self._height(self.root, 0)\n",
    "    \n",
    "    def _height(self, node, height):\n",
    "        if node is None: return height\n",
    "        left_height = self._height(node.left, height+1)\n",
    "        right_height = self._height(node.right, height+1)\n",
    "        return max(left_height, right_height)"
   ]
  },
  {
   "cell_type": "code",
   "execution_count": 5,
   "metadata": {},
   "outputs": [],
   "source": [
    "class TreeNode:\n",
    "    def __init__(self, val=0, left=None, right=None):\n",
    "        self.val = val\n",
    "        self.left = left\n",
    "        self.right = right\n",
    "        \n",
    "class Node:\n",
    "    def __init__(self, val=0, left=None, right=None):\n",
    "        self.val = val\n",
    "        self.left = left\n",
    "        self.right = right\n",
    "\n",
    "class BinaryTree:\n",
    "\n",
    "    def __init__(self, root=None):\n",
    "        self.root = root\n",
    "        \n",
    "    def preOrder(self, root=None):\n",
    "        root = self.root if root is None else root\n",
    "        res = []\n",
    "        stack = []\n",
    "        while root or stack:\n",
    "            if root:\n",
    "                res.append(root.val)\n",
    "                stack.append(root)\n",
    "                root = root.left\n",
    "            else:\n",
    "                root = stack.pop()\n",
    "                root = root.right\n",
    "        return res\n",
    "    \n",
    "    def inOrder(self, root=None):\n",
    "        root = self.root if root is None else root\n",
    "        res = []\n",
    "        stack = []\n",
    "        while root or stack:\n",
    "            if root:\n",
    "                stack.append(root)\n",
    "                root = root.left\n",
    "            else:\n",
    "                root = stack.pop()\n",
    "                res.append(root.val)\n",
    "                root = root.right\n",
    "        return res\n",
    "                \n",
    "    def postOrder(self, root=None):\n",
    "        root = self.root if root is None else root\n",
    "        res = []\n",
    "        stack = []\n",
    "        while root or stack:\n",
    "            if root:\n",
    "                stack.append((root,1))\n",
    "                root = root.left\n",
    "            else:\n",
    "                root, indicator = stack.pop()\n",
    "                if indicator:\n",
    "                    stack.append((root, 0))\n",
    "                    root = root.right\n",
    "                else:\n",
    "                    res.append(root.val)\n",
    "                    root = None\n",
    "        return res\n",
    "                    \n",
    "    def levelOrder(self, root=None):\n",
    "        root = self.root if root is None else root\n",
    "        stack = [root]\n",
    "        res = []\n",
    "        while root or stack:\n",
    "            root = stack.pop(0)\n",
    "            if root is None:\n",
    "                res.append(None)\n",
    "                continue\n",
    "            res.append(root.val)\n",
    "            if root.left:\n",
    "                stack.append(root.left)\n",
    "            else:\n",
    "                stack.append(None)\n",
    "            if root.right:\n",
    "                stack.append(root.right)\n",
    "            else:\n",
    "                stack.append(None)\n",
    "        return res\n",
    "    \n",
    "        \n",
    "    def extend(self, data:List[int], type='bst') -> None:\n",
    "        ''' type: bst, level\n",
    "        '''\n",
    "        if type=='bst':\n",
    "            data = [val for val in data if val is not None]\n",
    "            for val in data:\n",
    "                if self.root is None:\n",
    "                    self.root = Node(val)\n",
    "                else:\n",
    "                    self._extend_bst(self.root, val)\n",
    "        else:\n",
    "            self._extend_level(data)\n",
    "        return self.root\n",
    "\n",
    " \n",
    "    def _extend_level(self, data):\n",
    "        root = Node(data[0])\n",
    "        self.root = root\n",
    "        stack = []\n",
    "        for val in data[1:]:\n",
    "            if root.left is None: \n",
    "                root.left = Node(val)\n",
    "                stack.append(root.left)  \n",
    "                continue\n",
    "            if root.right is None: \n",
    "                root.right = Node(val)  \n",
    "                stack.append(root.right)  \n",
    "                continue\n",
    "            root = stack.pop(0)\n",
    "            root.left = Node(val)\n",
    "            stack.append(root.left)\n",
    "            \n",
    "    def _extend_bst(self, root, data):\n",
    "        if data < root.val:\n",
    "            if root.left is None:\n",
    "                root.left = Node(data)\n",
    "            else:\n",
    "                self._extend_bst(root.left, data)\n",
    "        else:\n",
    "            if root.right is None:\n",
    "                root.right = Node(data)\n",
    "            else:\n",
    "                self._extend_bst(root.right, data)\n",
    "                \n",
    "    \n",
    "    def height(self, root=None):\n",
    "        root = self.root if root is None else root\n",
    "        if root is None: return 0\n",
    "        else: return self._height(root, 0) - 1\n",
    "    \n",
    "    def _height(self, root, height):\n",
    "        if root is None: return height\n",
    "        return max(self._height(root.left, height+1), self._height(root.right, height+1))\n",
    "    \n",
    "\n",
    "    def find(self, val):\n",
    "        return self._find(self.root, val)\n",
    "    \n",
    "    def _find(self, root, val):\n",
    "        if root is None: return False\n",
    "        if root.val == val: return True\n",
    "        if val < root.val:\n",
    "            return self._find(root.left, val)\n",
    "        else:\n",
    "            return self._find(root.right, val)\n",
    "        \n",
    "    def delete(self, val):\n",
    "        return self._delete(self.root, val)\n",
    "    \n",
    "    def _delete(self, root, val):\n",
    "        if root is None: return root\n",
    "        if val < root.val:\n",
    "            root.left = self._delete(root.left, val)\n",
    "        elif val > root.val:\n",
    "            root.right = self._delete(root.right, val)\n",
    "        else: # Node with one child or no child\n",
    "            if root.left is None and root.right is None: \n",
    "                root = None\n",
    "                return root\n",
    "            elif root.left is None:\n",
    "                temp = root.right\n",
    "                root = None\n",
    "                return temp\n",
    "            elif root.right is None:\n",
    "                temp = root.left\n",
    "                root = None\n",
    "                return temp\n",
    "            # Node with two child get the inorder successor\n",
    "            if self.height(root.left) <= self.height(root.right):\n",
    "                new_value = self.inOrder(root.left)[-1]\n",
    "                root.val = new_value\n",
    "                root.left = self._delete(root.left, new_value)\n",
    "            else:\n",
    "                new_value = self.inOrder(root.right)[0]\n",
    "                root.val = new_value\n",
    "                root.right = self._delete(root.right, new_value)\n",
    "        return root        "
   ]
  },
  {
   "cell_type": "markdown",
   "metadata": {},
   "source": [
    "#### 1. Count Good Nodes in Binary Tree"
   ]
  },
  {
   "cell_type": "code",
   "execution_count": null,
   "metadata": {},
   "outputs": [],
   "source": [
    "# Definition for a binary tree node.\n",
    "# class TreeNode:\n",
    "#     def __init__(self, val=0, left=None, right=None):\n",
    "#         self.val = val\n",
    "#         self.left = left\n",
    "#         self.right = right\n",
    "class Solution:\n",
    "    def goodNodes(self, root: TreeNode) -> int:\n",
    "        \n",
    "        # Lets define another recursion function\n",
    "        def dfs(node, maxValue):\n",
    "            if not node: return 0\n",
    "            res = 1 if node.val >= maxValue else 0\n",
    "            maxValue = max(maxValue, node.val)\n",
    "            res += dfs(node.left, maxValue)\n",
    "            res += dfs(node.right, maxValue)\n",
    "            return res\n",
    "        \n",
    "        return dfs(root, root.val)\n"
   ]
  },
  {
   "cell_type": "markdown",
   "metadata": {},
   "source": [
    "#### 2. Is Valid BST"
   ]
  },
  {
   "cell_type": "code",
   "execution_count": 16,
   "metadata": {},
   "outputs": [],
   "source": [
    "class Solution:\n",
    "    def isValidBST(self, root: Optional[TreeNode]) -> bool:\n",
    "        \n",
    "        def valid(node, left, right):\n",
    "            if node is None: return True\n",
    "            if not (left < node.val < right): return False\n",
    "            return valid(node.left, left, node.val) and valid(node.right, node.val, right)\n",
    "        \n",
    "        return valid(root, float('-inf'), float('inf'))            "
   ]
  },
  {
   "cell_type": "code",
   "execution_count": 17,
   "metadata": {},
   "outputs": [
    {
     "name": "stdout",
     "output_type": "stream",
     "text": [
      "2 1 3 None\n"
     ]
    },
    {
     "data": {
      "text/plain": [
       "True"
      ]
     },
     "execution_count": 17,
     "metadata": {},
     "output_type": "execute_result"
    }
   ],
   "source": [
    "root = [2,1,3]\n",
    "tree = BinaryTree(TreeNode(None)).extend(root)\n",
    "print(tree.levelOrderIterative(tree.root))\n",
    "Solution().isValidBST(tree.root)"
   ]
  },
  {
   "cell_type": "markdown",
   "metadata": {},
   "source": [
    "#### 3. Lowest Common Ancestor"
   ]
  },
  {
   "cell_type": "code",
   "execution_count": 19,
   "metadata": {},
   "outputs": [],
   "source": [
    "class Solution:\n",
    "    def lowestCommonAncestor(self, root: 'TreeNode', p: 'TreeNode', q: 'TreeNode') -> 'TreeNode':\n",
    "        cur = root\n",
    "        while cur:\n",
    "            if p.val > cur.val and q.val > cur.val:\n",
    "                cur = cur.right\n",
    "            elif p.val < cur.val and p.val < cur.val:\n",
    "                cur = cur.left\n",
    "            else:\n",
    "                return cur"
   ]
  },
  {
   "cell_type": "code",
   "execution_count": null,
   "metadata": {},
   "outputs": [],
   "source": [
    "Solution().lowestCommonAncestor()"
   ]
  },
  {
   "cell_type": "code",
   "execution_count": null,
   "metadata": {},
   "outputs": [],
   "source": []
  },
  {
   "cell_type": "markdown",
   "metadata": {},
   "source": [
    "#### 4. Path Sum II"
   ]
  },
  {
   "cell_type": "code",
   "execution_count": 7,
   "metadata": {},
   "outputs": [],
   "source": [
    "class Solution:        \n",
    "    def pathSum(self, root: Optional[TreeNode], targetSum: int) -> List[List[int]]:\n",
    "        if root is None:\n",
    "            return []\n",
    "        q, paths = deque([(root, targetSum, [])]), []\n",
    "        \n",
    "        while q:\n",
    "            cur, target, path = q.pop()  \n",
    "            if not (cur.left or cur.right) and cur.val == target:\n",
    "                paths.append(path + [cur.val])\n",
    "            else:\n",
    "                if cur.left:\n",
    "                    q.appendleft((cur.left, target - cur.val, path + [cur.val]))\n",
    "                if cur.right:\n",
    "                    q.appendleft((cur.right, target - cur.val, path + [cur.val]))\n",
    "                                 \n",
    "        return paths"
   ]
  },
  {
   "cell_type": "markdown",
   "metadata": {},
   "source": [
    "#### 5. Sorted Array to BST"
   ]
  },
  {
   "cell_type": "code",
   "execution_count": 15,
   "metadata": {},
   "outputs": [],
   "source": [
    "class TreeNode:\n",
    "    def __init__(self, val=0, left=None, right=None):\n",
    "        self.val = val\n",
    "        self.left = left\n",
    "        self.right = right\n",
    "        \n",
    "class Solution:\n",
    "           \n",
    "    def sortedArrayToBST(self, nums: List[int]) -> Optional[TreeNode]:\n",
    "        \n",
    "        def helper(l, r):\n",
    "            if l>r: return None\n",
    "            mid = (l+r)//2\n",
    "            return TreeNode(nums[mid], helper(l,mid-1), helper(mid+1, r))\n",
    "        \n",
    "        return helper(0, len(nums)-1)"
   ]
  },
  {
   "cell_type": "code",
   "execution_count": 16,
   "metadata": {},
   "outputs": [
    {
     "data": {
      "text/plain": [
       "<__main__.TreeNode at 0x275bf674ca0>"
      ]
     },
     "execution_count": 16,
     "metadata": {},
     "output_type": "execute_result"
    }
   ],
   "source": [
    "root = [-10]\n",
    "t2 = Solution().sortedArrayToBST(root)\n",
    "t2"
   ]
  },
  {
   "cell_type": "markdown",
   "metadata": {},
   "source": [
    "#### 6. Construct Binary Search Tree from Preorder Traversal"
   ]
  },
  {
   "cell_type": "code",
   "execution_count": 9,
   "metadata": {},
   "outputs": [],
   "source": [
    "# Definition for a binary tree node.\n",
    "class TreeNode:\n",
    "    def __init__(self, val=0, left=None, right=None):\n",
    "        self.val = val\n",
    "        self.left = left\n",
    "        self.right = right\n",
    "        \n",
    "class Solution:\n",
    "    def bstFromPreorder(self, preorder: List[int]) -> Optional[TreeNode]:\n",
    "        if not preorder: return None\n",
    "        root = TreeNode(preorder[0])\n",
    "        i = 1\n",
    "        while i<len(preorder) and  preorder[i] < root.val:\n",
    "            i+=1\n",
    "        root.left = self.bstFromPreorder(preorder[1:i])\n",
    "        root.right = self.bstFromPreorder(preorder[i:])\n",
    "        return root"
   ]
  },
  {
   "cell_type": "code",
   "execution_count": 10,
   "metadata": {},
   "outputs": [
    {
     "name": "stdout",
     "output_type": "stream",
     "text": [
      "[8, 5, 1, 7, 10, 12]\n",
      "[1, 5, 7, 8, 10, 12]\n",
      "[8, 5, 10, 1, 7, None, 12, None, None, None, None, None, None]\n"
     ]
    }
   ],
   "source": [
    "preorder = [8,5,1,7,10, 12]\n",
    "root = Solution().bstFromPreorder(preorder)\n",
    "print(BinaryTree().preOrder(root))\n",
    "print(BinaryTree().inOrder(root))\n",
    "print(BinaryTree().levelOrder(root))"
   ]
  },
  {
   "cell_type": "markdown",
   "metadata": {},
   "source": [
    "#### 7. Balance a Binary Search Tree"
   ]
  },
  {
   "cell_type": "code",
   "execution_count": 22,
   "metadata": {},
   "outputs": [],
   "source": [
    "# Definition for a binary tree node.\n",
    "class TreeNode:\n",
    "    def __init__(self, val=0, left=None, right=None):\n",
    "        self.val = val\n",
    "        self.left = left\n",
    "        self.right = right\n",
    "\n",
    "class Solution:\n",
    "    def balanceBST(self, root: TreeNode) -> TreeNode:\n",
    "        \n",
    "        def inorder(root):\n",
    "            if root is None: return []\n",
    "            return inorder(root.left) + [root.val] + inorder(root.right)\n",
    "        \n",
    "        nums = inorder(root)\n",
    "        \n",
    "        def bst(l,r):\n",
    "            if l>r: return None\n",
    "            mid = (l+r)//2\n",
    "            return TreeNode(nums[mid], bst(l,mid-1), bst(mid+1,r))\n",
    "            \n",
    "        return bst(0, len(nums)-1)"
   ]
  },
  {
   "cell_type": "code",
   "execution_count": 24,
   "metadata": {},
   "outputs": [
    {
     "name": "stdout",
     "output_type": "stream",
     "text": [
      "[1, None, 2, None, 3, None, 4, None, None]\n",
      "[2, 1, 3, None, None, None, 4, None, None]\n"
     ]
    }
   ],
   "source": [
    "root = [1,None,2,None,3,None,4,None,None]\n",
    "root = BinaryTree().extend(root)\n",
    "print(BinaryTree().levelOrder(root))\n",
    "root = Solution().balanceBST(root)\n",
    "#print(BinaryTree().preOrder(root))\n",
    "#print(BinaryTree().inOrder(root))\n",
    "print(BinaryTree().levelOrder(root))"
   ]
  },
  {
   "cell_type": "code",
   "execution_count": null,
   "metadata": {},
   "outputs": [],
   "source": []
  },
  {
   "cell_type": "code",
   "execution_count": null,
   "metadata": {},
   "outputs": [],
   "source": []
  }
 ],
 "metadata": {
  "kernelspec": {
   "display_name": "Python 3.8.8 ('base')",
   "language": "python",
   "name": "python3"
  },
  "language_info": {
   "codemirror_mode": {
    "name": "ipython",
    "version": 3
   },
   "file_extension": ".py",
   "mimetype": "text/x-python",
   "name": "python",
   "nbconvert_exporter": "python",
   "pygments_lexer": "ipython3",
   "version": "3.8.8"
  },
  "orig_nbformat": 4,
  "vscode": {
   "interpreter": {
    "hash": "ad2bdc8ecc057115af97d19610ffacc2b4e99fae6737bb82f5d7fb13d2f2c186"
   }
  }
 },
 "nbformat": 4,
 "nbformat_minor": 2
}
