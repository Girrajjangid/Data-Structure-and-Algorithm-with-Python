{
 "cells": [
  {
   "cell_type": "code",
   "execution_count": 6,
   "metadata": {},
   "outputs": [],
   "source": [
    "from typing import List, Tuple, Dict, Optional\n",
    "from collections import deque"
   ]
  },
  {
   "cell_type": "code",
   "execution_count": 7,
   "metadata": {},
   "outputs": [],
   "source": [
    "class TreeNode:\n",
    "    def __init__(self, val=0, left=None, right=None):\n",
    "        self.val = val\n",
    "        self.left = left\n",
    "        self.right = right\n",
    "\n",
    "class BinaryTree:\n",
    "    def __init__(self,root=None):\n",
    "        self.root = None\n",
    "        self.level_insert_q = []\n",
    "        \n",
    "    def preOrderRecursive(self, node):\n",
    "        if node:\n",
    "            print(node.val, end=' ')\n",
    "            self.preOrderRecursive(node.left)\n",
    "            self.preOrderRecursive(node.right)\n",
    "\n",
    "    def inOrderRecursive(self, node):\n",
    "        if node:\n",
    "            self.inOrderRecursive(node.left)\n",
    "            print(node.val, end=' ')\n",
    "            self.inOrderRecursive(node.right)\n",
    "    \n",
    "    def postOrderRecursive(self, node):\n",
    "        if node:\n",
    "            self.postOrderRecursive(node.left)\n",
    "            self.postOrderRecursive(node.right)\n",
    "            print(node.val, end=' ')\n",
    "            \n",
    "    def levelOrderIterative(self, node):\n",
    "        if node is None: return\n",
    "        q = deque()\n",
    "        q.append(node)\n",
    "        while q:\n",
    "            node = q.popleft()\n",
    "            if node is None: continue\n",
    "            print(node.val, end=' ')\n",
    "            q.append(node.left)\n",
    "            q.append(node.right)                \n",
    "    \n",
    "    def append(self, data, types):\n",
    "        if self.root is None:\n",
    "            self.root = TreeNode(data)\n",
    "        else:\n",
    "            self._appendBinary(self.root, data)\n",
    "        return self\n",
    "                    \n",
    "    def _appendBinary(self, node, data):\n",
    "        if data < node.val:\n",
    "            if node.left is None:\n",
    "                node.left = TreeNode(data)\n",
    "            else:\n",
    "                self._appendBinary(node.left, data)\n",
    "        else:\n",
    "            if node.right is None:\n",
    "                node.right = TreeNode(data)\n",
    "            else:\n",
    "                self._appendBinary(node.right, data)\n",
    "            \n",
    "    def extend(self, data_list, types = \"binary\"):\n",
    "        for data in data_list:\n",
    "            self.append(data, types)\n",
    "        return self\n",
    "            \n",
    "    def height(self):\n",
    "        if self.root is None:\n",
    "            return 0\n",
    "        else:\n",
    "            return self._height(self.root, 0)\n",
    "    \n",
    "    def _height(self, node, height):\n",
    "        if node is None: return height\n",
    "        left_height = self._height(node.left, height+1)\n",
    "        right_height = self._height(node.right, height+1)\n",
    "        return max(left_height, right_height)"
   ]
  },
  {
   "cell_type": "markdown",
   "metadata": {},
   "source": [
    "#### 1. Count Good Nodes in Binary Tree"
   ]
  },
  {
   "cell_type": "code",
   "execution_count": null,
   "metadata": {},
   "outputs": [],
   "source": [
    "# Definition for a binary tree node.\n",
    "# class TreeNode:\n",
    "#     def __init__(self, val=0, left=None, right=None):\n",
    "#         self.val = val\n",
    "#         self.left = left\n",
    "#         self.right = right\n",
    "class Solution:\n",
    "    def goodNodes(self, root: TreeNode) -> int:\n",
    "        \n",
    "        # Lets define another recursion function\n",
    "        def dfs(node, maxValue):\n",
    "            if not node: return 0\n",
    "            res = 1 if node.val >= maxValue else 0\n",
    "            maxValue = max(maxValue, node.val)\n",
    "            res += dfs(node.left, maxValue)\n",
    "            res += dfs(node.right, maxValue)\n",
    "            return res\n",
    "        \n",
    "        return dfs(root, root.val)\n"
   ]
  },
  {
   "cell_type": "markdown",
   "metadata": {},
   "source": [
    "#### 2. Is Valid BST"
   ]
  },
  {
   "cell_type": "code",
   "execution_count": 16,
   "metadata": {},
   "outputs": [],
   "source": [
    "class Solution:\n",
    "    def isValidBST(self, root: Optional[TreeNode]) -> bool:\n",
    "        \n",
    "        def valid(node, left, right):\n",
    "            if node is None: return True\n",
    "            if not (left < node.val < right): return False\n",
    "            return valid(node.left, left, node.val) and valid(node.right, node.val, right)\n",
    "        \n",
    "        return valid(root, float('-inf'), float('inf'))            "
   ]
  },
  {
   "cell_type": "code",
   "execution_count": 17,
   "metadata": {},
   "outputs": [
    {
     "name": "stdout",
     "output_type": "stream",
     "text": [
      "2 1 3 None\n"
     ]
    },
    {
     "data": {
      "text/plain": [
       "True"
      ]
     },
     "execution_count": 17,
     "metadata": {},
     "output_type": "execute_result"
    }
   ],
   "source": [
    "root = [2,1,3]\n",
    "tree = BinaryTree(TreeNode(None)).extend(root)\n",
    "print(tree.levelOrderIterative(tree.root))\n",
    "Solution().isValidBST(tree.root)"
   ]
  },
  {
   "cell_type": "markdown",
   "metadata": {},
   "source": [
    "#### 3. Lowest Common Ancestor"
   ]
  },
  {
   "cell_type": "code",
   "execution_count": 19,
   "metadata": {},
   "outputs": [],
   "source": [
    "class Solution:\n",
    "    def lowestCommonAncestor(self, root: 'TreeNode', p: 'TreeNode', q: 'TreeNode') -> 'TreeNode':\n",
    "        cur = root\n",
    "        while cur:\n",
    "            if p.val > cur.val and q.val > cur.val:\n",
    "                cur = cur.right\n",
    "            elif p.val < cur.val and p.val < cur.val:\n",
    "                cur = cur.left\n",
    "            else:\n",
    "                return cur"
   ]
  },
  {
   "cell_type": "code",
   "execution_count": null,
   "metadata": {},
   "outputs": [],
   "source": [
    "Solution().lowestCommonAncestor()"
   ]
  }
 ],
 "metadata": {
  "kernelspec": {
   "display_name": "Python 3.8.8 ('base')",
   "language": "python",
   "name": "python3"
  },
  "language_info": {
   "codemirror_mode": {
    "name": "ipython",
    "version": 3
   },
   "file_extension": ".py",
   "mimetype": "text/x-python",
   "name": "python",
   "nbconvert_exporter": "python",
   "pygments_lexer": "ipython3",
   "version": "3.8.8"
  },
  "orig_nbformat": 4,
  "vscode": {
   "interpreter": {
    "hash": "ad2bdc8ecc057115af97d19610ffacc2b4e99fae6737bb82f5d7fb13d2f2c186"
   }
  }
 },
 "nbformat": 4,
 "nbformat_minor": 2
}
