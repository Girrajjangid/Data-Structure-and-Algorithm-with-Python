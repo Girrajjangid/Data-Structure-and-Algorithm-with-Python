{
 "cells": [
  {
   "cell_type": "markdown",
   "metadata": {},
   "source": [
    "# Lets built a binary tree"
   ]
  },
  {
   "cell_type": "markdown",
   "metadata": {},
   "source": [
    "### There are 3 way to traverse in depth order: pre-order, in-order, post-order\n",
    "##### lets perform traversing through preorder iteratively and recursively\n",
    "We need to store the address of visited node because we will again go back to that node. Hence we use stack for storing the adresses."
   ]
  },
  {
   "cell_type": "code",
   "execution_count": 190,
   "metadata": {},
   "outputs": [],
   "source": [
    "class Node:\n",
    "    def __init__(self, value=None):\n",
    "        self.value  = value\n",
    "        self.left   = None\n",
    "        self.right  = None\n",
    "        "
   ]
  },
  {
   "cell_type": "code",
   "execution_count": 252,
   "metadata": {},
   "outputs": [],
   "source": [
    "from collections import deque\n",
    "\n",
    "\n",
    "class BinaryTree:\n",
    "    def __init__(self):\n",
    "        self.root = None\n",
    "        \n",
    "    # Pre-order Traversing\n",
    "    def preOrderIterative(self, node):\n",
    "        stack = []\n",
    "        while node or stack:\n",
    "            if node:\n",
    "                print(node.value, end=' ')\n",
    "                stack.append(node)\n",
    "                node = node.left\n",
    "            else:\n",
    "                node = stack.pop()\n",
    "                node = node.right\n",
    "\n",
    "    def preOrderRecursive(self, node):\n",
    "        if node:\n",
    "            print(node.value, end=' ')\n",
    "            self.preOrderRecursive(node.left)\n",
    "            self.preOrderRecursive(node.right)\n",
    "            \n",
    "    # In-order Traversing\n",
    "    def inOrderIterative(self, node):\n",
    "        stack = []\n",
    "        while node or stack:\n",
    "            if node:\n",
    "                stack.append(node)\n",
    "                node = node.left\n",
    "            else:\n",
    "                node = stack.pop()\n",
    "                print(node.value, end=' ')\n",
    "                node = node.right\n",
    "            \n",
    "    def inOrderRecursive(self, node):\n",
    "        if node:\n",
    "            self.inOrderRecursive(node.left)\n",
    "            print(node.value, end=' ')\n",
    "            self.inOrderRecursive(node.right)\n",
    "            \n",
    "\n",
    "    def postOrderIterative(self, node):\n",
    "        stack = []\n",
    "        while node or stack:\n",
    "            if node:\n",
    "                stack.append((node,1))\n",
    "                node = node.left\n",
    "            else:\n",
    "                node, indicator = stack.pop()\n",
    "                if indicator:\n",
    "                    stack.append((node,0))\n",
    "                    node = node.right\n",
    "                else:\n",
    "                    print(node.value, end=' ')\n",
    "                    node = None # Traversion complete here thats why node=None\n",
    "        \n",
    "    \n",
    "    def postOrderRecursive(self, node):\n",
    "        if node:\n",
    "            self.postOrderRecursive(node.left)\n",
    "            self.postOrderRecursive(node.right)\n",
    "            print(node.value, end=' ')\n",
    "        return\n",
    "            \n",
    "    def levelOrder(self, node):\n",
    "        if node is None: return\n",
    "        q = deque()\n",
    "        q.append(node)\n",
    "        while q:\n",
    "            node = q.popleft()\n",
    "            if node is None: continue\n",
    "            print(node.value, end=' ')\n",
    "            q.append(node.left)\n",
    "            q.append(node.right)\n",
    "                            \n",
    "            \n",
    "    def append(self, data):\n",
    "        if self.root is None:\n",
    "            self.root = Node(data)\n",
    "        else:\n",
    "            self._append(self.root, data)\n",
    "            \n",
    "    def _append(self, node, data):\n",
    "        if data < node.value:\n",
    "            if node.left is None:\n",
    "                node.left = Node(data)\n",
    "            else:\n",
    "                self._append(node.left, data)\n",
    "        else:\n",
    "            if node.right is None:\n",
    "                node.right = Node(data)\n",
    "            else:\n",
    "                self._append(node.right, data)\n",
    "            \n",
    "    def extend(self, data_list):\n",
    "        for data in data_list:\n",
    "            self.append(data)\n",
    "            \n",
    "            \n",
    "    def height(self):\n",
    "        if self.root is None:\n",
    "            return 0\n",
    "        else:\n",
    "            return self._height(self.root, 0)\n",
    "    \n",
    "    def _height(self, node, height):\n",
    "        if node is None: return height\n",
    "        left_height = self._height(node.left, height+1)\n",
    "        right_height = self._height(node.right, height+1)\n",
    "        return max(left_height, right_height)\n",
    "      "
   ]
  },
  {
   "cell_type": "code",
   "execution_count": null,
   "metadata": {},
   "outputs": [],
   "source": []
  },
  {
   "cell_type": "code",
   "execution_count": 253,
   "metadata": {},
   "outputs": [],
   "source": [
    "#        10\n",
    "#       /  \\\n",
    "#      5   15\n",
    "#     / \\  / \\\n",
    "#    1  2 12 12    "
   ]
  },
  {
   "cell_type": "code",
   "execution_count": 254,
   "metadata": {},
   "outputs": [],
   "source": [
    "# Lets built tree\n",
    "tree = BinaryTree()\n",
    "tree.root       = Node(10)\n",
    "tree.root.left  = Node(5)\n",
    "tree.root.right = Node(15)\n",
    "tree.root.left.left  = Node(1)\n",
    "tree.root.left.right = Node(2)\n",
    "tree.root.right.left  = Node(12)\n",
    "tree.root.right.right = Node(12)"
   ]
  },
  {
   "cell_type": "code",
   "execution_count": 256,
   "metadata": {},
   "outputs": [
    {
     "name": "stdout",
     "output_type": "stream",
     "text": [
      "10 5 1 2 15 12 12 \n",
      "10 5 1 2 15 12 12 \n",
      "10 5 15 1 2 12 12 "
     ]
    }
   ],
   "source": [
    "tree.preOrderIterative(tree.root)\n",
    "print()\n",
    "tree.preOrderRecursive(tree.root)\n",
    "print()\n",
    "tree.levelOrder(tree.root)"
   ]
  },
  {
   "cell_type": "code",
   "execution_count": 237,
   "metadata": {},
   "outputs": [
    {
     "name": "stdout",
     "output_type": "stream",
     "text": [
      "1 5 2 10 12 15 12 \n",
      "1 5 2 10 12 15 12 "
     ]
    }
   ],
   "source": [
    "tree.inOrderIterative(tree.root)\n",
    "print()\n",
    "tree.inOrderRecursive(tree.root)"
   ]
  },
  {
   "cell_type": "code",
   "execution_count": 238,
   "metadata": {},
   "outputs": [
    {
     "name": "stdout",
     "output_type": "stream",
     "text": [
      "1 2 5 12 12 15 10 \n",
      "1 2 5 12 12 15 10 "
     ]
    }
   ],
   "source": [
    "tree.postOrderIterative(tree.root)\n",
    "print()\n",
    "tree.postOrderRecursive(tree.root)"
   ]
  },
  {
   "cell_type": "code",
   "execution_count": 220,
   "metadata": {},
   "outputs": [
    {
     "name": "stdout",
     "output_type": "stream",
     "text": [
      "12 11 10 9 None\n",
      "9 10 11 12 None\n",
      "9 10 11 12 None\n"
     ]
    }
   ],
   "source": [
    "# Lets perform insertion with help of functions\n",
    "tree = BinaryTree()\n",
    "tree.append(12)\n",
    "tree.append(11)\n",
    "tree.append(10)\n",
    "tree.append(9)\n",
    "print(tree.preOrderRecursive(tree.root))\n",
    "print(tree.inOrderRecursive(tree.root))\n",
    "print(tree.postOrderRecursive(tree.root))"
   ]
  },
  {
   "cell_type": "code",
   "execution_count": 229,
   "metadata": {},
   "outputs": [
    {
     "name": "stdout",
     "output_type": "stream",
     "text": [
      "12 11 10 9 14 15 None\n",
      "9 10 11 12 14 15 None\n",
      "9 10 11 15 14 12 None\n"
     ]
    }
   ],
   "source": [
    "# Lets perform insertion with help of functions\n",
    "tree = BinaryTree()\n",
    "tree.extend([12,11,10,9,14,15])\n",
    "print(tree.preOrderRecursive(tree.root))\n",
    "print(tree.inOrderRecursive(tree.root))\n",
    "print(tree.postOrderRecursive(tree.root))"
   ]
  },
  {
   "cell_type": "code",
   "execution_count": 230,
   "metadata": {},
   "outputs": [
    {
     "data": {
      "text/plain": [
       "4"
      ]
     },
     "execution_count": 230,
     "metadata": {},
     "output_type": "execute_result"
    }
   ],
   "source": [
    "tree.height()"
   ]
  }
 ],
 "metadata": {
  "kernelspec": {
   "display_name": "Python 3.8.8 ('base')",
   "language": "python",
   "name": "python3"
  },
  "language_info": {
   "codemirror_mode": {
    "name": "ipython",
    "version": 3
   },
   "file_extension": ".py",
   "mimetype": "text/x-python",
   "name": "python",
   "nbconvert_exporter": "python",
   "pygments_lexer": "ipython3",
   "version": "3.8.8"
  },
  "orig_nbformat": 4,
  "vscode": {
   "interpreter": {
    "hash": "ad2bdc8ecc057115af97d19610ffacc2b4e99fae6737bb82f5d7fb13d2f2c186"
   }
  }
 },
 "nbformat": 4,
 "nbformat_minor": 2
}
