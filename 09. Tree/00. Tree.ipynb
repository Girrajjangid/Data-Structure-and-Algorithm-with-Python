{
 "cells": [
  {
   "cell_type": "markdown",
   "metadata": {},
   "source": [
    "# Lets built a binary tree"
   ]
  },
  {
   "cell_type": "markdown",
   "metadata": {},
   "source": [
    "### There are 3 way to traverse in depth order: pre-order, in-order, post-order\n",
    "##### lets perform traversing through preorder iteratively and recursively\n",
    "We need to store the address of visited node because we will again go back to that node. Hence we use stack for storing the adresses."
   ]
  },
  {
   "cell_type": "code",
   "execution_count": 394,
   "metadata": {},
   "outputs": [],
   "source": [
    "class Node:\n",
    "    def __init__(self, value=None):\n",
    "        self.value  = value\n",
    "        self.left   = None\n",
    "        self.right  = None"
   ]
  },
  {
   "cell_type": "code",
   "execution_count": 395,
   "metadata": {},
   "outputs": [],
   "source": [
    "from collections import deque\n",
    "\n",
    "\n",
    "class BinaryTree:\n",
    "    def __init__(self):\n",
    "        self.root = None\n",
    "        \n",
    "    # Pre-order Traversing\n",
    "    def preOrderIterative(self, node):\n",
    "        stack = []\n",
    "        while node or stack:\n",
    "            if node:\n",
    "                print(node.value, end=' ')\n",
    "                stack.append(node)\n",
    "                node = node.left\n",
    "            else:\n",
    "                node = stack.pop()\n",
    "                node = node.right\n",
    "\n",
    "    def preOrderRecursive(self, node):\n",
    "        if node:\n",
    "            print(node.value, end=' ')\n",
    "            self.preOrderRecursive(node.left)\n",
    "            self.preOrderRecursive(node.right)\n",
    "            \n",
    "    # In-order Traversing\n",
    "    def inOrderIterative(self, node):\n",
    "        stack = []\n",
    "        while node or stack:\n",
    "            if node:\n",
    "                stack.append(node)\n",
    "                node = node.left\n",
    "            else:\n",
    "                node = stack.pop()\n",
    "                print(node.value, end=' ')\n",
    "                node = node.right\n",
    "            \n",
    "    def inOrderRecursive(self, node):\n",
    "        if node:\n",
    "            self.inOrderRecursive(node.left)\n",
    "            print(node.value, end=' ')\n",
    "            self.inOrderRecursive(node.right)\n",
    "            \n",
    "\n",
    "    def postOrderIterative(self, node):\n",
    "        stack = []\n",
    "        while node or stack:\n",
    "            if node:\n",
    "                stack.append((node,1))\n",
    "                node = node.left\n",
    "            else:\n",
    "                node, indicator = stack.pop()\n",
    "                if indicator:\n",
    "                    stack.append((node,0))\n",
    "                    node = node.right\n",
    "                else:\n",
    "                    print(node.value, end=' ')\n",
    "                    node = None # Traversion complete here thats why node=None\n",
    "        \n",
    "    \n",
    "    def postOrderRecursive(self, node):\n",
    "        if node:\n",
    "            self.postOrderRecursive(node.left)\n",
    "            self.postOrderRecursive(node.right)\n",
    "            print(node.value, end=' ')\n",
    "        return\n",
    "            \n",
    "    def levelOrder(self, node):\n",
    "        if node is None: return\n",
    "        q = deque()\n",
    "        q.append(node)\n",
    "        while q:\n",
    "            node = q.popleft()\n",
    "            if node is None: continue\n",
    "            print(node.value, end=' ')\n",
    "            q.append(node.left)\n",
    "            q.append(node.right)\n",
    "                            \n",
    "            \n",
    "    def append(self, data):\n",
    "        if self.root is None:\n",
    "            self.root = Node(data)\n",
    "        else:\n",
    "            self._append(self.root, data)\n",
    "            \n",
    "    def _append(self, node, data):\n",
    "        if data < node.value:\n",
    "            if node.left is None:\n",
    "                node.left = Node(data)\n",
    "            else:\n",
    "                self._append(node.left, data)\n",
    "        else:\n",
    "            if node.right is None:\n",
    "                node.right = Node(data)\n",
    "            else:\n",
    "                self._append(node.right, data)\n",
    "            \n",
    "    def extend(self, data_list):\n",
    "        for data in data_list:\n",
    "            self.append(data)\n",
    "            \n",
    "            \n",
    "    def height(self):\n",
    "        if self.root is None:\n",
    "            return 0\n",
    "        else:\n",
    "            return self._height(self.root, 0)\n",
    "    \n",
    "    def _height(self, node, height):\n",
    "        if node is None: return height\n",
    "        left_height = self._height(node.left, height+1)\n",
    "        right_height = self._height(node.right, height+1)\n",
    "        return max(left_height, right_height)\n",
    "      "
   ]
  },
  {
   "cell_type": "code",
   "execution_count": null,
   "metadata": {},
   "outputs": [],
   "source": [
    "#        10\n",
    "#       /  \\\n",
    "#      5   15\n",
    "#     / \\  / \\\n",
    "#    1  2 12 12    "
   ]
  },
  {
   "cell_type": "code",
   "execution_count": null,
   "metadata": {},
   "outputs": [],
   "source": [
    "# Lets built tree\n",
    "tree = BinaryTree()\n",
    "tree.root       = Node(10)\n",
    "tree.root.left  = Node(5)\n",
    "tree.root.right = Node(15)\n",
    "tree.root.left.left  = Node(1)\n",
    "tree.root.left.right = Node(2)\n",
    "tree.root.right.left  = Node(12)\n",
    "tree.root.right.right = Node(12)"
   ]
  },
  {
   "cell_type": "code",
   "execution_count": null,
   "metadata": {},
   "outputs": [],
   "source": [
    "tree.preOrderIterative(tree.root)\n",
    "print()\n",
    "tree.preOrderRecursive(tree.root)"
   ]
  },
  {
   "cell_type": "code",
   "execution_count": null,
   "metadata": {},
   "outputs": [],
   "source": [
    "tree.inOrderIterative(tree.root)\n",
    "print()\n",
    "tree.inOrderRecursive(tree.root)"
   ]
  },
  {
   "cell_type": "code",
   "execution_count": null,
   "metadata": {},
   "outputs": [],
   "source": [
    "tree.postOrderIterative(tree.root)\n",
    "print()\n",
    "tree.postOrderRecursive(tree.root)"
   ]
  },
  {
   "cell_type": "code",
   "execution_count": null,
   "metadata": {},
   "outputs": [],
   "source": [
    "tree.levelOrder(tree.root)"
   ]
  },
  {
   "cell_type": "code",
   "execution_count": null,
   "metadata": {},
   "outputs": [],
   "source": [
    "# Lets perform insertion with help of functions\n",
    "tree = BinaryTree()\n",
    "tree.append(12)\n",
    "tree.append(11)\n",
    "tree.append(10)\n",
    "tree.append(9)\n",
    "print(tree.preOrderRecursive(tree.root))\n",
    "print(tree.inOrderRecursive(tree.root))\n",
    "print(tree.postOrderRecursive(tree.root))"
   ]
  },
  {
   "cell_type": "code",
   "execution_count": null,
   "metadata": {},
   "outputs": [],
   "source": [
    "# Lets perform insertion with help of functions\n",
    "tree = BinaryTree()\n",
    "tree.extend([12,11,10,9,14,15])\n",
    "print(tree.preOrderRecursive(tree.root))\n",
    "print(tree.inOrderRecursive(tree.root))\n",
    "print(tree.postOrderRecursive(tree.root))"
   ]
  },
  {
   "cell_type": "code",
   "execution_count": null,
   "metadata": {},
   "outputs": [],
   "source": [
    "tree.height()"
   ]
  },
  {
   "cell_type": "markdown",
   "metadata": {},
   "source": [
    "#### Let create a Tree in which we can perform following operations-\n",
    "1. Insert into Binary Search Tree"
   ]
  },
  {
   "cell_type": "code",
   "execution_count": 396,
   "metadata": {},
   "outputs": [],
   "source": [
    "from typing import List"
   ]
  },
  {
   "cell_type": "code",
   "execution_count": 414,
   "metadata": {},
   "outputs": [],
   "source": [
    "class Node:\n",
    "    def __init__(self, val=0, left=None, right=None):\n",
    "        self.val = val\n",
    "        self.left = left\n",
    "        self.right = right\n",
    "\n",
    "class BinaryTree:\n",
    "\n",
    "    def __init__(self, root=None):\n",
    "        self.root = root\n",
    "        \n",
    "    def preOrder(self, root=None):\n",
    "        root = self.root if root is None else root\n",
    "        res = []\n",
    "        stack = []\n",
    "        while root or stack:\n",
    "            if root:\n",
    "                res.append(root.val)\n",
    "                stack.append(root)\n",
    "                root = root.left\n",
    "            else:\n",
    "                root = stack.pop()\n",
    "                root = root.right\n",
    "        return res\n",
    "    \n",
    "    def inOrder(self, root=None):\n",
    "        root = self.root if root is None else root\n",
    "        res = []\n",
    "        stack = []\n",
    "        while root or stack:\n",
    "            if root:\n",
    "                stack.append(root)\n",
    "                root = root.left\n",
    "            else:\n",
    "                root = stack.pop()\n",
    "                res.append(root.val)\n",
    "                root = root.right\n",
    "        return res\n",
    "                \n",
    "    def postOrder(self, root=None):\n",
    "        root = self.root if root is None else root\n",
    "        res = []\n",
    "        stack = []\n",
    "        while root or stack:\n",
    "            if root:\n",
    "                stack.append((root,1))\n",
    "                root = root.left\n",
    "            else:\n",
    "                root, indicator = stack.pop()\n",
    "                if indicator:\n",
    "                    stack.append((root, 0))\n",
    "                    root = root.right\n",
    "                else:\n",
    "                    res.append(root.val)\n",
    "                    root = None\n",
    "        return res\n",
    "                    \n",
    "    def levelOrder(self, root=None):\n",
    "        root = self.root if root is None else root\n",
    "        stack = [root]\n",
    "        res = []\n",
    "        while root or stack:\n",
    "            root = stack.pop(0)\n",
    "            if root is None:\n",
    "                res.append(None)\n",
    "                continue\n",
    "            res.append(root.val)\n",
    "            if root.left:\n",
    "                stack.append(root.left)\n",
    "            else:\n",
    "                stack.append(None)\n",
    "            if root.right:\n",
    "                stack.append(root.right)\n",
    "            else:\n",
    "                stack.append(None)\n",
    "        return res\n",
    "    \n",
    "        \n",
    "    def extend(self, data:List[int], type='bst') -> None:\n",
    "        ''' type: bst, level\n",
    "        '''\n",
    "        if type=='bst':\n",
    "            data = [val for val in data if val is not None]\n",
    "            for val in data:\n",
    "                if self.root is None:\n",
    "                    self.root = Node(val)\n",
    "                else:\n",
    "                    self._extend_bst(self.root, val)\n",
    "        else:\n",
    "            self._extend_level(data)\n",
    "\n",
    " \n",
    "    def _extend_level(self, data):\n",
    "        root = Node(data[0])\n",
    "        self.root = root\n",
    "        stack = []\n",
    "        for val in data[1:]:\n",
    "            if root.left is None: \n",
    "                root.left = Node(val)\n",
    "                stack.append(root.left)  \n",
    "                continue\n",
    "            if root.right is None: \n",
    "                root.right = Node(val)  \n",
    "                stack.append(root.right)  \n",
    "                continue\n",
    "            root = stack.pop(0)\n",
    "            root.left = Node(val)\n",
    "            stack.append(root.left)\n",
    "            \n",
    "    def _extend_bst(self, root, data):\n",
    "        if data < root.val:\n",
    "            if root.left is None:\n",
    "                root.left = Node(data)\n",
    "            else:\n",
    "                self._extend_bst(root.left, data)\n",
    "        else:\n",
    "            if root.right is None:\n",
    "                root.right = Node(data)\n",
    "            else:\n",
    "                self._extend_bst(root.right, data)\n",
    "                \n",
    "    \n",
    "    def height(self, root=None):\n",
    "        root = self.root if root is None else root\n",
    "        if root is None: return 0\n",
    "        else: return self._height(root, 0) - 1\n",
    "    \n",
    "    def _height(self, root, height):\n",
    "        if root is None: return height\n",
    "        return max(self._height(root.left, height+1), self._height(root.right, height+1))\n",
    "    \n",
    "\n",
    "    def find(self, val):\n",
    "        return self._find(self.root, val)\n",
    "    \n",
    "    def _find(self, root, val):\n",
    "        if root is None: return False\n",
    "        if root.val == val: return True\n",
    "        if val < root.val:\n",
    "            return self._find(root.left, val)\n",
    "        else:\n",
    "            return self._find(root.right, val)\n",
    "        \n",
    "    def delete(self, val):\n",
    "        return self._delete(self.root, val)\n",
    "    \n",
    "    def _delete(self, root, val):\n",
    "        if root is None: return root\n",
    "        if val < root.val:\n",
    "            root.left = self._delete(root.left, val)\n",
    "        elif val > root.val:\n",
    "            root.right = self._delete(root.right, val)\n",
    "        else: # Node with one child or no child\n",
    "            if root.left is None and root.right is None: \n",
    "                root = None\n",
    "                return root\n",
    "            elif root.left is None:\n",
    "                temp = root.right\n",
    "                root = None\n",
    "                return temp\n",
    "            elif root.right is None:\n",
    "                temp = root.left\n",
    "                root = None\n",
    "                return temp\n",
    "            # Node with two child get the inorder successor\n",
    "            if self.height(root.left) <= self.height(root.right):\n",
    "                new_value = self.inOrder(root.left)[-1]\n",
    "                root.val = new_value\n",
    "                root.left = self._delete(root.left, new_value)\n",
    "            else:\n",
    "                new_value = self.inOrder(root.right)[0]\n",
    "                root.val = new_value\n",
    "                root.right = self._delete(root.right, new_value)\n",
    "        return root        "
   ]
  },
  {
   "cell_type": "code",
   "execution_count": 415,
   "metadata": {},
   "outputs": [],
   "source": [
    "tree = BinaryTree()\n",
    "arr = [1,5,4,10,7,42,3,27,13]\n",
    "tree.extend(arr, 'bst')\n",
    "#tree.extend(arr,'level')"
   ]
  },
  {
   "cell_type": "code",
   "execution_count": 381,
   "metadata": {},
   "outputs": [
    {
     "name": "stdout",
     "output_type": "stream",
     "text": [
      "Array      :  [1, 5, 4, 10, 7, 42, 3, 27, 13]\n",
      "\n",
      "PreOrder   :  [1, 5, 4, 3, 10, 7, 42, 27, 13]\n",
      "In Order   :  [1, 3, 4, 5, 7, 10, 13, 27, 42]\n",
      "PostOrder  :  [3, 4, 7, 13, 27, 42, 10, 5, 1]\n",
      "LevelOrder :  [1, None, 5, 4, 10, 3, None, 7, 42, None, None, None, None, 27, None, 13, None, None, None]\n",
      "Height     :  5\n"
     ]
    }
   ],
   "source": [
    "print(\"Array      : \", arr, end='\\n\\n')\n",
    "print(\"PreOrder   : \", tree.preOrder())\n",
    "print(\"In Order   : \", tree.inOrder())\n",
    "print(\"PostOrder  : \", tree.postOrder())\n",
    "print(\"LevelOrder : \", tree.levelOrder())\n",
    "print(\"Height     : \", tree.height())"
   ]
  },
  {
   "cell_type": "code",
   "execution_count": 382,
   "metadata": {},
   "outputs": [
    {
     "data": {
      "text/plain": [
       "False"
      ]
     },
     "execution_count": 382,
     "metadata": {},
     "output_type": "execute_result"
    }
   ],
   "source": [
    "tree.find(12)"
   ]
  },
  {
   "cell_type": "code",
   "execution_count": 393,
   "metadata": {},
   "outputs": [
    {
     "data": {
      "text/plain": [
       "[1, None, None]"
      ]
     },
     "execution_count": 393,
     "metadata": {},
     "output_type": "execute_result"
    }
   ],
   "source": [
    "tree.delete(1)\n",
    "tree.levelOrder()"
   ]
  },
  {
   "cell_type": "markdown",
   "metadata": {},
   "source": [
    "#### Generate BST from PreOrder"
   ]
  },
  {
   "cell_type": "code",
   "execution_count": 453,
   "metadata": {},
   "outputs": [],
   "source": [
    "class TreeNode:\n",
    "    def __init__(self, val=0, left=None, right=None):\n",
    "        self.val = val\n",
    "        self.left = left\n",
    "        self.right = right\n",
    "        \n",
    "class Solution:\n",
    "    def generate_bst_from_preorder(self, preorder):\n",
    "        root = TreeNode(preorder[0])\n",
    "        dummy = root\n",
    "        stack = []\n",
    "        count = 1\n",
    "        while len(preorder)-1 >= count:\n",
    "            val = preorder[count]\n",
    "            if val < dummy.val:\n",
    "                dummy.left = TreeNode(val)\n",
    "                stack.append(dummy)\n",
    "                dummy = dummy.left\n",
    "                count+=1\n",
    "            else:\n",
    "                if stack:\n",
    "                    if val > dummy.val and val < stack[-1].val:\n",
    "                        dummy.right = TreeNode(val)\n",
    "                        stack.append(dummy)\n",
    "                        dummy = dummy.right\n",
    "                        count+=1\n",
    "                    else:\n",
    "                        dummy = stack.pop()\n",
    "                else:\n",
    "                    dummy.right = TreeNode(val)\n",
    "                    stack.append(dummy)\n",
    "                    dummy = dummy.right\n",
    "                    count+=1\n",
    "        return root        "
   ]
  },
  {
   "cell_type": "code",
   "execution_count": 458,
   "metadata": {},
   "outputs": [
    {
     "name": "stdout",
     "output_type": "stream",
     "text": [
      "[30, 10, 12, 35, 32, 33]\n",
      "[10, 12, 30, 32, 33, 35]\n",
      "[12, 10, 33, 32, 35, 30]\n"
     ]
    }
   ],
   "source": [
    "preorder = [30,10,12,35,32,33]\n",
    "root = Solution().generate_bst_from_preorder(preorder)\n",
    "print(tree.preOrder(root))\n",
    "print(tree.inOrder(root))\n",
    "print(tree.postOrder(root))"
   ]
  },
  {
   "cell_type": "markdown",
   "metadata": {},
   "source": [
    "#### Generate BST from PostOrder"
   ]
  },
  {
   "cell_type": "code",
   "execution_count": 466,
   "metadata": {},
   "outputs": [],
   "source": [
    "class TreeNode:\n",
    "    def __init__(self, val=0, left=None, right=None):\n",
    "        self.val = val\n",
    "        self.left = left\n",
    "        self.right = right\n",
    "        \n",
    "class Solution:\n",
    "    def generate_bst_from_postorder(self, preorder):\n",
    "        root = TreeNode(preorder[-1])\n",
    "        dummy = root\n",
    "        stack = []\n",
    "        count = len(preorder)-2\n",
    "        while count>=0:\n",
    "            val = preorder[count]\n",
    "            if val > dummy.val:\n",
    "                dummy.right = TreeNode(val)\n",
    "                stack.append(dummy)\n",
    "                dummy = dummy.right\n",
    "                count-=1\n",
    "            else:\n",
    "                if stack:\n",
    "                    if val < dummy.val and val > stack[-1].val:\n",
    "                        dummy.left = TreeNode(val)\n",
    "                        stack.append(dummy)\n",
    "                        dummy = dummy.left\n",
    "                        count-=1\n",
    "                    else:\n",
    "                        dummy = stack.pop()\n",
    "                else:\n",
    "                    dummy.left = TreeNode(val)\n",
    "                    stack.append(dummy)\n",
    "                    dummy = dummy.left\n",
    "                    count-=1\n",
    "        return root        "
   ]
  },
  {
   "cell_type": "code",
   "execution_count": 468,
   "metadata": {},
   "outputs": [
    {
     "name": "stdout",
     "output_type": "stream",
     "text": [
      "[30, 10, 12, 35, 32, 33]\n",
      "[10, 12, 30, 32, 33, 35]\n",
      "[12, 10, 33, 32, 35, 30]\n"
     ]
    }
   ],
   "source": [
    "#preorder = [30,10,12,35,32,33]\n",
    "postorder = [12,10,33,32,35,30]\n",
    "root = Solution().generate_bst_from_postorder(postorder)\n",
    "print(tree.preOrder(root))\n",
    "print(tree.inOrder(root))\n",
    "print(tree.postOrder(root))"
   ]
  },
  {
   "cell_type": "code",
   "execution_count": null,
   "metadata": {},
   "outputs": [],
   "source": []
  }
 ],
 "metadata": {
  "kernelspec": {
   "display_name": "Python 3.8.8 ('base')",
   "language": "python",
   "name": "python3"
  },
  "language_info": {
   "codemirror_mode": {
    "name": "ipython",
    "version": 3
   },
   "file_extension": ".py",
   "mimetype": "text/x-python",
   "name": "python",
   "nbconvert_exporter": "python",
   "pygments_lexer": "ipython3",
   "version": "3.8.8"
  },
  "orig_nbformat": 4,
  "vscode": {
   "interpreter": {
    "hash": "ad2bdc8ecc057115af97d19610ffacc2b4e99fae6737bb82f5d7fb13d2f2c186"
   }
  }
 },
 "nbformat": 4,
 "nbformat_minor": 2
}
