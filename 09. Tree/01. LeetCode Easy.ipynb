{
 "cells": [
  {
   "cell_type": "code",
   "execution_count": 2,
   "metadata": {},
   "outputs": [],
   "source": [
    "from typing import List, Dict, Tuple, Optional\n",
    "from collections import deque"
   ]
  },
  {
   "cell_type": "code",
   "execution_count": 3,
   "metadata": {},
   "outputs": [],
   "source": [
    "class TreeNode:\n",
    "    def __init__(self, val=0, left=None, right=None):\n",
    "        self.val = val\n",
    "        self.left = left\n",
    "        self.right = right\n",
    "\n",
    "class BinaryTree:\n",
    "    def __init__(self,root=None):\n",
    "        self.root = None\n",
    "        self.level_insert_q = []\n",
    "        \n",
    "    def preOrderRecursive(self, node):\n",
    "        if node:\n",
    "            print(node.val, end=' ')\n",
    "            self.preOrderRecursive(node.left)\n",
    "            self.preOrderRecursive(node.right)\n",
    "\n",
    "    def inOrderRecursive(self, node):\n",
    "        if node:\n",
    "            self.inOrderRecursive(node.left)\n",
    "            print(node.val, end=' ')\n",
    "            self.inOrderRecursive(node.right)\n",
    "    \n",
    "    def postOrderRecursive(self, node):\n",
    "        if node:\n",
    "            self.postOrderRecursive(node.left)\n",
    "            self.postOrderRecursive(node.right)\n",
    "            print(node.val, end=' ')\n",
    "            \n",
    "    def levelOrderIterative(self, node):\n",
    "        if node is None: return\n",
    "        q = deque()\n",
    "        q.append(node)\n",
    "        while q:\n",
    "            node = q.popleft()\n",
    "            if node is None: continue\n",
    "            print(node.val, end=' ')\n",
    "            q.append(node.left)\n",
    "            q.append(node.right)                \n",
    "    \n",
    "    def append(self, data, types):\n",
    "        if self.root is None:\n",
    "            self.root = TreeNode(data)\n",
    "        else:\n",
    "            self._appendBinary(self.root, data)\n",
    "        return self\n",
    "                    \n",
    "    def _appendBinary(self, node, data):\n",
    "        if data < node.val:\n",
    "            if node.left is None:\n",
    "                node.left = TreeNode(data)\n",
    "            else:\n",
    "                self._appendBinary(node.left, data)\n",
    "        else:\n",
    "            if node.right is None:\n",
    "                node.right = TreeNode(data)\n",
    "            else:\n",
    "                self._appendBinary(node.right, data)\n",
    "            \n",
    "    def extend(self, data_list, types = \"binary\"):\n",
    "        for data in data_list:\n",
    "            self.append(data, types)\n",
    "        return self\n",
    "            \n",
    "    def height(self):\n",
    "        if self.root is None:\n",
    "            return 0\n",
    "        else:\n",
    "            return self._height(self.root, 0)\n",
    "    \n",
    "    def _height(self, node, height):\n",
    "        if node is None: return height\n",
    "        left_height = self._height(node.left, height+1)\n",
    "        right_height = self._height(node.right, height+1)\n",
    "        return max(left_height, right_height)"
   ]
  },
  {
   "cell_type": "markdown",
   "metadata": {},
   "source": [
    "#### 1. Pre order"
   ]
  },
  {
   "cell_type": "code",
   "execution_count": 48,
   "metadata": {},
   "outputs": [],
   "source": [
    "\"\"\"\n",
    "# Definition for a Node.\n",
    "class Node:\n",
    "    def __init__(self, val=None, children=None):\n",
    "        self.val = val\n",
    "        self.children = children\n",
    "\"\"\"\n",
    "\"\"\"\n",
    "# Definition for a Node.\n",
    "class Node(object):\n",
    "    def __init__(self, val=None, children=None):\n",
    "        self.val = val\n",
    "        self.children = children\n",
    "\"\"\"\n",
    "\n",
    "class Solution(object):\n",
    "    def preorder(self, root):\n",
    "        \"\"\"\n",
    "        :type root: Node\n",
    "        :rtype: List[int]\n",
    "        \"\"\"\n",
    "        if root is None:\n",
    "            return []\n",
    "        stack = [root]\n",
    "        output = []\n",
    "        while stack:\n",
    "            temp = stack.pop()            \n",
    "            output.append(temp.val)            \n",
    "            stack.extend(temp.children[::-1])        \n",
    "        return output        "
   ]
  },
  {
   "cell_type": "code",
   "execution_count": 49,
   "metadata": {},
   "outputs": [
    {
     "data": {
      "text/plain": [
       "[1, None, 3, 2, 4, None, 5, 6]"
      ]
     },
     "execution_count": 49,
     "metadata": {},
     "output_type": "execute_result"
    }
   ],
   "source": [
    "root = [1,None,3,2,4,None,5,6]\n",
    "[root].pop()\n",
    "#Solution().preorder(root)"
   ]
  },
  {
   "cell_type": "markdown",
   "metadata": {},
   "source": [
    "#### 2. Average of Levels in Binary Tree"
   ]
  },
  {
   "cell_type": "code",
   "execution_count": null,
   "metadata": {},
   "outputs": [],
   "source": [
    "from typing import Optional, List "
   ]
  },
  {
   "cell_type": "code",
   "execution_count": null,
   "metadata": {},
   "outputs": [],
   "source": [
    "# Definition for a binary tree node.\n",
    "class TreeNode:\n",
    "    def __init__(self, val=0, left=None, right=None):\n",
    "        self.val = val\n",
    "        self.left = left\n",
    "        self.right = right\n",
    "\n",
    "\n",
    "class Solution:\n",
    "    def averageOfLevels(self, root: Optional[TreeNode]) -> List[float]:\n",
    "        info = []\n",
    "        def dfs(node, depth = 0):\n",
    "            if node:\n",
    "                if len(info) <= depth:\n",
    "                    info.append([0, 0])\n",
    "                info[depth][0] += node.val\n",
    "                info[depth][1] += 1\n",
    "                dfs(node.left, depth + 1)\n",
    "                dfs(node.right, depth + 1)\n",
    "        dfs(root)\n",
    "\n",
    "        return [s/float(c) for s, c in info]"
   ]
  },
  {
   "cell_type": "code",
   "execution_count": null,
   "metadata": {},
   "outputs": [],
   "source": [
    "# First you need to under stand how to insert in Trees.\n",
    "root = [3,9,20,None,None,15,7]\n",
    "Solution().averageOfLevels(root)"
   ]
  },
  {
   "cell_type": "markdown",
   "metadata": {},
   "source": [
    "#### 3. Binary Tree Inorder Traversal"
   ]
  },
  {
   "cell_type": "code",
   "execution_count": 26,
   "metadata": {},
   "outputs": [],
   "source": [
    "class Solution:\n",
    "    def inorder(self, node, l):\n",
    "        if node:\n",
    "            self.inorder(node.left, l)\n",
    "            l.append(node.val)\n",
    "            self.inorder(node.right, l)\n",
    "    \n",
    "    def inorderTraversal(self, root: Optional[TreeNode]) -> List[int]:\n",
    "        res = []\n",
    "        if root:\n",
    "            self.inorder(root, res)\n",
    "            return res\n",
    "        else:\n",
    "            return []        "
   ]
  },
  {
   "cell_type": "code",
   "execution_count": 29,
   "metadata": {},
   "outputs": [
    {
     "name": "stdout",
     "output_type": "stream",
     "text": [
      "2 3 13 None\n"
     ]
    },
    {
     "data": {
      "text/plain": [
       "[2, 3, 13]"
      ]
     },
     "execution_count": 29,
     "metadata": {},
     "output_type": "execute_result"
    }
   ],
   "source": [
    "tree = BinaryTree(TreeNode(None)).extend([13, 2,3])\n",
    "print(tree.inOrderRecursive(tree.root))\n",
    "Solution().inorderTraversal(tree.root)"
   ]
  },
  {
   "cell_type": "markdown",
   "metadata": {},
   "source": [
    "#### 4. Binary Tree Postorder Traversal"
   ]
  },
  {
   "cell_type": "code",
   "execution_count": 32,
   "metadata": {},
   "outputs": [],
   "source": [
    "class Solution:\n",
    "    def postorder(self, node, l):\n",
    "        if node:\n",
    "            self.postorder(node.left, l)\n",
    "            self.postorder(node.right, l)\n",
    "            l.append(node.val)\n",
    "            \n",
    "    def postorderTraversal(self, root: Optional[TreeNode]) -> List[int]:\n",
    "        res = []\n",
    "        if root:\n",
    "            self.postorder(root, res)\n",
    "            return res\n",
    "        else:\n",
    "            return []        "
   ]
  },
  {
   "cell_type": "code",
   "execution_count": 33,
   "metadata": {},
   "outputs": [
    {
     "name": "stdout",
     "output_type": "stream",
     "text": [
      "3 2 13 None\n"
     ]
    },
    {
     "data": {
      "text/plain": [
       "[3, 2, 13]"
      ]
     },
     "execution_count": 33,
     "metadata": {},
     "output_type": "execute_result"
    }
   ],
   "source": [
    "tree = BinaryTree(TreeNode(None)).extend([13, 2,3])\n",
    "print(tree.postOrderRecursive(tree.root))\n",
    "Solution().postorderTraversal(tree.root)"
   ]
  },
  {
   "cell_type": "markdown",
   "metadata": {},
   "source": [
    "#### 5. Preorder"
   ]
  },
  {
   "cell_type": "code",
   "execution_count": 75,
   "metadata": {},
   "outputs": [],
   "source": [
    "class Solution:\n",
    "    def preorder(self, node, l):\n",
    "        if node:\n",
    "            l.append(node.val)\n",
    "            self.preorder(node.left, l)\n",
    "            self.preorder(node.right, l)\n",
    "            \n",
    "        \n",
    "    def preorderTraversal(self, root: Optional[TreeNode]) -> List[int]:\n",
    "        res = []\n",
    "        if root:\n",
    "            self.preorder(root, res)\n",
    "            return res\n",
    "        else:\n",
    "            return []                "
   ]
  },
  {
   "cell_type": "code",
   "execution_count": 78,
   "metadata": {},
   "outputs": [
    {
     "name": "stdout",
     "output_type": "stream",
     "text": [
      "10 5 15 None\n"
     ]
    },
    {
     "data": {
      "text/plain": [
       "[10, 5, 15]"
      ]
     },
     "execution_count": 78,
     "metadata": {},
     "output_type": "execute_result"
    }
   ],
   "source": [
    "tree = BinaryTree(TreeNode(None)).extend([10,5,15])\n",
    "print(tree.levelOrderIterative(tree.root))\n",
    "Solution().preorderTraversal(tree.root)"
   ]
  },
  {
   "cell_type": "markdown",
   "metadata": {},
   "source": [
    "#### 6. Sum of left leaves:\n"
   ]
  },
  {
   "cell_type": "code",
   "execution_count": null,
   "metadata": {},
   "outputs": [],
   "source": [
    "def levelOrderIterative(self, node):\n",
    "        if node is None: return\n",
    "        q = deque()\n",
    "        q.append(node)\n",
    "        while q:\n",
    "            node = q.popleft()\n",
    "            if node is None: continue\n",
    "            print(node.val, end=' ')\n",
    "            q.append(node.left)\n",
    "            q.append(node.right)"
   ]
  },
  {
   "cell_type": "code",
   "execution_count": 98,
   "metadata": {},
   "outputs": [],
   "source": [
    "# Definition for a binary tree node.\n",
    "# class TreeNode:\n",
    "#     def __init__(self, val=0, left=None, right=None):\n",
    "#         self.val = val\n",
    "#         self.left = left\n",
    "#         self.right = right\n",
    "class Solution:\n",
    "    def dfs(self, root, side):\n",
    "        if not root: return\n",
    "        if not root.left and not root.right: # It is a leave\n",
    "            if side == -1: self.sum += root.val\n",
    "        self.dfs(root.left, -1)\n",
    "        self.dfs(root.right, 1)\n",
    "            \n",
    "    def sumOfLeftLeaves(self, root: Optional[TreeNode]) -> int:\n",
    "        self.sum = 0\n",
    "        self.dfs(root, 0)\n",
    "        return self.sum\n",
    "        "
   ]
  },
  {
   "cell_type": "code",
   "execution_count": 99,
   "metadata": {},
   "outputs": [
    {
     "name": "stdout",
     "output_type": "stream",
     "text": [
      "10 5 15 2 8 12 13 None\n"
     ]
    },
    {
     "data": {
      "text/plain": [
       "2"
      ]
     },
     "execution_count": 99,
     "metadata": {},
     "output_type": "execute_result"
    }
   ],
   "source": [
    "tree = BinaryTree(TreeNode(None)).extend([10,5,15,2,8,12,13])\n",
    "print(tree.levelOrderIterative(tree.root))\n",
    "Solution().sumOfLeftLeaves(tree.root)"
   ]
  },
  {
   "cell_type": "markdown",
   "metadata": {},
   "source": [
    "#### 7. Maximum Depth of Binary Tree"
   ]
  },
  {
   "cell_type": "code",
   "execution_count": 107,
   "metadata": {},
   "outputs": [],
   "source": [
    "# Definition for a binary tree node.\n",
    "# class TreeNode:\n",
    "#     def __init__(self, val=0, left=None, right=None):\n",
    "#         self.val = val\n",
    "#         self.left = left\n",
    "#         self.right = right\n",
    "class Solution:\n",
    "    def height(self, node, height):\n",
    "        if node is None: return height\n",
    "        return max(self.height(node.left,height+1), self.height(node.right,height+1))\n",
    "    \n",
    "    def maxDepth(self, root: Optional[TreeNode]) -> int:\n",
    "        if root is None: return 0\n",
    "        else:\n",
    "            return self.height(root,0)"
   ]
  },
  {
   "cell_type": "code",
   "execution_count": 109,
   "metadata": {},
   "outputs": [
    {
     "name": "stdout",
     "output_type": "stream",
     "text": [
      "3 9 20 None\n"
     ]
    },
    {
     "data": {
      "text/plain": [
       "3"
      ]
     },
     "execution_count": 109,
     "metadata": {},
     "output_type": "execute_result"
    }
   ],
   "source": [
    "root = [3,9,20]\n",
    "tree = BinaryTree(TreeNode(None)).extend(root)\n",
    "print(tree.levelOrderIterative(tree.root))\n",
    "Solution().maxDepth(tree.root)"
   ]
  },
  {
   "cell_type": "markdown",
   "metadata": {},
   "source": [
    "#### 8. Binary Tree level order Traversal"
   ]
  },
  {
   "cell_type": "code",
   "execution_count": 111,
   "metadata": {},
   "outputs": [],
   "source": [
    "# Definition for a binary tree node.\n",
    "# class TreeNode:\n",
    "#     def __init__(self, val=0, left=None, right=None):\n",
    "#         self.val = val\n",
    "#         self.left = left\n",
    "#         self.right = right\n",
    "class Solution:\n",
    "    def levelOrder(self, root: Optional[TreeNode]) -> List[List[int]]:\n",
    "        from collections import deque\n",
    "        res = []\n",
    "        if root is None: return res\n",
    "        q = deque()\n",
    "        q.append(root)\n",
    "        while q:\n",
    "            qLen = len(q)\n",
    "            level = []\n",
    "            for i in range(qLen):\n",
    "                node = q.popleft()\n",
    "                if node:\n",
    "                    level.append(node.val)\n",
    "                    q.append(node.left)\n",
    "                    q.append(node.right)\n",
    "            if level:\n",
    "                res.append(level)\n",
    "        return res             "
   ]
  },
  {
   "cell_type": "code",
   "execution_count": 115,
   "metadata": {},
   "outputs": [],
   "source": [
    "# Approach-2:\n",
    "\n",
    "from collections import defaultdict\n",
    "class Solution:\n",
    "    def levelOrder(self, root: Optional[TreeNode]) -> List[List[int]]:\n",
    "        d = defaultdict(list)\n",
    "        def dfs(node, level):\n",
    "            if not node: return\n",
    "            d[level].append(node.val)\n",
    "            dfs(node.left, level + 1)\n",
    "            dfs(node.right, level + 1)\n",
    "            \n",
    "        dfs(root, 0)\n",
    "        print(d)\n",
    "        return d.values()"
   ]
  },
  {
   "cell_type": "code",
   "execution_count": 116,
   "metadata": {},
   "outputs": [
    {
     "name": "stdout",
     "output_type": "stream",
     "text": [
      "3 9 7 20 15 None\n"
     ]
    }
   ],
   "source": [
    "root = [3,9,20,15,7]\n",
    "tree = BinaryTree(TreeNode(None)).extend(root)\n",
    "print(tree.levelOrderIterative(tree.root))\n",
    "#Solution().levelOrder(tree.root)"
   ]
  },
  {
   "cell_type": "markdown",
   "metadata": {},
   "source": [
    "#### 9. Symmetric Tree"
   ]
  },
  {
   "cell_type": "code",
   "execution_count": 128,
   "metadata": {},
   "outputs": [],
   "source": [
    "# Iterative method\n",
    "class Solution: \n",
    "    def isSymmetric(self, root):\n",
    "        if root is None: return True\n",
    "        stack = [(root.left, root.right)]\n",
    "        while stack:\n",
    "            left, right = stack.pop(0)\n",
    "            if left is None and right is None: continue\n",
    "            if left is None or right is None: return False\n",
    "            if left.val == right.val:\n",
    "                stack.append((left.left, right.right))\n",
    "                stack.append((left.right, right.left))\n",
    "            else:\n",
    "                return False\n",
    "        return True"
   ]
  },
  {
   "cell_type": "code",
   "execution_count": 131,
   "metadata": {},
   "outputs": [],
   "source": [
    "# Recursive Approach:\n",
    "class Solution:\n",
    "    def isSymmetric(self, root):\n",
    "        def isSym(L,R):\n",
    "            if not L and not R: return True\n",
    "            if L and R and L.val == R.val: \n",
    "                return isSym(L.left, R.right) and isSym(L.right, R.left)\n",
    "            return False\n",
    "        return isSym(root, root)"
   ]
  },
  {
   "cell_type": "code",
   "execution_count": 130,
   "metadata": {},
   "outputs": [
    {
     "name": "stdout",
     "output_type": "stream",
     "text": [
      "1 2 2 3 4 3 4 None\n"
     ]
    },
    {
     "data": {
      "text/plain": [
       "False"
      ]
     },
     "execution_count": 130,
     "metadata": {},
     "output_type": "execute_result"
    }
   ],
   "source": [
    "root = [1,2,2,3,4,4,3]\n",
    "tree = BinaryTree(TreeNode(None)).extend(root)\n",
    "print(tree.levelOrderIterative(tree.root))\n",
    "Solution().isSymmetric(tree.root)"
   ]
  },
  {
   "cell_type": "markdown",
   "metadata": {},
   "source": [
    "#### 10. Binary Search"
   ]
  },
  {
   "cell_type": "code",
   "execution_count": 147,
   "metadata": {},
   "outputs": [],
   "source": [
    "class Solution:\n",
    "        \n",
    "    def search(self, nums: List[int], target: int) -> int:\n",
    "        l,r = 0, len(nums)\n",
    "        if not r: return -1\n",
    "        if (r==1) and (nums[0]==target): return 0\n",
    "        if (r==1) and (nums[0]!=target): return -1\n",
    "        r = r-1\n",
    "        while l<=r:\n",
    "            mid = (l+r)//2\n",
    "            if target==nums[mid]: return mid\n",
    "            if target<nums[mid]:\n",
    "                r = mid-1\n",
    "            else:\n",
    "                l = mid+1\n",
    "        return -1"
   ]
  },
  {
   "cell_type": "code",
   "execution_count": 148,
   "metadata": {},
   "outputs": [
    {
     "data": {
      "text/plain": [
       "5"
      ]
     },
     "execution_count": 148,
     "metadata": {},
     "output_type": "execute_result"
    }
   ],
   "source": [
    "nums = [5]; target = 5\n",
    "Solution().search(nums, target)"
   ]
  },
  {
   "cell_type": "markdown",
   "metadata": {},
   "source": [
    "#### 11. Invert a Binary Tree"
   ]
  },
  {
   "cell_type": "code",
   "execution_count": 159,
   "metadata": {},
   "outputs": [],
   "source": [
    "# Definition for a binary tree node.\n",
    "# class TreeNode:\n",
    "#     def __init__(self, val=0, left=None, right=None):\n",
    "#         self.val = val\n",
    "#         self.left = left\n",
    "#         self.right = right\n",
    "# Recursive approach:\n",
    "class Solution:        \n",
    "    def invertTree(self, root: Optional[TreeNode]) -> Optional[TreeNode]:\n",
    "        if root is None: return None\n",
    "        root.left, root.right = root.right, root.left\n",
    "        self.invertTree(root.left)\n",
    "        self.invertTree(root.right)\n",
    "        return root"
   ]
  },
  {
   "cell_type": "code",
   "execution_count": null,
   "metadata": {},
   "outputs": [],
   "source": [
    "# Iterative Approch\n",
    "class Solution:\n",
    "    def invertTree(self, root):\n",
    "        stack = [root]\n",
    "        while stack:\n",
    "            node = stack.pop()\n",
    "            if node:\n",
    "                node.left, node.right = node.right, node.left\n",
    "                stack += node.left, node.right\n",
    "        return root"
   ]
  },
  {
   "cell_type": "code",
   "execution_count": 158,
   "metadata": {},
   "outputs": [
    {
     "name": "stdout",
     "output_type": "stream",
     "text": [
      "1 2 3 4 6 7 9 None\n",
      "4 7 2 9 6 3 1 "
     ]
    }
   ],
   "source": [
    "root = [4,2,7,1,3,6,9]\n",
    "tree = BinaryTree(TreeNode(None)).extend(root)\n",
    "print(tree.inOrderRecursive(tree.root))\n",
    "tree.levelOrderIterative(Solution().invertTree(tree.root))"
   ]
  },
  {
   "cell_type": "markdown",
   "metadata": {},
   "source": [
    "#### 12. Path Sum"
   ]
  },
  {
   "cell_type": "code",
   "execution_count": 179,
   "metadata": {},
   "outputs": [],
   "source": [
    "# Definition for a binary tree node.\n",
    "# class TreeNode:\n",
    "#     def __init__(self, val=0, left=None, right=None):\n",
    "#         self.val = val\n",
    "#         self.left = left\n",
    "#         self.right = right\n",
    "class Solution:\n",
    "    def hasPathSum(self, root: Optional[TreeNode], targetSum: int) -> bool:\n",
    "        def dfs(root, sum_):\n",
    "            if root is None: return False\n",
    "            sum_+=root.val\n",
    "            if not root.left and not root.right:\n",
    "                return sum_== targetSum\n",
    "            a = dfs(root.left, sum_)\n",
    "            b = dfs(root.right, sum_)\n",
    "            return a or b\n",
    "        return dfs(root, 0)\n",
    "        "
   ]
  },
  {
   "cell_type": "code",
   "execution_count": 182,
   "metadata": {},
   "outputs": [
    {
     "name": "stdout",
     "output_type": "stream",
     "text": [
      "4 2 1 3 7 6 9 None\n"
     ]
    },
    {
     "data": {
      "text/plain": [
       "False"
      ]
     },
     "execution_count": 182,
     "metadata": {},
     "output_type": "execute_result"
    }
   ],
   "source": [
    "root = [4,2,7,1,3,6,9]\n",
    "tree = BinaryTree(TreeNode(None)).extend(root)\n",
    "print(tree.preOrderRecursive(tree.root))\n",
    "Solution().hasPathSum(tree.root, 22)"
   ]
  },
  {
   "cell_type": "code",
   "execution_count": null,
   "metadata": {},
   "outputs": [],
   "source": []
  },
  {
   "cell_type": "markdown",
   "metadata": {},
   "source": [
    "#### 13. Search in a Binary Search Tree"
   ]
  },
  {
   "cell_type": "code",
   "execution_count": 201,
   "metadata": {},
   "outputs": [],
   "source": [
    "class Solution:\n",
    "    def searchBST(self, root: Optional[TreeNode], val: int) -> Optional[TreeNode]:\n",
    "        def dfs(root):\n",
    "            if root is None: return None\n",
    "            if val==root.val: return root\n",
    "            return  dfs(root.left) if val<root.val else dfs(root.right) \n",
    "        return dfs(root)"
   ]
  },
  {
   "cell_type": "code",
   "execution_count": 202,
   "metadata": {},
   "outputs": [],
   "source": [
    "class Solution:\n",
    "    def searchBST(self, root: Optional[TreeNode], val: int) -> Optional[TreeNode]:\n",
    "        \n",
    "        while root and root.val != val:\n",
    "            root = root.left if val < root.val else root.right\n",
    "        \n",
    "        return root"
   ]
  },
  {
   "cell_type": "code",
   "execution_count": 203,
   "metadata": {},
   "outputs": [
    {
     "name": "stdout",
     "output_type": "stream",
     "text": [
      "4 2 7 1 3 None\n",
      "2 1 3 None\n"
     ]
    }
   ],
   "source": [
    "root = [4,2,7,1,3]; val = 2\n",
    "tree = BinaryTree(TreeNode(None)).extend(root)\n",
    "print(tree.levelOrderIterative(tree.root))\n",
    "temp = Solution().searchBST(tree.root, val)\n",
    "print(tree.levelOrderIterative(temp))"
   ]
  },
  {
   "cell_type": "markdown",
   "metadata": {},
   "source": [
    "#### 14. Insert into a Binary Search Tree"
   ]
  },
  {
   "cell_type": "code",
   "execution_count": 213,
   "metadata": {},
   "outputs": [],
   "source": [
    "class Solution:\n",
    "    \n",
    "    def insert(self, node, val):\n",
    "        if val < node.val:\n",
    "            if node.left is None: \n",
    "                node.left = TreeNode(val)\n",
    "            else:\n",
    "                self.insert(node.left, val)\n",
    "        else:\n",
    "            if node.right is None:\n",
    "                node.right = TreeNode(val)\n",
    "            else:\n",
    "                self.insert(node.right, val)\n",
    "        \n",
    "    def insertIntoBST(self, root: Optional[TreeNode], val: int) -> Optional[TreeNode]:\n",
    "        if root is None: return TreeNode(val)\n",
    "        else:\n",
    "            self.insert(root, val)\n",
    "            return root\n",
    "        "
   ]
  },
  {
   "cell_type": "code",
   "execution_count": 214,
   "metadata": {},
   "outputs": [],
   "source": [
    "# Approach-2:\n",
    "class Solution:\n",
    "    def insertIntoBST(self, root: Optional[TreeNode], val: int) -> Optional[TreeNode]:\n",
    "        if not root:\n",
    "            return TreeNode(val)\n",
    "        if val<root.val:\n",
    "            root.left = self.insertIntoBST(root.left, val)   \n",
    "        else:\n",
    "            root.right = self.insertIntoBST(root.right, val)\n",
    "        return root"
   ]
  },
  {
   "cell_type": "code",
   "execution_count": 215,
   "metadata": {},
   "outputs": [
    {
     "name": "stdout",
     "output_type": "stream",
     "text": [
      "4 2 7 1 3 None\n",
      "4 2 7 1 3 5 None\n"
     ]
    }
   ],
   "source": [
    "root = [4,2,7,1,3]; val = 5\n",
    "#root = [40,20,60,10,30,50,70]; val = 25\n",
    "tree = BinaryTree(TreeNode(None)).extend(root)\n",
    "print(tree.levelOrderIterative(tree.root))\n",
    "temp = Solution().insertIntoBST(tree.root, val)\n",
    "print(tree.levelOrderIterative(temp))"
   ]
  },
  {
   "cell_type": "markdown",
   "metadata": {},
   "source": [
    "#### 15. Two Sum IV - Input is a BST"
   ]
  },
  {
   "cell_type": "code",
   "execution_count": 4,
   "metadata": {},
   "outputs": [],
   "source": [
    "class Solution:\n",
    "    def findTarget(self, root: Optional[TreeNode], k: int) -> bool:\n",
    "        d = {}\n",
    "        if root is None: return False\n",
    "        stack = [root]\n",
    "        while stack:\n",
    "            root = stack.pop(0)\n",
    "            if root is None: continue\n",
    "            remaining = k - root.val\n",
    "            if remaining in d:\n",
    "                return True\n",
    "            else:\n",
    "                d[root.val] = 1\n",
    "            stack.append(root.left)\n",
    "            stack.append(root.right)\n",
    "        return False"
   ]
  },
  {
   "cell_type": "code",
   "execution_count": 8,
   "metadata": {},
   "outputs": [
    {
     "name": "stdout",
     "output_type": "stream",
     "text": [
      "5 3 6 2 4 7 0 None\n"
     ]
    },
    {
     "data": {
      "text/plain": [
       "False"
      ]
     },
     "execution_count": 8,
     "metadata": {},
     "output_type": "execute_result"
    }
   ],
   "source": [
    "root = [5,3,6,2,4,0,7]; k = 9\n",
    "root = [5,3,6,2,4,0,7]; k = 28\n",
    "#root = [40,20,60,10,30,50,70]; val = 25\n",
    "tree = BinaryTree(TreeNode(None)).extend(root)\n",
    "print(tree.levelOrderIterative(tree.root))\n",
    "Solution().findTarget(tree.root, k)"
   ]
  },
  {
   "cell_type": "code",
   "execution_count": null,
   "metadata": {},
   "outputs": [],
   "source": []
  },
  {
   "cell_type": "code",
   "execution_count": null,
   "metadata": {},
   "outputs": [],
   "source": []
  },
  {
   "cell_type": "code",
   "execution_count": null,
   "metadata": {},
   "outputs": [],
   "source": []
  },
  {
   "cell_type": "code",
   "execution_count": null,
   "metadata": {},
   "outputs": [],
   "source": []
  },
  {
   "cell_type": "code",
   "execution_count": null,
   "metadata": {},
   "outputs": [],
   "source": []
  },
  {
   "cell_type": "code",
   "execution_count": null,
   "metadata": {},
   "outputs": [],
   "source": []
  },
  {
   "cell_type": "code",
   "execution_count": null,
   "metadata": {},
   "outputs": [],
   "source": []
  }
 ],
 "metadata": {
  "kernelspec": {
   "display_name": "Python 3.8.8 ('base')",
   "language": "python",
   "name": "python3"
  },
  "language_info": {
   "codemirror_mode": {
    "name": "ipython",
    "version": 3
   },
   "file_extension": ".py",
   "mimetype": "text/x-python",
   "name": "python",
   "nbconvert_exporter": "python",
   "pygments_lexer": "ipython3",
   "version": "3.8.8"
  },
  "orig_nbformat": 4,
  "vscode": {
   "interpreter": {
    "hash": "ad2bdc8ecc057115af97d19610ffacc2b4e99fae6737bb82f5d7fb13d2f2c186"
   }
  }
 },
 "nbformat": 4,
 "nbformat_minor": 2
}
