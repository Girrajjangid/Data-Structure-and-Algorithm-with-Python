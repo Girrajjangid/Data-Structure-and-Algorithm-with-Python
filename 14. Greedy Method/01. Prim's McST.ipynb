{
 "cells": [
  {
   "cell_type": "markdown",
   "metadata": {},
   "source": [
    "<img src=\"assests/1.png\">"
   ]
  },
  {
   "cell_type": "markdown",
   "metadata": {},
   "source": [
    "#### Lets use the above graph as an example"
   ]
  },
  {
   "cell_type": "code",
   "execution_count": 100,
   "metadata": {},
   "outputs": [],
   "source": [
    "# Considering index as node itself. Therefore 0 row and 0 column we dont include\n",
    "# 1 ---> 2 = 25 cost\n",
    "inf = float('inf')\n",
    "adj_mat = [[inf,inf,inf,inf,inf,inf,inf,inf],\n",
    "           [inf,inf, 25,inf,inf,inf,  5,inf], \n",
    "           [inf, 25,inf, 12,inf,inf,inf, 10],\n",
    "           [inf,inf, 12,inf,  8,inf,inf,inf],\n",
    "           [inf,inf,inf,  8,inf, 16,inf, 14],\n",
    "           [inf,inf,inf,inf, 16,inf, 20, 18],\n",
    "           [inf,  5,inf,inf,inf, 20,inf,inf],\n",
    "           [inf,inf, 10,inf, 14, 18,inf,inf]]"
   ]
  },
  {
   "cell_type": "code",
   "execution_count": 101,
   "metadata": {},
   "outputs": [],
   "source": [
    "from typing import List, Dict\n",
    "\n",
    "class Prim:\n",
    "    \n",
    "    def __init__(self):\n",
    "        self.res       = []\n",
    "        self.arr       = []\n",
    "        self.visit     = []\n",
    "        self.near_vert = []\n",
    "        \n",
    "    def printMst(self):\n",
    "        total = 0\n",
    "        for val in self.res:\n",
    "            total += val[-1]\n",
    "            print(f\"{val[0]} - {val[1]} : {val[2]}\")\n",
    "        print( \"Total :\",total)    \n",
    "    \n",
    "    def updateNearVert(self):\n",
    "        for i in range(1, len(self.near_vert)):\n",
    "            if self.near_vert[i]!=0:\n",
    "                minc = float('inf')\n",
    "                for j in self.visit:\n",
    "                    if self.arr[i][j] < minc:\n",
    "                        vert = [i,j]\n",
    "                        minc = self.arr[i][j]\n",
    "                vert  = j if minc == float('inf') else vert[1]\n",
    "                self.near_vert[i] = vert\n",
    "        \n",
    "        minc = float('inf')\n",
    "        for idx, val in enumerate(self.near_vert):\n",
    "            if not idx: continue\n",
    "            if val!=0 and self.arr[idx][val] < minc:\n",
    "                vert = [idx, val]\n",
    "                minc = self.arr[idx][val]\n",
    "        \n",
    "        if vert[0] not in self.visit:\n",
    "            self.visit.append(vert[0])\n",
    "            self.res.append(vert+[minc])\n",
    "            self.near_vert[vert[0]] = 0\n",
    "                    \n",
    "        \n",
    "    def mst(self, arr:List[List]):\n",
    "        self.arr = arr\n",
    "        cnt_vert = len(self.arr)\n",
    "        self.near_vert = [None]*cnt_vert\n",
    "        minc = float('inf')\n",
    "        vert = None\n",
    "        for i in range(len(self.arr)):\n",
    "            for j in range(i, len(self.arr[0])):\n",
    "                if self.arr[i][j] < minc:\n",
    "                    vert = [i,j]\n",
    "                    minc = self.arr[i][j]\n",
    "        self.res.append(vert+[minc])\n",
    "        self.visit.extend(vert)\n",
    "        self.near_vert[vert[0]] = 0\n",
    "        self.near_vert[vert[1]] = 0\n",
    "        \n",
    "        while len(self.visit) < cnt_vert-1:\n",
    "            self.updateNearVert()         "
   ]
  },
  {
   "cell_type": "code",
   "execution_count": 102,
   "metadata": {},
   "outputs": [],
   "source": [
    "obj = Prim()\n",
    "obj.mst(adj_mat)"
   ]
  },
  {
   "cell_type": "code",
   "execution_count": 103,
   "metadata": {},
   "outputs": [
    {
     "name": "stdout",
     "output_type": "stream",
     "text": [
      "1 - 6 : 5\n",
      "5 - 6 : 20\n",
      "4 - 5 : 16\n",
      "3 - 4 : 8\n",
      "2 - 3 : 12\n",
      "7 - 2 : 10\n",
      "Total : 71\n"
     ]
    }
   ],
   "source": [
    "obj.printMst()"
   ]
  },
  {
   "cell_type": "code",
   "execution_count": null,
   "metadata": {},
   "outputs": [],
   "source": []
  }
 ],
 "metadata": {
  "kernelspec": {
   "display_name": "Python 3.8.8 ('base')",
   "language": "python",
   "name": "python3"
  },
  "language_info": {
   "codemirror_mode": {
    "name": "ipython",
    "version": 3
   },
   "file_extension": ".py",
   "mimetype": "text/x-python",
   "name": "python",
   "nbconvert_exporter": "python",
   "pygments_lexer": "ipython3",
   "version": "3.8.8"
  },
  "orig_nbformat": 4,
  "vscode": {
   "interpreter": {
    "hash": "ad2bdc8ecc057115af97d19610ffacc2b4e99fae6737bb82f5d7fb13d2f2c186"
   }
  }
 },
 "nbformat": 4,
 "nbformat_minor": 2
}
