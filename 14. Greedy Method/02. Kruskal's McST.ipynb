{
 "cells": [
  {
   "cell_type": "markdown",
   "metadata": {},
   "source": [
    "<img src=\"assests/1.png\">"
   ]
  },
  {
   "cell_type": "markdown",
   "metadata": {},
   "source": [
    "#### Lets use the above graph as an example"
   ]
  },
  {
   "cell_type": "code",
   "execution_count": 101,
   "metadata": {},
   "outputs": [],
   "source": [
    "# Considering index as node itself. Therefore 0 row and 0 column we dont include\n",
    "# We are using adjacency list\n",
    "        # vert,vert,Cost\n",
    "adj_list = [[1,2,25],\n",
    "            [2,3, 9],\n",
    "            [3,4,10],\n",
    "            [4,5,12],\n",
    "            [5,6,18],\n",
    "            [1,6, 5],\n",
    "            [5,7,16],\n",
    "            [4,7,11],\n",
    "            [2,7, 6]]\n",
    "\n",
    "adj_list = [[1,2,25],\n",
    "            [2,3,12],\n",
    "            [3,4,8],\n",
    "            [4,5,16],\n",
    "            [5,6,20],\n",
    "            [1,6,5],\n",
    "            [5,7,18],\n",
    "            [4,7,14],\n",
    "            [2,7,10]]"
   ]
  },
  {
   "cell_type": "code",
   "execution_count": 108,
   "metadata": {},
   "outputs": [],
   "source": [
    "from typing import List, Dict\n",
    "\n",
    "class Kruskal:\n",
    "    \n",
    "    def __init__(self, total_vertices, arr):\n",
    "        self.cnt_vert = total_vertices\n",
    "        self.res    = []  # Store MST\n",
    "        self.arr    = arr # Adjancency List\n",
    "        self.edges  = [0]*len(arr) # Store whether edge included or not\n",
    "        self.cycle  = [-1]*(self.cnt_vert+1) # check cycle exist or not |\n",
    "                                         # negative indicate whether it's parent of itself or not\n",
    "        \n",
    "    def printMst(self):\n",
    "        total = 0\n",
    "        for val in self.res:\n",
    "            total += val[-1]\n",
    "            print(f\"{val[0]} - {val[1]} : {val[2]}\")\n",
    "        print( \"Total :\",total)    \n",
    "    \n",
    "    \n",
    "    def checkCycle(self, vert):\n",
    "        t = []\n",
    "        for idx, v in enumerate(vert):\n",
    "            parent = v\n",
    "            while parent > 0:\n",
    "                vert[idx] = parent\n",
    "                parent = self.cycle[parent]\n",
    "            t.append(parent)\n",
    "        #print(vert,t)\n",
    "        if vert[0] != vert[1]:\n",
    "            if t[1] > t[0]:\n",
    "                self.cycle[vert[1]] += self.cycle[vert[0]] \n",
    "                self.cycle[vert[0]] = vert[1]\n",
    "            else:\n",
    "                self.cycle[vert[0]] += self.cycle[vert[1]] \n",
    "                self.cycle[vert[1]] = vert[0]                \n",
    "            return False\n",
    "        return True\n",
    "       \n",
    "    \n",
    "    def minCost(self):\n",
    "        min_ = float('inf')\n",
    "        for idx, val in enumerate(self.arr):\n",
    "            if self.edges[idx] == 0 and val[-1] < min_:\n",
    "                vert = val[:-1]\n",
    "                min_ = val[-1]\n",
    "                edge = idx\n",
    "        return vert, min_, edge\n",
    "    \n",
    "    \n",
    "    def mst(self):\n",
    "        for i in range(len(self.edges)):\n",
    "            vert, minc, edge = self.minCost()\n",
    "            self.edges[edge] = 1\n",
    "            if self.checkCycle(vert[:]) is False:\n",
    "                self.res.append(vert+[minc])\n",
    "            "
   ]
  },
  {
   "cell_type": "code",
   "execution_count": 109,
   "metadata": {},
   "outputs": [],
   "source": [
    "obj = Kruskal(7, adj_list)\n",
    "obj.mst()"
   ]
  },
  {
   "cell_type": "code",
   "execution_count": 110,
   "metadata": {},
   "outputs": [
    {
     "name": "stdout",
     "output_type": "stream",
     "text": [
      "1 - 6 : 5\n",
      "3 - 4 : 8\n",
      "2 - 7 : 10\n",
      "2 - 3 : 12\n",
      "4 - 5 : 16\n",
      "5 - 6 : 20\n",
      "Total : 71\n"
     ]
    }
   ],
   "source": [
    "#print(obj.edges)\n",
    "#print(obj.cycle)\n",
    "\n",
    "obj.printMst()"
   ]
  },
  {
   "cell_type": "code",
   "execution_count": null,
   "metadata": {},
   "outputs": [],
   "source": []
  }
 ],
 "metadata": {
  "kernelspec": {
   "display_name": "Python 3.8.8 ('base')",
   "language": "python",
   "name": "python3"
  },
  "language_info": {
   "codemirror_mode": {
    "name": "ipython",
    "version": 3
   },
   "file_extension": ".py",
   "mimetype": "text/x-python",
   "name": "python",
   "nbconvert_exporter": "python",
   "pygments_lexer": "ipython3",
   "version": "3.8.8"
  },
  "orig_nbformat": 4,
  "vscode": {
   "interpreter": {
    "hash": "ad2bdc8ecc057115af97d19610ffacc2b4e99fae6737bb82f5d7fb13d2f2c186"
   }
  }
 },
 "nbformat": 4,
 "nbformat_minor": 2
}
