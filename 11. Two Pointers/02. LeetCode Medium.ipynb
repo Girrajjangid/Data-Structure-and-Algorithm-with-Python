{
 "cells": [
  {
   "cell_type": "code",
   "execution_count": 2,
   "metadata": {},
   "outputs": [],
   "source": [
    "from typing import List, Optional"
   ]
  },
  {
   "cell_type": "markdown",
   "metadata": {},
   "source": [
    "#### 1. Partition Equal Subset Sum"
   ]
  },
  {
   "cell_type": "code",
   "execution_count": 22,
   "metadata": {},
   "outputs": [],
   "source": [
    "class Solution:\n",
    "    def canPartition(self, nums: List[int]) -> bool:\n",
    "        nums.sort()\n",
    "        length = len(nums)\n",
    "        l,r = 0, length-1\n",
    "        l_sum, r_sum = nums[l],nums[r]\n",
    "        while l<r:\n",
    "            if l_sum < r_sum:\n",
    "                l+=1\n",
    "                l_sum += nums[l]\n",
    "                continue\n",
    "            if r_sum < l_sum:\n",
    "                r-=1\n",
    "                r_sum += nums[r]\n",
    "                continue\n",
    "            if l_sum == r_sum and r-l==1:\n",
    "                return True\n",
    "            else:\n",
    "                l+=1\n",
    "                r-=1\n",
    "        return False"
   ]
  },
  {
   "cell_type": "code",
   "execution_count": 23,
   "metadata": {},
   "outputs": [
    {
     "data": {
      "text/plain": [
       "False"
      ]
     },
     "execution_count": 23,
     "metadata": {},
     "output_type": "execute_result"
    }
   ],
   "source": [
    "nums = [1,5,11,5]\n",
    "nums = [1,2,3,5]\n",
    "nums = [1,3,4,4]\n",
    "nums = [2,2,1,1]\n",
    "Solution().canPartition(nums)"
   ]
  }
 ],
 "metadata": {
  "kernelspec": {
   "display_name": "Python 3.8.8 ('base')",
   "language": "python",
   "name": "python3"
  },
  "language_info": {
   "codemirror_mode": {
    "name": "ipython",
    "version": 3
   },
   "file_extension": ".py",
   "mimetype": "text/x-python",
   "name": "python",
   "nbconvert_exporter": "python",
   "pygments_lexer": "ipython3",
   "version": "3.8.8"
  },
  "orig_nbformat": 4,
  "vscode": {
   "interpreter": {
    "hash": "ad2bdc8ecc057115af97d19610ffacc2b4e99fae6737bb82f5d7fb13d2f2c186"
   }
  }
 },
 "nbformat": 4,
 "nbformat_minor": 2
}
