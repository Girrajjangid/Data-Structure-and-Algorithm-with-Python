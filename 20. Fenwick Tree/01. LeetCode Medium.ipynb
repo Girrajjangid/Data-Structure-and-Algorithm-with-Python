{
 "cells": [
  {
   "cell_type": "code",
   "execution_count": 1,
   "metadata": {},
   "outputs": [],
   "source": [
    "from typing import List"
   ]
  },
  {
   "cell_type": "markdown",
   "metadata": {},
   "source": [
    "#### 1. [1409]. Queries on a Permutation With Key"
   ]
  },
  {
   "cell_type": "code",
   "execution_count": 81,
   "metadata": {},
   "outputs": [],
   "source": [
    "class Solution:\n",
    "    def processQueries(self, queries: List[int], m: int) -> List[int]:\n",
    "        P = [*range(1,m+1)]\n",
    "        res = []\n",
    "        for val in queries:\n",
    "            res.append(P.index(val))\n",
    "            P.insert(0, P.pop(res[-1]))\n",
    "        return res"
   ]
  },
  {
   "cell_type": "code",
   "execution_count": 82,
   "metadata": {},
   "outputs": [],
   "source": [
    "class Fenwick:\n",
    "    def __init__(self, n):\n",
    "        sz = 1\n",
    "        while sz <= n:\n",
    "            sz *= 2\n",
    "        self.size = sz\n",
    "        self.data = [0] * sz\n",
    "\n",
    "    def sum(self, i): # moving backward\n",
    "        #print('sum: ', end=' ')\n",
    "        s = 0\n",
    "        while i > 0:\n",
    "            s += self.data[i]\n",
    "            i -= i & -i\n",
    "        return s\n",
    "\n",
    "    def add(self, i, x): # moving forward\n",
    "        print('add: ', end=' ')\n",
    "        while i < self.size:\n",
    "            print(i, end=', ')\n",
    "            self.data[i] += x\n",
    "            i += i & -i\n",
    "        print()\n",
    "\n",
    "class Solution:    \n",
    "    def processQueries(self, queries, n):\n",
    "        fenw = Fenwick(2 * n)\n",
    "        vimap = {}\n",
    "        for i in range(1, n + 1):\n",
    "            fenw.add(i + n, 1)\n",
    "            vimap[i] = i + n\n",
    "        print()\n",
    "        print(fenw.data)\n",
    "        print(vimap)\n",
    "        cur = n\n",
    "        ans = []\n",
    "        for q in queries:\n",
    "            i = vimap.pop(q)\n",
    "            rank = fenw.sum(i-1)\n",
    "            ans.append(rank)\n",
    "            \n",
    "            vimap[q] = cur\n",
    "            fenw.add(i, -1)\n",
    "            fenw.add(cur, 1)\n",
    "            cur -= 1\n",
    "            print(fenw.data)\n",
    "        return ans, fenw"
   ]
  },
  {
   "cell_type": "code",
   "execution_count": 83,
   "metadata": {},
   "outputs": [
    {
     "name": "stdout",
     "output_type": "stream",
     "text": [
      "add:  5, 6, 8, \n",
      "add:  6, 8, \n",
      "add:  7, 8, \n",
      "add:  8, \n",
      "\n",
      "[0, 0, 0, 0, 0, 1, 2, 1, 4, 0, 0, 0, 0, 0, 0, 0]\n",
      "{1: 5, 2: 6, 3: 7, 4: 8}\n",
      "add:  8, \n",
      "add:  4, 8, \n",
      "[0, 0, 0, 0, 1, 1, 2, 1, 4, 0, 0, 0, 0, 0, 0, 0]\n",
      "add:  5, 6, 8, \n",
      "add:  3, 4, 8, \n",
      "[0, 0, 0, 1, 2, 0, 1, 1, 4, 0, 0, 0, 0, 0, 0, 0]\n",
      "add:  6, 8, \n",
      "add:  2, 4, 8, \n",
      "[0, 0, 1, 1, 3, 0, 0, 1, 4, 0, 0, 0, 0, 0, 0, 0]\n",
      "add:  2, 4, 8, \n",
      "add:  1, 2, 4, 8, \n",
      "[0, 1, 1, 1, 3, 0, 0, 1, 4, 0, 0, 0, 0, 0, 0, 0]\n"
     ]
    }
   ],
   "source": [
    "queries = [3,1,2,1]; m = 5\n",
    "queries = [4,1,2,2]; m = 4\n",
    "obj = Solution()\n",
    "x = obj.processQueries(queries, m)"
   ]
  },
  {
   "cell_type": "code",
   "execution_count": 84,
   "metadata": {},
   "outputs": [
    {
     "data": {
      "text/plain": [
       "[0, 1, 1, 1, 3, 0, 0, 1, 4, 0, 0, 0, 0, 0, 0, 0]"
      ]
     },
     "execution_count": 84,
     "metadata": {},
     "output_type": "execute_result"
    }
   ],
   "source": [
    "x[1].data"
   ]
  },
  {
   "cell_type": "code",
   "execution_count": 85,
   "metadata": {},
   "outputs": [
    {
     "data": {
      "text/plain": [
       "[3, 1, 2, 0]"
      ]
     },
     "execution_count": 85,
     "metadata": {},
     "output_type": "execute_result"
    }
   ],
   "source": [
    "x[0]"
   ]
  },
  {
   "cell_type": "markdown",
   "metadata": {},
   "source": [
    "#### 2. "
   ]
  },
  {
   "cell_type": "code",
   "execution_count": 121,
   "metadata": {},
   "outputs": [],
   "source": [
    "# Give TLE error as complexity would be n!/r!(n-r)!\n",
    "from itertools import combinations\n",
    "class Solution:\n",
    "    def numTeams(self, rating: List[int]) -> int:\n",
    "        count=0\n",
    "        for idx, i in enumerate(iter(combinations(rating, 3))):\n",
    "            if i[0]<i[1]<i[2] or i[0]>i[1]>i[2]:\n",
    "                count+=1\n",
    "        return count"
   ]
  },
  {
   "cell_type": "code",
   "execution_count": 133,
   "metadata": {},
   "outputs": [],
   "source": [
    "# Another approach\n",
    "\n",
    "class Solution:\n",
    "    def numTeams(self, rating: List[int]) -> int:\n",
    "        sequence = 0\n",
    "        length = len(rating)\n",
    "        for i in range(1, length-1):\n",
    "            smaller_cnt, greater_cnt = 0,0\n",
    "            for j in range(length):\n",
    "                if j<i and rating[j]<rating[i]: # count all smallers\n",
    "                    smaller_cnt+=1\n",
    "                elif j>i and rating[j]>rating[i]: # count all greaters\n",
    "                    greater_cnt+=1\n",
    "            sequence+=smaller_cnt*greater_cnt\n",
    "        \n",
    "            smaller_cnt, greater_cnt = 0,0\n",
    "            for j in range(length):\n",
    "                if j<i and rating[j]>rating[i]: # count all greaters\n",
    "                    smaller_cnt+=1\n",
    "                elif j>i and rating[j]<rating[i]: # count all smallers\n",
    "                    greater_cnt+=1\n",
    "            sequence+=smaller_cnt*greater_cnt\n",
    "        return sequence        "
   ]
  },
  {
   "cell_type": "code",
   "execution_count": 136,
   "metadata": {},
   "outputs": [
    {
     "data": {
      "text/plain": [
       "4"
      ]
     },
     "execution_count": 136,
     "metadata": {},
     "output_type": "execute_result"
    }
   ],
   "source": [
    "rating = [2,5,3,4,1]\n",
    "rating = [2,1,3]\n",
    "rating = [1,2,3,4]\n",
    "Solution().numTeams(rating)"
   ]
  },
  {
   "cell_type": "code",
   "execution_count": 143,
   "metadata": {},
   "outputs": [
    {
     "data": {
      "text/plain": [
       "20000100000.0"
      ]
     },
     "execution_count": 143,
     "metadata": {},
     "output_type": "execute_result"
    }
   ],
   "source": [
    "n = 2_00_000\n",
    "n*(n+1)/2"
   ]
  },
  {
   "cell_type": "markdown",
   "metadata": {},
   "source": [
    "#### 3. Longest uploaded Prefix"
   ]
  },
  {
   "cell_type": "code",
   "execution_count": 222,
   "metadata": {},
   "outputs": [],
   "source": [
    "class LUPrefix:\n",
    "\n",
    "    def __init__(self, n: int):\n",
    "        self.N = n\n",
    "        self.bit = [0]*(self.N+1)\n",
    "            \n",
    "    def _sum(self, idx):\n",
    "        ans = 0\n",
    "        while idx>=1:\n",
    "            ans+=self.bit[idx]\n",
    "            idx-=(idx&-idx)\n",
    "        return ans\n",
    "        \n",
    "    def upload(self, video: int) -> None:\n",
    "        idx, val = video, video\n",
    "        while idx<=self.N:\n",
    "            self.bit[idx]+=val\n",
    "            idx+=(idx&-idx)\n",
    "    \n",
    "    def longest(self) -> int:\n",
    "        l,r = 1, self.N\n",
    "        while l<=r:\n",
    "            mid = (l+r)//2\n",
    "            if self._sum(mid) == mid*(mid+1)//2:\n",
    "                l = mid+1\n",
    "            else:\n",
    "                r = mid-1\n",
    "        return l-1"
   ]
  },
  {
   "cell_type": "code",
   "execution_count": 224,
   "metadata": {},
   "outputs": [],
   "source": [
    "class LUPrefix:\n",
    "\n",
    "    def __init__(self, n: int):\n",
    "        self._longest = 1\n",
    "        self._nums = [False]*(n+2)\n",
    "\n",
    "    def upload(self, video: int) -> None:\n",
    "        self._nums[video] = True\n",
    "        \n",
    "        while self._nums[self._longest]:\n",
    "            self._longest+=1\n",
    "        \n",
    "    def longest(self) -> int:\n",
    "        return self._longest-1"
   ]
  },
  {
   "cell_type": "code",
   "execution_count": 225,
   "metadata": {},
   "outputs": [
    {
     "data": {
      "text/plain": [
       "3"
      ]
     },
     "execution_count": 225,
     "metadata": {},
     "output_type": "execute_result"
    }
   ],
   "source": [
    "n = 6\n",
    "obj = LUPrefix(n)\n",
    "obj.upload(3)\n",
    "obj.longest()\n",
    "obj.upload(1)\n",
    "obj.longest()\n",
    "obj.upload(2)\n",
    "obj.longest()\n",
    "#print()\n",
    "#obj.bit\n",
    "#param_2 = obj.longest()\n",
    "#obj._sum(4)"
   ]
  },
  {
   "cell_type": "markdown",
   "metadata": {},
   "source": [
    "#### 4. [1157]. Online Majority Element In Subarray"
   ]
  },
  {
   "cell_type": "code",
   "execution_count": 290,
   "metadata": {},
   "outputs": [],
   "source": [
    "from collections import defaultdict\n",
    "from bisect import bisect_left, bisect_right\n",
    "from random import randint\n",
    "\n",
    "class MajorityChecker:\n",
    "    def __init__(self,arr):\n",
    "        map =defaultdict(list)\n",
    "        for i, x in enumerate(arr):\n",
    "            map[x].append(i)\n",
    "        self.arr, self.b = arr, map\n",
    "        \n",
    "    def query(self, left: int, right: int, threshold: int) -> int:\n",
    "        for _ in range(20):\n",
    "            a = self.arr[randint(left, right)]\n",
    "            l =bisect_left(self.b[a], left)\n",
    "            r =bisect_right(self.b[a], right)\n",
    "            if r - l >= threshold: return a\n",
    "        return -1"
   ]
  },
  {
   "cell_type": "code",
   "execution_count": 291,
   "metadata": {},
   "outputs": [
    {
     "data": {
      "text/plain": [
       "1"
      ]
     },
     "execution_count": 291,
     "metadata": {},
     "output_type": "execute_result"
    }
   ],
   "source": [
    "# Input\n",
    "# [\"MajorityChecker\", \"query\", \"query\", \"query\"]\n",
    "# [[[1, 1, 2, 2, 1, 1]], [0, 5, 4], [0, 3, 3], [2, 3, 2]]\n",
    "# Output\n",
    "# [null, 1, -1, 2]\n",
    "arr = [1,1,2,2,1,1]\n",
    "obj = MajorityChecker(arr)\n",
    "obj.query(0,5,4)"
   ]
  },
  {
   "cell_type": "code",
   "execution_count": null,
   "metadata": {},
   "outputs": [],
   "source": []
  },
  {
   "cell_type": "code",
   "execution_count": null,
   "metadata": {},
   "outputs": [],
   "source": []
  },
  {
   "cell_type": "markdown",
   "metadata": {},
   "source": [
    "#### 5. [2193]. Minimum Number of Moves to Make Palindrome"
   ]
  },
  {
   "cell_type": "code",
   "execution_count": 371,
   "metadata": {},
   "outputs": [],
   "source": [
    "import math\n",
    "\n",
    "class Solution(object):\n",
    "    def minMovesToMakePalindrome(self, s: str) -> int:\n",
    "        ans = 0\n",
    "        n = len(s)\n",
    "        target = n - 1 # 0's corresponding index\n",
    "        for i in range(math.ceil(n / 2)):\n",
    "            for j in range(target, i - 1, -1):\n",
    "                # search backward\n",
    "                if j == i:\n",
    "                    # occurrance is 1, needs to be placed at center\n",
    "                    ans += n // 2 - i\n",
    "                elif s[i] == s[j]:\n",
    "                    s = s[:j] + s[j + 1 : target + 1] + s[j] + s[target + 1:]\n",
    "                    ans += target - j\n",
    "                    target -= 1\n",
    "                    break\n",
    "        return ans"
   ]
  },
  {
   "cell_type": "code",
   "execution_count": 372,
   "metadata": {},
   "outputs": [
    {
     "data": {
      "text/plain": [
       "2"
      ]
     },
     "execution_count": 372,
     "metadata": {},
     "output_type": "execute_result"
    }
   ],
   "source": [
    "s = \"aabb\"\n",
    "#s = \"letelt\"\n",
    "Solution().minMovesToMakePalindrome(s)"
   ]
  }
 ],
 "metadata": {
  "kernelspec": {
   "display_name": "Python 3.9.13 ('base')",
   "language": "python",
   "name": "python3"
  },
  "language_info": {
   "codemirror_mode": {
    "name": "ipython",
    "version": 3
   },
   "file_extension": ".py",
   "mimetype": "text/x-python",
   "name": "python",
   "nbconvert_exporter": "python",
   "pygments_lexer": "ipython3",
   "version": "3.9.13"
  },
  "orig_nbformat": 4,
  "vscode": {
   "interpreter": {
    "hash": "fecfa28de78ead09ec2989a580469213059448baba5e0b02aeeb7641afb84221"
   }
  }
 },
 "nbformat": 4,
 "nbformat_minor": 2
}
