{
 "cells": [
  {
   "cell_type": "code",
   "execution_count": null,
   "metadata": {},
   "outputs": [],
   "source": []
  },
  {
   "cell_type": "code",
   "execution_count": 3,
   "metadata": {},
   "outputs": [],
   "source": [
    "class Fenwick:\n",
    "    def __init__(self, arr):\n",
    "        self.arr = arr\n",
    "        self.N   = len(self.arr)\n",
    "        self.bit = [0]*(self.N+1)\n",
    "        self.build(arr)\n",
    "        \n",
    "    def build(self, arr):\n",
    "        for idx, val in enumerate(arr, 1):\n",
    "            self.update(idx, val)\n",
    "    \n",
    "    def _sum(self, idx):\n",
    "        ans = 0\n",
    "        while idx>=1:\n",
    "            ans+=self.bit[idx]\n",
    "            idx-=(idx&-idx) # lest active bit subtract\n",
    "        return ans\n",
    "\n",
    "    def sum(self, l, r):\n",
    "        return self._sum(r) - self._sum(l-1)\n",
    "    \n",
    "    def update(self, idx, val):\n",
    "        self.bit[idx] = 0\n",
    "        while idx<=self.N:\n",
    "            self.bit[idx]+=val\n",
    "            idx+=(idx&-idx)\n",
    "        "
   ]
  },
  {
   "cell_type": "code",
   "execution_count": 4,
   "metadata": {},
   "outputs": [
    {
     "data": {
      "text/plain": [
       "106"
      ]
     },
     "execution_count": 4,
     "metadata": {},
     "output_type": "execute_result"
    }
   ],
   "source": [
    "arr = [3,4,2,1,6,8,9]\n",
    "obj = Fenwick(arr)\n",
    "obj.sum(1,4) # 9\n",
    "obj.update(1, 100) # [100,4,2,1,6,8,9]\n",
    "obj.sum(1,3) # 107"
   ]
  },
  {
   "cell_type": "code",
   "execution_count": null,
   "metadata": {},
   "outputs": [],
   "source": []
  }
 ],
 "metadata": {
  "kernelspec": {
   "display_name": "Python 3.9.13 ('base')",
   "language": "python",
   "name": "python3"
  },
  "language_info": {
   "codemirror_mode": {
    "name": "ipython",
    "version": 3
   },
   "file_extension": ".py",
   "mimetype": "text/x-python",
   "name": "python",
   "nbconvert_exporter": "python",
   "pygments_lexer": "ipython3",
   "version": "3.9.13"
  },
  "orig_nbformat": 4,
  "vscode": {
   "interpreter": {
    "hash": "fecfa28de78ead09ec2989a580469213059448baba5e0b02aeeb7641afb84221"
   }
  }
 },
 "nbformat": 4,
 "nbformat_minor": 2
}
