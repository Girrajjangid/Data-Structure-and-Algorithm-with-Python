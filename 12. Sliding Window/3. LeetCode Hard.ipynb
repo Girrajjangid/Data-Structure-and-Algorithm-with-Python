{
 "cells": [
  {
   "cell_type": "code",
   "execution_count": 1,
   "metadata": {},
   "outputs": [],
   "source": [
    "from typing import List, Optional"
   ]
  },
  {
   "cell_type": "code",
   "execution_count": 66,
   "metadata": {},
   "outputs": [],
   "source": [
    "class Solution:\n",
    "    def medianSlidingWindow(self, nums: List[int], k: int) -> List[float]:\n",
    "        sum_ = 0\n",
    "        length = len(nums)\n",
    "        for idx, val in enumerate(nums):\n",
    "            if idx > length-k:\n",
    "                break\n",
    "            temp = sorted(nums[idx:idx+k])\n",
    "            if k%2==0:\n",
    "                nums[idx] = (temp[k//2]+temp[k//2-1])/2\n",
    "            else:\n",
    "                nums[idx] = temp[k//2]\n",
    "        if k==1:\n",
    "            return nums\n",
    "        return nums[:-k+1]\n",
    "            "
   ]
  },
  {
   "cell_type": "code",
   "execution_count": 70,
   "metadata": {},
   "outputs": [
    {
     "data": {
      "text/plain": [
       "[1, 4, 2, 3]"
      ]
     },
     "execution_count": 70,
     "metadata": {},
     "output_type": "execute_result"
    }
   ],
   "source": [
    "nums = [1,3,-1,-3,5,3,6,7]; k = 3\n",
    "nums = [1,2,3,4,2,3,1,4,2]; k = 3\n",
    "nums = [1,4,2,3]; k = 1\n",
    "Solution().medianSlidingWindow(nums,k)"
   ]
  },
  {
   "cell_type": "markdown",
   "metadata": {},
   "source": [
    "#### 2. [30]. Substring with Concatenation of All Words"
   ]
  },
  {
   "cell_type": "code",
   "execution_count": 98,
   "metadata": {},
   "outputs": [],
   "source": [
    "from collections import Counter\n",
    "class Solution:\n",
    "    def findSubstring(self, s: str, words: List[str]) -> List[int]:\n",
    "        w_count = len(words)\n",
    "        w_len, s_len = len(words[0]), len(s)\n",
    "        t = \"\"\n",
    "        d = Counter(words)\n",
    "        ans = []\n",
    "        w_count2 = w_count\n",
    "        for j in range(s_len):\n",
    "            if j < w_len: \n",
    "                t+=s[j]\n",
    "                if j==w_len-1:\n",
    "                    if d.get(t,None) is not None:\n",
    "                        d2, w_count2  = d.copy(), w_count\n",
    "                        d2[t]-=1\n",
    "                        w_count2-=1\n",
    "                        count=0\n",
    "                        while w_count2>0:\n",
    "                            t2 = s[ (j+1) + (count*w_len)   : (j+1 + w_len) + (count*w_len)]                        \n",
    "                            if d2.get(t2, -1) > 0:\n",
    "                                w_count2-=1\n",
    "                                count+=1\n",
    "                                d2[t2]-=1\n",
    "                            else:\n",
    "                                break\n",
    "            else:\n",
    "                t = t[1:] + s[j]\n",
    "                if d.get(t,None) is not None:\n",
    "                    d2, w_count2  = d.copy(), w_count\n",
    "                    d2[t]-=1\n",
    "                    w_count2-=1\n",
    "                    count=0\n",
    "                    while w_count2>0:\n",
    "                        t2 = s[ (j+1) + (count*w_len)   : (j+1 + w_len) + (count*w_len)]                        \n",
    "                        if d2.get(t2, -1) > 0:\n",
    "                            w_count2-=1\n",
    "                            count+=1\n",
    "                            d2[t2]-=1\n",
    "                        else:\n",
    "                            break\n",
    "            if w_count2==0:\n",
    "                ans.append(j+1-w_len)\n",
    "            w_count2 = w_count\n",
    "        return ans"
   ]
  },
  {
   "cell_type": "code",
   "execution_count": 99,
   "metadata": {},
   "outputs": [
    {
     "data": {
      "text/plain": [
       "[6, 9, 12]"
      ]
     },
     "execution_count": 99,
     "metadata": {},
     "output_type": "execute_result"
    }
   ],
   "source": [
    "s = \"barfoothefoobarman\"; words = [\"foo\",\"bar\"]\n",
    "s = \"wordgoodgoodgoodbestword\"; words = [\"word\",\"good\",\"best\",\"word\"]\n",
    "s = \"barfoofoobarthefoobarman\"; words = [\"bar\",\"foo\",\"the\"]\n",
    "Solution().findSubstring(s, words)"
   ]
  },
  {
   "cell_type": "code",
   "execution_count": 16,
   "metadata": {},
   "outputs": [
    {
     "data": {
      "text/plain": [
       "-1"
      ]
     },
     "execution_count": 16,
     "metadata": {},
     "output_type": "execute_result"
    }
   ],
   "source": [
    "from collections import Counter\n",
    "Counter(words).get('qwer',-1)"
   ]
  },
  {
   "cell_type": "code",
   "execution_count": 14,
   "metadata": {},
   "outputs": [],
   "source": [
    "s = \"barfoothefoobarman\"; words = [\"foo\",\"bar\"]\n",
    "\n",
    "t2.get('asd')"
   ]
  }
 ],
 "metadata": {
  "kernelspec": {
   "display_name": "Python 3.9.13 ('base')",
   "language": "python",
   "name": "python3"
  },
  "language_info": {
   "codemirror_mode": {
    "name": "ipython",
    "version": 3
   },
   "file_extension": ".py",
   "mimetype": "text/x-python",
   "name": "python",
   "nbconvert_exporter": "python",
   "pygments_lexer": "ipython3",
   "version": "3.9.13"
  },
  "orig_nbformat": 4,
  "vscode": {
   "interpreter": {
    "hash": "fecfa28de78ead09ec2989a580469213059448baba5e0b02aeeb7641afb84221"
   }
  }
 },
 "nbformat": 4,
 "nbformat_minor": 2
}
