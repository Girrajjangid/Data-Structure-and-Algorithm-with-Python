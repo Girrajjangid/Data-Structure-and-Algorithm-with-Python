{
 "cells": [
  {
   "cell_type": "code",
   "execution_count": 1,
   "metadata": {},
   "outputs": [],
   "source": [
    "from typing import List, Optional"
   ]
  },
  {
   "cell_type": "code",
   "execution_count": 66,
   "metadata": {},
   "outputs": [],
   "source": [
    "class Solution:\n",
    "    def medianSlidingWindow(self, nums: List[int], k: int) -> List[float]:\n",
    "        sum_ = 0\n",
    "        length = len(nums)\n",
    "        for idx, val in enumerate(nums):\n",
    "            if idx > length-k:\n",
    "                break\n",
    "            temp = sorted(nums[idx:idx+k])\n",
    "            if k%2==0:\n",
    "                nums[idx] = (temp[k//2]+temp[k//2-1])/2\n",
    "            else:\n",
    "                nums[idx] = temp[k//2]\n",
    "        if k==1:\n",
    "            return nums\n",
    "        return nums[:-k+1]\n",
    "            "
   ]
  },
  {
   "cell_type": "code",
   "execution_count": 70,
   "metadata": {},
   "outputs": [
    {
     "data": {
      "text/plain": [
       "[1, 4, 2, 3]"
      ]
     },
     "execution_count": 70,
     "metadata": {},
     "output_type": "execute_result"
    }
   ],
   "source": [
    "nums = [1,3,-1,-3,5,3,6,7]; k = 3\n",
    "nums = [1,2,3,4,2,3,1,4,2]; k = 3\n",
    "nums = [1,4,2,3]; k = 1\n",
    "Solution().medianSlidingWindow(nums,k)"
   ]
  },
  {
   "cell_type": "markdown",
   "metadata": {},
   "source": [
    "#### 2. [30]. Substring with Concatenation of All Words"
   ]
  },
  {
   "cell_type": "code",
   "execution_count": 98,
   "metadata": {},
   "outputs": [],
   "source": [
    "from collections import Counter\n",
    "class Solution:\n",
    "    def findSubstring(self, s: str, words: List[str]) -> List[int]:\n",
    "        w_count = len(words)\n",
    "        w_len, s_len = len(words[0]), len(s)\n",
    "        t = \"\"\n",
    "        d = Counter(words)\n",
    "        ans = []\n",
    "        w_count2 = w_count\n",
    "        for j in range(s_len):\n",
    "            if j < w_len: \n",
    "                t+=s[j]\n",
    "                if j==w_len-1:\n",
    "                    if d.get(t,None) is not None:\n",
    "                        d2, w_count2  = d.copy(), w_count\n",
    "                        d2[t]-=1\n",
    "                        w_count2-=1\n",
    "                        count=0\n",
    "                        while w_count2>0:\n",
    "                            t2 = s[ (j+1) + (count*w_len)   : (j+1 + w_len) + (count*w_len)]                        \n",
    "                            if d2.get(t2, -1) > 0:\n",
    "                                w_count2-=1\n",
    "                                count+=1\n",
    "                                d2[t2]-=1\n",
    "                            else:\n",
    "                                break\n",
    "            else:\n",
    "                t = t[1:] + s[j]\n",
    "                if d.get(t,None) is not None:\n",
    "                    d2, w_count2  = d.copy(), w_count\n",
    "                    d2[t]-=1\n",
    "                    w_count2-=1\n",
    "                    count=0\n",
    "                    while w_count2>0:\n",
    "                        t2 = s[ (j+1) + (count*w_len)   : (j+1 + w_len) + (count*w_len)]                        \n",
    "                        if d2.get(t2, -1) > 0:\n",
    "                            w_count2-=1\n",
    "                            count+=1\n",
    "                            d2[t2]-=1\n",
    "                        else:\n",
    "                            break\n",
    "            if w_count2==0:\n",
    "                ans.append(j+1-w_len)\n",
    "            w_count2 = w_count\n",
    "        return ans"
   ]
  },
  {
   "cell_type": "code",
   "execution_count": 99,
   "metadata": {},
   "outputs": [
    {
     "data": {
      "text/plain": [
       "[6, 9, 12]"
      ]
     },
     "execution_count": 99,
     "metadata": {},
     "output_type": "execute_result"
    }
   ],
   "source": [
    "s = \"barfoothefoobarman\"; words = [\"foo\",\"bar\"]\n",
    "s = \"wordgoodgoodgoodbestword\"; words = [\"word\",\"good\",\"best\",\"word\"]\n",
    "s = \"barfoofoobarthefoobarman\"; words = [\"bar\",\"foo\",\"the\"]\n",
    "Solution().findSubstring(s, words)"
   ]
  },
  {
   "cell_type": "code",
   "execution_count": 16,
   "metadata": {},
   "outputs": [
    {
     "data": {
      "text/plain": [
       "-1"
      ]
     },
     "execution_count": 16,
     "metadata": {},
     "output_type": "execute_result"
    }
   ],
   "source": [
    "from collections import Counter\n",
    "Counter(words).get('qwer',-1)"
   ]
  },
  {
   "cell_type": "code",
   "execution_count": 14,
   "metadata": {},
   "outputs": [],
   "source": [
    "s = \"barfoothefoobarman\"; words = [\"foo\",\"bar\"]\n",
    "\n",
    "t2.get('asd')"
   ]
  },
  {
   "cell_type": "code",
   "execution_count": null,
   "metadata": {},
   "outputs": [],
   "source": []
  },
  {
   "cell_type": "markdown",
   "metadata": {},
   "source": [
    "#### 3. [1703]. Minimum Adjacent Swaps for K Consecutive Ones"
   ]
  },
  {
   "cell_type": "code",
   "execution_count": 6,
   "metadata": {},
   "outputs": [],
   "source": [
    "class Solution:\n",
    "    def minMoves(self, nums: List[int], k: int) -> int:\n",
    "        p = [i for i, v in enumerate(nums) if v == 1]\n",
    "        n = len(p)\n",
    "        presum = [0]*(n+1)\n",
    "        for i in range(n):\n",
    "            presum[i+1] = presum[i]+p[i]\n",
    "        res = float('inf')\n",
    "        if k%2: # if odd\n",
    "            radius = (k-1)//2\n",
    "            for i in range(radius, n-radius):\n",
    "                right = presum[i+radius+1]-presum[i+1]\n",
    "                left = presum[i]-presum[i-radius]\n",
    "                res = min(res, right-left)\n",
    "            return res-radius*(radius+1)\n",
    "        else: # even\n",
    "            radius = (k-2)//2\n",
    "            for i in range(radius, n-radius-1):\n",
    "                right = presum[i+radius+2]-presum[i+1]\n",
    "                left = presum[i]-presum[i-radius]\n",
    "                res = min(res, right-left-p[i])\n",
    "            return res-radius*(radius+1)-(radius+1)"
   ]
  },
  {
   "cell_type": "code",
   "execution_count": 7,
   "metadata": {},
   "outputs": [
    {
     "data": {
      "text/plain": [
       "1"
      ]
     },
     "execution_count": 7,
     "metadata": {},
     "output_type": "execute_result"
    }
   ],
   "source": [
    "nums = [1,0,0,1,0,1]; k = 2\n",
    "Solution().minMoves(nums, k)"
   ]
  },
  {
   "cell_type": "markdown",
   "metadata": {},
   "source": [
    "#### 4. [239]. Sliding Window Maximum"
   ]
  },
  {
   "cell_type": "code",
   "execution_count": 46,
   "metadata": {},
   "outputs": [],
   "source": [
    "\n",
    "import collections\n",
    "class Solution(object):\n",
    "    def maxSlidingWindow(self, nums, k):\n",
    "        \"\"\"\n",
    "        :type nums: List[int]\n",
    "        :type k: int\n",
    "        :rtype: List[int]\n",
    "        \"\"\"\n",
    "        d = collections.deque()\n",
    "        out = []\n",
    "        for i, n in enumerate(nums):\n",
    "            print(\"i = {}, curr element = {}, d = {} and out = {}\".format(i, n, d, out))\n",
    "            while d and nums[d[-1]] < n:\n",
    "                d.pop()\n",
    "                print(\"\\t Popped from d because d has elements and nums[d.top] < curr element\")\n",
    "            d.append(i)\n",
    "            print(\"\\t Added i to d\")\n",
    "            if d[0] == i - k:\n",
    "                d.popleft()\n",
    "                print(\"\\t Popped left from d because it's outside the window's leftmost (i-k)\")\n",
    "            if i>=k-1:\n",
    "                out.append(nums[d[0]])\n",
    "                print(\"\\t Append nums[d[0]] = {} to out\".format(nums[d[0]]))\n",
    "        \n",
    "        return out"
   ]
  },
  {
   "cell_type": "code",
   "execution_count": 47,
   "metadata": {},
   "outputs": [
    {
     "name": "stdout",
     "output_type": "stream",
     "text": [
      "i = 0, curr element = 1, d = deque([]) and out = []\n",
      "\t Added i to d\n",
      "i = 1, curr element = 3, d = deque([0]) and out = []\n",
      "\t Popped from d because d has elements and nums[d.top] < curr element\n",
      "\t Added i to d\n",
      "i = 2, curr element = 1, d = deque([1]) and out = []\n",
      "\t Added i to d\n",
      "\t Append nums[d[0]] = 3 to out\n",
      "i = 3, curr element = 2, d = deque([1, 2]) and out = [3]\n",
      "\t Popped from d because d has elements and nums[d.top] < curr element\n",
      "\t Added i to d\n",
      "\t Append nums[d[0]] = 3 to out\n",
      "i = 4, curr element = 0, d = deque([1, 3]) and out = [3, 3]\n",
      "\t Added i to d\n",
      "\t Popped left from d because it's outside the window's leftmost (i-k)\n",
      "\t Append nums[d[0]] = 2 to out\n",
      "i = 5, curr element = 5, d = deque([3, 4]) and out = [3, 3, 2]\n",
      "\t Popped from d because d has elements and nums[d.top] < curr element\n",
      "\t Popped from d because d has elements and nums[d.top] < curr element\n",
      "\t Added i to d\n",
      "\t Append nums[d[0]] = 5 to out\n"
     ]
    },
    {
     "data": {
      "text/plain": [
       "[3, 3, 2, 5]"
      ]
     },
     "execution_count": 47,
     "metadata": {},
     "output_type": "execute_result"
    }
   ],
   "source": [
    "nums = [1,3,-1,-3,5,3,6,7]; k = 3\n",
    "#nums = [1]; k = 1\n",
    "#nums = [1,-1]; k = 1\n",
    "nums = [1,3,1,2,0,5]; k = 3\n",
    "Solution().maxSlidingWindow(nums, k)"
   ]
  },
  {
   "cell_type": "code",
   "execution_count": null,
   "metadata": {},
   "outputs": [],
   "source": []
  },
  {
   "cell_type": "code",
   "execution_count": null,
   "metadata": {},
   "outputs": [],
   "source": []
  },
  {
   "cell_type": "code",
   "execution_count": 68,
   "metadata": {},
   "outputs": [],
   "source": [
    "from functools import cache\n",
    "\n",
    "class Solution:\n",
    "    def minOperations(self, nums: List[int], x: int) -> int:\n",
    "        \n",
    "        @cache\n",
    "        def dfs(val, i, j):\n",
    "            if val==0: return 0\n",
    "            #print(i,j)\n",
    "            if i>=j: return float('inf')\n",
    "            if val<0: return float('inf')\n",
    "            return min( 1 + dfs(val-nums[i], i+1,j), 1 + dfs(val-nums[j], i, j-1))\n",
    "        \n",
    "        result = dfs(x, 0, len(nums)-1)\n",
    "        return -1 if result == float('inf') else result"
   ]
  },
  {
   "cell_type": "code",
   "execution_count": 73,
   "metadata": {},
   "outputs": [],
   "source": [
    "# Alternate using Prefix sum and hashmap\n",
    "class Solution:\n",
    "    def minOperations(self, nums: List[int], x: int) -> int:\n",
    "        x = sum(nums) - x\n",
    "        if not x: return len(nums) # edge case \n",
    "        \n",
    "        seen = {0: -1}\n",
    "        ans = prefix = 0\n",
    "        for i, num in enumerate(nums): \n",
    "            prefix += num\n",
    "            if prefix - x in seen: \n",
    "                ans = max(ans, i - seen[prefix - x])\n",
    "            seen.setdefault(prefix, i)\n",
    "        return len(nums) - ans if ans else -1"
   ]
  },
  {
   "cell_type": "code",
   "execution_count": 101,
   "metadata": {},
   "outputs": [],
   "source": [
    "class Solution:\n",
    "    def minOperations(self, nums: List[int], x: int) -> int:\n",
    "        x = sum(nums) - x\n",
    "        length = len(nums)\n",
    "        i, sums, ans = 0,0,-1\n",
    "        if x==0: return length\n",
    "        if x<0: return -1\n",
    "        for j in range(length):\n",
    "            sums += nums[j]\n",
    "            while sums>x:\n",
    "                sums-=nums[i]\n",
    "                i+=1\n",
    "            if sums==x:\n",
    "                ans = max(ans, j-i+1)            \n",
    "        return -1 if ans == -1 else length-ans"
   ]
  },
  {
   "cell_type": "code",
   "execution_count": 102,
   "metadata": {},
   "outputs": [
    {
     "data": {
      "text/plain": [
       "-1"
      ]
     },
     "execution_count": 102,
     "metadata": {},
     "output_type": "execute_result"
    }
   ],
   "source": [
    "nums = [1,1,4,2,3]; x = 5\n",
    "nums = [5,6,7,8,9]; x = 4\n",
    "nums = [3,2,20,1,1,3]; x = 10\n",
    "nums = [8828,9581,49,9818,9974,9869,9991,10000,10000,10000,9999,9993,9904,8819,1231,6309]; x = 134365\n",
    "nums = [1,1]; x = 3\n",
    "Solution().minOperations(nums, x)"
   ]
  },
  {
   "cell_type": "code",
   "execution_count": null,
   "metadata": {},
   "outputs": [],
   "source": []
  }
 ],
 "metadata": {
  "kernelspec": {
   "display_name": "Python 3.9.13 ('base')",
   "language": "python",
   "name": "python3"
  },
  "language_info": {
   "codemirror_mode": {
    "name": "ipython",
    "version": 3
   },
   "file_extension": ".py",
   "mimetype": "text/x-python",
   "name": "python",
   "nbconvert_exporter": "python",
   "pygments_lexer": "ipython3",
   "version": "3.9.13"
  },
  "orig_nbformat": 4,
  "vscode": {
   "interpreter": {
    "hash": "fecfa28de78ead09ec2989a580469213059448baba5e0b02aeeb7641afb84221"
   }
  }
 },
 "nbformat": 4,
 "nbformat_minor": 2
}
