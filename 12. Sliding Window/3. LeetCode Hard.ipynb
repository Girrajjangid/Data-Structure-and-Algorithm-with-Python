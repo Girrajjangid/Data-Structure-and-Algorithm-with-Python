{
 "cells": [
  {
   "cell_type": "code",
   "execution_count": 2,
   "metadata": {},
   "outputs": [],
   "source": [
    "from typing import List, Optional"
   ]
  },
  {
   "cell_type": "code",
   "execution_count": 66,
   "metadata": {},
   "outputs": [],
   "source": [
    "class Solution:\n",
    "    def medianSlidingWindow(self, nums: List[int], k: int) -> List[float]:\n",
    "        sum_ = 0\n",
    "        length = len(nums)\n",
    "        for idx, val in enumerate(nums):\n",
    "            if idx > length-k:\n",
    "                break\n",
    "            temp = sorted(nums[idx:idx+k])\n",
    "            if k%2==0:\n",
    "                nums[idx] = (temp[k//2]+temp[k//2-1])/2\n",
    "            else:\n",
    "                nums[idx] = temp[k//2]\n",
    "        if k==1:\n",
    "            return nums\n",
    "        return nums[:-k+1]\n",
    "            "
   ]
  },
  {
   "cell_type": "code",
   "execution_count": 70,
   "metadata": {},
   "outputs": [
    {
     "data": {
      "text/plain": [
       "[1, 4, 2, 3]"
      ]
     },
     "execution_count": 70,
     "metadata": {},
     "output_type": "execute_result"
    }
   ],
   "source": [
    "nums = [1,3,-1,-3,5,3,6,7]; k = 3\n",
    "nums = [1,2,3,4,2,3,1,4,2]; k = 3\n",
    "nums = [1,4,2,3]; k = 1\n",
    "Solution().medianSlidingWindow(nums,k)"
   ]
  },
  {
   "cell_type": "code",
   "execution_count": null,
   "metadata": {},
   "outputs": [],
   "source": []
  }
 ],
 "metadata": {
  "kernelspec": {
   "display_name": "Python 3.8.8 ('base')",
   "language": "python",
   "name": "python3"
  },
  "language_info": {
   "codemirror_mode": {
    "name": "ipython",
    "version": 3
   },
   "file_extension": ".py",
   "mimetype": "text/x-python",
   "name": "python",
   "nbconvert_exporter": "python",
   "pygments_lexer": "ipython3",
   "version": "3.8.8"
  },
  "orig_nbformat": 4,
  "vscode": {
   "interpreter": {
    "hash": "ad2bdc8ecc057115af97d19610ffacc2b4e99fae6737bb82f5d7fb13d2f2c186"
   }
  }
 },
 "nbformat": 4,
 "nbformat_minor": 2
}
