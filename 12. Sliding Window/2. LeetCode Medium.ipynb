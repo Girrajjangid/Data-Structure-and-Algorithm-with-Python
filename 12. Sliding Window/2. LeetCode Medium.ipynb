{
 "cells": [
  {
   "cell_type": "code",
   "execution_count": 1,
   "metadata": {},
   "outputs": [],
   "source": [
    "from typing import List"
   ]
  },
  {
   "cell_type": "markdown",
   "metadata": {},
   "source": [
    "#### 1. Count Good Substrings"
   ]
  },
  {
   "cell_type": "code",
   "execution_count": 4,
   "metadata": {},
   "outputs": [],
   "source": [
    "class Solution:\n",
    "    def countGoodSubstrings(self, s: str) -> int:\n",
    "        length = len(s)\n",
    "        count,ans, d = 0, 0, {}\n",
    "        for j in range(length):\n",
    "            if j<3:\n",
    "                d[s[j]] = d.get(s[j],0) + 1\n",
    "                if d[s[j]]==1: count+=1    \n",
    "            else:\n",
    "                d[s[j-3]]-=1 # removing 3 window element\n",
    "                if d[s[j-3]]==0: count-=1\n",
    "                d[s[j]] = d.get(s[j],0) + 1\n",
    "                if d[s[j]]==1: count+=1\n",
    "            if count==3:\n",
    "                ans+=1\n",
    "        return ans          "
   ]
  },
  {
   "cell_type": "code",
   "execution_count": 7,
   "metadata": {},
   "outputs": [
    {
     "data": {
      "text/plain": [
       "0"
      ]
     },
     "execution_count": 7,
     "metadata": {},
     "output_type": "execute_result"
    }
   ],
   "source": [
    "s = \"xyzzaz\"\n",
    "s = \"a\"\n",
    "Solution().countGoodSubstrings(s)"
   ]
  },
  {
   "cell_type": "code",
   "execution_count": null,
   "metadata": {},
   "outputs": [
    {
     "data": {
      "text/plain": [
       "31"
      ]
     },
     "execution_count": 19,
     "metadata": {},
     "output_type": "execute_result"
    }
   ],
   "source": [
    "ord('b') - ord('C') "
   ]
  },
  {
   "cell_type": "markdown",
   "metadata": {},
   "source": [
    "#### 2. Longest Nice Substring"
   ]
  },
  {
   "cell_type": "code",
   "execution_count": 40,
   "metadata": {},
   "outputs": [],
   "source": [
    "class Solution:\n",
    "    def longestNiceSubstring(self, s: str) -> str:\n",
    "        if len(s) <= 1: return \"\"\n",
    "        chars = set(list(s))\n",
    "        for i in range(len(s)):\n",
    "            if not (s[i].lower() in chars and s[i].upper() in chars):\n",
    "                return max(self.longestNiceSubstring(s[:i]), self.longestNiceSubstring(s[i+1:]),key=len)  \n",
    "        return s "
   ]
  },
  {
   "cell_type": "code",
   "execution_count": 45,
   "metadata": {},
   "outputs": [],
   "source": [
    "# Alternate\n",
    "import re\n",
    "class Solution:\n",
    "    def longestNiceSubstring(self, s: str) -> str:        \n",
    "        if set(s) == set(s.swapcase()): return s\n",
    "        orphan = set(s) - set(s.swapcase())        \n",
    "        return max(map(self.longestNiceSubstring, re.split(\"|\".join(orphan), s)), key=len)"
   ]
  },
  {
   "cell_type": "code",
   "execution_count": 46,
   "metadata": {},
   "outputs": [
    {
     "data": {
      "text/plain": [
       "'aAa'"
      ]
     },
     "execution_count": 46,
     "metadata": {},
     "output_type": "execute_result"
    }
   ],
   "source": [
    "s = 'YazaAay'\n",
    "Solution().longestNiceSubstring(s)"
   ]
  },
  {
   "cell_type": "markdown",
   "metadata": {},
   "source": [
    "#### 3. [2379]. Minimum Recolors to Get K Consecutive Black Blocks"
   ]
  },
  {
   "cell_type": "code",
   "execution_count": 77,
   "metadata": {},
   "outputs": [],
   "source": [
    "class Solution:\n",
    "    def minimumRecolors(self, blocks: str, k: int) -> int:\n",
    "        length = len(blocks)\n",
    "        w, ans = 0, float('inf')\n",
    "        for j in range(length):\n",
    "            if j<k:\n",
    "                if blocks[j]=='W': w+=1\n",
    "                if j == k-1: ans = min(w, ans)\n",
    "            else:\n",
    "                if blocks[j-k]=='W': w-=1\n",
    "                if blocks[j]=='W': w+=1\n",
    "                ans = min(w, ans)\n",
    "        return 0 if ans == float('inf') else ans\n",
    "                    "
   ]
  },
  {
   "cell_type": "code",
   "execution_count": 78,
   "metadata": {},
   "outputs": [
    {
     "data": {
      "text/plain": [
       "0"
      ]
     },
     "execution_count": 78,
     "metadata": {},
     "output_type": "execute_result"
    }
   ],
   "source": [
    "blocks = \"WBWBBBW\"; k = 2\n",
    "#blocks = \"WBBWWBBWBW\"; k = 7\n",
    "#blocks = \"BWWWBB\"; k=6\n",
    "Solution().minimumRecolors(blocks, k)"
   ]
  },
  {
   "cell_type": "markdown",
   "metadata": {},
   "source": [
    "#### 4. [2269]. Find the K-Beauty of a Number"
   ]
  },
  {
   "cell_type": "code",
   "execution_count": 99,
   "metadata": {},
   "outputs": [],
   "source": [
    "class Solution:\n",
    "    def divisorSubstrings(self, num: int, k: int) -> int:\n",
    "        num_s = str(num)\n",
    "        length = len(num_s)\n",
    "        ans = 0\n",
    "        for j in range(k, length+1):\n",
    "            temp = int(num_s[j-k:j])\n",
    "            if temp and num%temp==0:\n",
    "                ans+=1\n",
    "        return ans"
   ]
  },
  {
   "cell_type": "code",
   "execution_count": 100,
   "metadata": {},
   "outputs": [
    {
     "data": {
      "text/plain": [
       "2"
      ]
     },
     "execution_count": 100,
     "metadata": {},
     "output_type": "execute_result"
    }
   ],
   "source": [
    "num = 240; k = 2\n",
    "num = 430043; k = 2\n",
    "Solution().divisorSubstrings(num, k)"
   ]
  },
  {
   "cell_type": "markdown",
   "metadata": {},
   "source": [
    "#### 5. [1984]. Minimum Difference Between Highest and Lowest of K Scores"
   ]
  },
  {
   "cell_type": "code",
   "execution_count": 122,
   "metadata": {},
   "outputs": [],
   "source": [
    "class Solution:\n",
    "    def minimumDifference(self, nums: List[int], k: int) -> int:\n",
    "        nums.sort()\n",
    "        length = len(nums)\n",
    "        ans = float('inf')\n",
    "        for j in range(k-1, length):\n",
    "            ans = min(ans, abs(nums[j] - nums[j-k+1]))\n",
    "        return 0 if ans==float('inf') else ans"
   ]
  },
  {
   "cell_type": "code",
   "execution_count": 123,
   "metadata": {},
   "outputs": [
    {
     "data": {
      "text/plain": [
       "74560"
      ]
     },
     "execution_count": 123,
     "metadata": {},
     "output_type": "execute_result"
    }
   ],
   "source": [
    "nums = [9,4,1,7]; k = 2\n",
    "nums = [90]; k = 1\n",
    "nums = [87063,61094,44530,21297,95857,93551,9918]; k = 6\n",
    "Solution().minimumDifference(nums, k)"
   ]
  },
  {
   "cell_type": "markdown",
   "metadata": {},
   "source": [
    "#### 6. [1343]. Number of Sub-arrays of Size K and Average Greater than or Equal to Threshold"
   ]
  },
  {
   "cell_type": "code",
   "execution_count": 7,
   "metadata": {},
   "outputs": [],
   "source": [
    "class Solution:\n",
    "    def numOfSubarrays(self, arr: List[int], k: int, threshold: int) -> int:\n",
    "        res = sum_ = 0\n",
    "        for j in range(len(arr)):\n",
    "            if j<k:\n",
    "                sum_+=arr[j]\n",
    "                if j==k-1 and sum_/k >= threshold: res+=1\n",
    "            else:\n",
    "                sum_ = sum_ - arr[j-k] + arr[j]\n",
    "                if sum_/k >= threshold: res+=1\n",
    "        return res"
   ]
  },
  {
   "cell_type": "code",
   "execution_count": 10,
   "metadata": {},
   "outputs": [
    {
     "data": {
      "text/plain": [
       "6"
      ]
     },
     "execution_count": 10,
     "metadata": {},
     "output_type": "execute_result"
    }
   ],
   "source": [
    "arr = [2,2,2,2,5,5,5,8]; k = 3; threshold = 4\n",
    "arr = [11,13,17,23,29,31,7,5,2,3]; k = 3; threshold = 5\n",
    "Solution().numOfSubarrays(arr, k, threshold)"
   ]
  },
  {
   "cell_type": "markdown",
   "metadata": {},
   "source": [
    "#### 7. [1004]. Max Consecutive Ones III"
   ]
  },
  {
   "cell_type": "code",
   "execution_count": 20,
   "metadata": {},
   "outputs": [],
   "source": [
    "class Solution:\n",
    "    def longestOnes(self, nums: List[int], k: int) -> int:\n",
    "        l = max_len = 0\n",
    "        for r, val in enumerate(nums):\n",
    "            k -= 1 - val\n",
    "            if k<0:\n",
    "                k+=1 - nums[l]\n",
    "                l+=1\n",
    "            else:\n",
    "                max_len = max(max_len, r-l+1)\n",
    "        return max_len"
   ]
  },
  {
   "cell_type": "code",
   "execution_count": 21,
   "metadata": {},
   "outputs": [
    {
     "data": {
      "text/plain": [
       "10"
      ]
     },
     "execution_count": 21,
     "metadata": {},
     "output_type": "execute_result"
    }
   ],
   "source": [
    "nums = [1,1,1,0,0,0,1,1,1,1,0]; k = 2\n",
    "nums = [0,0,1,1,0,0,1,1,1,0,1,1,0,0,0,1,1,1,1]; k = 3\n",
    "Solution().longestOnes(nums, k)"
   ]
  },
  {
   "cell_type": "markdown",
   "metadata": {},
   "source": [
    "#### 8. [1493]. Longest Subarray of 1's After Deleting One Element"
   ]
  },
  {
   "cell_type": "code",
   "execution_count": 22,
   "metadata": {},
   "outputs": [],
   "source": [
    "class Solution:\n",
    "    def longestSubarray(self, nums: List[int]) -> int:\n",
    "        l=max_len=0\n",
    "        k = 1\n",
    "        for r, val in enumerate(nums):\n",
    "            k -= 1 - val\n",
    "            if k<0:\n",
    "                k+=1-nums[l]\n",
    "                l+=1\n",
    "            else:\n",
    "                max_len = max(max_len, r-l+1)\n",
    "        return max_len-1"
   ]
  },
  {
   "cell_type": "code",
   "execution_count": 23,
   "metadata": {},
   "outputs": [
    {
     "data": {
      "text/plain": [
       "2"
      ]
     },
     "execution_count": 23,
     "metadata": {},
     "output_type": "execute_result"
    }
   ],
   "source": [
    "nums = [1,1,0,1]\n",
    "nums = [0,1,1,1,0,1,1,0,1]\n",
    "nums = [1,1,1]\n",
    "Solution().longestSubarray(nums)"
   ]
  },
  {
   "cell_type": "markdown",
   "metadata": {},
   "source": [
    "#### 9. [1358]. Number of Substrings Containing All Three Characters"
   ]
  },
  {
   "cell_type": "code",
   "execution_count": 44,
   "metadata": {},
   "outputs": [],
   "source": [
    "class Solution:\n",
    "    def numberOfSubstrings(self, s):\n",
    "        res = i = 0\n",
    "        count = {c: 0 for c in 'abc'}\n",
    "        for j in range(len(s)):\n",
    "            count[s[j]] += 1\n",
    "            while all(count.values()):\n",
    "                count[s[i]] -= 1\n",
    "                i += 1\n",
    "            res += i\n",
    "        return res"
   ]
  },
  {
   "cell_type": "code",
   "execution_count": 45,
   "metadata": {},
   "outputs": [],
   "source": [
    "class Solution:\n",
    "    def numberOfSubstrings(self, s: str) -> int:\n",
    "        count = 0\n",
    "        ind_a,ind_b,ind_c = -1,-1,-1\n",
    "        \n",
    "        for i,x in enumerate(s):\n",
    "            if x == 'a':\n",
    "                ind_a = i\n",
    "            elif x == 'b':\n",
    "                ind_b = i\n",
    "            else:\n",
    "                ind_c = i\n",
    "            \n",
    "            if i > 1:\n",
    "                count += min(ind_a,ind_b,ind_c)+1\n",
    "        return count"
   ]
  },
  {
   "cell_type": "code",
   "execution_count": 46,
   "metadata": {},
   "outputs": [
    {
     "data": {
      "text/plain": [
       "3"
      ]
     },
     "execution_count": 46,
     "metadata": {},
     "output_type": "execute_result"
    }
   ],
   "source": [
    "s = \"abcabc\"\n",
    "s = \"aaacb\"\n",
    "Solution().numberOfSubstrings(s)"
   ]
  },
  {
   "cell_type": "markdown",
   "metadata": {},
   "source": [
    "#### 10. [1248]. Count Number of Nice Subarrays"
   ]
  },
  {
   "cell_type": "code",
   "execution_count": 98,
   "metadata": {},
   "outputs": [],
   "source": [
    "class Solution:\n",
    "    def numberOfSubarrays(self, nums: List[int], k: int) -> int:\n",
    "        i = count = nice_count = odd_count = 0\n",
    "        for j in range(len(nums)):\n",
    "            if nums[j] % 2:\n",
    "                odd_count += 1\n",
    "                if odd_count == k:\n",
    "                    count = 0\n",
    "                    while odd_count == k:\n",
    "                        if nums[i] % 2:\n",
    "                            odd_count -= 1\n",
    "                        i += 1\n",
    "                        count += 1\n",
    "            nice_count += count\n",
    "\n",
    "        return nice_count"
   ]
  },
  {
   "cell_type": "code",
   "execution_count": 99,
   "metadata": {},
   "outputs": [
    {
     "data": {
      "text/plain": [
       "16"
      ]
     },
     "execution_count": 99,
     "metadata": {},
     "output_type": "execute_result"
    }
   ],
   "source": [
    "#nums = [1,1,2,1,1]; k = 3\n",
    "#nums = [2,4,6]; k = 1\n",
    "nums = [2,2,2,1,2,2,1,2,2,2]; k = 2\n",
    "Solution().numberOfSubarrays(nums,k)"
   ]
  },
  {
   "cell_type": "markdown",
   "metadata": {},
   "source": [
    "#### 11. [1456]. Maximum Number of Vowels in a Substring of Given Length"
   ]
  },
  {
   "cell_type": "code",
   "execution_count": 104,
   "metadata": {},
   "outputs": [],
   "source": [
    "class Solution:\n",
    "    def maxVowels(self, s: str, k: int) -> int:\n",
    "        i=res=0\n",
    "        vowels='aeiou'\n",
    "        vowel_count = 0\n",
    "        for j, val in enumerate(s):\n",
    "            if j<k:\n",
    "                if val in vowels: \n",
    "                    vowel_count+=1\n",
    "            else:\n",
    "                if s[i] in vowels:\n",
    "                    vowel_count-=1\n",
    "                if val in vowels:\n",
    "                    vowel_count+=1\n",
    "                i+=1\n",
    "            res = max(res, vowel_count)\n",
    "        return res\n",
    "                "
   ]
  },
  {
   "cell_type": "code",
   "execution_count": 106,
   "metadata": {},
   "outputs": [
    {
     "data": {
      "text/plain": [
       "2"
      ]
     },
     "execution_count": 106,
     "metadata": {},
     "output_type": "execute_result"
    }
   ],
   "source": [
    "s = \"abciiidef\"; k = 3\n",
    "s = \"leetcode\"; k = 3\n",
    "Solution().maxVowels(s,k)"
   ]
  },
  {
   "cell_type": "markdown",
   "metadata": {},
   "source": [
    "#### 12."
   ]
  },
  {
   "cell_type": "code",
   "execution_count": null,
   "metadata": {},
   "outputs": [],
   "source": []
  },
  {
   "cell_type": "code",
   "execution_count": null,
   "metadata": {},
   "outputs": [],
   "source": []
  }
 ],
 "metadata": {
  "kernelspec": {
   "display_name": "Python 3.9.13 ('base')",
   "language": "python",
   "name": "python3"
  },
  "language_info": {
   "codemirror_mode": {
    "name": "ipython",
    "version": 3
   },
   "file_extension": ".py",
   "mimetype": "text/x-python",
   "name": "python",
   "nbconvert_exporter": "python",
   "pygments_lexer": "ipython3",
   "version": "3.9.13"
  },
  "orig_nbformat": 4,
  "vscode": {
   "interpreter": {
    "hash": "fecfa28de78ead09ec2989a580469213059448baba5e0b02aeeb7641afb84221"
   }
  }
 },
 "nbformat": 4,
 "nbformat_minor": 2
}
