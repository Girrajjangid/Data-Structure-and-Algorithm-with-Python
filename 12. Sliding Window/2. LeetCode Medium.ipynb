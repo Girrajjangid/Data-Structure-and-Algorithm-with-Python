{
 "cells": [
  {
   "cell_type": "code",
   "execution_count": 1,
   "metadata": {},
   "outputs": [],
   "source": [
    "from typing import List"
   ]
  },
  {
   "cell_type": "markdown",
   "metadata": {},
   "source": [
    "#### 1. Count Good Substrings"
   ]
  },
  {
   "cell_type": "code",
   "execution_count": 4,
   "metadata": {},
   "outputs": [],
   "source": [
    "class Solution:\n",
    "    def countGoodSubstrings(self, s: str) -> int:\n",
    "        length = len(s)\n",
    "        count,ans, d = 0, 0, {}\n",
    "        for j in range(length):\n",
    "            if j<3:\n",
    "                d[s[j]] = d.get(s[j],0) + 1\n",
    "                if d[s[j]]==1: count+=1    \n",
    "            else:\n",
    "                d[s[j-3]]-=1 # removing 3 window element\n",
    "                if d[s[j-3]]==0: count-=1\n",
    "                d[s[j]] = d.get(s[j],0) + 1\n",
    "                if d[s[j]]==1: count+=1\n",
    "            if count==3:\n",
    "                ans+=1\n",
    "        return ans          "
   ]
  },
  {
   "cell_type": "code",
   "execution_count": 7,
   "metadata": {},
   "outputs": [
    {
     "data": {
      "text/plain": [
       "0"
      ]
     },
     "execution_count": 7,
     "metadata": {},
     "output_type": "execute_result"
    }
   ],
   "source": [
    "s = \"xyzzaz\"\n",
    "s = \"a\"\n",
    "Solution().countGoodSubstrings(s)"
   ]
  },
  {
   "cell_type": "code",
   "execution_count": null,
   "metadata": {},
   "outputs": [
    {
     "data": {
      "text/plain": [
       "31"
      ]
     },
     "execution_count": 19,
     "metadata": {},
     "output_type": "execute_result"
    }
   ],
   "source": [
    "ord('b') - ord('C') "
   ]
  },
  {
   "cell_type": "markdown",
   "metadata": {},
   "source": [
    "#### 2. Longest Nice Substring"
   ]
  },
  {
   "cell_type": "code",
   "execution_count": 40,
   "metadata": {},
   "outputs": [],
   "source": [
    "class Solution:\n",
    "    def longestNiceSubstring(self, s: str) -> str:\n",
    "        if len(s) <= 1: return \"\"\n",
    "        chars = set(list(s))\n",
    "        for i in range(len(s)):\n",
    "            if not (s[i].lower() in chars and s[i].upper() in chars):\n",
    "                return max(self.longestNiceSubstring(s[:i]), self.longestNiceSubstring(s[i+1:]),key=len)  \n",
    "        return s "
   ]
  },
  {
   "cell_type": "code",
   "execution_count": 45,
   "metadata": {},
   "outputs": [],
   "source": [
    "# Alternate\n",
    "import re\n",
    "class Solution:\n",
    "    def longestNiceSubstring(self, s: str) -> str:        \n",
    "        if set(s) == set(s.swapcase()): return s\n",
    "        orphan = set(s) - set(s.swapcase())        \n",
    "        return max(map(self.longestNiceSubstring, re.split(\"|\".join(orphan), s)), key=len)"
   ]
  },
  {
   "cell_type": "code",
   "execution_count": 46,
   "metadata": {},
   "outputs": [
    {
     "data": {
      "text/plain": [
       "'aAa'"
      ]
     },
     "execution_count": 46,
     "metadata": {},
     "output_type": "execute_result"
    }
   ],
   "source": [
    "s = 'YazaAay'\n",
    "Solution().longestNiceSubstring(s)"
   ]
  },
  {
   "cell_type": "markdown",
   "metadata": {},
   "source": [
    "#### 3. [2379]. Minimum Recolors to Get K Consecutive Black Blocks"
   ]
  },
  {
   "cell_type": "code",
   "execution_count": 77,
   "metadata": {},
   "outputs": [],
   "source": [
    "class Solution:\n",
    "    def minimumRecolors(self, blocks: str, k: int) -> int:\n",
    "        length = len(blocks)\n",
    "        w, ans = 0, float('inf')\n",
    "        for j in range(length):\n",
    "            if j<k:\n",
    "                if blocks[j]=='W': w+=1\n",
    "                if j == k-1: ans = min(w, ans)\n",
    "            else:\n",
    "                if blocks[j-k]=='W': w-=1\n",
    "                if blocks[j]=='W': w+=1\n",
    "                ans = min(w, ans)\n",
    "        return 0 if ans == float('inf') else ans\n",
    "                    "
   ]
  },
  {
   "cell_type": "code",
   "execution_count": 78,
   "metadata": {},
   "outputs": [
    {
     "data": {
      "text/plain": [
       "0"
      ]
     },
     "execution_count": 78,
     "metadata": {},
     "output_type": "execute_result"
    }
   ],
   "source": [
    "blocks = \"WBWBBBW\"; k = 2\n",
    "#blocks = \"WBBWWBBWBW\"; k = 7\n",
    "#blocks = \"BWWWBB\"; k=6\n",
    "Solution().minimumRecolors(blocks, k)"
   ]
  },
  {
   "cell_type": "markdown",
   "metadata": {},
   "source": [
    "#### 4. [2269]. Find the K-Beauty of a Number"
   ]
  },
  {
   "cell_type": "code",
   "execution_count": 99,
   "metadata": {},
   "outputs": [],
   "source": [
    "class Solution:\n",
    "    def divisorSubstrings(self, num: int, k: int) -> int:\n",
    "        num_s = str(num)\n",
    "        length = len(num_s)\n",
    "        ans = 0\n",
    "        for j in range(k, length+1):\n",
    "            temp = int(num_s[j-k:j])\n",
    "            if temp and num%temp==0:\n",
    "                ans+=1\n",
    "        return ans"
   ]
  },
  {
   "cell_type": "code",
   "execution_count": 100,
   "metadata": {},
   "outputs": [
    {
     "data": {
      "text/plain": [
       "2"
      ]
     },
     "execution_count": 100,
     "metadata": {},
     "output_type": "execute_result"
    }
   ],
   "source": [
    "num = 240; k = 2\n",
    "num = 430043; k = 2\n",
    "Solution().divisorSubstrings(num, k)"
   ]
  },
  {
   "cell_type": "markdown",
   "metadata": {},
   "source": [
    "#### 5. [1984]. Minimum Difference Between Highest and Lowest of K Scores"
   ]
  },
  {
   "cell_type": "code",
   "execution_count": 122,
   "metadata": {},
   "outputs": [],
   "source": [
    "class Solution:\n",
    "    def minimumDifference(self, nums: List[int], k: int) -> int:\n",
    "        nums.sort()\n",
    "        length = len(nums)\n",
    "        ans = float('inf')\n",
    "        for j in range(k-1, length):\n",
    "            ans = min(ans, abs(nums[j] - nums[j-k+1]))\n",
    "        return 0 if ans==float('inf') else ans"
   ]
  },
  {
   "cell_type": "code",
   "execution_count": 123,
   "metadata": {},
   "outputs": [
    {
     "data": {
      "text/plain": [
       "74560"
      ]
     },
     "execution_count": 123,
     "metadata": {},
     "output_type": "execute_result"
    }
   ],
   "source": [
    "nums = [9,4,1,7]; k = 2\n",
    "nums = [90]; k = 1\n",
    "nums = [87063,61094,44530,21297,95857,93551,9918]; k = 6\n",
    "Solution().minimumDifference(nums, k)"
   ]
  }
 ],
 "metadata": {
  "kernelspec": {
   "display_name": "Python 3.9.13 ('base')",
   "language": "python",
   "name": "python3"
  },
  "language_info": {
   "codemirror_mode": {
    "name": "ipython",
    "version": 3
   },
   "file_extension": ".py",
   "mimetype": "text/x-python",
   "name": "python",
   "nbconvert_exporter": "python",
   "pygments_lexer": "ipython3",
   "version": "3.9.13"
  },
  "orig_nbformat": 4,
  "vscode": {
   "interpreter": {
    "hash": "fecfa28de78ead09ec2989a580469213059448baba5e0b02aeeb7641afb84221"
   }
  }
 },
 "nbformat": 4,
 "nbformat_minor": 2
}
