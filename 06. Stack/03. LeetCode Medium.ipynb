{
 "cells": [
  {
   "cell_type": "markdown",
   "metadata": {},
   "source": [
    "#### 1. Parse a Boolean Expresion"
   ]
  },
  {
   "cell_type": "code",
   "execution_count": 61,
   "metadata": {},
   "outputs": [],
   "source": [
    "from collections import deque\n",
    "\n",
    "class Solution:\n",
    "    def parseBoolExpr(self, expression: str) -> bool:\n",
    "        operator = deque()\n",
    "        parenthesis = deque()\n",
    "        for i in expression:\n",
    "            if i in \"!&|\": operator.append(i)\n",
    "            elif i == ',': continue\n",
    "            elif i not in \")\": parenthesis.append(i)\n",
    "            else:\n",
    "                last_operator = operator.pop()\n",
    "                last_express  = parenthesis.pop()\n",
    "                last_express = True if last_express=='t' else False\n",
    "                if last_operator=='&':\n",
    "                    while parenthesis[-1]!='(':\n",
    "                        temp = True if parenthesis.pop()=='t' else False\n",
    "                        last_express = last_express and temp\n",
    "                elif last_operator=='!':\n",
    "                    last_express = not last_express\n",
    "                elif last_operator=='|':\n",
    "                    while parenthesis[-1]!='(':\n",
    "                        temp = True if parenthesis.pop()=='t' else False\n",
    "                        last_express = last_express or temp\n",
    "                parenthesis.pop()\n",
    "                temp = 't' if last_express else 'f'\n",
    "                parenthesis.append(temp)\n",
    "        return last_express                "
   ]
  },
  {
   "cell_type": "code",
   "execution_count": 62,
   "metadata": {},
   "outputs": [
    {
     "data": {
      "text/plain": [
       "False"
      ]
     },
     "execution_count": 62,
     "metadata": {},
     "output_type": "execute_result"
    }
   ],
   "source": [
    "expression = \"&(|(f))\"\n",
    "#expression = \"|(f,f,f,t)\"\n",
    "#expression = \"!(&(f,t))\"\n",
    "Solution().parseBoolExpr(expression)"
   ]
  },
  {
   "cell_type": "code",
   "execution_count": 63,
   "metadata": {},
   "outputs": [],
   "source": [
    "class Solution:\n",
    "    def parseBoolExpr(self, S, t=True, f=False):\n",
    "        return eval(S.replace('!', 'not |').replace('&(', 'all([').replace('|(', 'any([').replace(')', '])'))"
   ]
  },
  {
   "cell_type": "code",
   "execution_count": 64,
   "metadata": {},
   "outputs": [
    {
     "data": {
      "text/plain": [
       "False"
      ]
     },
     "execution_count": 64,
     "metadata": {},
     "output_type": "execute_result"
    }
   ],
   "source": [
    "f = False\n",
    "eval('all([any([False])])')"
   ]
  },
  {
   "cell_type": "markdown",
   "metadata": {},
   "source": [
    "#### 2. [921]. Minimum Add to Make Parentheses Valid"
   ]
  },
  {
   "cell_type": "code",
   "execution_count": 79,
   "metadata": {},
   "outputs": [],
   "source": [
    "from collections import deque\n",
    "class Solution:\n",
    "    def minAddToMakeValid(self, s: str) -> int:\n",
    "        stack   = deque()\n",
    "        invalid = deque()\n",
    "        for i in s:\n",
    "            if i=='(': stack.append(i)\n",
    "            else:\n",
    "                if stack: stack.pop()\n",
    "                else: invalid.append(i)\n",
    "        return len(stack) + len(invalid)"
   ]
  },
  {
   "cell_type": "code",
   "execution_count": 80,
   "metadata": {},
   "outputs": [],
   "source": [
    "class Solution:\n",
    "    def minAddToMakeValid(self, S):\n",
    "        not_opened = not_closed = 0\n",
    "        for i in S:\n",
    "            if not_closed == 0 and i == ')':\n",
    "                not_opened += 1\n",
    "            else:\n",
    "                not_closed += 1 if i == '(' else -1\n",
    "        return not_opened + not_closed"
   ]
  },
  {
   "cell_type": "code",
   "execution_count": 81,
   "metadata": {},
   "outputs": [
    {
     "data": {
      "text/plain": [
       "3"
      ]
     },
     "execution_count": 81,
     "metadata": {},
     "output_type": "execute_result"
    }
   ],
   "source": [
    "s = \"()))())\"\n",
    "Solution().minAddToMakeValid(s)"
   ]
  }
 ],
 "metadata": {
  "kernelspec": {
   "display_name": "Python 3.9.13 ('base')",
   "language": "python",
   "name": "python3"
  },
  "language_info": {
   "codemirror_mode": {
    "name": "ipython",
    "version": 3
   },
   "file_extension": ".py",
   "mimetype": "text/x-python",
   "name": "python",
   "nbconvert_exporter": "python",
   "pygments_lexer": "ipython3",
   "version": "3.9.13"
  },
  "orig_nbformat": 4,
  "vscode": {
   "interpreter": {
    "hash": "fecfa28de78ead09ec2989a580469213059448baba5e0b02aeeb7641afb84221"
   }
  }
 },
 "nbformat": 4,
 "nbformat_minor": 2
}
