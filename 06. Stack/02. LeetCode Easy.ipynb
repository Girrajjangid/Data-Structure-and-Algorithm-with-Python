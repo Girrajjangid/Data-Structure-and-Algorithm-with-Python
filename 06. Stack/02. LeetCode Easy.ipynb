{
 "cells": [
  {
   "cell_type": "code",
   "execution_count": 1,
   "metadata": {},
   "outputs": [],
   "source": [
    "from typing import  List"
   ]
  },
  {
   "cell_type": "markdown",
   "metadata": {},
   "source": [
    "#### 1. NextGreaterElement"
   ]
  },
  {
   "cell_type": "code",
   "execution_count": null,
   "metadata": {},
   "outputs": [],
   "source": [
    "class Solution:\n",
    "    def nextGreaterElement(self, nums1, nums2):\n",
    "        dic, stack = {}, []\n",
    "        for num in nums2[::-1]:\n",
    "            while stack and num > stack[-1]:\n",
    "                stack.pop()\n",
    "            if stack:\n",
    "                dic[num] = stack[-1]\n",
    "            stack.append(num)\n",
    "        #print(stack)\n",
    "        #print(dic)\n",
    "        return [dic.get(num, -1) for num in nums1]"
   ]
  },
  {
   "cell_type": "code",
   "execution_count": null,
   "metadata": {},
   "outputs": [],
   "source": [
    "nums1 = [4,1,2]; nums2 = [1,3,4,2]\n",
    "nums1 = [2,4]; nums2 = [1,2,3,4]\n",
    "\n",
    "nums1 = [1,3,5,2,4]; nums2 = [6,5,4,3,2,1,7]\n",
    "Solution().nextGreaterElement(nums1, nums2)"
   ]
  },
  {
   "cell_type": "markdown",
   "metadata": {},
   "source": [
    "#### 2. BackspaceCompare"
   ]
  },
  {
   "cell_type": "code",
   "execution_count": null,
   "metadata": {},
   "outputs": [],
   "source": [
    "# Approach 1: Time  : O(N+M)\n",
    "#             Space : O(N+M)\n",
    "\n",
    "class Solution:\n",
    "    def backspaceCompare(self, s: str, t: str) -> bool:\n",
    "        from collections import deque\n",
    "        s1, t1 = deque(), deque()\n",
    "        counter = 0\n",
    "        for val in s:\n",
    "            if val=='#':\n",
    "                if counter>0:\n",
    "                    s1.pop()\n",
    "                    counter-=1\n",
    "            else:\n",
    "                s1.append(val)\n",
    "                counter+=1\n",
    "        s1 = ''.join(s1)\n",
    "        counter = 0\n",
    "        for val in t:\n",
    "            if val=='#':\n",
    "                if counter>0:\n",
    "                    t1.pop()\n",
    "                    counter-=1\n",
    "            else:\n",
    "                t1.append(val)\n",
    "                counter+=1\n",
    "        t1 = ''.join(t1)\n",
    "\n",
    "        print(s1)\n",
    "        print(t1)\n",
    "        return s1==t1"
   ]
  },
  {
   "cell_type": "code",
   "execution_count": null,
   "metadata": {},
   "outputs": [],
   "source": [
    "s = \"ab#c\"; t = \"ad#c\"\n",
    "#s = \"ab##\"; t = \"c#d#\"\n",
    "Solution().backspaceCompare(s,t)"
   ]
  },
  {
   "cell_type": "code",
   "execution_count": null,
   "metadata": {},
   "outputs": [],
   "source": [
    "# Approach-2 with Time: O(N+M), Space O(1)\n",
    "class Solution:\n",
    "    def backspaceCompare(self, s: str, t: str) -> bool:\n",
    "        from functools import reduce\n",
    "        back_remove = lambda x,c: x[:-1] if c=='#' else x+c\n",
    "        return reduce(back_remove, s, \"\") == reduce(back_remove, t, \"\")"
   ]
  },
  {
   "cell_type": "code",
   "execution_count": null,
   "metadata": {},
   "outputs": [],
   "source": []
  },
  {
   "cell_type": "markdown",
   "metadata": {},
   "source": [
    "#### 3. Implement strstr()"
   ]
  },
  {
   "cell_type": "code",
   "execution_count": null,
   "metadata": {},
   "outputs": [],
   "source": [
    "# Approach-1: \n",
    "class Solution:\n",
    "    def strStr(self, haystack: str, needle: str) -> int:\n",
    "        return haystack.find(needle)"
   ]
  },
  {
   "cell_type": "code",
   "execution_count": null,
   "metadata": {},
   "outputs": [],
   "source": [
    "# Approach-2: \n",
    "class Solution:\n",
    "    def strStr(self, haystack: str, needle: str) -> int:\n",
    "        haystack_l, needle_l = len(haystack), len(needle)\n",
    "        if not needle_l: return 0\n",
    "        for idx in range(haystack_l-needle_l+1):\n",
    "            if needle == haystack[idx:needle_l+idx]: return idx\n",
    "        return -1"
   ]
  },
  {
   "cell_type": "code",
   "execution_count": null,
   "metadata": {},
   "outputs": [],
   "source": [
    "haystack = \"hello\"; needle = \"ll\"\n",
    "#haystack = \"aaaaaqwe\"; needle = \"bbasc\"\n",
    "Solution().strStr(haystack, needle)"
   ]
  },
  {
   "cell_type": "markdown",
   "metadata": {},
   "source": [
    "#### 4. Implement Queue using Stacks"
   ]
  },
  {
   "cell_type": "code",
   "execution_count": null,
   "metadata": {},
   "outputs": [],
   "source": [
    "class MyQueue:\n",
    "\n",
    "    def __init__(self):\n",
    "        self.queue = []\n",
    "\n",
    "    def push(self, x: int) -> None:\n",
    "        self.queue.append(x)        \n",
    "\n",
    "    def pop(self) -> int:\n",
    "        if self.queue:\n",
    "            first_element = self.peek()\n",
    "            self.queue = self.queue[1:]\n",
    "            return first_element\n",
    "        else:\n",
    "            return []\n",
    "\n",
    "    def peek(self) -> int:\n",
    "        return self.queue[0] if self.queue else []\n",
    "\n",
    "    def empty(self) -> bool:\n",
    "        return True if not self.queue else False\n",
    "\n",
    "# Your MyQueue object will be instantiated and called as such:\n",
    "# obj = MyQueue()\n",
    "# obj.push(x)\n",
    "# param_2 = obj.pop()\n",
    "# param_3 = obj.peek()\n",
    "# param_4 = obj.empty()"
   ]
  },
  {
   "cell_type": "code",
   "execution_count": null,
   "metadata": {},
   "outputs": [],
   "source": [
    "# [\"MyQueue\",\"push\",\"push\",\"peek\",\"pop\",\"empty\"]\n",
    "# [[],[1],[2],[],[],[]]"
   ]
  },
  {
   "cell_type": "code",
   "execution_count": null,
   "metadata": {},
   "outputs": [],
   "source": [
    "obj = MyQueue()\n",
    "obj.push(1),obj.push(2),obj.peek(),obj.pop(),obj.empty()"
   ]
  },
  {
   "cell_type": "code",
   "execution_count": null,
   "metadata": {},
   "outputs": [],
   "source": []
  },
  {
   "cell_type": "markdown",
   "metadata": {},
   "source": [
    "#### 5. Implement Stack using Queues"
   ]
  },
  {
   "cell_type": "code",
   "execution_count": null,
   "metadata": {},
   "outputs": [],
   "source": [
    "class MyStack:\n",
    "\n",
    "    def __init__(self):\n",
    "        self.queue = []\n",
    "\n",
    "    def push(self, x: int) -> None:\n",
    "        self.queue.append(x)\n",
    "\n",
    "    def pop(self) -> int:\n",
    "        if self.queue:\n",
    "            last_element = self.top()\n",
    "            self.queue = self.queue[:-1]\n",
    "            return last_element\n",
    "        else:\n",
    "            return []\n",
    "\n",
    "    def top(self) -> int:\n",
    "        return self.queue[-1] if self.queue else []\n",
    "\n",
    "    def empty(self) -> bool:\n",
    "        return True if not self.queue else False\n",
    "\n",
    "# Your MyStack object will be instantiated and called as such:\n",
    "# obj = MyStack()\n",
    "# obj.push(x)\n",
    "# param_2 = obj.pop()\n",
    "# param_3 = obj.top()\n",
    "# param_4 = obj.empty()"
   ]
  },
  {
   "cell_type": "code",
   "execution_count": null,
   "metadata": {},
   "outputs": [],
   "source": [
    "# [\"MyStack\",\"push\",\"push\",\"top\",\"pop\",\"empty\"]\n",
    "# [[],[1],[2],[],[],[]]"
   ]
  },
  {
   "cell_type": "code",
   "execution_count": null,
   "metadata": {},
   "outputs": [],
   "source": [
    "obj = MyStack()\n",
    "obj.__init__(), obj.push(1), obj.push(2), obj.top(), obj.pop(), obj.empty()"
   ]
  },
  {
   "cell_type": "markdown",
   "metadata": {},
   "source": [
    "#### 6. Min Stack"
   ]
  },
  {
   "cell_type": "code",
   "execution_count": 6,
   "metadata": {},
   "outputs": [],
   "source": [
    "class MinStack:\n",
    "    from collections import deque\n",
    "    \n",
    "    def __init__(self):\n",
    "        self.stack = deque()\n",
    "        self.mini = deque()\n",
    "        self.counter = 0\n",
    "    \n",
    "    def push(self, val: int) -> None:\n",
    "        self.stack.append(val)\n",
    "        if self.counter>0:\n",
    "            last_min = self.mini[-1] \n",
    "            if val < last_min:\n",
    "                self.mini.append(val)\n",
    "            else:\n",
    "                self.mini.append(last_min)\n",
    "        else:\n",
    "            self.mini.append(val)\n",
    "        self.counter+=1\n",
    "    \n",
    "    def pop(self) -> None:\n",
    "        self.stack.pop()\n",
    "        self.mini.pop()\n",
    "        self.counter-=1\n",
    "        \n",
    "    def top(self) -> int:\n",
    "        return self.stack[-1]        \n",
    "\n",
    "    def getMin(self) -> int:\n",
    "        return self.mini[-1]\n",
    "\n",
    "\n",
    "\n",
    "# Your MinStack object will be instantiated and called as such:\n",
    "# obj = MinStack()\n",
    "# obj.push(val)\n",
    "# obj.pop()\n",
    "# param_3 = obj.top()\n",
    "# param_4 = obj.getMin()"
   ]
  },
  {
   "cell_type": "code",
   "execution_count": null,
   "metadata": {},
   "outputs": [],
   "source": []
  }
 ],
 "metadata": {
  "kernelspec": {
   "display_name": "Python 3.8.8 ('base')",
   "language": "python",
   "name": "python3"
  },
  "language_info": {
   "codemirror_mode": {
    "name": "ipython",
    "version": 3
   },
   "file_extension": ".py",
   "mimetype": "text/x-python",
   "name": "python",
   "nbconvert_exporter": "python",
   "pygments_lexer": "ipython3",
   "version": "3.8.8"
  },
  "orig_nbformat": 4,
  "vscode": {
   "interpreter": {
    "hash": "ad2bdc8ecc057115af97d19610ffacc2b4e99fae6737bb82f5d7fb13d2f2c186"
   }
  }
 },
 "nbformat": 4,
 "nbformat_minor": 2
}
