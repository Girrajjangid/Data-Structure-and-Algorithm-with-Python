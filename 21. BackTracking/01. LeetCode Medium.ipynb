{
 "cells": [
  {
   "attachments": {},
   "cell_type": "markdown",
   "metadata": {},
   "source": [
    "#### 1. [1863]. Sum of All Subset XOR Totals"
   ]
  },
  {
   "cell_type": "code",
   "execution_count": 43,
   "metadata": {},
   "outputs": [],
   "source": [
    "from itertools import combinations\n",
    "from functools import reduce\n",
    "from typing import List"
   ]
  },
  {
   "cell_type": "code",
   "execution_count": 44,
   "metadata": {},
   "outputs": [],
   "source": [
    "class Solution:\n",
    "    def subsetXORSum(self, nums: List[int]) -> int:\n",
    "        return sum(sum(reduce(lambda a,b:a^b, j) for j in combinations(nums,i)) for i in range(1,len(nums)+1))"
   ]
  },
  {
   "cell_type": "code",
   "execution_count": 45,
   "metadata": {},
   "outputs": [
    {
     "data": {
      "text/plain": [
       "480"
      ]
     },
     "execution_count": 45,
     "metadata": {},
     "output_type": "execute_result"
    }
   ],
   "source": [
    "nums = [5,1,6]\n",
    "nums = [3,4,5,6,7,8]\n",
    "Solution().subsetXORSum(nums)"
   ]
  },
  {
   "attachments": {},
   "cell_type": "markdown",
   "metadata": {},
   "source": [
    "#### 2. [1079]. Letter Tile Possibilities"
   ]
  },
  {
   "cell_type": "code",
   "execution_count": 75,
   "metadata": {},
   "outputs": [],
   "source": [
    "from itertools import permutations\n",
    "\n",
    "class Solution:\n",
    "    def numTilePossibilities(self, tiles: str) -> int:\n",
    "        return sum(len(set(permutations(tiles,i))) for i in range(1,len(tiles)+1))"
   ]
  },
  {
   "cell_type": "code",
   "execution_count": 80,
   "metadata": {},
   "outputs": [],
   "source": [
    "from functools import cache\n",
    "# Approach-2: DFS\n",
    "class Solution(object):\n",
    "    def numTilePossibilities(self, tiles):\n",
    "        \"\"\"\n",
    "        :type tiles: str\n",
    "        :rtype: int\n",
    "        \"\"\"\n",
    "        res = set()\n",
    "        @cache\n",
    "        def dfs(path, t):\n",
    "            if path:\n",
    "                res.add(path)\n",
    "            for i in range(len(t)):\n",
    "                dfs(path+t[i], t[:i] + t[i+1:])\n",
    "                \n",
    "        dfs('', tiles)\n",
    "        return len(res)"
   ]
  },
  {
   "cell_type": "code",
   "execution_count": 81,
   "metadata": {},
   "outputs": [
    {
     "data": {
      "text/plain": [
       "1"
      ]
     },
     "execution_count": 81,
     "metadata": {},
     "output_type": "execute_result"
    }
   ],
   "source": [
    "tiles = 'AAB'\n",
    "tiles = 'V'\n",
    "Solution().numTilePossibilities(tiles)"
   ]
  },
  {
   "attachments": {},
   "cell_type": "markdown",
   "metadata": {},
   "source": [
    "#### 3. [46]. Permutations"
   ]
  },
  {
   "cell_type": "code",
   "execution_count": 90,
   "metadata": {},
   "outputs": [],
   "source": [
    "class Solution:\n",
    "    def permute(self, nums: List[int]) -> List[List[int]]:\n",
    "        result = []\n",
    "        \n",
    "        def dfs(path, arr):\n",
    "            if not arr: result.append(path)\n",
    "            for idx, val in enumerate(arr):\n",
    "                dfs(path+[val], arr[:idx]+arr[idx+1:])\n",
    "        \n",
    "        dfs([], nums)\n",
    "        return result       \n",
    "        "
   ]
  },
  {
   "cell_type": "code",
   "execution_count": 92,
   "metadata": {},
   "outputs": [
    {
     "data": {
      "text/plain": [
       "[[1, 2, 3], [1, 3, 2], [2, 1, 3], [2, 3, 1], [3, 1, 2], [3, 2, 1]]"
      ]
     },
     "execution_count": 92,
     "metadata": {},
     "output_type": "execute_result"
    }
   ],
   "source": [
    "nums = [1,2,3]\n",
    "#nums = [0,1]\n",
    "#nums = [1]\n",
    "Solution().permute(nums)\n"
   ]
  },
  {
   "attachments": {},
   "cell_type": "markdown",
   "metadata": {},
   "source": [
    "#### 4. [784]. Letter Case Permutation"
   ]
  },
  {
   "cell_type": "code",
   "execution_count": 144,
   "metadata": {},
   "outputs": [],
   "source": [
    "class Solution:\n",
    "    def letterCasePermutation(self, s: str) -> List[str]:\n",
    "        result = []\n",
    "        \n",
    "        def dfs(path, arr):\n",
    "            if arr.isdigit() or not arr: result.append(path+arr)\n",
    "            new_val, idx_cnt = '', 0\n",
    "            for idx, val in enumerate(arr):\n",
    "                if val.isdigit():\n",
    "                    new_val+=val\n",
    "                    idx_cnt+=1\n",
    "                else:\n",
    "                    dfs(path+new_val+val.lower(), arr[idx_cnt:idx]+arr[idx+1:])\n",
    "                    dfs(path+new_val+val.upper(), arr[idx_cnt:idx]+arr[idx+1:])\n",
    "                    break        \n",
    "        dfs(\"\", s)\n",
    "        return result        "
   ]
  },
  {
   "cell_type": "code",
   "execution_count": 145,
   "metadata": {},
   "outputs": [],
   "source": [
    "# Approach-2:\n",
    "class Solution(object):\n",
    "    def letterCasePermutation(self, S):\n",
    "        def backtrack(sub=\"\", i=0):\n",
    "            if len(sub) == len(S):\n",
    "                res.append(sub)\n",
    "            else:\n",
    "                if S[i].isalpha():\n",
    "                    backtrack(sub + S[i].swapcase(), i + 1)\n",
    "                backtrack(sub + S[i], i + 1)\n",
    "                \n",
    "        res = []\n",
    "        backtrack()\n",
    "        return res"
   ]
  },
  {
   "cell_type": "code",
   "execution_count": 146,
   "metadata": {},
   "outputs": [
    {
     "data": {
      "text/plain": [
       "['A1B2', 'A1b2', 'a1B2', 'a1b2']"
      ]
     },
     "execution_count": 146,
     "metadata": {},
     "output_type": "execute_result"
    }
   ],
   "source": [
    "s = \"a1b2\"\n",
    "#s = \"3z4\"\n",
    "#s = 'C'\n",
    "Solution().letterCasePermutation(s)"
   ]
  },
  {
   "attachments": {},
   "cell_type": "markdown",
   "metadata": {},
   "source": [
    "#### 5. [1286]. Iterator for Combination"
   ]
  },
  {
   "cell_type": "code",
   "execution_count": 201,
   "metadata": {},
   "outputs": [],
   "source": [
    "class CombinationIterator:\n",
    "    def __init__(self, characters: str, combinationLength: int):\n",
    "        self.allCombinations = list(combinations(characters, combinationLength))\n",
    "        self.count = 0\n",
    "\n",
    "    def next(self) -> str:\n",
    "        self.count += 1\n",
    "        return \"\".join(self.allCombinations[self.count-1])\n",
    "        \n",
    "    def hasNext(self) -> bool:\n",
    "        return self.count < len(self.allCombinations)"
   ]
  },
  {
   "cell_type": "code",
   "execution_count": 202,
   "metadata": {},
   "outputs": [
    {
     "name": "stdout",
     "output_type": "stream",
     "text": [
      "True gko True True gks gku True True True\n"
     ]
    }
   ],
   "source": [
    "# [\"CombinationIterator\",\"hasNext\",\"next\",\"hasNext\",\"hasNext\",\"next\",\"next\",\"hasNext\",\"hasNext\",\"hasNext\",\"hasNext\"]\n",
    "# [[\"chp\",1],[],[],[],[],[],[],[],[],[],[]]\n",
    "#[true,\"c\",true,true,\"c\",\"c\",true,true,true,true]\n",
    "\n",
    "characters, combinationLength = \"gkosu\", 3\n",
    "obj = CombinationIterator(characters, combinationLength)\n",
    "print(obj.hasNext(),obj.next(),obj.hasNext(),obj.hasNext(),obj.next(),obj.next(),obj.hasNext(),obj.hasNext(),obj.hasNext())"
   ]
  },
  {
   "cell_type": "code",
   "execution_count": null,
   "metadata": {},
   "outputs": [],
   "source": []
  },
  {
   "cell_type": "code",
   "execution_count": null,
   "metadata": {},
   "outputs": [],
   "source": []
  },
  {
   "cell_type": "code",
   "execution_count": null,
   "metadata": {},
   "outputs": [],
   "source": []
  },
  {
   "cell_type": "code",
   "execution_count": null,
   "metadata": {},
   "outputs": [],
   "source": []
  },
  {
   "cell_type": "code",
   "execution_count": null,
   "metadata": {},
   "outputs": [],
   "source": []
  }
 ],
 "metadata": {
  "kernelspec": {
   "display_name": "Python 3.9.13 ('base')",
   "language": "python",
   "name": "python3"
  },
  "language_info": {
   "codemirror_mode": {
    "name": "ipython",
    "version": 3
   },
   "file_extension": ".py",
   "mimetype": "text/x-python",
   "name": "python",
   "nbconvert_exporter": "python",
   "pygments_lexer": "ipython3",
   "version": "3.9.13"
  },
  "orig_nbformat": 4,
  "vscode": {
   "interpreter": {
    "hash": "fecfa28de78ead09ec2989a580469213059448baba5e0b02aeeb7641afb84221"
   }
  }
 },
 "nbformat": 4,
 "nbformat_minor": 2
}
