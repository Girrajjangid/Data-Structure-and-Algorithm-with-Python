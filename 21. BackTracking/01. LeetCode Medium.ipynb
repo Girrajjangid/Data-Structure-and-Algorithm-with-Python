{
 "cells": [
  {
   "attachments": {},
   "cell_type": "markdown",
   "metadata": {},
   "source": [
    "#### 1. [1863]. Sum of All Subset XOR Totals"
   ]
  },
  {
   "cell_type": "code",
   "execution_count": 3,
   "metadata": {},
   "outputs": [],
   "source": [
    "from functools import reduce\n",
    "from itertools import combinations, permutations\n",
    "from typing import List"
   ]
  },
  {
   "cell_type": "code",
   "execution_count": 44,
   "metadata": {},
   "outputs": [],
   "source": [
    "class Solution:\n",
    "    def subsetXORSum(self, nums: List[int]) -> int:\n",
    "        return sum(sum(reduce(lambda a,b:a^b, j) for j in combinations(nums,i)) for i in range(1,len(nums)+1))"
   ]
  },
  {
   "cell_type": "code",
   "execution_count": 45,
   "metadata": {},
   "outputs": [
    {
     "data": {
      "text/plain": [
       "480"
      ]
     },
     "execution_count": 45,
     "metadata": {},
     "output_type": "execute_result"
    }
   ],
   "source": [
    "nums = [5,1,6]\n",
    "nums = [3,4,5,6,7,8]\n",
    "Solution().subsetXORSum(nums)"
   ]
  },
  {
   "attachments": {},
   "cell_type": "markdown",
   "metadata": {},
   "source": [
    "#### 2. [1079]. Letter Tile Possibilities"
   ]
  },
  {
   "cell_type": "code",
   "execution_count": 75,
   "metadata": {},
   "outputs": [],
   "source": [
    "from itertools import permutations\n",
    "\n",
    "class Solution:\n",
    "    def numTilePossibilities(self, tiles: str) -> int:\n",
    "        return sum(len(set(permutations(tiles,i))) for i in range(1,len(tiles)+1))"
   ]
  },
  {
   "cell_type": "code",
   "execution_count": 80,
   "metadata": {},
   "outputs": [],
   "source": [
    "from functools import cache\n",
    "# Approach-2: DFS\n",
    "class Solution(object):\n",
    "    def numTilePossibilities(self, tiles):\n",
    "        \"\"\"\n",
    "        :type tiles: str\n",
    "        :rtype: int\n",
    "        \"\"\"\n",
    "        res = set()\n",
    "        @cache\n",
    "        def dfs(path, t):\n",
    "            if path:\n",
    "                res.add(path)\n",
    "            for i in range(len(t)):\n",
    "                dfs(path+t[i], t[:i] + t[i+1:])\n",
    "                \n",
    "        dfs('', tiles)\n",
    "        return len(res)"
   ]
  },
  {
   "cell_type": "code",
   "execution_count": 81,
   "metadata": {},
   "outputs": [
    {
     "data": {
      "text/plain": [
       "1"
      ]
     },
     "execution_count": 81,
     "metadata": {},
     "output_type": "execute_result"
    }
   ],
   "source": [
    "tiles = 'AAB'\n",
    "tiles = 'V'\n",
    "Solution().numTilePossibilities(tiles)"
   ]
  },
  {
   "attachments": {},
   "cell_type": "markdown",
   "metadata": {},
   "source": [
    "#### 3. [46]. Permutations"
   ]
  },
  {
   "cell_type": "code",
   "execution_count": 90,
   "metadata": {},
   "outputs": [],
   "source": [
    "class Solution:\n",
    "    def permute(self, nums: List[int]) -> List[List[int]]:\n",
    "        result = []\n",
    "        \n",
    "        def dfs(path, arr):\n",
    "            if not arr: result.append(path)\n",
    "            for idx, val in enumerate(arr):\n",
    "                dfs(path+[val], arr[:idx]+arr[idx+1:])\n",
    "        \n",
    "        dfs([], nums)\n",
    "        return result\n",
    "        "
   ]
  },
  {
   "cell_type": "code",
   "execution_count": 92,
   "metadata": {},
   "outputs": [
    {
     "data": {
      "text/plain": [
       "[[1, 2, 3], [1, 3, 2], [2, 1, 3], [2, 3, 1], [3, 1, 2], [3, 2, 1]]"
      ]
     },
     "execution_count": 92,
     "metadata": {},
     "output_type": "execute_result"
    }
   ],
   "source": [
    "nums = [1,2,3]\n",
    "#nums = [0,1]\n",
    "#nums = [1]\n",
    "Solution().permute(nums)\n"
   ]
  },
  {
   "attachments": {},
   "cell_type": "markdown",
   "metadata": {},
   "source": [
    "#### 4. [784]. Letter Case Permutation"
   ]
  },
  {
   "cell_type": "code",
   "execution_count": 144,
   "metadata": {},
   "outputs": [],
   "source": [
    "class Solution:\n",
    "    def letterCasePermutation(self, s: str) -> List[str]:\n",
    "        result = []\n",
    "        \n",
    "        def dfs(path, arr):\n",
    "            if arr.isdigit() or not arr: result.append(path+arr)\n",
    "            new_val, idx_cnt = '', 0\n",
    "            for idx, val in enumerate(arr):\n",
    "                if val.isdigit():\n",
    "                    new_val+=val\n",
    "                    idx_cnt+=1\n",
    "                else:\n",
    "                    dfs(path+new_val+val.lower(), arr[idx_cnt:idx]+arr[idx+1:])\n",
    "                    dfs(path+new_val+val.upper(), arr[idx_cnt:idx]+arr[idx+1:])\n",
    "                    break        \n",
    "        dfs(\"\", s)\n",
    "        return result        "
   ]
  },
  {
   "cell_type": "code",
   "execution_count": 145,
   "metadata": {},
   "outputs": [],
   "source": [
    "# Approach-2:\n",
    "class Solution(object):\n",
    "    def letterCasePermutation(self, S):\n",
    "        def backtrack(sub=\"\", i=0):\n",
    "            if len(sub) == len(S):\n",
    "                res.append(sub)\n",
    "            else:\n",
    "                if S[i].isalpha():\n",
    "                    backtrack(sub + S[i].swapcase(), i + 1)\n",
    "                backtrack(sub + S[i], i + 1)\n",
    "                \n",
    "        res = []\n",
    "        backtrack()\n",
    "        return res"
   ]
  },
  {
   "cell_type": "code",
   "execution_count": 146,
   "metadata": {},
   "outputs": [
    {
     "data": {
      "text/plain": [
       "['A1B2', 'A1b2', 'a1B2', 'a1b2']"
      ]
     },
     "execution_count": 146,
     "metadata": {},
     "output_type": "execute_result"
    }
   ],
   "source": [
    "s = \"a1b2\"\n",
    "#s = \"3z4\"\n",
    "#s = 'C'\n",
    "Solution().letterCasePermutation(s)"
   ]
  },
  {
   "attachments": {},
   "cell_type": "markdown",
   "metadata": {},
   "source": [
    "#### 5. [1286]. Iterator for Combination"
   ]
  },
  {
   "cell_type": "code",
   "execution_count": 201,
   "metadata": {},
   "outputs": [],
   "source": [
    "class CombinationIterator:\n",
    "    def __init__(self, characters: str, combinationLength: int):\n",
    "        self.allCombinations = list(combinations(characters, combinationLength))\n",
    "        self.count = 0\n",
    "\n",
    "    def next(self) -> str:\n",
    "        self.count += 1\n",
    "        return \"\".join(self.allCombinations[self.count-1])\n",
    "        \n",
    "    def hasNext(self) -> bool:\n",
    "        return self.count < len(self.allCombinations)"
   ]
  },
  {
   "cell_type": "code",
   "execution_count": 202,
   "metadata": {},
   "outputs": [
    {
     "name": "stdout",
     "output_type": "stream",
     "text": [
      "True gko True True gks gku True True True\n"
     ]
    }
   ],
   "source": [
    "# [\"CombinationIterator\",\"hasNext\",\"next\",\"hasNext\",\"hasNext\",\"next\",\"next\",\"hasNext\",\"hasNext\",\"hasNext\",\"hasNext\"]\n",
    "# [[\"chp\",1],[],[],[],[],[],[],[],[],[],[]]\n",
    "#[true,\"c\",true,true,\"c\",\"c\",true,true,true,true]\n",
    "\n",
    "characters, combinationLength = \"gkosu\", 3\n",
    "obj = CombinationIterator(characters, combinationLength)\n",
    "print(obj.hasNext(),obj.next(),obj.hasNext(),obj.hasNext(),obj.next(),obj.next(),obj.hasNext(),obj.hasNext(),obj.hasNext())"
   ]
  },
  {
   "attachments": {},
   "cell_type": "markdown",
   "metadata": {},
   "source": [
    "#### 6. [526]. Beautiful Arrangement"
   ]
  },
  {
   "cell_type": "code",
   "execution_count": 88,
   "metadata": {},
   "outputs": [],
   "source": [
    "class Solution:\n",
    "    def countArrangement(self, n: int) -> int:\n",
    "        arr = list(range(1,n+1))\n",
    "        result = 0\n",
    "        def dfs(temp_arr, path_len):\n",
    "            nonlocal result\n",
    "            if not temp_arr: result+=1\n",
    "            for idx, val in enumerate(temp_arr):\n",
    "                if (val%(1+path_len))==0 or ((1+path_len)%val)==0:\n",
    "                    dfs(temp_arr[:idx]+temp_arr[idx+1:], path_len+1)\n",
    "                \n",
    "        dfs(arr, 0)\n",
    "        return result"
   ]
  },
  {
   "cell_type": "code",
   "execution_count": 89,
   "metadata": {},
   "outputs": [
    {
     "data": {
      "text/plain": [
       "41"
      ]
     },
     "execution_count": 89,
     "metadata": {},
     "output_type": "execute_result"
    }
   ],
   "source": [
    "n = 7\n",
    "Solution().countArrangement(n)"
   ]
  },
  {
   "attachments": {},
   "cell_type": "markdown",
   "metadata": {},
   "source": [
    "#### 7. [216]. Combination Sum III"
   ]
  },
  {
   "cell_type": "code",
   "execution_count": 90,
   "metadata": {},
   "outputs": [],
   "source": [
    "from typing import List\n",
    "\n",
    "class Solution:\n",
    "    def combinationSum3(self, k: int, n: int) -> List[List[int]]:\n",
    "        \n",
    "        result = []\n",
    "        def dfs(path, arr, no_count, remain_sum):\n",
    "            if no_count==0 and remain_sum==0:\n",
    "                result.append(path)\n",
    "            for idx, val in enumerate(arr):\n",
    "                dfs(path+[val], arr[idx+1:], no_count-1, remain_sum-val)            \n",
    "        dfs([], list(range(1,10)), k,n)\n",
    "        return result\n",
    "            "
   ]
  },
  {
   "cell_type": "code",
   "execution_count": 91,
   "metadata": {},
   "outputs": [
    {
     "data": {
      "text/plain": [
       "[[1, 2, 6], [1, 3, 5], [2, 3, 4]]"
      ]
     },
     "execution_count": 91,
     "metadata": {},
     "output_type": "execute_result"
    }
   ],
   "source": [
    "k = 3; n = 7\n",
    "k = 3; n = 9\n",
    "Solution().combinationSum3(k,n)"
   ]
  },
  {
   "attachments": {},
   "cell_type": "markdown",
   "metadata": {},
   "source": [
    "#### 8. [39]. Combination Sum"
   ]
  },
  {
   "cell_type": "code",
   "execution_count": 92,
   "metadata": {},
   "outputs": [],
   "source": [
    "class Solution:\n",
    "    def combinationSum(self, candidates: List[int], target: int) -> List[List[int]]:\n",
    "        res = []\n",
    "        \n",
    "        def dfs(i, curr, total):\n",
    "            if total==target: \n",
    "                res.append(curr.copy())\n",
    "                return \n",
    "            if i>=len(candidates) or total > target: return \n",
    "            curr.append(candidates[i])\n",
    "            dfs(i, curr, total + candidates[i])\n",
    "            curr.pop()\n",
    "            dfs(i+1, curr, total)\n",
    "        \n",
    "        dfs(0, [], 0)\n",
    "        return res        \n"
   ]
  },
  {
   "cell_type": "code",
   "execution_count": 93,
   "metadata": {},
   "outputs": [
    {
     "data": {
      "text/plain": [
       "[[18, 18, 2, 2],\n",
       " [18, 2, 2, 2, 2, 2, 2, 2, 2, 2, 2, 2],\n",
       " [18, 2, 2, 2, 2, 2, 2, 2, 2, 6],\n",
       " [18, 2, 2, 2, 2, 2, 6, 6],\n",
       " [18, 2, 2, 2, 16],\n",
       " [18, 2, 2, 6, 6, 6],\n",
       " [18, 16, 6],\n",
       " [34, 2, 2, 2],\n",
       " [34, 6],\n",
       " [2, 2, 2, 2, 2, 2, 2, 2, 2, 2, 2, 2, 2, 2, 2, 2, 2, 2, 2, 2],\n",
       " [2, 2, 2, 2, 2, 2, 2, 2, 2, 2, 2, 2, 2, 2, 2, 2, 2, 6],\n",
       " [2, 2, 2, 2, 2, 2, 2, 2, 2, 2, 2, 2, 2, 2, 6, 6],\n",
       " [2, 2, 2, 2, 2, 2, 2, 2, 2, 2, 2, 2, 16],\n",
       " [2, 2, 2, 2, 2, 2, 2, 2, 2, 2, 2, 6, 6, 6],\n",
       " [2, 2, 2, 2, 2, 2, 2, 2, 2, 16, 6],\n",
       " [2, 2, 2, 2, 2, 2, 2, 2, 6, 6, 6, 6],\n",
       " [2, 2, 2, 2, 2, 2, 16, 6, 6],\n",
       " [2, 2, 2, 2, 2, 6, 6, 6, 6, 6],\n",
       " [2, 2, 2, 2, 16, 16],\n",
       " [2, 2, 2, 16, 6, 6, 6],\n",
       " [2, 2, 6, 6, 6, 6, 6, 6],\n",
       " [2, 16, 16, 6],\n",
       " [16, 6, 6, 6, 6]]"
      ]
     },
     "execution_count": 93,
     "metadata": {},
     "output_type": "execute_result"
    }
   ],
   "source": [
    "candidates = [2,3,6,7]; target = 7\n",
    "candidates = [5,10,8,4,3,12,9]; target = 27\n",
    "candidates = [18,34,2,16,25,6,35]; target = 40\n",
    "Solution().combinationSum(candidates, target)"
   ]
  },
  {
   "attachments": {},
   "cell_type": "markdown",
   "metadata": {},
   "source": [
    "#### 9. [77]. Combinations"
   ]
  },
  {
   "cell_type": "code",
   "execution_count": 94,
   "metadata": {},
   "outputs": [],
   "source": [
    "class Solution:\n",
    "    def combine(self, n: int, k: int) -> List[List[int]]:\n",
    "            \n",
    "        result = []\n",
    "        def dfs(path, arr, path_len):\n",
    "            if path_len==k: \n",
    "                result.append(path)\n",
    "                return\n",
    "            for idx, val in enumerate(arr):\n",
    "                dfs(path+[val], arr[idx+1:], path_len+1)            \n",
    "        dfs([], list(range(1,n+1)), 0)\n",
    "        return result\n",
    "            "
   ]
  },
  {
   "cell_type": "code",
   "execution_count": 95,
   "metadata": {},
   "outputs": [
    {
     "data": {
      "text/plain": [
       "[[1, 2], [1, 3], [1, 4], [2, 3], [2, 4], [3, 4]]"
      ]
     },
     "execution_count": 95,
     "metadata": {},
     "output_type": "execute_result"
    }
   ],
   "source": [
    "n = 4; k = 2\n",
    "Solution().combine(n,k)"
   ]
  },
  {
   "attachments": {},
   "cell_type": "markdown",
   "metadata": {},
   "source": [
    "#### 10. [257]. Binary Tree Paths"
   ]
  },
  {
   "cell_type": "code",
   "execution_count": 106,
   "metadata": {},
   "outputs": [],
   "source": [
    "from typing import Optional\n",
    "\n",
    "# Definition for a binary tree node.\n",
    "class TreeNode:\n",
    "    def __init__(self, val=0, left=None, right=None):\n",
    "        self.val = val\n",
    "        self.left = left\n",
    "        self.right = right\n",
    "\n",
    "class Solution:\n",
    "    def binaryTreePaths(self, root: Optional[TreeNode]) -> List[str]:\n",
    "        \n",
    "        res = []\n",
    "        def dfs(path, node):\n",
    "            if node is None: return None\n",
    "            if node.left is None and node.right is None:\n",
    "                new_path = path + \"->\"+ str(node.val) if path else str(node.val)\n",
    "                res.append(new_path)\n",
    "                return None\n",
    "            new_path = path + \"->\"+ str(node.val) if path else str(node.val) \n",
    "            res_left  = dfs(new_path, node.left)\n",
    "            res_right = dfs(new_path, node.right)\n",
    "            if res_left: res.append(res_left)\n",
    "            if res_right: res.append(res_right)   \n",
    "            \n",
    "        dfs(\"\", root)\n",
    "        \n",
    "        return res"
   ]
  },
  {
   "cell_type": "code",
   "execution_count": null,
   "metadata": {},
   "outputs": [],
   "source": [
    "root = [1,2,3, None, 5]\n",
    "Solution().binaryTreePaths(root)"
   ]
  },
  {
   "attachments": {},
   "cell_type": "markdown",
   "metadata": {},
   "source": [
    "#### 11. [1980]. Find Unique Binary String"
   ]
  },
  {
   "cell_type": "code",
   "execution_count": 98,
   "metadata": {},
   "outputs": [],
   "source": [
    "from typing import List\n",
    "\n",
    "class Solution:\n",
    "    def findDifferentBinaryString(self, nums: List[str]) -> str:\n",
    "        t = [int(i,2) for i in nums]\n",
    "        for i in range(int('1'*len(nums),2)+1):\n",
    "            if i not in t: return bin(i)[2:].zfill(len(nums))"
   ]
  },
  {
   "cell_type": "code",
   "execution_count": 99,
   "metadata": {},
   "outputs": [
    {
     "data": {
      "text/plain": [
       "'000'"
      ]
     },
     "execution_count": 99,
     "metadata": {},
     "output_type": "execute_result"
    }
   ],
   "source": [
    "nums = [\"111\",\"011\",\"001\"]\n",
    "#nums = [\"00\",\"01\"]\n",
    "#nums = ['0']\n",
    "Solution().findDifferentBinaryString(nums)"
   ]
  },
  {
   "attachments": {},
   "cell_type": "markdown",
   "metadata": {},
   "source": [
    "#### 12. [51]. N-Queens"
   ]
  },
  {
   "cell_type": "code",
   "execution_count": 100,
   "metadata": {},
   "outputs": [],
   "source": [
    "class Solution:\n",
    "    def solveNQueens(self, n: int) -> List[List[str]]:\n",
    "        col = set()\n",
    "        posDiag = set()\n",
    "        negDiag = set()\n",
    "        res = []\n",
    "        board = [['.']*n for i in range(n)]\n",
    "        def dfs(r):\n",
    "            if r==n:\n",
    "                copy = [\"\".join(row) for row in board]\n",
    "                res.append(copy)\n",
    "                return \n",
    "\n",
    "            for c in range(n):\n",
    "                if c in col or (r+c) in posDiag or (r-c) in negDiag:\n",
    "                    continue\n",
    "                col.add(c)\n",
    "                posDiag.add(r+c)\n",
    "                negDiag.add(r-c)\n",
    "                board[r][c] = 'Q'\n",
    "                dfs(r+1)\n",
    "                \n",
    "                col.remove(c)\n",
    "                posDiag.remove(r+c)\n",
    "                negDiag.remove(r-c)\n",
    "                board[r][c] = '.'\n",
    "        dfs(0)\n",
    "        return res                \n",
    "            \n"
   ]
  },
  {
   "cell_type": "code",
   "execution_count": 101,
   "metadata": {},
   "outputs": [],
   "source": [
    "# Approach-2:\n",
    "\n",
    "class Solution:\n",
    "    def solveNQueens(self, n: int) -> List[List[str]]:\n",
    "\n",
    "        res = []\n",
    "        \n",
    "        def dfs(r, col, negDiag, posDiag, path):\n",
    "            if r == n: \n",
    "                res.append(path)\n",
    "                return \n",
    "\n",
    "            curr_path = ''\n",
    "            for c in range(n):\n",
    "                if c not in col and r-c not in negDiag and r+c not in posDiag:\n",
    "                    dfs(r+1, col|{c}, negDiag|{r-c}, posDiag|{r+c}, path + [curr_path + 'Q' + '.' * (n-c-1)])\n",
    "                curr_path += '.'\n",
    "\n",
    "        dfs(0, set(), set(), set(), [])\n",
    "\n",
    "        return res"
   ]
  },
  {
   "cell_type": "code",
   "execution_count": 102,
   "metadata": {},
   "outputs": [],
   "source": [
    "q = set([1,2,3])\n",
    "q.add(3)\n"
   ]
  },
  {
   "cell_type": "code",
   "execution_count": 103,
   "metadata": {},
   "outputs": [
    {
     "data": {
      "text/plain": [
       "[['Q....', '..Q..', '....Q', '.Q...', '...Q.'],\n",
       " ['Q....', '...Q.', '.Q...', '....Q', '..Q..'],\n",
       " ['.Q...', '...Q.', 'Q....', '..Q..', '....Q'],\n",
       " ['.Q...', '....Q', '..Q..', 'Q....', '...Q.'],\n",
       " ['..Q..', 'Q....', '...Q.', '.Q...', '....Q'],\n",
       " ['..Q..', '....Q', '.Q...', '...Q.', 'Q....'],\n",
       " ['...Q.', 'Q....', '..Q..', '....Q', '.Q...'],\n",
       " ['...Q.', '.Q...', '....Q', '..Q..', 'Q....'],\n",
       " ['....Q', '.Q...', '...Q.', 'Q....', '..Q..'],\n",
       " ['....Q', '..Q..', 'Q....', '...Q.', '.Q...']]"
      ]
     },
     "execution_count": 103,
     "metadata": {},
     "output_type": "execute_result"
    }
   ],
   "source": [
    "n = 5\n",
    "Solution().solveNQueens(n)"
   ]
  },
  {
   "attachments": {},
   "cell_type": "markdown",
   "metadata": {},
   "source": [
    "#### 13. [52]. N-Queens II"
   ]
  },
  {
   "cell_type": "code",
   "execution_count": 104,
   "metadata": {},
   "outputs": [],
   "source": [
    "class Solution:\n",
    "    def totalNQueens(self, n: int) -> int:\n",
    "\n",
    "        res = 0        \n",
    "        def dfs(r, col, negDiag, posDiag):\n",
    "            nonlocal res\n",
    "            if r == n: \n",
    "                res+=1\n",
    "                return \n",
    "            for c in range(n):\n",
    "                if c not in col and r-c not in negDiag and r+c not in posDiag:\n",
    "                    dfs(r+1, col|{c}, negDiag|{r-c}, posDiag|{r+c})\n",
    "        dfs(0, set(), set(), set())\n",
    "        return res"
   ]
  },
  {
   "cell_type": "code",
   "execution_count": 105,
   "metadata": {},
   "outputs": [
    {
     "data": {
      "text/plain": [
       "10"
      ]
     },
     "execution_count": 105,
     "metadata": {},
     "output_type": "execute_result"
    }
   ],
   "source": [
    "n = 5\n",
    "Solution().totalNQueens(n)"
   ]
  },
  {
   "attachments": {},
   "cell_type": "markdown",
   "metadata": {},
   "source": [
    "#### 14."
   ]
  },
  {
   "cell_type": "code",
   "execution_count": null,
   "metadata": {},
   "outputs": [],
   "source": []
  },
  {
   "cell_type": "code",
   "execution_count": null,
   "metadata": {},
   "outputs": [],
   "source": []
  },
  {
   "attachments": {},
   "cell_type": "markdown",
   "metadata": {},
   "source": [
    "#### 15."
   ]
  },
  {
   "cell_type": "code",
   "execution_count": null,
   "metadata": {},
   "outputs": [],
   "source": []
  },
  {
   "cell_type": "code",
   "execution_count": null,
   "metadata": {},
   "outputs": [],
   "source": []
  },
  {
   "cell_type": "code",
   "execution_count": null,
   "metadata": {},
   "outputs": [],
   "source": []
  },
  {
   "cell_type": "code",
   "execution_count": null,
   "metadata": {},
   "outputs": [],
   "source": []
  }
 ],
 "metadata": {
  "kernelspec": {
   "display_name": "Python 3.9.13 ('base')",
   "language": "python",
   "name": "python3"
  },
  "language_info": {
   "codemirror_mode": {
    "name": "ipython",
    "version": 3
   },
   "file_extension": ".py",
   "mimetype": "text/x-python",
   "name": "python",
   "nbconvert_exporter": "python",
   "pygments_lexer": "ipython3",
   "version": "3.9.13"
  },
  "orig_nbformat": 4,
  "vscode": {
   "interpreter": {
    "hash": "fecfa28de78ead09ec2989a580469213059448baba5e0b02aeeb7641afb84221"
   }
  }
 },
 "nbformat": 4,
 "nbformat_minor": 2
}
