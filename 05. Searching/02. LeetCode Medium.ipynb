{
 "cells": [
  {
   "cell_type": "markdown",
   "metadata": {},
   "source": [
    "#### 1. Two Sum II - Input Array Is Sorted"
   ]
  },
  {
   "cell_type": "code",
   "execution_count": 1,
   "metadata": {},
   "outputs": [],
   "source": [
    "from typing import List, Optional"
   ]
  },
  {
   "cell_type": "code",
   "execution_count": 8,
   "metadata": {},
   "outputs": [],
   "source": [
    "# Approach-1: This approach takes O(N-1) space\n",
    "class Solution:\n",
    "    def twoSum(self, numbers: List[int], target: int) -> List[int]:\n",
    "        d = {}\n",
    "        for idx, val in enumerate(numbers):\n",
    "            if d.get(target-val,0):\n",
    "                return [d.get(target-val), idx+1]\n",
    "            else:\n",
    "                d[val] = idx+1 "
   ]
  },
  {
   "cell_type": "code",
   "execution_count": 25,
   "metadata": {},
   "outputs": [],
   "source": [
    "class Solution:\n",
    "    def twoSum(self, numbers: List[int], target: int) -> List[int]:\n",
    "        l,r = 0, len(numbers)-1\n",
    "        while l<r:\n",
    "            sum_ = numbers[l]+numbers[r]\n",
    "            if sum_ == target: return [l+1, r+1]\n",
    "            elif target<sum_:\n",
    "                r-=1\n",
    "            else:\n",
    "                l+=1"
   ]
  },
  {
   "cell_type": "code",
   "execution_count": 26,
   "metadata": {},
   "outputs": [
    {
     "data": {
      "text/plain": [
       "[1, 2]"
      ]
     },
     "execution_count": 26,
     "metadata": {},
     "output_type": "execute_result"
    }
   ],
   "source": [
    "numbers = [2,7,11,15]; target = 9\n",
    "#numbers = [2,3,4]; target = 6\n",
    "#numbers = [-1,0]; target = -1\n",
    "numbers = [0,0,3,4]; target = 0\n",
    "Solution().twoSum(numbers, target)"
   ]
  },
  {
   "cell_type": "markdown",
   "metadata": {},
   "source": [
    "#### 2. Maximum Distance Between a Pair of Values"
   ]
  },
  {
   "cell_type": "code",
   "execution_count": 46,
   "metadata": {},
   "outputs": [],
   "source": [
    "class Solution:\n",
    "    def maxDistance(self, nums1: List[int], nums2: List[int]) -> int:\n",
    "        length1 = len(nums1)\n",
    "        length2 = len(nums2)\n",
    "        if not (length1 and length2): return 0\n",
    "        max_distance = float('-inf')\n",
    "        for idx, val in enumerate(nums1):\n",
    "            if idx <= length2-1:\n",
    "                if val<=nums2[idx]:\n",
    "                    l,r = idx, length2-1\n",
    "                    while l<=r:\n",
    "                        mid = (l+r)//2\n",
    "                        if nums2[mid] < val:\n",
    "                            r = mid-1\n",
    "                        else:\n",
    "                            l = mid+1\n",
    "                    max_distance = max(max_distance, r-idx)\n",
    "            else:\n",
    "                break\n",
    "        return 0 if max_distance==float('-inf') else max_distance\n",
    "        "
   ]
  },
  {
   "cell_type": "code",
   "execution_count": 50,
   "metadata": {},
   "outputs": [],
   "source": [
    "class Solution:\n",
    "    def maxDistance(self, nums1: List[int], nums2: List[int]) -> int:\n",
    "        n1, n2 = len(nums1), len(nums2)\n",
    "        res = p1 = p2 = 0        \n",
    "        while p1 < n1 and p2 < n2:\n",
    "            if nums2[p2] >= nums1[p1]:\n",
    "                res = p2 - p1\n",
    "                print(res)\n",
    "            else: p1 += 1\n",
    "            p2 += 1\n",
    "        return res"
   ]
  },
  {
   "cell_type": "code",
   "execution_count": 51,
   "metadata": {},
   "outputs": [
    {
     "name": "stdout",
     "output_type": "stream",
     "text": [
      "0\n",
      "1\n",
      "2\n"
     ]
    },
    {
     "data": {
      "text/plain": [
       "2"
      ]
     },
     "execution_count": 51,
     "metadata": {},
     "output_type": "execute_result"
    }
   ],
   "source": [
    "nums1 = [55,30,5,4,2]; nums2 = [100,20,10,10,5]\n",
    "nums1 = [2,2,2]; nums2 = [10,10,1]\n",
    "nums1 = [30,29,19,5]; nums2 = [25,25,25,25,25]\n",
    "nums1 = [9819,9508,7398,7347,6337,5756,5493,5446,5123,3215,1597,774,368,313]\n",
    "nums2 = [9933,9813,9770,9697,9514,9490,9441,9439,8939,8754,8665,8560]\n",
    "nums1 = [55,30,25,10]; nums2=[60,60,60,20]\n",
    "Solution().maxDistance(nums1, nums2)"
   ]
  },
  {
   "cell_type": "code",
   "execution_count": null,
   "metadata": {},
   "outputs": [],
   "source": []
  },
  {
   "cell_type": "code",
   "execution_count": null,
   "metadata": {},
   "outputs": [],
   "source": []
  },
  {
   "cell_type": "code",
   "execution_count": null,
   "metadata": {},
   "outputs": [],
   "source": []
  },
  {
   "cell_type": "code",
   "execution_count": null,
   "metadata": {},
   "outputs": [],
   "source": []
  },
  {
   "cell_type": "code",
   "execution_count": null,
   "metadata": {},
   "outputs": [],
   "source": []
  },
  {
   "cell_type": "code",
   "execution_count": null,
   "metadata": {},
   "outputs": [],
   "source": []
  },
  {
   "cell_type": "code",
   "execution_count": null,
   "metadata": {},
   "outputs": [],
   "source": []
  }
 ],
 "metadata": {
  "kernelspec": {
   "display_name": "Python 3.8.8 ('base')",
   "language": "python",
   "name": "python3"
  },
  "language_info": {
   "codemirror_mode": {
    "name": "ipython",
    "version": 3
   },
   "file_extension": ".py",
   "mimetype": "text/x-python",
   "name": "python",
   "nbconvert_exporter": "python",
   "pygments_lexer": "ipython3",
   "version": "3.8.8"
  },
  "orig_nbformat": 4,
  "vscode": {
   "interpreter": {
    "hash": "ad2bdc8ecc057115af97d19610ffacc2b4e99fae6737bb82f5d7fb13d2f2c186"
   }
  }
 },
 "nbformat": 4,
 "nbformat_minor": 2
}
