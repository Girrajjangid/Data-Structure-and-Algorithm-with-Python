{
 "cells": [
  {
   "cell_type": "code",
   "execution_count": 1,
   "metadata": {},
   "outputs": [],
   "source": [
    "from typing import List , Dict"
   ]
  },
  {
   "cell_type": "code",
   "execution_count": 76,
   "metadata": {},
   "outputs": [],
   "source": [
    "from sortedcontainers import SortedDict\n",
    "\n",
    "\n",
    "class MyCalendarThree:\n",
    "\n",
    "    def __init__(self):\n",
    "        self.diff = SortedDict()\n",
    "\n",
    "    def book(self, start: int, end: int) -> int:\n",
    "        self.diff[start] = self.diff.get(start, 0) + 1\n",
    "        self.diff[end] = self.diff.get(end, 0) - 1\n",
    "        cur = res = 0\n",
    "        for delta in self.diff.values():\n",
    "            cur += delta\n",
    "            res = max(cur, res)\n",
    "        return res"
   ]
  },
  {
   "cell_type": "code",
   "execution_count": 77,
   "metadata": {},
   "outputs": [
    {
     "name": "stdout",
     "output_type": "stream",
     "text": [
      "1\n",
      "1\n",
      "2\n",
      "3\n",
      "3\n",
      "3\n"
     ]
    },
    {
     "data": {
      "text/plain": [
       "SortedDict({5: 2, 10: 1, 15: -1, 20: -1, 25: 1, 40: -1, 50: 1, 55: -1, 60: -1})"
      ]
     },
     "execution_count": 77,
     "metadata": {},
     "output_type": "execute_result"
    }
   ],
   "source": [
    "# Your MyCalendarThree object will be instantiated and called as such:\n",
    "# Input\n",
    "# [\"MyCalendarThree\", \"book\", \"book\", \"book\", \"book\", \"book\", \"book\"]\n",
    "# [[], [10, 20], [50, 60], [10, 40], [5, 15], [5, 10], [25, 55]]\n",
    "# Output\n",
    "# [null, 1, 1, 2, 3, 3, 3]\n",
    "obj = MyCalendarThree()\n",
    "print(obj.book(10,20))\n",
    "print(obj.book(50,60))\n",
    "print(obj.book(10,40))\n",
    "print(obj.book(5,15))\n",
    "print(obj.book(5,10))\n",
    "print(obj.book(25,55))\n",
    "obj.diff"
   ]
  }
 ],
 "metadata": {
  "kernelspec": {
   "display_name": "Python 3.8.8 ('base')",
   "language": "python",
   "name": "python3"
  },
  "language_info": {
   "codemirror_mode": {
    "name": "ipython",
    "version": 3
   },
   "file_extension": ".py",
   "mimetype": "text/x-python",
   "name": "python",
   "nbconvert_exporter": "python",
   "pygments_lexer": "ipython3",
   "version": "3.8.8"
  },
  "orig_nbformat": 4,
  "vscode": {
   "interpreter": {
    "hash": "ad2bdc8ecc057115af97d19610ffacc2b4e99fae6737bb82f5d7fb13d2f2c186"
   }
  }
 },
 "nbformat": 4,
 "nbformat_minor": 2
}
