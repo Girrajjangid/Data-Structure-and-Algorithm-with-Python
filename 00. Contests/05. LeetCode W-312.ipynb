{
 "cells": [
  {
   "cell_type": "markdown",
   "metadata": {},
   "source": [
    "#### 1. Sort the People"
   ]
  },
  {
   "cell_type": "code",
   "execution_count": 26,
   "metadata": {},
   "outputs": [],
   "source": [
    "from typing import List"
   ]
  },
  {
   "cell_type": "code",
   "execution_count": 27,
   "metadata": {},
   "outputs": [],
   "source": [
    "class Solution:\n",
    "    def sortPeople(self, names: List[str], heights: List[int]) -> List[str]:\n",
    "        return [t[0] for t in sorted(((i,j) for i,j in zip(names,heights)), key=lambda x : -x[1])]        "
   ]
  },
  {
   "cell_type": "code",
   "execution_count": 30,
   "metadata": {},
   "outputs": [
    {
     "data": {
      "text/plain": [
       "['Bob', 'Alice', 'Bob']"
      ]
     },
     "execution_count": 30,
     "metadata": {},
     "output_type": "execute_result"
    }
   ],
   "source": [
    "names = [\"Mary\",\"John\",\"Emma\"]; heights = [180,165,170]\n",
    "names = [\"Alice\",\"Bob\",\"Bob\"]; heights = [155,185,150]\n",
    "Solution().sortPeople(names, heights)"
   ]
  },
  {
   "cell_type": "markdown",
   "metadata": {},
   "source": [
    "#### 2. Longest Subarray With Maximum Bitwise AND"
   ]
  },
  {
   "cell_type": "code",
   "execution_count": 119,
   "metadata": {},
   "outputs": [],
   "source": [
    "class Solution:\n",
    "    def longestSubarray(self, nums: List[int]) -> int:\n",
    "        length = len(nums)\n",
    "        idx = 0\n",
    "        j = idx + 1\n",
    "        max_bitwise = max(nums)\n",
    "        max_length = 1\n",
    "        while idx < length:\n",
    "            bitwise = nums[idx]\n",
    "            while j < length:\n",
    "                bitwise = bitwise & nums[idx] & nums[j]\n",
    "                #print(nums[idx:j+1],j,idx, bitwise)\n",
    "                if bitwise >= max_bitwise:\n",
    "                    max_length = max(max_length, j-idx+1)\n",
    "                    max_bitwise = max(bitwise, max_bitwise)\n",
    "                j+=1\n",
    "            idx+=1\n",
    "            j=idx+1\n",
    "        return max_length"
   ]
  },
  {
   "cell_type": "code",
   "execution_count": 121,
   "metadata": {},
   "outputs": [],
   "source": [
    "class Solution:\n",
    "    def longestSubarray(self, nums: List[int]) -> int:\n",
    "        last = [0] * 32\n",
    "        n = len(nums)\n",
    "        res = [0] * n\n",
    "        for i in range(n - 1, -1, -1):\n",
    "            for j in range(32):\n",
    "                if nums[i] & (1 << j):\n",
    "                    last[j] = i\n",
    "            res[i] = max(1, max(last) - i + 1)\n",
    "        return res"
   ]
  },
  {
   "cell_type": "code",
   "execution_count": 128,
   "metadata": {},
   "outputs": [
    {
     "data": {
      "text/plain": [
       "[8, 7, 6, 5, 4, 3, 2, 1, 1]"
      ]
     },
     "execution_count": 128,
     "metadata": {},
     "output_type": "execute_result"
    }
   ],
   "source": [
    "nums = [1,2,3,3,2,2]\n",
    "#nums = [1,2,3,4]\n",
    "#nums = [1,2,3,4,5,6,7,7,8,9,1,2,4,4,2,2,356]\n",
    "nums = [323376,323376,323376,323376,323376,323376,323376,75940,75940]\n",
    "Solution().longestSubarray(nums)"
   ]
  }
 ],
 "metadata": {
  "kernelspec": {
   "display_name": "Python 3.8.8 ('base')",
   "language": "python",
   "name": "python3"
  },
  "language_info": {
   "codemirror_mode": {
    "name": "ipython",
    "version": 3
   },
   "file_extension": ".py",
   "mimetype": "text/x-python",
   "name": "python",
   "nbconvert_exporter": "python",
   "pygments_lexer": "ipython3",
   "version": "3.8.8"
  },
  "orig_nbformat": 4,
  "vscode": {
   "interpreter": {
    "hash": "ad2bdc8ecc057115af97d19610ffacc2b4e99fae6737bb82f5d7fb13d2f2c186"
   }
  }
 },
 "nbformat": 4,
 "nbformat_minor": 2
}
