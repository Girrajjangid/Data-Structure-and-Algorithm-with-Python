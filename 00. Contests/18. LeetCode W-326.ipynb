{
 "cells": [
  {
   "cell_type": "code",
   "execution_count": 1,
   "metadata": {},
   "outputs": [],
   "source": [
    "from typing import List"
   ]
  },
  {
   "cell_type": "code",
   "execution_count": 10,
   "metadata": {},
   "outputs": [],
   "source": [
    "class Solution:\n",
    "    def countDigits(self, num: int) -> int:\n",
    "        res = 0\n",
    "        for i in str(num):\n",
    "            if int(i)==0:\n",
    "                continue\n",
    "            if int(num)%int(i)==0:\n",
    "                res+=1\n",
    "        return res"
   ]
  },
  {
   "cell_type": "code",
   "execution_count": 11,
   "metadata": {},
   "outputs": [
    {
     "data": {
      "text/plain": [
       "1"
      ]
     },
     "execution_count": 11,
     "metadata": {},
     "output_type": "execute_result"
    }
   ],
   "source": [
    "num=1248\n",
    "num=121\n",
    "num=7\n",
    "Solution().countDigits(num)"
   ]
  },
  {
   "attachments": {},
   "cell_type": "markdown",
   "metadata": {},
   "source": [
    "#### 2. Distinct Prime Factors"
   ]
  },
  {
   "cell_type": "code",
   "execution_count": 161,
   "metadata": {},
   "outputs": [],
   "source": [
    "class Solution:\n",
    "    def distinctPrimeFactors(self, nums):\n",
    "        # Find the prime factors of each element in nums\n",
    "        prime_factors = set()\n",
    "        for num in nums:\n",
    "            i = 2\n",
    "            while i * i <= num:\n",
    "                while num % i == 0:\n",
    "                    num //= i\n",
    "                    prime_factors.add(i)\n",
    "                i += 1\n",
    "            if num > 1:\n",
    "                prime_factors.add(num)\n",
    "\n",
    "        # Return the number of distinct prime factors\n",
    "        return len(prime_factors)"
   ]
  },
  {
   "cell_type": "code",
   "execution_count": 162,
   "metadata": {},
   "outputs": [
    {
     "data": {
      "text/plain": [
       "1"
      ]
     },
     "execution_count": 162,
     "metadata": {},
     "output_type": "execute_result"
    }
   ],
   "source": [
    "nums = [2,4,3,7,10,6]\n",
    "nums = [2,4,8,16]\n",
    "#nums = [1,4,5,6,7,8,9,10,11]\n",
    "#nums = [10,10,10]\n",
    "Solution().distinctPrimeFactors(nums)"
   ]
  },
  {
   "attachments": {},
   "cell_type": "markdown",
   "metadata": {},
   "source": [
    "#### 3. Closest Prime Number"
   ]
  },
  {
   "cell_type": "code",
   "execution_count": 199,
   "metadata": {},
   "outputs": [],
   "source": [
    "class Solution:\n",
    "    def closestPrimes(self, left: int, right: int) -> List[int]:\n",
    "        # Check if there are at least two prime numbers in the given range\n",
    "        if right - left < 2:\n",
    "            return [-1, -1]\n",
    "        \n",
    "        # Find the prime numbers in the given range by iterating through the numbers\n",
    "        # and checking if they are prime\n",
    "        primes = []\n",
    "        for i in range(left, right + 1):\n",
    "            is_prime = True\n",
    "            if i % 2 == 0:\n",
    "                is_prime = False\n",
    "            else:\n",
    "                for j in range(3, int(i ** 0.5) + 1, 2):\n",
    "                    if i % j == 0:\n",
    "                        is_prime = False\n",
    "                        break\n",
    "            if is_prime:\n",
    "                primes.append(i)\n",
    "        \n",
    "        # Find the pair of prime numbers with the minimum gap\n",
    "        min_gap = float('inf')\n",
    "        min_pair = [-1, -1]\n",
    "        for i in range(len(primes) - 1):\n",
    "            gap = primes[i+1] - primes[i]\n",
    "            if gap < min_gap:\n",
    "                min_gap = gap\n",
    "                min_pair = [primes[i], primes[i+1]]\n",
    "        \n",
    "        return min_pair\n"
   ]
  },
  {
   "cell_type": "code",
   "execution_count": 213,
   "metadata": {},
   "outputs": [
    {
     "data": {
      "text/plain": [
       "[1, 1]"
      ]
     },
     "execution_count": 213,
     "metadata": {},
     "output_type": "execute_result"
    }
   ],
   "source": [
    "left = 10; right = 19\n",
    "left = 12854; right=130337\n",
    "left = 4; right=6\n",
    "left = 1; right=1000000\n",
    "Solution().closestPrimes(left, right)"
   ]
  },
  {
   "cell_type": "code",
   "execution_count": null,
   "metadata": {},
   "outputs": [],
   "source": []
  },
  {
   "cell_type": "code",
   "execution_count": 214,
   "metadata": {},
   "outputs": [],
   "source": [
    "class Solution:\n",
    "    def minimumPartition(self, s: str, k: int) -> int:\n",
    "        # Convert the string to a list of integers\n",
    "        s = [int(c) for c in s]\n",
    "        n = len(s)\n",
    "        \n",
    "        # Initialize the dp array with all -1s\n",
    "        dp = [[-1] * (n + 1) for _ in range(n + 1)]\n",
    "        \n",
    "        # Base case: a string of length 0 can be partitioned into 0 substrings\n",
    "        dp[0][0] = 0\n",
    "        \n",
    "        # Iterate through all possible lengths of the first substring\n",
    "        for i in range(1, n + 1):\n",
    "            # Iterate through all possible numbers of substrings\n",
    "            for j in range(1, n + 1):\n",
    "                # If the previous state is not set, skip this iteration\n",
    "                if dp[i-1][j-1] == -1:\n",
    "                    continue\n",
    "                \n",
    "                # Calculate the value of the current substring\n",
    "                value = 0\n",
    "                for l in range(i-1, n):\n",
    "                    value = value * 10 + s[l]\n",
    "                    # If the value exceeds k, break the loop\n",
    "                    if value > k:\n",
    "                        break\n",
    "                    # Set the current state to the minimum number of substrings\n",
    "                    # needed to partition the rest of the string, or to 1 if\n",
    "                    # the rest of the string is empty\n",
    "                    dp[l+1][j] = min(dp[l+1][j], dp[i-1][j-1] + 1)\n",
    "        \n",
    "        # Return the minimum number of substrings needed to partition the\n",
    "        # entire string, or -1 if no such partition exists\n",
    "        return min(dp[n])\n"
   ]
  },
  {
   "cell_type": "code",
   "execution_count": null,
   "metadata": {},
   "outputs": [],
   "source": []
  },
  {
   "cell_type": "code",
   "execution_count": null,
   "metadata": {},
   "outputs": [],
   "source": []
  },
  {
   "cell_type": "code",
   "execution_count": null,
   "metadata": {},
   "outputs": [],
   "source": []
  }
 ],
 "metadata": {
  "kernelspec": {
   "display_name": "base",
   "language": "python",
   "name": "python3"
  },
  "language_info": {
   "codemirror_mode": {
    "name": "ipython",
    "version": 3
   },
   "file_extension": ".py",
   "mimetype": "text/x-python",
   "name": "python",
   "nbconvert_exporter": "python",
   "pygments_lexer": "ipython3",
   "version": "3.9.13"
  },
  "orig_nbformat": 4,
  "vscode": {
   "interpreter": {
    "hash": "fecfa28de78ead09ec2989a580469213059448baba5e0b02aeeb7641afb84221"
   }
  }
 },
 "nbformat": 4,
 "nbformat_minor": 2
}
