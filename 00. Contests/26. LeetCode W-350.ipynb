{
 "cells": [
  {
   "cell_type": "code",
   "execution_count": 2,
   "metadata": {},
   "outputs": [],
   "source": [
    "from typing import List"
   ]
  },
  {
   "cell_type": "code",
   "execution_count": 7,
   "metadata": {},
   "outputs": [],
   "source": [
    "class Solution:\n",
    "    def findValueOfPartition(self, nums: List[int]) -> int:\n",
    "        #nums = set(nums)\n",
    "        nums = sorted(nums)\n",
    "        length = len(nums)\n",
    "        min_ = float('inf')\n",
    "        for i in range(length-1):\n",
    "            min_ = min(min_, abs(nums[i] - nums[i+1]))\n",
    "        return min_"
   ]
  },
  {
   "cell_type": "code",
   "execution_count": 8,
   "metadata": {},
   "outputs": [
    {
     "data": {
      "text/plain": [
       "0"
      ]
     },
     "execution_count": 8,
     "metadata": {},
     "output_type": "execute_result"
    }
   ],
   "source": [
    "nums = [1,3,2,4]\n",
    "nums = [100,1,10]\n",
    "nums = [2,2,2,2,2,3,4,5,5,6,7,7,5,4,1212,1435,876543,65432,2345,76543]\n",
    "nums = [84,11,100,100,75]\n",
    "Solution().findValueOfPartition(nums)"
   ]
  },
  {
   "cell_type": "code",
   "execution_count": null,
   "metadata": {},
   "outputs": [],
   "source": []
  },
  {
   "cell_type": "code",
   "execution_count": 67,
   "metadata": {},
   "outputs": [],
   "source": [
    "class Solution:\n",
    "    def specialPerm(self, nums: List[int]) -> int:\n",
    "        \n",
    "        def backtrack(curr_num, used):\n",
    "            if used == (1 << len(nums)) - 1: return 1\n",
    "\n",
    "            if (curr_num, used) in memo: return memo[(curr_num, used)]\n",
    "\n",
    "            count = 0\n",
    "            for i in range(len(nums)):\n",
    "                if (not used & (1 << i)) and (nums[i] % curr_num == 0 or curr_num % nums[i] == 0):\n",
    "                    count += backtrack(nums[i], used | (1 << i))\n",
    "\n",
    "            memo[(curr_num, used)] = count\n",
    "            return count\n",
    "\n",
    "        MOD = int(1e9) + 7\n",
    "        nums.sort()\n",
    "        memo = {}\n",
    "\n",
    "        total_permutations = 0\n",
    "        for i in range(len(nums)):\n",
    "            total_permutations += backtrack(nums[i], 1 << i)\n",
    "            total_permutations %= MOD\n",
    "\n",
    "        return total_permutations"
   ]
  },
  {
   "cell_type": "code",
   "execution_count": 68,
   "metadata": {},
   "outputs": [
    {
     "data": {
      "text/plain": [
       "0"
      ]
     },
     "execution_count": 68,
     "metadata": {},
     "output_type": "execute_result"
    }
   ],
   "source": [
    "#nums = [1,4,3]\n",
    "#nums = [2,3,6,7,8,9]\n",
    "Solution().specialPerm(nums)"
   ]
  },
  {
   "cell_type": "code",
   "execution_count": 88,
   "metadata": {},
   "outputs": [],
   "source": [
    "class Solution:\n",
    "    def distanceTraveled(self, mainTank: int, additionalTank: int) -> int:\n",
    "        \n",
    "        mileage = 10\n",
    "        total_fuel = 0\n",
    "        covered = 0\n",
    "        while mainTank>=1:\n",
    "            if mainTank >= 5:\n",
    "                total_fuel +=5\n",
    "                mainTank -=5\n",
    "                covered = 5\n",
    "            else:\n",
    "                total_fuel += mainTank\n",
    "                covered = mainTank\n",
    "                mainTank = 0\n",
    "            if covered == 5 and additionalTank>=1:\n",
    "                additionalTank-=1\n",
    "                covered = 0\n",
    "                mainTank +=1\n",
    "            \n",
    "        return total_fuel*mileage"
   ]
  },
  {
   "cell_type": "code",
   "execution_count": 89,
   "metadata": {},
   "outputs": [
    {
     "data": {
      "text/plain": [
       "60"
      ]
     },
     "execution_count": 89,
     "metadata": {},
     "output_type": "execute_result"
    }
   ],
   "source": [
    "mainTank = 5; additionalTank = 10\n",
    "#mainTank = 1; additionalTank = 2\n",
    "mainTank = 5; additionalTank = 1\n",
    "Solution().distanceTraveled(mainTank, additionalTank)"
   ]
  },
  {
   "cell_type": "code",
   "execution_count": null,
   "metadata": {},
   "outputs": [],
   "source": []
  },
  {
   "cell_type": "code",
   "execution_count": 165,
   "metadata": {},
   "outputs": [],
   "source": [
    "from functools import cache\n",
    "\n",
    "class Solution:\n",
    "    def paintWalls(self, cost: List[int], time: List[int]) -> int:\n",
    "        \n",
    "        n=len(cost)\n",
    "        \n",
    "        @cache\n",
    "        def dp(idx,t):\n",
    "            if idx==n: return 0 if t>=0 else sys.maxsize\n",
    "            #this index painted by paid painter\n",
    "            ans=cost[idx] + dp(idx+1, min(n+1, t+time[idx]))\n",
    "            #free painter\n",
    "            ans = min(ans, dp(idx+1, t-1))\n",
    "            return ans\n",
    "        return dp(0,0)"
   ]
  },
  {
   "cell_type": "code",
   "execution_count": 166,
   "metadata": {},
   "outputs": [
    {
     "data": {
      "text/plain": [
       "55"
      ]
     },
     "execution_count": 166,
     "metadata": {},
     "output_type": "execute_result"
    }
   ],
   "source": [
    "cost = [1,2,3,2]; time = [1,2,3,2]\n",
    "cost = [2,3,4,2]; time = [1,1,1,1]\n",
    "cost = [26,53,10,24,25,20,63,51]; time = [1,1,1,1,2,2,2,1]\n",
    "Solution().paintWalls(cost, time)"
   ]
  },
  {
   "cell_type": "code",
   "execution_count": 158,
   "metadata": {},
   "outputs": [],
   "source": [
    "from typing import List\n",
    "\n",
    "class Solution:\n",
    "    def paintWalls(self, cost: List[int], time: List[int]) -> int:\n",
    "        n = len(cost)\n",
    "\n",
    "        # Sort the walls based on cost in ascending order\n",
    "        sorted_pairs = sorted(zip(cost, time))\n",
    "\n",
    "        dp = [float('inf')] * (n + 1)\n",
    "        dp[0] = 0\n",
    "\n",
    "        for i in range(1, n + 1):\n",
    "            curr_cost, curr_time = sorted_pairs[i - 1]\n",
    "            for j in range(i, 0, -1):\n",
    "                if curr_cost >= dp[j - 1]:\n",
    "                    dp[j] = min(dp[j], dp[j - 1] + curr_time)\n",
    "\n",
    "        return dp[n]\n"
   ]
  },
  {
   "cell_type": "code",
   "execution_count": 113,
   "metadata": {},
   "outputs": [
    {
     "data": {
      "text/plain": [
       "[1, 2, 1, 2, 1, 1, 1, 2]"
      ]
     },
     "execution_count": 113,
     "metadata": {},
     "output_type": "execute_result"
    }
   ],
   "source": [
    "[j for i,j in sorted(zip(cost, time))]\n",
    "# cost = [10, 20, 24, 25, 26, 51, 53, 63], time = [1, 2, 1, 2, 1, 1, 1, 2]"
   ]
  },
  {
   "cell_type": "code",
   "execution_count": 109,
   "metadata": {},
   "outputs": [
    {
     "name": "stdout",
     "output_type": "stream",
     "text": [
      "11\n"
     ]
    }
   ],
   "source": [
    "def minCost(cost, time):\n",
    "    n = len(cost)\n",
    "\n",
    "    # Initialize the dynamic programming arrays\n",
    "    dp = [float('inf')] * (n + 1)\n",
    "    dp_free = [float('inf')] * (n + 1)\n",
    "    dp[0] = 0\n",
    "    dp_free[0] = 0\n",
    "\n",
    "    for i in range(1, n + 1):\n",
    "        # Calculate the cost when the paid painter is used\n",
    "        dp[i] = min(dp[i], dp[i - 1] + cost[i - 1])\n",
    "\n",
    "        # Calculate the cost when the free painter is used\n",
    "        dp_free[i] = min(dp_free[i], dp[i - 1], dp_free[i - 1]) + time[i - 1]\n",
    "\n",
    "    return min(dp[n], dp_free[n])\n",
    "\n",
    "cost = [26, 53, 10, 24, 25, 20, 63, 51]\n",
    "time = [1, 1, 1, 1, 2, 2, 2, 1]\n",
    "result = minCost(cost, time)\n",
    "print(result)\n"
   ]
  },
  {
   "cell_type": "code",
   "execution_count": 96,
   "metadata": {},
   "outputs": [
    {
     "name": "stdout",
     "output_type": "stream",
     "text": [
      "[83, 83, 97, 71, 71, 86, 92, 85, 8, 1, 52, 55, 11, 79, 56, 3, 13, 95, 76, 8, 56, 7, 94, 77, 41, 43, 83, 54, 93, 14, 57, 101, 2, 33, 85, 40, 21, 57, 30, 27, 48, 4, 78, 104, 57, 78, 100, 40, 9, 3]\n"
     ]
    }
   ],
   "source": [
    "# 1 <= cost.length <= 500\n",
    "# cost.length == time.length\n",
    "# 1 <= cost[i] <= 106\n",
    "# 1 <= time[i] <= 500\n",
    "\n",
    "print([random.randrange(1,106) for i in range(50)])"
   ]
  },
  {
   "cell_type": "code",
   "execution_count": 97,
   "metadata": {},
   "outputs": [
    {
     "name": "stdout",
     "output_type": "stream",
     "text": [
      "[475, 229, 141, 89, 101, 226, 14, 220, 51, 394, 149, 395, 335, 37, 111, 177, 266, 246, 22, 422, 298, 151, 381, 399, 193, 304, 136, 296, 84, 175, 424, 47, 90, 235, 471, 428, 38, 137, 137, 240, 192, 424, 408, 303, 450, 407, 168, 419, 494, 45]\n"
     ]
    }
   ],
   "source": [
    "print([random.randrange(1,500) for i in range(50)])"
   ]
  }
 ],
 "metadata": {
  "kernelspec": {
   "display_name": "base",
   "language": "python",
   "name": "python3"
  },
  "language_info": {
   "codemirror_mode": {
    "name": "ipython",
    "version": 3
   },
   "file_extension": ".py",
   "mimetype": "text/x-python",
   "name": "python",
   "nbconvert_exporter": "python",
   "pygments_lexer": "ipython3",
   "version": "3.9.13"
  },
  "orig_nbformat": 4
 },
 "nbformat": 4,
 "nbformat_minor": 2
}
