{
 "cells": [
  {
   "cell_type": "code",
   "execution_count": 1,
   "metadata": {},
   "outputs": [],
   "source": [
    "from typing import List, Optional, Dict"
   ]
  },
  {
   "cell_type": "code",
   "execution_count": 49,
   "metadata": {},
   "outputs": [],
   "source": [
    "class Solution:\n",
    "    def findMaxK(self, nums: List[int]) -> int:\n",
    "        length = len(nums)\n",
    "        if length==1: return -1\n",
    "        nums.sort()\n",
    "        l,r = 0,length-1\n",
    "        #print(nums)\n",
    "        while l<r:\n",
    "            if nums[r] < 0: return -1\n",
    "            if abs(nums[l]) == nums[r]: return nums[r]\n",
    "            if abs(nums[l]) < abs(nums[r]):\n",
    "                r-=1\n",
    "            else:\n",
    "                l+=1\n",
    "        return -1"
   ]
  },
  {
   "cell_type": "code",
   "execution_count": 67,
   "metadata": {},
   "outputs": [],
   "source": [
    "class Solution:\n",
    "    def findMaxK(self, arr: List[int]) -> int:\n",
    "        res = 0 \n",
    "        arr = sorted(arr) \n",
    "        l = 0\n",
    "        r = len(arr) - 1 \n",
    "        while (l < r): \n",
    "            sum = arr[l] + arr[r] \n",
    "            if (sum == 0):\n",
    "                res = max(res, max(arr[l], arr[r])) \n",
    "                return res \n",
    "            elif (sum < 0):\n",
    "                l += 1 \n",
    "            else:\n",
    "                r-=1\n",
    "        return -1"
   ]
  },
  {
   "cell_type": "code",
   "execution_count": 68,
   "metadata": {},
   "outputs": [
    {
     "data": {
      "text/plain": [
       "1"
      ]
     },
     "execution_count": 68,
     "metadata": {},
     "output_type": "execute_result"
    }
   ],
   "source": [
    "nums = [-1,2,-3,3]\n",
    "nums = [-1,10,6,7,-7,1]\n",
    "nums = [-10,8,6,7,-2,-3]\n",
    "nums = [-10,-7,-6,-6,8,11]\n",
    "nums = [-1,1]\n",
    "Solution().findMaxK(nums)"
   ]
  },
  {
   "cell_type": "code",
   "execution_count": null,
   "metadata": {},
   "outputs": [],
   "source": []
  },
  {
   "cell_type": "code",
   "execution_count": null,
   "metadata": {},
   "outputs": [],
   "source": []
  },
  {
   "cell_type": "code",
   "execution_count": 77,
   "metadata": {},
   "outputs": [],
   "source": [
    "class Solution:\n",
    "    def countDistinctIntegers(self, nums: List[int]) -> int:\n",
    "        length = len(nums)\n",
    "        for idx in range(length):\n",
    "            nums.append(int(str(nums[idx])[::-1]))\n",
    "        return len(set(nums))"
   ]
  },
  {
   "cell_type": "code",
   "execution_count": 78,
   "metadata": {},
   "outputs": [
    {
     "data": {
      "text/plain": [
       "1"
      ]
     },
     "execution_count": 78,
     "metadata": {},
     "output_type": "execute_result"
    }
   ],
   "source": [
    "nums = [1,13,10,12,31]\n",
    "nums = [2,2,2]\n",
    "Solution().countDistinctIntegers(nums)"
   ]
  },
  {
   "cell_type": "code",
   "execution_count": null,
   "metadata": {},
   "outputs": [],
   "source": []
  },
  {
   "cell_type": "code",
   "execution_count": 82,
   "metadata": {},
   "outputs": [],
   "source": [
    "class Solution:\n",
    "    def sumOfNumberAndReverse(self, num: int) -> bool:\n",
    "        for i in range(num):\n",
    "            if (i+int(str(i)[::-1]))==num:\n",
    "                return True\n",
    "        return False"
   ]
  },
  {
   "cell_type": "code",
   "execution_count": 86,
   "metadata": {},
   "outputs": [
    {
     "name": "stdout",
     "output_type": "stream",
     "text": [
      "140 41\n"
     ]
    },
    {
     "data": {
      "text/plain": [
       "True"
      ]
     },
     "execution_count": 86,
     "metadata": {},
     "output_type": "execute_result"
    }
   ],
   "source": [
    "nums = 443\n",
    "nums = 63\n",
    "nums = 181\n",
    "Solution().sumOfNumberAndReverse(nums)"
   ]
  },
  {
   "cell_type": "code",
   "execution_count": null,
   "metadata": {},
   "outputs": [],
   "source": []
  },
  {
   "cell_type": "code",
   "execution_count": 130,
   "metadata": {},
   "outputs": [],
   "source": [
    "class Solution:\n",
    "    def countSubarrays(self, nums: List[int], minK: int, maxK: int) -> int:\n",
    "        length = len(nums)\n",
    "        count = 0\n",
    "        temp = []\n",
    "        for i in range(length):\n",
    "            min_ = float('inf')\n",
    "            max_ = float('-inf')\n",
    "            for j in range(i, length):\n",
    "                min_ = min(min_, nums[j])\n",
    "                max_ = max(max_, nums[j])\n",
    "                if min_ == minK and max_ == maxK:\n",
    "                    count+=1\n",
    "                    temp.append(nums[i:j+1])\n",
    "        return count,temp"
   ]
  },
  {
   "cell_type": "code",
   "execution_count": 132,
   "metadata": {},
   "outputs": [
    {
     "data": {
      "text/plain": [
       "(81,\n",
       " [[1, 3, 5],\n",
       "  [1, 3, 5, 5],\n",
       "  [1, 3, 5, 5, 4],\n",
       "  [1, 3, 5, 5, 4, 5],\n",
       "  [1, 3, 5, 5, 4, 5, 1],\n",
       "  [1, 3, 5, 5, 4, 5, 1, 5],\n",
       "  [1, 3, 5, 5, 4, 5, 1, 5, 3],\n",
       "  [1, 3, 5, 5, 4, 5, 1, 5, 3, 5],\n",
       "  [1, 3, 5, 5, 4, 5, 1, 5, 3, 5, 1],\n",
       "  [1, 3, 5, 5, 4, 5, 1, 5, 3, 5, 1, 3],\n",
       "  [1, 3, 5, 5, 4, 5, 1, 5, 3, 5, 1, 3, 4],\n",
       "  [1, 3, 5, 5, 4, 5, 1, 5, 3, 5, 1, 3, 4, 4],\n",
       "  [1, 3, 5, 5, 4, 5, 1, 5, 3, 5, 1, 3, 4, 4, 4],\n",
       "  [3, 5, 5, 4, 5, 1],\n",
       "  [3, 5, 5, 4, 5, 1, 5],\n",
       "  [3, 5, 5, 4, 5, 1, 5, 3],\n",
       "  [3, 5, 5, 4, 5, 1, 5, 3, 5],\n",
       "  [3, 5, 5, 4, 5, 1, 5, 3, 5, 1],\n",
       "  [3, 5, 5, 4, 5, 1, 5, 3, 5, 1, 3],\n",
       "  [3, 5, 5, 4, 5, 1, 5, 3, 5, 1, 3, 4],\n",
       "  [3, 5, 5, 4, 5, 1, 5, 3, 5, 1, 3, 4, 4],\n",
       "  [3, 5, 5, 4, 5, 1, 5, 3, 5, 1, 3, 4, 4, 4],\n",
       "  [5, 5, 4, 5, 1],\n",
       "  [5, 5, 4, 5, 1, 5],\n",
       "  [5, 5, 4, 5, 1, 5, 3],\n",
       "  [5, 5, 4, 5, 1, 5, 3, 5],\n",
       "  [5, 5, 4, 5, 1, 5, 3, 5, 1],\n",
       "  [5, 5, 4, 5, 1, 5, 3, 5, 1, 3],\n",
       "  [5, 5, 4, 5, 1, 5, 3, 5, 1, 3, 4],\n",
       "  [5, 5, 4, 5, 1, 5, 3, 5, 1, 3, 4, 4],\n",
       "  [5, 5, 4, 5, 1, 5, 3, 5, 1, 3, 4, 4, 4],\n",
       "  [5, 4, 5, 1],\n",
       "  [5, 4, 5, 1, 5],\n",
       "  [5, 4, 5, 1, 5, 3],\n",
       "  [5, 4, 5, 1, 5, 3, 5],\n",
       "  [5, 4, 5, 1, 5, 3, 5, 1],\n",
       "  [5, 4, 5, 1, 5, 3, 5, 1, 3],\n",
       "  [5, 4, 5, 1, 5, 3, 5, 1, 3, 4],\n",
       "  [5, 4, 5, 1, 5, 3, 5, 1, 3, 4, 4],\n",
       "  [5, 4, 5, 1, 5, 3, 5, 1, 3, 4, 4, 4],\n",
       "  [4, 5, 1],\n",
       "  [4, 5, 1, 5],\n",
       "  [4, 5, 1, 5, 3],\n",
       "  [4, 5, 1, 5, 3, 5],\n",
       "  [4, 5, 1, 5, 3, 5, 1],\n",
       "  [4, 5, 1, 5, 3, 5, 1, 3],\n",
       "  [4, 5, 1, 5, 3, 5, 1, 3, 4],\n",
       "  [4, 5, 1, 5, 3, 5, 1, 3, 4, 4],\n",
       "  [4, 5, 1, 5, 3, 5, 1, 3, 4, 4, 4],\n",
       "  [5, 1],\n",
       "  [5, 1, 5],\n",
       "  [5, 1, 5, 3],\n",
       "  [5, 1, 5, 3, 5],\n",
       "  [5, 1, 5, 3, 5, 1],\n",
       "  [5, 1, 5, 3, 5, 1, 3],\n",
       "  [5, 1, 5, 3, 5, 1, 3, 4],\n",
       "  [5, 1, 5, 3, 5, 1, 3, 4, 4],\n",
       "  [5, 1, 5, 3, 5, 1, 3, 4, 4, 4],\n",
       "  [1, 5],\n",
       "  [1, 5, 3],\n",
       "  [1, 5, 3, 5],\n",
       "  [1, 5, 3, 5, 1],\n",
       "  [1, 5, 3, 5, 1, 3],\n",
       "  [1, 5, 3, 5, 1, 3, 4],\n",
       "  [1, 5, 3, 5, 1, 3, 4, 4],\n",
       "  [1, 5, 3, 5, 1, 3, 4, 4, 4],\n",
       "  [5, 3, 5, 1],\n",
       "  [5, 3, 5, 1, 3],\n",
       "  [5, 3, 5, 1, 3, 4],\n",
       "  [5, 3, 5, 1, 3, 4, 4],\n",
       "  [5, 3, 5, 1, 3, 4, 4, 4],\n",
       "  [3, 5, 1],\n",
       "  [3, 5, 1, 3],\n",
       "  [3, 5, 1, 3, 4],\n",
       "  [3, 5, 1, 3, 4, 4],\n",
       "  [3, 5, 1, 3, 4, 4, 4],\n",
       "  [5, 1],\n",
       "  [5, 1, 3],\n",
       "  [5, 1, 3, 4],\n",
       "  [5, 1, 3, 4, 4],\n",
       "  [5, 1, 3, 4, 4, 4]])"
      ]
     },
     "execution_count": 132,
     "metadata": {},
     "output_type": "execute_result"
    }
   ],
   "source": [
    "nums = [1,3,5,2,7,5]; minK = 1; maxK = 5\n",
    "#nums = [1,3,5,1,3,5,2,7,5]; minK = 1; maxK = 5\n",
    "nums = [1,1,1,1]; minK = 1; maxK = 1\n",
    "nums = [1,3,5,5,4,5,1,5,3,5,1,3,4,4,4];\n",
    "minK = 1\n",
    "maxK = 5\n",
    "Solution().countSubarrays(nums, minK, maxK)"
   ]
  },
  {
   "cell_type": "code",
   "execution_count": null,
   "metadata": {},
   "outputs": [],
   "source": []
  }
 ],
 "metadata": {
  "kernelspec": {
   "display_name": "Python 3.8.8 ('base')",
   "language": "python",
   "name": "python3"
  },
  "language_info": {
   "codemirror_mode": {
    "name": "ipython",
    "version": 3
   },
   "file_extension": ".py",
   "mimetype": "text/x-python",
   "name": "python",
   "nbconvert_exporter": "python",
   "pygments_lexer": "ipython3",
   "version": "3.8.8"
  },
  "orig_nbformat": 4,
  "vscode": {
   "interpreter": {
    "hash": "ad2bdc8ecc057115af97d19610ffacc2b4e99fae6737bb82f5d7fb13d2f2c186"
   }
  }
 },
 "nbformat": 4,
 "nbformat_minor": 2
}
