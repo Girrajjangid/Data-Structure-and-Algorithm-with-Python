{
 "cells": [
  {
   "cell_type": "code",
   "execution_count": 1,
   "metadata": {},
   "outputs": [],
   "source": [
    "from typing import List"
   ]
  },
  {
   "cell_type": "code",
   "execution_count": 57,
   "metadata": {},
   "outputs": [],
   "source": [
    "class Solution:\n",
    "    import math\n",
    "    def averageValue(self, nums: List[int]) -> int:\n",
    "        count = 0\n",
    "        sum_ = 0\n",
    "        for val in nums:\n",
    "            if val%3==0 and val%2==0:\n",
    "                count+=1\n",
    "                sum_+=val\n",
    "        return math.floor(sum_/count) if count else 0\n",
    "        "
   ]
  },
  {
   "cell_type": "code",
   "execution_count": 60,
   "metadata": {},
   "outputs": [
    {
     "data": {
      "text/plain": [
       "61"
      ]
     },
     "execution_count": 60,
     "metadata": {},
     "output_type": "execute_result"
    }
   ],
   "source": [
    "nums = [1,3,6,10,12,15]\n",
    "nums = [1,2,4,7,10]\n",
    "nums = [94,65,82,40,79,74,92,84,37,19,16,85,20,79,25,89,55,67,84,3,79,38,16,44,2,54,58,94,69,71,14,24,13,21]\n",
    "Solution().averageValue(nums)"
   ]
  },
  {
   "cell_type": "code",
   "execution_count": 51,
   "metadata": {},
   "outputs": [
    {
     "data": {
      "text/plain": [
       "61.5"
      ]
     },
     "execution_count": 51,
     "metadata": {},
     "output_type": "execute_result"
    }
   ],
   "source": [
    "(84+84+54+24)/4"
   ]
  },
  {
   "cell_type": "code",
   "execution_count": null,
   "metadata": {},
   "outputs": [],
   "source": []
  },
  {
   "cell_type": "code",
   "execution_count": 157,
   "metadata": {},
   "outputs": [],
   "source": [
    "from typing import Dict, List\n",
    "from collections import defaultdict\n",
    "    \n",
    "class Solution:\n",
    "    def mostPopularCreator(self, creators: List[str], ids: List[str], views: List[int]) -> List[List[str]]:\n",
    "        length = len(creators)\n",
    "        d = {}\n",
    "        d_ids = defaultdict(list)\n",
    "        d_views = defaultdict(list)\n",
    "        individual_max = {}\n",
    "        for idx in range(length):\n",
    "            d[creators[idx]] = d.get(creators[idx], 0) + views[idx]\n",
    "            d_ids[creators[idx]].append((views[idx], ids[idx]))\n",
    "            individual_max[creators[idx]] = max(individual_max.get(creators[idx],0), views[idx])\n",
    "        temp = defaultdict(list)\n",
    "        for idx, val in d.items(): \n",
    "            temp[val].append(idx)\n",
    "        res = []\n",
    "        temp2 = defaultdict(list)\n",
    "        for name in temp[max(temp.keys())]:\n",
    "            for a,b in d_ids[name]:\n",
    "                if a == individual_max[name]:\n",
    "                    temp2[name].append(b)\n",
    "            res.append((name, sorted(temp2[name])[0]))\n",
    "        return res\n",
    "    "
   ]
  },
  {
   "cell_type": "code",
   "execution_count": 158,
   "metadata": {},
   "outputs": [
    {
     "data": {
      "text/plain": [
       "[('alice', 'b')]"
      ]
     },
     "execution_count": 158,
     "metadata": {},
     "output_type": "execute_result"
    }
   ],
   "source": [
    "creators = [\"alice\",\"bob\",\"alice\",\"chris\"]; ids = [\"one\",\"two\",\"three\",\"four\"]; views = [5,10,5,4]\n",
    "creators = [\"alice\",\"alice\",\"alice\"]; ids = [\"a\",\"b\",\"c\"]; views = [1,2,2]\n",
    "a = Solution().mostPopularCreator(creators, ids, views)\n",
    "a"
   ]
  },
  {
   "cell_type": "code",
   "execution_count": null,
   "metadata": {},
   "outputs": [],
   "source": []
  },
  {
   "cell_type": "code",
   "execution_count": null,
   "metadata": {},
   "outputs": [],
   "source": []
  },
  {
   "cell_type": "code",
   "execution_count": 165,
   "metadata": {},
   "outputs": [],
   "source": [
    "class Solution:\n",
    "    def makeIntegerBeautiful(self, n: int, target: int) -> int:\n",
    "        if n == target: return 0\n",
    "        sum_ = n\n",
    "        added = 0\n",
    "        while True:\n",
    "            sum_ = sum(int(i) for i in iter(str(n + added)))\n",
    "            if sum_ <= target: break\n",
    "            added+=1\n",
    "        return added            "
   ]
  },
  {
   "cell_type": "code",
   "execution_count": 172,
   "metadata": {},
   "outputs": [
    {
     "data": {
      "text/plain": [
       "23"
      ]
     },
     "execution_count": 172,
     "metadata": {},
     "output_type": "execute_result"
    }
   ],
   "source": [
    "n = 734504727\n",
    "n = 734504720\n",
    "n = 734504700\n",
    "n = 734504000\n",
    "\n",
    "sum(int(i) for i in iter(str(n)))"
   ]
  },
  {
   "cell_type": "code",
   "execution_count": 173,
   "metadata": {},
   "outputs": [
    {
     "data": {
      "text/plain": [
       "0"
      ]
     },
     "execution_count": 173,
     "metadata": {},
     "output_type": "execute_result"
    }
   ],
   "source": [
    "n = 16; target = 6\n",
    "n = 467; target = 6\n",
    "n = 1; target = 1\n",
    "Solution().makeIntegerBeautiful(n, target)"
   ]
  },
  {
   "cell_type": "code",
   "execution_count": null,
   "metadata": {},
   "outputs": [],
   "source": []
  },
  {
   "cell_type": "code",
   "execution_count": null,
   "metadata": {},
   "outputs": [],
   "source": [
    "from typing import Optional\n",
    "\n",
    "class Solution:\n",
    "    def treeQueries(self, root: Optional[TreeNode], queries: List[int]) -> List[int]:\n",
    "        \n",
    "        d = {}\n",
    "        def fun_height(root, height):\n",
    "            if root is None: return height\n",
    "            d[root.val] = height+1\n",
    "            left_height = fun_height(root.left, height+1)\n",
    "            right_height = fun_height(root.right, height+1)\n",
    "            max_height = max(left_height, right_height)\n",
    "            return max_height          \n",
    "        def pre(root):\n",
    "            if root is None: return []\n",
    "            return [root.val] + root.left + root.right\n",
    "        preorder = pre(root)\n",
    "        \n",
    "        return d, fun_height(root, -1), preorder"
   ]
  },
  {
   "cell_type": "code",
   "execution_count": null,
   "metadata": {},
   "outputs": [],
   "source": [
    "root = [1,3,4,2,None,6,5,None,None,None,None,None,7]; queries = [4]\n",
    "root = BinaryTree().extend(root,'level')\n",
    "#print(BinaryTree().preOrder(root))\n",
    "Solution().treeQueries(root, queries)"
   ]
  },
  {
   "cell_type": "code",
   "execution_count": null,
   "metadata": {},
   "outputs": [],
   "source": []
  }
 ],
 "metadata": {
  "kernelspec": {
   "display_name": "Python 3.8.8 ('base')",
   "language": "python",
   "name": "python3"
  },
  "language_info": {
   "codemirror_mode": {
    "name": "ipython",
    "version": 3
   },
   "file_extension": ".py",
   "mimetype": "text/x-python",
   "name": "python",
   "nbconvert_exporter": "python",
   "pygments_lexer": "ipython3",
   "version": "3.8.8"
  },
  "orig_nbformat": 4,
  "vscode": {
   "interpreter": {
    "hash": "ad2bdc8ecc057115af97d19610ffacc2b4e99fae6737bb82f5d7fb13d2f2c186"
   }
  }
 },
 "nbformat": 4,
 "nbformat_minor": 2
}
