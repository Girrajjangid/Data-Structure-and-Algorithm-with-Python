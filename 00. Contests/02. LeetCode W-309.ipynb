{
 "cells": [
  {
   "cell_type": "code",
   "execution_count": 1,
   "metadata": {},
   "outputs": [],
   "source": [
    "s=\"CNCCN\"\n",
    "dist = s.index('N', s.index('N') + 1) - s.index('N')"
   ]
  },
  {
   "cell_type": "code",
   "execution_count": 13,
   "metadata": {},
   "outputs": [
    {
     "data": {
      "text/plain": [
       "Counter({'C': 3, 'N': 2})"
      ]
     },
     "execution_count": 13,
     "metadata": {},
     "output_type": "execute_result"
    }
   ],
   "source": []
  },
  {
   "cell_type": "code",
   "execution_count": 15,
   "metadata": {},
   "outputs": [],
   "source": [
    "from typing import List"
   ]
  },
  {
   "cell_type": "code",
   "execution_count": 32,
   "metadata": {},
   "outputs": [],
   "source": [
    "class Solution:\n",
    "    def checkDistances(self, s: str, distance: List[int]) -> bool:\n",
    "        d = {}\n",
    "        for idx, val in enumerate(s):\n",
    "            if d.get(val,0):\n",
    "                d[val] = d[val] + [idx]\n",
    "            else:\n",
    "                d[val] = [idx]\n",
    "        for idx, val in enumerate(\"abcdefghijklmnopqrstuvwxyz\"):\n",
    "            if val in d.keys():\n",
    "                if distance[idx] != (d[val][-1] - d[val][0] - 1):\n",
    "                    return False\n",
    "        return True"
   ]
  },
  {
   "cell_type": "code",
   "execution_count": 35,
   "metadata": {},
   "outputs": [
    {
     "name": "stdout",
     "output_type": "stream",
     "text": [
      "{'a': [0, 2], 'b': [1, 6], 'c': [3, 5], 'd': [4, 7]}\n",
      "a 1 1\n",
      "b 4 4\n",
      "c 1 1\n",
      "d 5 2\n"
     ]
    },
    {
     "data": {
      "text/plain": [
       "False"
      ]
     },
     "execution_count": 35,
     "metadata": {},
     "output_type": "execute_result"
    }
   ],
   "source": [
    "s = \"abacdcbd\"; distance = [1,4,1,5,0,0,0,0,0,0,0,0,0,0,0,0,0,0,0,0,0,0,0,0,0,0]\n",
    "#s = \"aa\"; distance = [1,0,0,0,0,0,0,0,0,0,0,0,0,0,0,0,0,0,0,0,0,0,0,0,0,0]\n",
    "Solution().checkDistances(s, distance)"
   ]
  },
  {
   "cell_type": "code",
   "execution_count": 78,
   "metadata": {},
   "outputs": [],
   "source": [
    "class Solution:\n",
    "    def longestNiceSubarray(self, nums: List[int]) -> int:\n",
    "        from itertools import combinations\n",
    "        length = len(nums)\n",
    "        max_length = 1\n",
    "        for idx in range(length):\n",
    "            for idx_ in range(1,length-idx+1):\n",
    "                temp = nums[idx:idx+idx_]\n",
    "                length_ = len(temp)\n",
    "                print(temp, length_)\n",
    "                if length_>1:\n",
    "                    if not any(list(map(lambda x: x[0]&x[1] ,list(combinations(temp, 2))))):\n",
    "                        if length_>max_length:\n",
    "                            max_length = length_\n",
    "                            print(\"Max length: \", max_length)\n",
    "        return max_length                    "
   ]
  },
  {
   "cell_type": "code",
   "execution_count": 87,
   "metadata": {},
   "outputs": [
    {
     "data": {
      "text/plain": [
       "4"
      ]
     },
     "execution_count": 87,
     "metadata": {},
     "output_type": "execute_result"
    }
   ],
   "source": [
    "12&4"
   ]
  },
  {
   "cell_type": "code",
   "execution_count": 90,
   "metadata": {},
   "outputs": [
    {
     "data": {
      "text/plain": [
       "{(1, 8): 0,\n",
       " (1, 48): 0,\n",
       " (1, 10): 0,\n",
       " (3, 8): 0,\n",
       " (3, 48): 0,\n",
       " (8, 48): 0,\n",
       " (48, 10): 0}"
      ]
     },
     "execution_count": 90,
     "metadata": {},
     "output_type": "execute_result"
    }
   ],
   "source": [
    "from itertools import combinations\n",
    "new_dict = {}\n",
    "for i,j in list(combinations(nums,2)):\n",
    "    if not i&j:\n",
    "        new_dict[(i,j)] = i&j\n",
    "new_dict"
   ]
  },
  {
   "cell_type": "code",
   "execution_count": 97,
   "metadata": {},
   "outputs": [
    {
     "data": {
      "text/plain": [
       "{1, 3, 8, 10, 48}"
      ]
     },
     "execution_count": 97,
     "metadata": {},
     "output_type": "execute_result"
    }
   ],
   "source": [
    "new_list = set()\n",
    "for i,j in  new_dict.keys():\n",
    "    new_list.add(i)\n",
    "    new_list.add(j)\n",
    "new_list    "
   ]
  },
  {
   "cell_type": "code",
   "execution_count": null,
   "metadata": {},
   "outputs": [],
   "source": []
  },
  {
   "cell_type": "code",
   "execution_count": 79,
   "metadata": {},
   "outputs": [
    {
     "name": "stdout",
     "output_type": "stream",
     "text": [
      "[1] 1\n",
      "[1, 3] 2\n",
      "[1, 3, 8] 3\n",
      "[1, 3, 8, 48] 4\n",
      "[1, 3, 8, 48, 10] 5\n",
      "[3] 1\n",
      "[3, 8] 2\n",
      "Max length:  2\n",
      "[3, 8, 48] 3\n",
      "Max length:  3\n",
      "[3, 8, 48, 10] 4\n",
      "[8] 1\n",
      "[8, 48] 2\n",
      "[8, 48, 10] 3\n",
      "[48] 1\n",
      "[48, 10] 2\n",
      "[10] 1\n"
     ]
    },
    {
     "data": {
      "text/plain": [
       "3"
      ]
     },
     "execution_count": 79,
     "metadata": {},
     "output_type": "execute_result"
    }
   ],
   "source": [
    "nums = [1,3,8,48,10]\n",
    "#nums = [3,1,5,11,13]\n",
    "#nums = [1]\n",
    "Solution().longestNiceSubarray(nums)"
   ]
  },
  {
   "cell_type": "code",
   "execution_count": 70,
   "metadata": {},
   "outputs": [
    {
     "data": {
      "text/plain": [
       "0"
      ]
     },
     "execution_count": 70,
     "metadata": {},
     "output_type": "execute_result"
    }
   ],
   "source": [
    "8&3"
   ]
  }
 ],
 "metadata": {
  "kernelspec": {
   "display_name": "Python 3.8.8 ('base')",
   "language": "python",
   "name": "python3"
  },
  "language_info": {
   "codemirror_mode": {
    "name": "ipython",
    "version": 3
   },
   "file_extension": ".py",
   "mimetype": "text/x-python",
   "name": "python",
   "nbconvert_exporter": "python",
   "pygments_lexer": "ipython3",
   "version": "3.8.8"
  },
  "orig_nbformat": 4,
  "vscode": {
   "interpreter": {
    "hash": "ad2bdc8ecc057115af97d19610ffacc2b4e99fae6737bb82f5d7fb13d2f2c186"
   }
  }
 },
 "nbformat": 4,
 "nbformat_minor": 2
}
