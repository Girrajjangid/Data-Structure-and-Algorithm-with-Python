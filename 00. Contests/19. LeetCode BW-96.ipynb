{
 "cells": [
  {
   "cell_type": "code",
   "execution_count": 1,
   "metadata": {},
   "outputs": [],
   "source": [
    "from typing import List"
   ]
  },
  {
   "cell_type": "code",
   "execution_count": 8,
   "metadata": {},
   "outputs": [],
   "source": [
    "class Solution:\n",
    "    def getCommon(self, nums1: List[int], nums2: List[int]) -> int:\n",
    "        p1=p2=0\n",
    "        while p1<len(nums1) and p2<len(nums2):\n",
    "            if nums1[p1]==nums2[p2]: return nums1[p1]\n",
    "            if nums1[p1]< nums2[p2]:\n",
    "                p1+=1\n",
    "            else:\n",
    "                p2+=1\n",
    "        return -1"
   ]
  },
  {
   "cell_type": "code",
   "execution_count": 9,
   "metadata": {},
   "outputs": [
    {
     "data": {
      "text/plain": [
       "-1"
      ]
     },
     "execution_count": 9,
     "metadata": {},
     "output_type": "execute_result"
    }
   ],
   "source": [
    "nums1 = [1,2,3]; nums2 = [2,4]\n",
    "nums1 = [1,6]; nums2 = [2,3,4,5]\n",
    "Solution().getCommon(nums1, nums2)"
   ]
  },
  {
   "cell_type": "code",
   "execution_count": 76,
   "metadata": {},
   "outputs": [],
   "source": [
    "class Solution:\n",
    "    def minOperations(self, nums1: List[int], nums2: List[int], k: int) -> int:\n",
    "        n = len(nums1)\n",
    "        diff = [nums1[i] - nums2[i] for i in range(n)]\n",
    "        if sum(diff) % k != 0: return -1\n",
    "        ops = 0\n",
    "        diff.sort()\n",
    "        length_d = len(diff)\n",
    "        l,r = 0, length_d-1\n",
    "        while l<r:\n",
    "            #print(l,r, diff, ops)\n",
    "            if diff[l]%k!=0: return -1\n",
    "            if diff[r]%k!=0: return -1\n",
    "            while r>l and diff[r]==0:\n",
    "                r-=1\n",
    "            while l<r and diff[l]==0:\n",
    "                l+=1\n",
    "            if l==r: break\n",
    "            if diff[l]<0 and diff[r]>0:\n",
    "                ops+=1\n",
    "                diff[l]+=k\n",
    "                diff[r]-=k\n",
    "            else:\n",
    "                #print(l,r)\n",
    "                return -1\n",
    "        return ops"
   ]
  },
  {
   "cell_type": "code",
   "execution_count": 78,
   "metadata": {},
   "outputs": [
    {
     "data": {
      "text/plain": [
       "2"
      ]
     },
     "execution_count": 78,
     "metadata": {},
     "output_type": "execute_result"
    }
   ],
   "source": [
    "nums1 = [4,3,1,4]; nums2 = [1,3,7,1]; k = 3\n",
    "nums1 = [3,8,5,2]; nums2 = [2,4,1,6]; k = 1\n",
    "Solution().minOperations(nums1, nums2, k)"
   ]
  }
 ],
 "metadata": {
  "kernelspec": {
   "display_name": "base",
   "language": "python",
   "name": "python3"
  },
  "language_info": {
   "codemirror_mode": {
    "name": "ipython",
    "version": 3
   },
   "file_extension": ".py",
   "mimetype": "text/x-python",
   "name": "python",
   "nbconvert_exporter": "python",
   "pygments_lexer": "ipython3",
   "version": "3.9.13"
  },
  "orig_nbformat": 4,
  "vscode": {
   "interpreter": {
    "hash": "fecfa28de78ead09ec2989a580469213059448baba5e0b02aeeb7641afb84221"
   }
  }
 },
 "nbformat": 4,
 "nbformat_minor": 2
}
