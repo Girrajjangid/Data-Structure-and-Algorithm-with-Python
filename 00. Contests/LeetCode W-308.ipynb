{
 "cells": [
  {
   "cell_type": "code",
   "execution_count": 13,
   "metadata": {},
   "outputs": [],
   "source": [
    "from itertools import combinations\n",
    "from typing import List\n",
    "\n",
    "comb = combinations([4, 5, 2,1], 3)\n",
    "#for i in list(comb):\n",
    "#    print (i)"
   ]
  },
  {
   "cell_type": "code",
   "execution_count": 29,
   "metadata": {},
   "outputs": [],
   "source": [
    "class Solution:\n",
    "    def answerQueries(self, nums: List[int], queries: List[int]) -> List[int]:\n",
    "        from itertools import combinations\n",
    "        main_output = []\n",
    "        for idx, val in enumerate(queries):   #[3,10,21]\n",
    "            print(val, end=' ')\n",
    "            max_ = 0\n",
    "            for i in combinations(nums, val): #[4,5,2,1], \n",
    "                sum_ = sum(i)\n",
    "                print(i, sum_)\n",
    "                if sum_ <= val:\n",
    "                    if sum_>max_:\n",
    "                        max_ = sum_\n",
    "            main_output.append(max_)\n",
    "        return main_output"
   ]
  },
  {
   "cell_type": "code",
   "execution_count": 30,
   "metadata": {},
   "outputs": [
    {
     "name": "stdout",
     "output_type": "stream",
     "text": [
      "3 (4, 5, 2) 11\n",
      "(4, 5, 1) 10\n",
      "(4, 2, 1) 7\n",
      "(5, 2, 1) 8\n",
      "10 21 "
     ]
    },
    {
     "data": {
      "text/plain": [
       "[0, 0, 0]"
      ]
     },
     "execution_count": 30,
     "metadata": {},
     "output_type": "execute_result"
    }
   ],
   "source": [
    "Solution().answerQueries([4,5,2,1], [3,10,21])"
   ]
  },
  {
   "cell_type": "code",
   "execution_count": null,
   "metadata": {},
   "outputs": [],
   "source": []
  },
  {
   "cell_type": "code",
   "execution_count": 31,
   "metadata": {},
   "outputs": [],
   "source": []
  },
  {
   "cell_type": "code",
   "execution_count": 36,
   "metadata": {},
   "outputs": [],
   "source": [
    "class Solution:\n",
    "    def removeStars(self, s: str) -> str:\n",
    "        from collections import deque\n",
    "        stack = deque()\n",
    "        counter = 0\n",
    "        for val in s:\n",
    "            if val=='*':\n",
    "                if counter>0:\n",
    "                    stack.pop()\n",
    "                    counter-=1\n",
    "            else:\n",
    "                stack.append(val)\n",
    "                counter+=1\n",
    "        return ''.join(stack)"
   ]
  },
  {
   "cell_type": "code",
   "execution_count": 46,
   "metadata": {},
   "outputs": [
    {
     "data": {
      "text/plain": [
       "'-'"
      ]
     },
     "execution_count": 46,
     "metadata": {},
     "output_type": "execute_result"
    }
   ],
   "source": [
    "s = \"leet**cod*e\"\n",
    "s = \"-\"\n",
    "Solution().removeStars(s)"
   ]
  },
  {
   "cell_type": "code",
   "execution_count": 130,
   "metadata": {},
   "outputs": [],
   "source": [
    "class Solution:\n",
    "    def garbageCollection(self, garbage: List[str], travel: List[int]) -> int:\n",
    "        p_stack, g_stack, m_stack=[], [], []\n",
    "        p_reach, g_reach, m_reach = 0,0,0\n",
    "        for idx, val in enumerate(garbage):\n",
    "            p_counts = val.count('P')\n",
    "            g_counts = val.count('G')\n",
    "            m_counts = val.count('M')\n",
    "            if idx==0:\n",
    "                p_stack.append(p_counts)\n",
    "                if p_counts:\n",
    "                    p_reach = idx\n",
    "                g_stack.append(g_counts)\n",
    "                if g_counts:\n",
    "                    g_reach = idx\n",
    "                m_stack.append(m_counts)\n",
    "                if m_counts:\n",
    "                    m_reach = idx\n",
    "            else:\n",
    "                p_stack.append(p_counts+travel[idx-1])\n",
    "                if p_counts:\n",
    "                    p_reach = idx\n",
    "                g_stack.append(g_counts+travel[idx-1])\n",
    "                if g_counts:\n",
    "                    g_reach = idx\n",
    "                m_stack.append(m_counts+travel[idx-1])\n",
    "                if m_counts:\n",
    "                    m_reach = idx\n",
    "        return sum([sum(p_stack[:p_reach+1]), sum(g_stack[:g_reach+1]), sum(m_stack[:m_reach+1])])"
   ]
  },
  {
   "cell_type": "code",
   "execution_count": 131,
   "metadata": {},
   "outputs": [
    {
     "data": {
      "text/plain": [
       "50"
      ]
     },
     "execution_count": 131,
     "metadata": {},
     "output_type": "execute_result"
    }
   ],
   "source": [
    "garbage = [\"G\",\"P\",\"GP\",\"GG\"] \n",
    "travel = [2,4,3]\n",
    "garbage = [\"MMM\",\"PGM\",\"GP\", 'M']\n",
    "travel = [3,10,2]\n",
    "Solution().garbageCollection(garbage, travel)"
   ]
  }
 ],
 "metadata": {
  "kernelspec": {
   "display_name": "Python 3.8.8 ('base')",
   "language": "python",
   "name": "python3"
  },
  "language_info": {
   "codemirror_mode": {
    "name": "ipython",
    "version": 3
   },
   "file_extension": ".py",
   "mimetype": "text/x-python",
   "name": "python",
   "nbconvert_exporter": "python",
   "pygments_lexer": "ipython3",
   "version": "3.8.8"
  },
  "orig_nbformat": 4,
  "vscode": {
   "interpreter": {
    "hash": "ad2bdc8ecc057115af97d19610ffacc2b4e99fae6737bb82f5d7fb13d2f2c186"
   }
  }
 },
 "nbformat": 4,
 "nbformat_minor": 2
}
