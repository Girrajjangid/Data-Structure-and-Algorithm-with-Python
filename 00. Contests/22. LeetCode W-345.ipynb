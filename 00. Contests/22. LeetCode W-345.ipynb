{
 "cells": [
  {
   "cell_type": "code",
   "execution_count": 102,
   "metadata": {},
   "outputs": [],
   "source": [
    "from typing import List\n",
    "\n",
    "class Solution:\n",
    "    def circularGameLosers(self, n: int, k: int) -> List[int]:\n",
    "        d = {i:0 for i in range(1, n+1)}\n",
    "        d[1] = 1\n",
    "        holding = 1\n",
    "        i = 1\n",
    "        while True:\n",
    "            if d[holding] > 1: break\n",
    "            holding = (holding+(i*k))%n\n",
    "            if holding==0:\n",
    "                d[n]+=1\n",
    "                holding = n\n",
    "            else:\n",
    "                d[holding]+=1\n",
    "            i+=1\n",
    "        return sorted([k for k,v in d.items() if v==0])\n",
    "        "
   ]
  },
  {
   "cell_type": "code",
   "execution_count": 103,
   "metadata": {},
   "outputs": [
    {
     "data": {
      "text/plain": [
       "[3]"
      ]
     },
     "execution_count": 103,
     "metadata": {},
     "output_type": "execute_result"
    }
   ],
   "source": [
    "n = 5; k = 2\n",
    "n = 4; k = 4\n",
    "n = 1; k = 1\n",
    "n = 3; k = 1\n",
    "Solution().circularGameLosers(n,k)"
   ]
  },
  {
   "cell_type": "code",
   "execution_count": 151,
   "metadata": {},
   "outputs": [],
   "source": [
    "class Solution:\n",
    "    def doesValidArrayExist(self, derived: List[int]) -> bool:\n",
    "        n = len(derived)\n",
    "        original = [0] * n\n",
    "        for i in range(n):\n",
    "            if i == n - 1:\n",
    "                original[i] = derived[i] ^ derived[0]\n",
    "            else:\n",
    "                original[i] = derived[i] ^ derived[i + 1]\n",
    "        return original, derived\n",
    "        for i in original:\n",
    "            if i == 0 or i == 1:\n",
    "                continue\n",
    "            else:\n",
    "                return False\n",
    "        return True"
   ]
  },
  {
   "cell_type": "code",
   "execution_count": 156,
   "metadata": {},
   "outputs": [
    {
     "data": {
      "text/plain": [
       "([0, 0], [1, 1])"
      ]
     },
     "execution_count": 156,
     "metadata": {},
     "output_type": "execute_result"
    }
   ],
   "source": [
    "derived = [1,1]\n",
    "#derived = [1,1,0]\n",
    "#derived = [1,0]\n",
    "Solution().doesValidArrayExist(derived)"
   ]
  },
  {
   "cell_type": "code",
   "execution_count": 211,
   "metadata": {},
   "outputs": [],
   "source": [
    "from functools import cache\n",
    "\n",
    "class Solution:\n",
    "    def maxMoves(self, grid):\n",
    "        m,n = len(grid), len(grid[0])\n",
    "        \n",
    "        @cache\n",
    "        def dfs(row, col):\n",
    "            max_len = 0\n",
    "            for dr in [-1, 0, 1]:\n",
    "                adj_row = row + dr\n",
    "                adj_col = col + 1\n",
    "                if 0 <= adj_row < m and 0 <= adj_col < n and grid[adj_row][adj_col] > grid[row][col]:\n",
    "                    max_len = max(max_len, dfs(adj_row, adj_col) + 1)\n",
    "\n",
    "            return max_len\n",
    "\n",
    "        \n",
    "        return max(dfs(row, 0) for row in range(m))\n",
    "        "
   ]
  },
  {
   "cell_type": "code",
   "execution_count": 213,
   "metadata": {},
   "outputs": [
    {
     "data": {
      "text/plain": [
       "3"
      ]
     },
     "execution_count": 213,
     "metadata": {},
     "output_type": "execute_result"
    }
   ],
   "source": [
    "grid = [[2,4,3,5],[5,4,9,3],[3,4,2,11],[10,9,13,15]]\n",
    "#grid = [[3,2,4],[2,1,9],[1,1,7]]\n",
    "Solution().maxMoves(grid)"
   ]
  },
  {
   "cell_type": "code",
   "execution_count": null,
   "metadata": {},
   "outputs": [],
   "source": []
  },
  {
   "cell_type": "code",
   "execution_count": null,
   "metadata": {},
   "outputs": [],
   "source": []
  },
  {
   "cell_type": "code",
   "execution_count": 205,
   "metadata": {},
   "outputs": [],
   "source": [
    "class Solution:\n",
    "    def countCompleteComponents(self, n: int, edges: List[List[int]]) -> int:\n",
    "        \n",
    "        graph = [[] for _ in range(n)]\n",
    "        visited = [False] * n\n",
    "        components = 0\n",
    "\n",
    "        # Build the adjacency list representation of the graph\n",
    "        for edge in edges:\n",
    "            u, v = edge\n",
    "            graph[u].append(v)\n",
    "            graph[v].append(u)\n",
    "\n",
    "        def dfs(node):\n",
    "            visited[node] = True\n",
    "            for neighbor in graph[node]:\n",
    "                if not visited[neighbor]:\n",
    "                    dfs(neighbor)\n",
    "\n",
    "        for node in range(n):\n",
    "            if not visited[node]:\n",
    "                dfs(node)\n",
    "                components += 1\n",
    "\n",
    "        return components"
   ]
  },
  {
   "cell_type": "code",
   "execution_count": 206,
   "metadata": {},
   "outputs": [
    {
     "data": {
      "text/plain": [
       "2"
      ]
     },
     "execution_count": 206,
     "metadata": {},
     "output_type": "execute_result"
    }
   ],
   "source": [
    "n = 6; edges = [[0,1],[0,2],[1,2],[3,4],[3,5]]\n",
    "#n = 6; edges = [[0,1],[0,2],[1,2],[3,4]]\n",
    "Solution().countCompleteComponents(n,edges)"
   ]
  }
 ],
 "metadata": {
  "kernelspec": {
   "display_name": "base",
   "language": "python",
   "name": "python3"
  },
  "language_info": {
   "codemirror_mode": {
    "name": "ipython",
    "version": 3
   },
   "file_extension": ".py",
   "mimetype": "text/x-python",
   "name": "python",
   "nbconvert_exporter": "python",
   "pygments_lexer": "ipython3",
   "version": "3.9.13"
  },
  "orig_nbformat": 4
 },
 "nbformat": 4,
 "nbformat_minor": 2
}
