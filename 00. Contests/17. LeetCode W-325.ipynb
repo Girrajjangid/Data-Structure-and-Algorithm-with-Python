{
 "cells": [
  {
   "cell_type": "code",
   "execution_count": 1,
   "metadata": {},
   "outputs": [],
   "source": [
    "from typing import List"
   ]
  },
  {
   "attachments": {},
   "cell_type": "markdown",
   "metadata": {},
   "source": [
    "#### 1. [6269]. Shortest Distance to Target String in a Circular Array"
   ]
  },
  {
   "cell_type": "code",
   "execution_count": 21,
   "metadata": {},
   "outputs": [],
   "source": [
    "class Solution:\n",
    "    def closetTarget(self, words: List[str], target: str, startIndex: int) -> int:\n",
    "        if target not in words: return -1\n",
    "        if words[startIndex] == target: return 0\n",
    "        rightcnt, leftcnt = startIndex, startIndex\n",
    "        length = len(words)\n",
    "        while True:\n",
    "            rightcnt = (rightcnt+1)%length\n",
    "            leftcnt  = (leftcnt-1+length)%length\n",
    "            if words[rightcnt] == target or words[leftcnt] == target:\n",
    "                return min(abs(startIndex-rightcnt), abs(startIndex-leftcnt))\n",
    "        return -1"
   ]
  },
  {
   "cell_type": "code",
   "execution_count": 22,
   "metadata": {},
   "outputs": [
    {
     "data": {
      "text/plain": [
       "1"
      ]
     },
     "execution_count": 22,
     "metadata": {},
     "output_type": "execute_result"
    }
   ],
   "source": [
    "words = [\"hello\",\"i\",\"am\",\"leetcode\",\"hello\"]; target = \"hello\"; startIndex = 1\n",
    "words = [\"a\",\"b\",\"leetcode\"]; target = \"leetcode\"; startIndex = 0\n",
    "words = [\"i\",\"eat\",\"leetcode\"]; target = \"ate\"; startIndex = 0\n",
    "words = ['I', 'love', 'my', 'life']; target='life'; startIndex=2\n",
    "Solution().closetTarget(words, target, startIndex)"
   ]
  },
  {
   "attachments": {},
   "cell_type": "markdown",
   "metadata": {},
   "source": [
    "#### 2. [6270]. Take K of Each Character From Left and Right"
   ]
  },
  {
   "cell_type": "code",
   "execution_count": 180,
   "metadata": {},
   "outputs": [],
   "source": [
    "class Solution:\n",
    "    def takeCharacters(self, s: str, k: int) -> int:\n",
    "        def min_time(s: str, k: int) -> int:\n",
    "            # Initialize variables to track the number of times we take each character\n",
    "            a_count = 0\n",
    "            b_count = 0\n",
    "            c_count = 0\n",
    "            \n",
    "            # Initialize variables to track the left and right indices\n",
    "            left = 0\n",
    "            right = len(s) - 1\n",
    "            \n",
    "            # Initialize a counter for the number of minutes\n",
    "            minutes = 0\n",
    "            \n",
    "            # While we haven't taken k of each character\n",
    "            while a_count < k or b_count < k or c_count < k:\n",
    "                # If the left and right indices meet, it is not possible to take k of each character\n",
    "                if left > right:\n",
    "                    return -1\n",
    "                \n",
    "                # Compare the characters at the left and right indices\n",
    "                if s[left] == s[right]:\n",
    "                    # If they are the same, we have to take one of them\n",
    "                    ch = s[left]\n",
    "                    left += 1\n",
    "                    right -= 1\n",
    "                    minutes += 2\n",
    "                elif s[left] == 'a':\n",
    "                    # If the left character is 'a' and the right character is not, take the left character\n",
    "                    # since it occurs less frequently\n",
    "                    ch = s[left]\n",
    "                    left += 1\n",
    "                    minutes += 1\n",
    "                elif s[right] == 'a':\n",
    "                    # If the right character is 'a' and the left character is not, take the right character\n",
    "                    # since it occurs less frequently\n",
    "                    ch = s[right]\n",
    "                    right -= 1\n",
    "                    minutes += 1\n",
    "                elif s[left] == 'b':\n",
    "                    # If the left character is 'b' and the right character is not, take the left character\n",
    "                    # since it occurs less frequently\n",
    "                    ch = s[left]\n",
    "                    left += 1\n",
    "                    minutes += 1\n",
    "                elif s[right] == 'b':\n",
    "                    # If the right character is 'b' and the left character is not, take the right character\n",
    "                    # since it occurs less frequently\n",
    "                    ch = s[right]\n",
    "                    right -= 1\n",
    "                    minutes += 1\n",
    "                elif s[left] == 'c':\n",
    "                    # If the left character is 'c' and the right character is not, take the left character\n",
    "                    # since it occurs less frequently\n",
    "                    ch = s[left]\n",
    "                    left += 1\n",
    "                    minutes += 1\n",
    "                elif s[right] == 'c':\n",
    "                    # If the right character is 'c' and the left character is not, take the right character\n",
    "                    # since it occurs less frequently\n",
    "                    ch = s[right]\n",
    "                    right -= 1\n",
    "                    minutes += 1\n",
    "                \n",
    "                # Increment the count for the character we took\n",
    "                if ch == 'a':\n",
    "                    a_count += 1\n",
    "                elif ch == 'b':\n",
    "                    b_count += 1\n",
    "                elif ch == 'c':\n",
    "                    c_count += 1\n",
    "            \n",
    "            return minutes\n",
    "        return min_time(s,k)"
   ]
  },
  {
   "cell_type": "code",
   "execution_count": 181,
   "metadata": {},
   "outputs": [
    {
     "data": {
      "text/plain": [
       "-1"
      ]
     },
     "execution_count": 181,
     "metadata": {},
     "output_type": "execute_result"
    }
   ],
   "source": [
    "s = \"aabaaaacaabc\"; k = 2\n",
    "#s = \"a\"; k = 1\n",
    "#s = \"bcca\"; k=1\n",
    "#s = \"ccbabcc\"; k=1\n",
    "Solution().takeCharacters(s,k)"
   ]
  },
  {
   "cell_type": "code",
   "execution_count": 165,
   "metadata": {},
   "outputs": [],
   "source": [
    "class Solution:\n",
    "    def maximumTastiness(self, price: List[int], k: int) -> int:\n",
    "        # Sort the prices in ascending order\n",
    "        price.sort()\n",
    "\n",
    "        # Take the k smallest elements\n",
    "        basket = price[:k]\n",
    "\n",
    "        # Return the difference between the k-1th and kth smallest elements\n",
    "        return basket[k-1] - basket[k-2]\n"
   ]
  },
  {
   "cell_type": "code",
   "execution_count": 166,
   "metadata": {},
   "outputs": [
    {
     "data": {
      "text/plain": [
       "3"
      ]
     },
     "execution_count": 166,
     "metadata": {},
     "output_type": "execute_result"
    }
   ],
   "source": [
    "price = [13,5,1,8,21,2]; k = 3\n",
    "Solution().maximumTastiness(price, k)"
   ]
  },
  {
   "cell_type": "code",
   "execution_count": 190,
   "metadata": {},
   "outputs": [],
   "source": [
    "class Solution:\n",
    "    def countPartitions(self, nums: List[int], k: int) -> int:\n",
    "        # Initialize the dp array with all zeros\n",
    "        dp = [[0] * (sum(nums)+1) for _ in range(len(nums)+1)]\n",
    "        \n",
    "        # Set the base case dp[0][0] = 1\n",
    "        dp[0][0] = 1\n",
    "        \n",
    "        # Fill in the values of the dp array\n",
    "        for i in range(1, len(nums)+1):\n",
    "            for j in range(sum(nums)+1):\n",
    "                # If the current element is not included in the first partition,\n",
    "                # the number of partitions is equal to the number of partitions for the previous element\n",
    "                dp[i][j] = dp[i-1][j]\n",
    "                # If the current element is included in the first partition,\n",
    "                # the number of partitions is equal to the number of partitions for the previous element\n",
    "                # with the sum of the first partition reduced by the value of the current element\n",
    "                if j >= nums[i-1]:\n",
    "                    dp[i][j] += dp[i-1][j-nums[i-1]]\n",
    "        \n",
    "        # Initialize a counter for the number of great partitions\n",
    "        count = 0\n",
    "        \n",
    "        # Count the number of partitions where the sum of one of the partitions is greater than or equal to k\n",
    "        for i in range(k, sum(nums)+1):\n",
    "            count += dp[len(nums)][i]\n",
    "        \n",
    "        # Return the number of great partitions modulo 109 + 7\n",
    "        return count % (10**9 + 7)\n",
    "\n"
   ]
  },
  {
   "cell_type": "code",
   "execution_count": 191,
   "metadata": {},
   "outputs": [
    {
     "data": {
      "text/plain": [
       "11"
      ]
     },
     "execution_count": 191,
     "metadata": {},
     "output_type": "execute_result"
    }
   ],
   "source": [
    "nums = [1,2,3,4]; k = 4\n",
    "Solution().countPartitions(nums, k)"
   ]
  }
 ],
 "metadata": {
  "kernelspec": {
   "display_name": "base",
   "language": "python",
   "name": "python3"
  },
  "language_info": {
   "codemirror_mode": {
    "name": "ipython",
    "version": 3
   },
   "file_extension": ".py",
   "mimetype": "text/x-python",
   "name": "python",
   "nbconvert_exporter": "python",
   "pygments_lexer": "ipython3",
   "version": "3.9.13"
  },
  "orig_nbformat": 4,
  "vscode": {
   "interpreter": {
    "hash": "fecfa28de78ead09ec2989a580469213059448baba5e0b02aeeb7641afb84221"
   }
  }
 },
 "nbformat": 4,
 "nbformat_minor": 2
}
