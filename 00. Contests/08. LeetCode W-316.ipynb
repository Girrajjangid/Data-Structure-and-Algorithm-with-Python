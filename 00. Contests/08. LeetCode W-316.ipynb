{
 "cells": [
  {
   "cell_type": "code",
   "execution_count": 1,
   "metadata": {},
   "outputs": [],
   "source": [
    "from typing import List, Dict, Optional"
   ]
  },
  {
   "cell_type": "code",
   "execution_count": 31,
   "metadata": {},
   "outputs": [],
   "source": [
    "class Solution:\n",
    "    def haveConflict(self, event1: List[str], event2: List[str]) -> bool:\n",
    "        a1 = (int(event1[0][:2]) * 60) + int(event1[0][-2:])\n",
    "        a2 = (int(event1[1][:2]) * 60) + int(event1[1][-2:])\n",
    "        b1 = (int(event2[0][:2]) * 60) + int(event2[0][-2:])\n",
    "        b2 = (int(event2[1][:2]) * 60) + int(event2[1][-2:])        \n",
    "        #print(a1,a2, b1, b2)\n",
    "        if b1==a1 or a2==b2: return True\n",
    "        if b1<a1:\n",
    "            if b1<=a1<=b2: return True\n",
    "            elif b1<=a2<=b2: return True\n",
    "        else:\n",
    "            if a1<=b1<=a2: return True\n",
    "        return False"
   ]
  },
  {
   "cell_type": "code",
   "execution_count": 32,
   "metadata": {},
   "outputs": [
    {
     "data": {
      "text/plain": [
       "False"
      ]
     },
     "execution_count": 32,
     "metadata": {},
     "output_type": "execute_result"
    }
   ],
   "source": [
    "event1 = [\"01:15\",\"02:00\"]; event2 = [\"02:00\",\"03:00\"]\n",
    "event1 = [\"01:00\",\"02:00\"]; event2 = [\"01:20\",\"03:00\"]\n",
    "event1 = [\"10:00\",\"11:00\"]; event2 = [\"14:00\",\"15:00\"]\n",
    "Solution().haveConflict(event1, event2)"
   ]
  },
  {
   "cell_type": "code",
   "execution_count": 69,
   "metadata": {},
   "outputs": [],
   "source": [
    "class Solution:\n",
    "    from math import gcd\n",
    "    def subarrayGCD(self, nums: List[int], k: int) -> int:\n",
    "        n = len(nums)\n",
    "        ans = 0\n",
    "        for i in range(n):\n",
    "            curr_gcd = 0\n",
    "            for j in range(i, n) :\n",
    "                curr_gcd = gcd(curr_gcd, nums[j])\n",
    "                ans += (curr_gcd == k)\n",
    "        return ans;        "
   ]
  },
  {
   "cell_type": "code",
   "execution_count": 70,
   "metadata": {},
   "outputs": [
    {
     "data": {
      "text/plain": [
       "0"
      ]
     },
     "execution_count": 70,
     "metadata": {},
     "output_type": "execute_result"
    }
   ],
   "source": [
    "numss = [9,3,1,2,6,3]; k = 3\n",
    "nums = [4]; k = 7\n",
    "Solution().subarrayGCD(numss, k)"
   ]
  },
  {
   "cell_type": "code",
   "execution_count": null,
   "metadata": {},
   "outputs": [],
   "source": []
  },
  {
   "cell_type": "code",
   "execution_count": 106,
   "metadata": {},
   "outputs": [],
   "source": [
    "class Solution:\n",
    "    def minCost(self, nums: List[int], cost: List[int]) -> int:\n",
    "        min_ = float('inf')\n",
    "        x = sorted(list(zip(cost,nums)), reverse=True)\n",
    "        for v, val1 in x:#val1 = x[0][1]\n",
    "            a = sum(abs(val1-val)*cost[idx1] for idx1, val in enumerate(nums))\n",
    "            min_ = min(min_,a)\n",
    "        return min_"
   ]
  },
  {
   "cell_type": "code",
   "execution_count": 108,
   "metadata": {},
   "outputs": [
    {
     "data": {
      "text/plain": [
       "8"
      ]
     },
     "execution_count": 108,
     "metadata": {},
     "output_type": "execute_result"
    }
   ],
   "source": [
    "nums = [1,3,5,2]; cost = [2,3,1,14]\n",
    "#nums = [2,2,2,2,2]; cost = [4,2,8,1,3]\n",
    "Solution().minCost(nums, cost)"
   ]
  },
  {
   "cell_type": "code",
   "execution_count": null,
   "metadata": {},
   "outputs": [],
   "source": []
  }
 ],
 "metadata": {
  "kernelspec": {
   "display_name": "Python 3.8.8 ('base')",
   "language": "python",
   "name": "python3"
  },
  "language_info": {
   "codemirror_mode": {
    "name": "ipython",
    "version": 3
   },
   "file_extension": ".py",
   "mimetype": "text/x-python",
   "name": "python",
   "nbconvert_exporter": "python",
   "pygments_lexer": "ipython3",
   "version": "3.8.8"
  },
  "orig_nbformat": 4,
  "vscode": {
   "interpreter": {
    "hash": "ad2bdc8ecc057115af97d19610ffacc2b4e99fae6737bb82f5d7fb13d2f2c186"
   }
  }
 },
 "nbformat": 4,
 "nbformat_minor": 2
}
