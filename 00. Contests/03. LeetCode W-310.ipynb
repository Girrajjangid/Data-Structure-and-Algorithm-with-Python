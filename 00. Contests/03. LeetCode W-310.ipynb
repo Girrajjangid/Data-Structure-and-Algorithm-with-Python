{
 "cells": [
  {
   "cell_type": "code",
   "execution_count": 2,
   "metadata": {},
   "outputs": [],
   "source": [
    "from typing import List, Tuple, Dict"
   ]
  },
  {
   "cell_type": "code",
   "execution_count": null,
   "metadata": {},
   "outputs": [],
   "source": []
  },
  {
   "cell_type": "code",
   "execution_count": 109,
   "metadata": {},
   "outputs": [],
   "source": [
    "class Solution:\n",
    "    def mostFrequentEven(self, nums: List[int]) -> int:\n",
    "        from collections import Counter\n",
    "        evens = [i for i in nums if i%2==0]\n",
    "        #print(evens)\n",
    "        if evens:\n",
    "            return sorted(Counter(evens).most_common(), key=lambda x: (-x[1],x[0]))[0][0]\n",
    "        else:\n",
    "            return -1"
   ]
  },
  {
   "cell_type": "code",
   "execution_count": 115,
   "metadata": {},
   "outputs": [
    {
     "name": "stdout",
     "output_type": "stream",
     "text": [
      "[4]\n"
     ]
    },
    {
     "data": {
      "text/plain": [
       "4"
      ]
     },
     "execution_count": 115,
     "metadata": {},
     "output_type": "execute_result"
    }
   ],
   "source": [
    "nums = [4]\n",
    "#nums = [8154,9139,8194,3346,5450,9190,133,8239,4606,8671,8412,6290]\n",
    "#nums = [0,1,2,2,4,4,1]\n",
    "#nums = [4,4,4,9,2,4]\n",
    "#nums = [29,47,21,41,13,37,25,7]\n",
    "Solution().mostFrequentEven(nums)"
   ]
  },
  {
   "cell_type": "code",
   "execution_count": null,
   "metadata": {},
   "outputs": [],
   "source": []
  },
  {
   "cell_type": "code",
   "execution_count": 125,
   "metadata": {},
   "outputs": [],
   "source": [
    "class Solution:\n",
    "    def partitionString(self, s: str) -> int:\n",
    "        length = len(s)-1\n",
    "        d = {}\n",
    "        subs = \"\"\n",
    "        res = []\n",
    "        for idx, val in enumerate(s):\n",
    "            x = d.get(val,0)\n",
    "            if x:\n",
    "                res.append(subs)\n",
    "                subs = \"\"\n",
    "                d = {} \n",
    "            d[val] = 1\n",
    "            subs += val\n",
    "        res.append(subs)\n",
    "        return len(res)"
   ]
  },
  {
   "cell_type": "code",
   "execution_count": 124,
   "metadata": {},
   "outputs": [
    {
     "data": {
      "text/plain": [
       "['qwsaedkth', 'sqwad']"
      ]
     },
     "execution_count": 124,
     "metadata": {},
     "output_type": "execute_result"
    }
   ],
   "source": [
    "s = \"abacaba\"\n",
    "s = \"ssssss\"\n",
    "s = \"qwsaedkthsqwad\"\n",
    "Solution().partitionString(s)"
   ]
  },
  {
   "cell_type": "code",
   "execution_count": null,
   "metadata": {},
   "outputs": [],
   "source": []
  },
  {
   "cell_type": "code",
   "execution_count": 178,
   "metadata": {},
   "outputs": [],
   "source": [
    "class Solution:\n",
    "    def minGroups(self, intervals: List[List[int]]) -> int:\n",
    "        length = len(intervals)\n",
    "        d = {}\n",
    "        intervals.sort()\n",
    "        #print(intervals)\n",
    "        minimum_groups = 0\n",
    "        for idx, (val1,val2) in enumerate(intervals):\n",
    "            present = d.get(str(val1)+str(val2), 0)\n",
    "            if present: continue\n",
    "            d[str(val1)+str(val2)] = 1\n",
    "            counter = idx+1\n",
    "            minimum_groups += 1\n",
    "            temp = val2\n",
    "            while counter < length:\n",
    "                if intervals[counter][0] <= temp:\n",
    "                    counter+=1\n",
    "                    continue\n",
    "                else:\n",
    "                    temp = intervals[counter][1]\n",
    "                    #print(str(intervals[counter][0])+str(intervals[counter][1]))\n",
    "                    if d.get(str(intervals[counter][0])+str(intervals[counter][1]), 0): \n",
    "                        counter+=1\n",
    "                        continue\n",
    "                    d[str(intervals[counter][0])+str(intervals[counter][1])] = 1\n",
    "                    counter+=1\n",
    "            #print(d, minimum_groups)\n",
    "        return minimum_groups                "
   ]
  },
  {
   "cell_type": "code",
   "execution_count": 181,
   "metadata": {},
   "outputs": [
    {
     "data": {
      "text/plain": [
       "4"
      ]
     },
     "execution_count": 181,
     "metadata": {},
     "output_type": "execute_result"
    }
   ],
   "source": [
    "intervals = [[5,10],[6,8],[1,5],[2,3],[1,10]]\n",
    "intervals = [[1,3],[5,6],[8,10],[11,13]]\n",
    "intervals = [[441459,446342],[801308,840640],[871890,963447],[228525,336985],\n",
    "             [807945,946787],[479815,507766],[693292,944029],[751962,821744]]\n",
    "Solution().minGroups(intervals)"
   ]
  },
  {
   "cell_type": "code",
   "execution_count": 168,
   "metadata": {},
   "outputs": [
    {
     "data": {
      "text/plain": [
       "[[228525, 336985],\n",
       " [441459, 446342],\n",
       " [479815, 507766],\n",
       " [693292, 944029],\n",
       " [751962, 821744],\n",
       " [801308, 840640],\n",
       " [807945, 946787],\n",
       " [871890, 963447]]"
      ]
     },
     "execution_count": 168,
     "metadata": {},
     "output_type": "execute_result"
    }
   ],
   "source": [
    "intervals = [[441459,446342],[801308,840640],[871890,963447],[228525,336985],\n",
    "             [807945,946787],[479815,507766],[693292,944029],[751962,821744]]\n",
    "intervals.sort()\n",
    "intervals"
   ]
  }
 ],
 "metadata": {
  "kernelspec": {
   "display_name": "Python 3.8.8 ('base')",
   "language": "python",
   "name": "python3"
  },
  "language_info": {
   "codemirror_mode": {
    "name": "ipython",
    "version": 3
   },
   "file_extension": ".py",
   "mimetype": "text/x-python",
   "name": "python",
   "nbconvert_exporter": "python",
   "pygments_lexer": "ipython3",
   "version": "3.8.8"
  },
  "orig_nbformat": 4,
  "vscode": {
   "interpreter": {
    "hash": "ad2bdc8ecc057115af97d19610ffacc2b4e99fae6737bb82f5d7fb13d2f2c186"
   }
  }
 },
 "nbformat": 4,
 "nbformat_minor": 2
}
