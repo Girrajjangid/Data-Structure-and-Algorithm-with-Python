{
 "cells": [
  {
   "cell_type": "code",
   "execution_count": 1,
   "metadata": {},
   "outputs": [],
   "source": [
    "from typing import List, Dict, Optional"
   ]
  },
  {
   "cell_type": "code",
   "execution_count": 28,
   "metadata": {},
   "outputs": [],
   "source": [
    "class Solution:\n",
    "    def applyOperations(self, nums: List[int]) -> List[int]:\n",
    "        length = len(nums)\n",
    "        temp1 = []\n",
    "        temp2 = []\n",
    "        for idx in range(length-1):\n",
    "            if nums[idx]==nums[idx+1]:\n",
    "                temp1.append(nums[idx]*2)\n",
    "                nums[idx+1] = 0\n",
    "            else:\n",
    "                temp1.append(nums[idx])\n",
    "        temp1.append(nums[idx+1])\n",
    "        temp3 = []\n",
    "        for val in temp1:\n",
    "            if val==0:\n",
    "               temp2.append(0)\n",
    "            else:\n",
    "              temp3.append(val)\n",
    "        return temp3+temp2"
   ]
  },
  {
   "cell_type": "code",
   "execution_count": 31,
   "metadata": {},
   "outputs": [
    {
     "data": {
      "text/plain": [
       "[1, 0]"
      ]
     },
     "execution_count": 31,
     "metadata": {},
     "output_type": "execute_result"
    }
   ],
   "source": [
    "nums = [1,2,2,1,1,0]\n",
    "nums = [0,1]\n",
    "Solution().applyOperations(nums)"
   ]
  },
  {
   "cell_type": "code",
   "execution_count": null,
   "metadata": {},
   "outputs": [],
   "source": []
  },
  {
   "cell_type": "markdown",
   "metadata": {},
   "source": [
    "#### 6230. Maximum Sum of Distinct Subarrays With Length K"
   ]
  },
  {
   "cell_type": "code",
   "execution_count": 79,
   "metadata": {},
   "outputs": [],
   "source": [
    "class Solution:\n",
    "    def maximumSubarraySum(self, nums: List[int], k: int) -> int:\n",
    "        length = len(nums)\n",
    "        temp = []\n",
    "        \n",
    "        res = []\n",
    "        d = {}\n",
    "        ms = 0\n",
    "        i = 0\n",
    "        for idx, val in enumerate(nums):\n",
    "            if i<k:\n",
    "                d[val] = d.get(val,0)+1\n",
    "                ms+=d[val]\n",
    "            else:\n",
    "                if ms==k:\n",
    "                    res.append(1)\n",
    "                else:\n",
    "                    res.append(0)\n",
    "                ms-= d[idx-k]\n",
    "                if d[idx-k] == 1:\n",
    "                    d.pop(idx-k)\n",
    "                else:\n",
    "                   d[idx-k] -= 1\n",
    "                #i=0\n",
    "                d[val] = d.get(val,0)+1\n",
    "                ms+=d[val]\n",
    "                if ms==k:\n",
    "                    res.append(1)\n",
    "                else:\n",
    "                    res.append(0)\n",
    "                    \n",
    "            \n",
    "        for idx, val in enumerate(nums):\n",
    "            d[val] = d.get(val,0) + 1\n",
    "            temp.append(d[val])\n",
    "        temp2 = []\n",
    "        last = 0\n",
    "        for val in nums:\n",
    "            last+=val\n",
    "            temp2.append(last)\n",
    "        print(temp)\n",
    "        length = len(nums)\n",
    "        i, j= 0, k\n",
    "        while j<=length:\n",
    "            print(nums[i:j])\n",
    "            i+=1\n",
    "            j+=1\n",
    "        "
   ]
  },
  {
   "cell_type": "code",
   "execution_count": 86,
   "metadata": {},
   "outputs": [],
   "source": [
    "#d = {'a':'b'}\n",
    "#d.pop('c',None)"
   ]
  },
  {
   "cell_type": "code",
   "execution_count": 80,
   "metadata": {},
   "outputs": [
    {
     "name": "stdout",
     "output_type": "stream",
     "text": [
      "[1, 1, 1, 1, 1, 2, 3, 2, 2, 2]\n",
      "[1, 5, 4]\n",
      "[5, 4, 2]\n",
      "[4, 2, 9]\n",
      "[2, 9, 9]\n",
      "[9, 9, 9]\n",
      "[9, 9, 5]\n",
      "[9, 5, 4]\n",
      "[5, 4, 2]\n"
     ]
    }
   ],
   "source": [
    "nums = [1,5,4,2,9,9,9,5,4,2]; k = 3\n",
    "#nums = [6,6,6,1,2,3]; k = 3\n",
    "#nums  =  [7, 7, 2, 4, 2,7, 4, 6, 6, 6]; k = 6\n",
    "Solution().maximumSubarraySum(nums, k)"
   ]
  },
  {
   "cell_type": "code",
   "execution_count": null,
   "metadata": {},
   "outputs": [],
   "source": []
  },
  {
   "cell_type": "code",
   "execution_count": null,
   "metadata": {},
   "outputs": [],
   "source": [
    "class Solution:\n",
    "    def totalCost(self, costs: List[int], k: int, candidates: int) -> int:\n",
    "        length = len(costs)\n",
    "        total_cost = 0\n",
    "        \n",
    "        while True:\n",
    "            min(costs[:candidates]), min(costs[candidates:]) "
   ]
  },
  {
   "cell_type": "code",
   "execution_count": 73,
   "metadata": {},
   "outputs": [
    {
     "data": {
      "text/plain": [
       "['__class__',\n",
       " '__contains__',\n",
       " '__delattr__',\n",
       " '__delitem__',\n",
       " '__dir__',\n",
       " '__doc__',\n",
       " '__eq__',\n",
       " '__format__',\n",
       " '__ge__',\n",
       " '__getattribute__',\n",
       " '__getitem__',\n",
       " '__gt__',\n",
       " '__hash__',\n",
       " '__init__',\n",
       " '__init_subclass__',\n",
       " '__iter__',\n",
       " '__le__',\n",
       " '__len__',\n",
       " '__lt__',\n",
       " '__ne__',\n",
       " '__new__',\n",
       " '__reduce__',\n",
       " '__reduce_ex__',\n",
       " '__repr__',\n",
       " '__reversed__',\n",
       " '__setattr__',\n",
       " '__setitem__',\n",
       " '__sizeof__',\n",
       " '__str__',\n",
       " '__subclasshook__',\n",
       " 'clear',\n",
       " 'copy',\n",
       " 'fromkeys',\n",
       " 'get',\n",
       " 'items',\n",
       " 'keys',\n",
       " 'pop',\n",
       " 'popitem',\n",
       " 'setdefault',\n",
       " 'update',\n",
       " 'values']"
      ]
     },
     "execution_count": 73,
     "metadata": {},
     "output_type": "execute_result"
    }
   ],
   "source": [
    "costs = [17,12,10,2,7,2,11,20,8]; k = 3; candidates = 4\n",
    "Solution().totalCost(costs, k, candidates)"
   ]
  }
 ],
 "metadata": {
  "kernelspec": {
   "display_name": "Python 3.8.8 ('base')",
   "language": "python",
   "name": "python3"
  },
  "language_info": {
   "codemirror_mode": {
    "name": "ipython",
    "version": 3
   },
   "file_extension": ".py",
   "mimetype": "text/x-python",
   "name": "python",
   "nbconvert_exporter": "python",
   "pygments_lexer": "ipython3",
   "version": "3.8.8"
  },
  "orig_nbformat": 4,
  "vscode": {
   "interpreter": {
    "hash": "ad2bdc8ecc057115af97d19610ffacc2b4e99fae6737bb82f5d7fb13d2f2c186"
   }
  }
 },
 "nbformat": 4,
 "nbformat_minor": 2
}
