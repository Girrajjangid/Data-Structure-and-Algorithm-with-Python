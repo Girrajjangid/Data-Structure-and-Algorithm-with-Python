{
 "cells": [
  {
   "cell_type": "code",
   "execution_count": 155,
   "metadata": {},
   "outputs": [],
   "source": [
    "from typing import List"
   ]
  },
  {
   "cell_type": "code",
   "execution_count": 156,
   "metadata": {},
   "outputs": [],
   "source": [
    "from typing import List\n",
    "\n",
    "class Solution:\n",
    "    def findPrimePairs(self, n: int) -> List[List[int]]:\n",
    "        is_prime = [True] * (n + 1)\n",
    "        primes = []\n",
    "        is_prime[0] = is_prime[1] = False\n",
    "        \n",
    "        for i in range(2, n + 1):\n",
    "            if is_prime[i]:\n",
    "                for j in range(i * i, n + 1, i):\n",
    "                    is_prime[j] = False\n",
    "                primes.append(i)\n",
    "\n",
    "        res = set()\n",
    "        added = {}\n",
    "        for prime in primes:\n",
    "            complement = n - prime\n",
    "            if is_prime[complement]:\n",
    "                if prime < complement:\n",
    "                    added[(prime, complement)] = True\n",
    "                    res.add((prime, complement))\n",
    "                else:\n",
    "                    added[(complement, prime)] = True\n",
    "                    res.add((complement, prime))\n",
    "        return sorted(res)\n"
   ]
  },
  {
   "cell_type": "code",
   "execution_count": 159,
   "metadata": {},
   "outputs": [
    {
     "data": {
      "text/plain": [
       "[(3, 7), (5, 5)]"
      ]
     },
     "execution_count": 159,
     "metadata": {},
     "output_type": "execute_result"
    }
   ],
   "source": [
    "Solution().findPrimePairs(10)"
   ]
  },
  {
   "cell_type": "code",
   "execution_count": null,
   "metadata": {},
   "outputs": [],
   "source": []
  },
  {
   "cell_type": "code",
   "execution_count": null,
   "metadata": {},
   "outputs": [],
   "source": [
    "class Solution:\n",
    "    def continuousSubarrays(self, nums: List[int]) -> int:\n",
    "        "
   ]
  },
  {
   "cell_type": "code",
   "execution_count": 170,
   "metadata": {},
   "outputs": [],
   "source": [
    "from typing import List\n",
    "\n",
    "class Solution:\n",
    "    def continuousSubarrays(self, nums: List[int]) -> int:\n",
    "        n = len(nums)\n",
    "        count = 0\n",
    "\n",
    "        for i in range(n):\n",
    "            j = i\n",
    "            while j < n and abs(nums[j] - nums[i]) <= 2:\n",
    "                count += 1\n",
    "                j += 1\n",
    "\n",
    "        return count\n"
   ]
  },
  {
   "cell_type": "code",
   "execution_count": 181,
   "metadata": {},
   "outputs": [],
   "source": [
    "from typing import List\n",
    "\n",
    "class Solution:\n",
    "    def continuousSubarrays(self, nums: List[int]) -> int:\n",
    "        count = 0\n",
    "        n = len(nums)\n",
    "\n",
    "        for i in range(n):\n",
    "            for j in range(i, n):\n",
    "                if max(nums[i:j+1]) - min(nums[i:j+1]) <= 2:\n",
    "                    count += 1\n",
    "\n",
    "        return count\n"
   ]
  },
  {
   "cell_type": "code",
   "execution_count": 183,
   "metadata": {},
   "outputs": [
    {
     "data": {
      "text/plain": [
       "8"
      ]
     },
     "execution_count": 183,
     "metadata": {},
     "output_type": "execute_result"
    }
   ],
   "source": [
    "nums = [5,4,2,4]\n",
    "#nums = [1,3,3,3,5]\n",
    "Solution().continuousSubarrays(nums)"
   ]
  },
  {
   "cell_type": "code",
   "execution_count": null,
   "metadata": {},
   "outputs": [],
   "source": []
  },
  {
   "cell_type": "code",
   "execution_count": 184,
   "metadata": {},
   "outputs": [],
   "source": [
    "from typing import List\n",
    "\n",
    "class Solution:\n",
    "    def longestAlternatingSubarray(self, nums: List[int], threshold: int) -> int:\n",
    "        max_length = 0\n",
    "        current_length = 0\n",
    "\n",
    "        for i in range(len(nums)):\n",
    "            if i > 0 and abs(nums[i] - nums[i - 1]) > threshold:\n",
    "                current_length = 0\n",
    "            if nums[i] % 2 == 0:\n",
    "                current_length += 1\n",
    "            else:\n",
    "                current_length = 1\n",
    "                \n",
    "            max_length = max(max_length, current_length)\n",
    "\n",
    "        return max_length\n"
   ]
  },
  {
   "cell_type": "code",
   "execution_count": 269,
   "metadata": {},
   "outputs": [],
   "source": [
    "from typing import List\n",
    "\n",
    "class Solution:\n",
    "    def longestAlternatingSubarray(self, nums: List[int], threshold: int) -> int:\n",
    "        max_length = 0\n",
    "        current_length = 0\n",
    "        start_point = -1\n",
    "        if len(nums)==1:\n",
    "            if (nums[0] % 2 == 0) and (nums[0] <= threshold): return 1\n",
    "            else: return 0 \n",
    "        for i in range(len(nums)-1):\n",
    "            #print(i)\n",
    "            if (nums[i] % 2 == 0) and (start_point == -1):\n",
    "                start_point = 1\n",
    "                current_length = 1\n",
    "                max_length = max(max_length, current_length)\n",
    "                #print(\"asdf\")\n",
    "                continue\n",
    "                            \n",
    "            if (nums[i] % 2 != nums[i + 1] % 2) and (nums[i] <= threshold) and (start_point==1):\n",
    "                current_length+=1\n",
    "            else:\n",
    "                current_length = 0\n",
    "                start_point = -1\n",
    "            \n",
    "            max_length = max(max_length, current_length)\n",
    "        if (nums[-1] <= threshold):\n",
    "           max_length = max(max_length, current_length+1)\n",
    "\n",
    "        return max_length\n"
   ]
  },
  {
   "cell_type": "code",
   "execution_count": 270,
   "metadata": {},
   "outputs": [
    {
     "data": {
      "text/plain": [
       "0"
      ]
     },
     "execution_count": 270,
     "metadata": {},
     "output_type": "execute_result"
    }
   ],
   "source": [
    "nums = [3,2,5,4]; threshold = 5\n",
    "nums = [1,2]; threshold = 2\n",
    "nums = [2,3,4,5]; threshold = 4\n",
    "nums = [1]; threshold = 1\n",
    "#nums = [2]; threshold = 2\n",
    "Solution().longestAlternatingSubarray(nums, threshold)"
   ]
  },
  {
   "cell_type": "code",
   "execution_count": null,
   "metadata": {},
   "outputs": [],
   "source": []
  }
 ],
 "metadata": {
  "kernelspec": {
   "display_name": "base",
   "language": "python",
   "name": "python3"
  },
  "language_info": {
   "codemirror_mode": {
    "name": "ipython",
    "version": 3
   },
   "file_extension": ".py",
   "mimetype": "text/x-python",
   "name": "python",
   "nbconvert_exporter": "python",
   "pygments_lexer": "ipython3",
   "version": "3.9.13"
  },
  "orig_nbformat": 4
 },
 "nbformat": 4,
 "nbformat_minor": 2
}
