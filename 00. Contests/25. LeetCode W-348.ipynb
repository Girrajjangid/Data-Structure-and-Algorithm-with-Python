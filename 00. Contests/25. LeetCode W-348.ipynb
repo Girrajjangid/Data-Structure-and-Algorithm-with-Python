{
 "cells": [
  {
   "cell_type": "code",
   "execution_count": 1,
   "metadata": {},
   "outputs": [],
   "source": [
    "from typing import List"
   ]
  },
  {
   "cell_type": "code",
   "execution_count": null,
   "metadata": {},
   "outputs": [],
   "source": [
    "class Solution:\n",
    "    def minimizedStringLength(self, s: str) -> int:\n",
    "        return len(set(s))\n",
    "        # t = [s[0]]\n",
    "        # for i in s:\n",
    "        #     if i != t[-1]:\n",
    "        #         t.append(i)\n",
    "        # return len(t)"
   ]
  },
  {
   "cell_type": "code",
   "execution_count": null,
   "metadata": {},
   "outputs": [],
   "source": [
    "s = \"aaabc\"\n",
    "s = \"cbbd\"\n",
    "s = \"dddaaa\"\n",
    "s = 'ipi'\n",
    "Solution().minimizedStringLength(s)"
   ]
  },
  {
   "cell_type": "code",
   "execution_count": null,
   "metadata": {},
   "outputs": [],
   "source": [
    "class Solution:\n",
    "    def semiOrderedPermutation(self, nums: List[int]) -> int:\n",
    "        arr = nums[::-1]\n",
    "        n = len(arr)\n",
    "        count = 0\n",
    "        max_el = max(arr)\n",
    "        min_el = min(arr)\n",
    "        if (min_el == max_el): return 0\n",
    "        index_max = -1\n",
    "        index_min = -1\n",
    "        for i in range(n):\t\t\n",
    "            if (arr[i] == max_el and index_max == -1):\n",
    "                index_max = i\n",
    "            if (arr[i] == min_el):\n",
    "                index_min = i\n",
    "\n",
    "        count += index_max\n",
    "        count += (n - 1 - index_min)\n",
    "        if (index_min < index_max):\n",
    "            count -= 1\n",
    "\n",
    "        return count"
   ]
  },
  {
   "cell_type": "code",
   "execution_count": null,
   "metadata": {},
   "outputs": [],
   "source": [
    "nums = [1,3,4,2,5]\n",
    "nums = [2,1,4,3]\n",
    "nums = [2,4,1,3]\n",
    "nums = [1,2,3]\n",
    "Solution().semiOrderedPermutation(nums)"
   ]
  },
  {
   "cell_type": "code",
   "execution_count": null,
   "metadata": {},
   "outputs": [],
   "source": [
    "# Input: num1 = \"1\", num2 = \"12\", min_num = 1, max_num = 8\n",
    "# Output: 11\n",
    "# Explanation: There are 11 integers whose sum of digits lies between 1 and 8 are 1,2,3,4,5,6,7,8,10,11, and 12. Thus, we return 11.\n",
    "\n",
    "# Input: num1 = \"1\", num2 = \"5\", min_num = 1, max_num = 5\n",
    "# Output: 5\n",
    "# Explanation: The 5 integers whose sum of digits lies between 1 and 5 are 1,2,3,4, and 5. Thus, we return 5."
   ]
  },
  {
   "cell_type": "code",
   "execution_count": null,
   "metadata": {},
   "outputs": [],
   "source": [
    "class Solution:\n",
    "    def count(self, num1: str, num2: str, min_sum: int, max_sum: int) -> int:\n",
    "        l,r = int(num1), int(num2)\n",
    "        min_sum, max_sum = int(min_sum), int(max_sum)\n",
    "        while l<r:\n",
    "            mid = (l+r)/2 if (l+r)%2==0 else (l+r+1)/2\n",
    "            if min_sum <= sum(map(int, str(int(mid)))) <= max_sum:\n",
    "                l = mid\n",
    "            else:\n",
    "                r = mid\n",
    "        return mid"
   ]
  },
  {
   "cell_type": "code",
   "execution_count": null,
   "metadata": {},
   "outputs": [],
   "source": [
    "class Solution:\n",
    "    def count(self, num1, num2, min_sum, max_sum):\n",
    "        MOD = int(1e9) + 7\n",
    "\n",
    "        def calculateCount(digit_sum):\n",
    "            if digit_sum < min_sum:\n",
    "                return 0\n",
    "            if digit_sum > max_sum:\n",
    "                return 0\n",
    "            return 1\n",
    "\n",
    "        num1 = int(num1)\n",
    "        num2 = int(num2)\n",
    "\n",
    "        count = 0\n",
    "        for num in range(1, num2 + 1):\n",
    "            digit_sum = sum(int(digit) for digit in str(num))\n",
    "            count += calculateCount(digit_sum)\n",
    "            count %= MOD\n",
    "\n",
    "        # Calculate the count of good integers for num1 - 1 and subtract it from the count of num2\n",
    "        for num in range(1, num1):\n",
    "            digit_sum = sum(int(digit) for digit in str(num))\n",
    "            count -= calculateCount(digit_sum)\n",
    "            count %= MOD\n",
    "\n",
    "        return count"
   ]
  },
  {
   "cell_type": "code",
   "execution_count": null,
   "metadata": {},
   "outputs": [],
   "source": [
    "num1 = \"1\"; num2 = \"12\"; min_num = 1; max_num = 8\n",
    "num1 = \"1\"; num2 = \"5\"; min_num = 1; max_num = 5\n",
    "nums = '10'; nums2 = '20'; min_num = 1; max_num = 9\n",
    "Solution().count(num1, num2, min_num, max_num)"
   ]
  },
  {
   "cell_type": "code",
   "execution_count": null,
   "metadata": {},
   "outputs": [],
   "source": []
  },
  {
   "cell_type": "code",
   "execution_count": null,
   "metadata": {},
   "outputs": [],
   "source": [
    "def countGoodIntegers(num1, num2, min_sum, max_sum):\n",
    "    MOD = int(1e9) + 7\n",
    "\n",
    "    # Convert num1 and num2 to integers\n",
    "    num1 = int(num1)\n",
    "    num2 = int(num2)\n",
    "\n",
    "    # Define a helper function to calculate the sum of digits modulo MOD\n",
    "    def digitSumModulo(num):\n",
    "        total = 0\n",
    "        while num > 0:\n",
    "            total += num % 10\n",
    "            num //= 10\n",
    "        return total % MOD\n",
    "\n",
    "    # Initialize a table to store the counts of good integers\n",
    "    table = [[0] * (max_sum + 1) for _ in range(max_sum + 1)]\n",
    "\n",
    "    # Calculate the cumulative counts of good integers\n",
    "    for i in range(1, max_sum + 1):\n",
    "        for j in range(i, max_sum + 1):\n",
    "            if i == j or i == 1:\n",
    "                table[i][j] = 1\n",
    "            else:\n",
    "                table[i][j] = (table[i][j - 1] + table[i - 1][j - 1]) % MOD\n",
    "\n",
    "    # Initialize the count of good integers\n",
    "    count = 0\n",
    "\n",
    "    # Calculate the count of good integers for the range num1 to num2\n",
    "    for num in range(num1, num2 + 1):\n",
    "        digit_sum = digitSumModulo(num)\n",
    "        if min_sum <= digit_sum <= max_sum:\n",
    "            count += table[min_sum][digit_sum]\n",
    "            count %= MOD\n",
    "\n",
    "    return count\n",
    "\n",
    "# Test the function\n",
    "num1 = \"1\"\n",
    "num2 = \"12\"\n",
    "min_sum = 1\n",
    "max_sum = 8\n",
    "print(countGoodIntegers(num1, num2, min_sum, max_sum))  # Output: 11\n",
    "\n",
    "num1 = \"1000000007\"\n",
    "num2 = \"2000000014\"\n",
    "min_sum = 1\n",
    "max_sum = 400\n",
    "print(countGoodIntegers(num1, num2, min_sum, max_sum))  # Output: 416\n",
    "\n"
   ]
  },
  {
   "cell_type": "code",
   "execution_count": 2,
   "metadata": {},
   "outputs": [
    {
     "name": "stdout",
     "output_type": "stream",
     "text": [
      "11\n"
     ]
    },
    {
     "ename": "KeyboardInterrupt",
     "evalue": "",
     "output_type": "error",
     "traceback": [
      "\u001b[1;31m---------------------------------------------------------------------------\u001b[0m",
      "\u001b[1;31mKeyboardInterrupt\u001b[0m                         Traceback (most recent call last)",
      "\u001b[1;32m~\\AppData\\Local\\Temp\\ipykernel_31548\\277540701.py\u001b[0m in \u001b[0;36m<module>\u001b[1;34m\u001b[0m\n\u001b[0;32m     52\u001b[0m \u001b[0mmin_sum\u001b[0m \u001b[1;33m=\u001b[0m \u001b[1;36m1\u001b[0m\u001b[1;33m\u001b[0m\u001b[1;33m\u001b[0m\u001b[0m\n\u001b[0;32m     53\u001b[0m \u001b[0mmax_sum\u001b[0m \u001b[1;33m=\u001b[0m \u001b[1;36m400\u001b[0m\u001b[1;33m\u001b[0m\u001b[1;33m\u001b[0m\u001b[0m\n\u001b[1;32m---> 54\u001b[1;33m \u001b[0mprint\u001b[0m\u001b[1;33m(\u001b[0m\u001b[0mcountGoodIntegers\u001b[0m\u001b[1;33m(\u001b[0m\u001b[0mnum1\u001b[0m\u001b[1;33m,\u001b[0m \u001b[0mnum2\u001b[0m\u001b[1;33m,\u001b[0m \u001b[0mmin_sum\u001b[0m\u001b[1;33m,\u001b[0m \u001b[0mmax_sum\u001b[0m\u001b[1;33m)\u001b[0m\u001b[1;33m)\u001b[0m  \u001b[1;31m# Output: 416\u001b[0m\u001b[1;33m\u001b[0m\u001b[1;33m\u001b[0m\u001b[0m\n\u001b[0m",
      "\u001b[1;32m~\\AppData\\Local\\Temp\\ipykernel_31548\\277540701.py\u001b[0m in \u001b[0;36mcountGoodIntegers\u001b[1;34m(num1, num2, min_sum, max_sum)\u001b[0m\n\u001b[0;32m     36\u001b[0m     \u001b[0mcount\u001b[0m \u001b[1;33m=\u001b[0m \u001b[1;36m0\u001b[0m\u001b[1;33m\u001b[0m\u001b[1;33m\u001b[0m\u001b[0m\n\u001b[0;32m     37\u001b[0m     \u001b[1;32mfor\u001b[0m \u001b[0mdigit\u001b[0m \u001b[1;32min\u001b[0m \u001b[0mrange\u001b[0m\u001b[1;33m(\u001b[0m\u001b[1;36m1\u001b[0m\u001b[1;33m,\u001b[0m \u001b[1;36m10\u001b[0m\u001b[1;33m)\u001b[0m\u001b[1;33m:\u001b[0m\u001b[1;33m\u001b[0m\u001b[1;33m\u001b[0m\u001b[0m\n\u001b[1;32m---> 38\u001b[1;33m         \u001b[0mcount\u001b[0m \u001b[1;33m+=\u001b[0m \u001b[0mgenerateNumbers\u001b[0m\u001b[1;33m(\u001b[0m\u001b[0mdigit\u001b[0m\u001b[1;33m,\u001b[0m \u001b[0mdigit\u001b[0m\u001b[1;33m,\u001b[0m \u001b[1;36m0\u001b[0m\u001b[1;33m)\u001b[0m\u001b[1;33m\u001b[0m\u001b[1;33m\u001b[0m\u001b[0m\n\u001b[0m\u001b[0;32m     39\u001b[0m         \u001b[0mcount\u001b[0m \u001b[1;33m%=\u001b[0m \u001b[0mMOD\u001b[0m\u001b[1;33m\u001b[0m\u001b[1;33m\u001b[0m\u001b[0m\n\u001b[0;32m     40\u001b[0m \u001b[1;33m\u001b[0m\u001b[0m\n",
      "\u001b[1;32m~\\AppData\\Local\\Temp\\ipykernel_31548\\277540701.py\u001b[0m in \u001b[0;36mgenerateNumbers\u001b[1;34m(num, digit_sum, leading_zeros)\u001b[0m\n\u001b[0;32m     28\u001b[0m \u001b[1;33m\u001b[0m\u001b[0m\n\u001b[0;32m     29\u001b[0m             \u001b[1;31m# Recursive call with updated parameters\u001b[0m\u001b[1;33m\u001b[0m\u001b[1;33m\u001b[0m\u001b[0m\n\u001b[1;32m---> 30\u001b[1;33m             \u001b[0mcount\u001b[0m \u001b[1;33m+=\u001b[0m \u001b[0mgenerateNumbers\u001b[0m\u001b[1;33m(\u001b[0m\u001b[0mnew_num\u001b[0m\u001b[1;33m,\u001b[0m \u001b[0mnew_sum\u001b[0m\u001b[1;33m,\u001b[0m \u001b[0mnew_leading_zeros\u001b[0m\u001b[1;33m)\u001b[0m\u001b[1;33m\u001b[0m\u001b[1;33m\u001b[0m\u001b[0m\n\u001b[0m\u001b[0;32m     31\u001b[0m             \u001b[0mcount\u001b[0m \u001b[1;33m%=\u001b[0m \u001b[0mMOD\u001b[0m\u001b[1;33m\u001b[0m\u001b[1;33m\u001b[0m\u001b[0m\n\u001b[0;32m     32\u001b[0m \u001b[1;33m\u001b[0m\u001b[0m\n",
      "\u001b[1;32m~\\AppData\\Local\\Temp\\ipykernel_31548\\277540701.py\u001b[0m in \u001b[0;36mgenerateNumbers\u001b[1;34m(num, digit_sum, leading_zeros)\u001b[0m\n\u001b[0;32m     28\u001b[0m \u001b[1;33m\u001b[0m\u001b[0m\n\u001b[0;32m     29\u001b[0m             \u001b[1;31m# Recursive call with updated parameters\u001b[0m\u001b[1;33m\u001b[0m\u001b[1;33m\u001b[0m\u001b[0m\n\u001b[1;32m---> 30\u001b[1;33m             \u001b[0mcount\u001b[0m \u001b[1;33m+=\u001b[0m \u001b[0mgenerateNumbers\u001b[0m\u001b[1;33m(\u001b[0m\u001b[0mnew_num\u001b[0m\u001b[1;33m,\u001b[0m \u001b[0mnew_sum\u001b[0m\u001b[1;33m,\u001b[0m \u001b[0mnew_leading_zeros\u001b[0m\u001b[1;33m)\u001b[0m\u001b[1;33m\u001b[0m\u001b[1;33m\u001b[0m\u001b[0m\n\u001b[0m\u001b[0;32m     31\u001b[0m             \u001b[0mcount\u001b[0m \u001b[1;33m%=\u001b[0m \u001b[0mMOD\u001b[0m\u001b[1;33m\u001b[0m\u001b[1;33m\u001b[0m\u001b[0m\n\u001b[0;32m     32\u001b[0m \u001b[1;33m\u001b[0m\u001b[0m\n",
      "\u001b[1;32m~\\AppData\\Local\\Temp\\ipykernel_31548\\277540701.py\u001b[0m in \u001b[0;36mgenerateNumbers\u001b[1;34m(num, digit_sum, leading_zeros)\u001b[0m\n\u001b[0;32m     28\u001b[0m \u001b[1;33m\u001b[0m\u001b[0m\n\u001b[0;32m     29\u001b[0m             \u001b[1;31m# Recursive call with updated parameters\u001b[0m\u001b[1;33m\u001b[0m\u001b[1;33m\u001b[0m\u001b[0m\n\u001b[1;32m---> 30\u001b[1;33m             \u001b[0mcount\u001b[0m \u001b[1;33m+=\u001b[0m \u001b[0mgenerateNumbers\u001b[0m\u001b[1;33m(\u001b[0m\u001b[0mnew_num\u001b[0m\u001b[1;33m,\u001b[0m \u001b[0mnew_sum\u001b[0m\u001b[1;33m,\u001b[0m \u001b[0mnew_leading_zeros\u001b[0m\u001b[1;33m)\u001b[0m\u001b[1;33m\u001b[0m\u001b[1;33m\u001b[0m\u001b[0m\n\u001b[0m\u001b[0;32m     31\u001b[0m             \u001b[0mcount\u001b[0m \u001b[1;33m%=\u001b[0m \u001b[0mMOD\u001b[0m\u001b[1;33m\u001b[0m\u001b[1;33m\u001b[0m\u001b[0m\n\u001b[0;32m     32\u001b[0m \u001b[1;33m\u001b[0m\u001b[0m\n",
      "\u001b[1;32m~\\AppData\\Local\\Temp\\ipykernel_31548\\277540701.py\u001b[0m in \u001b[0;36mgenerateNumbers\u001b[1;34m(num, digit_sum, leading_zeros)\u001b[0m\n\u001b[0;32m     28\u001b[0m \u001b[1;33m\u001b[0m\u001b[0m\n\u001b[0;32m     29\u001b[0m             \u001b[1;31m# Recursive call with updated parameters\u001b[0m\u001b[1;33m\u001b[0m\u001b[1;33m\u001b[0m\u001b[0m\n\u001b[1;32m---> 30\u001b[1;33m             \u001b[0mcount\u001b[0m \u001b[1;33m+=\u001b[0m \u001b[0mgenerateNumbers\u001b[0m\u001b[1;33m(\u001b[0m\u001b[0mnew_num\u001b[0m\u001b[1;33m,\u001b[0m \u001b[0mnew_sum\u001b[0m\u001b[1;33m,\u001b[0m \u001b[0mnew_leading_zeros\u001b[0m\u001b[1;33m)\u001b[0m\u001b[1;33m\u001b[0m\u001b[1;33m\u001b[0m\u001b[0m\n\u001b[0m\u001b[0;32m     31\u001b[0m             \u001b[0mcount\u001b[0m \u001b[1;33m%=\u001b[0m \u001b[0mMOD\u001b[0m\u001b[1;33m\u001b[0m\u001b[1;33m\u001b[0m\u001b[0m\n\u001b[0;32m     32\u001b[0m \u001b[1;33m\u001b[0m\u001b[0m\n",
      "\u001b[1;32m~\\AppData\\Local\\Temp\\ipykernel_31548\\277540701.py\u001b[0m in \u001b[0;36mgenerateNumbers\u001b[1;34m(num, digit_sum, leading_zeros)\u001b[0m\n\u001b[0;32m     28\u001b[0m \u001b[1;33m\u001b[0m\u001b[0m\n\u001b[0;32m     29\u001b[0m             \u001b[1;31m# Recursive call with updated parameters\u001b[0m\u001b[1;33m\u001b[0m\u001b[1;33m\u001b[0m\u001b[0m\n\u001b[1;32m---> 30\u001b[1;33m             \u001b[0mcount\u001b[0m \u001b[1;33m+=\u001b[0m \u001b[0mgenerateNumbers\u001b[0m\u001b[1;33m(\u001b[0m\u001b[0mnew_num\u001b[0m\u001b[1;33m,\u001b[0m \u001b[0mnew_sum\u001b[0m\u001b[1;33m,\u001b[0m \u001b[0mnew_leading_zeros\u001b[0m\u001b[1;33m)\u001b[0m\u001b[1;33m\u001b[0m\u001b[1;33m\u001b[0m\u001b[0m\n\u001b[0m\u001b[0;32m     31\u001b[0m             \u001b[0mcount\u001b[0m \u001b[1;33m%=\u001b[0m \u001b[0mMOD\u001b[0m\u001b[1;33m\u001b[0m\u001b[1;33m\u001b[0m\u001b[0m\n\u001b[0;32m     32\u001b[0m \u001b[1;33m\u001b[0m\u001b[0m\n",
      "\u001b[1;32m~\\AppData\\Local\\Temp\\ipykernel_31548\\277540701.py\u001b[0m in \u001b[0;36mgenerateNumbers\u001b[1;34m(num, digit_sum, leading_zeros)\u001b[0m\n\u001b[0;32m     28\u001b[0m \u001b[1;33m\u001b[0m\u001b[0m\n\u001b[0;32m     29\u001b[0m             \u001b[1;31m# Recursive call with updated parameters\u001b[0m\u001b[1;33m\u001b[0m\u001b[1;33m\u001b[0m\u001b[0m\n\u001b[1;32m---> 30\u001b[1;33m             \u001b[0mcount\u001b[0m \u001b[1;33m+=\u001b[0m \u001b[0mgenerateNumbers\u001b[0m\u001b[1;33m(\u001b[0m\u001b[0mnew_num\u001b[0m\u001b[1;33m,\u001b[0m \u001b[0mnew_sum\u001b[0m\u001b[1;33m,\u001b[0m \u001b[0mnew_leading_zeros\u001b[0m\u001b[1;33m)\u001b[0m\u001b[1;33m\u001b[0m\u001b[1;33m\u001b[0m\u001b[0m\n\u001b[0m\u001b[0;32m     31\u001b[0m             \u001b[0mcount\u001b[0m \u001b[1;33m%=\u001b[0m \u001b[0mMOD\u001b[0m\u001b[1;33m\u001b[0m\u001b[1;33m\u001b[0m\u001b[0m\n\u001b[0;32m     32\u001b[0m \u001b[1;33m\u001b[0m\u001b[0m\n",
      "\u001b[1;32m~\\AppData\\Local\\Temp\\ipykernel_31548\\277540701.py\u001b[0m in \u001b[0;36mgenerateNumbers\u001b[1;34m(num, digit_sum, leading_zeros)\u001b[0m\n\u001b[0;32m     28\u001b[0m \u001b[1;33m\u001b[0m\u001b[0m\n\u001b[0;32m     29\u001b[0m             \u001b[1;31m# Recursive call with updated parameters\u001b[0m\u001b[1;33m\u001b[0m\u001b[1;33m\u001b[0m\u001b[0m\n\u001b[1;32m---> 30\u001b[1;33m             \u001b[0mcount\u001b[0m \u001b[1;33m+=\u001b[0m \u001b[0mgenerateNumbers\u001b[0m\u001b[1;33m(\u001b[0m\u001b[0mnew_num\u001b[0m\u001b[1;33m,\u001b[0m \u001b[0mnew_sum\u001b[0m\u001b[1;33m,\u001b[0m \u001b[0mnew_leading_zeros\u001b[0m\u001b[1;33m)\u001b[0m\u001b[1;33m\u001b[0m\u001b[1;33m\u001b[0m\u001b[0m\n\u001b[0m\u001b[0;32m     31\u001b[0m             \u001b[0mcount\u001b[0m \u001b[1;33m%=\u001b[0m \u001b[0mMOD\u001b[0m\u001b[1;33m\u001b[0m\u001b[1;33m\u001b[0m\u001b[0m\n\u001b[0;32m     32\u001b[0m \u001b[1;33m\u001b[0m\u001b[0m\n",
      "\u001b[1;32m~\\AppData\\Local\\Temp\\ipykernel_31548\\277540701.py\u001b[0m in \u001b[0;36mgenerateNumbers\u001b[1;34m(num, digit_sum, leading_zeros)\u001b[0m\n\u001b[0;32m     28\u001b[0m \u001b[1;33m\u001b[0m\u001b[0m\n\u001b[0;32m     29\u001b[0m             \u001b[1;31m# Recursive call with updated parameters\u001b[0m\u001b[1;33m\u001b[0m\u001b[1;33m\u001b[0m\u001b[0m\n\u001b[1;32m---> 30\u001b[1;33m             \u001b[0mcount\u001b[0m \u001b[1;33m+=\u001b[0m \u001b[0mgenerateNumbers\u001b[0m\u001b[1;33m(\u001b[0m\u001b[0mnew_num\u001b[0m\u001b[1;33m,\u001b[0m \u001b[0mnew_sum\u001b[0m\u001b[1;33m,\u001b[0m \u001b[0mnew_leading_zeros\u001b[0m\u001b[1;33m)\u001b[0m\u001b[1;33m\u001b[0m\u001b[1;33m\u001b[0m\u001b[0m\n\u001b[0m\u001b[0;32m     31\u001b[0m             \u001b[0mcount\u001b[0m \u001b[1;33m%=\u001b[0m \u001b[0mMOD\u001b[0m\u001b[1;33m\u001b[0m\u001b[1;33m\u001b[0m\u001b[0m\n\u001b[0;32m     32\u001b[0m \u001b[1;33m\u001b[0m\u001b[0m\n",
      "\u001b[1;32m~\\AppData\\Local\\Temp\\ipykernel_31548\\277540701.py\u001b[0m in \u001b[0;36mgenerateNumbers\u001b[1;34m(num, digit_sum, leading_zeros)\u001b[0m\n\u001b[0;32m     28\u001b[0m \u001b[1;33m\u001b[0m\u001b[0m\n\u001b[0;32m     29\u001b[0m             \u001b[1;31m# Recursive call with updated parameters\u001b[0m\u001b[1;33m\u001b[0m\u001b[1;33m\u001b[0m\u001b[0m\n\u001b[1;32m---> 30\u001b[1;33m             \u001b[0mcount\u001b[0m \u001b[1;33m+=\u001b[0m \u001b[0mgenerateNumbers\u001b[0m\u001b[1;33m(\u001b[0m\u001b[0mnew_num\u001b[0m\u001b[1;33m,\u001b[0m \u001b[0mnew_sum\u001b[0m\u001b[1;33m,\u001b[0m \u001b[0mnew_leading_zeros\u001b[0m\u001b[1;33m)\u001b[0m\u001b[1;33m\u001b[0m\u001b[1;33m\u001b[0m\u001b[0m\n\u001b[0m\u001b[0;32m     31\u001b[0m             \u001b[0mcount\u001b[0m \u001b[1;33m%=\u001b[0m \u001b[0mMOD\u001b[0m\u001b[1;33m\u001b[0m\u001b[1;33m\u001b[0m\u001b[0m\n\u001b[0;32m     32\u001b[0m \u001b[1;33m\u001b[0m\u001b[0m\n",
      "\u001b[1;32m~\\AppData\\Local\\Temp\\ipykernel_31548\\277540701.py\u001b[0m in \u001b[0;36mgenerateNumbers\u001b[1;34m(num, digit_sum, leading_zeros)\u001b[0m\n\u001b[0;32m     28\u001b[0m \u001b[1;33m\u001b[0m\u001b[0m\n\u001b[0;32m     29\u001b[0m             \u001b[1;31m# Recursive call with updated parameters\u001b[0m\u001b[1;33m\u001b[0m\u001b[1;33m\u001b[0m\u001b[0m\n\u001b[1;32m---> 30\u001b[1;33m             \u001b[0mcount\u001b[0m \u001b[1;33m+=\u001b[0m \u001b[0mgenerateNumbers\u001b[0m\u001b[1;33m(\u001b[0m\u001b[0mnew_num\u001b[0m\u001b[1;33m,\u001b[0m \u001b[0mnew_sum\u001b[0m\u001b[1;33m,\u001b[0m \u001b[0mnew_leading_zeros\u001b[0m\u001b[1;33m)\u001b[0m\u001b[1;33m\u001b[0m\u001b[1;33m\u001b[0m\u001b[0m\n\u001b[0m\u001b[0;32m     31\u001b[0m             \u001b[0mcount\u001b[0m \u001b[1;33m%=\u001b[0m \u001b[0mMOD\u001b[0m\u001b[1;33m\u001b[0m\u001b[1;33m\u001b[0m\u001b[0m\n\u001b[0;32m     32\u001b[0m \u001b[1;33m\u001b[0m\u001b[0m\n",
      "\u001b[1;32m~\\AppData\\Local\\Temp\\ipykernel_31548\\277540701.py\u001b[0m in \u001b[0;36mgenerateNumbers\u001b[1;34m(num, digit_sum, leading_zeros)\u001b[0m\n\u001b[0;32m     15\u001b[0m         \u001b[0mcount\u001b[0m \u001b[1;33m=\u001b[0m \u001b[1;36m0\u001b[0m\u001b[1;33m\u001b[0m\u001b[1;33m\u001b[0m\u001b[0m\n\u001b[0;32m     16\u001b[0m \u001b[1;33m\u001b[0m\u001b[0m\n\u001b[1;32m---> 17\u001b[1;33m         \u001b[1;32mif\u001b[0m \u001b[0mnum\u001b[0m \u001b[1;33m>=\u001b[0m \u001b[0mnum1\u001b[0m \u001b[1;32mand\u001b[0m \u001b[0mnum\u001b[0m \u001b[1;33m<=\u001b[0m \u001b[0mnum2\u001b[0m \u001b[1;32mand\u001b[0m \u001b[0mdigit_sum\u001b[0m \u001b[1;33m>=\u001b[0m \u001b[0mmin_sum\u001b[0m \u001b[1;32mand\u001b[0m \u001b[0mdigit_sum\u001b[0m \u001b[1;33m<=\u001b[0m \u001b[0mmax_sum\u001b[0m\u001b[1;33m:\u001b[0m\u001b[1;33m\u001b[0m\u001b[1;33m\u001b[0m\u001b[0m\n\u001b[0m\u001b[0;32m     18\u001b[0m             \u001b[0mcount\u001b[0m \u001b[1;33m+=\u001b[0m \u001b[1;36m1\u001b[0m\u001b[1;33m\u001b[0m\u001b[1;33m\u001b[0m\u001b[0m\n\u001b[0;32m     19\u001b[0m             \u001b[0mcount\u001b[0m \u001b[1;33m%=\u001b[0m \u001b[0mMOD\u001b[0m\u001b[1;33m\u001b[0m\u001b[1;33m\u001b[0m\u001b[0m\n",
      "\u001b[1;31mKeyboardInterrupt\u001b[0m: "
     ]
    }
   ],
   "source": [
    "def countGoodIntegers(num1, num2, min_sum, max_sum):\n",
    "    MOD = 10**9 + 7\n",
    "\n",
    "    num1 = int(num1)\n",
    "    num2 = int(num2)\n",
    "\n",
    "    memo = {}  # Memoization table\n",
    "\n",
    "    def generateNumbers(num, digit_sum, leading_zeros):\n",
    "        nonlocal count\n",
    "\n",
    "        if (num, digit_sum, leading_zeros) in memo:\n",
    "            return memo[(num, digit_sum, leading_zeros)]\n",
    "\n",
    "        count = 0\n",
    "\n",
    "        if num >= num1 and num <= num2 and digit_sum >= min_sum and digit_sum <= max_sum:\n",
    "            count += 1\n",
    "            count %= MOD\n",
    "\n",
    "        if num > num2:\n",
    "            return count\n",
    "\n",
    "        for digit in range(10):\n",
    "            new_num = num * 10 + digit\n",
    "            new_sum = digit_sum + digit\n",
    "            new_leading_zeros = leading_zeros if digit > 0 else leading_zeros + 1\n",
    "\n",
    "            # Recursive call with updated parameters\n",
    "            count += generateNumbers(new_num, new_sum, new_leading_zeros)\n",
    "            count %= MOD\n",
    "\n",
    "        memo[(num, digit_sum, leading_zeros)] = count\n",
    "        return count\n",
    "\n",
    "    count = 0\n",
    "    for digit in range(1, 10):\n",
    "        count += generateNumbers(digit, digit, 0)\n",
    "        count %= MOD\n",
    "\n",
    "    return count\n",
    "\n",
    "# Test the function\n",
    "num1 = \"1\"\n",
    "num2 = \"12\"\n",
    "min_sum = 1\n",
    "max_sum = 8\n",
    "print(countGoodIntegers(num1, num2, min_sum, max_sum))  # Output: 11\n",
    "\n",
    "num1 = \"1000000007\"\n",
    "num2 = \"2000000014\"\n",
    "min_sum = 1\n",
    "max_sum = 400\n",
    "print(countGoodIntegers(num1, num2, min_sum, max_sum))  # Output: 416\n"
   ]
  },
  {
   "cell_type": "code",
   "execution_count": null,
   "metadata": {},
   "outputs": [],
   "source": []
  }
 ],
 "metadata": {
  "kernelspec": {
   "display_name": "base",
   "language": "python",
   "name": "python3"
  },
  "language_info": {
   "codemirror_mode": {
    "name": "ipython",
    "version": 3
   },
   "file_extension": ".py",
   "mimetype": "text/x-python",
   "name": "python",
   "nbconvert_exporter": "python",
   "pygments_lexer": "ipython3",
   "version": "3.9.13"
  },
  "orig_nbformat": 4
 },
 "nbformat": 4,
 "nbformat_minor": 2
}
