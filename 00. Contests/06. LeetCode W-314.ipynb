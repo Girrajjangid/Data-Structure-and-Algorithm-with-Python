{
 "cells": [
  {
   "cell_type": "code",
   "execution_count": 52,
   "metadata": {},
   "outputs": [],
   "source": [
    "from typing import List\n",
    "\n",
    "class Solution:\n",
    "    def hardestWorker(self, n: int, logs: List[List[int]]) -> int:\n",
    "        logs.sort(key=lambda x : (x[1],x[0]))\n",
    "        largest = logs[0][1]\n",
    "        largest_id = logs[0][0]\n",
    "        cond = logs[0][1]\n",
    "        res = [largest_id]\n",
    "        for idx, (i,j) in enumerate(logs):\n",
    "            if idx==0: continue\n",
    "            if j - largest >= cond: \n",
    "                cond = j - largest\n",
    "                res.append(i)\n",
    "            largest = j\n",
    "            print(cond, largest, i, res)            \n",
    "        return min(res)"
   ]
  },
  {
   "cell_type": "code",
   "execution_count": 56,
   "metadata": {},
   "outputs": [
    {
     "name": "stdout",
     "output_type": "stream",
     "text": [
      "3 5 2 [0]\n",
      "4 9 0 [0, 0]\n",
      "6 15 1 [0, 0, 1]\n"
     ]
    },
    {
     "data": {
      "text/plain": [
       "0"
      ]
     },
     "execution_count": 56,
     "metadata": {},
     "output_type": "execute_result"
    }
   ],
   "source": [
    "n = 10; logs = [[0,3],[2,5],[0,9],[1,15]]\n",
    "#n = 26; logs = [[1,1],[3,7],[2,12],[7,17]]\n",
    "# n = 2; logs = [[0,10],[1,20]]\n",
    "#n=-70; logs=[[36,3],[1,5],[12,8],[25,9],[53,11],[29,12],[52,14]]\n",
    "Solution().hardestWorker(n, logs)"
   ]
  },
  {
   "cell_type": "code",
   "execution_count": null,
   "metadata": {},
   "outputs": [],
   "source": []
  }
 ],
 "metadata": {
  "kernelspec": {
   "display_name": "Python 3.8.8 ('base')",
   "language": "python",
   "name": "python3"
  },
  "language_info": {
   "codemirror_mode": {
    "name": "ipython",
    "version": 3
   },
   "file_extension": ".py",
   "mimetype": "text/x-python",
   "name": "python",
   "nbconvert_exporter": "python",
   "pygments_lexer": "ipython3",
   "version": "3.8.8"
  },
  "orig_nbformat": 4,
  "vscode": {
   "interpreter": {
    "hash": "ad2bdc8ecc057115af97d19610ffacc2b4e99fae6737bb82f5d7fb13d2f2c186"
   }
  }
 },
 "nbformat": 4,
 "nbformat_minor": 2
}
