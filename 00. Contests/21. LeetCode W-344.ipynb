{
 "cells": [
  {
   "cell_type": "code",
   "execution_count": 1,
   "metadata": {},
   "outputs": [],
   "source": [
    "from typing import List"
   ]
  },
  {
   "cell_type": "code",
   "execution_count": 41,
   "metadata": {},
   "outputs": [],
   "source": [
    "class Solution:\n",
    "    def distinctDifferenceArray(self, nums: List[int]) -> List[int]:\n",
    "        forUni, backUni = [-1 for i in nums], [0 for i in nums] + [0]\n",
    "        temp = {}\n",
    "        totalUnique = 0\n",
    "        for idx, val in enumerate(nums):\n",
    "            if temp.get(val, None) is None:\n",
    "                temp[val] = 1\n",
    "                totalUnique += 1\n",
    "            forUni[idx] = totalUnique\n",
    "        temp, totalUnique = {}, 0\n",
    "        for idx, val in enumerate(nums[::-1]):\n",
    "            if temp.get(val, None) is None:\n",
    "                temp[val] = 1\n",
    "                totalUnique += 1\n",
    "            backUni[idx+1] = totalUnique\n",
    "        backUni= backUni[::-1][1:]\n",
    "        #return forUni, backUni\n",
    "        return [a-b for a,b in zip(forUni, backUni)]"
   ]
  },
  {
   "cell_type": "code",
   "execution_count": 42,
   "metadata": {},
   "outputs": [
    {
     "data": {
      "text/plain": [
       "[-2, -1, 0, 2, 3]"
      ]
     },
     "execution_count": 42,
     "metadata": {},
     "output_type": "execute_result"
    }
   ],
   "source": [
    "nums = [1,2,3,4,5]\n",
    "nums = [3,2,3,4,2]\n",
    "Solution().distinctDifferenceArray(nums)"
   ]
  },
  {
   "cell_type": "code",
   "execution_count": null,
   "metadata": {},
   "outputs": [],
   "source": [
    "\n"
   ]
  },
  {
   "cell_type": "code",
   "execution_count": 75,
   "metadata": {},
   "outputs": [],
   "source": [
    "from collections import defaultdict\n",
    "\n",
    "class FrequencyTracker:\n",
    "\n",
    "    def __init__(self):\n",
    "        self.dict = defaultdict(int)\n",
    "        self.tracker = defaultdict(int)\n",
    "                \n",
    "    def add(self, number: int) -> None:\n",
    "        self.dict[number] += 1        \n",
    "        self.tracker[self.dict[number]] += 1 \n",
    "\n",
    "    def deleteOne(self, number: int) -> None:\n",
    "        if self.dict.get(number, None) is not None:\n",
    "            if self.dict.get(number) > 0:\n",
    "                self.tracker[self.dict[number]] -= 1                \n",
    "                self.dict[number] -= 1\n",
    "                if self.tracker.get(self.dict[number], None) is None:\n",
    "                    self.tracker[self.dict[number]] = 1\n",
    "                else:\n",
    "                    self.tracker[self.dict[number]] -= 1\n",
    "                \n",
    "    def hasFrequency(self, frequency: int) -> bool:\n",
    "        return True if self.tracker[frequency] else False"
   ]
  },
  {
   "cell_type": "code",
   "execution_count": 79,
   "metadata": {},
   "outputs": [],
   "source": [
    "from collections import defaultdict\n",
    "\n",
    "class FrequencyTracker:\n",
    "    def __init__(self):\n",
    "        self.data = []\n",
    "        self.frequency_map = defaultdict(int)\n",
    "        self.frequency_counts = defaultdict(int)\n",
    "\n",
    "    def add(self, number):\n",
    "        if 1 <= number <= 10**5:\n",
    "            self.data.append(number)\n",
    "            self.frequency_map[number] += 1\n",
    "            self.frequency_counts[self.frequency_map[number]] += 1\n",
    "\n",
    "    def deleteOne(self, number):\n",
    "        if 1 <= number <= 10**5 and number in self.data:\n",
    "            self.data.remove(number)\n",
    "            self.frequency_counts[self.frequency_map[number]] -= 1\n",
    "            self.frequency_map[number] -= 1\n",
    "            if self.frequency_counts[self.frequency_map[number]] == 0:\n",
    "                del self.frequency_counts[self.frequency_map[number]]\n",
    "\n",
    "    def hasFrequency(self, frequency):\n",
    "        if 1 <= frequency <= 10**5:\n",
    "            return frequency in self.frequency_counts\n",
    "        return False\n"
   ]
  },
  {
   "cell_type": "code",
   "execution_count": 81,
   "metadata": {},
   "outputs": [
    {
     "name": "stdout",
     "output_type": "stream",
     "text": [
      "{} {}\n",
      "{5: 1} {5: 1}\n",
      "{5: 2} {5: 2}\n",
      "{5: 2} {5: 2}\n",
      "{5: 2} {5: 2}\n",
      "{5: 2, 6: 1} {5: 2, 6: 1}\n",
      "{5: 3, 6: 1} {5: 3, 6: 1}\n"
     ]
    }
   ],
   "source": [
    "obj = FrequencyTracker()\n",
    "#obj.add(1), obj.deleteOne(1), obj.hasFrequency(1)\n",
    "#obj.hasFrequency(2), obj.add(3), obj.hasFrequency(1) \n",
    "[\"FrequencyTracker\",\"add\",\"add\",\"hasFrequency\",\"hasFrequency\",\"add\",\"add\",\"add\"]\n",
    "[[],[5],[5],[1],[2],[6],[5],[1]]\n",
    "\n",
    "print(dict(obj.frequency_map), dict(obj.frequency_map) )\n",
    "obj.add(5)\n",
    "print(dict(obj.frequency_map), dict(obj.frequency_map) )\n",
    "obj.add(5)\n",
    "print(dict(obj.frequency_map), dict(obj.frequency_map) )\n",
    "obj.hasFrequency(1)\n",
    "print(dict(obj.frequency_map), dict(obj.frequency_map) )\n",
    "obj.hasFrequency(2)\n",
    "print(dict(obj.frequency_map), dict(obj.frequency_map) )\n",
    "obj.add(6)\n",
    "print(dict(obj.frequency_map), dict(obj.frequency_map) )\n",
    "obj.add(5)\n",
    "print(dict(obj.frequency_map), dict(obj.frequency_map) )\n",
    "obj.add(1)"
   ]
  },
  {
   "cell_type": "code",
   "execution_count": null,
   "metadata": {},
   "outputs": [],
   "source": []
  },
  {
   "cell_type": "code",
   "execution_count": null,
   "metadata": {},
   "outputs": [],
   "source": []
  },
  {
   "cell_type": "code",
   "execution_count": 111,
   "metadata": {},
   "outputs": [],
   "source": [
    "class Solution:\n",
    "    def colorTheArray(self, n: int, queries: List[List[int]]) -> List[int]:\n",
    "        nums = [0 for i in range(n)]\n",
    "        adjacentCount = 0\n",
    "        result = []\n",
    "        for i, (idx,color) in enumerate(queries):\n",
    "            precheck = 0\n",
    "            if n>1:\n",
    "                if i>0:\n",
    "                    if idx==0:\n",
    "                        x = nums[idx] != 0 and nums[idx] == nums[idx+1]                    \n",
    "                        if x:  precheck = 1\n",
    "                    elif idx==n-1:\n",
    "                        x = nums[idx] != 0 and nums[idx] == nums[idx-1]\n",
    "                        if x: precheck = 1\n",
    "                    else:\n",
    "                        x = nums[idx] != 0 and nums[idx] == nums[idx+1]\n",
    "                        if x: precheck += 1\n",
    "                        x = nums[idx-1] == nums[idx] and nums[idx] != 0\n",
    "                        if x: precheck += 1\n",
    "            nums[idx] = color\n",
    "            postcheck = 0\n",
    "            if n>1:\n",
    "                if idx==0:\n",
    "                    x = nums[idx] == nums[idx+1] and nums[idx] != 0            \n",
    "                    if x:  postcheck = 1\n",
    "                elif idx==n-1:\n",
    "                    x = nums[idx] != 0 and nums[idx] == nums[idx-1]\n",
    "                    if x: postcheck = 1\n",
    "                else:\n",
    "                    x = nums[idx] != 0 and nums[idx] == nums[idx+1]\n",
    "                    if x: postcheck += 1\n",
    "                    x = nums[idx-1] == nums[idx] and nums[idx] != 0\n",
    "                    if x: postcheck += 1\n",
    "            adjacentCount += (postcheck - precheck) \n",
    "            result.append(adjacentCount)\n",
    "        return result"
   ]
  },
  {
   "cell_type": "code",
   "execution_count": 112,
   "metadata": {},
   "outputs": [
    {
     "data": {
      "text/plain": [
       "[0, 1, 1, 0, 2]"
      ]
     },
     "execution_count": 112,
     "metadata": {},
     "output_type": "execute_result"
    }
   ],
   "source": [
    "n = 4; queries = [[0,2],[1,2],[3,1],[1,1],[2,1]]\n",
    "#n = 1; queries = [[0,100000]]\n",
    "Solution().colorTheArray(n, queries)"
   ]
  },
  {
   "cell_type": "code",
   "execution_count": 82,
   "metadata": {},
   "outputs": [
    {
     "data": {
      "text/plain": [
       "False"
      ]
     },
     "execution_count": 82,
     "metadata": {},
     "output_type": "execute_result"
    }
   ],
   "source": [
    "1==2"
   ]
  }
 ],
 "metadata": {
  "kernelspec": {
   "display_name": "base",
   "language": "python",
   "name": "python3"
  },
  "language_info": {
   "codemirror_mode": {
    "name": "ipython",
    "version": 3
   },
   "file_extension": ".py",
   "mimetype": "text/x-python",
   "name": "python",
   "nbconvert_exporter": "python",
   "pygments_lexer": "ipython3",
   "version": "3.9.13"
  },
  "orig_nbformat": 4
 },
 "nbformat": 4,
 "nbformat_minor": 2
}
