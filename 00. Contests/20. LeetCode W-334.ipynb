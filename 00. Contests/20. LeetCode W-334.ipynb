{
 "cells": [
  {
   "cell_type": "code",
   "execution_count": 1,
   "metadata": {},
   "outputs": [],
   "source": [
    "from typing import List"
   ]
  },
  {
   "attachments": {},
   "cell_type": "markdown",
   "metadata": {},
   "source": [
    "#### 6369. Left and Right Sum Differences"
   ]
  },
  {
   "cell_type": "code",
   "execution_count": 17,
   "metadata": {},
   "outputs": [],
   "source": [
    "class Solution:\n",
    "    def leftRigthDifference(self, nums: List[int]) -> List[int]:\n",
    "        leftsum = []\n",
    "        rightsum = []\n",
    "        last = 0\n",
    "        for v in nums:\n",
    "            if not leftsum:\n",
    "                leftsum.append(0)\n",
    "            last+=v\n",
    "            leftsum.append(last)\n",
    "        leftsum = leftsum[:-1]\n",
    "        last = 0\n",
    "        for v in nums[::-1]:\n",
    "            if not rightsum:\n",
    "                rightsum.append(0)\n",
    "            last+=v\n",
    "            rightsum.append(last)\n",
    "        rightsum = rightsum[::-1][1:]\n",
    "        return [abs(a-b) for a,b in zip(leftsum, rightsum)]"
   ]
  },
  {
   "cell_type": "code",
   "execution_count": 18,
   "metadata": {},
   "outputs": [
    {
     "data": {
      "text/plain": [
       "[0]"
      ]
     },
     "execution_count": 18,
     "metadata": {},
     "output_type": "execute_result"
    }
   ],
   "source": [
    "nums = [1]\n",
    "Solution().leftRigthDifference(nums)"
   ]
  },
  {
   "attachments": {},
   "cell_type": "markdown",
   "metadata": {},
   "source": [
    "#### 6368. Find the Divisibility Array of a String"
   ]
  },
  {
   "cell_type": "code",
   "execution_count": 71,
   "metadata": {},
   "outputs": [],
   "source": [
    "class Solution:\n",
    "    def divisibilityArray(self, word: str, m: int) -> List[int]:\n",
    "        res = []\n",
    "        rem = 0\n",
    "        for i in word:\n",
    "            rem = (int(i) + (rem * 10)) % m\n",
    "            if rem: res.append(0)\n",
    "            else: res.append(1)\n",
    "        return res"
   ]
  },
  {
   "cell_type": "code",
   "execution_count": 72,
   "metadata": {},
   "outputs": [
    {
     "data": {
      "text/plain": [
       "[1, 1, 0, 0, 0, 1, 1, 0, 0]"
      ]
     },
     "execution_count": 72,
     "metadata": {},
     "output_type": "execute_result"
    }
   ],
   "source": [
    "word = \"998244353\"; m = 3\n",
    "Solution().divisibilityArray(word, m)"
   ]
  },
  {
   "attachments": {},
   "cell_type": "markdown",
   "metadata": {},
   "source": [
    "#### 6367. Find the Maximum Number of Marked Indices"
   ]
  },
  {
   "cell_type": "code",
   "execution_count": 111,
   "metadata": {},
   "outputs": [],
   "source": [
    "class Solution:\n",
    "    def maxNumOfMarkedIndices(self, nums: List[int]) -> int:\n",
    "        nums.sort()\n",
    "        length = len(nums)\n",
    "        j = length-1\n",
    "        i = j-1\n",
    "        ans = 0\n",
    "        mark = [0 for i in range(length)]\n",
    "        while i>=0:\n",
    "            if (2*nums[i]) <= nums[j]:\n",
    "                ans+=2\n",
    "                mark[i] = 1\n",
    "                mark[j] = 1\n",
    "                j-=1\n",
    "                i-=1\n",
    "            else:\n",
    "                if mark[i]:\n",
    "                    while mark[i]:\n",
    "                        i-=1\n",
    "                else:\n",
    "                    i-=1\n",
    "        return ans"
   ]
  },
  {
   "cell_type": "code",
   "execution_count": 119,
   "metadata": {},
   "outputs": [],
   "source": [
    "class Solution:\n",
    "    def maxNumOfMarkedIndices(self, nums):\n",
    "        n = len(nums)\n",
    "        marked = [False] * n\n",
    "        count = 0\n",
    "        for i in range(n):\n",
    "            if not marked[i]:\n",
    "                max_j = -1\n",
    "                for j in range(i+1, n):\n",
    "                    if not marked[j] and 2*nums[i] <= nums[j]:\n",
    "                        if max_j == -1 or nums[j] > nums[max_j]:\n",
    "                            max_j = j\n",
    "                if max_j != -1:\n",
    "                    marked[i] = True\n",
    "                    marked[max_j] = True\n",
    "                    count += 2\n",
    "        return count\n"
   ]
  },
  {
   "cell_type": "code",
   "execution_count": 120,
   "metadata": {},
   "outputs": [
    {
     "data": {
      "text/plain": [
       "20"
      ]
     },
     "execution_count": 120,
     "metadata": {},
     "output_type": "execute_result"
    }
   ],
   "source": [
    "nums = [3,5,2,4]\n",
    "nums = [9,2,5,4]\n",
    "nums = [7,6,8]\n",
    "nums = [42,83,48,10,24,55,9,100,10,17,17,99,51,32,16,98,99,31,28,68,71,14,64,29,15,40]\n",
    "Solution().maxNumOfMarkedIndices(nums)"
   ]
  },
  {
   "cell_type": "code",
   "execution_count": null,
   "metadata": {},
   "outputs": [],
   "source": []
  },
  {
   "cell_type": "code",
   "execution_count": null,
   "metadata": {},
   "outputs": [],
   "source": []
  }
 ],
 "metadata": {
  "kernelspec": {
   "display_name": "base",
   "language": "python",
   "name": "python3"
  },
  "language_info": {
   "codemirror_mode": {
    "name": "ipython",
    "version": 3
   },
   "file_extension": ".py",
   "mimetype": "text/x-python",
   "name": "python",
   "nbconvert_exporter": "python",
   "pygments_lexer": "ipython3",
   "version": "3.9.13"
  },
  "orig_nbformat": 4,
  "vscode": {
   "interpreter": {
    "hash": "fecfa28de78ead09ec2989a580469213059448baba5e0b02aeeb7641afb84221"
   }
  }
 },
 "nbformat": 4,
 "nbformat_minor": 2
}
