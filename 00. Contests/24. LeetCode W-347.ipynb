{
 "cells": [
  {
   "cell_type": "code",
   "execution_count": 1,
   "metadata": {},
   "outputs": [],
   "source": [
    "from typing import List, Dict"
   ]
  },
  {
   "cell_type": "code",
   "execution_count": 10,
   "metadata": {},
   "outputs": [],
   "source": [
    "class Solution:\n",
    "    def removeTrailingZeros(self, num: str) -> str:\n",
    "        num = int(num)\n",
    "        while True:\n",
    "            if num%10 == 0:\n",
    "                num = num//10\n",
    "            else:\n",
    "                break\n",
    "        return str(num)\n",
    "        "
   ]
  },
  {
   "cell_type": "code",
   "execution_count": 13,
   "metadata": {},
   "outputs": [
    {
     "data": {
      "text/plain": [
       "'5123010051230100512301005123010051230100512301005123010051230100512301005123010051230100512301005123010051230100512301005123010051230100512301'"
      ]
     },
     "execution_count": 13,
     "metadata": {},
     "output_type": "execute_result"
    }
   ],
   "source": [
    "num = \"51230100\"\n",
    "num = '512301005123010051230100512301005123010051230100512301005123010051230100512301005123010051230100512301005123010051230100512301005123010051230100'\n",
    "num = '5123010051230100512301005123010051230100512301005123010051230100512301005123010051230100512301005123010051230100512301005123010051230100512301'\n",
    "Solution().removeTrailingZeros(num)\n"
   ]
  },
  {
   "cell_type": "code",
   "execution_count": 3,
   "metadata": {},
   "outputs": [
    {
     "data": {
      "text/plain": [
       "2"
      ]
     },
     "execution_count": 3,
     "metadata": {},
     "output_type": "execute_result"
    }
   ],
   "source": [
    "51230102%10"
   ]
  },
  {
   "cell_type": "code",
   "execution_count": 72,
   "metadata": {},
   "outputs": [],
   "source": [
    "from typing import List\n",
    "\n",
    "class Solution:\n",
    "    def differenceOfDistinctValues(self, grid: List[List[int]]) -> List[List[int]]:        \n",
    "        m = len(grid)    # Rows\n",
    "        n = len(grid[0]) # Columns\n",
    "        \n",
    "        topLeft = [[[] for _ in range(n)] for _ in range(m)]\n",
    "        bottomRight = [[[] for _ in range(n)] for _ in range(m)]\n",
    "        \n",
    "        # Calculate the top-left diagonal values\n",
    "        for r in range(m):\n",
    "            for c in range(n):\n",
    "                if r > 0 and c > 0:\n",
    "                    topLeft[r][c].extend( topLeft[r-1][c-1] + [grid[r-1][c-1]])\n",
    "        \n",
    "        for r in range(m-1, -1, -1):\n",
    "            for c in range(n-1, -1, -1):\n",
    "                if r < m-1 and c < n-1:\n",
    "                    bottomRight[r][c].extend( bottomRight[r+1][c+1] + [grid[r+1][c+1]])\n",
    "        \n",
    "        answer = [[0] * n for _ in range(m)]\n",
    "        for r in range(m):\n",
    "            for c in range(n):\n",
    "                answer[r][c] = abs(len(set(topLeft[r][c])) - len(set(bottomRight[r][c])))\n",
    "        \n",
    "        return answer\n"
   ]
  },
  {
   "cell_type": "code",
   "execution_count": 77,
   "metadata": {},
   "outputs": [
    {
     "data": {
      "text/plain": [
       "[[1, 1, 0], [1, 0, 1], [0, 1, 1]]"
      ]
     },
     "execution_count": 77,
     "metadata": {},
     "output_type": "execute_result"
    }
   ],
   "source": [
    "grid = [[1,2,3],[3,1,5],[3,2,1]]\n",
    "#grid = [[1,1], [1,1], [1,1]]\n",
    "#grid = [[1,2,3,4,5], [6,7,8,9,10], [11,12,13,14,15], [16,17,18,19,20]]\n",
    "Solution().differenceOfDistinctValues(grid)"
   ]
  },
  {
   "cell_type": "code",
   "execution_count": null,
   "metadata": {},
   "outputs": [],
   "source": []
  },
  {
   "cell_type": "code",
   "execution_count": 88,
   "metadata": {},
   "outputs": [
    {
     "name": "stdout",
     "output_type": "stream",
     "text": [
      "0011\n"
     ]
    }
   ],
   "source": [
    "value = 0b001100  # Binary representation of 001100\n",
    "\n",
    "length = len(bin(value)) - 2  # Get the length of the binary sequence\n",
    "\n",
    "flipped_value = 0\n",
    "\n",
    "for i in range(length):\n",
    "    flipped_value |= ((value >> i) & 1) << (length - i - 1)\n",
    "\n",
    "print(bin(flipped_value)[2:].zfill(length))\n"
   ]
  },
  {
   "cell_type": "code",
   "execution_count": 132,
   "metadata": {},
   "outputs": [],
   "source": [
    "def minFlips(s: str) -> int:\n",
    "    def dfs(s: str, target: str, i: int, count: int) -> int:\n",
    "        if i == len(s):\n",
    "            return count\n",
    "\n",
    "        if s[i] != target:\n",
    "            # Choose the first operation: invert characters from index 0 to i (both inclusive)\n",
    "            cost_1 = dfs(s[:i+1][::-1] + s[i+1:], target, i+1, count+i+1)\n",
    "\n",
    "            # Choose the second operation: invert characters from index i to n-1 (both inclusive)\n",
    "            cost_2 = dfs(s[:i] + s[i:][::-1], target, i+1, count+len(s)-i)\n",
    "            \n",
    "            return min(cost_1, cost_2)\n",
    "\n",
    "        return dfs(s, target, i+1, count)\n",
    "\n",
    "    return dfs(s, '0', 0, 0)\n"
   ]
  },
  {
   "cell_type": "code",
   "execution_count": 134,
   "metadata": {},
   "outputs": [
    {
     "data": {
      "text/plain": [
       "5"
      ]
     },
     "execution_count": 134,
     "metadata": {},
     "output_type": "execute_result"
    }
   ],
   "source": [
    "minFlips('010101')"
   ]
  },
  {
   "cell_type": "code",
   "execution_count": null,
   "metadata": {},
   "outputs": [],
   "source": []
  },
  {
   "cell_type": "code",
   "execution_count": 165,
   "metadata": {},
   "outputs": [],
   "source": [
    "def maximumVisitedCells(mat):\n",
    "    m = len(mat)  # number of rows\n",
    "    n = len(mat[0])  # number of columns\n",
    "\n",
    "    max_cells_visited = 0\n",
    "\n",
    "    def dfs(row, col, visited):\n",
    "        nonlocal max_cells_visited\n",
    "        max_cells_visited = max(max_cells_visited, visited)\n",
    "\n",
    "        moves = [(0, 1), (0, -1), (1, 0), (-1, 0)]  # possible moves (right, left, down, up)\n",
    "\n",
    "        for move in moves:\n",
    "            new_row, new_col = row + move[0], col + move[1]\n",
    "            if 0 <= new_row < m and 0 <= new_col < n and mat[new_row][new_col] > mat[row][col]:\n",
    "                dfs(new_row, new_col, visited + 1)\n",
    "\n",
    "    # Iterate through each cell as a starting point and find the maximum number of visited cells\n",
    "    for i in range(m):\n",
    "        for j in range(n):\n",
    "            dfs(i, j, 1)\n",
    "\n",
    "    return max_cells_visited\n"
   ]
  },
  {
   "cell_type": "code",
   "execution_count": 168,
   "metadata": {},
   "outputs": [
    {
     "data": {
      "text/plain": [
       "1"
      ]
     },
     "execution_count": 168,
     "metadata": {},
     "output_type": "execute_result"
    }
   ],
   "source": [
    "mat = [[1,1],[1,1]]\n",
    "\n",
    "#mat = [[3,1],[3,4]]\n",
    "#mat = [[3,1,6],[-9,5,7]]\n",
    "maximumVisitedCells(mat)"
   ]
  }
 ],
 "metadata": {
  "kernelspec": {
   "display_name": "base",
   "language": "python",
   "name": "python3"
  },
  "language_info": {
   "codemirror_mode": {
    "name": "ipython",
    "version": 3
   },
   "file_extension": ".py",
   "mimetype": "text/x-python",
   "name": "python",
   "nbconvert_exporter": "python",
   "pygments_lexer": "ipython3",
   "version": "3.9.13"
  },
  "orig_nbformat": 4
 },
 "nbformat": 4,
 "nbformat_minor": 2
}
