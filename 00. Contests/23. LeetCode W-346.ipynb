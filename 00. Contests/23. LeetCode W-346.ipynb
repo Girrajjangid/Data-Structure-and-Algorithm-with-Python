{
 "cells": [
  {
   "cell_type": "code",
   "execution_count": 1,
   "metadata": {},
   "outputs": [],
   "source": [
    "from typing import List, Dict"
   ]
  },
  {
   "cell_type": "code",
   "execution_count": 20,
   "metadata": {},
   "outputs": [],
   "source": [
    "class Solution:\n",
    "    def minLength(self, s: str) -> int:\n",
    "        while True:\n",
    "            x = s.find('AB')\n",
    "            if x>-1:\n",
    "                s = s[:x] + s[x+2:]\n",
    "            y = s.find('CD')\n",
    "            if y>-1:\n",
    "                s = s[:y] + s[y+2:]\n",
    "            if s.find('CD') == -1 and s.find('AB') == -1:\n",
    "                break\n",
    "        return len(s)\n",
    "            "
   ]
  },
  {
   "cell_type": "code",
   "execution_count": 22,
   "metadata": {},
   "outputs": [
    {
     "data": {
      "text/plain": [
       "2"
      ]
     },
     "execution_count": 22,
     "metadata": {},
     "output_type": "execute_result"
    }
   ],
   "source": [
    "s = \"ABFCACDB\"\n",
    "#s = \"ACBBD\"\n",
    "Solution().minLength(s)"
   ]
  },
  {
   "cell_type": "code",
   "execution_count": null,
   "metadata": {},
   "outputs": [],
   "source": []
  },
  {
   "cell_type": "code",
   "execution_count": 40,
   "metadata": {},
   "outputs": [],
   "source": [
    "class Solution:\n",
    "    def makeSmallestPalindrome(self, s: str) -> str:\n",
    "        start, end = 0, len(s)-1\n",
    "        while start <= end:\n",
    "            if s[start] > s[end]:\n",
    "                s = s[:start] + s[end] + s[start+1:]\n",
    "            elif s[start] < s[end]:\n",
    "                s = s[:end] + s[start] + s[end+1:]\n",
    "            start += 1\n",
    "            end -= 1\n",
    "        return s"
   ]
  },
  {
   "cell_type": "code",
   "execution_count": 43,
   "metadata": {},
   "outputs": [
    {
     "data": {
      "text/plain": [
       "'efcfe'"
      ]
     },
     "execution_count": 43,
     "metadata": {},
     "output_type": "execute_result"
    }
   ],
   "source": [
    "s = \"egcfe\"\n",
    "#s = \"abcd\"\n",
    "#s = \"seven\"\n",
    "Solution().makeSmallestPalindrome(s)"
   ]
  },
  {
   "cell_type": "code",
   "execution_count": 148,
   "metadata": {},
   "outputs": [],
   "source": [
    "class Solution:\n",
    "\n",
    "    def punishmentNumber(self, n: int) -> int:\n",
    "        \n",
    "        def generate_continuous_partitions(number):\n",
    "            partitions = []\n",
    "            number_str = str(number)\n",
    "            length = len(number_str)    \n",
    "            def backtrack(start, current_partition):\n",
    "                if start == length:\n",
    "                    partitions.append(current_partition)\n",
    "                    return\n",
    "                for end in range(start + 1, length + 1):\n",
    "                    current = int(number_str[start:end])\n",
    "                    if current <= number:\n",
    "                        backtrack(end, current_partition + [current])\n",
    "                    else:\n",
    "                        break\n",
    "            backtrack(0, [])\n",
    "            return partitions\n",
    "\n",
    "        res = 0\n",
    "        for i in range(1, n+1):\n",
    "            s = i*i\n",
    "            ans = generate_continuous_partitions(s)\n",
    "            ans.remove([s])\n",
    "            if i in list(map(sum, ans)):\n",
    "                res+=s\n",
    "        return res+1"
   ]
  },
  {
   "cell_type": "code",
   "execution_count": 149,
   "metadata": {},
   "outputs": [
    {
     "data": {
      "text/plain": [
       "1478"
      ]
     },
     "execution_count": 149,
     "metadata": {},
     "output_type": "execute_result"
    }
   ],
   "source": [
    "n = 37\n",
    "Solution().punishmentNumber(n)"
   ]
  },
  {
   "cell_type": "code",
   "execution_count": null,
   "metadata": {},
   "outputs": [],
   "source": [
    "class Solution(object):\n",
    "    def punishmentNumber(self, n):\n",
    "        \"\"\"\n",
    "        :type n: int\n",
    "        :rtype: int\n",
    "        \"\"\"\n",
    "        def p(s, i, c, t):\n",
    "            if i == len(s):\n",
    "                return c == t\n",
    "            v = 0\n",
    "            for j in range(i, len(s)):\n",
    "                v = v * 10 + ord(s[j]) - ord('0')\n",
    "                if p(s, j + 1, c + v, t):\n",
    "                    return True\n",
    "            return False\n",
    "        a = 0\n",
    "        for i in range(1, n + 1):\n",
    "            a += i * i if p(str(i * i), 0, 0, i) else 0\n",
    "        return a"
   ]
  },
  {
   "cell_type": "code",
   "execution_count": 152,
   "metadata": {},
   "outputs": [],
   "source": [
    "class Solution:\n",
    "    def modifiedGraphEdges(self, n: int, edges: List[List[int]], source: int, destination: int, target: int) -> List[List[int]]:\n",
    "        res = []\n",
    "        d = {}\n",
    "        for a,b,w in edges:\n",
    "            d[a] = (b,w)\n",
    "            d[b] = (a,w)\n",
    "        ans = []\n",
    "        not_possible = None\n",
    "        while True:\n",
    "            if d.get(source,None) is None:\n",
    "                not_possible=True\n",
    "                break\n",
    "            d[source][0]\n",
    "        # for a,b,w in edges:\n",
    "        #     if w>0:\n",
    "        #         res.append([a,b,w])\n",
    "        #     else:"
   ]
  },
  {
   "cell_type": "code",
   "execution_count": 153,
   "metadata": {},
   "outputs": [
    {
     "data": {
      "text/plain": [
       "{4: (3, -1), 1: (4, -1), 2: (0, -1), 0: (3, -1), 3: (4, -1)}"
      ]
     },
     "execution_count": 153,
     "metadata": {},
     "output_type": "execute_result"
    }
   ],
   "source": [
    "n = 5; edges = [[4,1,-1],[2,0,-1],[0,3,-1],[4,3,-1]]; source = 0; destination = 1; target = 5\n",
    "Solution().modifiedGraphEdges(n, edges, source, destination, target)"
   ]
  },
  {
   "cell_type": "code",
   "execution_count": null,
   "metadata": {},
   "outputs": [],
   "source": []
  }
 ],
 "metadata": {
  "kernelspec": {
   "display_name": "base",
   "language": "python",
   "name": "python3"
  },
  "language_info": {
   "codemirror_mode": {
    "name": "ipython",
    "version": 3
   },
   "file_extension": ".py",
   "mimetype": "text/x-python",
   "name": "python",
   "nbconvert_exporter": "python",
   "pygments_lexer": "ipython3",
   "version": "3.9.13"
  },
  "orig_nbformat": 4
 },
 "nbformat": 4,
 "nbformat_minor": 2
}
