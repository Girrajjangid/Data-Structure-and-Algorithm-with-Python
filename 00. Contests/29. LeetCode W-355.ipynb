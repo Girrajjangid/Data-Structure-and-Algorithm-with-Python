{
 "cells": [
  {
   "cell_type": "code",
   "execution_count": 3,
   "metadata": {},
   "outputs": [],
   "source": [
    "from typing import List, Dict"
   ]
  },
  {
   "cell_type": "code",
   "execution_count": 8,
   "metadata": {},
   "outputs": [],
   "source": [
    "class Solution:\n",
    "    def splitWordsBySeparator(self, words: List[str], separator: str) -> List[str]:\n",
    "        l = []\n",
    "        for i in words:\n",
    "            l.extend(i.split(separator))\n",
    "        return [i for i in l if '' != i]"
   ]
  },
  {
   "cell_type": "code",
   "execution_count": 11,
   "metadata": {},
   "outputs": [
    {
     "data": {
      "text/plain": [
       "['one', 'two', 'three', 'four', 'five', 'six']"
      ]
     },
     "execution_count": 11,
     "metadata": {},
     "output_type": "execute_result"
    }
   ],
   "source": [
    "words = [\"|||\"]; separator = \"|\"\n",
    "words = [\"$easy$\",\"$problem$\"]; separator = \"$\"\n",
    "words = [\"one.two.three\",\"four.five\",\"six\"]; separator = \".\"\n",
    "Solution().splitWordsBySeparator(words, separator)"
   ]
  },
  {
   "cell_type": "code",
   "execution_count": null,
   "metadata": {},
   "outputs": [],
   "source": []
  },
  {
   "cell_type": "code",
   "execution_count": 65,
   "metadata": {},
   "outputs": [],
   "source": [
    "class Solution:\n",
    "    def maxArrayValue(self, nums: List[int]) -> int:\n",
    "        length = len(nums)\n",
    "        \n",
    "        def rec(new_arr, length):\n",
    "            max_ = float('-inf')\n",
    "             \n",
    "            for i in range(length):\n",
    "                if new_arr[i] <= new_arr[i+1]:\n",
    "                     max_ = max( max_, rec(new_arr[:i] + [new_arr[i]+new_arr[i+1]] + new_arr[i+2:], length-1))\n",
    "            \n",
    "            if max_ == float('-inf'): \n",
    "                return max(new_arr)\n",
    "                \n",
    "            return max_\n",
    "        \n",
    "        result = rec(nums, length-1)\n",
    "        return result "
   ]
  },
  {
   "cell_type": "code",
   "execution_count": 162,
   "metadata": {},
   "outputs": [],
   "source": [
    "from typing import List\n",
    "from functools import cache\n",
    "\n",
    "class Solution:\n",
    "    def maxArrayValue(self, nums: List[int]) -> int:\n",
    "        length = len(nums)\n",
    "        \n",
    "        memo = {}\n",
    "        \n",
    "        @cache\n",
    "        def rec(new_arr, length):\n",
    "            if length == 0: return new_arr[0]\n",
    "            \n",
    "            if (tuple(new_arr), length) in memo:\n",
    "                return memo[(tuple(new_arr), length)]\n",
    "            \n",
    "            max_ = float('-inf')\n",
    "            for i in range(length):\n",
    "                if new_arr[i] <= new_arr[i+1]:\n",
    "                    new_val = new_arr[i] + new_arr[i+1]\n",
    "                    max_ = max(max_, rec( tuple(list(new_arr[:i]) + [new_val] + list(new_arr[i+2:])), length-1))\n",
    "            \n",
    "            if max_ == float('-inf'):\n",
    "                memo[(tuple(new_arr), length)] = max(new_arr)\n",
    "                return max(new_arr)\n",
    "                \n",
    "            memo[(tuple(new_arr), length)] = max_\n",
    "            return max_\n",
    "        \n",
    "        result = rec(tuple(nums), length-1)\n",
    "        return result\n"
   ]
  },
  {
   "cell_type": "code",
   "execution_count": 167,
   "metadata": {},
   "outputs": [
    {
     "name": "stdout",
     "output_type": "stream",
     "text": [
      "1207\n"
     ]
    },
    {
     "data": {
      "text/plain": [
       "0.8667755126953125"
      ]
     },
     "execution_count": 167,
     "metadata": {},
     "output_type": "execute_result"
    }
   ],
   "source": [
    "nums = [2,3,7,9,3] # 21\n",
    "nums = [5,3,3] # 11\n",
    "\n",
    "nums = [40,15,35,98,77,79,24,62,53,84,97,16,30,22,49] # 781\n",
    "nums = [71,4,53,51,9,92,91,86,84,58,31,39,38,49,56,27,91,17,10,56,52,78,35,76,39] # 1254\n",
    "nums = [89,49,59,59,2,77,55,44,51,47,100,77,30,71,47,100,13,17,12,38,26,55,89,41] # 1207\n",
    "a = time.time()\n",
    "r = Solution().maxArrayValue(nums)\n",
    "print(r)\n",
    "b = time.time()\n",
    "b-a"
   ]
  },
  {
   "cell_type": "code",
   "execution_count": 66,
   "metadata": {},
   "outputs": [
    {
     "name": "stdout",
     "output_type": "stream",
     "text": [
      "3.76 µs ± 241 ns per loop (mean ± std. dev. of 7 runs, 100000 loops each)\n"
     ]
    }
   ],
   "source": [
    "%timeit Solution().maxArrayValue(nums)"
   ]
  },
  {
   "cell_type": "code",
   "execution_count": 174,
   "metadata": {},
   "outputs": [
    {
     "data": {
      "text/plain": [
       "21"
      ]
     },
     "execution_count": 174,
     "metadata": {},
     "output_type": "execute_result"
    }
   ],
   "source": [
    "from typing import List\n",
    "\n",
    "class Solution:\n",
    "    def maxArrayValue(self, nums: List[int]) -> int:\n",
    "        n = len(nums)\n",
    "        \n",
    "        if n == 1: return nums[0]\n",
    "        \n",
    "        prev_val = nums[n - 1]\n",
    "        max_val = nums[n - 1]\n",
    "        \n",
    "        for i in range(n - 2, -1, -1):\n",
    "            if nums[i] <= prev_val:\n",
    "                prev_val = nums[i] + prev_val\n",
    "            else:\n",
    "                prev_val = nums[i]\n",
    "            \n",
    "            max_val = max(max_val, prev_val)\n",
    "        \n",
    "        return max_val\n",
    "\n",
    "nums = [2,3,7,9,3] # 21\n",
    "#nums = [5,3,3] # 11\n",
    "\n",
    "#nums = [40,15,35,98,77,79,24,62,53,84,97,16,30,22,49] # 781\n",
    "#nums = [71,4,53,51,9,92,91,86,84,58,31,39,38,49,56,27,91,17,10,56,52,78,35,76,39] # 1254\n",
    "#nums = [89,49,59,59,2,77,55,44,51,47,100,77,30,71,47,100,13,17,12,38,26,55,89,41] # 1207\n",
    "\n",
    "Solution().maxArrayValue(nums)\n"
   ]
  },
  {
   "cell_type": "code",
   "execution_count": 198,
   "metadata": {},
   "outputs": [
    {
     "name": "stdout",
     "output_type": "stream",
     "text": [
      "0\n"
     ]
    }
   ],
   "source": [
    "from collections import defaultdict\n",
    "from typing import List\n",
    "\n",
    "class Node:\n",
    "    def __init__(self, x):\n",
    "        self.data = x\n",
    "        self.children = []\n",
    "\n",
    "class Solution:\n",
    "    def countPalindromePaths(self, parent: List[int], s: str) -> int:\n",
    "        def checkPalin(freq):\n",
    "            oddCount = 0\n",
    "            for x in freq:\n",
    "                if freq[x] % 2 == 1:\n",
    "                    oddCount += 1\n",
    "            return oddCount <= 1\n",
    "\n",
    "        def cntpalin(root, s, freq, ans_list):\n",
    "            if root is None:\n",
    "                return\n",
    "\n",
    "            freq[root.data] += 1\n",
    "\n",
    "            if root.data != 0:\n",
    "                s += s_dict[root.data]\n",
    "                u = root.data\n",
    "                v = 0\n",
    "                if parent[u] != -1:\n",
    "                    v = parent[u]\n",
    "                    path_chars = s\n",
    "                    while v != 0:\n",
    "                        path_chars += s_dict[v]\n",
    "                        v = parent[v]\n",
    "                    if checkPalin(freq):\n",
    "                        ans_list[0] += 1\n",
    "\n",
    "            for child in root.children:\n",
    "                cntpalin(child, s, freq, ans_list)\n",
    "\n",
    "            freq[root.data] -= 1\n",
    "\n",
    "        def construct_tree(parent):\n",
    "            root = Node(0)\n",
    "            for i, p in enumerate(parent):\n",
    "                if i != 0:\n",
    "                    node = Node(i)\n",
    "                    root.children.append(node)\n",
    "            return root\n",
    "\n",
    "        n = len(parent)\n",
    "        s_dict = {i: s[i] for i in range(n)}\n",
    "        ans_list = [0]  # A list to store the count of pairs as a mutable value\n",
    "        root = construct_tree(parent)\n",
    "        freq = defaultdict(int)\n",
    "\n",
    "        cntpalin(root, '', freq, ans_list)\n",
    "\n",
    "        return ans_list[0]\n",
    "\n",
    "# Test the function\n",
    "if __name__ == '__main__':\n",
    "    parent = [-1, 0, 0, 1, 1, 2]\n",
    "    s = \"acaabc\"\n",
    "    solution = Solution()\n",
    "    print(solution.countPalindromePaths(parent, s))  # Output: 8\n"
   ]
  },
  {
   "cell_type": "code",
   "execution_count": 199,
   "metadata": {},
   "outputs": [],
   "source": [
    "from collections import Counter"
   ]
  },
  {
   "cell_type": "code",
   "execution_count": 206,
   "metadata": {},
   "outputs": [
    {
     "data": {
      "text/plain": [
       "['h', 't']"
      ]
     },
     "execution_count": 206,
     "metadata": {},
     "output_type": "execute_result"
    }
   ],
   "source": [
    "s1 = 'Python'\n",
    "s2 = 'HackerEarth'\n",
    "d = Counter(s1) & Counter(s2)\n",
    "sorted(list(d.elements()))"
   ]
  }
 ],
 "metadata": {
  "kernelspec": {
   "display_name": "base",
   "language": "python",
   "name": "python3"
  },
  "language_info": {
   "codemirror_mode": {
    "name": "ipython",
    "version": 3
   },
   "file_extension": ".py",
   "mimetype": "text/x-python",
   "name": "python",
   "nbconvert_exporter": "python",
   "pygments_lexer": "ipython3",
   "version": "3.9.13"
  },
  "orig_nbformat": 4
 },
 "nbformat": 4,
 "nbformat_minor": 2
}
