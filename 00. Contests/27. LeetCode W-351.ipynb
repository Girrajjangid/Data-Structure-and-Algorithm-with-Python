{
 "cells": [
  {
   "cell_type": "code",
   "execution_count": 22,
   "metadata": {},
   "outputs": [],
   "source": [
    "from typing import List, Dict"
   ]
  },
  {
   "cell_type": "code",
   "execution_count": 61,
   "metadata": {},
   "outputs": [],
   "source": [
    "import math\n",
    "from itertools import combinations\n",
    "\n",
    "\n",
    "class Solution:\n",
    "    def countBeautifulPairs(self, nums: List[int]) -> int:\n",
    "        from functools import cache\n",
    "        # @cache\n",
    "        # def gcd(a, b):\n",
    "        #     if b == 0: return a\n",
    "        #     return gcd(b, a % b)\n",
    "        def gcd(a, b):\n",
    "            while b != 0:\n",
    "                a, b = b, a % b\n",
    "            return a\n",
    "\n",
    "        res = 0\n",
    "        all_pairs = list(combinations(nums, 2))\n",
    "        #print(all_pairs)\n",
    "        for i,j in all_pairs:\n",
    "            #print(i,j,math.gcd(i,j))\n",
    "            if math.gcd(int(str(i)[0]), int(str(j)[-1])) == 1:\n",
    "                res+=1\n",
    "        return res"
   ]
  },
  {
   "cell_type": "code",
   "execution_count": 62,
   "metadata": {},
   "outputs": [
    {
     "data": {
      "text/plain": [
       "5"
      ]
     },
     "execution_count": 62,
     "metadata": {},
     "output_type": "execute_result"
    }
   ],
   "source": [
    "nums = [2,5,1,4]\n",
    "#nums = [11,21,12]\n",
    "#nums = [31,25,72,79,74]\n",
    "Solution().countBeautifulPairs(nums)"
   ]
  },
  {
   "cell_type": "code",
   "execution_count": 72,
   "metadata": {},
   "outputs": [],
   "source": [
    "class Solution:\n",
    "    def numberOfGoodSubarraySplits(self, nums: List[int]) -> int:\n",
    "        sums_ = []\n",
    "        sumt = 0\n",
    "        for i in nums:\n",
    "            sumt += i\n",
    "            sums_.append(sumt)\n",
    "        res = 0\n",
    "        for idx, val in enumerate(sums_):\n",
    "            if val == 1 and sums_[-1] - sums_[idx] == 1:\n",
    "                res+=1\n",
    "        return 1 if res==0 else res % (10**9 + 7)"
   ]
  },
  {
   "cell_type": "code",
   "execution_count": 75,
   "metadata": {},
   "outputs": [
    {
     "data": {
      "text/plain": [
       "1"
      ]
     },
     "execution_count": 75,
     "metadata": {},
     "output_type": "execute_result"
    }
   ],
   "source": [
    "nums = [0,1,0,0,1]\n",
    "nums = [0,1,0]\n",
    "nums = [1,0,0,0,0,0,1,0,1]\n",
    "Solution().numberOfGoodSubarraySplits(nums)"
   ]
  },
  {
   "cell_type": "code",
   "execution_count": 105,
   "metadata": {},
   "outputs": [
    {
     "data": {
      "text/plain": [
       "0"
      ]
     },
     "execution_count": 105,
     "metadata": {},
     "output_type": "execute_result"
    }
   ],
   "source": [
    "def minOperations(num1: int, num2: int) -> int:\n",
    "    count = 0\n",
    "    first_copy = num1\n",
    "    not_found = False\n",
    "    \n",
    "    while num1 != 0:\n",
    "        last = num1\n",
    "        d = {}\n",
    "        for i in range(61):\n",
    "            if 0 < num1 - (2**i + num2) < last: \n",
    "                d[num1 - (2**i + num2)] = i\n",
    "            else:\n",
    "                if first_copy == num1:\n",
    "                    not_found = True\n",
    "        num1 -= (2**d[min(d.keys())] + num2) \n",
    "        if not_found: break\n",
    "        count+=1\n",
    "    return count\n",
    "\n",
    "# Test the function\n",
    "num1 = 3; num2 = -2\n",
    "minOperations(num1, num2)"
   ]
  },
  {
   "cell_type": "code",
   "execution_count": null,
   "metadata": {},
   "outputs": [],
   "source": []
  },
  {
   "cell_type": "code",
   "execution_count": null,
   "metadata": {},
   "outputs": [],
   "source": []
  },
  {
   "cell_type": "code",
   "execution_count": null,
   "metadata": {},
   "outputs": [],
   "source": []
  },
  {
   "cell_type": "code",
   "execution_count": null,
   "metadata": {},
   "outputs": [],
   "source": []
  },
  {
   "cell_type": "code",
   "execution_count": null,
   "metadata": {},
   "outputs": [],
   "source": []
  },
  {
   "cell_type": "code",
   "execution_count": null,
   "metadata": {},
   "outputs": [],
   "source": []
  }
 ],
 "metadata": {
  "kernelspec": {
   "display_name": "base",
   "language": "python",
   "name": "python3"
  },
  "language_info": {
   "codemirror_mode": {
    "name": "ipython",
    "version": 3
   },
   "file_extension": ".py",
   "mimetype": "text/x-python",
   "name": "python",
   "nbconvert_exporter": "python",
   "pygments_lexer": "ipython3",
   "version": "3.9.13"
  },
  "orig_nbformat": 4
 },
 "nbformat": 4,
 "nbformat_minor": 2
}
