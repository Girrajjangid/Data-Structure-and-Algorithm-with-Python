{
 "cells": [
  {
   "cell_type": "code",
   "execution_count": 12,
   "metadata": {},
   "outputs": [],
   "source": [
    "from typing import List"
   ]
  },
  {
   "cell_type": "markdown",
   "metadata": {},
   "source": [
    "#### 1. [6253]. Circular Sentence"
   ]
  },
  {
   "cell_type": "code",
   "execution_count": 10,
   "metadata": {},
   "outputs": [],
   "source": [
    "class Solution:\n",
    "    def isCircularSentence(self, sentence: str) -> bool:\n",
    "        # check for last character\n",
    "        words = sentence.split(' ')\n",
    "        length = len(words)\n",
    "        for idx, i in enumerate(words):\n",
    "            if idx==length-1:\n",
    "                if i[-1] != words[0][0]: return False\n",
    "                continue\n",
    "            if i[-1] != words[idx+1][0]: return False\n",
    "        return True            "
   ]
  },
  {
   "cell_type": "code",
   "execution_count": 11,
   "metadata": {},
   "outputs": [
    {
     "data": {
      "text/plain": [
       "False"
      ]
     },
     "execution_count": 11,
     "metadata": {},
     "output_type": "execute_result"
    }
   ],
   "source": [
    "sentence = \"leetcode exercises sound delightful\"\n",
    "sentence = \"eetcode\"\n",
    "sentence = \"Leetcode is cool\"\n",
    "Solution().isCircularSentence(sentence)"
   ]
  },
  {
   "cell_type": "markdown",
   "metadata": {},
   "source": [
    "#### 2. [6254]. Divide Players Into Teams of Equal Skill"
   ]
  },
  {
   "cell_type": "code",
   "execution_count": 112,
   "metadata": {},
   "outputs": [],
   "source": [
    "from collections import defaultdict\n",
    "class Solution:\n",
    "    def dividePlayers(self, skill: List[int]) -> int:\n",
    "        length = len(skill)\n",
    "        if length==2: return skill[0]*skill[1]\n",
    "        total_sum = sum(skill)\n",
    "        total_team = length//2\n",
    "        if total_sum%total_team: return -1\n",
    "        team_sum = total_sum//total_team\n",
    "        d, sum_ = {}, 0\n",
    "        d2 = {}\n",
    "        for i in skill:\n",
    "            if d.get(i,None) is None:\n",
    "                d[i] = d[team_sum-i] = 1\n",
    "                sum_ += i*(team_sum-i)\n",
    "            else:\n",
    "                d[i] = None\n",
    "                d[team_sum-i] = None\n",
    "            if d2.get(i, None) is None:\n",
    "                d2[team_sum-i] = d2.get(team_sum-i,0) + 1\n",
    "            else:\n",
    "                if d2[i]>1: d2[i]-=1\n",
    "                else: d2.pop(i)\n",
    "        return -1 if len(d2) else sum_         "
   ]
  },
  {
   "cell_type": "code",
   "execution_count": 113,
   "metadata": {},
   "outputs": [
    {
     "data": {
      "text/plain": [
       "32"
      ]
     },
     "execution_count": 113,
     "metadata": {},
     "output_type": "execute_result"
    }
   ],
   "source": [
    "skill = [3,2,5,1,3,4]\n",
    "skill = [3,4]\n",
    "skill = [1,1,2,3]\n",
    "skill = [2,4,1,3]\n",
    "skill = [2,2,2,2]\n",
    "skill = [2,1,5,2]\n",
    "skill = [1,4,4,1]\n",
    "skill = [2,3,4,2,5,5]\n",
    "Solution().dividePlayers(skill)"
   ]
  },
  {
   "cell_type": "code",
   "execution_count": null,
   "metadata": {},
   "outputs": [],
   "source": []
  },
  {
   "cell_type": "code",
   "execution_count": 119,
   "metadata": {},
   "outputs": [],
   "source": [
    "class Solution:\n",
    "    def minScore(self, n: int, roads: List[List[int]]) -> int:\n",
    "        min_ = float('inf')\n",
    "        for i in roads:\n",
    "            min_ = min(min_, i[-1])\n",
    "        return 0 if min_== float('inf') else min_"
   ]
  },
  {
   "cell_type": "code",
   "execution_count": 120,
   "metadata": {},
   "outputs": [
    {
     "data": {
      "text/plain": [
       "287"
      ]
     },
     "execution_count": 120,
     "metadata": {},
     "output_type": "execute_result"
    }
   ],
   "source": [
    "n = 4; roads = [[1,2,2],[1,3,4],[3,4,7]]\n",
    "n = 4; roads = [[1,2,9],[2,3,6],[2,4,5],[1,4,7]]\n",
    "n=36\n",
    "roads=[[7,11,418],[13,23,287],[16,25,7891],[15,7,9695],[4,3,9569],[17,7,1809],[14,3,4720],[14,4,6118],[9,2,4290],\n",
    "       [32,17,5645],[14,16,426],[36,7,6721],[13,30,9444],[3,25,4635],[33,5,1669],[22,18,8910],[5,28,7865],[13,10,9466],\n",
    "       [7,9,2457],[11,8,4711],[17,11,6308],[7,34,3789],[8,33,9659],[16,3,4187],[16,20,3595],[23,10,6251],[26,22,6180],\n",
    "       [4,16,5577],[26,7,5398],[6,36,8671],[10,19,3028],[23,30,1330],[19,13,8315],[25,20,4740],[25,4,5818],[30,10,8030],\n",
    "       [30,19,7527],[28,6,6804],[21,27,1746],[18,9,5189],[7,27,6560],[20,14,2450],[27,32,3951],[2,21,3927],[1,15,9283],\n",
    "       [3,20,5428],[15,26,5871],[19,23,4533],[14,25,6992],[4,20,5831]]\n",
    "\n",
    "Solution().minScore(n, roads)\n"
   ]
  }
 ],
 "metadata": {
  "kernelspec": {
   "display_name": "Python 3.9.13 ('base')",
   "language": "python",
   "name": "python3"
  },
  "language_info": {
   "codemirror_mode": {
    "name": "ipython",
    "version": 3
   },
   "file_extension": ".py",
   "mimetype": "text/x-python",
   "name": "python",
   "nbconvert_exporter": "python",
   "pygments_lexer": "ipython3",
   "version": "3.9.13"
  },
  "orig_nbformat": 4,
  "vscode": {
   "interpreter": {
    "hash": "fecfa28de78ead09ec2989a580469213059448baba5e0b02aeeb7641afb84221"
   }
  }
 },
 "nbformat": 4,
 "nbformat_minor": 2
}
