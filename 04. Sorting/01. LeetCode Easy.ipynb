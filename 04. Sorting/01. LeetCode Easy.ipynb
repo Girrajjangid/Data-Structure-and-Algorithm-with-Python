{
 "cells": [
  {
   "cell_type": "code",
   "execution_count": 1,
   "metadata": {},
   "outputs": [],
   "source": [
    "from typing import List, Dict\n",
    "import collections"
   ]
  },
  {
   "cell_type": "code",
   "execution_count": null,
   "metadata": {},
   "outputs": [],
   "source": []
  },
  {
   "cell_type": "markdown",
   "metadata": {},
   "source": [
    "#### 01. The Number of Weak Characters in the Game"
   ]
  },
  {
   "cell_type": "code",
   "execution_count": 37,
   "metadata": {},
   "outputs": [],
   "source": [
    "class Solution:\n",
    "    def numberOfWeakCharacters(self, properties: List[List[int]]) -> int:\n",
    "        d = collections.defaultdict(list)\n",
    "        minAttack = float('inf')\n",
    "        maxAttack = float('-inf')\n",
    "        for attack, defence in properties:\n",
    "            minAttack = min(minAttack, attack)\n",
    "            maxAttack = max(maxAttack, attack)\n",
    "            d[attack].append(defence)\n",
    "        count = 0\n",
    "        maxDefence = -1\n",
    "        for i in range(maxAttack, minAttack-1, -1):\n",
    "            if not d[i]: continue\n",
    "            for defence in d[i]:\n",
    "                if defence < maxDefence:\n",
    "                    count+=1\n",
    "            maxDefence = max(maxDefence, max(d[i]))            \n",
    "        return count\n",
    "        "
   ]
  },
  {
   "cell_type": "code",
   "execution_count": 40,
   "metadata": {},
   "outputs": [],
   "source": [
    "#################################################\n",
    "# Approach-2:\n",
    "# sort the first column and second column in decending order\n",
    "# then only compare based on second column value.\n",
    "######################################################\n",
    "\n",
    "class Solution:\n",
    "    def numberOfWeakCharacters(self, properties: List[List[int]]) -> int:\n",
    "        properties.sort(key=lambda x: (x[0], -x[1]))\n",
    "        stack = []\n",
    "        ans = 0\n",
    "        for a, d in properties:\n",
    "            while stack and stack[-1] < d:\n",
    "                stack.pop()\n",
    "                ans += 1\n",
    "            stack.append(d)\n",
    "        return ans"
   ]
  },
  {
   "cell_type": "code",
   "execution_count": 41,
   "metadata": {},
   "outputs": [
    {
     "data": {
      "text/plain": [
       "1"
      ]
     },
     "execution_count": 41,
     "metadata": {},
     "output_type": "execute_result"
    }
   ],
   "source": [
    "properties = [[5,5],[6,3],[3,6]]\n",
    "properties = [[2,2],[3,3]]\n",
    "properties = [[1,5],[10,4],[4,3]]\n",
    "properties = [[1,1],[2,1],[2,2],[1,2]]\n",
    "Solution().numberOfWeakCharacters(properties)"
   ]
  },
  {
   "cell_type": "markdown",
   "metadata": {},
   "source": [
    "#### 2. Missing Number"
   ]
  },
  {
   "cell_type": "code",
   "execution_count": 10,
   "metadata": {},
   "outputs": [],
   "source": [
    "# Approach-1:\n",
    "class Solution:\n",
    "    def missingNumber(self, nums: List[int]) -> int:\n",
    "        nums.sort()\n",
    "        for idx,val in enumerate(nums):\n",
    "            if idx != val:\n",
    "                return val-1\n",
    "        return nums[-1]+1"
   ]
  },
  {
   "cell_type": "code",
   "execution_count": 11,
   "metadata": {},
   "outputs": [],
   "source": [
    "# Approach-2:\n",
    "class Solution:\n",
    "    def missingNumber(self, nums: List[int]) -> int:\n",
    "        n = len(nums)\n",
    "        return (n*(n+1)//2) - sum(nums)"
   ]
  },
  {
   "cell_type": "code",
   "execution_count": 14,
   "metadata": {},
   "outputs": [
    {
     "data": {
      "text/plain": [
       "2"
      ]
     },
     "execution_count": 14,
     "metadata": {},
     "output_type": "execute_result"
    }
   ],
   "source": [
    "nums = [3,0,1]\n",
    "Solution().missingNumber(nums)"
   ]
  },
  {
   "cell_type": "markdown",
   "metadata": {},
   "source": [
    "#### 3. Find Cookies"
   ]
  },
  {
   "cell_type": "code",
   "execution_count": 18,
   "metadata": {},
   "outputs": [],
   "source": [
    "class Solution:\n",
    "    def findContentChildren(self, g: List[int], s: List[int]) -> int:\n",
    "        length_g = len(g)\n",
    "        length_s = len(s)\n",
    "        res = 0\n",
    "        if length_s==0: return res\n",
    "        g.sort()\n",
    "        s.sort()\n",
    "        i,j=0,0\n",
    "        while i<length_g and j<length_s:\n",
    "            if g[i]<=s[j]:\n",
    "                res+=1\n",
    "                i+=1\n",
    "                j+=1\n",
    "            else:\n",
    "                j+=1\n",
    "        return res"
   ]
  },
  {
   "cell_type": "code",
   "execution_count": 21,
   "metadata": {},
   "outputs": [
    {
     "data": {
      "text/plain": [
       "2"
      ]
     },
     "execution_count": 21,
     "metadata": {},
     "output_type": "execute_result"
    }
   ],
   "source": [
    "g = [1,2,3]; s = [1,1]\n",
    "g = [1,2]; s = [1,2,3]\n",
    "Solution().findContentChildren(g,s)"
   ]
  },
  {
   "cell_type": "markdown",
   "metadata": {},
   "source": [
    "#### 5. Make Two Arrays Equal by Reversing Subarrays"
   ]
  },
  {
   "cell_type": "code",
   "execution_count": 27,
   "metadata": {},
   "outputs": [],
   "source": [
    "# Approach-1: Brute Force\n",
    "class Solution:\n",
    "    def canBeEqual(self, target: List[int], arr: List[int]) -> bool:\n",
    "        target.sort()\n",
    "        arr.sort()\n",
    "        len_t, len_a = len(target), len(arr)\n",
    "        i,j=0,0\n",
    "        while i<len_t and j<len_a:\n",
    "            if target[i]!=arr[j]:\n",
    "                return False\n",
    "            i+=1\n",
    "            j+=1\n",
    "        return True"
   ]
  },
  {
   "cell_type": "code",
   "execution_count": 28,
   "metadata": {},
   "outputs": [],
   "source": [
    "# Appraoch-2: Single Line\n",
    "class Solution:\n",
    "    def canBeEqual(self, target: List[int], arr: List[int]) -> bool:\n",
    "        return sorted(target) == sorted(arr)"
   ]
  },
  {
   "cell_type": "code",
   "execution_count": 29,
   "metadata": {},
   "outputs": [],
   "source": [
    "# Approach-3: Best\n",
    "from collections import Counter\n",
    "class Solution:\n",
    "    def canBeEqual(self, target, A):\n",
    "        return Counter(target) == Counter(A)"
   ]
  },
  {
   "cell_type": "code",
   "execution_count": 26,
   "metadata": {},
   "outputs": [
    {
     "data": {
      "text/plain": [
       "False"
      ]
     },
     "execution_count": 26,
     "metadata": {},
     "output_type": "execute_result"
    }
   ],
   "source": [
    "target = [3,7,9]; arr = [3,7,11]\n",
    "Solution().canBeEqual(target, arr)"
   ]
  },
  {
   "cell_type": "markdown",
   "metadata": {},
   "source": [
    "#### 6. Relative Ranks"
   ]
  },
  {
   "cell_type": "code",
   "execution_count": 35,
   "metadata": {},
   "outputs": [],
   "source": [
    "class Solution:\n",
    "    def findRelativeRanks(self, score: List[int]) -> List[str]:\n",
    "        sorted_score = sorted(score, reverse=True)\n",
    "        len_s = len(sorted_score)\n",
    "        d = {i:j for i,j in zip(sorted_score, [\"Gold Medal\",'Silver Medal', 'Bronze Medal', *(str(i) for i in range(4,len_s+1)) ])}\n",
    "        return [d[val] for val in score]"
   ]
  },
  {
   "cell_type": "code",
   "execution_count": 33,
   "metadata": {},
   "outputs": [],
   "source": [
    "# Same as above code but in good manner.\n",
    "class Solution:\n",
    "    def findRelativeRanks(self, nums):\n",
    "        sort = sorted(nums, reverse=True)\n",
    "        rank = [\"Gold Medal\", \"Silver Medal\", \"Bronze Medal\"] + map(str, range(4, len(nums) + 1))\n",
    "        return map(dict(zip(sort, rank)).get, nums)"
   ]
  },
  {
   "cell_type": "code",
   "execution_count": 36,
   "metadata": {},
   "outputs": [
    {
     "data": {
      "text/plain": [
       "['Gold Medal', 'Silver Medal', 'Bronze Medal', '4', '5']"
      ]
     },
     "execution_count": 36,
     "metadata": {},
     "output_type": "execute_result"
    }
   ],
   "source": [
    "score = [5,4,3,2,1]\n",
    "Solution().findRelativeRanks(score)"
   ]
  },
  {
   "cell_type": "markdown",
   "metadata": {},
   "source": [
    "#### 7. Array Partition"
   ]
  },
  {
   "cell_type": "code",
   "execution_count": 38,
   "metadata": {},
   "outputs": [],
   "source": [
    "class Solution:\n",
    "    def arrayPairSum(self, nums: List[int]) -> int:\n",
    "        len_n = len(nums)\n",
    "        sum_ = i = 0  \n",
    "        nums.sort()\n",
    "        while i<len_n-1:\n",
    "            sum_+=min(nums[i],nums[i+1])\n",
    "            i+=2\n",
    "        return sum_"
   ]
  },
  {
   "cell_type": "code",
   "execution_count": 39,
   "metadata": {},
   "outputs": [
    {
     "data": {
      "text/plain": [
       "4"
      ]
     },
     "execution_count": 39,
     "metadata": {},
     "output_type": "execute_result"
    }
   ],
   "source": [
    "nums = [1,4,3,2]\n",
    "Solution().arrayPairSum(nums)"
   ]
  },
  {
   "cell_type": "markdown",
   "metadata": {},
   "source": [
    "#### 8. Maximum Product of Three Numbers"
   ]
  },
  {
   "cell_type": "code",
   "execution_count": 60,
   "metadata": {},
   "outputs": [],
   "source": [
    "class Solution:\n",
    "    def maximumProduct(self, nums: List[int]) -> int:\n",
    "        nums.sort()\n",
    "        if nums[-1] < 0:\n",
    "            a,b,c = nums[-3:]\n",
    "            return a*b*c\n",
    "        if nums[0] < 0 and nums[1] < 0:\n",
    "            a1,b1 = nums[:2]\n",
    "            a2,b2 = nums[-3:-1]\n",
    "            return max(a1*b1, a2*b2)*nums[-1]\n",
    "        else:\n",
    "            a,b,c = nums[-3:]\n",
    "            return a*b*c"
   ]
  },
  {
   "cell_type": "code",
   "execution_count": 61,
   "metadata": {},
   "outputs": [],
   "source": [
    "import heapq\n",
    "class Solution:\n",
    "    def maximumProduct(self, array):\n",
    "        largest = heapq.nlargest(3, array)\n",
    "        smallest = heapq.nsmallest(2,array)\n",
    "\n",
    "        return max(largest[0] * largest[1] * largest[2], largest[0] * smallest[0] * smallest[1] )"
   ]
  },
  {
   "cell_type": "code",
   "execution_count": 62,
   "metadata": {},
   "outputs": [
    {
     "data": {
      "text/plain": [
       "39200"
      ]
     },
     "execution_count": 62,
     "metadata": {},
     "output_type": "execute_result"
    }
   ],
   "source": [
    "nums = [-100,-98,-1,2,3,4]\n",
    "#nums = [-1,-2,-3,-4]\n",
    "#nums = [1,2,3]\n",
    "#nums = [1,2,3,4]\n",
    "Solution().maximumProduct(nums)"
   ]
  },
  {
   "cell_type": "markdown",
   "metadata": {},
   "source": [
    "#### 9.Set Mismatch"
   ]
  },
  {
   "cell_type": "code",
   "execution_count": 73,
   "metadata": {},
   "outputs": [],
   "source": [
    "class Solution:\n",
    "    def findErrorNums(self, nums: List[int]) -> List[int]:\n",
    "        length = len(nums)\n",
    "        d = {}\n",
    "        for val in nums:\n",
    "            d[val] = d.get(val,0)+1\n",
    "        a,b=0,0\n",
    "        for idx in range(1, length+1):\n",
    "            if d.get(idx,None) is None:\n",
    "               b = idx\n",
    "            if d.get(idx,None)==2:\n",
    "                a = idx\n",
    "        return [a,b] "
   ]
  },
  {
   "cell_type": "code",
   "execution_count": 74,
   "metadata": {},
   "outputs": [
    {
     "data": {
      "text/plain": [
       "[1, 2]"
      ]
     },
     "execution_count": 74,
     "metadata": {},
     "output_type": "execute_result"
    }
   ],
   "source": [
    "nums = [1,2,2,4]\n",
    "nums = [1,1]\n",
    "Solution().findErrorNums(nums)"
   ]
  },
  {
   "cell_type": "code",
   "execution_count": null,
   "metadata": {},
   "outputs": [],
   "source": []
  },
  {
   "cell_type": "markdown",
   "metadata": {},
   "source": [
    "#### 10. Largest Number At Least Twice of Others"
   ]
  },
  {
   "cell_type": "code",
   "execution_count": 76,
   "metadata": {},
   "outputs": [],
   "source": [
    "class Solution:\n",
    "    def dominantIndex(self, nums: List[int]) -> int:\n",
    "        largest = max(nums)\n",
    "        for idx, val in enumerate(nums):\n",
    "            if val==largest:\n",
    "                new_idx = idx\n",
    "                continue\n",
    "            if val*2>largest: return -1\n",
    "        return new_idx\n",
    "                "
   ]
  },
  {
   "cell_type": "code",
   "execution_count": 77,
   "metadata": {},
   "outputs": [
    {
     "data": {
      "text/plain": [
       "1"
      ]
     },
     "execution_count": 77,
     "metadata": {},
     "output_type": "execute_result"
    }
   ],
   "source": [
    "nums = [3,6,1,0]\n",
    "Solution().dominantIndex(nums)"
   ]
  },
  {
   "cell_type": "markdown",
   "metadata": {},
   "source": [
    "#### 11.Sort Array By Parity"
   ]
  },
  {
   "cell_type": "code",
   "execution_count": 84,
   "metadata": {},
   "outputs": [],
   "source": [
    "# O(N)\n",
    "class Solution:\n",
    "    def sortArrayByParity(self, nums: List[int]) -> List[int]:\n",
    "        length = len(nums)\n",
    "        i,l,r=0,0,length-1\n",
    "        while i<r:\n",
    "            if nums[i]%2:\n",
    "                nums[i], nums[r] = nums[r], nums[i]\n",
    "                r-=1\n",
    "            else:\n",
    "                l+=1\n",
    "                i+=1\n",
    "        return nums        "
   ]
  },
  {
   "cell_type": "code",
   "execution_count": null,
   "metadata": {},
   "outputs": [],
   "source": [
    "# O(Nlogn)\n",
    "class Solution(object):\n",
    "    def sortArrayByParity(self, A):\n",
    "        A.sort(key = lambda x: x % 2)\n",
    "        return A"
   ]
  },
  {
   "cell_type": "code",
   "execution_count": 83,
   "metadata": {},
   "outputs": [
    {
     "data": {
      "text/plain": [
       "[14, 8, 2, 9, 7, 5, 11, 13, 3, 1]"
      ]
     },
     "execution_count": 83,
     "metadata": {},
     "output_type": "execute_result"
    }
   ],
   "source": [
    "nums = [1,3,5,7,9,2,8,11,13,14]\n",
    "Solution().sortArrayByParity(nums)"
   ]
  },
  {
   "cell_type": "markdown",
   "metadata": {},
   "source": [
    "#### 12. Relative Sort Array"
   ]
  },
  {
   "cell_type": "code",
   "execution_count": 149,
   "metadata": {},
   "outputs": [],
   "source": [
    "class Solution:\n",
    "    def relativeSortArray(self, arr1: List[int], arr2: List[int]) -> List[int]:\n",
    "        from collections import Counter\n",
    "        d = Counter(arr1)\n",
    "        res = []\n",
    "        for val in arr2:\n",
    "            res.extend([val]*d[val])\n",
    "            d.pop(val)\n",
    "        \n",
    "        for val in sorted(d.keys()):\n",
    "            res.extend([val]*d[val])\n",
    "            if d.get(val)>1:\n",
    "                d[val] = d.get(val)-1\n",
    "                continue\n",
    "            d.pop(val)\n",
    "        return res"
   ]
  },
  {
   "cell_type": "code",
   "execution_count": null,
   "metadata": {},
   "outputs": [],
   "source": [
    "class Solution(object):\n",
    "    def relativeSortArray(self, arr1, arr2):\n",
    "        c = collections.Counter(arr1)\n",
    "        res = []       \n",
    "        for i in arr2:\n",
    "            res += [i]*c.pop(i)  \n",
    "        return res + sorted(c.elements())"
   ]
  },
  {
   "cell_type": "code",
   "execution_count": 150,
   "metadata": {},
   "outputs": [],
   "source": [
    "def relativeSortArray(self, A, B):\n",
    "    return sorted(A, key=(B + sorted(A)).index)"
   ]
  },
  {
   "cell_type": "code",
   "execution_count": 152,
   "metadata": {},
   "outputs": [
    {
     "data": {
      "text/plain": [
       "[0, 2, 5, 7, 12, 12, 13, 21, 23, 24, 24, 27, 29, 30, 31, 33, 38, 42, 43, 48]"
      ]
     },
     "execution_count": 152,
     "metadata": {},
     "output_type": "execute_result"
    }
   ],
   "source": [
    "sorted(arr1, key=(arr2 + sorted(A)).index)"
   ]
  },
  {
   "cell_type": "code",
   "execution_count": 160,
   "metadata": {},
   "outputs": [
    {
     "data": {
      "text/plain": [
       "[2, 2, 2, 1, 4, 3, 3, 9, 6, 7, 19]"
      ]
     },
     "execution_count": 160,
     "metadata": {},
     "output_type": "execute_result"
    }
   ],
   "source": [
    "arr1 = [2,21,43,38,0,42,33,7,24,13,12,27,12,24,5,23,29,48,30,31]\n",
    "arr2 = [2,42,38,0,43,21]\n",
    "\n",
    "arr1 = [2,3,1,3,2,4,6,7,9,2,19]\n",
    "arr2 = [2,1,4,3,9,6]\n",
    "Solution().relativeSortArray(arr1, arr2)\n",
    "\n",
    "#[2,42,38,0,43,21,5,7,12,12,13,23,24,24,27,29,30,31,33,48]\n",
    "\n",
    "#[2,2,2,1,4,3,3,9,6,7,19]"
   ]
  },
  {
   "cell_type": "code",
   "execution_count": 165,
   "metadata": {},
   "outputs": [
    {
     "data": {
      "text/plain": [
       "[1, 2, 2, 2, 3, 3, 4, 6, 7, 9, 19]"
      ]
     },
     "execution_count": 165,
     "metadata": {},
     "output_type": "execute_result"
    }
   ],
   "source": [
    "sorted(Counter(arr1).elements())"
   ]
  }
 ],
 "metadata": {
  "kernelspec": {
   "display_name": "Python 3.8.8 ('base')",
   "language": "python",
   "name": "python3"
  },
  "language_info": {
   "codemirror_mode": {
    "name": "ipython",
    "version": 3
   },
   "file_extension": ".py",
   "mimetype": "text/x-python",
   "name": "python",
   "nbconvert_exporter": "python",
   "pygments_lexer": "ipython3",
   "version": "3.8.8"
  },
  "orig_nbformat": 4,
  "vscode": {
   "interpreter": {
    "hash": "ad2bdc8ecc057115af97d19610ffacc2b4e99fae6737bb82f5d7fb13d2f2c186"
   }
  }
 },
 "nbformat": 4,
 "nbformat_minor": 2
}
