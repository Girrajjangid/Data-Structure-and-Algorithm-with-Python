{
 "cells": [
  {
   "cell_type": "code",
   "execution_count": 20,
   "metadata": {},
   "outputs": [],
   "source": [
    "from typing import List, Dict\n",
    "import collections"
   ]
  },
  {
   "cell_type": "code",
   "execution_count": null,
   "metadata": {},
   "outputs": [],
   "source": []
  },
  {
   "cell_type": "markdown",
   "metadata": {},
   "source": [
    "#### 01. The Number of Weak Characters in the Game"
   ]
  },
  {
   "cell_type": "code",
   "execution_count": 37,
   "metadata": {},
   "outputs": [],
   "source": [
    "class Solution:\n",
    "    def numberOfWeakCharacters(self, properties: List[List[int]]) -> int:\n",
    "        d = collections.defaultdict(list)\n",
    "        minAttack = float('inf')\n",
    "        maxAttack = float('-inf')\n",
    "        for attack, defence in properties:\n",
    "            minAttack = min(minAttack, attack)\n",
    "            maxAttack = max(maxAttack, attack)\n",
    "            d[attack].append(defence)\n",
    "        count = 0\n",
    "        maxDefence = -1\n",
    "        for i in range(maxAttack, minAttack-1, -1):\n",
    "            if not d[i]: continue\n",
    "            for defence in d[i]:\n",
    "                if defence < maxDefence:\n",
    "                    count+=1\n",
    "            maxDefence = max(maxDefence, max(d[i]))            \n",
    "        return count\n",
    "        "
   ]
  },
  {
   "cell_type": "code",
   "execution_count": 40,
   "metadata": {},
   "outputs": [],
   "source": [
    "#################################################\n",
    "# Approach-2:\n",
    "# sort the first column and second column in decending order\n",
    "# then only compare based on second column value.\n",
    "######################################################\n",
    "\n",
    "class Solution:\n",
    "    def numberOfWeakCharacters(self, properties: List[List[int]]) -> int:\n",
    "        properties.sort(key=lambda x: (x[0], -x[1]))\n",
    "        stack = []\n",
    "        ans = 0\n",
    "        for a, d in properties:\n",
    "            while stack and stack[-1] < d:\n",
    "                stack.pop()\n",
    "                ans += 1\n",
    "            stack.append(d)\n",
    "        return ans"
   ]
  },
  {
   "cell_type": "code",
   "execution_count": 41,
   "metadata": {},
   "outputs": [
    {
     "data": {
      "text/plain": [
       "1"
      ]
     },
     "execution_count": 41,
     "metadata": {},
     "output_type": "execute_result"
    }
   ],
   "source": [
    "properties = [[5,5],[6,3],[3,6]]\n",
    "properties = [[2,2],[3,3]]\n",
    "properties = [[1,5],[10,4],[4,3]]\n",
    "properties = [[1,1],[2,1],[2,2],[1,2]]\n",
    "Solution().numberOfWeakCharacters(properties)"
   ]
  },
  {
   "cell_type": "code",
   "execution_count": null,
   "metadata": {},
   "outputs": [],
   "source": []
  },
  {
   "cell_type": "code",
   "execution_count": null,
   "metadata": {},
   "outputs": [],
   "source": []
  },
  {
   "cell_type": "code",
   "execution_count": null,
   "metadata": {},
   "outputs": [],
   "source": []
  },
  {
   "cell_type": "code",
   "execution_count": null,
   "metadata": {},
   "outputs": [],
   "source": []
  },
  {
   "cell_type": "code",
   "execution_count": null,
   "metadata": {},
   "outputs": [],
   "source": []
  },
  {
   "cell_type": "code",
   "execution_count": null,
   "metadata": {},
   "outputs": [],
   "source": []
  }
 ],
 "metadata": {
  "kernelspec": {
   "display_name": "Python 3.8.8 ('base')",
   "language": "python",
   "name": "python3"
  },
  "language_info": {
   "codemirror_mode": {
    "name": "ipython",
    "version": 3
   },
   "file_extension": ".py",
   "mimetype": "text/x-python",
   "name": "python",
   "nbconvert_exporter": "python",
   "pygments_lexer": "ipython3",
   "version": "3.8.8"
  },
  "orig_nbformat": 4,
  "vscode": {
   "interpreter": {
    "hash": "ad2bdc8ecc057115af97d19610ffacc2b4e99fae6737bb82f5d7fb13d2f2c186"
   }
  }
 },
 "nbformat": 4,
 "nbformat_minor": 2
}
