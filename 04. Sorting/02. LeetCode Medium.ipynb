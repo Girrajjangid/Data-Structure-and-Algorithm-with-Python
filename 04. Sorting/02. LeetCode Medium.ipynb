{
 "cells": [
  {
   "cell_type": "code",
   "execution_count": 1,
   "metadata": {},
   "outputs": [],
   "source": [
    "from typing import List, Optional"
   ]
  },
  {
   "cell_type": "markdown",
   "metadata": {},
   "source": [
    "#### 1. 3Sum Closest"
   ]
  },
  {
   "cell_type": "code",
   "execution_count": 57,
   "metadata": {},
   "outputs": [],
   "source": [
    "from bisect import bisect_left\n",
    "\n",
    "class Solution:\n",
    "    def threeSumClosest(self, nums: List[int], target: int) -> int:\n",
    "            nums.sort()\n",
    "            best = None\n",
    "            length = len(nums)  \n",
    "            for i in range(0, length - 2):\n",
    "                pingpong = 0\n",
    "                k = i+1\n",
    "                j = length\n",
    "                while j > i + 2:\n",
    "                    if pingpong%2 == 0:\n",
    "                        # Decrease j until sum can be less than target\n",
    "                        targetVal = target - nums[i] - nums[k]\n",
    "                        newj = bisect_left(nums, targetVal, k+1, j-1)\n",
    "                        # There is no possible update to j, can stop\n",
    "                        # searching\n",
    "                        if newj == j:\n",
    "                            break\n",
    "                        j = newj\n",
    "                        pingpong += 1\n",
    "                    else:\n",
    "                        # Increase k until sum can exceed target\n",
    "                        targetVal = target - nums[i] - nums[j]\n",
    "                        k = bisect_left(nums, targetVal, i+1, j-1)\n",
    "                        if nums[k] > targetVal and k > i+1:\n",
    "                            k = k - 1\n",
    "                        pingpong += 1\n",
    "\n",
    "                    new = nums[i] + nums[k] + nums[j]\n",
    "                    if best is None or (abs(best - target) > abs(target - new)):\n",
    "                        best = new\n",
    "\n",
    "                    if best == target:\n",
    "                        return target\n",
    "\n",
    "            return best"
   ]
  },
  {
   "cell_type": "code",
   "execution_count": 59,
   "metadata": {},
   "outputs": [
    {
     "data": {
      "text/plain": [
       "2"
      ]
     },
     "execution_count": 59,
     "metadata": {},
     "output_type": "execute_result"
    }
   ],
   "source": [
    "nums = [-1,2,1,-4]; target = 1\n",
    "Solution().threeSumClosest(nums, target)"
   ]
  },
  {
   "cell_type": "markdown",
   "metadata": {},
   "source": [
    "#### 2. 4Sum"
   ]
  },
  {
   "cell_type": "code",
   "execution_count": 89,
   "metadata": {},
   "outputs": [],
   "source": [
    "class Solution:\n",
    "    def fourSum(self, nums: List[int], target: int) -> List[List[int]]:\n",
    "        nums.sort()\n",
    "        length = len(nums)\n",
    "        res = []\n",
    "        sum_ = None\n",
    "        for i in range(length-3):\n",
    "            for j in range(i+1, length-2):\n",
    "                k,l = j+1, length-1\n",
    "                while k<l:\n",
    "                    sum_ = nums[i]+nums[j]+nums[k]+nums[l]\n",
    "                    if sum_==target:\n",
    "                        temp = sorted([nums[i],nums[j],nums[k],nums[l]])\n",
    "                        if temp not in res:\n",
    "                            res.append(temp)\n",
    "                    if sum_ < target:\n",
    "                        k+=1\n",
    "                    else:\n",
    "                        l-=1\n",
    "        return res"
   ]
  },
  {
   "cell_type": "code",
   "execution_count": 90,
   "metadata": {},
   "outputs": [
    {
     "data": {
      "text/plain": [
       "[[-2, -1, 1, 2], [-2, 0, 0, 2], [-1, 0, 0, 1]]"
      ]
     },
     "execution_count": 90,
     "metadata": {},
     "output_type": "execute_result"
    }
   ],
   "source": [
    "nums = [1,0,-1,0,-2,2]; target = 0\n",
    "#nums = [2,2,2,2,2]; target = 8\n",
    "#nums = [0,0,0,0]; target=0\n",
    "Solution().fourSum(nums, target)"
   ]
  },
  {
   "cell_type": "markdown",
   "metadata": {},
   "source": [
    "#### 3. Longest Word in Dictionary through Deleting"
   ]
  },
  {
   "cell_type": "code",
   "execution_count": 172,
   "metadata": {},
   "outputs": [],
   "source": [
    "class Solution:\n",
    "    def findLongestWord(self, s, d):\n",
    "        def isSubsequence(x):\n",
    "            return all(c in iter(s) for c in x)\n",
    "        return max(sorted(filter(isSubsequence, d)) + [''], key=len)"
   ]
  },
  {
   "cell_type": "code",
   "execution_count": 173,
   "metadata": {},
   "outputs": [
    {
     "data": {
      "text/plain": [
       "'a'"
      ]
     },
     "execution_count": 173,
     "metadata": {},
     "output_type": "execute_result"
    }
   ],
   "source": [
    "s = \"abpcplea\"; dictionary = [\"ale\",\"apple\",\"monkey\",\"plea\"]\n",
    "s = \"abpcplea\"; dictionary = [\"a\",\"b\",\"c\"]\n",
    "Solution().findLongestWord(s, dictionary)"
   ]
  },
  {
   "cell_type": "code",
   "execution_count": 174,
   "metadata": {},
   "outputs": [
    {
     "data": {
      "text/plain": [
       "['monkey', 'apple', 'plea', 'ale']"
      ]
     },
     "execution_count": 174,
     "metadata": {},
     "output_type": "execute_result"
    }
   ],
   "source": [
    "dictionary = [\"ale\",\"apple\",\"monkey\",\"plea\"]\n",
    "sorted(dictionary, key = lambda w: (-len(w), w))"
   ]
  },
  {
   "cell_type": "markdown",
   "metadata": {},
   "source": [
    "#### 4. Merge Intervals"
   ]
  },
  {
   "cell_type": "code",
   "execution_count": 249,
   "metadata": {},
   "outputs": [],
   "source": [
    "class Solution:\n",
    "    def merge(self, intervals: List[List[int]]) -> List[List[int]]:\n",
    "        intervals.sort()\n",
    "        length = len(intervals)\n",
    "        if length==1: return intervals\n",
    "        if length==2:\n",
    "            if intervals[0][1] >= intervals[1][0]:\n",
    "                return [[min(intervals[0][0], intervals[1][0]), max(intervals[0][1], intervals[1][1])]]\n",
    "            else:\n",
    "                return intervals\n",
    "        res = []\n",
    "        for idx in range(len(intervals)-1):\n",
    "            if not res:\n",
    "                if intervals[idx][1] >= intervals[idx+1][0]:\n",
    "                    res.append([min(intervals[idx][0], intervals[idx+1][0]), max(intervals[idx][1], intervals[idx+1][1])])\n",
    "                else:\n",
    "                    res.extend([intervals[idx], intervals[idx+1]])\n",
    "            else:\n",
    "                if res[-1][1] >= intervals[idx+1][0]:\n",
    "                    last = res.pop()\n",
    "                    res.append([min(last[0],intervals[idx][0], intervals[idx+1][0]), \n",
    "                                max(last[1],intervals[idx][1], intervals[idx+1][1])])\n",
    "                else:\n",
    "                    res.append(intervals[idx+1])\n",
    "        return res"
   ]
  },
  {
   "cell_type": "code",
   "execution_count": 255,
   "metadata": {},
   "outputs": [],
   "source": [
    "class Solution:\n",
    "    def merge(self, intervals: List[List[int]]) -> List[List[int]]:\n",
    "        intervals.sort(key =lambda x: x[0])\n",
    "        merged =[]\n",
    "        for i in intervals:\n",
    "            if not merged or merged[-1][-1] < i[0]:\n",
    "                merged.append(i)\n",
    "            else:\n",
    "                merged[-1][-1] = max(merged[-1][-1], i[-1])\n",
    "        return merged"
   ]
  },
  {
   "cell_type": "code",
   "execution_count": 256,
   "metadata": {},
   "outputs": [
    {
     "data": {
      "text/plain": [
       "[[1, 10]]"
      ]
     },
     "execution_count": 256,
     "metadata": {},
     "output_type": "execute_result"
    }
   ],
   "source": [
    "intervals = [[1,3],[2,6],[5,10],[15,18]]\n",
    "intervals = [[1,3],[2,6],[8,10],[15,18]]\n",
    "intervals = [[1,4],[4,5]]\n",
    "intervals = [[1,4],[2,3]]\n",
    "intervals = [[4,5],[1,4],[0,1]]\n",
    "intervals = [[2,3],[4,5],[6,7],[8,9],[1,10]]\n",
    "Solution().merge(intervals)"
   ]
  },
  {
   "cell_type": "markdown",
   "metadata": {},
   "source": [
    "#### 5. Largest Number"
   ]
  },
  {
   "cell_type": "code",
   "execution_count": 311,
   "metadata": {},
   "outputs": [
    {
     "data": {
      "text/plain": [
       "['9', '5', '34', '30', '3']"
      ]
     },
     "execution_count": 311,
     "metadata": {},
     "output_type": "execute_result"
    }
   ],
   "source": [
    "class Solution:\n",
    "    def largestNumber(self, nums: List[int]) -> str:\n",
    "        def cond(val):\n",
    "            return val//10\n",
    "        #return sorted(nums, key=cond)\n",
    "        return  sorted(map(lambda x: str(x), nums), reverse=True)\n",
    "        #return  \"\".join(sorted(map(lambda x: str(x), nums),reverse=True))\n",
    "\n",
    "nums = [10,2]\n",
    "nums = [3,30,34,5,9]\n",
    "#      [9,5,34,3,30]\n",
    "Solution().largestNumber(nums)"
   ]
  },
  {
   "cell_type": "code",
   "execution_count": 294,
   "metadata": {},
   "outputs": [
    {
     "data": {
      "text/plain": [
       "2"
      ]
     },
     "execution_count": 294,
     "metadata": {},
     "output_type": "execute_result"
    }
   ],
   "source": [
    "23//10"
   ]
  },
  {
   "cell_type": "code",
   "execution_count": 270,
   "metadata": {},
   "outputs": [],
   "source": [
    "from collections import defaultdict\n",
    "d = defaultdict(list)"
   ]
  },
  {
   "cell_type": "code",
   "execution_count": 312,
   "metadata": {},
   "outputs": [
    {
     "data": {
      "text/plain": [
       "[23, 23]"
      ]
     },
     "execution_count": 312,
     "metadata": {},
     "output_type": "execute_result"
    }
   ],
   "source": [
    "d[1].append(23)\n",
    "d[1]"
   ]
  },
  {
   "cell_type": "code",
   "execution_count": 366,
   "metadata": {},
   "outputs": [],
   "source": [
    "class Solution:\n",
    "    import random\n",
    "    def findKthLargest(self, nums, k):\n",
    "        if not nums: return\n",
    "        \n",
    "        pivot = random.choice(nums)\n",
    "        \n",
    "        greaterThanPivot = [x for x in nums if x > pivot]\n",
    "        equalToPivot     = [x for x in nums if x == pivot]\n",
    "        lessThanPivot    = [x for x in nums if x < pivot]\n",
    "        \n",
    "        greaterLength = len(greaterThanPivot)\n",
    "        equalLength   = len(equalToPivot)\n",
    "        \n",
    "        if k <= greaterLength: \n",
    "            return self.findKthLargest(greaterThanPivot, k)\n",
    "        elif k > greaterLength + equalLength:\n",
    "            return self.findKthLargest(lessThanPivot, k - greaterLength - equalLength)\n",
    "        else:\n",
    "            return equalToPivot[0]"
   ]
  },
  {
   "cell_type": "code",
   "execution_count": 371,
   "metadata": {},
   "outputs": [],
   "source": [
    "class Solution:\n",
    "    def findKthLargest(self, nums: List[int], k: int) -> int:\n",
    "        import heapq\n",
    "        num_heap = []\n",
    "        for num in nums:\n",
    "            heapq.heappush(num_heap, -num)\n",
    "        \n",
    "        for i in range(k - 1):\n",
    "            heapq.heappop(num_heap)\n",
    "        return -heapq.heappop(num_heap)"
   ]
  },
  {
   "cell_type": "code",
   "execution_count": 372,
   "metadata": {},
   "outputs": [
    {
     "data": {
      "text/plain": [
       "4"
      ]
     },
     "execution_count": 372,
     "metadata": {},
     "output_type": "execute_result"
    }
   ],
   "source": [
    "nums = [-1,2,0]; k = 1\n",
    "nums = [3,2,1,5,6,4]; k = 2\n",
    "nums = [3,2,3,1,2,4,5,5,6]; k = 4\n",
    "Solution().findKthLargest(nums, k)"
   ]
  },
  {
   "cell_type": "code",
   "execution_count": null,
   "metadata": {},
   "outputs": [],
   "source": []
  }
 ],
 "metadata": {
  "kernelspec": {
   "display_name": "Python 3.8.8 ('base')",
   "language": "python",
   "name": "python3"
  },
  "language_info": {
   "codemirror_mode": {
    "name": "ipython",
    "version": 3
   },
   "file_extension": ".py",
   "mimetype": "text/x-python",
   "name": "python",
   "nbconvert_exporter": "python",
   "pygments_lexer": "ipython3",
   "version": "3.8.8"
  },
  "orig_nbformat": 4,
  "vscode": {
   "interpreter": {
    "hash": "ad2bdc8ecc057115af97d19610ffacc2b4e99fae6737bb82f5d7fb13d2f2c186"
   }
  }
 },
 "nbformat": 4,
 "nbformat_minor": 2
}
