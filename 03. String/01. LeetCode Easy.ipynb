{
 "cells": [
  {
   "cell_type": "markdown",
   "metadata": {},
   "source": [
    "# Our motive is, not to use any inbuilt function"
   ]
  },
  {
   "cell_type": "markdown",
   "metadata": {},
   "source": [
    "#### 1. Defanging an IP Address"
   ]
  },
  {
   "cell_type": "code",
   "execution_count": 13,
   "metadata": {},
   "outputs": [],
   "source": [
    "class Solution:\n",
    "    def defangIPaddr(self, address: str) -> str:\n",
    "        a = ''\n",
    "        for idx,i  in enumerate(address):\n",
    "            if i=='.':\n",
    "                a+='[.]'\n",
    "                continue\n",
    "            a+=i\n",
    "        return a"
   ]
  },
  {
   "cell_type": "code",
   "execution_count": 14,
   "metadata": {},
   "outputs": [
    {
     "data": {
      "text/plain": [
       "'1[.]1[.]1[.]1'"
      ]
     },
     "execution_count": 14,
     "metadata": {},
     "output_type": "execute_result"
    }
   ],
   "source": [
    "Solution().defangIPaddr(\"1.1.1.1\")"
   ]
  },
  {
   "cell_type": "markdown",
   "metadata": {},
   "source": [
    "#### 2. Delete Columns to Make Sorted"
   ]
  },
  {
   "cell_type": "code",
   "execution_count": 29,
   "metadata": {},
   "outputs": [],
   "source": [
    "class Solution:\n",
    "    def minDeletionSize(self, strs) -> int:\n",
    "        single_str_len = len(strs[0])\n",
    "        sorted_ = 0\n",
    "        for i in range(single_str_len):\n",
    "            x = ''\n",
    "            for j in strs:\n",
    "                if not x:\n",
    "                    x=j[i]\n",
    "                else:\n",
    "                    if x>j[i]:\n",
    "                        sorted_ += 1\n",
    "                        break\n",
    "                    x=j[i]\n",
    "        return sorted_"
   ]
  },
  {
   "cell_type": "code",
   "execution_count": 32,
   "metadata": {},
   "outputs": [
    {
     "data": {
      "text/plain": [
       "1"
      ]
     },
     "execution_count": 32,
     "metadata": {},
     "output_type": "execute_result"
    }
   ],
   "source": [
    "Solution().minDeletionSize([\"cba\",\"daf\",\"ghi\"])"
   ]
  },
  {
   "cell_type": "markdown",
   "metadata": {},
   "source": [
    "#### 3. Final Value of Variable After Performing Operations"
   ]
  },
  {
   "cell_type": "code",
   "execution_count": 36,
   "metadata": {},
   "outputs": [],
   "source": [
    "class Solution:\n",
    "    def finalValueAfterOperations(self, operations) -> int:\n",
    "        x = 0\n",
    "        for i in operations:\n",
    "            x = x+1 if i[1]=='+' else x-1\n",
    "        return x"
   ]
  },
  {
   "cell_type": "code",
   "execution_count": 39,
   "metadata": {},
   "outputs": [
    {
     "data": {
      "text/plain": [
       "3"
      ]
     },
     "execution_count": 39,
     "metadata": {},
     "output_type": "execute_result"
    }
   ],
   "source": [
    "Solution().finalValueAfterOperations([\"++X\",\"++X\",\"X++\"])"
   ]
  },
  {
   "cell_type": "markdown",
   "metadata": {},
   "source": [
    "#### 4. Maximum Number of Words Found in Sentences"
   ]
  },
  {
   "cell_type": "code",
   "execution_count": 57,
   "metadata": {},
   "outputs": [
    {
     "data": {
      "text/plain": [
       "(0, 0)"
      ]
     },
     "execution_count": 57,
     "metadata": {},
     "output_type": "execute_result"
    }
   ],
   "source": [
    "white_space = counter = 0\n",
    "white_space, counter"
   ]
  },
  {
   "cell_type": "code",
   "execution_count": 60,
   "metadata": {},
   "outputs": [],
   "source": [
    "class Solution:\n",
    "    def mostWordsFound(self, sentences) -> int:\n",
    "        counter = 0\n",
    "        for sentence in sentences:\n",
    "            white_space=0\n",
    "            for single in sentence:\n",
    "                white_space = white_space+1 if single==' ' else white_space\n",
    "            if white_space>counter:\n",
    "                counter = white_space\n",
    "        return counter+1\n",
    "    "
   ]
  },
  {
   "cell_type": "code",
   "execution_count": 62,
   "metadata": {},
   "outputs": [
    {
     "data": {
      "text/plain": [
       "3"
      ]
     },
     "execution_count": 62,
     "metadata": {},
     "output_type": "execute_result"
    }
   ],
   "source": [
    "sentences = [\"alice and bob love leetcode\", \"i think so too\", \"this is great thanks very much\"]\n",
    "sentences = [\"please wait\", \"continue to fight\", \"continue to win\"]\n",
    "Solution().mostWordsFound(sentences)"
   ]
  },
  {
   "cell_type": "markdown",
   "metadata": {},
   "source": [
    "#### 5.Jewels and Stones"
   ]
  },
  {
   "cell_type": "code",
   "execution_count": 63,
   "metadata": {},
   "outputs": [],
   "source": [
    "# Approach-1 O(N*M)\n",
    "class Solution:\n",
    "    def numJewelsInStones(self, jewels: str, stones: str) -> int:\n",
    "        jewel_counter = 0\n",
    "        for single_jewel in jewels:\n",
    "            for single_stones in stones:\n",
    "                jewel_counter = jewel_counter+1 if single_stones==single_jewel else jewel_counter\n",
    "        return jewel_counter"
   ]
  },
  {
   "cell_type": "code",
   "execution_count": 68,
   "metadata": {},
   "outputs": [
    {
     "data": {
      "text/plain": [
       "3"
      ]
     },
     "execution_count": 68,
     "metadata": {},
     "output_type": "execute_result"
    }
   ],
   "source": [
    "# This is not optimal solution\n",
    "# As you can observe you traverse multiple time at second argument\n",
    "# can we trace 2nd argument in single trace\n",
    "Solution().numJewelsInStones('aA', 'aAAbbbb')\n",
    "Solution().numJewelsInStones('z', 'ZZ')"
   ]
  },
  {
   "cell_type": "code",
   "execution_count": 66,
   "metadata": {},
   "outputs": [],
   "source": [
    "# Approach-2 O(N)\n",
    "class Solution:\n",
    "    def numJewelsInStones(self, jewels: str, stones: str) -> int:\n",
    "        jewel_counter = 0\n",
    "        for single_stone in stones:\n",
    "                jewel_counter = jewel_counter+1 if single_stone in jewels else jewel_counter\n",
    "        return jewel_counter"
   ]
  },
  {
   "cell_type": "markdown",
   "metadata": {},
   "source": [
    "#### 6.Shuffle String"
   ]
  },
  {
   "cell_type": "code",
   "execution_count": 81,
   "metadata": {},
   "outputs": [],
   "source": [
    "class Solution:\n",
    "    def restoreString(self, s: str, indices) -> str:\n",
    "        strs = [None]*len(s) # O(s)\n",
    "        for i,idx in enumerate(indices): #O(indices)\n",
    "            strs[idx] = s[i]\n",
    "        return \"\".join(strs) # O(s)"
   ]
  },
  {
   "cell_type": "code",
   "execution_count": 82,
   "metadata": {},
   "outputs": [
    {
     "data": {
      "text/plain": [
       "'leetcode'"
      ]
     },
     "execution_count": 82,
     "metadata": {},
     "output_type": "execute_result"
    }
   ],
   "source": [
    "Solution().restoreString('codeleet', [4,5,6,7,0,2,1,3])\n"
   ]
  },
  {
   "cell_type": "markdown",
   "metadata": {},
   "source": [
    "#### 7.Split a String in Balanced Strings"
   ]
  },
  {
   "cell_type": "code",
   "execution_count": 83,
   "metadata": {},
   "outputs": [],
   "source": [
    "class Solution:\n",
    "    def balancedStringSplit(self, s: str) -> int:\n",
    "        counter = 0 \n",
    "        unique_pattern = 0\n",
    "        first_str = s[0]\n",
    "        for val in s:\n",
    "            if val==first_str:\n",
    "                counter+=1\n",
    "            else:\n",
    "                counter-=1\n",
    "            if not counter:\n",
    "                unique_pattern+=1\n",
    "        return unique_pattern"
   ]
  },
  {
   "cell_type": "code",
   "execution_count": 85,
   "metadata": {},
   "outputs": [
    {
     "data": {
      "text/plain": [
       "2"
      ]
     },
     "execution_count": 85,
     "metadata": {},
     "output_type": "execute_result"
    }
   ],
   "source": [
    "Solution().balancedStringSplit(\"RLRRLLRLRL\")\n",
    "Solution().balancedStringSplit(\"RLRRRLLRLL\")\n"
   ]
  },
  {
   "cell_type": "markdown",
   "metadata": {},
   "source": [
    "#### 8. Sorting the sentence"
   ]
  },
  {
   "cell_type": "code",
   "execution_count": 110,
   "metadata": {},
   "outputs": [],
   "source": [
    "class Solution:\n",
    "    def sortSentence(self, s: str) -> str:\n",
    "        white_space=1\n",
    "        for i in s:\n",
    "            white_space = white_space+1 if i==\" \" else white_space\n",
    "        a=[None]*white_space\n",
    "        st=''\n",
    "        for i in s:\n",
    "            if i==' ':continue\n",
    "            st += i\n",
    "            if i.isdigit():\n",
    "                a[int(i)-1] = st[:-1]\n",
    "                st=''\n",
    "        return ' '.join(a)"
   ]
  },
  {
   "cell_type": "code",
   "execution_count": 112,
   "metadata": {},
   "outputs": [
    {
     "data": {
      "text/plain": [
       "'Me Myself and I'"
      ]
     },
     "execution_count": 112,
     "metadata": {},
     "output_type": "execute_result"
    }
   ],
   "source": [
    "Solution().sortSentence(\"is2 sentence4 This1 a3\")\n",
    "Solution().sortSentence(\"Myself2 Me1 I4 and3\")\n"
   ]
  },
  {
   "cell_type": "markdown",
   "metadata": {},
   "source": [
    "#### 9.Count Items Matching a Rule"
   ]
  },
  {
   "cell_type": "code",
   "execution_count": 135,
   "metadata": {},
   "outputs": [],
   "source": [
    "class Solution:\n",
    "    def countMatches(self, items, ruleKey: str, ruleValue: str) -> int:\n",
    "        counter=0\n",
    "        for types, color, name in items:\n",
    "            if (ruleKey=='type') and (ruleValue==types):\n",
    "                counter+=1\n",
    "            if (ruleKey=='color') and (ruleValue==color):\n",
    "                counter+=1\n",
    "            if (ruleKey=='name') and (ruleValue==name):\n",
    "                counter+=1\n",
    "        return counter    "
   ]
  },
  {
   "cell_type": "code",
   "execution_count": 136,
   "metadata": {},
   "outputs": [
    {
     "data": {
      "text/plain": [
       "4"
      ]
     },
     "execution_count": 136,
     "metadata": {},
     "output_type": "execute_result"
    }
   ],
   "source": [
    "Solution().countMatches([[\"lrllrl\",\"l\",\"l\"],\n",
    "                        [\"l\",\"l\",\"lrllrl\"],\n",
    "                        [\"lrllrl\",\"lrllrl\",\"lrllrl\"],\n",
    "                        [\"l\",\"l\",\"lrllrl\"],\n",
    "                        [\"lrllrl\",\"l\",\"lrllrl\"],\n",
    "                        [\"l\",\"l\",\"l\"],\n",
    "                        [\"l\",\"lrllrl\",\"l\"]], \"name\", \"lrllrl\")"
   ]
  },
  {
   "cell_type": "code",
   "execution_count": null,
   "metadata": {},
   "outputs": [],
   "source": []
  },
  {
   "cell_type": "code",
   "execution_count": null,
   "metadata": {},
   "outputs": [],
   "source": []
  }
 ],
 "metadata": {
  "kernelspec": {
   "display_name": "Python 3.8.8 ('base')",
   "language": "python",
   "name": "python3"
  },
  "language_info": {
   "codemirror_mode": {
    "name": "ipython",
    "version": 3
   },
   "file_extension": ".py",
   "mimetype": "text/x-python",
   "name": "python",
   "nbconvert_exporter": "python",
   "pygments_lexer": "ipython3",
   "version": "3.8.8"
  },
  "orig_nbformat": 4,
  "vscode": {
   "interpreter": {
    "hash": "ad2bdc8ecc057115af97d19610ffacc2b4e99fae6737bb82f5d7fb13d2f2c186"
   }
  }
 },
 "nbformat": 4,
 "nbformat_minor": 2
}
