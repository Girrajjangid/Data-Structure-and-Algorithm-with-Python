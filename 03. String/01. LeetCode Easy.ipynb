{
 "cells": [
  {
   "cell_type": "markdown",
   "metadata": {},
   "source": [
    "# Our motive is, not to use any inbuilt function"
   ]
  },
  {
   "cell_type": "markdown",
   "metadata": {},
   "source": [
    "#### 1. Defanging an IP Address"
   ]
  },
  {
   "cell_type": "code",
   "execution_count": 13,
   "metadata": {},
   "outputs": [],
   "source": [
    "class Solution:\n",
    "    def defangIPaddr(self, address: str) -> str:\n",
    "        a = ''\n",
    "        for idx,i  in enumerate(address):\n",
    "            if i=='.':\n",
    "                a+='[.]'\n",
    "                continue\n",
    "            a+=i\n",
    "        return a"
   ]
  },
  {
   "cell_type": "code",
   "execution_count": 14,
   "metadata": {},
   "outputs": [
    {
     "data": {
      "text/plain": [
       "'1[.]1[.]1[.]1'"
      ]
     },
     "execution_count": 14,
     "metadata": {},
     "output_type": "execute_result"
    }
   ],
   "source": [
    "Solution().defangIPaddr(\"1.1.1.1\")"
   ]
  },
  {
   "cell_type": "markdown",
   "metadata": {},
   "source": [
    "#### 2. Delete Columns to Make Sorted"
   ]
  },
  {
   "cell_type": "code",
   "execution_count": 29,
   "metadata": {},
   "outputs": [],
   "source": [
    "class Solution:\n",
    "    def minDeletionSize(self, strs) -> int:\n",
    "        single_str_len = len(strs[0])\n",
    "        sorted_ = 0\n",
    "        for i in range(single_str_len):\n",
    "            x = ''\n",
    "            for j in strs:\n",
    "                if not x:\n",
    "                    x=j[i]\n",
    "                else:\n",
    "                    if x>j[i]:\n",
    "                        sorted_ += 1\n",
    "                        break\n",
    "                    x=j[i]\n",
    "        return sorted_"
   ]
  },
  {
   "cell_type": "code",
   "execution_count": 32,
   "metadata": {},
   "outputs": [
    {
     "data": {
      "text/plain": [
       "1"
      ]
     },
     "execution_count": 32,
     "metadata": {},
     "output_type": "execute_result"
    }
   ],
   "source": [
    "Solution().minDeletionSize([\"cba\",\"daf\",\"ghi\"])"
   ]
  },
  {
   "cell_type": "markdown",
   "metadata": {},
   "source": [
    "#### 3. Final Value of Variable After Performing Operations"
   ]
  },
  {
   "cell_type": "code",
   "execution_count": 36,
   "metadata": {},
   "outputs": [],
   "source": [
    "class Solution:\n",
    "    def finalValueAfterOperations(self, operations) -> int:\n",
    "        x = 0\n",
    "        for i in operations:\n",
    "            x = x+1 if i[1]=='+' else x-1\n",
    "        return x"
   ]
  },
  {
   "cell_type": "code",
   "execution_count": 39,
   "metadata": {},
   "outputs": [
    {
     "data": {
      "text/plain": [
       "3"
      ]
     },
     "execution_count": 39,
     "metadata": {},
     "output_type": "execute_result"
    }
   ],
   "source": [
    "Solution().finalValueAfterOperations([\"++X\",\"++X\",\"X++\"])"
   ]
  },
  {
   "cell_type": "markdown",
   "metadata": {},
   "source": [
    "#### 4. Maximum Number of Words Found in Sentences"
   ]
  },
  {
   "cell_type": "code",
   "execution_count": 57,
   "metadata": {},
   "outputs": [
    {
     "data": {
      "text/plain": [
       "(0, 0)"
      ]
     },
     "execution_count": 57,
     "metadata": {},
     "output_type": "execute_result"
    }
   ],
   "source": [
    "white_space = counter = 0\n",
    "white_space, counter"
   ]
  },
  {
   "cell_type": "code",
   "execution_count": 60,
   "metadata": {},
   "outputs": [],
   "source": [
    "class Solution:\n",
    "    def mostWordsFound(self, sentences) -> int:\n",
    "        counter = 0\n",
    "        for sentence in sentences:\n",
    "            white_space=0\n",
    "            for single in sentence:\n",
    "                white_space = white_space+1 if single==' ' else white_space\n",
    "            if white_space>counter:\n",
    "                counter = white_space\n",
    "        return counter+1\n",
    "    "
   ]
  },
  {
   "cell_type": "code",
   "execution_count": 62,
   "metadata": {},
   "outputs": [
    {
     "data": {
      "text/plain": [
       "3"
      ]
     },
     "execution_count": 62,
     "metadata": {},
     "output_type": "execute_result"
    }
   ],
   "source": [
    "sentences = [\"alice and bob love leetcode\", \"i think so too\", \"this is great thanks very much\"]\n",
    "sentences = [\"please wait\", \"continue to fight\", \"continue to win\"]\n",
    "Solution().mostWordsFound(sentences)"
   ]
  },
  {
   "cell_type": "markdown",
   "metadata": {},
   "source": [
    "#### 5.Jewels and Stones"
   ]
  },
  {
   "cell_type": "code",
   "execution_count": 63,
   "metadata": {},
   "outputs": [],
   "source": [
    "# Approach-1 O(N*M)\n",
    "class Solution:\n",
    "    def numJewelsInStones(self, jewels: str, stones: str) -> int:\n",
    "        jewel_counter = 0\n",
    "        for single_jewel in jewels:\n",
    "            for single_stones in stones:\n",
    "                jewel_counter = jewel_counter+1 if single_stones==single_jewel else jewel_counter\n",
    "        return jewel_counter"
   ]
  },
  {
   "cell_type": "code",
   "execution_count": 68,
   "metadata": {},
   "outputs": [
    {
     "data": {
      "text/plain": [
       "3"
      ]
     },
     "execution_count": 68,
     "metadata": {},
     "output_type": "execute_result"
    }
   ],
   "source": [
    "# This is not optimal solution\n",
    "# As you can observe you traverse multiple time at second argument\n",
    "# can we trace 2nd argument in single trace\n",
    "Solution().numJewelsInStones('aA', 'aAAbbbb')\n",
    "Solution().numJewelsInStones('z', 'ZZ')"
   ]
  },
  {
   "cell_type": "code",
   "execution_count": 66,
   "metadata": {},
   "outputs": [],
   "source": [
    "# Approach-2 O(N)\n",
    "class Solution:\n",
    "    def numJewelsInStones(self, jewels: str, stones: str) -> int:\n",
    "        jewel_counter = 0\n",
    "        for single_stone in stones:\n",
    "                jewel_counter = jewel_counter+1 if single_stone in jewels else jewel_counter\n",
    "        return jewel_counter"
   ]
  },
  {
   "cell_type": "markdown",
   "metadata": {},
   "source": [
    "#### 6.Shuffle String"
   ]
  },
  {
   "cell_type": "code",
   "execution_count": 81,
   "metadata": {},
   "outputs": [],
   "source": [
    "class Solution:\n",
    "    def restoreString(self, s: str, indices) -> str:\n",
    "        strs = [None]*len(s) # O(s)\n",
    "        for i,idx in enumerate(indices): #O(indices)\n",
    "            strs[idx] = s[i]\n",
    "        return \"\".join(strs) # O(s)"
   ]
  },
  {
   "cell_type": "code",
   "execution_count": 82,
   "metadata": {},
   "outputs": [
    {
     "data": {
      "text/plain": [
       "'leetcode'"
      ]
     },
     "execution_count": 82,
     "metadata": {},
     "output_type": "execute_result"
    }
   ],
   "source": [
    "Solution().restoreString('codeleet', [4,5,6,7,0,2,1,3])\n"
   ]
  },
  {
   "cell_type": "markdown",
   "metadata": {},
   "source": [
    "#### 7.Split a String in Balanced Strings"
   ]
  },
  {
   "cell_type": "code",
   "execution_count": 83,
   "metadata": {},
   "outputs": [],
   "source": [
    "class Solution:\n",
    "    def balancedStringSplit(self, s: str) -> int:\n",
    "        counter = 0 \n",
    "        unique_pattern = 0\n",
    "        first_str = s[0]\n",
    "        for val in s:\n",
    "            if val==first_str:\n",
    "                counter+=1\n",
    "            else:\n",
    "                counter-=1\n",
    "            if not counter:\n",
    "                unique_pattern+=1\n",
    "        return unique_pattern"
   ]
  },
  {
   "cell_type": "code",
   "execution_count": 85,
   "metadata": {},
   "outputs": [
    {
     "data": {
      "text/plain": [
       "2"
      ]
     },
     "execution_count": 85,
     "metadata": {},
     "output_type": "execute_result"
    }
   ],
   "source": [
    "Solution().balancedStringSplit(\"RLRRLLRLRL\")\n",
    "Solution().balancedStringSplit(\"RLRRRLLRLL\")\n"
   ]
  },
  {
   "cell_type": "markdown",
   "metadata": {},
   "source": [
    "#### 8. Sorting the sentence"
   ]
  },
  {
   "cell_type": "code",
   "execution_count": 110,
   "metadata": {},
   "outputs": [],
   "source": [
    "class Solution:\n",
    "    def sortSentence(self, s: str) -> str:\n",
    "        white_space=1\n",
    "        for i in s:\n",
    "            white_space = white_space+1 if i==\" \" else white_space\n",
    "        a=[None]*white_space\n",
    "        st=''\n",
    "        for i in s:\n",
    "            if i==' ':continue\n",
    "            st += i\n",
    "            if i.isdigit():\n",
    "                a[int(i)-1] = st[:-1]\n",
    "                st=''\n",
    "        return ' '.join(a)"
   ]
  },
  {
   "cell_type": "code",
   "execution_count": 112,
   "metadata": {},
   "outputs": [
    {
     "data": {
      "text/plain": [
       "'Me Myself and I'"
      ]
     },
     "execution_count": 112,
     "metadata": {},
     "output_type": "execute_result"
    }
   ],
   "source": [
    "Solution().sortSentence(\"is2 sentence4 This1 a3\")\n",
    "Solution().sortSentence(\"Myself2 Me1 I4 and3\")\n"
   ]
  },
  {
   "cell_type": "markdown",
   "metadata": {},
   "source": [
    "#### 9.Count Items Matching a Rule"
   ]
  },
  {
   "cell_type": "code",
   "execution_count": 135,
   "metadata": {},
   "outputs": [],
   "source": [
    "class Solution:\n",
    "    def countMatches(self, items, ruleKey: str, ruleValue: str) -> int:\n",
    "        counter=0\n",
    "        for types, color, name in items:\n",
    "            if (ruleKey=='type') and (ruleValue==types):\n",
    "                counter+=1\n",
    "            if (ruleKey=='color') and (ruleValue==color):\n",
    "                counter+=1\n",
    "            if (ruleKey=='name') and (ruleValue==name):\n",
    "                counter+=1\n",
    "        return counter    "
   ]
  },
  {
   "cell_type": "code",
   "execution_count": 136,
   "metadata": {},
   "outputs": [
    {
     "data": {
      "text/plain": [
       "4"
      ]
     },
     "execution_count": 136,
     "metadata": {},
     "output_type": "execute_result"
    }
   ],
   "source": [
    "Solution().countMatches([[\"lrllrl\",\"l\",\"l\"],\n",
    "                        [\"l\",\"l\",\"lrllrl\"],\n",
    "                        [\"lrllrl\",\"lrllrl\",\"lrllrl\"],\n",
    "                        [\"l\",\"l\",\"lrllrl\"],\n",
    "                        [\"lrllrl\",\"l\",\"lrllrl\"],\n",
    "                        [\"l\",\"l\",\"l\"],\n",
    "                        [\"l\",\"lrllrl\",\"l\"]], \"name\", \"lrllrl\")"
   ]
  },
  {
   "cell_type": "markdown",
   "metadata": {},
   "source": [
    "#### 10. Add Strings"
   ]
  },
  {
   "cell_type": "code",
   "execution_count": 4,
   "metadata": {},
   "outputs": [],
   "source": [
    "class Solution:\n",
    "    def addStrings(self, num1: str, num2: str) -> str:\n",
    "        a,b = 0, 0 \n",
    "        for i in num1:\n",
    "            a = a*10 + int(i)\n",
    "        for i in num2:\n",
    "            b = b*10 + int(i)\n",
    "        return str(a+b)"
   ]
  },
  {
   "cell_type": "code",
   "execution_count": 5,
   "metadata": {},
   "outputs": [
    {
     "data": {
      "text/plain": [
       "'134'"
      ]
     },
     "execution_count": 5,
     "metadata": {},
     "output_type": "execute_result"
    }
   ],
   "source": [
    "Solution().addStrings('11', '123')"
   ]
  },
  {
   "cell_type": "markdown",
   "metadata": {},
   "source": [
    "#### 11. Longest Common Prefix"
   ]
  },
  {
   "cell_type": "code",
   "execution_count": 91,
   "metadata": {},
   "outputs": [],
   "source": [
    "class Solution:\n",
    "    def longestCommonPrefix(self, strs) -> str:\n",
    "        first_str = strs[0]\n",
    "        if not first_str: return \"\" \n",
    "        if not strs: return \"\"\n",
    "        shortest = min(strs,key=len)\n",
    "        for i, ch in enumerate(shortest):\n",
    "            for other in strs:\n",
    "                if other[i] != ch:\n",
    "                    return shortest[:i]\n",
    "        return shortest "
   ]
  },
  {
   "cell_type": "code",
   "execution_count": 92,
   "metadata": {},
   "outputs": [
    {
     "data": {
      "text/plain": [
       "''"
      ]
     },
     "execution_count": 92,
     "metadata": {},
     "output_type": "execute_result"
    }
   ],
   "source": [
    "#Solution().longestCommonPrefix([\"flower\",\"flow\",\"flight\"])\n",
    "\n",
    "Solution().longestCommonPrefix([\"a\",\"a\",\"b\"])\n",
    "\n",
    "#Solution().longestCommonPrefix([\"dog\",\"racecar\",\"car\"])\n",
    "\n",
    "#Solution().longestCommonPrefix([\"ab\",\"a\"])\n",
    "\n",
    "#Solution().longestCommonPrefix([\"flower\",\"flower\",\"flower\",\"flower\"])\n",
    "\n"
   ]
  },
  {
   "cell_type": "markdown",
   "metadata": {},
   "source": [
    "#### 12. Valid Palindrome"
   ]
  },
  {
   "cell_type": "code",
   "execution_count": 141,
   "metadata": {},
   "outputs": [],
   "source": [
    "# This approach will through ETL error\n",
    "\n",
    "class Solution:\n",
    "    def validPalindrome(self, s: str) -> bool:\n",
    "        length = len(s)\n",
    "        if not length: return False\n",
    "        if length==1: return True\n",
    "        if length==2: return True\n",
    "        if s==s[::-1]: return True\n",
    "        for i in range(length):\n",
    "            print(i)\n",
    "            t = s[0:i]+s[i+1:]\n",
    "            if t==t[::-1]: return True\n",
    "        return False"
   ]
  },
  {
   "cell_type": "code",
   "execution_count": 151,
   "metadata": {},
   "outputs": [
    {
     "data": {
      "text/plain": [
       "True"
      ]
     },
     "execution_count": 151,
     "metadata": {},
     "output_type": "execute_result"
    }
   ],
   "source": [
    "Solution().validPalindrome(\"aba\")"
   ]
  },
  {
   "cell_type": "code",
   "execution_count": 150,
   "metadata": {},
   "outputs": [],
   "source": [
    "class Solution:\n",
    "    def validPalindrome(self, s: str) -> bool:\n",
    "            p1=0\n",
    "            p2=len(s)-1\n",
    "            while p1<=p2:\n",
    "                if s[p1]!=s[p2]:\n",
    "                    string1=s[:p1]+s[p1+1:]\n",
    "                    string2=s[:p2]+s[p2+1:]\n",
    "                    return string1==string1[::-1] or string2==string2[::-1]\n",
    "                p1+=1\n",
    "                p2-=1\n",
    "            return True"
   ]
  },
  {
   "cell_type": "markdown",
   "metadata": {},
   "source": [
    "#### 13. Roman to integer"
   ]
  },
  {
   "cell_type": "code",
   "execution_count": 152,
   "metadata": {},
   "outputs": [],
   "source": [
    "class Solution:\n",
    "    def romanToInt(self, s: str) -> int:\n",
    "        sum = 0\n",
    "        dit = {'I':1, 'V':5, 'X':10, 'L':50, 'C':100, 'D':500, 'M':1000}\n",
    "        previous = s[-1]\n",
    "        for current in s[::-1]:\n",
    "            val = dit[current]\n",
    "            if ((previous =='V') and (current=='I')) or ((previous =='X') and (current=='I')) or ((previous =='L') and (current=='X')) or ((previous =='C') and (current=='X')) or ((previous =='D') and (current=='C')) or ((previous =='M') and (current=='C')) :\n",
    "                sum-=val\n",
    "            else:\n",
    "                sum+=val\n",
    "            previous = current\n",
    "        return sum"
   ]
  },
  {
   "cell_type": "code",
   "execution_count": 159,
   "metadata": {},
   "outputs": [
    {
     "data": {
      "text/plain": [
       "9"
      ]
     },
     "execution_count": 159,
     "metadata": {},
     "output_type": "execute_result"
    }
   ],
   "source": [
    "Solution().romanToInt('IX')"
   ]
  },
  {
   "cell_type": "markdown",
   "metadata": {},
   "source": [
    "#### 14. First unique character in a string"
   ]
  },
  {
   "cell_type": "code",
   "execution_count": 2,
   "metadata": {},
   "outputs": [],
   "source": [
    "from typing import List, Dict, Tuple"
   ]
  },
  {
   "cell_type": "code",
   "execution_count": 25,
   "metadata": {},
   "outputs": [],
   "source": [
    "class Solution:\n",
    "    def firstUniqChar(self, s: str) -> int:\n",
    "        from collections import OrderedDict\n",
    "        d = OrderedDict()\n",
    "        for idx, val in enumerate(s):\n",
    "            if not d.get(val,0):\n",
    "                d[val] = [idx, 1] \n",
    "            else:\n",
    "                d[val][1] = d[val][1]+1\n",
    "        for key, val in d.items():\n",
    "            if val[1]==1:\n",
    "                return val[0]\n",
    "        return -1"
   ]
  },
  {
   "cell_type": "code",
   "execution_count": 28,
   "metadata": {},
   "outputs": [
    {
     "data": {
      "text/plain": [
       "-1"
      ]
     },
     "execution_count": 28,
     "metadata": {},
     "output_type": "execute_result"
    }
   ],
   "source": [
    "s = 'leetcode'\n",
    "s = \"loveleetcode\"\n",
    "s = \"aabb\"\n",
    "Solution().firstUniqChar(s)"
   ]
  },
  {
   "cell_type": "code",
   "execution_count": 6,
   "metadata": {},
   "outputs": [],
   "source": [
    "s = \"leetcode\"\n",
    "from collections import OrderedDict\n",
    "d = OrderedDict()\n",
    "d['l'] = 1\n",
    "d['e'] = 1\n",
    "d['t'] = 1\n",
    "d['e'] = 2"
   ]
  },
  {
   "cell_type": "code",
   "execution_count": 9,
   "metadata": {},
   "outputs": [
    {
     "data": {
      "text/plain": [
       "OrderedDict([('e', 2), ('t', 1)])"
      ]
     },
     "execution_count": 9,
     "metadata": {},
     "output_type": "execute_result"
    }
   ],
   "source": [
    "#d.popitem(last=False)\n",
    "d"
   ]
  },
  {
   "cell_type": "markdown",
   "metadata": {},
   "source": [
    "#### 15. Ransom Note"
   ]
  },
  {
   "cell_type": "code",
   "execution_count": 63,
   "metadata": {},
   "outputs": [],
   "source": [
    "class Solution:\n",
    "    def canConstruct(self, ransomNote: str, magazine: str) -> bool:\n",
    "        d = {}\n",
    "        for val in ransomNote:\n",
    "            d[val] = d.get(val,0) + 1\n",
    "        for val in magazine:\n",
    "            if d.get(val,0):\n",
    "                d[val] -=1\n",
    "        return sum(d.values())==0"
   ]
  },
  {
   "cell_type": "code",
   "execution_count": 66,
   "metadata": {},
   "outputs": [
    {
     "data": {
      "text/plain": [
       "True"
      ]
     },
     "execution_count": 66,
     "metadata": {},
     "output_type": "execute_result"
    }
   ],
   "source": [
    "ransomNote = \"aa\"; magazine = \"aab\"\n",
    "Solution().canConstruct(ransomNote, magazine)"
   ]
  },
  {
   "cell_type": "markdown",
   "metadata": {},
   "source": [
    "#### 16. Valid Anagram"
   ]
  },
  {
   "cell_type": "code",
   "execution_count": 69,
   "metadata": {},
   "outputs": [],
   "source": [
    "class Solution:\n",
    "    def isAnagram(self, s: str, t: str) -> bool:\n",
    "        s = list(s)\n",
    "        s.sort()\n",
    "        \"\".join(s)\n",
    "        t = list(t)\n",
    "        t.sort()\n",
    "        \"\".join(t)\n",
    "        return s==t\n",
    "        "
   ]
  },
  {
   "cell_type": "code",
   "execution_count": 70,
   "metadata": {},
   "outputs": [],
   "source": [
    "class Solution:\n",
    "    def isAnagram(self, s: str, t: str) -> bool:\n",
    "        return sorted(s)==sorted(t)"
   ]
  },
  {
   "cell_type": "code",
   "execution_count": 71,
   "metadata": {},
   "outputs": [
    {
     "data": {
      "text/plain": [
       "True"
      ]
     },
     "execution_count": 71,
     "metadata": {},
     "output_type": "execute_result"
    }
   ],
   "source": [
    "s = \"anagram\"; t = \"nagaram\"\n",
    "Solution().isAnagram(s,t)"
   ]
  },
  {
   "cell_type": "markdown",
   "metadata": {},
   "source": [
    "#### 17. Find the difference"
   ]
  },
  {
   "cell_type": "code",
   "execution_count": 7,
   "metadata": {},
   "outputs": [],
   "source": [
    "class Solution:\n",
    "    def findTheDifference(self, s: str, t: str) -> str:\n",
    "        d = {}\n",
    "        for val in s:\n",
    "            d[val] = d.get(val,0) + 1\n",
    "        for val in t:\n",
    "            if not d.get(val,0):\n",
    "                return val\n",
    "            else:\n",
    "                d[val] -= 1"
   ]
  },
  {
   "cell_type": "code",
   "execution_count": 12,
   "metadata": {},
   "outputs": [
    {
     "data": {
      "text/plain": [
       "'a'"
      ]
     },
     "execution_count": 12,
     "metadata": {},
     "output_type": "execute_result"
    }
   ],
   "source": [
    "s = \"abcd\"; t = \"abcde\"\n",
    "s = \"\"; t = \"y\"\n",
    "s = \"a\"; t = \"aa\"\n",
    "Solution().findTheDifference(s,t)"
   ]
  },
  {
   "cell_type": "code",
   "execution_count": null,
   "metadata": {},
   "outputs": [],
   "source": []
  },
  {
   "cell_type": "markdown",
   "metadata": {},
   "source": [
    "#### 18.Decrypt String from Alphabet to Integer Mapping"
   ]
  },
  {
   "cell_type": "code",
   "execution_count": 37,
   "metadata": {},
   "outputs": [],
   "source": [
    "class Solution:\n",
    "    def freqAlphabets(self, s: str) -> str:\n",
    "        a1 = \"abcdefghi\" # 1 to 9\n",
    "        a2 = \"jklmnopqrstuvwxyz\" # 10# 26#\n",
    "        temp = []\n",
    "        for i in s:\n",
    "            if i=='#' and len(temp)>=2:\n",
    "                a = temp.pop()\n",
    "                b = temp.pop()\n",
    "                temp.append(b+a)\n",
    "                continue\n",
    "            temp.append(i)\n",
    "        res = ''\n",
    "        for i in temp:\n",
    "            if int(i)<=9:\n",
    "                res+=a1[int(i)-1]\n",
    "            else:\n",
    "                res+=a2[int(i)-1-9]\n",
    "        return res"
   ]
  },
  {
   "cell_type": "code",
   "execution_count": 38,
   "metadata": {},
   "outputs": [
    {
     "name": "stdout",
     "output_type": "stream",
     "text": [
      "['1', '2', '3', '4', '5', '6', '7', '8', '9', '10', '11', '12', '13', '14', '15', '16', '17', '18', '19', '20', '21', '22', '23', '24', '25', '26']\n"
     ]
    },
    {
     "data": {
      "text/plain": [
       "'abcdefghijklmnopqrstuvwxyz'"
      ]
     },
     "execution_count": 38,
     "metadata": {},
     "output_type": "execute_result"
    }
   ],
   "source": [
    "s = \"10#11#12\"\n",
    "#s = \"1326#\"\n",
    "s = \"12345678910#11#12#13#14#15#16#17#18#19#20#21#22#23#24#25#26#\"\n",
    "Solution().freqAlphabets(s)"
   ]
  },
  {
   "cell_type": "markdown",
   "metadata": {},
   "source": [
    "#### 19. Verifying an Alien Dictionary"
   ]
  },
  {
   "cell_type": "code",
   "execution_count": 42,
   "metadata": {},
   "outputs": [],
   "source": [
    "from typing import List"
   ]
  },
  {
   "cell_type": "code",
   "execution_count": 43,
   "metadata": {},
   "outputs": [],
   "source": [
    "class Solution:\n",
    "    def isAlienSorted(self, words: List[str], order: str) -> bool:\n",
    "        ordered = {val:idx for idx, val in enumerate(order)}\n",
    "        # Performing Bubble Sort single iteration\n",
    "        \n",
    "        for idx in range(len(words)-1):\n",
    "            w1, w2 = words[idx], words[idx+1]\n",
    "            l1,l2 = len(w1), len(w2)\n",
    "            \n",
    "            for j in range(l1):\n",
    "                if j==l2: # our second word is similar\n",
    "                    return False\n",
    "                if w1[j] != w2[j]:\n",
    "                    if ordered[w1[j]] > ordered[w2[j]]:\n",
    "                        return False\n",
    "                    break\n",
    "        return True            "
   ]
  },
  {
   "cell_type": "code",
   "execution_count": 46,
   "metadata": {},
   "outputs": [
    {
     "data": {
      "text/plain": [
       "True"
      ]
     },
     "execution_count": 46,
     "metadata": {},
     "output_type": "execute_result"
    }
   ],
   "source": [
    "words = [\"hello\",\"leetcode\"]; order = \"hlabcdefgijkmnopqrstuvwxyz\"\n",
    "Solution().isAlienSorted(words, order)"
   ]
  },
  {
   "cell_type": "markdown",
   "metadata": {},
   "source": [
    "#### 19. Valid Parenthesis"
   ]
  },
  {
   "cell_type": "code",
   "execution_count": 73,
   "metadata": {},
   "outputs": [],
   "source": [
    "class Solution:\n",
    "    def isValid(self, s: str) -> bool:\n",
    "        from collections import deque\n",
    "        stack = deque()\n",
    "        for idx, val in enumerate(s):\n",
    "            if not idx:\n",
    "                stack.append(val)\n",
    "                continue\n",
    "            try:\n",
    "                if val==')' and stack[-1]=='(':\n",
    "                    stack.pop()\n",
    "                    continue\n",
    "                if val=='}' and stack[-1]=='{':\n",
    "                    stack.pop()\n",
    "                    continue\n",
    "                if val==']' and stack[-1]=='[':\n",
    "                    stack.pop()\n",
    "                    continue\n",
    "            except:\n",
    "                return False\n",
    "            stack.append(val)\n",
    "        return len(stack)==0"
   ]
  },
  {
   "cell_type": "code",
   "execution_count": 75,
   "metadata": {},
   "outputs": [
    {
     "data": {
      "text/plain": [
       "False"
      ]
     },
     "execution_count": 75,
     "metadata": {},
     "output_type": "execute_result"
    }
   ],
   "source": [
    "s = \"()\"\n",
    "#s = \"([])\"\n",
    "#s = \"()[]{}\"\n",
    "#s = \"(]\"\n",
    "#s = \"([)]\"\n",
    "s = \"(){}}{\"\n",
    "Solution().isValid(s)"
   ]
  },
  {
   "cell_type": "markdown",
   "metadata": {},
   "source": [
    "#### 20.Sort Integers by The Number of 1 Bits"
   ]
  },
  {
   "cell_type": "code",
   "execution_count": 100,
   "metadata": {},
   "outputs": [],
   "source": [
    "class Solution:\n",
    "    def sortByBits(self, arr: List[int]) -> List[int]:\n",
    "        d = {}\n",
    "        for i in arr:\n",
    "            f = bin(i).count('1')\n",
    "            d[f] = d.get(f,[]) + [i]\n",
    "        res = []\n",
    "        for i in sorted(d.keys()):\n",
    "            res.extend(sorted(d[i]))\n",
    "        return res        "
   ]
  },
  {
   "cell_type": "code",
   "execution_count": 106,
   "metadata": {},
   "outputs": [],
   "source": [
    "# Same approch in single 1\n",
    "class Solution:\n",
    "    def sortByBits(self, arr: List[int]) -> List[int]:\n",
    "        return sorted(arr, key=lambda x: (bin(x).count('1'),x))"
   ]
  },
  {
   "cell_type": "code",
   "execution_count": 110,
   "metadata": {},
   "outputs": [
    {
     "data": {
      "text/plain": [
       "[[0, 0], [1, 1], [1, 2], [2, 3], [1, 4]]"
      ]
     },
     "execution_count": 110,
     "metadata": {},
     "output_type": "execute_result"
    }
   ],
   "source": [
    "[[bin(x).count('1'),x] for x in A]"
   ]
  },
  {
   "cell_type": "code",
   "execution_count": 107,
   "metadata": {},
   "outputs": [
    {
     "data": {
      "text/plain": [
       "[1, 2, 4, 8, 16, 32, 64, 128, 256, 512, 1024]"
      ]
     },
     "execution_count": 107,
     "metadata": {},
     "output_type": "execute_result"
    }
   ],
   "source": [
    "arr = [0,1,2,3,4,5,6,7,8]\n",
    "arr = [1024,512,256,128,64,32,16,8,4,2,1]\n",
    "Solution().sortByBits(arr)"
   ]
  },
  {
   "cell_type": "code",
   "execution_count": null,
   "metadata": {},
   "outputs": [],
   "source": []
  },
  {
   "cell_type": "markdown",
   "metadata": {},
   "source": [
    "#### 21. Design Parking System"
   ]
  },
  {
   "cell_type": "code",
   "execution_count": 114,
   "metadata": {},
   "outputs": [],
   "source": [
    "class ParkingSystem:\n",
    "\n",
    "    def __init__(self, big: int, medium: int, small: int):\n",
    "        self.big = big\n",
    "        self.medium = medium\n",
    "        self.small = small\n",
    "    \n",
    "    def addCar(self, carType: int) -> bool:\n",
    "        if carType==1 and self.big>0:\n",
    "            self.big -=1\n",
    "            return True\n",
    "        if carType==2 and self.medium>0:\n",
    "            self.medium -=1\n",
    "            return True\n",
    "        if carType==3 and self.small>0:\n",
    "            self.small -=1\n",
    "            return True\n",
    "        return False"
   ]
  },
  {
   "cell_type": "code",
   "execution_count": 115,
   "metadata": {},
   "outputs": [],
   "source": [
    "class ParkingSystem:\n",
    "    def __init__(self, big, medium, small):\n",
    "        self.A = [big, medium, small]\n",
    "\n",
    "    def addCar(self, carType):\n",
    "        self.A[carType - 1] -= 1\n",
    "        return self.A[carType - 1] >= 0"
   ]
  },
  {
   "cell_type": "code",
   "execution_count": 116,
   "metadata": {},
   "outputs": [
    {
     "data": {
      "text/plain": [
       "[True, True, False, False]"
      ]
     },
     "execution_count": 116,
     "metadata": {},
     "output_type": "execute_result"
    }
   ],
   "source": [
    "# Your ParkingSystem object will be instantiated and called as such:\n",
    "a = [[1, 1, 0], [1], [2], [3], [1]]\n",
    "obj = ParkingSystem(*a[0])\n",
    "[obj.addCar(*i) for i in a[1:]]"
   ]
  },
  {
   "cell_type": "code",
   "execution_count": null,
   "metadata": {},
   "outputs": [],
   "source": []
  },
  {
   "cell_type": "markdown",
   "metadata": {},
   "source": [
    "#### 22.Range Sum Query - Immutable"
   ]
  },
  {
   "cell_type": "code",
   "execution_count": 117,
   "metadata": {},
   "outputs": [],
   "source": [
    "class NumArray:\n",
    "\n",
    "    def __init__(self, nums: List[int]):\n",
    "        self.arr = nums        \n",
    "\n",
    "    def sumRange(self, left: int, right: int) -> int:\n",
    "        return sum(self.arr[left:right+1])\n",
    "\n",
    "\n",
    "# Your NumArray object will be instantiated and called as such:\n",
    "# obj = NumArray(nums)\n",
    "# param_1 = obj.sumRange(left,right)"
   ]
  },
  {
   "cell_type": "code",
   "execution_count": 119,
   "metadata": {},
   "outputs": [],
   "source": [
    "## Approach-2: Instead of calculating sum at every call. Store the sum and return indexes\n",
    "class NumArray:\n",
    "\n",
    "    def __init__(self, nums: List[int]):\n",
    "        self.prefix_sum = [0] * len(nums)\n",
    "        cur_sum = 0\n",
    "        for idx, num in enumerate(nums):\n",
    "            cur_sum += num\n",
    "            self.prefix_sum[idx] = cur_sum            \n",
    "\n",
    "    def sumRange(self, left: int, right: int) -> int:\n",
    "        # [-2, 0, 3, -5, 2, -1]\n",
    "        # [-2, -2, 1, -4, -2, -3]\n",
    "        if left > 0:\n",
    "            return self.prefix_sum[right] - self.prefix_sum[left-1]\n",
    "        else:\n",
    "            return self.prefix_sum[right]"
   ]
  },
  {
   "cell_type": "code",
   "execution_count": 120,
   "metadata": {},
   "outputs": [],
   "source": [
    "class NumArray(object):\n",
    "    def __init__(self, nums):\n",
    "        \"\"\"\n",
    "        initialize your data structure here.\n",
    "        :type nums: List[int]\n",
    "        \"\"\"\n",
    "        self.accu = [0]\n",
    "        for num in nums: \n",
    "            self.accu += self.accu[-1] + num,\n",
    "\n",
    "    def sumRange(self, i, j):\n",
    "        \"\"\"\n",
    "        sum of elements nums[i..j], inclusive.\n",
    "        :type i: int \n",
    "        :type j: int\n",
    "        :rtype: int \n",
    "        \"\"\"\n",
    "        return self.accu[j + 1] - self.accu[i]"
   ]
  },
  {
   "cell_type": "code",
   "execution_count": 121,
   "metadata": {},
   "outputs": [
    {
     "data": {
      "text/plain": [
       "[1, -1, -3]"
      ]
     },
     "execution_count": 121,
     "metadata": {},
     "output_type": "execute_result"
    }
   ],
   "source": [
    "a = [[[-2, 0, 3, -5, 2, -1]], [0, 2], [2, 5], [0, 5]]\n",
    "obj = NumArray(*a[0])\n",
    "[obj.sumRange(*i) for i in a[1:]]"
   ]
  },
  {
   "cell_type": "markdown",
   "metadata": {},
   "source": [
    "#### 23. Check if Pangram"
   ]
  },
  {
   "cell_type": "code",
   "execution_count": 10,
   "metadata": {},
   "outputs": [],
   "source": [
    "class Solution:\n",
    "    def checkIfPangram(self, sentence: str) -> bool:\n",
    "        return len({val:1 for val in sentence}) == 26"
   ]
  },
  {
   "cell_type": "code",
   "execution_count": 11,
   "metadata": {},
   "outputs": [
    {
     "data": {
      "text/plain": [
       "False"
      ]
     },
     "execution_count": 11,
     "metadata": {},
     "output_type": "execute_result"
    }
   ],
   "source": [
    "sentence = \"thequickbrownfoxjumpsoverthelazydog\"\n",
    "sentence = \"leetcode\"\n",
    "Solution().checkIfPangram(sentence)"
   ]
  },
  {
   "cell_type": "code",
   "execution_count": null,
   "metadata": {},
   "outputs": [],
   "source": []
  }
 ],
 "metadata": {
  "kernelspec": {
   "display_name": "Python 3.8.8 ('base')",
   "language": "python",
   "name": "python3"
  },
  "language_info": {
   "codemirror_mode": {
    "name": "ipython",
    "version": 3
   },
   "file_extension": ".py",
   "mimetype": "text/x-python",
   "name": "python",
   "nbconvert_exporter": "python",
   "pygments_lexer": "ipython3",
   "version": "3.8.8"
  },
  "orig_nbformat": 4,
  "vscode": {
   "interpreter": {
    "hash": "ad2bdc8ecc057115af97d19610ffacc2b4e99fae6737bb82f5d7fb13d2f2c186"
   }
  }
 },
 "nbformat": 4,
 "nbformat_minor": 2
}
