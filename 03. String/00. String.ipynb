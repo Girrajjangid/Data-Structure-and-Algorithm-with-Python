{
 "cells": [
  {
   "cell_type": "code",
   "execution_count": 1,
   "metadata": {},
   "outputs": [
    {
     "name": "stdout",
     "output_type": "stream",
     "text": [
      "\n",
      "Printing in Octal with the use of Escape Sequences: \n",
      "Hello\n",
      "\n",
      "Printing Raw String in Octal Format: \n",
      "This is \\110\\145\\154\\154\\157\n",
      "\n",
      "Printing in HEX with the use of Escape Sequences: \n",
      "This is Geeks in HEX\n",
      "\n",
      "Printing Raw String in HEX Format: \n",
      "This is \\x47\\x65\\x65\\x6b\\x73 in \\x48\\x45\\x58\n"
     ]
    }
   ],
   "source": [
    "# Printing hello in octal\n",
    "String1 = \"\\110\\145\\154\\154\\157\"\n",
    "print(\"\\nPrinting in Octal with the use of Escape Sequences: \")\n",
    "print(String1)\n",
    "\n",
    "# Using raw String to\n",
    "# ignore Escape Sequences\n",
    "String1 = r\"This is \\110\\145\\154\\154\\157\"\n",
    "print(\"\\nPrinting Raw String in Octal Format: \")\n",
    "print(String1)\n",
    "\n",
    "# Printing Geeks in HEX\n",
    "String1 = \"This is \\x47\\x65\\x65\\x6b\\x73 in \\x48\\x45\\x58\"\n",
    "print(\"\\nPrinting in HEX with the use of Escape Sequences: \")\n",
    "print(String1)\n",
    "\n",
    "# Using raw String to\n",
    "# ignore Escape Sequences\n",
    "String1 = r\"This is \\x47\\x65\\x65\\x6b\\x73 in \\x48\\x45\\x58\"\n",
    "print(\"\\nPrinting Raw String in HEX Format: \")\n",
    "print(String1)\n"
   ]
  },
  {
   "cell_type": "code",
   "execution_count": null,
   "metadata": {},
   "outputs": [],
   "source": []
  }
 ],
 "metadata": {
  "kernelspec": {
   "display_name": "Python 3.8.8 ('base')",
   "language": "python",
   "name": "python3"
  },
  "language_info": {
   "codemirror_mode": {
    "name": "ipython",
    "version": 3
   },
   "file_extension": ".py",
   "mimetype": "text/x-python",
   "name": "python",
   "nbconvert_exporter": "python",
   "pygments_lexer": "ipython3",
   "version": "3.8.8"
  },
  "orig_nbformat": 4,
  "vscode": {
   "interpreter": {
    "hash": "ad2bdc8ecc057115af97d19610ffacc2b4e99fae6737bb82f5d7fb13d2f2c186"
   }
  }
 },
 "nbformat": 4,
 "nbformat_minor": 2
}
