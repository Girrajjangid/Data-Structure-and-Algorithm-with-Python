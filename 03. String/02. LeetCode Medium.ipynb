{
 "cells": [
  {
   "cell_type": "markdown",
   "metadata": {},
   "source": [
    "#### 1. Longest Substring Without Repeating Characters"
   ]
  },
  {
   "cell_type": "code",
   "execution_count": 85,
   "metadata": {},
   "outputs": [],
   "source": [
    "class Solution:\n",
    "    def lengthOfLongestSubstring(self, s: str) -> int:\n",
    "        d = {}\n",
    "        counter = 0\n",
    "        max_count = 0\n",
    "        for i in s:\n",
    "            if not d.get(i):\n",
    "                d[i] = 1\n",
    "                counter+=1\n",
    "            else:\n",
    "                if counter>max_count:\n",
    "                    max_count = counter\n",
    "                counter=1\n",
    "                d={}\n",
    "                d[i] = 1\n",
    "            print(i,max_count,counter)\n",
    "        if counter>=max_count:\n",
    "            return counter\n",
    "        else:\n",
    "            return max_count"
   ]
  },
  {
   "cell_type": "code",
   "execution_count": 86,
   "metadata": {},
   "outputs": [
    {
     "name": "stdout",
     "output_type": "stream",
     "text": [
      "d 0 1\n",
      "v 0 2\n",
      "d 2 1\n",
      "f 2 2\n"
     ]
    },
    {
     "data": {
      "text/plain": [
       "2"
      ]
     },
     "execution_count": 86,
     "metadata": {},
     "output_type": "execute_result"
    }
   ],
   "source": [
    "Solution().lengthOfLongestSubstring(\"dvdf\")"
   ]
  },
  {
   "cell_type": "code",
   "execution_count": 95,
   "metadata": {},
   "outputs": [],
   "source": [
    "class Solution:\n",
    "    def lengthOfLongestSubstring(self, s: str) -> int:\n",
    "        sets = set()\n",
    "        deleted= 0\n",
    "        max_counter = 0\n",
    "        for idx,val in enumerate(s):\n",
    "            while val in sets:\n",
    "                sets.remove(s[deleted])         \n",
    "                deleted+=1\n",
    "            sets.add(val)\n",
    "            max_counter = max(max_counter, idx+1-deleted)\n",
    "        return max_counter\n"
   ]
  },
  {
   "cell_type": "code",
   "execution_count": 102,
   "metadata": {},
   "outputs": [
    {
     "data": {
      "text/plain": [
       "3"
      ]
     },
     "execution_count": 102,
     "metadata": {},
     "output_type": "execute_result"
    }
   ],
   "source": [
    "Solution().lengthOfLongestSubstring(\"dvdf\")"
   ]
  },
  {
   "cell_type": "markdown",
   "metadata": {},
   "source": [
    "#### 2. Minimum remove to make valid parenthesis"
   ]
  },
  {
   "cell_type": "code",
   "execution_count": 211,
   "metadata": {},
   "outputs": [],
   "source": [
    "from collections import deque\n",
    "class Solution:\n",
    "    def minRemoveToMakeValid(self, s: str) -> str:\n",
    "        stack = deque()\n",
    "        index = deque()\n",
    "        index.append(' ')\n",
    "        stack.append(' ')\n",
    "        for idx, i in enumerate(s):\n",
    "            if (i=='(') and (stack[-1]==')'):\n",
    "                stack.append(i)\n",
    "                index.append(idx)\n",
    "                print(\"Insert: \",i, stack)\n",
    "            elif (i==')') and (stack[-1]=='('):\n",
    "                stack.pop()\n",
    "                index.pop()\n",
    "                print(\"Pop   :\",i, stack)\n",
    "            elif (i==')') or (i=='('):\n",
    "                stack.append(i)\n",
    "                index.append(idx)\n",
    "                print(\"Insert: \",i, stack)\n",
    "            else:\n",
    "                continue\n",
    "        newstr=''\n",
    "        prev=0\n",
    "        for idx,v in enumerate(index):\n",
    "            if v==' ': continue\n",
    "            if idx==1:\n",
    "                newstr+=s[:v]\n",
    "                prev = v\n",
    "            else:\n",
    "                newstr+=s[prev+1:v]\n",
    "                prev = v\n",
    "        newstr = s if v==' ' else newstr+s[v+1:]\n",
    "        return newstr"
   ]
  },
  {
   "cell_type": "code",
   "execution_count": 227,
   "metadata": {},
   "outputs": [],
   "source": [
    "s1='a)b(c)d' # ab(c)d\n",
    "s2='a))b(c)d' # ab(c)d\n",
    "s3='a)b(cd' # abcd\n",
    "s4='a(b)cd' # abcd\n",
    "s5='a(b)c)d' # abcd\n",
    "s6= \"lee(t(c)o)de)\"\n",
    "s7 = \"))((\"\n",
    "s8 =  \" \""
   ]
  },
  {
   "cell_type": "code",
   "execution_count": 228,
   "metadata": {},
   "outputs": [
    {
     "data": {
      "text/plain": [
       "' '"
      ]
     },
     "execution_count": 228,
     "metadata": {},
     "output_type": "execute_result"
    }
   ],
   "source": [
    "Solution().minRemoveToMakeValid(s8)"
   ]
  },
  {
   "cell_type": "markdown",
   "metadata": {},
   "source": [
    "#### 3. Longest Palindrome"
   ]
  },
  {
   "cell_type": "code",
   "execution_count": 1,
   "metadata": {},
   "outputs": [],
   "source": [
    "class Solution:\n",
    "    def longestPalindrome(self, s: str) -> str:\n",
    "            if s==s[::-1]: return s\n",
    "            p2=len(s)-1\n",
    "            full_length = p2\n",
    "            while 0<p2:\n",
    "                l=0\n",
    "                r=p2\n",
    "                while True:\n",
    "                    strings = s[l:r]\n",
    "                    print(strings, end=' ')\n",
    "                    if (strings==strings[::-1]):\n",
    "                        return strings\n",
    "                    l+=1\n",
    "                    r+=1\n",
    "                    if r>full_length+1:\n",
    "                        break\n",
    "                print()\n",
    "                p2-=1"
   ]
  },
  {
   "cell_type": "code",
   "execution_count": 58,
   "metadata": {},
   "outputs": [],
   "source": [
    "# Approach 2: considering single character as at center position\n",
    "# and keep checking by expanding both indexes\n",
    "class Solution:\n",
    "    def longestPalindrome(self, s: str) -> str:\n",
    "        res = \"\"\n",
    "        resLen = 0\n",
    "        length = len(s)\n",
    "        for i in range(length):\n",
    "            # odd cases\n",
    "            l,r=i,i\n",
    "            while l>=0 and r < length and s[l]==s[r]:\n",
    "                if (r-l+1) > resLen:\n",
    "                    res = s[l:r+1]\n",
    "                    resLen = r-l+1\n",
    "                l-=1\n",
    "                r+=1\n",
    "            # even cases\n",
    "            l,r=i,i+1\n",
    "            while l>=0 and r < length and s[l]==s[r]:\n",
    "                if (r-l+1) > resLen:\n",
    "                    res = s[l:r+1]\n",
    "                    resLen = r-l+1\n",
    "                l-=1\n",
    "                r+=1\n",
    "        return res"
   ]
  },
  {
   "cell_type": "code",
   "execution_count": 57,
   "metadata": {},
   "outputs": [
    {
     "data": {
      "text/plain": [
       "'bb'"
      ]
     },
     "execution_count": 57,
     "metadata": {},
     "output_type": "execute_result"
    }
   ],
   "source": [
    "Solution().longestPalindrome('abbw')"
   ]
  },
  {
   "cell_type": "markdown",
   "metadata": {},
   "source": [
    "#### 4.Generate Parentheses"
   ]
  },
  {
   "cell_type": "code",
   "execution_count": 62,
   "metadata": {},
   "outputs": [
    {
     "name": "stdout",
     "output_type": "stream",
     "text": [
      "True\n"
     ]
    }
   ],
   "source": [
    "if 2==2==2:\n",
    "    print(True)"
   ]
  },
  {
   "cell_type": "code",
   "execution_count": 63,
   "metadata": {},
   "outputs": [],
   "source": [
    "class Solution:\n",
    "    def generateParenthesis(self, n: int):\n",
    "        stack = []\n",
    "        res = []\n",
    "        def backTracking(openN, closeN):\n",
    "            if openN==closeN==n:\n",
    "                res.append(\"\".join(stack))\n",
    "                return\n",
    "            if openN<n:\n",
    "                stack.append('(')\n",
    "                backTracking(openN+1, closeN)\n",
    "                stack.pop()\n",
    "            if closeN<openN:\n",
    "                stack.append(')')\n",
    "                backTracking(openN, closeN+1)\n",
    "                stack.pop()\n",
    "        backTracking(0,0)\n",
    "        return res"
   ]
  },
  {
   "cell_type": "code",
   "execution_count": 136,
   "metadata": {},
   "outputs": [],
   "source": [
    "from collections import deque\n",
    "\n",
    "class Solution:\n",
    "    def generateParenthesis(self, n: int):\n",
    "        q = deque()\n",
    "        q.append(('(', 1, 0 ))\n",
    "        res = []\n",
    "        while q:\n",
    "            s1, l, r = q.popleft()\n",
    "            #print(s1, l, r)\n",
    "            if r == n:\n",
    "                res.append(s1)\n",
    "                continue\n",
    "            if r < l:\n",
    "                q.append((s1 + ')', l, r+1))\n",
    "            if l < n:\n",
    "                q.append((s1 + '(', l+1, r))\n",
    "        return res"
   ]
  },
  {
   "cell_type": "code",
   "execution_count": 137,
   "metadata": {},
   "outputs": [
    {
     "data": {
      "text/plain": [
       "['()()()', '()(())', '(())()', '(()())', '((()))']"
      ]
     },
     "execution_count": 137,
     "metadata": {},
     "output_type": "execute_result"
    }
   ],
   "source": [
    "Solution().generateParenthesis(3)"
   ]
  },
  {
   "cell_type": "markdown",
   "metadata": {},
   "source": [
    "#### 5. Int to Roman"
   ]
  },
  {
   "cell_type": "code",
   "execution_count": 130,
   "metadata": {},
   "outputs": [],
   "source": [
    "class Solution:\n",
    "    def intToRoman(self, num: int) -> str:\n",
    "        l = [('I',1), ('IV',4),('V',5),('IX',9),('X',10),('XL',40),('L',50),\n",
    "            ('XC',90),('C',100),('CD',400),('D',500),('CM',900), ('M',1000)]\n",
    "        main_roman = ''\n",
    "        for roman,ints in l[::-1]:\n",
    "            while True:\n",
    "                count_roman = num//ints\n",
    "                if not count_roman:\n",
    "                    break\n",
    "                else:\n",
    "                    main_roman+=roman*count_roman\n",
    "                    num-=ints*count_roman\n",
    "        return main_roman"
   ]
  },
  {
   "cell_type": "code",
   "execution_count": 132,
   "metadata": {},
   "outputs": [
    {
     "data": {
      "text/plain": [
       "['I', 'II', 'III', 'IV']"
      ]
     },
     "execution_count": 132,
     "metadata": {},
     "output_type": "execute_result"
    }
   ],
   "source": [
    "[Solution().intToRoman(i) for i in range(1,5)]"
   ]
  },
  {
   "cell_type": "markdown",
   "metadata": {},
   "source": [
    "#### 6. Reverse Words"
   ]
  },
  {
   "cell_type": "code",
   "execution_count": 140,
   "metadata": {},
   "outputs": [],
   "source": [
    "class Solution:\n",
    "    def reverseWords(self, s: str) -> str:\n",
    "        return \" \".join(s.split()[::-1])"
   ]
  },
  {
   "cell_type": "code",
   "execution_count": 144,
   "metadata": {},
   "outputs": [
    {
     "data": {
      "text/plain": [
       "'the'"
      ]
     },
     "execution_count": 144,
     "metadata": {},
     "output_type": "execute_result"
    }
   ],
   "source": [
    "Solution().reverseWords(\"  the  \")"
   ]
  },
  {
   "cell_type": "markdown",
   "metadata": {},
   "source": [
    "#### 7.Simplify Path"
   ]
  },
  {
   "cell_type": "code",
   "execution_count": 273,
   "metadata": {},
   "outputs": [],
   "source": [
    "class Solution(object):\n",
    "    def simplifyPath(self, path):\n",
    "        places = [p for p in path.split(\"/\") if p!=\".\" and p!=\"\"]\n",
    "        from collections import deque\n",
    "        stack = deque()\n",
    "        inserted = 0\n",
    "        for p in places:\n",
    "            if p == \"..\":\n",
    "                if inserted > 0:\n",
    "                    stack.pop()\n",
    "                    inserted-=1\n",
    "            else:\n",
    "                stack.append(p)\n",
    "                inserted+=1\n",
    "        return \"/\" + \"/\".join(stack)"
   ]
  },
  {
   "cell_type": "code",
   "execution_count": 279,
   "metadata": {},
   "outputs": [
    {
     "data": {
      "text/plain": [
       "'/...'"
      ]
     },
     "execution_count": 279,
     "metadata": {},
     "output_type": "execute_result"
    }
   ],
   "source": [
    "Solution().simplifyPath(\"/home/\")\n",
    "Solution().simplifyPath(\"/../\")\n",
    "Solution().simplifyPath(\"/home//foo/\")\n",
    "Solution().simplifyPath(\"/a/./b/../../c/\")\n",
    "Solution().simplifyPath(\"/a/../../b/../c//.//\")\n",
    "Solution().simplifyPath(\"/.../\")"
   ]
  },
  {
   "cell_type": "markdown",
   "metadata": {},
   "source": [
    "#### 8. Basic calculator II"
   ]
  },
  {
   "cell_type": "code",
   "execution_count": 14,
   "metadata": {},
   "outputs": [],
   "source": [
    "class Solution:\n",
    "    def calculate(self, s: str) -> int:\n",
    "        from collections import deque\n",
    "        postfix = deque()\n",
    "        temp = deque()\n",
    "        l = len(s)\n",
    "        preference = {'(':0, ')':0, '+':1, '-':1, '/':2, '*':2}\n",
    "        inserted = 0 \n",
    "        previous_operator = ''\n",
    "        \n",
    "        # Postfix formation\n",
    "        for idx, i in enumerate(s):\n",
    "            if i == ' ':\n",
    "                continue\n",
    "            elif i == '(':\n",
    "                temp.append(i)\n",
    "                previous_operator = i\n",
    "                inserted+=1\n",
    "            elif i==')':\n",
    "                while True:\n",
    "                    x = temp.pop()\n",
    "                    inserted-=1\n",
    "                    previous_operator=temp[-1]\n",
    "                    if x!='(':\n",
    "                        postfix.append(x)\n",
    "                    else:\n",
    "                        break\n",
    "            elif i=='+' or i=='-' or i=='/' or i=='*':\n",
    "                if inserted==0:\n",
    "                    temp.append(i)\n",
    "                    previous_operator = i\n",
    "                    inserted+=1\n",
    "                else:\n",
    "                    while True:\n",
    "                        if not inserted: break\n",
    "                        if preference[i] > preference[previous_operator]:\n",
    "                            break\n",
    "                        else:\n",
    "                            x = temp.pop()\n",
    "                            inserted-=1\n",
    "                            postfix.append(x)\n",
    "                        if inserted>0:\n",
    "                            previous_operator = temp[-1]\n",
    "                    temp.append(i)\n",
    "                    previous_operator=i\n",
    "                    inserted+=1\n",
    "\n",
    "            else:\n",
    "                postfix.append(i)\n",
    "        \n",
    "            print(\"Postfix : \", postfix, end=' ')\n",
    "            print(\"Temp    : \",temp)\n",
    "\n",
    "        while True:\n",
    "            if not inserted: break\n",
    "            postfix.append(temp.pop())\n",
    "            inserted-=1              \n",
    "\n",
    "        temp = deque()\n",
    "        for i in postfix:\n",
    "            if i=='+':\n",
    "                temp.append(int(temp.pop()) + int(temp.pop()))\n",
    "            elif i=='-':\n",
    "                temp.append(int(temp.pop()) - int(temp.pop()))\n",
    "            elif i=='*':\n",
    "                temp.append(int(temp.pop()) * int(temp.pop()))\n",
    "            elif i=='/':\n",
    "                temp.append(int(temp.pop()) // int(temp.pop()))\n",
    "            else:\n",
    "                temp.append(i)\n",
    "        \n",
    "        print(postfix)\n",
    "        print(temp)\n",
    "        return temp\n",
    "\n",
    "\n"
   ]
  },
  {
   "cell_type": "code",
   "execution_count": 36,
   "metadata": {},
   "outputs": [],
   "source": [
    "class Solution:\n",
    "    def calculate(self, s: str) -> int:\n",
    "            num = 0\n",
    "            res = 0\n",
    "            pre_op = '+'\n",
    "            s+='+'\n",
    "            stack = []\n",
    "            for c in s:\n",
    "                if c.isdigit():\n",
    "                    num = num*10 + int(c)\n",
    "                elif c == ' ':\n",
    "                        continue\n",
    "                else:\n",
    "                    if pre_op == '+':\n",
    "                        stack.append(num)\n",
    "                    elif pre_op == '-':\n",
    "                        stack.append(-num)\n",
    "                    elif pre_op == '*':\n",
    "                        stack.append(stack.pop()*num)\n",
    "                    elif pre_op == '/':\n",
    "                        stack.append(math.trunc(stack.pop()/num))\n",
    "                    num = 0\n",
    "                    pre_op = c\n",
    "            return sum(stack)"
   ]
  },
  {
   "cell_type": "code",
   "execution_count": 37,
   "metadata": {},
   "outputs": [
    {
     "data": {
      "text/plain": [
       "13"
      ]
     },
     "execution_count": 37,
     "metadata": {},
     "output_type": "execute_result"
    }
   ],
   "source": [
    "Solution().calculate(\"14-3/2\")"
   ]
  },
  {
   "cell_type": "markdown",
   "metadata": {},
   "source": [
    "#### 9. Group Anagrams"
   ]
  },
  {
   "cell_type": "code",
   "execution_count": 94,
   "metadata": {},
   "outputs": [],
   "source": [
    "from collections import Counter\n",
    "\n",
    "class Solution:\n",
    "    def groupAnagrams(self, strs):\n",
    "        dic = {}\n",
    "        for item in strs:\n",
    "            sortedItem = ''.join(sorted(item))\n",
    "            dic[sortedItem] = dic.get(sortedItem, []) + [item]\n",
    "            print(sortedItem, dic)\n",
    "        return dic.values()"
   ]
  },
  {
   "cell_type": "code",
   "execution_count": 95,
   "metadata": {},
   "outputs": [
    {
     "name": "stdout",
     "output_type": "stream",
     "text": [
      "aet {'aet': ['eat']}\n",
      "aet {'aet': ['eat', 'tea']}\n",
      "ant {'aet': ['eat', 'tea'], 'ant': ['tan']}\n",
      "aet {'aet': ['eat', 'tea', 'ate'], 'ant': ['tan']}\n",
      "ant {'aet': ['eat', 'tea', 'ate'], 'ant': ['tan', 'nat']}\n",
      "abt {'aet': ['eat', 'tea', 'ate'], 'ant': ['tan', 'nat'], 'abt': ['bat']}\n"
     ]
    },
    {
     "data": {
      "text/plain": [
       "dict_values([['eat', 'tea', 'ate'], ['tan', 'nat'], ['bat']])"
      ]
     },
     "execution_count": 95,
     "metadata": {},
     "output_type": "execute_result"
    }
   ],
   "source": [
    "Solution().groupAnagrams([\"eat\", \"tea\", \"tan\", \"ate\", \"nat\", \"bat\"])"
   ]
  },
  {
   "cell_type": "markdown",
   "metadata": {},
   "source": [
    "#### 10. ZigZag Conversion"
   ]
  },
  {
   "cell_type": "code",
   "execution_count": 159,
   "metadata": {},
   "outputs": [],
   "source": [
    "class Solution:\n",
    "    def convert(self, s: str, numRows: int) -> str:\n",
    "        all_list = ['']*numRows\n",
    "        counter = 0\n",
    "        forward, backward = True, False\n",
    "        for i in s:\n",
    "            all_list[counter] =  all_list[counter] + i\n",
    "            if forward:\n",
    "                if (counter < numRows-1):\n",
    "                    counter+=1\n",
    "                else:\n",
    "                    forward, backward = False, True\n",
    "                    counter-=1\n",
    "            else:\n",
    "                if (counter>0): \n",
    "                    counter-=1\n",
    "                else:\n",
    "                    forward, backward = True, False\n",
    "                    counter+=1\n",
    "\n",
    "        return \"\".join(all_list)"
   ]
  },
  {
   "cell_type": "code",
   "execution_count": 164,
   "metadata": {},
   "outputs": [
    {
     "data": {
      "text/plain": [
       "'ACBD'"
      ]
     },
     "execution_count": 164,
     "metadata": {},
     "output_type": "execute_result"
    }
   ],
   "source": [
    "Solution().convert(\"ABCD\", 2)"
   ]
  }
 ],
 "metadata": {
  "kernelspec": {
   "display_name": "Python 3.8.8 ('base')",
   "language": "python",
   "name": "python3"
  },
  "language_info": {
   "codemirror_mode": {
    "name": "ipython",
    "version": 3
   },
   "file_extension": ".py",
   "mimetype": "text/x-python",
   "name": "python",
   "nbconvert_exporter": "python",
   "pygments_lexer": "ipython3",
   "version": "3.8.8"
  },
  "orig_nbformat": 4,
  "vscode": {
   "interpreter": {
    "hash": "ad2bdc8ecc057115af97d19610ffacc2b4e99fae6737bb82f5d7fb13d2f2c186"
   }
  }
 },
 "nbformat": 4,
 "nbformat_minor": 2
}
